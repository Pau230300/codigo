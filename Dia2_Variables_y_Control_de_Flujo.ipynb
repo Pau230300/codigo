{
  "cells": [
    {
      "cell_type": "markdown",
      "metadata": {
        "id": "FBYz4NeKdq58"
      },
      "source": [
        "# Módulo de nivelación: Python"
      ]
    },
    {
      "cell_type": "markdown",
      "metadata": {
        "id": "Pj1xon5Odq6B"
      },
      "source": [
        "Anaconda es un proyecto de código abierto cuyo objetivo es crear herramientas para los Data Scientists. Se enfocan especialmente en Python y R. Funciona en Windows, Linux, macOS."
      ]
    },
    {
      "cell_type": "markdown",
      "metadata": {
        "id": "tqSSo5mUdq6B"
      },
      "source": [
        "https://www.anaconda.com/"
      ]
    },
    {
      "cell_type": "markdown",
      "metadata": {
        "id": "ktpjc-Ibdq6C"
      },
      "source": [
        "Particularmente en este caso estamos usando Jupyter Notebook, una herramienta muy común en el mundo de la Inteligencia Artificial y muy intuitiva. A lo largo de la clase iremos viendo cómo sacarle el máximo partido."
      ]
    },
    {
      "cell_type": "markdown",
      "metadata": {
        "id": "90aHb7tTdq6C"
      },
      "source": [
        "https://jupyter.org/"
      ]
    },
    {
      "cell_type": "markdown",
      "metadata": {
        "id": "IX3_TEjMdq6D"
      },
      "source": [
        "Tutoriales de Jupyter Notebook: <br>\n",
        "* [Getting started with Jupyter Notebooks](https://medium.com/codingthesmartway-com-blog/getting-started-with-jupyter-notebook-for-python-4e7082bd5d46)\n",
        "* [Create your own Jupyter server](https://realpython.com/jupyter-notebook-introduction/#:~:text=Starting%20the%20Jupyter%20Notebook%20Server,-Now%20that%20you&text=To%20get%20started%2C%20all%20you,that%20is%20easy%20to%20remember.)\n",
        "* [Markdown guide](https://medium.com/analytics-vidhya/the-ultimate-markdown-guide-for-jupyter-notebook-d5e5abf728fd)"
      ]
    },
    {
      "cell_type": "markdown",
      "metadata": {
        "id": "QSG7bq5Bdq6D"
      },
      "source": [
        "## 1. Conceptos basicos"
      ]
    },
    {
      "cell_type": "markdown",
      "metadata": {
        "id": "r3h7YBj4dq6E"
      },
      "source": [
        "### 1.1. Variables"
      ]
    },
    {
      "cell_type": "markdown",
      "metadata": {
        "id": "v0bKmT_Wdq6E"
      },
      "source": [
        "Una variable es un campo al que se le asigna un valor. Este valor puede tener diferentes tipos que veremos a continuación. Principalmente nos enfocaremos en las de tipo texto o númericas."
      ]
    },
    {
      "cell_type": "code",
      "execution_count": null,
      "metadata": {
        "id": "9VpHwPZ1dq6E"
      },
      "outputs": [],
      "source": [
        "numero_entero = 10"
      ]
    },
    {
      "cell_type": "code",
      "execution_count": null,
      "metadata": {
        "id": "pFwAH_Opdq6G"
      },
      "outputs": [],
      "source": [
        "decimal = 0.5"
      ]
    },
    {
      "cell_type": "code",
      "execution_count": null,
      "metadata": {
        "id": "RnAVN2nZdq6G"
      },
      "outputs": [],
      "source": [
        "texto = 'Hola mundo'"
      ]
    },
    {
      "cell_type": "markdown",
      "metadata": {
        "id": "otVrM74zrOls"
      },
      "source": [
        "Una vez definida una variable, para poder ver su valor debemos imprimirla por pantalla utlizando la función `print` junto al nombre de la variable entre paréntesis."
      ]
    },
    {
      "cell_type": "code",
      "execution_count": null,
      "metadata": {
        "id": "SadBuJeydq6G"
      },
      "outputs": [],
      "source": [
        "print(texto)"
      ]
    },
    {
      "cell_type": "code",
      "execution_count": null,
      "metadata": {
        "id": "kqpBGm1Edq6H"
      },
      "outputs": [],
      "source": [
        "print(decimal)"
      ]
    },
    {
      "cell_type": "markdown",
      "metadata": {
        "id": "epwl_jAXrOlt"
      },
      "source": [
        "En python al igual que en otros lenguajes, se pueden añadir lineas con comentarios acerca del código (por ejemplo para explicar las partes más complejas) para ello añadir primero una `#` y a continuación el texto con el comentario."
      ]
    },
    {
      "cell_type": "code",
      "execution_count": null,
      "metadata": {
        "id": "MXC5dIQudq6H"
      },
      "outputs": [],
      "source": [
        "# Todo lo que esta escrito despues del hashtag no afectara a la ejecución\n",
        "print(numero_entero)"
      ]
    },
    {
      "cell_type": "markdown",
      "metadata": {
        "id": "ZOHyExR2rOlu"
      },
      "source": [
        "Es importante añadir la `#`, de lo contrario nos encontriamos un error:"
      ]
    },
    {
      "cell_type": "code",
      "execution_count": null,
      "metadata": {
        "id": "-o879Ofhdq6H"
      },
      "outputs": [],
      "source": [
        "Ejecutar esta celda sin comentario para ver el error"
      ]
    },
    {
      "cell_type": "markdown",
      "metadata": {
        "id": "_nMt1naFrOlv"
      },
      "source": [
        "Los errores en python se muestran con el fondo rojo. Y por regla general suelen ser bastante intuitivo. En este caso es un `SyntaxError` ya que la estructura de nuestro codigo no era correcta"
      ]
    },
    {
      "cell_type": "markdown",
      "metadata": {
        "id": "xB1TGKK7rOlv"
      },
      "source": [
        "**Conjunto de convenciones**"
      ]
    },
    {
      "cell_type": "markdown",
      "metadata": {
        "id": "76Lq9-mfdq6I"
      },
      "source": [
        "Python sigue un conjunto de convenciones para que los programadores compartan las mismas reglas y así facilitar la lectura del código y por lo tanto su desarrollo. <br>\n",
        "Para nombrar una variable se espera que este escrita con letras en minúsculas y las palabras estén separadas por guiones bajos. Pueden contener tanto números como letras, las únicas excepciones es que no pueden empezar por número ni reemplazar las palabras reservadas de Python."
      ]
    },
    {
      "cell_type": "markdown",
      "metadata": {
        "id": "Qwyhz0wYdq6I"
      },
      "source": [
        "Todas estas mejores practicas estan recogidas en el articulo \"PEP8\" de la documentación de Python: https://www.python.org/dev/peps/pep-0008/#function-and-variable-names (recomendada su lectura antes de seguir con el notebook)"
      ]
    },
    {
      "cell_type": "markdown",
      "metadata": {
        "id": "qAwadguQdq6I"
      },
      "source": [
        "<font color='green'> Ejercicio:"
      ]
    },
    {
      "cell_type": "code",
      "execution_count": null,
      "metadata": {
        "id": "l8KM-rZGdq6J"
      },
      "outputs": [],
      "source": [
        "# Crear una variable que contenga un número decimal\n"
      ]
    },
    {
      "cell_type": "code",
      "execution_count": null,
      "metadata": {
        "id": "1hdHc-hAdq6J"
      },
      "outputs": [],
      "source": [
        "# Crear una variable que contenga un número entero\n"
      ]
    },
    {
      "cell_type": "code",
      "source": [
        "# Crear una variable que contenga un dato de tipo string\n"
      ],
      "metadata": {
        "id": "Tsmzvb4BL0Xw"
      },
      "execution_count": null,
      "outputs": []
    },
    {
      "cell_type": "code",
      "execution_count": null,
      "metadata": {
        "id": "56kLkVJ0dq6K"
      },
      "outputs": [],
      "source": [
        "# Imprime las 3 variables por separado\n"
      ]
    },
    {
      "cell_type": "markdown",
      "metadata": {
        "id": "25T2Hbqpdq6K"
      },
      "source": [
        "**Palabras reservadas por Python:**\n",
        "\n",
        "Python tiene una serie de palabras reservadas las cuales no se deben utilizar para darle nombre a nuestras variables, ya que perderiamos la capacidad de usar estas funciones. Por ejemplo si creamos una variable con el nombre `print` dejariamos de poder utilizar esa función para imprimir por pantalla!"
      ]
    },
    {
      "cell_type": "code",
      "execution_count": null,
      "metadata": {
        "id": "c-XVQMVEdq6K"
      },
      "outputs": [],
      "source": [
        "from keyword import kwlist\n",
        "print(kwlist)"
      ]
    },
    {
      "cell_type": "markdown",
      "metadata": {
        "id": "uGnUcAwgdq6K"
      },
      "source": [
        "_____"
      ]
    },
    {
      "cell_type": "markdown",
      "metadata": {
        "id": "Nw_NvZ0adq6L"
      },
      "source": [
        "##### __Tipos de variables__\n",
        "* Enteros: **int**\n",
        "* Decimales: **float**\n",
        "* Texto: **str**\n",
        "* Booleanos: **bool**\n",
        "* Nulos: **None**\n",
        "* Tuplas: **tuple**\n",
        "* Listas: **list**\n",
        "* Diccionarios: **dict**"
      ]
    },
    {
      "cell_type": "markdown",
      "metadata": {
        "id": "UePntWykdq6L"
      },
      "source": [
        "El tipo de variabe puede comprobarse mediante el uso de la función `type()`"
      ]
    },
    {
      "cell_type": "code",
      "execution_count": null,
      "metadata": {
        "id": "WjAFqvDGdq6L"
      },
      "outputs": [],
      "source": [
        "type(texto)"
      ]
    },
    {
      "cell_type": "code",
      "execution_count": null,
      "metadata": {
        "id": "hCzTA2V8dq6M"
      },
      "outputs": [],
      "source": [
        "type(decimal)"
      ]
    },
    {
      "cell_type": "code",
      "execution_count": null,
      "metadata": {
        "id": "4kuw13ZFdq6M"
      },
      "outputs": [],
      "source": [
        "type(numero_entero)"
      ]
    },
    {
      "cell_type": "code",
      "execution_count": null,
      "metadata": {
        "id": "e2yWyrYddq6M"
      },
      "outputs": [],
      "source": [
        "type(True)"
      ]
    },
    {
      "cell_type": "code",
      "execution_count": null,
      "metadata": {
        "id": "7r58bNHpdq6N"
      },
      "outputs": [],
      "source": [
        "type(None)"
      ]
    },
    {
      "cell_type": "markdown",
      "metadata": {
        "id": "voAebnQadq6N"
      },
      "source": [
        "Se puede cambiar el tipo de variable de la siguiente forma *(casting)*, utilizando los tipos de variables como si fueran una \"funcion\":"
      ]
    },
    {
      "cell_type": "code",
      "source": [
        "type('9')"
      ],
      "metadata": {
        "id": "vNaRcGUVPXNy"
      },
      "execution_count": null,
      "outputs": []
    },
    {
      "cell_type": "code",
      "source": [
        "'9'"
      ],
      "metadata": {
        "id": "LgiwWGh9PrVk"
      },
      "execution_count": null,
      "outputs": []
    },
    {
      "cell_type": "code",
      "execution_count": null,
      "metadata": {
        "id": "-QpLIAD0dq6O"
      },
      "outputs": [],
      "source": [
        "type(int('9'))"
      ]
    },
    {
      "cell_type": "code",
      "execution_count": null,
      "metadata": {
        "id": "Dp1qY91ydq6O"
      },
      "outputs": [],
      "source": [
        "int(9.6)"
      ]
    },
    {
      "cell_type": "markdown",
      "metadata": {
        "id": "vrFDdOx4rOl3"
      },
      "source": [
        "Como podemos comprobar convertir un numero decimal en entero, no redondea automaticamente si no que trunca hacia el numero entero."
      ]
    },
    {
      "cell_type": "code",
      "execution_count": null,
      "metadata": {
        "id": "IiSDu8yndq6P"
      },
      "outputs": [],
      "source": [
        "float(1)"
      ]
    },
    {
      "cell_type": "code",
      "execution_count": null,
      "metadata": {
        "id": "o9TOULTHdq6P"
      },
      "outputs": [],
      "source": [
        "int('9')"
      ]
    },
    {
      "cell_type": "markdown",
      "metadata": {
        "id": "julghvBWrOl3"
      },
      "source": [
        "Python de manera fácil y al contrario que en otros lenguajes, nos permite cambiar entre numero entero y numero como texto (string)"
      ]
    },
    {
      "cell_type": "code",
      "execution_count": null,
      "metadata": {
        "id": "8rjoVP-Kdq6P"
      },
      "outputs": [],
      "source": [
        "str(999)"
      ]
    },
    {
      "cell_type": "markdown",
      "source": [
        "<font color='green'> Ejercicio:"
      ],
      "metadata": {
        "id": "yH5K8iYza8tc"
      }
    },
    {
      "cell_type": "code",
      "source": [
        "# convertir una variable de tipo float a int\n"
      ],
      "metadata": {
        "id": "7_Vm6IqmQsVT"
      },
      "execution_count": null,
      "outputs": []
    },
    {
      "cell_type": "code",
      "source": [
        "# convertir una variable de tipo string a float\n"
      ],
      "metadata": {
        "id": "dK4DaOGCaqja"
      },
      "execution_count": null,
      "outputs": []
    },
    {
      "cell_type": "markdown",
      "metadata": {
        "id": "6APvNlsxdq6Q"
      },
      "source": [
        "___"
      ]
    },
    {
      "cell_type": "markdown",
      "metadata": {
        "id": "GRlzj1_HrOl4"
      },
      "source": [
        "### 1.2. Operadores"
      ]
    },
    {
      "cell_type": "markdown",
      "metadata": {
        "id": "63GRMVPsrOl4"
      },
      "source": [
        "Los operadores son un conjunto de símbolos que le indican a python que realice una operación específica."
      ]
    },
    {
      "cell_type": "markdown",
      "metadata": {
        "id": "nAGjBi28rOl4"
      },
      "source": [
        "<b> Operadores Aritméticos <b>"
      ]
    },
    {
      "cell_type": "markdown",
      "metadata": {
        "id": "JrEB5W5irOl4"
      },
      "source": [
        "Los operadores aritméticos devuelven como resultado un int/float/string segun el tipo de valor con el que estemos operando."
      ]
    },
    {
      "cell_type": "markdown",
      "metadata": {
        "id": "hjsS_cP5rOl5"
      },
      "source": [
        "* Suma: **` + `**"
      ]
    },
    {
      "cell_type": "code",
      "execution_count": null,
      "metadata": {
        "id": "ul0LM6fRrOl5"
      },
      "outputs": [],
      "source": [
        "# suma de números decimales\n",
        "0.9 + 9.1"
      ]
    },
    {
      "cell_type": "code",
      "execution_count": null,
      "metadata": {
        "id": "m06qbrpDrOl5"
      },
      "outputs": [],
      "source": [
        "# suma de números entero y decimal\n",
        "0.9 + 9"
      ]
    },
    {
      "cell_type": "code",
      "execution_count": null,
      "metadata": {
        "id": "kWvyiO33rOl6"
      },
      "outputs": [],
      "source": [
        "# suma de textos\n",
        "'aaa' + 'bbb'"
      ]
    },
    {
      "cell_type": "markdown",
      "metadata": {
        "id": "cXIca-1FrOl6"
      },
      "source": [
        "Como podemos ver python permite no solo la suma de numeros enteros o decimales, si no que tambien nos permite juntar (sumar) texto de forma directa."
      ]
    },
    {
      "cell_type": "code",
      "execution_count": null,
      "metadata": {
        "id": "rUXtO5cyrOl6"
      },
      "outputs": [],
      "source": [
        "'python' + 9"
      ]
    },
    {
      "cell_type": "markdown",
      "metadata": {
        "id": "gN5sYliXrOl6"
      },
      "source": [
        "Aunque python es bastante flexible, no todas las operaciones están permitidas. En este caso, no podemos sumar un string con un numero. Pero podemos convertir el numero a string para poder realizar esta operación:"
      ]
    },
    {
      "cell_type": "code",
      "execution_count": null,
      "metadata": {
        "id": "PyNnqYk6rOl7"
      },
      "outputs": [],
      "source": [
        "'python ' + str(9)"
      ]
    },
    {
      "cell_type": "markdown",
      "metadata": {
        "id": "HWGjyldirOl7"
      },
      "source": [
        "* Resta: **` -  `**"
      ]
    },
    {
      "cell_type": "code",
      "execution_count": null,
      "metadata": {
        "id": "IqcxTm4edq6S"
      },
      "outputs": [],
      "source": [
        "# resta de números\n",
        "4 - 2"
      ]
    },
    {
      "cell_type": "code",
      "execution_count": null,
      "metadata": {
        "id": "ntby20IFdq6S"
      },
      "outputs": [],
      "source": [
        "# resta de strings\n",
        "'aaa' - 'a'"
      ]
    },
    {
      "cell_type": "markdown",
      "metadata": {
        "id": "j7zd5Yc1rOl8"
      },
      "source": [
        "Al contrario que con la suma, python no permite \"restar\" dos strings"
      ]
    },
    {
      "cell_type": "markdown",
      "metadata": {
        "id": "1oJiMjy4dq6T"
      },
      "source": [
        "* Mutiplicación: **` *  `**"
      ]
    },
    {
      "cell_type": "code",
      "execution_count": null,
      "metadata": {
        "id": "JFfb0x_0dq6T"
      },
      "outputs": [],
      "source": [
        "9 * 9"
      ]
    },
    {
      "cell_type": "code",
      "execution_count": null,
      "metadata": {
        "id": "RVCno2wqdq6T"
      },
      "outputs": [],
      "source": [
        "5 * 'a'"
      ]
    },
    {
      "cell_type": "markdown",
      "metadata": {
        "id": "rvtA2ELUrOl8"
      },
      "source": [
        "Python nos permite multiplicar un texto las veces que queramos! Es posible multiplicar dos letras?"
      ]
    },
    {
      "cell_type": "code",
      "execution_count": null,
      "metadata": {
        "id": "YXODNY1trOl9"
      },
      "outputs": [],
      "source": [
        "9.1 * 'a'"
      ]
    },
    {
      "cell_type": "markdown",
      "metadata": {
        "id": "J7rMD4tlrOl9"
      },
      "source": [
        "Recordatorio:"
      ]
    },
    {
      "cell_type": "markdown",
      "metadata": {
        "id": "eq6x4IbLrOl9"
      },
      "source": [
        "![division.png](data:image/png;base64,iVBORw0KGgoAAAANSUhEUgAAAacAAAGBCAYAAADCGn6zAAAgAElEQVR4AeydBZxV1fbH79x7p7thBhhgGEBaLPDZit2K+uwuFDFB7Hg+wf+zEDAxECxAkBJEwAAUlRAZQDqn43bf7/+z9rlnAlAUcHDw3PmcOb1j7bX2b6/Y+5jYi19FRQXz5n/FW2Pe5pn/DuOhhx9VmxzLNbknzxg/gwIGBQwKGBTY/xRwOBys+XUtCxd9x+ezZvPZZ1PVJsdyTe7JMwfqtz/KZzpQhTfyNShgUMCggEEBgwK/RQEDnH6LMsZ1gwIGBQwKGBQ4YBQ4qMEpDIQA2Wv/g4BsIXWt/p7c1p76My2x6xtyRd/qU5Irkpds6qc/ovIMo/+pd/V7+rN/xV7yUCWVnIOEFT3keOefRqudrxrnBgV2RwHhFsXSoQCE/IqvdYkjHISgB3wu/G4vHh+4gvK8FwK1hP21OD1BbH5whsGnpMUHYR8EwxD0Imn4gIDKPKzyCMkuLLcC4HPi93pwekPYgxBQ7Cv5aqnJe+rdcAjCAZWe4nl1rgpTJ6d1fYNUSN2Xd8KqfpKsktWQD2QLiwRJ2po0qVekzCHtHfWSnk4oCLJJmuotTerk/67ytzsq/3OuHdTgJM3v10FBMZgX8Kir0iULo8ozGlIJE/459tj1abmiM109E8lVKYcIlvqpRyLMS4ggIQIKICLMrAqlP/wX7KWqqtoC0j7CaB2Jqo92I0ILoZeU3PgZFPh9CgjbuEIRQAi4IeAgRAg3IFxE0A2OUmp/Xc6yhT+weOlmVpVBMFCJt2oZm4rn8fXiVXyz2skGL9SEvYSohnAtIU8YXBUQcFMbkWAFdgEn3hD4JV+Pk/Jfl7Bk8SK++WkNS3aAWzL2usFnxx8GuyQjZRFgCrjA71a4R9AvCSgQDChgBJ/gocih/Av4IOBXx3Kq6qPA1gb+WsJBP75wGFc4hC8cUpikxCbgJ+j3EQwGCStQCiiglHw1UJMeSBsU1oH475P5H3X3oAcnrfkVR0bgQetwpVsWhqjrkIUR1ckfb/9dH5crCnkaJSJXpYuv6+YV02uPCmsKMPkj2osGlI1e3/8nUiAFUI3BSeUduacBdf04df8XwkjxYKKAsI0M+1SH7ndo4BQOKTCQ6wJO/pK1jHr8AXp27ELnnifx7JgvqKnZzoafP+emy04kv21XDjvlKqZ+vwG7AqcaCNo1Y0fAqTp0m4CgUoY84HcqEBFwqi7dystP3Ev3zkW0796HZ96eQ2mFAJAXfDYCIQ2YNHAS7cWjNC+lSUmhRfOKaGHqVClXkpFsAiohJdr+IHgEEP0CaE7w25RWJwNM6Vk8obCmsUnnIuAUlIGn1rUEAgFNwwuKtqVpbnJHaKd3CQcTT+xrXQ5qcNIbXfbaT9hEIEIUcI0p1D35V/+Q/vAe97u+oifU+I6cSc5KECRVHb8Uvws4abqLXK7j1D3mvg8P1BVPwMlbpzmpvPUqqOSFVpoRYx9yM179B1BA2EY6bbFkidZEwI4/GMAeAQW8TlxbVvHUndfTKjObrDa9GTryc6ptlaxfPpub+h9Hu4LO/KvfFSxcWYrD7yQQrCYYcOJTIuslHPAh8Wei3SgzX9CjTIDuADirShn5xN306tKRjocew3/e+oLqWr+mObmq8PoDSosTTU7MfMrEGApoGlKE53XLmwZEAkoCQPKsmCnD6rJoYKKtCdip+0EXhFyEwz7Vs7jDKC0tKGY9nw8BM9EopQo+ZWoMaVqUaF6qI5DMm0bsmxsbHtTgVNfqda0ijNAAGRogksYidQ/u9wMt14g9TS+CmA4aaFVyuWnBSXLXNElFl4iQ1pNF7stm/AwK/D4FhHVEz1bmK181+Gpwut2UOIOU2H04qsqpWb+CJ++4jrz0DDLbHM79o+ZRYavFtm0pi6eP4a2RbzD+oy9Zs8WBzVWNw7GDmppKalyCJ0FCYjoTcPJ5CblteBy1bKkNUO3y47VVUDxvIh+PHcOodycwc1kVDnFeKc2pBpvNTqXLT5ndi6O2Gq+tCp/LiSMAYjUUM16djyokfjAXQUclfkc1Limjw4nd5afWFcAj7i3BK1G4vHaCngp8ripsDhdVnhAVLi+1LheeWht2d5DaIMoHpkuaX4BLuRDqex1d9H6fyv+suwc5OAkTaEq1NL50/ho7yH9xSmodr5xpT/3ZxtdT1dKVs4ablpoOSxFDovi+lBdXe1jyFaGWrenBSXIXo4uYGTSzhU4krWZSZlWqP0sY4/l/IAWUDInvxleFv3Y73y5axP9eH8tLb41n2uRJrFo4h2cG3UjLtFTS2hzG3aO+pdTmonrLUuZ+8CJvvDCS98dOY/W6Cn748RvGvjeKt8a8xcy5q6iu9aphksgJPgcbVy5hzFtv8sJ7U/ji2x9wlG/hl1ljee/1EYwY85ECp+paH6KxYS+leOUvfDDpM156bQyvj3qFd14fxeczZrC5wq3Aw6XASex6Xs2PVLONzcU/MfGD9xj5ygheHjmaDz6ZzOp1m3G43HjEvCfWwbCf7Rt+ZOonYxj58mjmLPqZuT/9zOtj3+XNEaOYPH0uG2uCVIt2FxkKigYl8tXwp/cbDa/9048PKnAKS9SMsitEmlWAKeQk5Pcox6eMkESAQgoc/BGnpAQkgDCn2K4lDdl2/u2atgybpFPXonyUFi9qu+QhGpEaHAmza5FLKupIIpPkHRmiyUMR56uYGgQipGxaZJI2spK6KGdqpEz6sVzXy6nv9XrLXr+/cx30cxUbEpY0JAJKzBLiDJZyapgdCIDbH1IRU/5woFFeetp6fpK/Xi45Nn7/XAp4xPnvqaFq43JGPfcYx514Eultu5JR0JVDe3TnynNO5srTjiYrKU6B06DRiyi1u1m37Etuu/BfdMprw4nHnceixauYP286Z5zal/bt2nJe/ztZvakSu4iOyGjNVsa8/CydDulKepfj+N+r7+Is28ibD13PEV3aUdi9D0+/9QVV1V5s2zbx6Vsvc/GF59Gu0yFk5LWhbes82rZqyWGHH8FtDzzJtys2UeMTP1KAsKuKinXLGT9qGP3POpnORe3JyW1Jdot8ld+FF1/EmHdeZ+MOD1VuMdcF+WnBBC47+2jatWzL6f1v5ORLr6JlUSFts/M4/exLWbByKzUR86ZoTwY4/TEZOWjASe8k9c5Tddp+cYhWYassYVtJGas3l1HtCigm9DlqqN2xmZKtm9lRUUW5V7Mly/viuNQ7XDnXj1WaOgCGgoQ8DmxV5WzZvJltO0opq7bj9IdxSWCPKEbSWStwEru1E7+7WkUIOcorKNtawvbtZZTbXWpEJaMqsUuHxfEaCBEQQWkASuKA9fl8qmxyXcol5w3Lptddv6fy3w0fSLHC4QABcVwHHQQ9NmwVFZRsLmPb5gqqqj3K1OEWJ284oPKSfPT09XI13Ot57iY749I/ggLik/FSXbqO90c+zSFtMkhKyyAqvQ1pBd1pnd+KwqxEChJNpMZEkdnuMAaNXqg0p+LFM7n8lO6kW+M5tOfxfLNgBWtW/0T/C04kLSmOdoV9mPzlT1RL5HbAT+Wqhdx+xXnEJKaS3O1kPp75FZ7yjYy460LaZyWQnt+RoSM+o6zMwYKZn3HaEZ1JS4wjJSOL3NZtKWjVkpyMNFJSM0nMP4RHn3+DHbUevB4XvqqtjHvlvxxamENqgpXk1FSy89qQ16YtGemppCXHcuRRXXllzDS21GiDyp++Hce5x3Yi0RRHdHZnTLkFmNKTaZmUybnnXc7iNduxhVE+L9H81CB4J54wNKedCAIcNOCkd57SScqxbEjn69zCs08+RJ9jjufwE85i7MfTqK6qpXrHFm654mKO7N2D08+9gG9XbqLGpXX2Opn0tPS9pKkDg9i9wx47w55+giOPOJzDjzqaDyZ+RqXDp0x0moYW0a4kbDUkQGAj7Krlvjvu4LAevTnuhFOZ9c0iqvwhbBLlIxmLVhcMEZItoiE1zF8HTr0sUh45lmd2Biu9HjvvxVEdFA1OaUx2asq2MvqFFzmqZx/6nXg2r7/xPnZ/EDtBXCF/HVjr+dTRIBBQ9yRvvaw752Wc/1MoECYcdLJ0wQyuPqcvOQkmMnJbcv71g5g0bylz585j6B3X0zLaRHyUifQ23bl39FeU2+wU/zCDf/frTkp0Ij0PPZkFi9fgdOxg2FODyM9KIDmhBUOfG8OWWm1AuGz6O5zQqz2WxHQO638336/agmvHr4y+63zaZ8aR1bozD748ha3bKnl/5AsUpprJy0rljrsG8fV3i1n602L++/RTtCooJLPoCIb892W2loufzMUvi2bTv99RpMWYyM7N4fZ7BjN7wQ98s2gR9w28mVYZVuJjTfQ55VrmLXOq8PSl37zN+f9qS7IpDpM1n7iinhx/8XncfuWNjH13AmUuzTIjwCQyLlaVegeAxh8GOO0qJwclOOmdJ3472NYy8NZrSMtpSUr+Ifxv5HtUVNTgKNvOOccfSesWWXTs3ouvV23D5tU6Wb3j10FB3+uds+yVRuR3cc+dt5Gf15KsFvkaODnrwUnKIZMRJeSVgE1NNhR7+eXnn09aYip5+e2Z+PmXVPhD2HW/k1/CVmVeRL3Gpnf+km/DMsixXlfRrOQ5HbzkWOW/a5sTDMtzHkISVRW0U1u6lacffpi02DRatSjkv8NGKDNnddCHh/o89XLoeehlkXz0a7vJzrj0j6BAmICvhrlT36Nvx3QyYkwcd/KpzFmygS1OqKyq4eeFX3BWn06kx5vIadeNIaNmUWmroviHqVxyancSYlM4pNcpfPvTenz+KhZ8+QHHHtqOeFMMp1w2gAWrthFwVDJq8NV0zLSSkNWKIW/PZUNNEH/ZOt4YdA5F2XFkturEIyOnsXVrJSOefoSO6RZS4yx069GDAXffy5zZM5g1cwYfTpzKJ/N+pnhrFU6vh4CjnFeHP0y3ggyS481ceu1NLFi5ke3OMLV2G6sWf8m15x1NYpyJpLy+PPLyHGqAFYve4qKjW5FuSiC25WFc8/hwvl5XTNm6bdSU21Xou0T5iTUlIJYR5QqQM7Gj14eSG97dxoJy0ICTdI4ejwe3243T6cRut+OtLQHXOgbccDkJaVnE5hTx/Kvjqa5yYN+xheFDB3HztVdwz9BHWLihkjKbWy2WKIsWSjqSnm5O83q9yCZpy32nvRa8dt5981Wuu/Yabrjldj6f9y2VTr8W/ya4FAoS9DhVJJHPtoOAfQd4bZx3aj8SoxPIymnNhJlfUuYLIfM3VFBEIEjQ7cZms2n5OJ2qHLpJTwBBjvWySHnk2OVyqef196T88uzOPwESl8eN01WL21GBx1ZCxZb1PHjXIBLNibTILOCZZ0eoqKhaNYkypGig01bqLnno+TbU1gS8jN8/lQIhQv5qPnjzWbq0MJNqMXHDrXfwa2WI8pBMiA1QuamYe645l7Ytkskp6MRDI6dSbSul+McpXHxaT2Li0ik69DS+XrYZb6Ca6u0/MPiWC0kxmcjtdiJvfDqX2u3ruLBnJm0STHQ+7Bg+KfZQIr6o8nW8dddZdMzWNKdHRk5nx44a5kwYx3GdW5IebyEmNpbkjCwK27XmsN6H8ujTw3lj8res2lKO01GLt2Yrt19xNnlpYs5LZOT4T/m1FiolkMHnwbFlOR++NJjkeBOmpJ6cdf1LVAG/LHqN/ke3JMuUSPYh/Rj9xUJKBHicWgy5LxBSkYZhmaAroekyYDXmOe1RUA4ScAqrEFaPx826deuYNm0aU6ZMYcnCL6HyF267/jKSMnKxZHXgudHjqaywE6qtZNnc6cyY/AlT58xnvRuWFK/l85kz+XTyZIpXrcblctdpI4GAnx3bt6v7sgLw998txFdbxi9LFjNj2lQmTp7Kms0lavkVt/BkGJwOB6tWLGX2ZxOYPWU8xT/OJ2Qvp/+ZZ5Icl0RmbhvGTfmcUlluJQJOPreXdcXFfDZlChMnTuTzzz9n65YtdSY7CeYQIBY/1+czZ6i6rl69Gpvdznfffce0aVOZNnUqy5cvx+3xNIgK0oIsAn4/q9YUM2vWNKZ/9jFLv5/HtrUreeKBwSSaE2iZ3Z5nhr2izBXabPwwoWBQAdKSJUuYPHkykyZNYvbs2YrW4kSWiYa6BrdHjjMeODgpEA7hd5fx9ohH6ZRtIi3axC13DGJ9DVRKsFEQarb9yjP330BeZiy5BUU8OvJTam3bKf5xMhed1gtrfBaFh53FvKVbcAeqwLOOeRNepiDBgqVFN24eOpx5Uz7gyDQTHVJNXHnbvcyv1NL3lazmrbvOpENmNBn5HZVZr7TMTs2mNbz5n8Ec0b0jcXGxmGNiiY2OIibaijkulcSCw3jgsWfYtnktth2ruan/qWQnRZGYlsrb079Sq1WUK43HC1Wr+fytx8hMFXDqxUmXD6ciDD8vGMml/2pBrimFDn0v5f3Fxcg7upNJ+g5ZKULNixJgUksxRSbiRjQnGUbuOpQ8OFnlj9aqGYKT6BheTTsRA65s7hr85Sv5ZPzLHH/yUbQubE/Hth05qmdPhg65nXNOPoaUlGzM2d147O0pbLM58FSs5+pTjuaQNu059OjT+XL1NmZNHM9JhxeR3qk1F93yMCs32wmGfUoL99VsZsqY/3B4QREdex3HkJdG4/Lv4Kl7b+Gwdq0pKuzI25O+oEIiGzxg37qG99/8D8ce25nCgva0at2JPn1PYPhTD3Nsn+7ExFtIzGvL+5/No9YZxi/ayPa1vP/qc5zZ7ygK2ueQ16YlHYqKOPe005g2bSY7bD7F9KGwjzmTxnBCtzw6d+rKnfc+zKAHHuGIw4+kc6tMurRO56i+R/La1AWscaMmQuKvwbd9FZPfe4NzTjqezp3b07KwDb36nMyguwZy3b8vIMlsIjOrCw/9901lrlCz8Z21bFq6iEfuGcTRR/amXYc8Whak0q6oLWec2Z9XR01jW6k2/8SJhPsa2tMfFb6D6jkJAfVUMe71/1GUn0a81cT1N97M5rJaZLDm9fkp3bKeO6+/lJYpFlq26sxDI+ZSVlvCyp8mcOmpnciKyaZ7jwv48ocySkNOfGxj7fJpXNC7G+nJCRzR92huuO42UhJacEi3Yxn93jR2eCSk24m7spjnhlxNu+x4cloW8Mirn7Gpyo/b5aNyy3rmTp/M6Bf/j0svvpCunTqSn5tDUnw8sTGx5B1yBG9MmEVldTV33Xg5+SkW0uItvPHeB2yp9auBo5jxvTuKGfPCw5hSErCkd+LKqx8Ar5+l89/jjOOLiI6N5dBTrmHmTyVqsrCajCz9hxaBVD+3SWgVMenpPGD4nHRK1O+bGThJE9YQxqPNzhFgkhC36i18/t6zHHtUOxIzYknMyqFtfju6dCiiQ5fWtMtKJik2BWtuT4aM+YwtTifO0mLO6l5IqiWRvA5HMnPFBlYvnMO1Zx+FKcVETs8z+HDWMvyCfkEoWfUNA/sfQStrOoW9T+OVGXNxhnbwwPUX0SY6iuTYVF4eN53tteAqc/D+i0/Qp0cuqWkm0tJb0LJNN9p16E6Pjm3ISbcSnWAhPr8DY6d+RVW1G2/JVsY+/xj/6lFAekoULVol06pdPrktW5CVEM8xx5zEax9MZZ3MDwy5mTH2f3RLMxEXl0yL9j3Ibd+Voo6d6JgdS36sibiYaLqdcxMTf65WwhUsXc2XY1/kuB4dyI5PJCM3kxadCmlReDgd2relXW4C8SYTyZndGfrcOAWCrlCA5Yu/4cYLT6N1ejrZ6WnktcmhTVE6mbnJZGa1pkO7kxj52gxW77BRS0CtdlHPXsbRP4YCEkFqL+erGZM4okdnEmKjOfa445n/zUKqah3U1NayeOE3HHdkLzJjTbQu6M5Dr3xDSW0pK378iH/3KyQ7Ko1eXS9gzvcV7CCAk1KqdvzA8FtvoH1WHOkpCeS16oopoRPHn3kr360owSUaCTXYK3/hkfuupSBHning4VETKN7uZP63ixn/ztsMe3woH779OsXLlvDt/Pm8MWoUvQ7pTJLFRFKrLjz44lhqXH5e/O9jdGuTQXqMiUsu+zeLlhZT7gjgtNtYuXA2F55xDKbULDLb9uT9MRPA4WTZV59wyoldMSXF0O24S/hycZmKdg0FqyPq0z+GC/ZrRZsZOIn/0Ek45NM0ZhmA+H24Ni3nkpN6kJFsJiYlmZPPu4TXX3uLMW+M4vwLT6Z1soUkSzwJeb0Y8sYktthrcZWu5Kzu7evAacaKjVRtXM1rT9+FNc2EKbMzg4e9gyMgEUIu5k16naPax5FubcGZV9zNom0VuCnngesvpo3VTFJMFi+Nm87GajfLFn/NGUcdQma8iYSkJC645ApGv/WumlB47kl9yEmOJjo2joRWh/DBzG8or67hp6+mc9Kh7cmIM5GTk8lDj93LW2PfYvCQIRTkZJOQkMpxZ1/G3LUVeHx2pr/3P7qmmoiJSSQqJY/jzrmEsR9+yLAht/OvwizioqKILujL/SOnUBuAql8Xc3v/E5S5JT01l9POv4CRY8fw2psfcsHpJ9Ii0US0yURcRi8e+t+HlAe9OG07ePLBO0iLN5EUl0zfvifxwohX+HDCWzww+Dbat22D1ZRNfsGRvDJ2srLNy3jB+P0TKSAT/JysWbqIm665nLTkRLJzcjnn/IuYPG2GMk/feN01JMeYyIg10TK/M0NfnsOOmu38suQTrjyjM9lRqfTqei6zF+2gVPk7K/DZ1/LL1Cn0LsojLjoKkzmV+Izu3P3wq2yTUG6ZMxiuxVG9iicevJm2LZJo0TKfR0Z8wLJ1pTz0yBNkJMWTEWfhorNOY+qkiSz6diEfjf+Qk449luQYCzlFvRn18Ww1qXbhnGmcfVxvUixiRcjhmlvvYuqXC5g1eza3XXkRuWkxmFKzOffyW1i5dC24XPw0bwInHd+VqMQYjjjlSub9UKKWcpLll8Iyj9D47RUFmh84Bf1qLpC22nGYsLeK9d/PpCgjhuT4ZHr2PY3Pvl5GSWUV1VVbWPDNp5zQtQ0pZisxmR15+K2JbLXX4C79hbO7t1Pg1LLDUUxfsQlPTQXL5nxAty5xxGQUcOYV97C+zI63uoSRT99FgWhBad155IXxbHT58VPLkOv709piJcGax4vjprGmcjvTpo6iMDuelNh0DjvqXBYsX0FJ9XaqKzYwf9JYehcWEm1OJjanC+9N+5Jft6zjjZGP0yrNRHZaOrffOZgd5Zupslfz69p13HzllWRk5NCq6xGMmDwPu7OKGWOfV+CUEJ9OrxPPYdycr6mw29j287c8dkN/Ek0mLNmHcvNjY6j1wuJZH3FM11zi40x06n0yn3wxnx32SpzVDuZ/+h4n9GpDtDmK6MwjGfzcB9jCLtZ+P5VzTupOQno8RV2P5u2xsyirCGB3lLN981IeH3oHyXGJpGS045o7H+FXewCvKLfG7x9IAZlRrsnKF9Mn063LIaSkpROfnKYiWbOyc8jLzSY3LZEUq4m8VkU8/PI0yh0lLF38IZedfghZlmSO7H0+3y6rZEdQBqA14CvFWbyai049jsS4aEyWFPLa9+XdT76hShajkCCcsB175Roeuu8GWmUn0jIvnydefo/NZXa+mD2H00/4FzmJ0aQnxJCdkUF2Th6paVkkJSaTkZJM/+sGqLlIXn9QyfoHrz3PoR3bkJCUTExqDkm5BWRk55KZGE1GShwdjjmJT2cvxKlWoPDww7zJnHJib8wJsfQ+/kLmfr9RyUFYpo/IRHfjt1cUaH7gpBbB0nyNblz4nFuY/+lrtEqwkpTQgjMuGcjqCrAF/ARCVTiqirn5nGPJjYslNqOQJ96ZxA5HDZ6Sn+vAqUWHPkxbsRmPy0Xpyq+48ZLuJKVn0aXvucxY8AubVn7Hbf/uR0aihaLel/DxlyuoDMrCPk4NnMzRJFja8sK4aSwrWcnINwbQKj2atIRCrrphONtcTjyhCvBvw79tFWf1OZZEaw5x2T0YN/NLfl6/lPvuuYTsZBPpaS245IpBjH5jJKPffJ2XXn6Fyy84n+TkdDLadeWBEe9RbStj5tgXNM3JmkK/y2/hu+0V2IIBPNtWMeLem8g0mTCndOX6B0ZRaQvx0WvD6No2gbiUaM676WEW/LoNR9gDXg9lP89j8I3nEW2NwZpzDPcO+wBnqJY5bz9O7w7xmDISOPPSgXy3TNYYk0hYL37HeubPHEOH1pnEJmRy/LnX8u26GlyG6rRXgtj8X5JYaUELB/bqcsaOfY/zzr+QtoVF5LdpS4+evbj26qsYNOBmenRqS89D+/Ds69OodpdRvHwqt15+HF1ateek4y9lwdIdKgrOLdPTgzaosvPa//5Lj26dyS/oxAX/HsBiMemJL0siLUJO7JUbGPbk/RzavZCeh/bilXcmUF7torqigq9mTmHAdVdwZK/u5Oe1omWr9uQXdKD34X24/977mLPgRyrc2sR2tULExpV89M6rXH31NXTs3pvsNkXk5hfQvUtnbrjhWl6bME0Bn8Q24HWxbOEX9L/wdFq1b8cp513JomWbtMVhZdXysDxk/PaGAs0PnCLr/Ijm5ArX4rSt4ZM3nyYvIY7kpLZccM2jrLODXT5DESoDzwaGXH02+QlxJGZ14Im3P2G7raIROLWMgJPT48e1bQUTXrmFlrkZ5LQ7jMeff5+ZE96gX58iMjIy6Xf5UyxeW6sCMsK4GXJdf1qbo4k3d+D58VP5qeQnHht2Dq0zY8lI7skd945nm9dFgDIIbQbnDi4/+WwSolqQlHs442Z+wQ+rvuW6608gPdmENTqTlOxDaVvYjtbt2tGufRHtcnNJTc0kt2NP7hg2isrqEmaOfZFuqSasllTOvuFuvi+3YQuHcW8tZsSg68kzRRGT3IXbHnyN8mofb/zfwxS1jsWSFkv/u//H91tqcIrnzufEt34R//fAtVij47G0PIF7h3+Iw1vBJ89cR7fWJkxZKVw5cBhLVoNbzST0g28TKxd/zJHd84iNT+GwE/sz++cKnHLf+EFhEe0AACAASURBVP0DKSDgJBFpahkHHHY7y5Yv5+MJExn3wYfMmDmTDevXsab4F6ZO+ogJk6bx/apybJ5KqsqWsvCLsUwZ/xHTp37LhhJf5LtN4mB1q2W9t64pZsbUKYz/aBJffrucHdUh3LJwuJj2g158jnJW/PQ1Uz4dz8TJk1i+Zgs2m3zLyQuuGso3reXLz2fyyYRPeWvsJ4z9aDLTZ82lsrIap7CzhCjIN5sEULy1hFw1rFu7lplz5vPOh5MY8/6HzJr9Bb+uW0+ZR/tsh8+jla+mbDNffjGDDz6ZwKcz57OlzI5PLYUmJkcjQGhvhaH5gZMMRPyRb7OEa/E41zF93PO0iIshMaENZ142mOJKsBFU4BR0/Mo9l52qwCkhs5DHxzQGp3RrMnkdj1aak000cGcJ275/m38d1pHkzAKO7ncV9995OW1bJpKS2ZqRn65ki8ynVV9gcjLkuotpbYkh0VLE8+OmsqR0CcNfuYyWaVayU3tz/W1vstFeg59S8G+Ams1ccvxpJFnySMjuzfszZrN07ffccOPJCpxSUlvR94SruO2OAdx650AGDryHe269lQEDBnL7g0/y2sxvcXlqmDVuhAKnGEsGF9/xEEtl5WcJR9++mlH33khLk4nYpE4MeHA0ldV+xo9+lk7tErGkxXHGzU+yYIP4zORbN0686xby5B2XYI2Ow5R9LPcM+wC7p4yvxzxI70IrphbpnHfdw/xYHMYuJnSZP+XdyPdzx9C1faoCp6NPv5IvV2qCvrfMaLzXzCmgTy5V6zaG8QcCuL0+XB6vitaTaQwyzyfgceH2BrHJSl3Cg+FyYVxCMmdPOn6ZFxUJxFVLfwtyeL0EvG5cXj/OIKhPU4gLWvp+WQwy4CHgqcXprMLpcSr/kRYUJ6Hbsgiem4DMU/QElJnb7tUGWmpl8UjsnLb4cWTllJBXgZXbF8TuDWL3BNV6k15hfb1sEimlvuTrI+D14/IEcAVkyS/tW3HNvDUPePGbIThpq7cK87rDboKe7axaOIXC9EQS47LpdczFzPpxI5VuFy73Dlb8NIMLj+5CptVKfGYRD7/xMdtsVbhLfuasbm21gIiOfZn+yxZlw8ZTAxXfc8d155KT2YL0rK507SJRd3G063IM328IY1NrpErYtJ3B115MK7OVRGtbXvxgOquq1vHx5CcpykshJbaAY066lRVbt1Dr2a5MYSvnTeW4rr1IjmlBfE5P3ps2mzXbVvF/wwaSl2EmJTmbAYOeoXj1GjZu3cHmLSWsX7GCX9eu59cymwoNd7qr+fz9l+meFkW0JYv+Ax5luc2vgdOO1Yy87wZyBZxSO3Pz4BHUOkIsmvURR/bIIyrRSq9+VzFl4VLs8i0ah4OVcydw0QldsVqjiWlxLIP/9zE2fzWrv3iL43vnYkqJpce/LuCTqSuolUUl/G5qSn9m9AsPkJMaQ0p6HpfcOJifywLKEXzAudoowAGigCCFbPWOx11DpOWKrHavaStaNy7Dqto6E5iylunzfuRBMRVHVlaQ1OW+4JVcFjyUSYVh0WKCPvwhNz4VNRophlrbUvuwoGQqj8u7koakpRdVslEnCmDlQ4AyUVabeSTPyZEqhrynrdkcSUnANfKqTLxXf/JlaVm95QA1w0GSbTMEJ69a2kfASZhMPpPs2fYzZ/ftRmpSCun5nbnxvidYvHQZy5ctYOiQmyhKs6iAiMQW3Rjy2sdsqa3CVbKCM7tq4CQBEdNWbKJSFAm3HTybmPrBC3QpaE2cKYeoWBOJOVlcc8fTlDjECSsZy8I+tTxw7UW0tlhIjNYCIjbaKln5yyxO7N2R9PgMktM78tAzz/LD8sUs+WEeg2++goL0NKLNScS16Mq4GfPZXlXC55PfpEubFLJSUylo350Zs2azZv0Wliz5hVeGD+e1199k6YYdrJfVkIJOpr/7It3TzMRGt+CyAY+zoiaAPRjGtXUlL91zLdnK59SB6we/RKU9QPXGpVzX/2QSUuNJbnEIN98/lJ/WrKB4eTFP3H0jhZlRxJjNxOf05YHh46kJOanZ+D23Xnk6CWlxpGUXcukVg1j841rWrlvBO289x1G9O5CWmEZ+mx689PanlERWWT9IZMOoxp+mwB/tjbUle7SuXzIRINAlWvtKgIBH3X2RNxX4EFSfcJGuv+6+4Ij6NK1858mH0+dQq+kr16cCDfFJaaZGyUmu1wGbXBD1KoIi9aUX9BGtqP5rtTpAqTIp+Zd/Msndq72uyigJKvOLykWf3iRXjd+fp0DzA6ewQ4WSq++ICTfJ55KrN/HxqCfo2aU1prgYYtJb0KnjIXTrXER6VjTpZhNxUTHE5PZg8BuT2BwJJT+7RyEZ0cnkCTgtX0+VWpJf1p2zUbr2Ky475WgSTYmYYk0UHN6X96cuxekW27SsfeckQCVDbuhPQYyV5NgsXnp/OtscATw15bz46F10bpOFNdpCek4+7Tp1o0fPnmTHmUi2mrBER5PY6hDGz/yGKpuDmi2ruP+Gi2mdmUhCfBx5+a04pNthFBV1IzsxkZzcFlxw3S3MXVeC1+9g5lgx60VhjcrhslsfY5XY4GUmfskaRgy+gQyLCVN6B64e8oIyY4SrNjDulf9QkJ9LYkIGCZmZtOpSROdufclOjiHVbCLWZCKlxZE8+Nx4qggQ9NcyY+K7HN61PQnRCSQlZtK2sAPderUjLz+FxPh4YswtGHjvcFZurVVObNUp/Hk+NN44CCigsOAP1EN/ToFB3Yl0+wIbPgSe5ExhgKQnzyh1RTQumUsnsw8j073lQcE1Fdvjw4sfV1ieiChFghBquSAFKwqc6oBNpSvAqGly8kR9vgJQsoqDaEZSLk3HU6mofwKR0gfIIDViXlQFFi1QVtzzNMS9P0AV45GdKdDMwEm4qUbNgBB+lKXnFT87y3BvWsCI/z1A98M7kZiVTXZaDkVtCjj93JO48bIL6FDQibhWh/PgO9PY7HTgKi3moiO6kp+aS4ceJzBr5WalOckgzCWMX/sLbz11P4ektSEuP43TrhvAd6vchOSb0PJ1zbATP2U8ctvldE5LomVmHq9+PJsyWSHCCdVrFvP8UwPodWgbMjJakpIpAQ5duKr/OVxw9vHk5GeRUdSdT774Hps9APZqNi2ewyN3XUvPbu1Iz8gkLTOf/PxCNc/pvPMvYPK8BUpzcriqFTgdkZtIalJ7rh80jLXVYZy+MK5txbzy0M3kp8UQV9CLqx96SS2pJL4024ZlvPbi/9Gne0+yWmSSmJdDVkEvzjn7TG668jwKctJo2aYPj77wYSRaKkxVySbmfvIu11x0IR3aFpCTl05Kjlntu3Q9nKGDX2fpilrlJC5TwlrXpezMa8b5QU6BOpypq+cerihwiKCQHCutQ7QRvwIm4SR1Wc4i4CRalvipgvhxuBzce+f93H3rvZRsLMfj8mP3SwyvfIusITiJBqRpazJ4EnBSXKqAS2RZjHGaViX3FfZIccS0Jyv3yxbWwFC9p0ZgXmTRMT8ezbwoN9SLsq6KrLjn0pQ9rQJ1FDEO/jgFmhk4ScUchMIexWCygLc2FHKAYxPV5av5Yt5U7hnyAPcOvJdnnniaxUu/Y96s6Qy+/yFuHzKMTxevotTlwmfbzqgnH+aBgfdy39Bn+GVHteZoDYRxiiAESln73Zc8duf93HjvHbzx6UzKVMSBfKPZQ1iVoZpP33uVRwcOYNCddzH/h2LE0aqWr3BVUlv2C1Onvcs9d9/PgIFD+c+wl1m3egWTJr7HoPvuZNDDj/PDyk14ROXxetUXO6u3rmLKpPe5c+BABtx5LzfdNIDXRrzMmjW/Uun2qzFZIOhl5XdzeWrQrQwcMJQx42dSLp+ukuglWwlfTnqbe+68iZseeJx3p3+DU9HJAe4qXFXlzJ02lSEP3s8td9/FI8+8wo8/LWH+F1N56L67GDx0OFPm/Eh1WKsGASlXOdvXrmbcu29x5103c8udV3P/g/cxa/a37NgODre2xqUdtz6e/eMcaDx50FBA+mF90yqln9X30PoVdV9OpFOvuyiwoRnd9EvaPmJ6U+a3gMThEiJAdXUVx//rBI496niKl6/B59XClNwh0a50cJID7X1JS/Cj/p5oVRqM6dgi9+vBSUx7oj1pHxXVy6Q9IJqTW2lx8rwWfCG1koghWSlTM/epIh80Ldy0FWmG4NS0BPqrc9M/OyGLueqLp+5uNfG/uhxG+gYFmhsFqqurOe644+jbty+//PKLWhC5udXBKO9vU8AAp9+mTZPckc9MyCcv9O8xybkBTk1CeiOTZk4BA5yaeQPuofgGOO2BQH/1bQEi+VaS+v6U16s+jWF8F+mvprqR/sFAAQOcDoZW/O06GOD027RpkjuiMW3bto2vv/6a7du312lRTZK5kYlBgWZMAQOcmnHj/YGiG+D0B4j0Vz4iWtKYMWNo164dL774IiJw6vsvf2WmRtoGBQ4CChjgdBA04u9UwQCn3yFOU9wScBo9ejTJyckMGzaMqqoqw+fUFIQ38mj2FDDAqdk34e9WwACn3yVP09x89dVXSUpK4rnnnlPgZGhOTUN3I5fmTQEDnJp3++2p9AY47YlCTXDfAKcmILKRxUFHAQOcDrombVQhA5wakePAnBjgdGDobuTavClggFPzbr89ld4Apz1RqAnuG+DUBEQ2sjjoKGCA00HXpI0qZIBTI3IcmBMDnA4M3Y1cmzcFDHBq3u23p9Ib4LQnCjXBfQOcmoDIRhYHHQUMcDromrRRhQxwakSOA3NigNOBobuRa/OmgAFOzbv99lR6A5z2RKEmuG+AUxMQ2cjioKOAAU4HXZM2qpABTo3IcWBODHA6MHQ3cm3eFDDAqXm3355Kb4DTnijUBPcNcGoCIhtZHHQUMMDpoGvSRhUywKkROQ7MiQFOB4buRq7NmwIGODXv9ttT6Q1w2hOFmuC+AU5NQGQji4OOAgY4HXRN2qhCBjg1IseBOTHA6cDQ3ci1eVPAAKfm3X57Kr0BTnuiUBPcN8CpCYhsZHHQUcAAp4OuSRtVyACnRuQ4MCcGOB0Yuhu5Nm8KGODUvNtvT6U3wGlPFGqC+wY4NQGRjSwOOgoY4HTQNWmjChng1IgcB+bEAKcDQ3cj1+ZNgYbgtGLFCgKBgPEV6ebdpI1Kb4BTI3IcmBMDnA4M3Y1cmzcFBJyOP/54jjzySFauXInf70e+LG18rLN5t6teegOcdEocwL0BTgeQ+EbWzZYCOjj17dsXXXMKBoPIZvyaPwUMcPobtKEBTn+DRjCK0OwoYLfbufzyy7nssstYvXq1MuuJ9mRoTs2uKXdbYAOcdkuWpr1ogFPT0tvI7eCggADRjz/+yA8//IDD4VAmPTHrie/J+DV/Chjg9DdoQwOc/gaNYBSh2VFANCSPx4PX61WbrjUZmlOza8rdFtgAp92SpekuiiDp4DR8+HAqKysNs0TTkd/IqZlTQORHD4KQveFvauYN2qD4Bjg1IMaBOBRhGj16NElJSejgZJglDkRLGHkaFDAo8HeigAFOf4PWEM0pMTGRYcOGUVVVZWhOf4M2MYpgUMCgwIGlgAFOB5b+CogEnJKTk+s0J8NmfoAbxcjeoIBBgQNOAQOcDnAT6D6n1NRUnn/+eWTuhgFOB7hRjOwNChgUOOAUMMDpADeB+JfeeecdOnTowMiRIykvLzdCYQ9wmxjZGxQwKHDgKWCAUxO1QZgwIbVBiPotEIING7cx4/MvWLdhA26vh5B6Qi9YGJAZ7/4Gm8zjkFSM34GigGi3DTcJbNE13obXD1T5/u75ClfvTh4aykbD4797fYzy7X8KGOC0/2m62xR/C5waCqB2rIFYfSIixgJMXsAT2XwRwKp/yjhqWgroACThy7LJHBufz6cmg7pcLtxutzrXAatpS/f3z02TB20YtqsM1A/e9HsiBcbvn0UBA5yaqL1FGLU/EEFTWxjCsunnaq8/pRdM7oqmJIAkACWboTnp1DlQ+4aakpRBQGj79u1MnDiRadOm1ZlnjZWyd99CGpeL7rQz/+/+fPepGFcPZgoY4NREratD056FcXfgpJv1BKBkM8CpiZrtN7MRMBKA0id+2mw2Ro0aRWFhIZ06dVITq+W+gJM8Y/waU0CTA+H13YPRztcbv22c/RMoYIBTE7XyvoOTAJK+CVg1ZYe3c1fxe+d/rLORFJrzT8BJTHk6OEmU5SOPPILVasVsNvPkk0828kk157r+VWXflYvqpWTnoz9bhl3T/m2+/LNpG883DQUMcGoaOu9jLrrlveG+qbp3yadhvr9//Gc6haaqwT4Sf7evN9SKRDuSFbKHDh2qwCkqKopHH320DrgMv9NuSbibizvzlgzC9AHZH+eWhhz7R/lxN4UxLh1gChjgdEAaoF5kwmFZD0y+4Kl9JE06st8zA4mPKhgQc5IWLbY/zUbS4comPymHKouYrgI+CAcJ+r0E/XIcimxyzaeuEwoiWygMgaAEdWgjVdn7gw0c31L+EHj9AWXSOSDk30+Z6jQSmungZDKZkO2xxx6ro+N+yu4fkEyIQNBHKOQjGPISCnsJBN0Egi7C4cbRkDrf623QcB8KhwmEwgQjvCj8p45DGl8KT8q52oSV/zju/QPa4O9TRQOcDkhbKPFQEXciiOFwgHBIthBh6d2VsEQArB7HlBCJ+0LwIxgMK39GILD/vl8joKgAKbKXTjcUDICULeAjHPQ32vu9LtxOO163E4/Tjtthx+ny4PT41CZh8v4QyF7rHMAXjHQacl1Qqhn/9A5R6LYzOD1ugNOeW1bn7bonhf/8uN02QmEPwaCTcFjAyUEorPnuBJRkJXKJiJTPZEhU5M6bx+PF5fHh9gUU//kCIQJhGSQJaKGOZe8NhNQ1ETnj9/ejgAFOTdUmuiAqQZBOWcwVPgJ+JwG/C+nog34/Aa+fgAiV3xfZAvh9IURhkS3gB583RDCgaTZBAQ7RZPbDTzpbPSRa73jDohHJaNbnxu9x4nXacNqqsVVVULxiGfPnzGLB1/NY+PU8vpk/l6++WcD8bxbyzaLvKa2optrmxOb04PYF8QU1sPIGwnWgtR+KfcCS0GlkgNNeNkFDmYjIhd/nIhzyEA65CAbs+P21uFwVOJ02JOhk48aNfP3118ybN48FCxbw1Vdf7bJ99/1itpdVUmN3YXN5sLt9eAJhPP4QfgEp2QSkRKsPo7T9vayB8dpfSAEDnP5C4jZKuqEgKqOXNnfJ77OzY/smVhWvYNXKlRSvWMnq4tUUF6+MbKsoXrmG4pXrWL1qI1s2lylwUpY1ZQIUc8f+AyddexKtSebtiNlOQKmybAdLFi9i1Msv8OD993LV5Zdy+KE9yMlMIzcrXe2zM9LIyMohM7cl7Ys6c9mVVzPovgd49rnnWfrzSjZvL8Ujo1UxtzRxSEejtthPJwY47SMhG8qEsq0FIeyHsJdQyElJyTqWLv2WyZPH8eijQ7nrrrs455xzKCgoICsri8zMTDIyMnbZ2rZrz/U33cqAgXfz9LPD1WBp9bqN1DrcaoAkQKU0qTD4Qk0bWrSPFPtHvW6AU1M1dyNBFL+OD0Iuilf+yH333MFpp5xIv5NO5vRTTuX0fqfRr9/J9Ot3Cv1OOZV+p5xBv5PP4pyz+/PkE8OpKLch5j0NSCQtNezcp5pIRyuAJHtJVzQoMZds2rCOSR+P57677uDs00+hU/sCWmSlkZGSQEKMhRiziWiTCWtkM1msmKyxmKLjiE9OJyUjh7yC9pxwyuncPvAePpo4hVVrN2KT0axf82/tU8EP4MsGOO0D8YVlZUxVJxdizg7idtawYd1KJk18n4eG3sVZZx5Hr56F5OZmIutPyur9EhFpsVhUVKTu42u4t0bHKL5LSs8ir017+h57Ihf0/zfDnn+JOV99S2lVLTaXaFPgMzSnfWjEv/ZVA5z2gb5/BBJ02VNCKMKoBNIPATtu+w4ef3gQbVtlkhhrxqI6eAsWk0U51UXgotRxDCZTNIlJOVx08c1s3lqJ9OuhusCEP6c51YfpRiofKWTA51cOrYDPg722ilUrl/PAvXfRpWMhaUlxJMZqYBRnMREdZdKAKUoDJim7bAqcoqyYzNGY9L05BlNUNAkpGbQp7MhV19/Mwh+WUlnrqPNBNeyn9qFJmvRVA5z2gdzCc+LsiThRwz4vrtoqlixewDVXXkKnojakpcSQlGjGHCVyoG1mcxQSDSnnAlANQanuOMqMySI8Z9X2ZiuW2AQyc/LofeTRDH/hFVat30qVw4/Nq/mgdDmVfQPEbDTw05/Zh1obr/4JChjg9CeI1fBRJVt1pqnImWZrq1NkpMNVdm1hcXlEFAWxJ/hs1Jau4aN3nqNzm3hSYkzERDQPs8mK2SSCZcJski2GKFMCJgGE1GzOuPBxfi3x4FT2cglWEBVKEv9jPwEmHwG8BAggkYIR47tygQXB56Z88yomjR9Fn16tSE00YbFaVYeglUcvV/1eOgqtY9A6Db0j0a+ZoqIwW6OJskRjjo4lLimVzt168vzI11lXUostoC3MpNbAUKCr10Uo2HDTr/899gY4NW4HvaV25Ua5ovlIFc3ktXAA/LXgrSLsqmDbul944dkn6d65A/ExVqwW4TkLJtlMVgVGwn86b+n7OkBqwIMmUxSy6c/Ie2rwZLYQE5tAbGIG/c65jPcnz2VLLdiF/4T1xScaCBIQ525QzItiZpRaaVF+Ir7NW9dv3F5/9zMDnPayhXSsEdZVP0Ef2TReVpfkUAcnpTkp7g7grSlh6YKZnNfvMHKSTCSIFhIRIE1TsjYAp1iiTIkKnKyp2Zx+4dOsLvXi2GtwEoOiAJQEJUSCKRRAiXR62FS8jBefeZg+PduRkaBpR5qwawCkC3zDfX0HUd8h6Pd1gLJYrAqgTGYr5ug44hJT6ND1UAYOfZqlv26hyh3CE/EBSGSf9tM6tXqAqruhP3BA9wY4NSa/8HsD9m9wM3JVjdAil8M+8FURdpbyw1efM+CGKyhsnUtyfLQalGk8pwGTWA2En3YGp3q+0wdHshdgMkf2EW1LBydTFNHRcZjM8SSk53PI4Sfy5Atvs2ZrFTZvGE8IPL6ANrVDgVNAAyi18JhWNwOcGjTrX3xogNNeEli6yUaCqPej+l6NtxowtIzAQhJu56Jy61oeufc2WiSbSYwAk/hsRPiUYIlZok5z2v/g5I0EJASVpifalxe8Dmylm3lq6N0UtcokwWIiKVoz2e3cCTQGnoYdQ31nsHNHIqsmmBVAxSAAFWWNITY5g+QW7bhz8GMsW7MJp0QiyvyTCO20ptEJ2ojae9lq+/c1A5wa01NaSG8labX6n5ztdDfkIeQs5ddlC7jpyovIz0wiPmIurpMDZdK2KpN2Q03o9/ivHpx2B1BRxAo4RcVijk3FnJBF6469efL/RrGhpAanjM/C4PJ4FUBpmpNwo1YrnRPr62Uc/ZUUMMBpH6jbiFn1k4b7SNrKKBB2Q7AW/DW8O/oFurVrRaLJRGzEnCcCJ4BkMke2vxCcRJvTACBMKOiCoB175Ubefe3/6Nw2i+RokwInXZvbGZy0kWm98De8Lx2L7n9qCFACTqYoM9boWKIkaMJswWSJxRSXSnJOa4Y+OYxymxubJ6CF9+4CUHq3tw8Ntp9fNcCpMUEbsr5+XP+EXJEZr2Iqk0gEBzs2rOCq/meRl5FAbJSJBKs2GFKyoLSfes1J47nGA6GGfNf4OCpiDqznUUnTYorCbDJjtcRitsRjMokWlUiLdl15dPgIqjygBm6RCbrKPq+Xt4GJr75OxtFfSQEDnPaBuuK/0RxMsm9wqC5HhFFzNEG4lrB9Ewu/mEi/o3uTFR9LnMlCtPIxyehQ7OtRGjhZNICSzt1s2v+aUyAoE2ClvGHCQQeOms1MmfAah/XIIzPJRHKsFoEXZ4nFYjIrk4om/BGTie4LEA1PmVG0TkM6gJ3BSauDSTm1lQNbaYUWBVBR0RLVl4ApNomO3Xvzwqg3Kat14Qpo4FkPRzotI3Tehzbbn68a4LQrNRXr7yQK2lMCTNKwXvC72LFxNY8OHkh+VpICpXirCQm0sUaCHzQw0sEpIh8KsHSe0/xKGv/JcUPgEnDSBkNKpiL3hD9jrNFYoixEW2OxWuIwm2OITsmlqPexfDxjHuUOP+6QFmKucVuk3CrEXfxQMrQzfk1BAQOc9prKAk0NTRURiZRLMv1cBSoIM8tyP2I2K2HHr99wx7Xnk5caR7LFQnxUPBYZvZliNdOFOUr5liT4QTSo3YHTaRc8xeoSzefkE4H5kwERgqdq0QeZZhUKEvBU8d03n9H/gmNIiDERH61F4sVaxM4vwCgBGpq5ThN4ixaJJ1qPROSZxT+mAZg8p4eUi/YkHY2uRVnMEWe20g61jkMCJCQNc0wC0Ylp9DrqWKbMmkeV01f3aUUhp/LlRRzTe91cf8GLBjjtSlQdnHTJkL3QSWlMEbO2t3oHn330Lt07t1M8p0d+Cq/U8VojzUl4TOMVLQo0EihRN0jSIvgEoASAJJrPJLIk2rrS2E1Emc2RoJ4oYiQUPUqiY83ECA9aEonJbsvZ/76eH1aux+4HtwTmqOpFyq7ASWRZBMf4NQUFDHDaayqLGMooSomflkqEj/0emcMUIOwTk5lsDpxlqxg78jHaZUeTZNbMeTGmOKJMYl6QTXwxfwycVkWi9erAqaGjeU/1kTKKn1dNk/dQW76RR4bcTMssEzESFh4xJ0apzkGAU3NQK7OcAJEAkiUOU3QiloRUzDHxWKzRWK0WYqMtJMdFI6NgAalY8SFIXa1iTol0HA1HuNKJ6B2MOYbYlCyuu32Q8j+5QloHIeuiacs6SaG1seyeqthU9w1w2pXS0kIiEaKY123yQUZZn1G0poCdtT99w81XXkRCnKWO3yx1fBcZCEW0JBWxZxK+i8Vkjdd4zxpHVEw81rgE4hOTiY2LIz4+nri4WKKtR6Oe0AAAIABJREFUFqKjLcTERWMWvrOaibKYsURbMUdCz3fW8CVAwhSXQXxOAcNHjmFLhaPuq2kax4n2pA80DXDatdX/misGOO01XYVthVE1741KRoL1lEldFpMLQED8TA4VlfTt5x9y7KHtSBPtJMpEnNlCdJRoTPom84JkpPf7PifRnPYJnKSgATGv+PE7qvhq1iT6HFpIorVhxKCYSMR8ImWzYDWbsIpgq3lLsWqkaYpOwhSThDUhlbbtCjmkcye6dOxAUdt8WqQnE7vT5NyGo2LpHNQoVzokBVCiSUWr9PKLuvHGuIlUuoIqek+WPZJJwYqwyoy61w223180wGlnkopMaMZuHaBk+CaLsMq6jEoePFWMGzWcrm1zMYs2rc9hkr1o1WoQI5qQmPSEB0UrF/9kHCZrosYj7Ttx9oWX8Oa77/PRJxP5ZMJEPv7oI4Y9+1/OOO1UWuXlEiMmQrE+SJqStkWAStLU86g3QZuiYjBZhJ9T6XPy2cxZuBSXRI5GpFurpW7eM8x6O7f6X3VugNNeU7YhONV7npT1SWKhfV4IusFdweZfFjLg2ovITbaQLCAQZSLaImYGEZbIVieMEfv5bwRE7Ds4iV3PDT47NSUbuee2a2iVmaAAU1Z6EBBRAqxAQ8wpUUr70UwlMShQik4hMaeAf/U7h4H3P8T0z2ezdMlPanmjnxZ9zXNPP8a5p59MXlYaSbECwlq6oj011KDkWJn9BPiURhaPKTGTS2+4g+LNZZrtX/nHglrnZmhOe82tTfNivRVBjhQwKXASdSoAXhtVG3/hlv6nkZMYCQCKgIcKBtJ5T+YoRVmwyLy4KAtmk4WYpAxadexO/6tv5tPP57J89XrKqu1q/Ty7w6kW3q0oL+XnZUuY+PE4LjjjOPKyEkiM00AvOka0L9HUdV+VpqEJD2qTdeMVb6fltefZl99QwRHuBsNPjX4CUDIYNX5NQQEDnPaayr8BTnJZSaas1GrHW7mREU/fR6f8LJIsUdpkWxnJiYYU8S0pwVSjRi2aSBMYrSPfOSBi38FJtJBawu4y1q74jkPa5JAeayaubhJwBJyUBifCbEJMLsrxLGG4McnEZLTi3zcPYt7in7FLNdVK6UGCXpdydnttlawvXs5dt91IQV428dFRdb6nhuAkwCTmPzHF1HUQlmRaHXIY706YTq1XWyDWJytXBLyRCZF73WD7/UVDc9qJpKrjFubX7Ak6OKkrAS8hRwXLv5pG36JskgQUhMd2AicxH0fp4CT+SAEpk4UWBR0Z/MRw1pfWYhOfkMxJCqIWdJVpemp9STVdI4jXUUXx4jncdMV5CqBEg4oSWVN5RQIlIoE8SotX5moxGyZgik/jwqtuYn2pDUcYZd5T7tm6qoqAG7+moIABTntN5d2Dk7I8iTQG/QRsZcyfOp5juuWTEWMmPiqaaNFELJGovOjGAGU2SScuwigC9FeBk3h6K6je/jMv/GcI2QnmSEh7FFZlQtHyVh2HVetAlDYlI05LLNaUHM6/+la+XraWUmcYD+CVmfU+8SnIPC4PYY+dgLOaLWuLuXvAzWSlJioQknQagpMAk4Sri19K+Z4kvNeShDm1JedfeROlNq+2MGddcMnfq2MwwGkn4YmAk7SS6Bc6OKlJ1UEfnqrtfPzac/RoEad4bhdwUqY9ASfNqiB7i9lKWnIat9/zID+u2oQjhAIn4Tsxu0keGhzW2dTB7wDHZtb8NJdrLzuHpLgoJCCnHpx0k6FmpZD5dyZrDOa4JGU6PPKE0/l2+a/UNFi5ROoj+fy9OHAn+h9kpwY47XWDBgnhJIR8TykSYSqSoqTSo/xMK5fM45pLTiUz3kScHrkm64Lpo0WlnUSEJmJrl3kYAlK/B067ROtJSHid4ESOVKHqLtY5qZWIebawatFnnH5sT9ISrGrh1hhzdGQeSMQhLWWMRDxJmWTioik6ldT8zkz84jtKHSHVOSiBVXkJ6PmV5kTQQ8jnwuey88WMKfzr8B4kWbQgkDizKdJRSJr1GlXdCDZKtLM08jsfzsKfN1Dj0YIf1RJNf7OewQCnnYVH68KlmdT4TO3l44EailRv38AT9/enMN1MQp0JT/hf+F38S5qPSAYwyhcpYd7J2fQ65jTmf7cUuyeovLwyUVatbN94QZb6qE6JCgza8VZvZeLY0fTo0FJNKNcGWZGBkArE0VY0UQMmyV+mNViSKex1DB/O+FqZ9hprTQY47dzif+W5AU57Sd2wWpuuBn/Ypy2/JVysb95qbBXFPPvUnbTJi1Ph2SIYeiCA7pRtPJtdm7+hTBrKDr57zWm3yxfJiuINR5ACFmpRzXpwkvuaoIXAtYHP3nyGopaJxEaLiVHrHKR8Us76smqz880RYLKmteHsKwaw3YEKVlBYoYX+1Y9hJWw+KN/j8eMPeCnZtpGnHrqHzBiTMuXES/oKlCU6MVrrkCJ5Sich66hJBxGX05GX3/2MrdVBNWu/YdzJXjbZfn/NAKedSRpU0yvU8EgGbDJww6YhlQ9KNqzhpmt60jLRhPCB1t7Ce5HQcGU50Ey96p45joS8Tlwz5Dm2lNXsnNnvnMtgTb5D5mLd8oVcc/6JZMVpWrrmT9VD0TWZrJtsLgMjSyqZhYfyvzc/psKpfcG5buT3Nxsc/Q4BDopbBjjtZTMK8wdwEVQf44v0/GJn8HnxO7bz8bgX6XN4WxVOLaHV9R1+xKcTAaDGAKUJiwKx3zDr7RmcIoCkeoh6cIoMXglJSGzFSobffx25iTIpUezxmhazO3CKMsWoxWfNcZkU9jyWD2YsolqWedGTVuCkG1cEFL1qC4X8BIN+gl4HPy/+ii6tU0izaJ2SVfnadgUnoZECJ2sK5rQ2XHjdPazYUKFMe0EZLv/NOgcDnHYWnt8BJz9s/XUlZ5+aQ07c74NTnDUCXOZYsot6M2bmYqpkZvYf/Em7+P0ySHLhKFnHS0/eR16y5u/dHTjVBQKZJSIwjcT8Lgx+5hXK7LI08k7y9AfLYDy27xQwwGkvaaiNzWTh1EgAj6glgSB+RznLF3/OWaf2Jicjqu57R9oosQEwqY5YzvXooUiUnn79T4KTCFFd390QmCIXZSfPBINuKld9xe2XnER6TCTYIWJWaQhOuhZjMcssehHaVPpdcA0//FpOrcyg1+mm5n9o4KSyEpNKWEydEgIeIOR3UbVtLVeeewJ5iSY1x0vTnGRSpXwKRJsDpWtsKnrRnIgpoQWdjjyNL79bqRzfEuxVX0E98wO7N8BpZ/r/DjgFYNOqnzmhb/wewSkhxqwF4Vjiad39aOauKlcTY3fO7bfORTaF9wScAjXbmPHBa7TJiFZLhf0+OEnEXgZxuR0ZMPRZSm1+A5x+i8hNcN0Ap30gsljOBJyUySkoZgQn2zcuY8g9V9EiS1uOJSlOfDmy5L84YXUg2h1I7XTtT4FTKDK7pAESyWHdph+ECPjsrPjyI848qkjZ/TX/l5gULcrsKCAhgQo6OMnk4ChzPFFxmdx092OsK/dhE3CKZKVNTtSQQxtlymTZgDLvhMRBHvTgqtrK84/dTWFWDCmWCCBKhJR8cyeyPFI9OIkWJ5Mis0lr04N3Pvkch8xplvljep770Gb781UDnHam5u+Akx82rFzGcX3iyJK5fnU8tqtZT6YeKP6zxlN4+IksLQ3gErv0H/xJu+jghKOUJfMm0zYzRgXf7A6c6sx6MhnXkkZMdgduvv8pSmsNcPqDJP9LHjPAaV/IKlYs6ZcDMnvcTdBTyoQPRtC+TRxxDZYBMqsliqQjro8SEi1l502LJtKjijQB3TmUfPdmPQEngYYG+pOOR0q1UzqT8gv5XVVMGP00h7VPV0EaZjHpie9HJthGfD/14CSgFYPZmsz/s3cVcHJV1/uNz+yse1whJEEa3N0CLVLaAgXa4n+gLRKCe9FCiEFLseDuDkWKBddASCAu674zs+Pf//ed+97s280GNslms9ncye/lvZmdeXLuufc7foIFQ/GPKXejpg1oMVtAKfATlVGQkOtHRmOihZPJvqkYYk2VeOPJe7DTmHLkmFUopPCrXJc0UWZPXpc+N0OCIgrhzBuGa2+9G/UtaUi48LqM1Xr4rQanzkT9eXBaPPcbHLBXHkp+AZzIB5K+4PRjsx33w9xGFTre+Wqrf2+CU7oNCFXj63dfxPAi32o1p47glAd/+eY4+4pbtOa0egL3yl80OK0tmak1EZgkEoH27XrM+epNHHLArxBk88BM4ilDY1lpQZXqd7n9Eh7rdTnlO9b3CFQZcDLDXik9dg+ceBNyI+1PQ3ASTDITB1njLxlGtKkC/7zwFGxW6pNK0JI1b9XJs4GE8v8ocHJ581A+fCvMeuJ1Ca9lczYJD5aWG8w/oqak7oAmFTGryHt+GkcqUoe5H72O/bbbTIIi2NpdRWgxybcLUGQAhjsPhq8Ux592PhYsa5DOvzxbX3ppcOo8Gj8DTjFg5YIfcPSRI8S8uzrNieWzCE5uKeXlx/AJe+LjpSG0MhA0HpdqIaT7z7/S4u9EKoJk00q89cx9GFUaWC040efkk0RwPwxfsficLv3nHahpYUSu3QLx81fVf+1ZCmhwWlt6WqtxMoVEWwMqln2FM089AoPLVGi2pX1kmgc6s2A4suBwBeByuJGXlYWh5SUIephfpLQoASeJZFNA1X1wEvUtE68nj8T7E3BiiDdNbW3SebR++VyceeyBGJijat9JW3WCEzdbtBTBSdXX88LlL8SoLXfBU6/NRksa0vdGmu/SbMfovDQXJZVzkrls5m7YHqERK+d+jCP32RZ5rLVnhdITmFi2yARFLhJizuFn7lwYrkIceOSf8em3iySXShaKtR2v9fA7DU6dido1OKWk+zNQt3wRJv1tDwzNU6HkMtaiKbdH6xGcJEBBUhn8GDR+Z7zw2WI0RpJIJpNSRNbad756+3tTc0pFEK5ehIf/dYOY9ZjO0ZVZj9dj/qFKlyhA2Zgd8a+HX0RdWNkj2s3j7VfQR+ufAhqc1pbGFjjFI2ioXoB777wOo4dkSR8kmVyyuNNkxYnHnCEVVGA4s+B1+zFu9Gj85ZjfoSjbJ5NRLcpm1vyaak5iW1SB4pnH4f3JPbJ8A502EaCtDku/+xATd9kChV4WZOX16PuhpsIir8yxUpKrAif6yLxwBoqxw56/xusfzJH28OxYy1OLv4nReSY4WXdAHc5SKkWfiregaekcnHLU/ijyqHwnpSUSnGjuVGY9i26iTRGcnPmYsPshePmtz6RLqQanzOj20YOuwKlJqdQxoKV6Oe68jVp7ADmWINIJnMh3LBgs88HpR+GobXDzQ6+iuonFhNSLtRZ/XntiS3gKZRHULJ6DK88+EQOyTb4TC0XHUHIxI/Jz+pzc+Ri360S89tH3aOK04SWtuSRMb92F3q9vCmhwWlsK07SQiCMaqsFHH7yAPXYehYKggSArcTOzXdpNqGg0VcyVodO5oj0NKBuEyy+8AHfOnIKBRTk9Ck4d5hHfUMUhOMWbgUgV5n36OnYaU4qcTGCCWWWcVZ9t4KS0OYKTD+5gKSb+7kR89O0ScImQSD05N1t2qLJCnMT83DIwdgCnRCui1T9h8im/R6lPLRJixpSyMQoUuSjR9s/rCqB7csQ5PWTsTrjn0Zc0OK0tn/bq77oGpzRtwOxy3FSDD96+FRNGqvJFXWlO5IOAWcXecAXgLh6BQ066AAtW1IhJj6Y9S2NdHUDxc+bYIRHCN7P/i4m7jEdJYPV5ThSKhO8IToESHHT0aZizrElZCEi/DpOqVwm6SV9Mg9PaDr9EooWx6MfP8Lczfo/iXAO51EZoIjD8cBnZcIifySxRJH1jCpCVXYq//OkkfPnxR3jo7n9hSGmuLMpKUjQ1p5/p59RlQIRNc7LPIylCy/R8tiqINQItK/DRq49g7MAAgmZ/JQmGYE2xnwWnMhx7ynn4ekENwgQhC/RYESLVJjXvCEpRU2MiMFlhEgJXyRDSjUtx3fmnSAImaaSqRbPgazs4KdrRnMjPgzDcBcgfPA43TJ+FEGMr1nas1tPvrEWSknxLSwsuueQSZTYyDFx15ZVy1dUtoOvpljbwabsGJ8ush0gzqpe/iBMO3wfFPr/SjrrSnMxeZgQnI6sMxVvtg2de/i8aGho6mPakWn0XT0yaM1qvZsVCTLvuEowodCHPrFDSlVlPtYphSTE/cgZujotv+jcqQhBBTGtOXRC4lz7S4NSB0NbS3uHDjOCkPjW/k4wi0VqBW2+8ECOHZIkpgm0i/A76nAJwG0FJXhXzFc1nbi/8+UMxdssd8N47H6ByySI8cd+/MaykB8BJIjMICWr5tp5CVUhnaB1rADUjWb8QL94/FUPyHBKpJ2HkUg2cwRoqrNtu1lNllPxw5QzEKWdfgblLG9HKOnoCTiwgS7tHR3CyTHqWFiX3lAoDoQpMv+ocDM1VEmw7OPmkdA0lZrH9Z3xdNLEUIKt4FC68ZhoaWbaP1+1DLw1OnQdDRY0K/4npl4EyrYotGdDa1gIkvsVD/74F44cPa/e1CkAx+MYetUmhzgyMCQ7C4UefgP+99z5YgTyeSCJFAMoERpgcLwE6SSQTMTQ31uG5Jx7EntuNRYHTkFp+1MxV4BHTFbip9+Q9p9MFw5eL7fY6FM++/RmazaKvGpw6j3HvvdfgZKe1OPgZPMAlVs0pHsWSacTiTLhNIcXM81QMyaYKzH7qNuwydqCUJ5KcHdFAvPC6XFLlmw5YRqZJBfJAKfJHTsDNM6ejvrIarSsX4tlZ12J0cb7K+ZAgAavb5+oDIn62KrlMTinRLKYIsehxdlGzijciXjkH9/1zEopyvLZSSlbuFffKYWyFuMt7ZzYcuaMw6cppWFjRIqY7AQlBPgJiexNAwY40CztBNCzBSqn714ZUpAr33HApRuS5YJgVAFysPm3lf8nz2xYLg514g/DnDsFJ516D5WwmbB+rPnCswemXBoEcoQSmVCKFdDKJVDKEn+b/gJNPOBZFPkNy7agxs/+SEljs/GgeO5zw5ZXg4N/+EU+//CZqW9oQZp8vK02CieCJsJjxEGlAzZJ5ePju27HLr8Yi32fIXCQwWT5NuQ55XYIgWNA4KOa8QNko/GPqnVjZEEGYRoHM41kJjSYIZj7XB+uTAhqc7NQVcCIcUQJsB6dINIFEkt08ybExpCLNWPrdJ/jrUbtjSB4rJ1PKy1LN0FhAlc0EDUOCIyRfw+2Dr2xzHH3mxfj2px8Qbw0jWr0Yz99/NUYXF7SDE0POqcGYCzW1mM6h5F2DkxWgwEnECDoClHn/Mp+oPTUhsuwLzLzsZORn07/UKel3de+dOXDkbYZLrvs3ltaExVzXDt02cOJ1+EqlQHk5xGN+Ue4jinSsFg/d+g9sVkBpWDm8PVIdQknM8sy2QBC34Rbt0xMcgCNPPA/zm1U9P3WRvvG/Bqfuj0MsxgKwKdlCoRCeeewh7LrlCKl5l8MgGZa28lODJz9Ym+ITajaGN4hg8WBsv/t+uPiq6/DoU8/ih3nzsXjhAqxcuggVi3/E959/iIfvmolJZ5yI7caPRmHAhYAZHWoFPRCYpDeZdR3W9XNlw18+Gocffxq+nLcETZEE4ioc1XQ4iYRncz51/7n1N9eeAhqcOtCOTMgsHbXY8x3X1yQ7ebJEAX0s0RY0VizGbTdeieF5hvhuXFaOBP02Dqc01xNp0GnA68+C4c/Hrocej6fe/hzhVBTpSBSJ2mV49t4rBJwIZEqa63lwEumPYJVsRvPCj3H1mUciL0tFyHULoJzZcOWPwVW33IPldVEBJzmnyJXdA6c0dZ5EA576180YV8q2BN0DJ48jCKe/FPsceRK+rk6Crdv70kuDU/dGg6CUSCQy4MT3tSuXYvo/Lsbo8jzx1QbZlNLtgsvNvDdLe1J8ovyxDNxheaEs5JcMwGZbjMNBBx+M3x55BA47dCIOm3gA9t19J4waXIo8v1P8uAEXO04zTFyZC11mgWNVaJbNB1UJLUewEFtstwfe+OAzVDa0Sn8yWkpURWcyHTdrVejeM+tvrTsFNDjZaEj2IxsKINlYMplMIE1zXiwMhOvxzIN3Ysfxo0QzYl6GhGMzN8fhknYYNB8w4sjlcsMZLETJ6O0w/aFXUBFmRBsX6qSA0/P3XYXRxYWiZYnpTzQnnmdNzXpq6mQK/Vmak6k9ySRLNaNu3vs4++i9kBtQia/dAidHNjxFY3H9jAexoj6GKIP/ZJ6SUt0FJ/qmmvDC3dOx9aB8GJ6fBydKytScnEYADm8Jdj74WHy6PCLRU7bh2uCHGpy6NwQEI9LK0pzkPVuq1C/HFZPOxJhh5cjxu7ssjkwTM8HJ5fGZYOKGy+uHx+uD1+uFz+eDz+tBMOBDls8tZnSa0rlZ2hKtF84MMBGU2JadFcj9MDxBbLfb3njg8WfRGk0hRp9qPIFknDUiTRO/mPnJ9PrVmxTQ4GSjNkHJXG4FoLj88pWKt0nEW7ylFt9/+i5OOOIAFAUY3WMlkXKxV7XprCRCtmGnlOcpHIJTL/onPl/chBYBPgYnJBCtXIRn770So4qLJMIvA05Gz4ITgSSVZEmHZlR9/w5OOnRbWQi6BUw0pzjZvmJLTLnjCVQ2JdrBaY00J070Jrx4zwxsM7gAhlctOFw8pFcUryMgr/Z2cDK8Jdh6z8Px4cImidgzh6RP7DQ4dW8Y7HSyjiWYJtqIyoVzMfPma7H9NuNQnJ8L6VrbycQsPlCHA06XCx6PRwl9TidosaCJTjYGO/A7Tof0gqKWpDZ+j4DE3CYLmKiBBZFbOgQHHv4H3PfIk6iuaxShK51KIRnjHGWKBKM42n3QfFoNUd0b8574lgYnGxUJTIwy4950lyjVPhVDOtKE5srFuP6Sc7B5eQ6yxD/Cqg+0k3ukQSAXW4k4kyAIDzy5pRi7y0F469uVqIqZoanpEJCIIVGzFM/Mugoji4vFBLE+wInAJBt9ZckmVHz7Fo7bfzyy/aqeXbcAypmD4IBtMOOeZ1HdkpIwcgXaa645vXTvTEwYUgjDp8yYvwROLiMLhqcIm+94EP43r05K2NiGa4MfWgstNQEdSr764bA0Jn6DNGOFBzGRJ1qBSCMaKhbjuccfwoH77IkhA8tFC1KajmXea28KSPBiI0LZnKa/UsDMFBZFYGQnXQcc/LtE5ZnAJNF/AbhzijFg5DgcedzJeOXdT1HbFEJbNKZMj9JqQ3V0Bkt+2cBJDAarf0z9lx6mgAYnG0EZIh1iDS+Ck2gcSSVBxcOINVXjjWcfwRaDC1UJHtEq8iSplj2IKO1bodBOTgh3NoaN2wnX/+sRVMYhWhMrK4ChtYkokrVL8fSsqzCipFh+J4m6UoOP2tjqzXpd5jllKjZ0Coiwm/WSzVjy+as4eq8xyPbZJ/UvBEY4c5BVvjVuv/8FVDWr7rekjTKAdtesx9qDDXjzkbuw8+gBojkxiOTnwMljEPADMJwFGLvLIXjnhxoNTjZe3egPGUEabZZ6j4iHkAw3YelPP2DaLTdhj113RsDnEU1JNB4zOZxzjBvNfBISntGwCGIEIhOEJNiBfM2SRPzctHC4/PDmFGGXfSfi3/c/jgWVTVKOi62iYokkGLQhka3SSZcpEhqcNiSfaXCyUT9mtoJImNHYwqjJNpHuvvzgTfxm311R5FcdXZm4JxUfDL/UoMsAE1tAuLORVTwcp5xzBX5Y3oLGONDGxFRZ1Jsl7yhVu0SBU3FHcGJotdXGvatovY0TnJRZ7/2nH8Ce44dnwOmXovWkmrszH5vtcCDe+HYlWqQ0hW3ANvCh1pzWYQAkvSEEJFlWq1ksE/UrF+OlZx7H4YceDI9L+WwzgGOCkgVMXYJTJsrPLnzZAMrphSuQi30PPRJPvfwWlta2SIX9CIXSWEqaWsoUlQAiC5g6mvXW4Yn1T9eQAhqcbARjPhO1Ai46AkyJiEh3tUvn47Jzz8DggoCU/ckyKycbjiAMg/2abKV3nH64cwZhx/1/jxfe+QqNUUj0D3ODGPUHNAKJCBQ4XY0RxaUdNKf+DE6zn30I+2w1MhOttzrNiQuQFRBhOPIxYsK+ePmLJWhmNEYfemlwWofBIDjFQqDW1Fq7EnM++wC3XncF9txpAkrys0HfLU1z4tc1m1KK72kVrcnUkDIRftSilGbVDmAmQDHNw5+N3JKB2G63ffCPW2bi3c++xYqGCFhpP5IyK5tYflortYRgpb1N6zDYa/dTDU42unHpk6RzThwTmOKNFXjkrhnYacvRCDoMZHvMCgdiUmALc9X+WcLBOUE8eSgYsR1ue/RNLKlPSzKf1LeTzhWUwuolYVDA6d5rMLy4DNQglFmPybG0l/c3s57SnGY/93C3wIlgT3By0aznyMewrffGC58u0uBk49WN/lDAKYxwYzVeeeYxnPD732BgQRay3Sr8mzwgPlEp+8UUC/pJFfD8nK+UgKQsDp3NfwronB4/nL4gDG8W/Pml2OOAX+M/jzyHhTVhsXCE06o8V0JJqab5muCkAaq3eU6Dk53irGYgkW10PIWRbKnBF+++in12GI/SoEuSZZk3wYRBj5MVvF2i9RCY2J+GWk9u+Wj88e/X4PsaoI4tlBhZEQ2rgySjf+rk3OmaJXjaBCe3DZwYvcbJRb+TmmQ+qZRguAy4JUv+WsyritJzhTidtayd1+d9TgqcPnjmQey95YhMKPnqNCdWjlDgxICTfAzdei+88OlCDU52Xt3Ij5nQ3tpYi9un/hM7bD0GxUGXWCWyzRp4whvMH2SKhuQP0m/E9wQpmu3agcrSqOygZD+2NCgno/Ykcs8jAOX058CTXYgBW2yHSdfOwE81EdS1qWTvSEz1KFMakwVOGqB6k+02MXAS3ShDX+sd98J+dICytUQqglS0CQvnfom/nXoCSnM8Ep1nlUBhPyJOHpeAk1M0H5fhhCeQh31+fQz++/kCVMeBVisnSFql5eBFAAAgAElEQVRWqDwPpBkQEUaydgmeued6jCrOFWBTjl42JjTt5WbdL6e0eGeOhwPuvAE46HcXY15VzAQn1rcj4EkIh/kQlgUiCZbhlOAFPlw8jGWfvYpj9hqJbF/7xP45KVRJrtnIKh+P2+5/DlXNSVV5nASTlzlppYyM+RFLPEHSbm2WEKJ0E/739P3YfcvhcJotEbiA2J/XAmSCtZsh9YzWcxcIOL30idacTAr32Z1auskcrFJiViohD0oELHsjWUWIW1Cz9EfMnHYzth63GXICLrAuJZNm6ctlKxdVyYF+XXZqNrs1s60LgYq+I28AXp8ffr8fAb8PWX4vgmaeE5Nu6QMWDZwJuOZcUsERTjiojUlFfDcMt0+AasDwLXDBNVPw2Y+VqIoAIWvuSvI9UzFYHYZzuM+Sv9/d2CYEThkIslZvsSKT16z8Ji6p6VQTkvEGRFqrcee/p2LIgCLRlAhG3KzAB5HsCE7eLJW57svDkDG/wp0PPyvAwdYSrAVnwoaEp8dl9hJQIojXLcGzd92CMcUe5JqaF89pdwBbEqFq754FV+5QHHj0WfihKiFRRup8vAprhbPmX3sMfBoRJBBFQpy7/HMcKz59FcfuNQjZvl+I0LNMKty7spA1YAxuu/9pVDUn2sGJ5Oy8yfQgNFkLkolPBP1EE9569n7sutVwSTrOmG1MMOazymIidGaOCqtYBGB4izB0q73w+mdL0aJ9Tn16ASKvCwBRWGIlfBGckginkwgjgQRnQ7QRqFmAh2ZejzGbDYXf54CbhZEJKF6n1KF0uFQ9SrfHAReBSsqDeWH48+DKLkIgvxSDho/Gnvvshz322AN777Un9t9nb+y+8w4YMqAE+UGvRKT63Q7xXbGrrpt5h/RhZYIm2gU0Cp0+pwM5xUNx9tUz8PnSEOo5ZcjfCQITE/AjIE6pSNU+PQz95uY2IXDqeszskIV0GEg1Ih6pwez3XsN+e+4Iv9vSktTiyQWUZieVPGqVVMlGoGAgLrjqJiyuabWgIgNMXK4ZdN0OTm2I1y3FM3dPwebFXmm8RtNgZ3CyTBNKuwjAnTtEwGleVVy0slXAiSjLTcx8ncEpgeUEpz0Hr6Hm1EPglGzGf5+ehZ3HD1XgZPrV1GKhHNgWOHHvMGjGYbJkIUb8ah+8O6caIR2t1zUT95FPaQhLidZkaRoq0i2aTiKCOBKMWY3W4+0n7sFBO4yHn12gqUVbNRWZH+iib8gBp5tA1Q4gnmAeAgXlGL/tzrjkqmvx9PMvY+mKStTV1aOxoR71tdWYP3cOnnr0QVxx8fnYaovRyAmwCLMhAOX3upUv1y54mccUOGXueXNROmYnXDnzESxpgvQQU/5iNqOKCjhFOZH1q1cosMmDUwcqp0OItqzAgh8+xYnHH4nyoqBpvmt3rkrAglTSpmmAfZCyECwciAMOOxqffbdQumfaNSZqEYQm0c4ymlMUsbrlePruqdisxIdsSm6m5pBJGjQdu1yopXWF4YcndzAOPvoM5XNi/zaejzkZVgtAm+aUkuUghjhNbrx4LIGVn7+BE/YZjpw1Muv1EDglmvDKY3diu80HqGclOMnioMyYds2Jz8zcMdXTKR+jt9sfH/5QLzloHcZrA7/R0XodByAhepNp0hNzmDqOp+OIs3BXvAnLfvwKpx51MAbnqALJFMBYyYGajQoEUpF1Hh9NeG443SyE7EJh+RAcd/IZeO7Vt7Csqg5NoSja4ilVkDmZRDIeRSIaQUtjHZYv+kkKyx5z1OEoK8pX2hNN8U6VzGv5oCyTNoFJeM6TDSM4ANsd8Hu8/MF3aJJiLpw/BNuUgFOcc0m/eoUCGpws2xRt5Ilm1Ff8gJlTrsTQshyxgZNxlW+ECyYlOZYqoj+Ekycbhr8QI8dvj4efeRWVjdEOpjwpISsZ5jHxwzB/StW5i6GtfgWevHsaRpcEMr1mZIJYGe02cFKLtRfenIGY+IfTMb+qrV1zEnBqQ5p6moCV0pySaJMFQRoDckLFk6j++m2cdPDmyPG3S6TWBF3tvqfMevFGPP/g7dhmRHE7EP8SOLGVgbsAY3eeiI9/bFKRj70yLbp3EQ1OHelEL6fSnBiLbW7pJOLJCCgstTRX4NFZM7HdqIEikDmkZYoDbqdLNiavS18lwwUn/UsuPzxZ+fBmFeDYP5+Kdz/+AkyYbY7EJWdQrBFJtmRPqxJdGf9QDKloCF9+/AFOOOZ3yAv6EaCWZs6p9vmsBCTOLwY4GQ7VPypn8FicOukqVNRHQE0pmWBFC5YB47U6PrN+t/4o0M/ByW60U1zF/9v5y6qoQPNDHMlQNd555THssNVw5GcZ8NNBazrv26V81r6jNBeA4cpDdukInHvpdVheG0Izew6ZiooAE415EmTRJr2gMuCUjiFSX4En7pmJkaVB6WljOXAzmpPpxOXEEZOD4YY/pxyH/OE0/FgZEYctk4bl/LCBE4FI7oEVxPnPrMcUT6N2zns44/CtkeO3JylaGsxq9j0FTolGPHf/bdhqeJGY9ViGRiphdOlzssx6LF9UiAl7H4mvlrUh0sdMKhqcOi5MbJYi4MSPhTfJiwnp4cQaKYsXfIkjDt4DA3O9YK4g/YqMeKWJ3OVwweVwwy2+RtNc7gzCk12K3fc/DJ98PReheBptZrNL5g3KJkEKBCcVgMEowHQyjnikFcloCF989D6OOPRAFAa9UibM0pLatScVHeuiUMhgC1c2DF8hCoeOw5sffoXmSEosFBLzk+R1+GD61RsU6P/gRI3InCmrQBVzLaTVODNlW7Fgzic45fjDURRsjxzyWO3MKeWLVmOCkysIZ/ZAHPTbE/DR1z9K9QICE01tCvzIxIykYxh1G5LJuAiTojklogjVVeKxe27HsJIctVibUp1oZ3IdZYIQqc4MUw9kl+LXfzgFP1W0SvsIZdaLI52OIMZKFrwk5ygnrtQ/j6NNOg7SrJdC8/yPcfGfWZV8TWrrBeAuGonrZ85CRWNM7PDiFLZQ3r4Xju0qIIIO5QY8ec9UjB2U2y2fk1NCiIMw/CXYZeIf8X1lEpE+ZlLR4GRfoiiOxcSELfyf4QsKaC1IRCrw6nP3Y2ChF0FpZUEedEu0poATAUrSKKxSQ4zUzEHxkLGYetfjqG6k10pVWSEbWLOaLK+UNPOCgiJmFGsqhpa6Krz2/FMYVlYg16X5nIIgtSc111iwmXON5kRem9GAnNulmHT5jVhS3So8z2tILq4O17MP+no93gTAiZNDSTvm2i0AorpoUmdvA2ItiDeswI1XTsaY4aXSwlyi8lj/zQInceDb6nR5s1E6Ymvc8cAzWLCiHpV1rahtaEV9Q5M4aJsaatHUUIOmhmrZGhrrUd/QiPq6WjTX12D5wnn4z/SbMbAwKBIdQcguzREI+Z6SHqOJGISRFSzCIUeegK9+WIGKujCqaurlXA2NlahpqEZDQwwNdXGEwklE0SaGPZZmkcePJhFa+Dn+ceYhyAuuQcsMpx/OgmG48uY7sKJeaS+cqJY1tMP+58ApWoeH/3UTNivLEnCSxUH8Tl37nJzUTunTyyrFfr89GfNrIVLzep0Na3hyDU52gpEpogJOAhj8k/AJBcBGNFd+j6svPFXGnuHiTMNQlfxNzcX0+xCofEySdfjgzCrGhN0PwdeLGsTfaJ3X2ndmw/a7MS0iNHlHW9FctQzHHH4QSrLd6vqWj8kCJCa+WwDF+yLv+fKw5yF/wHtf/SQBTiw9lhYU7GMSUvtD97ujfg5OVGOovSiGssCJ5gABJ+YusOhkUyW+eudF7DphC2SxAoTVnIwSluW4F3CytCcnnIFsbLHt7rjg8hvwz6n/xq3T/4Vbp87A9GnTMXP6NMycMRUzZ9yKGTOmYsaMaZg+cwamTZ+BqVOnYvqtt+Cm667GScf9AUXZXpskZ0lzBMF2cKK0R5AK+HKw9XZ74JJrpuDm6XdiytSZuPWWGzFl6g24aeo/MW3a3bjzP4/i3Xc/QUusWUIiGNIuwl4sjbZl3+K2y05AfvaaNBsMwFU4HJfeeBuW1obE5r9W4BSpxV1TrsTIYp/4nH4ZnKihBuAIluPIv5yLhY1AlAPYh14anOyDQaigedkM/jGxSeZfqg7ff/ICDt59jIx9ls8PBwFAAKrdQmCZ3FxSFSKA7NLhOO+qKahn1QYL67q5lzlPcIqHgLYGPHrXdGw1orwjOGX8uxTWqLlZGpVLuloXj9gadz7xuiraLIjIhaOP2ZbtQ9DPjjcpcCJEkbUscEpLn6YQ0o0r8OrD/8KY4eUqtJXVGaS2lxnmKiYA0ydjgZTbA29uKfKKB6OkfChKywaivKwMA8pKMbCsBOXlJSgrL0XJgDKUDBiA0vJylJWVY8CAARhQVoIBJYUoK8yVUPX2SbF6cJJwV6cP/uwS5JYMR2H5cJQPGoIhgwZg0JAylAwqQ2npSIwc+SucO+lSVLfUSG4JC84KODFeomoenphxHgpz/R3atEt7AckBMZ/R/rxOPxz5w3DO5TdhwcrGjImjg8ZkibAyObow66WiQKQW0/8xGcMKPe3gJNdZneakgk58BUNx6vnXYTkbNfI6feilwck+GBwcikIMGVdgIiKhVDGpweuPTcOEkdmScC5BD+K3XXXsMzX1vFkYs91ueP69L1Fnns9is857S5Oy76XSC032CTYIrcO8z97FoXtsJ/5dS9hzSI8nZV4kUBIcuYkFwxmAu3AELr75bml3I12YKZUlOKP0qzcosEmCE1V09piRMOx4CxJ1i/Hy/dOx2bABmXYVbo9b5VlYmpN9wRaAcoh0ZTgDcLr8YKSR3+NWYauWxsU8DZZgkYx05echEDBjnZOQG4HJDk4d+tCYk4WTSZn2XCq8mlGC7qBkurP1hINJjG7azHOQlzsEp5z2d9S01gk4MaxdSijRYF/zE16//xqUFgThZHSS7ZmkyKbtfeZv7FeVOxgnn30Z5i6uXrsk3FQb0q2VuPaC/8PAHBU2r2z+BMNVFyihiZmEm1M2GhfdcAeqmGrSGzNiDa6hwclOLEIGk8FVEA75TnQMglO8AnfddDbGlBoIyHwyfTsUiMwyXRxzS3Py+li5wYv9f3ssPpy3HDUmOPFqnYGJ7wlKBEJr4/t0pmdUGAjVoGnZDzjzuCOQ6zBEexIQEnCihk5BSIGTmmesTOGDkTsEJ06+AYuaIYVhRcpjN2z96hUKbFLgRKYVzYnMHqctnGp/C1IEp1lTsNmwQapCA5lWNpY6oYmtXWuiVCUbJ5U7Cw6XDw5GGTmcMrksk6BIX1ZVZROcCAAEBTZKI0BZoMSFWr7PfaZJmgIzTiIm6KpJw3thc0P2OfLD4fYqDY/g5OEin4PsnEE4+fSzURduQiviEtrOCFvxJjcuweznZ2BQSa7KK+kKjDp/xutlD8TRp5yDr+cv7wKcaIw3Vw1hWRZN6lQhItmGttoluOjM41Hqt4GT0FWBE2lgX6BcbKHtCKBo6Hhcf/sjqGOwSa9Mie5fRIOTnVargpNoTpxjkWW47rxjMCjLBCeCAQMPRMhTpjTyuWycV4yQDWThuDPOwTcrGkVzso+9xW7W3q4x8Zrynn9k2TC25Ig1IlazEJf+9S8o9HQCJwpBpomR17e0KvksawB+e/rF+L4qjiaiLQVarTnZB329Hm8i4MSIOeV7IuOS0SmFi+8kEQLqFuDtWTdgi6GlZi4T84C6kQtEm7V8rz25zwKvjOYhTld1LguArN+sujeBjwAh51bvRZMw7eHqHNb9qT0/E9+YwwtP3gCccNYFqAgnJNy8LWE+e7wZiFRi7mevYYctSlHkVcVqWcdOqjFIrTFKjFaIN6/N5/PDCJbhwKP+gg/nLBHZuJWklJXB7GhKO7yJUQr+GVSsyjfJApUII1IxF2cfNxGlHrUASL005rI4VHt7mi0tDdHJRoO+AhjOPIzedi/c98x/pSSUSOLrdTqs2ck1OHWkl10oUWPFnIZWpOsX4sJTj0KpT42xQwq6Unuy+Lid7yXJnR1rnVk4/ZzLsKQugWYTcDJdaVXYnPmpBVHWXmlQNL5Fk2kk4i1Aqg7xup9w+d//jEKX4nvym4CjS801XteaZ6LNUwD0FuPgY/8P3yxpkEaXaYaRs327fvUKBfo5OHHF5MLJ1ZQb8zDawUlCogWcfsT/Zl2HsUOKO5i62gGmC19MZw2jG+9XBScu/u0A1/F6CtD4GX/XeWv/LkspKa2D5glX/gAc99eLsIKmdmobrAtGSIk3ALE6LP7hUxyx95YoN5smsl2HS+z/rMjQFTj54MgqwY77HYE3P5svzuEQLaJcC6TYmFVDTWV2WeBEAUCETbJxvBXNS77CSb/ZFcXMHSOtRDNVrRD4bFwsLA3RYXhhuPNhuAqx3b5H4MX3vhRQFKDrlWnRvYtocOpIJ84tjhGBSY0VW880I1o1D38/4TcoMtvNKAGIloHOvM/3bjhcrEafhTPPuwJLamKScK6EIc5lazMrUSg9yQQq3oHS2q3WF6kUGxrWIFY3H1cQnFhg1tTS2sFJhZJblgxVnSQLhq8YB/z+FHy1sEYCgVTMul2H6/j8+l3PUqCfgxOJJTGgZpVkZrArcCKLScReohWo6x1wagcUC+wsybEdiFb9jvquHZw6f6cdnHxw5w3E8WddhJUh1TwtJVpNBIg3yUJRu3w+zvzjgRgUNJAj1Zt/GZwMfwFGbr0bnn7zUzSmlNtbRexRc+oMTlyWlOZEGgtkRZuwfM57+M2uW8jiIODkZvknVZqmMzhJBQ5HDgxPMQ459nR8On+5Bqeenffr5WxdglO8GZGVc3HmMQejyG2AFf2VEERw6sz3fG/5owI449zLsKAiJODEc6tK5yYoZfIX+ZeOG9+1mcnwwq3xKsTqfsTlf/szCpztZj0BJ9NSwFDyVcApUIr9f3cyvlxQrcBJcqj6mv6+XoayT5y0X4OTCPcZMiu1n4xL9uKWpnkg0QLUzse7s/6x3jWnzqDyc4DT+bsdTYAWuKm9AidObD/ceYNw/FkXZ8BJwIEAwqilVAStDRW46pwTMKLAmQEnmtEkAbFLzYk5H7koHjYedzzyEuoSyu0tkjHpR5+CAKClOTFaT9UJIK0pQ6fC9fjyneew19bDkOdUWpLDQ3DidTua9cTcYtCskwcjMABnXHgtFjGEPSONZwZ0gx9ozanjEHCGddScWBKsFZHK+fjb8b8WzYmmW6mhJ+WCOvKx4nlqTwxQCOBPp52LecuaZOwVL/H/X954HxL0JLcXBhLVCFfPw6RTj5EOANTQCUS/CE7+Uhz6xzPw7ZL6ds2Jfiz96hUK9GtwIhtTeueEIcPyxc8y4CQOTgucrl3P4ETwUJKiBUoEFWvjZ+2ApHxY9vfKDm41W+t4LmUrpyQagDtvME4482JUtqqkVTGH0E4uPaXiaGttwAMzrsSEEYVS088n5WPMiKUuwckDw50Ff8FgXHLDbagIo93/Q6IKMFGabacxYUpBFT+PIdZchSfumYatRxQj22kuDNKjh1KyAic6o1XQhwJZw1UAb9Eo3HzHQ6gJp1jPWsbOHMY+sdPg1HkYKJa0A5SMWDKERP0SXHDa0SgxfU6qCrmK1GvncYv/TXBy+LH3wb/F7K8XdiGYkPGsrQuwMksbCQ+mQwJOlQs+w59/e4DJ8zZwEp/Tasx6WWU45v8uxE9VYUkCVj4nDU6dR319ve/34ES/h2hJJgXJ0pZ0l7bAqe5HvDPremyxXn1OnIyceMp/RECxIpTazQmcoAp4LABT763KFFzM1YJuncvSmlxmcz5WLv/TmRejugWI8UE5d2MsbaS65kYjIXzw8oPYb9tRUnwz6PL+rM9JBUt4YHjzcNz/nY/5VRE0JMywblkfCECqZpO1TChgom+AJr8wwrVLcdXkMzG40C8AJEAskVp8LhWVSBpQa2KtNWky6C9Fycht8dhL76CV0cg2AWN9TYY1Pe/PgdOVV14pp+N3Np0XtWbb/OI7Nu8MVeKaSadikJlG4DH7N4nm0kEoI/9bvO7D0M23wZOvvIeQKWS281e7IKSOrL+Ye5r0RCIlz3MiVOHbj1/FwXtsm/Frct6wNYch99IVOAVh5AzC6Rdch2VNKQ1OG4CJNzFwUgsFWVgScQWcVLTe6/dcjzFDSmzaiyXJmeHdDPHutK0q9bX/pvPfXG4PmPTncrECsxkA4FDaAkFKJotMVAViHcBJ2lOznA/NXazW7JVWAgxL97ic8Dpc8LsCMBzZyCoYihNOn4zqlhRUoVlLu+FTA/F4Aku++R+OO3R35Lt5Hw54GLZN/08XmhPBQjL2nQFss+uBePG9r1GfAFgWKS5EZAe2JChV8nr8KC7t6FmvsBmIN6JxxXwcvNeOyMtyweu2zDrs29MRnEgHAUMjCEdwIPY89I/4+NuFEljBpol9aZlnnpwFTty3tLTg0ksvzfAPwcn6+waY1xvokl2kEVBAiTXgjn9ehhHFPgEHplEwXFzASdIJzGPOA0by0dzrCiBYPBhnX3K9NNakvsJakix2zEAm+jzF7ylPSs6wgIl+ULbQSCEVC0kgUKxlCR6bNRWbDSoQ4UjxGXmPPMhrs7mlGx5WReccpADoyoa3eASumXE/GpIquEc0J23W6zXe6vfgRKamECUvcaJmDE7SCwaJCNC8Eu88ejt23mYsSkpKVtlKS0vR1VZWVoautq6+O2DQYBSXskpEGQaWFmFAYQ7K83zIdrXnVijTngInThL1npOIwOGH4cmGM1iE/LLBKDLPpapNlGBQ6SAUlw7FsM0n4O8XXIPalgRb0KiYb0Y4qR6lAiCxmvm4+tyTMCDbCz/Bh+d3dQ1OrOnnlmRJH3IHbIbLb7kL1VFI4VkBv2QKabOlAN+zxFCSdKbEzAjBlpX47J0XMaQ0Fz4PFx+H5I45ZFHgQqA0Jz4vtScVDJENb8EInHXRDVKVgmMogR19CJ40OFmTyr5v5zMJOOKfGCUbb8Irj9+NbUaWqAoN7HRr5jhlAMr+3sXIUR88OSWYsPuBmLusAY1taakQwvPSnyQAlbm0CU7kO2sjT7J0UawOLbU/4uTjDkVR0CHaOQvMKg2NSfJKg5Kq6NJElPPPDcOTg5JRv8K/H31FgoDIg7E2+m55pF+9QYF+D06ZSULJSsJQkyJxid+JPM1q4S01qPhuNh6ZdSdmzJixyjZz5kx0tU2bNg1dbayf13m7dfoM3HLrNEyfPh23Tb0ZU669HKf+8UiUZDlEmqRJKwNGUp3ZfC/1v1Teh5FViHE77InLr7sZN0+dgVtvvRUzp92KGVNuwcyp0zF1+r8w44778fJbs6VKOhVDNVllec+YMxGtxHP3TcNmAwpBs97PBURQyvQJkHjhzh2Abfb8Db5b0SJNFaklUZpMJZLS64YLBq+UkOZsrUDLcjQt/goXnXUCgl4FTKItmY3lnDSrCDipcHjVXZhtC/KRM2As7n/2bVQ1xxEVDU09Q29Miu5cQ4NTV1TirGqPiFVCoQonn/vpW/jNPttLGLffaeXlmRqTHZjk2AnD41f17YaPxU23349lta2IUHNiioJU3Ve6ktKm7eBEUx7twGwVH0aofgneeuVhbDY0F9key3RMcKL/1lDgJO1pVLQek+kdFNT8+Ri/84F4dfb3aE6ra8ajMQ1OXQ37evqsX4OTYI9FOAGmqMp1MhdR1mpL0hwVblKh1smolDXiwtOdzTLbdN539VtqFVy8peZXog3hupV48t7bMKIkKBNW+VuoOdDnZJoXxMTASURwCkoO06+PORE/La8RKTLJXjZxSnNRpOMx0YoYQisJiHx40RTpdeMnCfHbEKyRrMX8T97AxN13RLbbZ4ITo+fMMF9OWgFLp5hBGGHlZGKkOxeB8jG45e4nsbQ2rEwstLXwPpjwSHMfTXvMf2prAELL8fysW7DtZqXSG0sl3npheDzSmtvNltwmOKmq0NSiqCEWYvNt98V3S5uVv4kOBEYbSvKlNaAbdq/BqTP9ydzkrvZcQgVONPu2onH5PFx74VkIOlQ4eQe/U2dwYg6c8FsW3Hnl2GL7vfH6+5+hPsKWhZDWKZy7TLJVxmreC4VPak4sIhkHomxj24KfvpuNk447BIXZBgiKyoROPqP5sCM4MSFd+jo53HD4C3Ds6efjuxWtkttHvhazHuebfvUKBfo9OAnzisOeIc9tAk70UVMCY38gEcqpqjMZNxnrFihZC9PqRqgzWPE9gYmbSlxtU51w2WywJEtMHYxUU36nzuBEE4fquuvMH4RfH3sKflxRK+CkEmHNMkwJglNapErRXuTmKMkSmMLSKZefc2NSYqTiB0z7x+XI8QbgklIyqwcnht5KGwN3ntQbGz5hH9z96AuobggjEU+ZrQRUdZcWVoRKJtDWsAJfvPEojtl/Akq87DTKhcANwxuA4fZkCuyuCk4BZJeMwtmXTUEVE4mthN9kyATb1VG9dz+3eMAaa+1zIjiRu+ICGAqmGK5ANSeEdGsV3nruQYwozZYO0/Q7dWnSY81JH4UxJmJnwfDmwpFTjgOOOBbPvfEeGtpSqA/Hhf9l7maG3QZOTDyPhDDvq49w4dknYlCxE3kBpTXRdKz8mp3ByZnxOTmcXgSLBuHB595GRURFp1Lo0z6nDLF75aBfgxMpSDxQUpVVKYJmPRb2V7ZradhHtKK0Rad7WrV9tu/XdCTsv7WOCUxx/ieh1xGEa5fgyXtnYGSJ6oSrwqipsShHbXtAhMr5YPFYVz474Z6LH1Y0SkACNZQ0gVUi8RLyrJRWrU0dcZlgE7ikPLNIs8lGIFyF7z56B2OHDUauz61s8WYldrVo0PThlT43rBcohWHdBJYcGMESbL/HAZh5x734/ItvUFlZi4bGEOobw6huaMScOV/hiQfvxO8O2hWD85wZJ7jBEkmUiFmLkAEiskBRe2KwCdsW0PeVg212PhAvvfs16liWzQT1NPtu9SHNyT8emQMAACAASURBVBpXa09wuuSSSzbhgAgLnBQfitlczTw1txKtWPrD5zhs351Rlq18P8JnYjK2A5UDDB6SYsk0r0m79iwECspwwG+OwgOPP4MfFixBbWMronE1l2WWU2tKxhAPt6ChagVmv/MmTj/xjxhanictcDxMOBfzHecYNSd7QAQFQ/pWXXA63AjkFGK73fbHvBVNaEyqvD7CrjKTt+tqa7ou6O+vGQUMa3JZ+9X93Pr7+tiv7pr96XNqORJAILpLC8KNi/HYvdMwojTPNOuxthfDxDlp1GSlJuU0fHAYQbGNu/NKcPBvr8W8qqjkGsVpquSMaQ9b+mWScYGniSzegnDVIvzthCMxLNeBAochCYqsGi11+iQyMGgmytoXDwWgTo8PAwYPx977HYIbb7kNd9//BO64+2HcfttU/Om4ozBy+AD4farArfKlmcDLZ5Swd9XPh9dyUqNixKArCFfOAPz1wmuxoCqM5oTS+7gwtCUokStR45cfsne+Yc0FalEanCgJmqWFJA27PZ+QMhmFqJaaFZg1/TqMLw9IAriKEDWByOGG062KKHfOBxT+cXrgDmRj5OZb4LT/OxOPPv4EFi5ajJbmJkTCrYiEWlFfXYkP//cWpt1yI/bYZUcU5gZV5X/yGOeS1PIjH3JTFgqClMfFoCAWZXbD5cvG4JHjcN2Uf6O6VeXXkf8ItuLC7R3W0lcBoMGpl9igz4CTmFnY/bcVqdYafPjaM9h3uzHIdxiSoCganICjipgSCVYmszWpTZBxeuDyZsEfzEdR+VAUlQ9DYdkQFBflI49RgB7VRdjtdsDtVhF5akHgsQlQ9DcxKddHYPLDESjE2G33wlOvvC/ARDt/G7GUi0NahSn30nB16zIanDqRaTXgRPNbMh5FOtKEmgVf45gDd0JJgAKPE+ztJH2VGCnncikNfRV+oy+UAowXLm8A2bn5GDx0KHbddVccfthhOGTiwTh04kGYeOB+2Grs5ijOz0HQ70GWz42A1y0dANoFpI7AJP5dpwuBAAUxL1yBPBx02B/w9fxl0iZDA1OnMe7FtxqceonYfQmcuFCAdvlYK5oqFuHGS8/F6LJsScqlf4lOY5UD0l5eqD1vy5Q4WdmBwRQSVUVwYZSdFy6nQ/xLzOVS0qqh+mJZ0qqEpVsOaS447Drqg+HPRcHAUbj4mlvx0/JGhBkJnJFYU0iJs11rTr3Ermt3mU7gZJmXaTGQQKC46q305lOzsN9OW8HvdcLrUkIM+5JJbzIKRhY4mRYExYsMDKLAxMKwHjELZ2VlgVt2MAs5wQCyAz743Ir/6OOUfmn0YTlVqxolHLVrTOLvJB+7vPD4s+Hw5mDsNjvirgeeQEMkLfX5LI1JCEL261ssuHbjtJH8SoNTLw1U3wEnIMloxGQC0gk4EcY3H72DU489AoVeA0EWxjSBxe12S9sM1TrDzA0xc0Sc9BnRHEczJHtUeekvos2ekYYMy3XCzaRjkYzbTZXKZKn8TFKZnODm8sGXX4aDjjgWn3+3GC1RVXqJixv9g2nxB4rVv5dGq3uX0ZpTJzrZwIlrOM1gAlASTMDw7jAQbUJbzWLMuu0mbDFqoKQYBFit3AIpe3IuwYnpBlaytgCT4jmHw6kS2t1uEYgksZclsFwO+L1M9lYbk9Q9bmpopo8pk+Nkgh0Bj75Ubw7yy4bh+im3YUlFgwRLUTjKeJgEmPggmU86Pbx+29MU0ODU0xRdzfn6CjhxjlGSZWSfRJzF2xBvrcfsN1/CEQfsjpJst3QrZWg7Fwza4h0G6985M5s4k2mzdzrh9tFpbSUz0q7vgsfphcfpE+eyisazJT1a0rCErbtgeIOiNe2w14F49rV30RixEnmVOy3NsHRGgTGpt48tDBqcOjG7lQBrVlZcBZxY45GJsZEGVC36DrdcexFGDsyR6D2v0+Q3C5yEP2zgxPBy5iCZVVpcFJzMYwKPm5VX3G7xlwpQZfxMZoUXCkkUpiQQgueygZMrgMKBo3Da3y/EvCVVHYQjeUJBWgYzkRepS+lXb1Cg29F61kRcl31vPFBfvQadwqpiA8PWGxFuWLSagAhOmq4DIjx5JZh41HX4oSIiuRdRVgSXdtScPd178ZvMsDfTk9rzruqr8Npzj2P/3XdAUbYXAS4WponPwz5RUkmCjmMCFU0j6h6lU7CEiZv3TMe2wQ69XjiksgVD1GmOoX/JCYOdhaV9vQHD64MRLMDmE3bGjLseQGVDBCGGotMMxBuVjW+Yu8IMl74jtXaeBzoggvzH8eGm+JH/Z95RsGBUKc3J8TDS4TosnvsxrrroLIwfXY4sdqhlBZEOwouZh0SfpdVF2tkOUJb5TyJJGSJuBjwwudvlYsdpQ7QrB39DYBI+pOZlbtKyxYO8sqH4yxnn4dM5C9BMd2yKkbV2HjSBSSJtJd61e5NNf2udKKDBaZ3I1/0fU3MiwydZLinRgHDDYjx5/8wuovXM/AtT8nMZTJK1ovWKccDhV+ObJc1mMUwmapkRe928FS4Yli9ALfVic5FFIxlpxvNPPox9dt0ehUEPstg11OVAwO1D0BuAx+ECyxmJNsVFxAQoC0xlbwU7SESefSHgc5mbxw1XwA9Pbh6Gb7UtZt77EBZV1EuOVtRM7lfAxHWOd0lptW+Z9XSeU1cMJ9JEB3BSMMXvmlAl2hVBKgS01aBqyRzcePVkbD68BPnZLvi9ttJGltDDkldmGHjHwAabf8ryU4lm5ITP5wNBSZmdXfAFsuDxZcETyFYRqG4ffNn5yC8diJPPmoT3v5grCeTi56QgyUkij2Oa8iytsI9p712NQn/5TINTL40kTWkEJ5Wo2IJQ/UI8fNeUDuDkNlRxWEawsfac8t34FTi5DXgLynDo72/A3IqIgJNoTizTIgkY3X8QLvcZiVZ+pvKvktEwoqEmvP3aizjhD0dgYFEusjwOeJ0O+Fwu+N1ueF30JalyQx0WClPiVflKNJ8QmKg1sWYf22744PCy+gMTLF3w5uZhhz33xp0PP46alrZMQjQfJ3NzsrKZi5oAlHzQ/Qddj9/U4LQuxCW/sbJJExBrREPlQrzw1IM44tD9UVacKxoPC8NK/UXOAw/DvVXtRZVeYZX6ssCpc5ADzcjU5J1wuc2Glm4vHB6/bIYngKy8Imy57Y64fsoMzF1UIZVIqLUzslBp7eYBwUg2C6zW5bn1b9eEAhqc1oRa6/Bd1qGkWS+VjADJJjHrPXH/DAwrzpEkVa9h5TmZmlOX4FSqwGllWMApQR2ImpOIed2/OREIO389nZJwX5ZDam2sw5effIjrr7oUu27/KxTk+AWk/AwLZzKjGTDRAZxEcuUiwWAHFSQhFSHElOKBwxOA4cmCN7sA5cNG4+Qzz8br736IFfWNCMVTqlIHJVaiuCTGqMXAgiZLkO182xvqvQantaN8hvfou0myEWAYiXAjQg1V+Pqz2bjq8guxx247orgwR0XzkeesyDu2VWFUn6lFSZBDhu+oJVm+JBec9EmZZjy3LwC3L0sSer3BPAwdNQbHn3Q6Xnv7fSytqpc6lCyHxBYzAkxig1fVzTPApLFp7QZ8HX6lwWkdiLcmP7XWXDHrpRQ40ay39eghGJiXh7K8YhTnl6CgsBh5RfkoKAqiqKAQxXnlKMobjNySLBQP2wy/+9M0ScJtkUIxJjDRZrhGr8wSkfkVfSiJeAwMQEjE2hBvC6GuaiVeeOYxnPyno7HlmOEYUJKL7ABbC6gwcQVOltRqhodTgxKfEgMmuDGxMYjCssEYOmoc9pt4hBSnnbe4Ck1tKbSZ1TrkEXhbguCUWtWtWUY9S6HK3PAGPtDg1J0B6MiXfJfR2mWsWZyVTsY2pGMR2eqrV+LtN17B5HP/it133h4jhwxEeVE+sv0e4TsJDzeLJLP9jPI7mTxoD3JwuuBkyLkvAH8wFwXFZRg9dktMPPwozPzPPZjz42LUh+KSskBg4vwUYEqlpU4lC0Krai78g2JHyxzenSfX31l3CmhwWncadusMIoxxQkoDvma0NS3Fd5++iRuvuBCXnHM2Ljz7fJx/zmSce975OGfSOTh30lmYdO55OP/sizDp7Mvw98ln4dzLrsbts77G4garG20SiDGSjVO+uy/ONIqIq+oiXHATiYQAVDIeQ4pVGeIhNNUtwztvvIDLLz4Pu+40QRYKSrOSVS+RfAw598DB8kNihnHAIRF8Tnj8AQwYMhznTL4UDz3xPL77cTkaw6quIdtrRFiwNs3rxs1cGC5YvD/1PLxLAhPLba7JU3aXGmv7PQ1Ov0Q5C4rUQFrvOJ70IAr3URARn6nSUtLMv5OtDfFwM3787ms8ePd/cO6Zp2HrLUYjN+AVzZ2mZcmLElOyqTGJP5NBD8qMTK3J5fEiv6gE+x54MCZffBmefO5FLKmoEUAiP9GLyT0DhGjZIDileT8sCSado1nxQoGTJSTpWL1fGvee+7sGp56j5c+eiZNTTVPF5qwVF4u0oKmuBnXV1aitqkFNdQ2qudVUo7qmEjXV1aiprkVNVR2qaipRXdeA+qY02qgwyfk4m8ztZ6/e+Y/td7PKX6zzZfZJpBJRREItqK2pwsIFP2LOt9/grbfexOTzz8fuu++O/fbbH/vuy20/7H/A/thjzz1w3PHH4amnn8KXX32F7+f+gKrqWjS1hNAWS2aK4JISksfE0OPM9To+j7Wo8buKfp3veMO81+DUHbp3HDGL66y9DGiHcbf8O2L/RjzahpamRlRXVmDe3O/x5Ref4+OPZmPSpPNwwAH7Y++998I+++yDffbZV7a999kX3CYeciim3HorPv7kE3z9zTdYtHgxVqysQHNLK+KJlPCf8F5n9yYfKXM/FsepZ7DuWb3rzrPr76wrBTQ4rSsFN9Hft7W1oaqqCgsWLMDixYuxaNGizLZkyRKsWLECkUgE8XgcyTX0iW0MJNXg1LujRB4Kh8Oi2VdXV2Pp0qXCb+S9ztvy5ctRV1cH8ij5j4JPLBZTAlDv3ra+2jpQQIPTOhBvU/6pledDMyAXDvFZ2Y5FE6L5JpmUhaG/0UqDU++OKEGmM835vqvN4jnyZue/9+5d66utCwU0OK0L9Tbh31qARBCyFgAeU1rl36y/828WUPUnclnPxWfjxiTcSy+91HTQG7jyyivl8/747BtiHC06W5oQ+Yu8ZvFe5z2/z8/4PetvBCv92ngooMFp4xmrPnWn1uTnnpPeLtlai4L9O33q5nvgZviMfD5r0+DUA0T9mVNYvNRZG1rdT/h9C5i45+/4mX5tPBTQ4LTxjFWfulNrcebeDkxcCKyFxL7vUzffAzdjPT+fkZsuX9QDRP2ZU5DGFsCQ9tzIa6t7WeNiAZQ1Xqv7vv6871FAF37te2Oi72gjoYC1AHLh0+C0kQyavs2NhgIanDaaodI32tcooMGpr42Ivp/+RAENTv1pNPWz9CoFNDj1Krn1xTYxCmhw2sQGXD9uz1FAg1PP0VKfSVOgMwU0OHWmiH6vKdBNCmhw6iah9Nc0BdaCAhqc1oJo+ieaAqSABifNB5oC648COpR8/dFWn7kfU8AKTbYASuc59ePB1o+2QSigwWmDkF1fdGOngAanjX0E9f33dQpocOrrI6Tvr09SQINTnxwWfVP9iAIanPrRYOpH6T0KaHDqPVrrK22aFNDgtGmOu37qdaSABqd1JKD+uabAL1BAg9MvEEj/WVOgKwpocOqKKvozTYGeo4AGp56jpT7TJkQBDU6b0GDrR90gFNDgtEHIri+6sVNAg9PGPoL6/vs6BTQ49fUR0vfXJymgwalPDou+qX5EAQ1O/Wgw9aP0HgU0OPUerfWVNk0KaHDaNMddP/U6UkCD0zoSUP9cU+AXKLDBa+v9wv3pP2sK9EkKWGWLLJCymg06nU44HA5cddVV0q3V6t7aJx9C35SmwAagAOdOLBaT+WHNH2s+2W9ng4MTb0q/NAU2NgpYk4ngw1bgzc3NuPTSS+FyueB2u3H11VdLYVirTbj1fb1Xbe01HTZdOnBOcN5ws0AqHo/LfLGvAxqc7NTQx5oC3aQAJT5ulmZkFX4lMFF7uvzyy2XiRaNRcOJZk1Hv1aKk6bDp0oHzIRKJoK2tTeYIAcqaR/bpp8HJTg19rCnQTQp01oiamppwySWXiEnP5/OhtLQU48aNw1ZbbSX7sWPHQm+aBpoHxsp8mDBhgghwCxcuFOHNEvbs00+Dk50a+lhToJsUIDhZpikeE5yuvPJKeL1eMe1Z5j2PxyOAZRgG9KZpoHnAkPnAebLlllvi5Zdf7mCBsE8/DU52auhjTYFuUsDuyCU40Uxxxx13YPjw4cjJyUEwGJQtNzc3c2x9pveKNpoOmyYdsrOzUVBQgIkTJ2L27NkZvxOFPftLh5LbqaGPNQXWkgIEq6qqKrz33nsiDb7yyivg9tJLL8l7Soh60zTQPKB44I033sDcuXNBXy1flrBnn34anOzU0MeaAutAAUuDam1tRTgcFm2Ke26hUEhvmgaaB0we4ByxIvUs83jnqafBqTNF9HtNgbWkgDXJ7HtLIrR/po833TBqPfbpjI+Jwhznh7UnbewvDU52auhjTYF1oIB94eGkY3isfeLZ/66PNUBtqjzAucHN/rJoYf9Mg5OdGvpYU2AdKMAJRjDiRmCyJiE/1y9NAU0BRQHOB2tucK50BUz8pgYnzTGaAj1EAWvS2ferm3g9dEl9Gk2BjZIC1rwgSFnH3NtfGpzs1NDHmgKaApoCmgJ9ggIanPrEMOib0BTQFNAU0BSwU0CDk50a+lhTQFNAU0BToE9QQINTnxgGfROaApoCmgKaAnYKaHCyU0MfawpoCmgKaAr0CQpocOoTw6BvQlNAU0BTQFPATgFd+NVODX2sKaApoCmgKdAnKKDBqU8Mg74JTQFNAU0BTQE7BTQ42amhjzUFNAU0BTQF+gQFNDj1iWHQN6EpoCmgKaApYKeABic7NfSxpoCmgKaApkCfoICO1usTw6BvQlNAU0BTQFPATgENTnZq6GNNAU0BTQFNgT5BAQ1OfWIY9E1oCmgKaApoCtgpoMHJTg19rCmgKaApoCnQJyigwalPDIO+CU0BTQFNAU0BOwU0ONmpoY81BTQFNAU0BfoEBTQ49Ylh0DehKaApoCmgKWCngAYnOzX0saaApoCmgKZAn6CABqc+MQz6JjQFNAU0BTQF7BTQ4GSnhj7WFNAU0BTQFOgTFNDg1CeGQd+EpoCmgKaApoCdAhqc7NTQx5oCmgKaApoCfYICuvBrnxgGfROaApoCmgKaAnYKaHCyU0MfawpoCmgKaAr0CQpocOoTw6BvQlNAU0BTQFPATgENTnZq6GNNAU0BTQFNgT5BAQ1OfWIY9E1oCmgKaApoCtgpsMHByX4z+rhvUiCdTmduzH5sfcjPrM36TO81BTQFNAXWhQI6lHxdqLcJ/Jagk0wmBXxSqVTm2AIj7hOJhGz8u35pCmgKaAr0BAU0OPUEFfv5OQg6djDi+3g8jmg0ugpY9XNS6MfTFNAU6CUKaHDqJUJvrJfprDkRmOyakvWee276pSmgKaAp0BMU0ODUE1Tsx+ewg5OlLUUiEYTDYbS1tckWCoVkH4vFRMPqx+TQj6YpoCnQSxTQ4NRLhN5YL0N/kwVCixYtwuzZs/H+++/L9u677+KDDz7Ae++9h48//hgrVqwQc9/G+qz6vjUFNAX6DgU0OPWdseiVO2HcXSwFJNJAPMFAhxRSiRiQigOpGJCIINnWiqa6asyfOwfPPf0krrjsElw4eRKOOOw3GD9uHMZuMQZjx47FmC3GYsstt8KYLcbhV9tujz8cexwuuPQy3HDLFPz3f+9j/qJlaGhuQzQBxNNAErYtTRNgCkjzUx7zzmxRgR3e9Qpp9EV6lQKM8EzI2JMHlU8TSKXNDWmkZEshBRWQY/d7rs3xah+PvJhKCvfxjriRK4Uf+TfZVmHR1Z5O/6FnKKDBqWfouNGchct/JAm0JYFEKo1oWxhItAGxFiDahFDNMnz7yXu4+1/T8dtfH4zRwwYj4HHA4zDgNAw4zM0wHDAMp9ocLhgONwyHB4bbg2BxKUaO2wZHHnsiHnn6VSxe2YSGUBqhOBBOADEAcVl6kgAXqA4A1Q5T7VC10ZBX32g3KUBgSqbakEYcyWRcNG66LJm1oMQWgpMCphQSCqpsKQs9Ck6pBJBKyHwIJYFwGmgT5uMNqb+ZN6VurpvPqL+2bhTQ4LRu9Nvofs05R60pyUUglZRJiWQbUuFGrFzwPW6fcj0O2ns3FOUGkBPwIsvrgsswZOsITgYyAJUBJ7eAk+HxweHLgi+nCMXlI3DE7/+MWQ8/iyWVjQgngSiANpFQeTemBmXTmjY6ouobXgsKJJFORZCIh5FKxkUtSaXSIEBxn0ynkEwnkSSIpWPCq1bQTU/vIZYDBU7kzQj5U4PTWoxpz/5Eg1PP0nOjOFsqmcyY8tKxEEIN1Zj99ms49YSjsdmwgcjPDsDjcsDtcsHlaAcmC5wMg8BkAydqUAJQLhhOJxxuNwyXG05vAN6sAgTzB2DLbXfDRVfdgI+//gGtCaAplhQNaqMgmL7JnqdAOoF0KoR0Iizm5GQijkQsrixooj31vOZEbasrYKPWhEQC0URahKYwASpNDZ7/ddKcBLR6nhz6jKtSQIPTqjTp35/QNBILg9oS4iGEG6rwyjOP49cH7IW8gBtelwG30wG3xwOPLwCn09nBnEezXjs4WQBlmvgcLvh8XjidBrw+LxxuDwynF4bLD8OdjcKBI3DcKWfh/S++Q004AZpQVvU29W/y66dTFEin4khEG5GMNaO1uRY1VRWora5GdVU1qqprUFldjcqaKlTWVKKypgJV1VWo5t/Xw1ZXVYmaigpU1jSgojGCurY0wtTgeKs0OYvZz7Q3anDqNRbW4NRrpO4jF6JzN94qW7SxCk8/fC/22HEb5PpdCphcTjicThhOt2wOp0v8TB0BqTNAtYMUtSuPCXACbBmAyoLhzUagcCD2P/xo/O/z79Acb3c+WyClqMQVQK0C1pFeE/oI//TUbaQ5+M2Ih+vw8vNP4KLJ5+KySy7G5PMnY5Js5+O8yZNw3uTzcO4F52HS+ZNw/vnnr/M2efJkdN4uOO9cTD7vPJx/4WW48Oqb8L/PvhezngInak/0jSqW1HzYUwzwy+fZ4LX1qGrr1/qhAGnL3CS+GBIuSbL0M8VbEG9Ygf+98jT23nEbFAa9CHqVhiQg5KCZjgEOCqCcBCgHtSMFSjwm8HT+jFoV/VNum4/K4O9o8nP7YLgDMHw58BUOxFF/Oh0ff/sjQikgmgZiaeULE4+4LAaMlxLDivZKrR/22LBnTceAeANqls/HuWeejPLCXJQU5KOooAAFBQXILyhAXmE+crkV5SG/IF8+5996eivKz0NhfiHyigdi+LgdcPejLwlfSsSegBLBSa1TerXqPbbR4NR7tO71KxGcWM3BsrMLQCXiQKQeX7//Gk78w2+Q73cgy23A7VCReB2DHExfEsGJ2pRDaVUWKAlIEagcjoxvqnPwhAI7A4b4obwwnASpIEqGjsHfLrwa3y2pQVNMRfBFYozcM8PLMxF8yryioKrXSagvuL4oIOBUi3lffYAjDtoLPlOoyfg1HQYMbk5z4/EqJuWe+Uxd0wnDlYXCwWNx+33PojVlhpNnwEn0KB22s774oYvzanDqgij95SOCk7XxmQhU8WgELZULce2Ff8XAPK8sCn63Ay6npRlZIeLme2pRTg8cLvqPXBI6TlDi5nI64XWroAkx560Sbm4uMFxYXA4JluC5DHeW+KCGjd0e//zPI6hoSYgZJZZMI21FEHYCJ+aeaKm1v3AmBzMKRKvw/utPYbuxw+CnOdjUuMWvuSHAyRlEweDxuO2+59Fi5gIqcx6BiXlQDG3Xr96igAan3qL0BriOVU2clyZIUYMKtTThyfvuwI7jRyLoNOB3GqL10EyntCYFSlwgCDjyuQCTBy6PDz6/CpKwtCZG82X5PPB7nGLSU7lPCsRE8jWlX5eXJkIClJkP5fDDFSzFVnsdhve+WYAGxmeIlGrmlmTyn5TmpMFpAzDQ+rxkug2IrMQzD96GUeU5Ak7eDQhOwreubBQM3hK33feigJPiR04eOzhpEWl9soX93Bqc7NToZ8eW1sS9VRdv7ndzcOzhB6EsxyNak5eh4jSdZJJqHRIAQWCi78hJcHH74GJYeCCIgsIibLX11thtt92w5x57YPddd8EWm41EUV42/G4CnAeG4YVhEITob1JmGafL2hO4uHlgePNhFI3CpGtuxY8r6hBlYFSSpj1ucbU3M6E0OPUz5kxFgNBS3HzF2Rhc4EHAMEBwIs/1tuYk1yNPunKQb4ETXbMiLFnglJBKFUmtO/UaI2pw6jVSr78LWXNIXaH9HY9SNO0hjUQ8hobaajx4710YXpaPHLdaDLwuZaJTQKK0JgJTJrCBmo47CF+wAGPGbY0/n3gKnnz6OXzy6af46svP8fmnH2PWPf/B0UcdhoGlBfC6vXBIMAWrRtBPpUx7DC+Xjb4t+q4IXs4gDH8ZRm+7J15860OE4mkkpX6NBVAKkii3anBaf/zT22cmXyIZRrphPv7v2INRmmUIOHUw69G/ZPKO+J3Wk7+JfiwFTszNIzhthZn3vYSWVcCJNU0SSJqFjXqbZpvi9XQoeT8YdQYLcPFWtV+SgGgfSSn6EkUaMSSRiDZg6ZzZOOWIfVHkc4l9X0wZLDkkYOKAzyxTxFJFLocLLncQhjMfvvzR+NXOh+CBx1/DkooWNIaSCEXjaItFEI40IBSqxqKFX2P6lMux1WAfirwGAh5qXH4JH2cQBMGOkjE3gp+KBPTDcAURKBqCcy+/CVVhVTqGFSzUs7DenwrjJUDJotYPxmvTeAQZxMyo8R3HUBnIyLAtQOUn2H1MEfLcFFioWdOvSc1bRY6SZ4RXTGHJnz/IHQAAIABJREFUek8wcYimb/lFTSBbFwDjHHDnIHfIlpj5wMsdfU5SV4lRryyjJDF8m8YQbuCn1OC0gQegJy7fAZySJjilkkikU4gihRgSiEVq8N8n78KOQ/OQa1Z9UKY3n6qJ51D18wgefhcj8KjZZMMdHITx20/E/U+8jSVVUVV+iEVjJfSbTuI2pNOtiEZrUbH8O/zn+r9h2xE58NFU6A2I1sUACJprGJHFjYuMAide2wvDk4c9Djkas79fjiYWiSVRZDVjdr4CJw1MPcEpvXmOjuCUGVKrqGqkDtUfP4mtytzIEn4gOHkVL9rAibxCMCJIWVs7MJngZAclgpz9fXeOBRiZ7mCC04MvoyWT2kBENf2gAkyEV/3qDQpocOoNKq/na3QAJ06kpBQok9iiOFgmKIpQ0wpcd8HpGOAyZDEQgBC/0KrgRM1JgMudi6JB43DJP25DRWNakmZZe4x5SdTUoom46GXpdASJRAtSiUY0LfoYfz1+IrK91JxYHSIAh9Mv4LSK5kRg4oLkzEL5ZhMw84HnUBNR5xeSSb4TFwatNa1nFuq101uQlWquwMePTcHmBcqkJyY8atrU5G3gRECyNCWCkgIms+CwaE+dwGidwClbNKfbHnypC3DiLNP6e68xCgANTr1J7fV0rYyphOeXN1LVVVoSEJpiqWYs/vFLHLn/jigy1GLQEZwYvKBynajxKM2GoJWL3fY/Ep/OWYSmKKSkCwtitplhtrxUioU5E1GAeSusTBZdiadn3Yph5XlwuVhrj8ERHgEn+hTaHd6qkrlTIgEDCJSMwNGnTcayxpSElYumZAMnbdNbT8yzQU6bRrR2KR6/5TyMzFXatPg8WeZKwMkhWhL5UIETwcgKpDEjQbsCpu5oSav7Dv2j7iDyhozH7Q+8iNZVNCcLnDYIwTbJi2pw6gfDzr43qhuNCU4KNdi5CUAYiUQ9XnnuAWy7+UBkZ0xrNIkQlGhKIVCY4ORihB4TEoNw5QzCpMtuRF1rHKGEAqXWWEpMenGz5Ya0OEgmpLJ0miCVqMO8L97CkYfsjSy/RyRd8V+ZwMQFRxzQvIbB8HOGlwfgCJZh7M4H4b2vFqKFriaOiyTkKs2pHwzTJvAIll4kooU8b8cjvuN4JtGwbC6uO+soDA4qP6Tk0IlZzy2Ro+STdnAiIFHIUYKOAiryj8lLFuBQa1oLzUn4kcWLXVnIZxLuA88jZPYfE6FIhCSCk9bge5OJNTj1JrXX07UYjcf0QFkIzPmvJlUb0slGtLUuw9WX/BXDy9rzSZwieVo5RyqqzuM0w8cZoefNR/GICbjnsRdFU6IfiCWG6GuK03JIyZJJszS5cct0iWtG/Yq5uOW6S1AQ9IKh6h5WkRAp2DLLMMRchaxTk3J7s2F48pE/fGvc8ejLqG4xY6IyJ9erwnpinR4+rUhFmcGys6ISNMwUgVQUK374DKcdsSvKsgzhEafHMvG6RXghX1jgJEKUMwvurCIUlAxGUclAlJSUobSkBGUlRbKVlBahuKwYxaUlKC4tRekabOXFxSgtLkVR+VCM2npnzHryVbESCBzxISwNPvNkPUw2fbouKaDBqUuybGwfchop3clazxU4hYF49f+zdx3gUVVpe3p6TyCEjhQLvYpKERUbrv23976WteKq2HbRVRRd29p2rWtZu+KqqwgoIgKC9N5Lep0k02fe/3m/c89kAgkk1BDvzXNzy9xy7nfKe76Oki0LcPqJw5CeoLzw2fFtkiiQs1Ra6zFOXt1vVpsT9uRcHDJoLKbNXSZqYC3UkL5qdFLuyxJ7MlwDb9U2fPvFe+jaNjXqvxIFQ3Jr8m6rDD40kBDTc2cqbJldcMsDT2L1tkoxiogQAeWDlE5av87ctlAKRDmMupiIbDdMakn/tbBEw/cAwRosmfUNxg7uinSX4thtLq37VIGGNTgprsYBS3wGBh19Ih6YOBl/e+JpTHpiMib97W94+onH8dSTj2Py5MfxxORJmPTUk5g0+Uk8+WTT16cmPY7HJj6CSZOfxdMvvoG5S9eL4Y/i3tkGzcCvB6LFmeB0IKi+198pQ4BSN4keyECPcLU4Oi6b8wWG9e2EBIeS4Tss5GQoFiHnxFVxMdrPRER9ibk49bK7sHhDifhJKW+pKBw1+gWhkAchXwVWLZyFsUf2EbNyApB6nyGaoRjREPMxbI2Nx/ZkWNI64aQLbsC8FVtEIElDPfkopUJr9J3mDy2EAtGoHvXBifY5EpaKGZeDNYCnFN9/8iaO6JCMZIqRadkpukclYiaXXaefpPjZCVdGB9x8z6NYt60CBaVulJaWo7y0GOUlhSgvLURZaRFKykpQVFYma2lpKZq6VhYXo7K4BGVlbhRWeFFaq/I6KXAiMJHjU1ICOddCyN3ai2GCU6uoYdrO0S5PWdFxK5xTuAqRytWY+tGz6NkhGS5xhHXBbqETLAHCACcBD4rfDGMIBmdNzMNtf3sdG0q1+6tmjxonGK+QlNqhahRtWIorzzwO7ZOUdaBN3keFN1dyT2oAYmQAh6HjsqR0RK/hJ+ObWUvEKIKDmglOjdO7xf0ig7hqL2wLbId6fiHcB3OIhdyAOx/vvzQJndLtEj5LRQ+h64Li4inOqwMnTqJcyOzcG5P/+YG4Gnio7wxFEPJ7JVGhjiZCwTbfLiWIiSsZGymloX34fYh4vQgFIyK6ZqJBrkpQrh3CDde7Fkf01lsgE5xaRd2KRkg6JU0gxE+I3xWphK9wIV574k/omKUih1ts8SBQNAhO2gfJnghrWhc8+e9p2OqOkeHtBJ8UMCk3RZqW1xSvw4QbLsAhGXYkieKag0wCLNZEsciiuIam5fyNIhyak1uS8pDVcxje+myaZMsNEpyMd9JC3lxaOAViwInVpYFCqo6iMWa9DVUhXLIOzzx0O9omWUA9p0SAEM6pzhiiPjjFoWu/EXj7v7PA5kjjHGkbkgTQD4RVqKvdBic6rQeDCAXC8DOFCzPhSrJB4yvku0xw2t+tzwSn/U3xffI+BU6cpbJjEaBkCZWhfO1MTLjhVOSmMMMtxSeJMeBkRIfQnBOBgtxVfCoyugzE29+vQLG3DiA0UMi23oES+nFw8NNyMORBsGorXnjoT+jdLrEOnASYkmGxxonSmyK9NFoJCjgx11MbuHIPw6SX30dxTQSMFEGVE18lW/1d5rZlUmBn4CSp0GuBYCUq1s7HHVeeg1QjVYtY2JFrIkAZE6TtwWngsWfg619Wo9po41FwkhiMbP+M3lDHrTWLQD4v4CfIKUBV4MQ2bYJTs+i4ly9uGjiJUjocTb8QyxpHjbTIBhur+p3X61WlbpCyG4PNdmObMQKyMUQFAQ1crhhtNVppWTC3dTJuKQMV6YyUoB/HWRsYyIerISqS13DUUyFJeCiiBxlgVSNVrZ2iCPrxKI6EA788Q+aFfIH+IClu9EifVdfKw9UIG/uD3le3xhRMShM9u+sdXs+4X6qM0W8JlWPbshm45pwRyEo0Arza4yWuneKcjMCsFrsAFiOMW6mXSshAl96n4KtfN6BcSWkaKIIufN2WtcBShIM+hKpK8O/n7sfArhni9Guljou6JfF7SopaZMVbtSmxVTz0ncl5+PMjr2CzW4Eshx35Hk3qBkpinmoJFGA70Hy7Si2hOScJRyXcSQ0QLMfaOd/gvFOOkYkQo9urGIwqFiM56lgzcjEbt8bhtMv+hJ9WlaKSnJNhNRoK+I0Awdyqhqq7vIopyS6novFzG53p1OulZJEYVUUZPbCsutyqb4vCTHZ1S28J1P49lKFpgV8bAScNRnormMAhVkAphEhEr7HAZozR27cVQRLFARjQoBoEr4tCAC3SeMQGQ2cYLXNWnYEsOWdUQT9FCAHVVzgNEgfRSoRQKW+Jyr+CBDAPQvApboM5ZhCS2Vkta58t3V8OBCqkEJy1VclpFqrW6BB1o2ZdOWPLbDSjaBI947m8Ta/6RikYyyCFbkb7I1VU1C8+UobzCK2iyrF67lScOWYw0uNj4pdZaK5LvZM6Z7WQk0mBhZHD4yywJmah96DLMWvZerg5qDR5YSn8Etsv4q7BlPcmY+hhbSUdgljraRGOJV1myJwlWyyJEtJIi3YSbcm47ranscYNeCMBeDQnqMaeJpfEvHB/U4CNmGw2224dOEmP5rjPduSrEj+4Hz97FUcP6CEctDjdioGMMsoRl4OorxKByw6bKwGX3zkRCwoCqACkf/K5YZmAkuPRoj2ON4abgwRJUZNipoqRXGZ+Vba6jqd8rlRv3d/0Mt+3KwrsETjJrCSGY9IgpTimhoBJNRY9ieE2ijyywxGIzc4YEI3f6y4j58QjNirGXSNAKUsaKs+ZSFUsg4SRCCnBsbA6DLNThSDcCpw0i0GFasCNYLDGiOfGi0OoocyZlOOrApUiimCr53nKvIV/IzjVQxdF6rqybtfko+Akwuz6t+qborwPacCTTV0aASd/KeZ8+yFG9O2CVJcFNkn4R9HJzsHJnpyDoSNuwPx1+ahtZjlkRsCZaHUtvv/sRRzdt4OYk+8UnMixCXA5EGdJwPlXPYzFRQQnfx040cGqOSRpKunM6/YSBVg5emJVB07syZy0CnfidwOBYrz7wsPo2TFDRYMQ45g6h9o6cFLAZLG7kJCaiUdffAcba1T/41voBB4i2AgwaXBSgjh2b5koG6AkGaDDaoKsGpGeFeqt2bD2UiPYq4/ZY3BqCKB4bnuRnjqnwYnbGC47+km6saj5f/R0FMPYiKSlG74HMiWTB3HsF85cT4bYQrWUAczFUo0AahQ4scdIC6cMvArhYI3oN8iNkf8g7BCcpMmGqoEQYUmd454SLm6vjKkrrS5l3RnuCWIaUQ+iH6Reom+QF2oa1L9750eNgJO3BNM/fRMDD8lGcjTyM825GwEnAoTTAkdyG4w84TYs2VyqQHrnL4/5leXwqajo1bWY/d2bGD2o2645pxhwclricPLZt2HORsbYC8hcnNUIcsNCn5jXmbstiAKsHNYUVwVOAhI84k+cRPoqgZptePK+69EhU1nmKZ83HT/PyB9GjlrcCxgUOBFpuZ3w+sdfo8SneDMv7RcCAYARScQCkCAVQCQcVs7h5J7CEfh8PuGYyDn5/X4R8SmCsUCxawsio1mUKAWaBk6syl2YZtaFmokV4cWCUeP70dLssNNQA5KWXr9xsWyhEGrd1SgtKkVRQQm8tWSjDEZM0oR5wKFOYI/gRGzxV8JTsQXlxVtRXFQDn7eWySVkQObPci1FfRGlq+I5dZ6/UPXf0KLLvP1vBjjJU+vJKuv3k8Zu3/5x9Y4bASdPMb5+/2UclpeMRIrsKC6xxzUOTvzdYYEzpS1OGPdnrMivlO+t96qdHjAfE8WJAVCst2jWhxg7/NBdghOt9jTnRHAafvwVmLasVjgnqSa+UzIRNkzxnRbJ/HE/UoAcPyd4Cpz0NEssLSnl8FXAV7IWt11xGtomq4CtIlo2DHLINfFYEl/SOMKRCEt8GvJ69sP3sxeghnjE2I5eLzzuSlSW5KOicAvKCreipDAfRUVFKCgqQWFJGSoqKuB2u1FbWwtyTky2yTEsdtmtrhb7AHN/n1Jgt8FJeU1rzoW6G4rZjNXgijR3pLYanAheWuRHHZIS1emGIs0n2oaIImzwfI8W67DJczBW4CH3hSPwuqvw3ptv4Lorr8aVV1yDefOXSVojJSEMi14pYPgCCWj5I/CUbcCrzz+Kqy+7CLfcOAErVq0Cr9EDIuFEvUV1NtX1eIZGFOTG6sqgaskolRhgqHLq2lPfqb63HgsgH1AfaxtBPf2oBraNgFNtIT59/e/omulAkt3QOe0MnMg5OSyIS2uHU868H6uLqncbnCjWW7PgS4wb1WeXYj2Ck+icbA4QnI4Yeja+mFOI2pAXHsNAxeScGqj2FndK9QvVGmP6hsj7qQOuRPH6hThn7CCJDEEgIiBpA4i6cEU0jolT6VaSstH7qBOwZOVa4YRqq92YPXMGvvvv53j2iUdx3eUX4cpLLsDll1yESy+9FBdfejmuuuY6TJo0Cd9//z0WLFiAsrIy1Hp9CASVzEOPHZqz47G5tDwKNMlaTypTAEcDDA8MQApR70M/A26pDPchzEZgGMGIqsXgujiDITCFw0GEyYZHOMAHETRAg/oiiuaoOw2FgggxW2akGojQYi4kj6fsOhxWsdfojEdVRCgYRnVpESbceRvysrKQldkWH30xFWT/BdsiAQThhY/QQ8xgq/QFUFW4EtdcdiZyMjLQrctwzJj1C3xiHOGHH7wnovIW8TFhAhTBhTNDOryGJHWEAZ0KXcJBSPDTkGE9JN/Kb44gKGWOwMfvogWRiB4aACWNeM1qK42AU3U+3nzmr8hLsiCBXBFXsZbbiVjPYUF8eh7OPH/iboFTVKxX68WGxd/gzOMHIsnKQYgBXg0Q2s4gYntw6tHvNHzwwybUhnx14GTqnJrVIg7ExSr8sDJa0nMuNYsMAwEPQjUlWDTra4zo3wlJdFloDJzolM126kyGLTUXo/9wIab/8CPee/tN/OnG63DsMcMw8Iie6NGpHbJTE5CRkoD0lCSkpqQgOTUN6RmZ6Na1C/r3749Ro0bh+uuvxzPPPY/fFi1BeVWN+DKx33J4UEJIJRlS41MkKgo8EDQ031lHgWaBEwdULd6LgpMoJCnz9QGBWkS8bgR8QXg8ATGY89T6UFvrRTAYEvaawBQK+eHxuuEP1KLW54YnZDSYEFBbA9DtIBCg2KwGkUg5vDUlCHk98LkDCHq9Ij/2hQF3ECBA0bO7piQfTzx4L4b374N+fQfji6lzUc0W6A3D762EP1StxER+6ScI19agLH8xLjn/FMQ5E5CRMRBffjcTHngQClfD462EJ+BHdUiJ8ggoIt/2uxEM1KDG50VVEKgxAFJEBuQcaXYeqEXQW42gzyOiwmCIif8UTrLcvmAYgTBFYAYPpXuyzAK0PLGukna91zA4hSu34uVJ9yHHZaQlEA5lFwYRTgsSMzvggsufxNrS2mZzTmKtR4OIWi82LvkfzjphkJiSNwecOh46Fm9+sxKeMMFJDSAySyB9zKXFUkCJ8ziJY3s0FmnTNKH1wFeRj68+/Bf6dssUUa/mnDRIabGe1cZwVnGSC8ySlIVeg0fh6KOPRq9uHZGa4ESSU7kfcFKjY/Dpe0UkaLXC5bTDxniRTgeSk5OR2y4PY08+FS+++jpWrNuEUrdXAhrToVcCGXPyaxhNcEsxoLkcWAo0G5w0QAk4kUMIUsfAAKM1cBdtxoYVi7Bp/SaUl1Vj29ZirFm9AZs2bUVVlRuhUACBoFdAqaBwM1avWYa1G1Zg3dY1cPuC8AWVLxzbBTknGm5HIsWoKt+MtSuWY82S9di4ejU2btyIoiqvJASroZUeleWeKrg3r8bm5YuwfPka5DOsHLkQrweI1MAfqMS24nysW1eIDWu2oDR/E7ZunIPz/u8kxCdkID39KPzvx/nwRGrgqd6KjWsXY826tVi1rQJVhlSRln3+ko3YvG4F1qzfgPXF1QKQMqkXFpGiixpUlWzD5rUrsXblMqxftxal5RXCxTEPEpu8rMQ6LalkG4gFJpa7WUvD4OQv24jnJ96FDFsTwckQ6yXndMbl1z2HDRW+3QMn1l2NBxuXfouzThjcbLFeducRePGTBfCE1PvFIIIjSHTEaxZxzIv3EwUISuSbKJiINmFO6kTc70NNyWa89NTDOCQ3QbkPiH6pzhhC658kEDHFegyjJXqndLicTiSSq7erMFsEJR1uSwOTvp9BjB3M5kzOjCG57HbYmfjSQcu/LBx/6hl4/7OvUeYJo5b9kN2P5WTfDASMSXT0C/YT9czXbE+B3QInJbOjfoliPBXM0VuWj5cmP4rh/Q/DH049A5Me/zsuvOAy9O8/GCeOPRn//vc7cLsrUVC4DV/+9zNcfMn/YfhRg9Bn4KEYMnIwJjz8COYtWI+aGjYQRhPxw+3ejC++eAU3//FiDB80EIMPJzt/BEaMHIF7/zoJvyzfgsLqMPyBMAJl2/DsQ+Mxot9hGDBgKKb8uAzVAk5u1JZtwP++/ggXXnQBBvQfjkH9h+D8c8bhjdcfxdgTj4bdlYWktGMxZdp8VPsrsGLBVFxy7okYMnQI/nDR9dhcRrSMAFWF+OqN5zBuzDE48qgRmPjMq9hcWiPiPYJp4ZYN+PLj93DdZRfg6MH9MKDPYRg0cACuvvY6fPz5t9hW4pdox15yYwTikJplyqgrOjV25NievX11NXbcMDh5i9fjqQdvRaqRw0n8iuiJvzNrPYcFBKcrrn8BG8p3E5wMzmnbymk4/9ThzeacMjschRc++lXAqY5zMsGpsdpvKee1DodNWA31nH1Rvq98Eivy1+P+O69DxyynpMlQQYcZ41H5OAknRctNrjSIsBtpNBwJsNls4rRLR3EBHJtVtlFAMowpBJAMcaHDZoXdZoXVxlxN6nnWuCTEp7VBz37D8NCkZ7FiUxHcHr+AEjkmvWqwaim0/T2Wo8ngxLFZ9JpsddLg6kRYCFTDW7YNE++5DSk2CzrldcahPfsiLTUHiQmp6NC+Ex566GEUFObjHy8+h8GD+yEjMwkZWUlIz0lEWrsUtOnYFRde8ifMmbNJmJ3q6ipMmfImjjv+MLTPjUfb9DS0T++EnNRUpKWlIb39ITjzytvw06K1qK71wb11DSZcfzHauCxISEjD65/PQglHtopt+Pzdf2DMiAFIT09BSnIOcrLaomP7TAwanIf2nbJgceQgMeNkfP79Ari9ZVjww8cYenh7pCQnYeDo07F8sxsRsnWlm/DB0w+hV16O5JS5fvxfsKagEpXeEAoKCjD5sYkYNWwActPikJueiJyMFORkZyIzOwfDjjkJz7z8IbaUBMTqiLmRfBQlCBoZ3Zp6PKWka2ZbbBicPEXr8OT9tyBFg5PonHYCToa1ngKn54VzosV90xeWgz4n5GS9KFzzAy49cxSSRb/QdJ1TRvvhePY/c1ATpJBVnqhkLybn1PSqOABXshVT3hHlOWTCJQ5J4uxeuH4ZLj3nRLRNVWkyVKJLmpSrKPUEGoKPAhRGjFDZkinis9kdwgFZ7Q5wleSEkrCSUcsV96WBSQwsKNKzK3AisNmcFBOSE0uQEF7WpCxkd+6FW+75CxYsXiZWfXTUJShpgDoAJDRfGUOBJoETGxsb3g7gRD0TRXq+KvjKtuGRe26VOGrxzkQ4nalwOQkG6Rg25Eh8/OGH+GnmDxg58mgkJbuQkZWMK6+5DLeNvxlHjRkKV0oq2rQ7DDf+cSJKS4G1a1fj+uvPQWqaBe3bJuLyCy7Eow88gQl33oW+ffrCltoGqd3647EX30KFuwbewnWYcO35yIu3IC4uFa99/jOKPcC232bgjOMHIS3JgqSkJAwePBJ33XE37hl/Izp2ssGZYIHF1Q5xGeMwZfoSVHvK8Nu0/+Cow/KQkpiIPiNOx8ptPogWtXg9Ppp8Pw7NzUJ6Zi5unDAJawvdKCitxKcff4gjenRFisuCnNR4XHbBufjL/ffi2qsuR0ZGOuwJOejeZwze/+xHFFWGQEt3P/PcSFc2LDckNplhARlTSbvebQScitfhyQk3CzgxTJAYREga7BiDCBs7Ns3LU5TBgsOCpOxOuPSaZ7G+nEYkzVlYDsPPqdaLonUzccU5xyGVaREaNYiIlwCwyliD1npOpLYbisn//gluX22MzsnknJpTEwfi2h04JxHpMVoL20QN1i+dixGDeoqlHgGEMRYVQKmAr5pzSohne+TvyhHXKiI+RtBn+CunEb28Loq55rwITtryjwFlFdDZhOtSflOGHouiQkcyLK5UJGR3xNU33IwlS5bC5w+If1SI/lK0zDKXA0qBJoGTGkJVDDptBq50ThR30QCgGqGybXj8bjVLtzgz0LbXEPzz3x9j5YoVqCjYhMK1S/D3ifeia/sctGnbFjfffT9+21CMLUXVWDRrNsaM7oG0dAe6dh2E1Ss8mDtvNk48uTfi4izo3+9YvPjKZ5i9dAE2rliLzz/6FOdccRGefvdDrCv3oNrjh79wGR645hy0o0zaloN//fdnbHZXYOrb9+OQ9mlwpeSh98hL8O0vG1BUXILKbb/ivRduRe+u6bDb0uHKHIvPZi1HhbcEK75/A6N7ZCItIRW9Rl2G+QUM0Q+gaCU+e/IOHJ6XicSsLvi/+/6JNfkV2LJqAW678Di0SXOhTcfuuPORl7BicwXKmFNm02L8/eHr0a5TJ8S3OxynXXITlm0qlUybFO/5QyGEwiGV70a4prAkZqNDIWdx269sLTzHzqNneuLwXE/WT4DzwFuyHpPvvyWqc1K+RIpz0s6PYkG3PTjldMZl1z+H9bulczLAyeND0dofcfnZYxrnnAzAFGs9pu+wuSRVQlpef0x8ZRqqfUwyT+dnIrmKBHJAe4v58l1SgMxtVDItB7RAqgR8xVj289fITbaIWwOBJApMklNMifckt5gkv7TCarXB7nCABhLkfshR2W0qMaaI+Zg912qF3aEcem3ULZGrIkcV5ap07D7jnP5NuDK7cGHpbTrh9POvxKaiKlR5I8qaT+uZRVJkyClNzn2X9b83L2gSOLG5KRNqsr00jeYsVpuSs/HVCDhNuvtm0W9YktvhnBvuwbJNxWJZR/CqzV+NGy44Dblp8chr317Y6Xf/9wu+mvorZnz2Nc74Q2/hkjIyu2LK50uwcOGvuPLqE5CSbEFKUg907DYCp19+Du6+5S787aGJePPTf2P2+o3YXB2El9ZvRYvxwDVnKXCy5uJfX83C2tItePuxi9AhOwFJ2b1wyR2vYl054++FAe8abJz7Fs44tj+c9gw4s47HRz8tQZmvGKunv4Ex3dORFp+C7iMuxzyG0iFzU7ICXzx1Bw7NTUNiTnec/cA7WLWlFPOmfoxx/TORSiA95kRM+bUAhQz7R1bTvQGLZ7yqByzeAAAgAElEQVSBwcMHg/mKug4chZkLVyuOwDCKqHJXY/HixZgxYwamTp2K6dOnyz6PY1ee17/Rh+PHH3/EvHnzUFZW2mBsPQ1OmXaLcoQVU+4YcBIxH50et+Oc2ihwWrdXwOnYxsHJMC136VxPBjil5vXGX1+ejhqfisrhJTgFTHDamx1/nzzLGMi1pEXeIVa8FYB7C6Z++ArS7BbEiWsBwcnghgygkAkTgYmiO1rsCedEcFGgRGByOhxRIwcGjXXw2G4XsZ+AWBScCHYMi6RXiv+UCFDFdKxzAiYX1aZbX/z5L09iY2GlSDVoXStYtD04mQC1T5pOQw9tIjhxBs+ZfN1sPqp3olGEgNNWPP7nm0SExHTbf578uqRbCNJeOlCDik3LcdZxQ5GT7EBaago69eyDHkOOxcBhJ2DUwKPQqZMFaVl2tMk9FC88/yW2bt2ITz59Bn2P6Iz05EOQlNoDFklcF4d2mTk4bNgRuPHhRzBzyVpUewPwFS3G/dechVy7FQ5rLl77709YVbgBT90xFnkZDmS3PwLjJ32MDeW0baBd90bUbp6Gy84+AXFxbWDPHIMPfvwN5b4irPrhLYzuno70hGT0Gnkx5mxVAQpQshxTnvszDs/LQEJWV5w94S2s2FyM6Z+9iWHtLSLSG3vmRViwDRLNm7JreLaiaNV3OPHUE2FJzEVS+174bvZCASda7ZEh27R5M2688UaMGDECRx55JIYNG4YhQ4Zg8ODB9Vaei1157f/93//h11/ntSpwSmnXGxNfmY5avwInP6lkglND/bdlnWsInBh0OViJSNk6vPz4PUgxotBT5KbAQoOGASLkbGzkog0OiCBlc4i1HUHI4XCKgYMAks2OuLg42O3kqpT4jqJBBT4alLjdEZQ0QMn19kRYErLR+bBBeOuDKSit8onrB0E2ikWxINWyqN5qS9M0cBL/JoqTYldtIsrG50awfDMeu+dGpXxv1wsTnv03ijxKj00fqIotqzFu5CBkJdiQnpyIfoOG4eixp+OEk8/FaceNw3Fj+2LUCcNx0riL8fFHc1DlLkdlxTJM/foDXPx/16Nf39GIz3QiyRqHBLsT9jQ7nHmdcPOER5FfVIaawsW499qz0cZhE3B6478zsaZgPSbfdiI6pNvRJq8nxj/6NjaVKT4QwW2o3jwLF511IuzOHNizRuOjmQtQ4S/C8hn/xsgemchMSkbv0efh1/ygssgrXob/PHUnurdJRkJmJ5xz3+tYs7UEM796F8M625EcZ8GY087Dr5v8krEzFAwC3nxsWTEVx510AiwJbZDR+QhMnb1QxHriQByOYMvWrRg/fjxOO+00nHjiiTjppJNk5X7syvM8PuGEE+T3U045BVdddRUWLvytVYETOadHXv0hyjn5CE6mWK/lD0KNgVOoCjVbl+Hu6y4Qh2zJ1WRwT3VgQgAxgEk4KuqWXMqIwWps7XGwOlywu5hNWaXYcNiVFR91TLGrBp8mbW3xsMRlwJqQhWOOOxWz5y+VjLicODYIUC2/JlpFCZsMTqwlQyUSBSmxypKZUTX8FZvx6L1/FIMIV7ueeOjF91FMpooNlmbhhRtxw8VnIS89Hp1ys/HAAw9i9vxF+G3RaixdsAK/LpqB+csWYOmaYhQWA8XFBVi2+Dv8MmMKXn/xLXz60f/w/CtP45nHnsR5Z50NV7oTlqR0jB53PhYvW4OqgkW4+/pzkOViY22LN7/8EVtKt+HDyX9Ej9wkpGe0wwXXTMDqrbUIEDQ827Dghw8x5pihsNiz4MwZgU9/+hWVgWIs+eE9jOjVBumJCegxZCx+WVeGmqAftYXL8NdbzkX7NAeSszvivAmvYW1+KX6b+SVOHZyHlHgLjhgyCh9NW4riKiAU8MFXsQHff/U6+gwaAEtKLgaOPAlzl6wWB0CKDqiEZfwv+m6tWLECy5Ytx8pVq7F8+fId1mXLlmHp0qXQ25UrV2L16tVwV7tbFThldOyPJ978OQpOinPSSoBW0e9a50c0BE40Iw9WYu386ThjzBARL2tz8AYdaIVjMoCJfk72BImvl5yVhw7demHQkSMw/r4H8PiTT+PxJ57ApMcfw+RJj+H2m/+Iowb3R6e2mchKSVDpYAwrPgJg7LoDYNnjlYGEPRk5Hbrjnof+hoLSatBhXgOUVJjmnlpn7bW4r9o9cCJQiQsDBwz6OtXAV7EFj9x7IxKtFiTk9cTElz8QvQsdKCOhADzlhXh58kT07JCN3IxkXHHZJfhlzhwUFJRi04YCTPn2U8ycPxfbykOo9QE/zJiGc88YgSP7dcOY4aPw5SdfobBkI0q35uPDd99FTscsWBLSMPaMSzB/4QqUFy7GnTeci4w4G+z2tnh7yg8oq6nEwin/wJGHdUR6aia6HX4UPvximojRNq5agMce/BM65rWFxZGFuDbD8NnMX+AOlGDprE8wondHpMW7kNdjAF779H9Yu2UDFv7yFU45ugeykyxgZzn/3pexvqAUW1fPw60XjUF2egJS2nTGhTdMwOx5y1G0bTOWzZ+OG2/4P6Tn5iCpbVfceNcD2FBQBg/dxAzjBgnHZHioM5oyVVWNLdpAgiJDRlrmtjGDCF/JBkx+4E+or3NSUcmVfF+HE9o3Oieakl921mgkNxa+qBGdU07XwXjmvV9RExXrGYm62OjMpeVSoDFw8pdjxpR30f+QtmKZaTfiPOpst7Swi3JQYrBAn6QEWFzJcKW1RZfDB+HcS6/FB1P+h3mLV6LM7UWtPwSqDMKhIPyearhLC7D8tzl4btJEjDpyINKS4hFnV9Z72sSc2+h7ouI/6r4IhgmwOlNgcaXgyFEn4qd5S1BNoZAhepeWZ3xfy62A1lWypgV+ZaVwJDVWjhEcQGllJg52wVrUlm3Bo/ffigSbBUntDsGjL72HMj9Ai7RgwI9QbSWWzvsJJ48ejhSXFekpiRh7/BhcdMHFOP0P5yK9bQZ6Dx2KOyY8hpKKCFatWoFrLz8Lual2ZCUko++hvXHhxWfjqosuwfAhg2CNt8CZ2hbX3fIANm0pQ1nxMtx243lIS3DA4WiHtz6Zilq/D8GN83DbFeejbVY27PEZ6NT9CJx19tm46Pwz0DYjXjzPaV0Y36Yfvpz5M9z+MuSvnYdzTzoGaQkuWOOT0WvQUJxx3pkYM3qAABMjfKdk5+Hie1/EhvwS+Cs2YcYnL2LQgMNhS8yAK6MbjhlxAi489ywce0w/pGTa4EhJwtDRJ2H6L7+h0hOCj45jstS1eL2nf2l6U2vYlDxUsRnPPzIeWU4VIUKs9YzArw2CEyOXOy1IatMZl17/HDZUqnxKzSuHSjYoESKW/A9njx3SuBNuI+DU9pCheO3LVfAElM7JxyGCWSRNcGp6VRyIK2XGqoYJchyyMOamrxz//PsjOKRdKhIcjIxvgTPOKdEe4m1GCCJxvrUqHybxR0pEem5njDv3Ekz5/mcUVPlQTYEHI8LEAEaEY5BEqmGq9Rr4KouxfMEvuPayC9Elrw3iKO6jzxOjRojbhNZJ6a2RoVkAKk7i+eV27oXHnnkFRe4gvEZmXKqPI1FfGv1x5nZfUmCPwImpkENBFSXCXboVD959s6RmSM3tgsf+8SbKfcqQgCFBwn4PasuL8MHbr+GE0UcjOyMVWempyEhNQ2ZGNjJz2+DYU07DG/+ZgkoPUFlRjsW//ohrLz4b3dvnITs9AylpSWiTnonsjBS0aZ+Bcy66Gt//uBSV7gjKylfhlpvOQ2qyE664dnjnk6nw0nG2ugDLZv+Ayy68EJk57ZCSkY3U9DTk5eZg+JAB6Ne3P+KSspGWeyj+O/0HVPurEKguwuvPT8aRA/ohPjEZjpRkZLbLQs/DOuMPp45G57wcpGXl4dJ7X8DGglKEawrhL1qKd95+DaPGjkNq2+5IS85Adko8MlPtyMhLxXGnnYb3P/9Gwi4RsMWpWbX4qNqVoKTnAM2r9IbBKVK1Df988n60iVfWesqUfCeckwFOiTmdcOFVT2N9pX/Pwhct+RZnjR3cbHDqdMQIvDt1c31wkkCEzYft5tHRvHqPKGCAk27HUlsU69WW4qWn/orBvbuhe9cO6NqjB9rm5SEpzi56oniXAzabsspjZAhXYgq6HdoH9z38KOYtWYltZTUqhqXh5KtFbfJ86hoITnRpIRCGvPBVlWDVwrm47Yar0K19jnBrDHtUj0MTIwml57KJKJE6LEakSIAzpQ1Gnngm1hdURd/L/hqSzNlmG9yjNtKMm5sITmSVyCWp2avmnPyBoArQSrGduwz/fOFpjBw2ACOPPxlvfvA53L6IBFWUeFUB+r/4UVqwFfN+nonb/3QTjhk+DEMHDcCRQ4fgT7ffgW9/mIWtZTViyhkKBlBbUYwtqxbh5WefwnHHjsbgYUdi2KAhOP64kZg0+a9YtmorSisAbwCorN6AxybdhaOOHoThR43Dl9/OljBI8FYj7K7EyiWLce+ECTjy6KMwbPiRuOyySzHj+2l46IGHMea4k3DsCadh3qLF8PhrEfLVoLIgH++9/jrGHn8cBg4bjNPPOxNvvP8mvvzqM5xz5ukYNeZkjH/6fWwtrlCZcv35cFeVYs5vy3Dfw0/imKHDcdSgPjj6qH6459EH8POixSip9su3aUMIiR/IzlUX7GWvghPc+Xj7+UdUVHLOGsmpMCQMfYqofG7IlJxcVmZ7nH3x37C6pEasCpvengiSlIUEgVoP1i/6BmccN6Dx2HqNcE49Bx6Pj2cWxoAT0dzknJpeDwfoSlFKq3dHWzUj9deUYdOKBZj747eYPv1bfDNtOp5/6RWMO+VkDB2iLFL79x+Azl27oV37jug3cDAmP/MCNmzJR20govSzOhBAjJGCAidlmEXVgbi30JGdQOWtxLJfZ+HS/zsdmYkOMV+njkv8q0SkZxhgWGywWRmHj2GO6C8VD4srHcltu+HrH+ejgv73BEViIP/tTOZ+gMjeWl/bRHAydEucmYifk9KLBBlZOxSB38OUFhS9+AG/RwESo0nzt5AyPw8HAwj4vIgIpxWAz1MLngv6PQj6ahAIRWTgZhRwjxHjCgE+r0ZWypYZ+zPoZ7TzavhDlfCQM6MPMMculCGEEgQitfD5FcfGMTLi9iDi8SJMEV/IB1+AgWcD8PuChh9xWFJ8UH8TCDN6eAR+WoaJsJkvDMh9NSEf3OEgasgFhsLyznxGGGcvDFYCgQKEGNSW5zi1k+i1DDpbi0qEUA0o/wleTlEBPdAZEHMfghM5p4//9ZTkc2ImXFsTwcmVkYdx5z6M5QWVuwdORuDXFXM/x8nHHNFscOozfBy+nFuBWkOsJwYRpliv5Y9BEn5LcRZRcBLOplZlkw57pC9xsPdFAH8gJDmW/MEwyiqqMOXLr/DCiy/hy6++RpW7Bv5gCF5/AAEZQxr+fK2D1Vtx3xBOqkY4tm8+eQ+De/eQoLGNgpMR3Vw4KFruOVJhSWqLex99FptLvRKo2Wdgn4g8Gi6KeXYvU6Bp4MSRmjmVJCssHXHDMoHgeBEIhBGUmPMy4rLFIeAPyu+ilwqpUCByj0RCUAkJIyGCA8V9bLi1kmJDAqJKagk+k1Y+VFjRm9WLQNAv+isCA8IeRCI1god+TtSJIShHEKWSKpC3MVA5x8iwO4iQh2x/AOEIAYgAxcjDCksjgQhqqqrkPcFQUIBDXsHn1lCOze+meCsEpmiv9IfUewNACQGYfTFQAYSKEYkE5JjkkHwhwRpE4EElIPfyWnJNkvSMNJTZXrQbC//EI67NWxoW66G2EN9++E/JhJsWp7PN7oRzoljPZYEzvR1OPGMCFm8tkwgNTS+LwTmRy66uxfwf3sPxw3o0W6x31NgL8OPKsBiNMDyimJKbnFPTq+FAXbkzcApWs0MhFA4IJ+KR2JJqosZJbI3XD3dNLSqq3KiqrkGI4wbDCNHwR7LY6n7CDqdXqiHZ5gxxuOjB+S8ABKqAmhKRvNxw+QXISnaJ/mkHzslqF3EfdVNWCbEVD4s9GZaEHIw7/2osWVcoIbxkAizjXPN754GqjoP9vU0EJ805+SVBoAYngg9nPxyLOKJGiBKc5WwX3bferIaBFYkajDnhV6I++kFxgsUG4AtHEIwYuZ/oeElOK6JSP3Ng57NCQQ/CYa/yAyYwkQlBLQKogj/sEwkQyyZMiWFuQ8VpiIkQmcE2EhFQDYl8jfKCECJBr0piyE/Q93KH4sgIEyJGUBtWQUi1WJPckCh+Q7VApFpow2OOowoZ/QhHfMxKBXZGg0yqa7FTCeFiOlq9bte8psWn6OeryvAA/hLM+updDDwkG5kJKpqzxCYTsZ7yE1HhiwhY9B1RmXAdqdkYecr1+HVTqYAqv1/YzBjYrCs1yxkdHozArwGEqysw65u3cOygbuLbQnl/nRgx2Yidps45xIs/ARZrokSkPumcq7BoS0hydamsxAbx+BpzacEUUACi26KqLord2IeVToixJHXaGKV3VXYuhsZAmpIYHnCcYCBWziJ1QOQoKPHJdY2Be+zv0udJHeHWKM2plYDUn7/zT3TIiJc0HdIOpS0qHRejTxCwXBKcmOGSklWqjsRkDBp5Dn74db1M0DhUUGqjOncLroJWVLSmmZKzvhuI89bcc62Ibi3uU9hBBRil2/KIebZKMX/6JzimT0dkJ1olbp3I1SVcEOOSERASYLEwpJFVErcxXYEzOQX9R5+En9aXolp6fq1KJkmQEo8qY6aqqcDBQACMww7ZVY8Yifzvw1cxom8n8X2jSEX8S+hgKe+zy6DA8zJjtSTBwgy59kxcdO2tWE/H6nBIOFGR6KlX6zea2xZIAZmTxbRD3R4b2rJZyVyHO/VWY2YobYrtiiufIHc06atZDlrZSZv0lmHb8tk4tF3idu3QmCwZkyaamNstTtgs7BMWWBIs6HL46fjP10tF8kHJCaU9Kshmk4phXrSHFDDBaQ8J2FJuZ1/UgwAjIQo4hcqwYs43OPmow5EZr0x2rTaHihAu3BMBipGhVVRozd1YE5LQc9hofLtsKyr5qLASbUpnjwEn/iRLDDgxBiNzB9OC8b2XH8fA7tki1tPPVvHU6qJQ87wSpyTDYs2ExdUWN41/GIVuLzzkcPld+sOiL9QvNrctiQLSVAzMIUDsbFXtZntg0sfbAVQUxZr2tQJOfJSYmFfBX7wGYwYeInH96iZJuwCneAsy2o/Gc29OE3DycPJFSYc0xqaVw7xqzyhggtOe0a9F3c1OSQZDgRN1dRXYtHQmrjz7OGQnKHCilR4BQVJYCECRa1L5dKIAEp+EvD7D8MncNSiTSasSraoZbP2JrhAgBpwkz2/Eg6A7H688OQF9OqeLQYR6NkUpjJlGcFKWU4wWYJWwNcmw2LPhSuuChya9gFJPUHI5UZxCkY8grwlOLaq9bV8YVk9TV9VudnYDASpm3f5lOzlmc6HRRdgAJwadvfzMMTF9wAAmie+n9nfgnOIsSMgchonPfIKKCEBwogGXCU47Ifxe/skEp71M0AP5OA1OTJVNMwKEK1G8bj4evPVytE2xK7GdRYn3lDiNQTFVqgLVOWk0YYMlLhmpXfvi9am/oZisS1TnpNAhdgBS3xsr1mOywRp4yzfhyQduQa+8ZBURXcQnNF+vSy5HWb+Ak+ToSZGkj1nte+OFNz5EmTcIL/WShu+MCU4HsmU17d2x7WJX+/LEXV0U+3vTiiBXaXCKUNcVdAPVW3HPDRdK2LEmc05xFrjSBuP+J96XCRrFeuLTSQW3uewXCpjgtF/IvI9fYsww2Ze1BExxMFWo2rYcL026D51yEkXnJMpfiyW6T06KwCRAQZNahwMWZxJsOYfgqQ9/wBaaKEbnww1J/jkUGHoB0UnRyMWNivxVuPP689E+zSaKaL5DBetUnJoGQ6bctjkoXkyGxdkGXQ87Cu9PmYbKgDI+kQjyGnX5gebSginACjLawy63TahMXqLXZny1Bqcw/Z1CbknX8Zc7rm42ODkJTpPeQ5E/BJpSRej6IdZOzSiMeeluU8AEp90mXQu6UcBJCfMo1lO2A7Swq4a3bAM+fes5HNYpG8yGyzAuTO7HuGYEJBpCaHDib0w/YHEmwpKch/F/fw8rijhnVBaMYl0lOiBaUOlRI2YwEqsqr5jWF6xfiAtPG4mcRIu8N2oMIZl4lTGE6JsITk5aCqbAkdQBRx1/LqbNWaospGRsolwv+lEtiOhmUbanAJOSMt+bEiyrfR6HuYaDskriUjrmbpeCR4yr6CVi+PoTlGSfj2sCjsWWhc2FGZxF50RwqtqMiXdei7w0JT1QbXEXOqc4CwhOEx5/F0W+IPxshAQnk3OKJfU+3TfBaZ+Sdz893LBoYh/W4BQmpISrEakpwK/TP8PgwzojxWmBywAnijcUOFHno0K7ELQkzw6jQSe0wUmX34U5a4pFfk8fLV+QQwv7J8EpBpRiZ8nhWkS8pVg6dyqO6dcFGezkhkWUEumRc1J6r6iOi2FjrKlwpXbBhdeMx8K1+TK48FsUV2aaku+nlrSHr4kBJAGjAMLhgHI/MY4FrMJBBII+8V1k0GM6wKsgxspvUkf14pYAJU2tGQDFlkmdkzKIUJzTw7dfhXapzQcnck4lwTD8REgCr8k57WEbafrtJjg1nVYt90rhWOiJpcBJLNxkpsfoGqUo2bAIJ40YiHTK0etxTYpz4kySQMHfxBmRgTcTctCuz2h8OkMlRhR/I+2rFXUi02a+Gqg4knjgq9yK/374T3Rvl4RkBvmk4lmiTROE6sDJwfN2GknEwWJLQ3zGIZj49OvYWFIr4KR0Z8ZUejdm0C23wlpryVhJtGoLIByk7yINaYII+D0SPYURVCKMtRdRoBVCCJxEBQhWoZCM++LsykTVDBtk+OHT0V4Y9SaSTYOTiPX8laJzGn/d+chNUe4STeWcErOH428vfIEK4cSMtm6CUxNrYc8vM8Fpz2l44J9AcGKnR0Q4J4kFJjM9+jpVIFC+EbdcdT7aprjqxHkCGIYeKAacKPqzM5GbMw3OnJ549B/voCoCVBvRoOnNTydm5RhJMCJ/w+GA0MgOXIuSLcvxyL03oV2KBUkEJ4ZN4jOZPE7ASQ0SwjlRjMh4Zs4s5HYdjA+/mo0S+g+L/ozP5Ldxxsp3HnhSmyXYCQVEpEdxckC1RzrPh/3CwZCL4epjeouqchQUbMW6DWuxYtUKrFqzCqvWrMbHn3yGBx+aiPsfeASzfv4N7uqwhGmUMGTNqHu2Ror1VMaEKtE5XfqHUcgy3CmaBE7xFmR2OBb/ePsHCT0W5ZxYGHPZLxQwwWm/kHkfv0R8MESQEQUnQpV0UabIdm/F+68+g97d2seI2JjLiZlH68zI48k5SZwxcjNMXZ2Lc666HetLvXBzNkvvKT/1BRqcOBDFghPd6N1YOm8aThszGFlxKnU9UxXIe6LgpER9seDkSMrDMWMvwLzl+XAz/JTAEocZDU4EvmaMUPuY5ObjG6AA24IAk+KYwkEvyksLsei3eZg96wfMmT0Tv/z8I95+81+44IJzMWrMSBx7/LE4asTROHrkSPQ89Ahkt2mPdu274bnnX0NRcQ3INTF0p7gTNPDKhk6Rf4s64Qar4C1YiVH9uyLVrt0pDH3TzkzJEyzo2Gsc3v9qSX1wMv2cGiL5PjlngtM+Iet+fqgMCKICFnDinkAVQ8aE3YC3CBuXzsGZY0eJ6E6FEbLCwlQBki5AifUSLBbxSRIdkS0BFls6Dh82Fp9Om4syH309IMF3xVNegtZuB06RMEKeMvz7lafQOduFDJcFCeScmMNHzMXp8MtQSUqEKGa9DnJUCUhr0wM3j5+ErRUqhxPLL3ozuuGKItoEp/3cqpr/Ot0OQ8pp21dTgQXzfkbvw7ojJdGJeKchPmb6CsZxZLtwWmFxsC0aKdrt8UhKzcEfbx6PVWvyJW4mo5g1Z17CKU0UnLxlyF8+G71yE8QZvMmm5IkWDBl1Nab/WoQqLdaLWms0nzTmHc2nQBNj67FxRPbZ2vxim3fUo4DonMgrMXJZnd6J+xLXzO9GTeF6/OWO65Als0emCaCIzQGr0yHJ3xhjj6GLtEm53cKYY05k53TFVTfei9WbylBFcRsD5oYiCDIuIrMghz1AqBqI1CASKMemJXNwwSmjkWarAzqbiO4MIOQgpEWK3HekwOJMRfd+w/He599FUxRw9isLmSWDgTLFepooLXMrcStF52REU/BWS6qMU44djMwkFb9ODG6YpsLmkPbGNqfaA7l1lVPJkZiOEcePw6xfl0k+JYqURaqrrSPEAKiOi+Ze7CoWFMFaCTTrryjA1M/fR4fMRJmYCbduWKkyrh51oXYmJKQu1uaCzZ4CizUJ1uRsnHPpeKzYXCMibZEPSM4oTpvMZX9QwASn/UHlff2OGHBiJzXU0jKmS0flTNZThs9efwZH5CYh0eqA0+qE3WqDjQYJnMVyFd2Qst7jDJMdNt6Zik7dB+LRJ17E6vWFcNeG4AuEJUhumAF4A24gWAVfdT7Wr5yLe/54GY5on4UUq0pwKIOBGEMYgWZlQDAGJHJTrixY4rMw7vwrsGj1RtSEVMgiGXr4j8BkgtO+bkF75fk0cOAfAz+LHM7vQenGFbjs7OOQm6a4Zfq1WSnelTh2ajIkPnCMCK71kq5k5HbphX+88Z7oH+lqJ5MVASWVmp1WfrFLfXAKqqjkATeKNqzAhDtvlsSfNPbRFqp0oVA5zVRUcrZ1u+RzSoTFngFbSmc8/vw7yK8MSz4pvi3CyRizM5jLfqGACU77hcz7+CWNgFO0Q4fpjFiN1XOm4pwxQ5DusiPeZoXTZgUHizpORu1r03IClNXqgtWViQ5dj8CDf3kCGzYXSEqDmppqeGvdCPrc8LiLMP+X73HTtReiS3aiAFOyMRt1SIZTcksEJ64chIwgsDRZj8+FK7MzJj71EtxBCDhxlhoFp1iAkpP7mJbm43ebAswVLYcAACAASURBVDuAU9APT9EmTLznBnRrFy9uDMKZGwkv2c70KmARBackWFwpuOS6P2Hl5mKJjM9sFVq0R4McLclpsLDUffkqAX8lfpn2NYb17YX0RGedMZDmnCQafp1bg0OcwRPFOCe7cz/89NsGVAVUWhzh3Ci2JECZy36hgAlO+4XM+/glMeDEN2lGg+AUEp8kxgSrQW3BWrzxzER0yk4QK7pEh9IBqKjgNIxgzLu6cEYyoyWYOBJhdSUjJSMHXQ7phfsffBhffP45Pnj/XXz28X9w0XlnoluHtmibkYRkp7LQE58pzkbFVFyHSeKz1fPVYJQAS1wuho05EzN/XSk6LeoKZJYqJKPhhbFG8yHsY1qaj99tCgQRAtcwORzWF3OouYvx5QevYODh7ZDgsIDuAzarXeIpamCSdiaAQb2TE84kRqdPQNvOPfHkC/9CpR+Sy41xFmktKpl5JC+abilELlqOGtajNGH3u1G4YQXuu/0mZKfEIdllRN2X92gXCrZLGxw2O2xWG6ycLNmTEJ/eAaeddy02lfhRY1ipBiS3FLW5ytRot4lk3thkCpjg1GRSteQL2Tm11Vx9cAprcKJuqKYUG5fMxkVnjEa7dDsSGDFCzMgZsSFO5XSSdBaGXkis7IzU7pzt2h1wJSQiKzsH7dq1Q8f2eejSsQOy01OQ5HKIjxQHHxmA6ORLMUo9cCL4aQC0w+pIRVaHfpj8j3eRXx5ALQcCGvyJ1bjBMkUHHT0QteR6+H2XjcAUEHDSM6SgpEtfs3gmzjh5GFLiVNtw6LToBuckpt0anMi90M/OHg9HUjr6DT0GH335LfLLqkW8Js7gklxUZ0zXlqPKf0o4G58bZds24NXnn0LfXt0kC65EP6n3Por1lGjPSrCki4NkwU1Gp54D8Oyr76O4mjncjDYpOerINZngtL9auQlO+4vS+/Q9xsxRaZminBM5KOE8GJ2Zs8mQByF3IT5++2kM69NBkgDSfNxlccBhSYDVkggLQUrEK4YeSnRRnNGq1e5wwG5nZ7ZKHD671SoOvE6rFXEOno/RXRGYbBbYnTr7Lh1wuc81Dinp7fGHc67DsrWlcHOyK1EoyDkxu6nm/wyLQIKUaRGxT1vRnj6cKTkDkZASv7H6JFloLXxVW3DP7VciN8MukyHqfqiLrOOYDDGvRKd3wOKgU7ZL1sT0bAwffQKmfPcjtpa64QmrFO+cwATpECt6KBpgsI17AV8VyvM34p3XX0G/w3ogOU69M8GldEs7vpMARWCidWoi7PEZGH3SWZi/bKO0SXLyPnozcK7EbxN/wj2llHl/UyhgmpI3hUot/pr6ihl9xK0M6LoDU2YerEFFwVI8OP5qtM9wIcVhRbzFjmRHigCUg51Ug5PLAKhYvZTWF8XoC6hH0KvokzTHJfcpiygxJZcZsTEIOFMxYPBo/OfjaSh3Ax4WjQMBjS1EuRADTrQAM8GpxbdCwxyiTl/IEZ36zmAZvv7sDQzt21nEyXRZIMdexzHpfXLssasdFrsL9rhEHDHoSEx69mWs21qEWqOtBIIhlcaCgBHwIOJ1Y+XCuXhi4gM4pHMHJMXR8McC+tnp9rkjOLGNs00mwWJLRnZedzz65D9QXhOCjwBoGGNE+5IxAWzxldEKCmiCUyuoRPUJ7D6qC/G4bk8fUfxBXQBZlBIsmz8dN199IXLTEpHmdCLBYofLwtkljSSssBJgtBVfgwOJGlDY2fUa9bw3rP7qTIRtsIpYkJEgkmB1paNT976Y+PgLyC/ywsMiGUEg/BxwWM4o56RnxzxnLi2ZAhqcpKZ0c6S4OVyFkm3L8NCfr0eKwyLOsNRJ7ghOWtQWu1V6IVdyOjr3OBx/OPs8PPDXR/HV/6Ziztx5mDvnF8yfMxtTPvkA9//5Tpx6wmh0apeDOJdD4kSKdaDRRqVdN/BeqzMVFns6bPHZOPXMizB7wTLUMsarAUz1W179ntWS6+NgL5sJTgd7DTa3/Bz4gzXwVRVj08pFOHfcWHTMTpUYeBTxKR0UldaG5R7FeSKb1wNGQ4NKzLl6M199D2fDDtjikhGXmoPkNp1xx4OTsHpzmQR5poJbViM0khLpcUgQ5ZNCWnNMaG5N7/frCU5a8ynMrwAUjRSqEfIUYOVv0zHw0PbIdCo3gx3BKaYdbQcidle8GEswvUpqRhbad+yM3n364ojDD8NhvXqgW+eOSIx3Sqgscklss8xNZrMbBj7Uc0lbbuAd1mQ4UjqgY49B+Pi/01Bc6YEnoFzAjVaoaKkBd79T9vf5QhOcfif1rvuVGi+IBkEEayqxcPZ0XHruyeiQ5USqQw0ajFxOM3MHAcXigNVC6yplYaWAarsOXk/sx8FAGz2oWa/4kzAShSsJmR2749o778dvm0olZh/VBhwAuKVlIf1XmGJhB2CqP339ndTawfWZGpxYe1Jd0thYsW4gVAZ38Sr885m/ole7dCSKeJjtY7u2ZBxrblxvHXa7AA11nQQZ5h3j6nK5ZOt0OkUXyuucLhesdmZcjhERygRrx3fx+YyIn92pP+56cDLWbCmFh+Gzwpwiad2nOUk6EC3RBKcDQfV9+s5YGFIv4hkBAENMQQO+EI2Ogn74q4uwcPY3uOfWS3B452SJXJ7iUhyUQxwlXbBanMZKoNKclNHRNTBpUZ4AkzaAMMDJahe9QY8+A3HnQ49hztpt2OoH3AJKEQQCAYQkx08Q4Qhj98WAEwuuV36IubRYCjQMTtQ7VQPhcoRrtiJ/1Txcd/4f0C49STnBNgBOGpC41boi+svZDb88nqPhjTbKsYoZuB1Wmx12hxN28VfSTt8GQEW5//oAxXckpnfCyWdfhwUrClBJmwoxWadZju41FC0bsnKzDe639meC034j9e6/aGcOhxKEtd6jd+xFPKPHdxn29YEorD0IeYqRv+E3/P2x8Th6UE+0z05CktOO5Lh42IVjIihpDkpzQzHOuwSoHcDJCavNibiEJGS3bYehx4zE8/98A+sKy1EegaQhqKLEJxIxgIkpEwKS50eVNma2qsu7i4FB00lv65HFPNjnFGDwrB2ripVmZKT1l4tj7M/f/RenHT8KaUlxyv3AiIpPCz4BHgN8os7aFDfTEtTQHTnsDL+lwIkARXCykVOyWAWcbDZajTJEkk22wkFxUiVO4OSonCrGoyMeCSkZGD32LHz/02LhmGhs4SezJ1ikv4ZbE5z2eQPa7gVNBqft7jMP9zEFwuJXweRtEQSDzCLKkEHqmK/WA7AShRmdp6lliu1zgmXKUCLoq8Kvc37A3XfdiH59uiI12QKXU6VuV4MAB4IdV5qWizyfDrsMASNWeXFwJaVh4LCjcd/Dj2D+4uWo8gRQ7VN6CW1x1dQi62/W1+vvJ024cKvpRJqQGzOXlkEB3W5ZL6y36upqTP/mC5x2TG+0jbNIHMYkBh22qfh7AjyMLELAYXtyMFNy4yLA7UWDBDitP2WUEzsj71tpop4IS3w6LI40iQJhSemAoSeeh29n/Iza2lohli4ry2kuB5YCJjgdWPo3+nY9+OqBlp2G2UI56Pp8PtHP6Gua3ZEEkGJmgmJqHkAoWIuKsm0oKlyHuXOmYdKk+3HGGSejY8eOyM3NRUpKisj1tXyfg4IGK8r+MzIzkd02D4f27ocLL70Cz734Cn76ZR7yi8tQ7Q3AG4zIrJRKc/qOMCTM7iz6u3kv91UW1bChs1IATnqZS8uggK4vtmW9uksLMGfqxzjzuKFon+4QHVQ8Q17ZLHAwarnDpsBJAMoIe9WACHB7YOIxwYmGPQQmF33yLIz+QL+pBFjsybA4UpHUphtGn3Yhvpq5CCUVtdHJnwYnltNcDiwFTHA6sPRv9O26Q3PLjsJOo7fc18f8vdnL9uBEYUwkiLCkOvAgFHIjEKhAefkWLF78K9577z3861//wu23346TTz4ZJ554Ik444QSMHTtWjo8//niceeaZuPfee/HKv17Hx59PwdKVq1FS4UatPyhm4rHAxDhpXHcXPjRt+N3c17TYY7o0m5DmDU2hgK4vbjU4IehFoGobfpk2BVdfdBa6dchGWqIdCS4DnLSYmFtyUU0EJpkwEZjEOZxuEQbXJKGJEmCPS0Vup5645JpbMPXnRShmsmg2f0NCwfLp8jbl28xr9h0FTHDad7TdoyfrDsItuSXNMZFLoPhKi7D4e7OXHcCJ+h0NTkylTRGHBxGmwYj4hDNhp62oqMDmzZuxZcuW6Hbr1q3YuHGjHNfU1oJptmt9QXj8IfiCEQEh8WGi/YWRD0rSbtDBsZnoFEsT7mtQIk3ITXIbe02z6WLesE8ooOuK2+gijrM0MS/H6qXz8ehfJqB7l/ZITXIhwWWFk6ld7CoElkQdaRY4WWG3O2GzOSUskdUeB7srCa7EVHTs0gN//dtkLF29CW4fJCQS22Fsu6lXzmiBzZ39TQETnPY3xZv4Pi2q0p1mw4YN+OabbzBjxgxUVlZGZ6D69yY+tpHLOGhwxkjgq0WIcfjgRzjiARNY8B0aCAiSLJvH45GV+4GAAkyZFTPepxEfT7ZGLp5gOIJAKCK/8bz8RvvxZiwsgx44uCVAkxazZs3CV199hZUrVwpdWEZ9XTMeb166jyjAuuDK9qG523AoCIR8iIS88NZWoaKsCMuXLsRtf/oj+vXuhdSkOMQTpBoNdVTf6q4eZ8UcTU5GOnHB7kxEcloWuvU4HDfcdCt+W7gUJWVu1HqDMlkiMNEuSJdxH5HAfOxuUMAEp90g2v64hZ1FAwL3KTLr06cPjjrqKBGzlZaWCjcVO2DrcjV0Tv/W8Jb+HBw4AoiAxhcqwGUEfjnW9+gy6efrYz3o8JggxM4unZ7ckviL1FkLEo4UaPGdjS98B1cufC4XfU6/t7i4GF988QVGjx6NXr164eqrrxYOiqCl75EbzX8HlAJsH9vXRyTC+jVcdiOq7QX8HmzdsgH//eIT3Hv37TjzDydh+JD+aJOZgoz0VCQmJkbjOmowUhZ5ykiH+wkJCUhLz0Tb9l3Ru/9QnHr6ObhnwsP48JMvsGlLAbzeIKhOYhvlIsFIjDa2fRkPKNHMl8MEpxbaCHSHZochJ3D66acjKSkJNEYYOnQo5syZU28g5nV61WDR9E9jT41dBUIMr6jmcTexT2nKfkNljAUhfhO/R38Tj/m72+3GZ599hiOPPFIGpPj4eBx22GHwer3Raxt6tnmuZVCgftvgkWpzoaAPQb8HFWWFWL1iEf731Wf48x03447bbsWpp56KTp06ITMzE1lZWcjOzpZ9bnmcl5cnutCbbv4T/jzhr/jg4y+xZNkalFd54Gf+QRXuXhEgtgAtgyRmKbajgAlO2xGkJR1SZMZBmeD0ySefyEBMr3hazd1xxx0oLCwU0Rp/b2hA50De0BLbL5uy39Az9uU5fktDoMRz5Ipoivztt99i1KhRQou4uDj0799fOEr+Zor19mXt7J1n1293PCI4MSYDud4A/L4aBHw18HnccFeVwF1VgfXr1+Pnn3/GTz/9JOu0adPwww8/yPr999+LyHvt2rWorHLDXRNArTcEnz8Mf4ATGmP+pYsfWwB9zty2KAqY4NSiqqOuMAQlDsSaY6AIa9KkSTJbJJfQpUsX3Hrrrdi2bZtwC5qj4JbrzhYK1GL75q72d/asffGb/hZ+u94n4JArKikpwUcffSTizYyMDKSmpmLgwIF47bXX5Ddep+m2L8pmPnPvUUC1Q936FDgpgOKEzCtiv1CI0UO4qkka20BNTY2s1HtyX+s/ua2bqAFhxmqUsFgUDW8HTvyMhs7tvc8zn7SHFDDBaQ8JuK9u151Mc0/slEuWLMEFF1wgPkeUrefk5ODvf/87qH/SoKQ5qJ2Vi4MC56h1w4Get+64Zf/d3wu/hQDDhd/DfVrjlZeXCzANGjRIQCk9PV10TW+//bYAE8GM1/F60s1cWjIF2LLoS7RjK2TL9Ad8CITohsCgSJFoverJCtuF7iM8x4X1Lu2Gx+EIQv4AgpQqUMlpAlFLbgwNls0EpwbJcuBParDRnBM7IwFq+fLluOKKKwSYkpOTceyxx+K7776rxz3xWt1hG/oSAhM7PIeGXa0HCpw0uBBs+N1r1qwRsd3RRx8NivGo/B4wYADeeustVFVVCRjpwUkDekPfbp5rKRQgKEmAx5hWyFxeIQEltlGmRqeayC8p0pWukXWs+0QsUPGrdJ+JaHbJ2EYkqnAYEYJUDMNk4lVLaQsNl8MEp4bp0iLPcqZIMca8efPQr18/EJzIPZx00kkib+egTGDiyk7cGEC1FLGeHlxYVl1unuMxv5X7FNUsW7YMV155JQ499FBRfBOcuP/6668L16jv5/VctTiwRVaiWSiDAoQGApSGCLUVrp71yF9p/GJsWa9cdB3r44bJKbbhSpanxdy8Xz1CPSfmzQ0/wzx7oClggtOBroFmvJ8dklxEUVERXnnlFbFconiPupfhw4dj/vz54ijLAV0DVTMev98v5ffochKc9IyY+2VlZSLGoyjzqquuEhCmfonfSpN6ckykA0HMXEwKmBRofRQwwekgqlMO5hzAOaAXFBTg+eefR7du3SSfDUHqmGOOwfTp06POsRzkW/LC7yHXw2/SnBK/jedoKv7mm29KeCRaJ9JKkSbEl156KWilxd95HZ9hLiYFTAq0PgqY4HQQ1akGJw7m5KBowffCCy+Ifw8Dr3IQZ8w7rYM6GMAplmMix8fvYkikl19+GV27dpVvEsfKtDTcdtttWLdunUSF0BwXAcpcTAqYFGh9FDDB6SCqUw7kHIz1wMyBnKbkTzzxBLp37y4e9BR7UQdFgCJ30dIXAi1XGj6wvOSKrrnmGvTs2VO4JerU6HRMvy7G8COAkQb6Ht5nLiYFTAq0PgqY4HQQ1anmnAhSWiRGgMrPz8err74qxgIM8UIOasSIEVi4cKFwIhzIW6L4S3NNBFvGyGPUC1ofEpAoxqPBB0MTff3116J/4nfwHooAuc/V5JwOoga8F4vK9hy77sVHm49qIRQwwamFVMTuFEN3Tg7W9HV64403xO+HgzoBqn379rjhhhuwadOmKEhpYNNbPeDzeG8sfI5+pgYPfY7H5Hz07wQlmoGzfHfffTfatGkj3B8Btm3btrjwwgvxyy+/iJGH1kntjTKazzj4KMA2xPbCNs+2wHbEtsNV+7bxGv7Grbkc/BQwwengr8NohyUH9cwzz4D5lTi4U1fDRIEc5P/zn/+IdZsWibEDs6PzmOve6tD6WXrL5xKM9IDCfQ4yBNPffvsNzz33HP74xz+iQ4cOEjcwLS0Nffv2xeOPPw5GYmc4InKHfB7Lay6/TwrodsQt2wL9/R599FExCmK7Z7ti+9ATn98nlVrXV5vg1ArqU3dIdlwO+rNnz8ZFF10knAgBiuGOjjjiCOGsaKLNWSfBgiDBjs77ue6tRc9uYwcLPp/vItDQBPyll17CeeedJ8E6WT4GtaU13rhx40REyWuYOlvPhE1w2lu1c/A+h+1Jt1fqVIcMGSLBYOkHp9sw+4C5tA4KmODUOuoxOmvkYE5RB63aGEni8MMPF46Ejqs0O7/kkkskaCqDxsZ29r3ZqfksPptbAiAHDu7T4IHc0l/+8peojxZFeIz2QKfam266SWbE5Ja48l5+D8U2fAafaS6/Twqw/XDVbYmBXmkow8nMqlWr5DzbCn83l9ZBAROcWkE9ctDmysGcHVgP6Izi/O6770qQVBoZaCdWis3o2DplyhQRnTFm3d7s1HyW5pLIqRGQmOb9+uuvFwMHivAISiwPObrx48dLXibqnmKt8fQsWQ86Jji1gsa6m5/Aumfb1m09lnOiiC8WuLhvLgc/BUxwOvjrMNphdcfVs0tuCTwEIYrQCAoEBIrRCFY0mGBYIDru0kyb1zI8UiynsjNAiP2N7+J9vJ+iRaZyZ4ZaBmWl7xWD1FLESH8sAhOPOevlDJgAxvsIQnwmBxctxuNzeU5vW0F1mZ+wGxTQ7UK3g6lTp4IBgOk2ocFJtxkTnHaDwC3wFhOcWmCl7K0isSNzJTdCh9133nlHopozYRuBgokLCRY9evTA+eefj4ceekhSwdNCjqkpNBejORg9QGiw0IMB30FRImP+MY385MmTccYZZ4hzsH6PzlhKK0IGb2V0i8WLF5ugs7cqu5U/R7c9Ag/3CU5MlXLyySdjxYoVMpkhCfTvrZwcv4vPM8GpFVezFocRRCjyI0ezcuVKfP755+LoypxQ1EXRGIHOu+SkqKNiKniK/Zgv6uabbxYzb+ZQ4gyVuixGCP/yyy/x4IMP4vbbbxdzdV4/cuRISfpHC0GasxOY6K9ETql379646667JCbg3LlzBSwJfuZiUqApFDDBqSlUal3XmODUuuqz3tdozongRCs5fUzDBIIM5fY0O6d4pHPnzpLIkIDCleBCESBNuwlcBC1mnmX8PoIQ9VYUzfE3XqPv45bH9FmiAYZWWjPyw+bNm6M+SwRLDjjmYlKgKRQwwakpVGpd15jg1Lrqs97XaDDSnBNFHly1FRw5Kx4vXbpUYtndeOONwvlQzEeAIVdF0R9X7tvtdlkpouM+dVf6HEGJsfDIIZHzuu+++/Dxxx+Lgy3fx1W/n+XS+/UKbB6YFGiEAiY4NUKYVnzaBKdWXLns0HrVgLD9lqBBropGCXRmJEdFnROdeSmyY0w7ivcYDom6qry8POGiaKZ+5513yu8U1z322GP4+eefsWjRItBKkDouGljQSILP16DIfYIljwmO5mJSoCkUMMGpKVRqXdeY4NS66rPe12zPnWig4pYgpY+1lZw+JmAx1h11VAQZpueYOXMmPvzwQzFNJ0dE3xI6ytJwglter638+F4use/hOf187uv31yuweWBSoBEKsO3o9sz97Q0i2J646DbWyGPM0wcRBUxwOogqyyyqSYHfKwV2BU6xkx9eay4HPwVMcDr469D8ApMCrZ4CJji1+ire4QNNcNqBJOYJkwImBVoaBUxwamk1su/LY4LTvqex+QaTAiYF9pACJjjtIQEPwttNcDoIK80sskmB3xsFTHD6vdU4YILT76/OzS82KXDQUYDgpAGK2+2t9UyDiIOuSndZYBOcdkki8wKTAiYFDjQFGgKnAQMGRGPrmeB0oGto77/fBKe9T1PziSYFTArsZQqY4LSXCXoQPM4Ep4OgkswimhT4vVPABKffXwswwen3V+fmF5sUOOgoYILTQVdle1xgE5z2mITmA0wKmBTY1xQwwWlfU7jlPd8Ep5ZXJ2aJTAqYFNiOAgSnpsTW04YR291uHh6EFDDB6SCsNLPIJgV+bxTYFTgx0j0XE5xaT8swwan11KX5JSYFWi0FTHBqtVXb6IeZ4NQoacwfTAqYFGgpFDDBqaXUxP4rhwlO+4/W5ptMCpgU2E0KmOC0m4Q7iG8zwekgrjyz6CYFfi8UMMHp91LTdd9pglMdLcw9kwImBVooBXYFTtoQgtdxNZeDnwImOB38dWh+gUmBVk8BE5xafRXv8IEmOO1AEvOESQGTAi2NAiY4tbQa2fflMcFp39PYfINJAZMCe0gBE5z2kIAH4e0mOB2ElWYW2aTA740CJjj93mrcTDb4+6tx84tNChyEFNgenL7//nsMGjRI8jktX748GhmC13E1l4OfAibndPDXofkFJgVaPQUIOKFQSICH2++++w6DBw8WcFqyZAm8Xq/QgL/Rcs9cDn4KmOB08Neh+QUmBVo9BQhOfr8fgUBAwGfGjBk48sgjcdppp2H16v9v7zzAqyrSP3wFQpKbdlNJCIGEEgQ2SlkVpCgKuIAIoYUmsooFdSlS7IKKKGtflF2FXcqygEoRG6KCgAgo3ZCEGiCNhJRbcnt7/8/cZOBiQMHlvxGYw3Myc+Z8882Zdy7ze+acOXMOIdbWE7s4r0ZOV8bPQYnTldGOqhaKwBVNQIqSECAxOlq3bp1v5NS3b1+ysrKwWCy+dDFqkovAXtFAroLKKXG6ChpZVVERuNwJCEESuxwZiZFT165dSU9PJycnxzdaEiMrdVvvcm/pM9evxOkMCxVTBBSB3ykBMRqSoyLxfMlsNqPX66moqPA9b5LnhY0QKbVd/gSUOF3+bahqoAhc+QS84HF58Hq8eD1nvtskni8JQfLi8f1zedyIo4vbhP3P91/yICZcXOh+sdfyS+VeXeeUOF1d7a1qqwhcngR+rh1+fb4X8e+MQP02cfIXGz/n56TlBi50/zVf5yxAJaLec1I/AkVAEbgcCPxcnPyuuepUlUBVjZ8uVhCEvRSnC8krbS8kvBB/fpVR0dME1MjpNAoVUQQUgd8tAdHH++9+F3omWY6ffosgSC9+js8bvRBRkja/5VrOW/BVdUKJ01XV3KqyisBlSkBqhwz9qiGTRCglwe/0JY76l3ah8Ut8CVeJOyVOV0lDq2oqApc1AbEkkZgJcVp+hDBUbf4SIS3kuf8+FN6lVxGeKfe/9608/BIBJU6/REedUwQUgd8HAY8bvK7q3eMTKjFLz/dekxesdiduLzjcXt9UhYu+aKlwfhmFb6/Xg8frpspr1SQIMUNQ7OK8mLYuj/2yquglIKDE6RJAVC4UAUXg/5eA1+0ArxOv247X7cRoqCC/IJ/8/Hz0eiMuN1V7tUBd1NVIYZJhdWYpTB6vC4/XUbV7nD5Rqqw0+1alkCtWeDxqRHVRzC/AWInTBUBSJoqAIlC7BDwuG7htuF0WHHYza9as4uGHxzF27P188cU6nC6wO8DlxTeCuqirlaLkH/ociBGSC6/Xicdrx+O14fE4sFptZGcf4LvvvsduE6tSiFGUEqeLYn4BxkqcLgCSMlEEFIFaJuB14HVbcDrMWMwG/jp7FomJCURGRjF37nu+UZMQJ5sQKPFo6GI2f1GScV/+s8XJ5bZQWHSC996bR58+dzJu3CPY7U5c4uVgpU0XQ/yCbJU4XRAmZaQIKAK1SsBjB4/V/lA26QAAE91JREFUN3KyWU2s+Gg5w4cPY8iQoXy85jMcTm/V6MkJTvFo6GI2KUj+oW/qg3idVzxvciKEyWo38N2Wb7kurS0x0XEMyxiB0+HG5fIiHomp7dISUOJ0aXkqb4rAFUVAvNpatV6QC7fT4XvOYjKZMBgMvuc+lZUmrHYHDrGkkDAVtRd/PC48Ths2qxm9qRKD0YjRYMBsNGCxOrBXT1zw2fvyiPtxTlx2K2ZzJRVGE0aDnkqjAVOlDbvNitttx+2x4nGZKSsp5FBODllZhzlZovcJksPurh5BuX1r7xmNxqrrNBowW6zYnW7fbT/fnDsxocFpx2qswGi0Yar04LB5sJqsVBpMvuvVVxqxOex4PW5cdiNl5fksWbaAiLBwggNDGTgwg+JTpRhMdmwOMcoS1XbjsNoxm8wYDZUYDSZMpkqsNjtOt5hc8fP5flIRr6ifzSWpjBKnS4JROVEErjwCbq8bh9sKTj3e0hMc3bGN55+eTuvWbYhvEE1yQhj9+v2J+cvXsL8CjI6qUYvo5DHlcWLXOv7+9kxSOtxMdMMkmjSIoXeHNrw7fzXbcg0UelzYxdw6twccLjiVw851y3nokbGEpaTSPDGKtMQ4ho16nLXfZJJf5sDocWEz5DLvlWf5Q0IyUbEdeOsfK7HYneAqxlpRwI7tW3j4L4+SkpJEfFwUjRs1ZMrTM1i/M4cCOxgAq83Jjm8+5c60eJqktGLI2ImsXfsBY/v1o1VcDA2Torl9zAg+/W43ljLQ5+xl9Og+aGM1hNXTUF+jJTAklrCUSAbf/zg7cgowO8ooObGXlYveoW/3ziQ2jKVhQjydO9/CvIXLOXCiHIMTxGcRfXcexdR4b9VEj6rlkE5L9ZX3Y/oNNVLi9BugqSyKwNVAwOV14vKYwZjPzi8+5O7ePYmPTiRcF4MuMpy4MA1xMWE0b3sTU9/+gEIDCI1wVprZ/skCxmX0oEmjaDRRjdBGxRKvCyE5WENSSlvS73+ST3dkUWaz4/FYcZbn8t3CFxjQrR3hMYloIlsQF6KlSWg9QiMSubHLQP714VcUWSpxGA8z59nxJAdFoKnTgpfeXIq+shIsh/n8o3n069sLXVxDInQRROvCiI4II6FxU3oMHM2iz7+nyAaVZis/rFtJxzgN2tBoGrftQqdb2tI6No6mIVpCgjVoGkXR5+5H2Lk1H8PBLEYOv53QWA26OhoCNOFoghMITNExaOxUfth7iOKTPzFj2n10aJVEXLiWqMhQIiPCiY1uQPNr2zH52dlVIiYGieIHdJY4XfyKgFf6b1CJ05Xewqp+isBvJODFhcOpx1yQzZR7htCgfgBhYQnc3L034x97jDHD+5LYIJzgiGgad+jFzgMnsVqdFB/J5OGMXiRGBREYGk6zP3Zn0rSneHLSo3Rvl0pYSDi6htfS/54pHKuwYrGXciLzUwZ3TiAmLIiAiJbcOexJpj46hfTbOhEaoiFE15jBY8azP/84lvJs5s6YQLMQHZq6zXnh9cVU2iycPLSeuwffRkR4CEFRjbmjb38mT5rIiCHphIZHEBqbRK+h97LnaDEVegM/fPMxNyRc47tFp4lIpMUNbZg2bgIPDUyneXw9NFF1SWjTibf+9hllubksmD+L4SO7EBegoV6dWJpc15OxL05j3n8+4ejBw6xc/DJNE7REhATSosW1jHvwPsaPe5D2ae0ICo4kvkkbXpmzAKMY5Pnu5ol7fOLdraoHVhc7j+M3Nutlk02J02XTVOpCFYH/NQEnTnspW79YRvfrWxIdFMINXfvxyYadlBgqKTr+E4+MHU5ychO63DGY/3zyFcWFx/h66dtc11hHSJiO1jf3Zc3G3ZwsKUNfksfmdavo3D6V0OBgIhPSWLvzCCeKcvno/SdpGq0hPKYhPTKmsu+gGUOZmcwfvqVfjzRatv4jg+55lG/3bMd4ag9/e2YcKdowNHWbMvPNxVRUVrB68UyuT43yjeq63fVntu85iL5cT/7hbPre0YMIMXpr2opV6zZSUnqK779eTftGAYTWDya+2fXMWvxPCgsM5O/Zy6Rh3QjWadA2as3E55Zi0lsxVRzg4+WzSA7RUDcwhdtHPs0Bl3jfyUNR5k4mj7qZBroAUlq0Ydab8zhZWEhFUQErliyhedNW1A+No3ufIZwyeXBKJRKjp+pXfF3Vj+v+1638ey1PidPvtWXUdSkCtU3Aa8NhLmLpu7No3TCamLAoxk56ib3HjZjc4LGXkvnjN3y2+gN+2JNNbrme40d28da04SSG1yE8oQWPvrSQAj04nR48dhOnio7w4pS7SdRpqB8SxuTXF7Nj3wGee2gEMdp6RCb/gZcWfcYpkxmHw4al4iQ7v1rFx2u+YffhIgrMZVj1mcyd8SjJwVo0dZOZ+eYiistP8vqMMbRoVJ/QiFDSH5jOqrVb+XHbTravX8e0vzxEdKSOkKhYXnrjbY7nH2PzN6u5vnEgEXXr06p9N77Oy0NvB9Ox48ydNJAYnYaAuOaMmrqIwgoHtspc1q/6K021GjSBqXQd8TzHRRs54NjGT8m4SYcupC4tO9zCq/NWs2XL9+zasomPl/6HjjfeTL0gHe063s6OzCNY5fcQqydIOKvcqMWR/H7zSpz8YKioIqAI+BOwYzfl8/K0B7g2Poro8FieeW0x2SVuTOK2lKMc7CV4rRVYHW6MQO6hrUwc1I44rYaEVp2ZuWgzFXYxEc8LLis2azl/n/UgrRI01A/WMGjCy3zxzW7GDx5MeGA4Cdd15d3PN2F2leHCgsOsB0MZVgucsonJDDZc5hzmPPcQyVotmnrJPP/aPyksLeCp8f1Iib+GoFAt9ZM6kdy6M23TOtCtXRqpibHERUUQ1SCeSU89zeFjh9i8YQ1pSYFE1Quk3U092GZ3Ui6WQsovYOnjw0gK1xDUoAUDJy/imNGLzXycLatfpWmQhmuCW3FTxgyOCFxWJ4fXLuXOlhpCgq4hILYFMdfeSlpaW25Ma03bFk1JiIsnLDKeNu278PWWXZjFpBGxiRl+1cJkVyOnKibVf5U4nYVDHSgCisBpAl47NmMeb02fSMsGkcRExPHYC/8gq9iFSfSoLj2VxYfI3r2VE/kn0eMh99A2nr/vNqKDNMS37MTMxZspteB7H0iMnOy2ct6f/TAt4jSEhNdl8MRX+HL9XiZmDPWJU1zrTsz9YjNmdzkOtwm31URp5h5+/CGHo6fMlLkrsRuzfOKUFBiIpl4KL77xL/KLTzDp/h4kx2uorw0iLq03HW8bxJ969iX99lvp36MbvXveRq++dzJn/nyO5eey8etVpDUOIlITQMdu/dgNlAmtKShk+ZShNAvXUD+mKemP/5vDJnBYCtj80WyaB1WPnEbOJFfAsjjIXrOQXikatEHXENywDa1vHc4t3XvSr0d3+vfoTr8+d3J7r7sYPuZhtu7OwWJX4nT6d3aeiBKn84BRyYqAIuDAYixgxfzXub5xA+J1sQy7byrbsouwiBln1hI+WvwuvXt1564ho3lt3gIOZv/InKfGkBCiQRefwoPPvkO+ARxOD26rAX1JLhPu7U9MiIYAbQwvL/iE3fuzmP7IEOLDNEQmpTLxlYWUVoLb5eFU3iFef+4vdO3Wm4z7JrBqw1oMJbt478UJNAkSt/WEOC2k8FQBb7xwr++2XlRMFKMmzOLbbfvJzszhWNZejmTtY+++few7mEtucTll+jK2b/qM6xsFoNNoubFbOnuACsBeUMAHk0eSEiLEKYWB0+ZzpNKJ3VLIhmWvkarVULdeY7oMnkqeGPo44MimtQzpGENosMZ3W2/+ik3szcwhNyebo/szyd5/kJ9yjnPgeCml4p2qam0SL0eJQah43iRu7anJ5Gf+1ylxOsNCxRQBRcCPgFgZwWEvY+/GNfS56TpiAoNo0boj7y9ZTdaRo+zftZF7ht9FdGwcQQ1a8uxf3yXv+FE+//ccbmgWQ0RYKKntu7Lw4/VkHTjMgZ928uG/3qFDWiqhYVEkpnZm68GTFJQcY8X8p2kVpyE8IpIbeo5h7cZcjh08wffrVtOtYyqhukSatRW+PsRQvIe5M8bTJCgETZ0Unn9tIeXGCr5a+SY3/iGemNhIbuwxmC83bOV47jHyjxzg41UrWb95G3uPFFJi8WIwGdnw6TI6NKxLhCaCG7oN5SdcvluTjoJ8lk2+lyYhGoJimjJ4yjscN1uwW0vYuPIfXBuuITggnva3jWBr/gEKiwzk7t3FEw/0JjqiHo2bt2LajDfIPHCY40eOcmBfJmvXbmBXZi55pTbMHjmVXKiRmKknvt9bnebH/2qPKnG62n8Bqv6KwHkIeMRUcpcRV9lRXpp4Pw2D6hNYL4KWbdrRf+AA0nt3ISEunDohOuLSbmd7ZiEWq4eyvKM8PLQHTaIDCAwOILpFO/oMGMTQu3qT1lBHYJCO6JQOPPnqQgpNNhyuCvKyv+S+Xs1ICA0gIDSF1h2HMXrwCPp16UCduhoCQhK5M+NBdh89hLXiAO9On0DjwFA0dZox840lVJiMlOZu4oG7+xIWGoQmMIJOnbsyasQwRo8YSmRMAxJT2zLy0afYefgkeoOJTZ8so0tSAOGaGP54y0hyMGMRo5jCfJZMeYSk0GCCY5oxbMprFJqN2B0V7Px2NZ2Sg4iop0PXIJU+9w5g+uy57Nmzny/WvE/LpjGEaAOJiU+i/9BhjBx5Nz2790QbGkuXnum88d5S3zO4M1PJnVXTyakaQZ2nKa7KZCVOV2Wzq0orAr9OwIMbt1jPwFzEoe++ZNKoDBKiE9DpotHpQonWaojUaWne/mZm/XsDJ01VC686LQ4Kd33FE2PvonnjKDQxjQnSRROtrU/jAA3JqTdz/zNvs6OoBKPTgctpw60v5sTXi8i4rT1xDRPQ6JJI1GlJCqqDNrw53e/4Mx+t3U6p04G5NIc5z04gKUBMJW/JS28ux2C2gC2XbetXMmzoACLjGhAeHoouTEu0TryLFUvzDrcy/d1lHCl3YzRZ2L52BV0TNIRr4ulw62gOYcCOE3dhHoumTqRhaDjB0U25e8orlJhLcbpMFBzay0MDOpIUHoNWG0VgYj069R7Oqq++55T+KG/MfoIbrk/1vXwbHBVFWEQkuogYohok86eBY/j0210+Aaz5Eq5IUTf1/H+VSpz8aai4IqAInCYgbja5xIKrrsoq8cj6iXfemsM9o+9h0MD+ZAzsw2OPTeCjz9ZxtMKLxVX1uQrfnSprKfnZ2/lgyTz+PH4yA4ZkMGzgAB67bzQLlqxh3/FyKoR/cUNLLDgnli+qyOOnLet4dvpT9Bs5moz0Ptw7dBDPTH+b9Zv2Uay3Y/F4cJhL+Hz5IsZmjGLg4HGsWPOtb906PHqsxmJ+2LaFWbNfYfjwDIYMSmfI4EE88Mh4lq35kpwCPXqnWL7IQc6ubTw5dgjD0u9h2nNvUowJl1jktaKUrxYvZMyIkQwf/SDvLPgQo9XgW9vPrC9ly5cf8sSESYwcPooBI/vx3Oy/kXW0ALvHTGHeAdasWMpjE8czYMgQ0gcNJiNjBC/OepVN2/ZwymjHfnp9Pf+XcMWNPSVOp398gBInfxoqrggoAmcREF95FV+clWFlZSUlJSUUFRX5PvRXXl7u+xqssDnXJr4WW1ZWRmFhoc++tLQUu93u83c+e7Fgq/Av8hQUFCAWmvV98dbj8V2LiAsb8aFBsYtrEuXLXZy3WCycPHnS5yMvLw9RrvxqrbSz2Wy+ckQZoh7iw4HinAjFwrbFxcW+uoqyRJpg4HQ6fbuwF/7FdQpbkS6/iCvK0ev1p+sgbMQ1iuuSNuequ0o7m4ASp7N5qCNFQBGoJiA7cSlM8lh0sqKzFh2yiMv0c4ETeYWt3IW9zHMue+FL+JX+RSjsZacu84rQ36eIi7zSTsSlD//rFGWKvHKXNjK/EE5xTl6DtBOh9C99y7zinH+5/vmFjdhlfuFX5FfbrxNQ4vTrjJSFInBVEpAdrgz9O2cR//l+PkjSTvqR4bns5TmRR3boMhTnxCZCeV6ck7t/XnFeHEvRkXlkujiW+fz9S3uRJv2dK6/w438N8lj69w/9/Uuf56q7SjubgBKns3moI0VAEfAj8PPOVByLzlaOLGSnLNLPt8mOWvqSec5lL21EKPNJe/8y/O1kur+dHLFIP1J0hI3c/H1IMRJ2Ii7rKEdd/nmED2kjQ5Emy5JsZF6ZLvP5X4P0q8KaBJQ41WSiUhQBRaCagOhI/TteeSw6Zdm5yw76fNBkfmkvwvNt/h25LEvmF6Esy/+cf9y/DBmX+f2P/fMIn0KUxHkRl/bSxj+fOC+Pz2Xrn+Yfl/UVeYVftf06ASVOv85IWSgCikD17TTZMcsOXIIR6Zdqk2UIfzLuH8pyzlWmtJM2MvRP/3k+eU6E/vXyT5dx6c8/9D8n4nKT4iaPZehvI9NUWJOAEqeaTFSKIqAIKAKKQC0TUOJUyw2gilcEFAFFQBGoSUCJU00mKkURUAQUAUWglgkocarlBlDFKwKKgCKgCNQkoMSpJhOVoggoAoqAIlDLBJQ41XIDqOIVAUVAEVAEahJQ4lSTiUpRBBQBRUARqGUCSpxquQFU8YqAIqAIKAI1CShxqslEpSgCioAioAjUMgElTrXcAKp4RUARUAQUgZoElDjVZKJSFAFFQBFQBGqZgBKnWm4AVbwioAgoAopATQJKnGoyUSmKgCKgCCgCtUxAiVMtN4AqXhFQBBQBRaAmASVONZmoFEVAEVAEFIFaJqDEqZYbQBWvCCgCioAiUJOAEqeaTFSKIqAIKAKKQC0T+D/gYJgDsnbKfQAAAABJRU5ErkJggg==)"
      ]
    },
    {
      "cell_type": "markdown",
      "metadata": {
        "id": "Sj9r6B9GrOl9"
      },
      "source": [
        "* División: **` / `**"
      ]
    },
    {
      "cell_type": "code",
      "execution_count": null,
      "metadata": {
        "id": "TmyS9QtYrOl9"
      },
      "outputs": [],
      "source": [
        "10 / 3"
      ]
    },
    {
      "cell_type": "markdown",
      "metadata": {
        "id": "00-o_l50rOl-"
      },
      "source": [
        "* Cociente: **` // `**"
      ]
    },
    {
      "cell_type": "code",
      "execution_count": null,
      "metadata": {
        "id": "vbBEIwpZrOl-"
      },
      "outputs": [],
      "source": [
        "10 // 3"
      ]
    },
    {
      "cell_type": "markdown",
      "metadata": {
        "id": "D5mpUuJerOl-"
      },
      "source": [
        "* Resto: **` % `**"
      ]
    },
    {
      "cell_type": "code",
      "execution_count": null,
      "metadata": {
        "id": "PlUhGM37rOl-"
      },
      "outputs": [],
      "source": [
        "10 % 3"
      ]
    },
    {
      "cell_type": "markdown",
      "source": [
        "<font color='green'><b>Ejercicio:</b>\n",
        "<br> Este símbolo se puede utilizar para saber si un número es par o impar, ¿se te ocurre cómo?\n",
        "</font>"
      ],
      "metadata": {
        "id": "KT4u6dlKWt_T"
      }
    },
    {
      "cell_type": "code",
      "source": [],
      "metadata": {
        "id": "vPy8ti_zXGuz"
      },
      "execution_count": null,
      "outputs": []
    },
    {
      "cell_type": "markdown",
      "metadata": {
        "id": "Oi_2ZMhurOl_"
      },
      "source": [
        "* Elevado a la potencia: **` ** `**"
      ]
    },
    {
      "cell_type": "code",
      "execution_count": null,
      "metadata": {
        "id": "7PuVgMPYrOl_"
      },
      "outputs": [],
      "source": [
        "2 ** 3"
      ]
    },
    {
      "cell_type": "code",
      "execution_count": null,
      "metadata": {
        "id": "sE_W70G-rOl_"
      },
      "outputs": [],
      "source": [
        "16 ** 0.5"
      ]
    },
    {
      "cell_type": "markdown",
      "metadata": {
        "id": "yDQjJVGFrOmA"
      },
      "source": [
        "<font color='green'> <b>Ejercicio:</b> ¿Qué pasa si utilizamos variables?\n",
        "<br> Crear una variable que se llame 'minutos' y otra que se llame 'segundos_por_minuto'. A continuación hacer una multiplicación entre ambas y almacenar el resultado en una variable llamada 'resultado'. Por ultimo mostrar por pantalla el valor de la variable 'resultado'</font>"
      ]
    },
    {
      "cell_type": "code",
      "execution_count": null,
      "metadata": {
        "id": "0NkSvOXZrOmA"
      },
      "outputs": [],
      "source": []
    },
    {
      "cell_type": "markdown",
      "metadata": {
        "id": "Zi2dc6T-dq6X"
      },
      "source": [
        "___"
      ]
    },
    {
      "cell_type": "markdown",
      "metadata": {
        "id": "gHk_UX9Sdq6V"
      },
      "source": [
        "<br> <strong> Operadores relacionales </strong>"
      ]
    },
    {
      "cell_type": "markdown",
      "metadata": {
        "id": "DTyWRq7Xdq6V"
      },
      "source": [
        "Este permite comparar dos elementos entre ellos, el resultado siempre es de tipo booleano es decir True o False"
      ]
    },
    {
      "cell_type": "markdown",
      "metadata": {
        "id": "KDA8PEGcdq6V"
      },
      "source": [
        "* Operadores de comparación:\n",
        "    - Igual: **` == `**\n",
        "    - Distinto: **` != `**\n",
        "    - Mayor: **` > `**\n",
        "    - Mayor igual: **` >= `**\n",
        "    - Menor: **` < `**\n",
        "    - Menor igual: **` <= `**  "
      ]
    },
    {
      "cell_type": "markdown",
      "metadata": {
        "id": "3B92BC8KrOmC"
      },
      "source": [
        "Como el numero 3 es igual al numero 3, el resultado de la operación es `True`"
      ]
    },
    {
      "cell_type": "code",
      "execution_count": null,
      "metadata": {
        "id": "4aoXH71Ldq6V"
      },
      "outputs": [],
      "source": [
        "3 == 3"
      ]
    },
    {
      "cell_type": "markdown",
      "metadata": {
        "id": "OMFQ-GPArOmC"
      },
      "source": [
        "Como el numero 3 NO es distinto al numero 3, el resultado de la operación es `False`"
      ]
    },
    {
      "cell_type": "code",
      "execution_count": null,
      "metadata": {
        "id": "rNdEZHXFdq6V"
      },
      "outputs": [],
      "source": [
        "3 != 3"
      ]
    },
    {
      "cell_type": "markdown",
      "metadata": {
        "id": "ncpEqHAfrOmD"
      },
      "source": [
        "Cuidado, en este caso podriamos pensar también que es `False`, pero en su lugar es `True` ya que estamos comparando el numero 3 (tipo entero) con el numero 3 (tipo texto)"
      ]
    },
    {
      "cell_type": "code",
      "execution_count": null,
      "metadata": {
        "id": "JdZRsnLKdq6V"
      },
      "outputs": [],
      "source": [
        "3 != '3'"
      ]
    },
    {
      "cell_type": "markdown",
      "metadata": {
        "id": "OPMYeZtHrOmD"
      },
      "source": [
        "Al convertir el numero 3 tipo texto a entero, otra vez el resultado de la operación vuelve a ser `False`"
      ]
    },
    {
      "cell_type": "code",
      "execution_count": null,
      "metadata": {
        "id": "2TIOf_vOdq6W"
      },
      "outputs": [],
      "source": [
        "3 != int('3')"
      ]
    },
    {
      "cell_type": "markdown",
      "metadata": {
        "id": "FqIfxekzrOmE"
      },
      "source": [
        "Como los textos son distintos el resultado es `True`"
      ]
    },
    {
      "cell_type": "code",
      "execution_count": null,
      "metadata": {
        "id": "AMPP7Xxvdq6W"
      },
      "outputs": [],
      "source": [
        "'texto_1' != 'texto_2'"
      ]
    },
    {
      "cell_type": "markdown",
      "metadata": {
        "id": "PwYbIWkHrOmE"
      },
      "source": [
        "Como 10 es mayor que 5 el resultado es `True`"
      ]
    },
    {
      "cell_type": "code",
      "execution_count": null,
      "metadata": {
        "id": "YNGTrJWJdq6W"
      },
      "outputs": [],
      "source": [
        "10 > 5"
      ]
    },
    {
      "cell_type": "markdown",
      "metadata": {
        "id": "C3nl7dTVdq6W"
      },
      "source": [
        "<font color='green'> <b>Ejercicio:</b> </div>"
      ]
    },
    {
      "cell_type": "code",
      "execution_count": null,
      "metadata": {
        "id": "HRjA9twMdq6W"
      },
      "outputs": [],
      "source": [
        "# Comparar si la variable minutos y segundos_por_minuto son iguales\n"
      ]
    },
    {
      "cell_type": "code",
      "execution_count": null,
      "metadata": {
        "id": "yGssZkLydq6W"
      },
      "outputs": [],
      "source": [
        "# Comparar si la variable resultado es mayor o igual a segundos_por_minuto\n"
      ]
    },
    {
      "cell_type": "code",
      "execution_count": null,
      "metadata": {
        "id": "vnwji62tdq6W"
      },
      "outputs": [],
      "source": [
        "# Comparar si la variable minutos y resultado con diferentes\n"
      ]
    },
    {
      "cell_type": "markdown",
      "metadata": {
        "id": "UNWkg0VMrOmF"
      },
      "source": [
        "___"
      ]
    },
    {
      "cell_type": "markdown",
      "metadata": {
        "id": "-98ArjgXdq6X"
      },
      "source": [
        "<b> Operadores lógicos <b>"
      ]
    },
    {
      "cell_type": "markdown",
      "metadata": {
        "id": "cgsEKisArOmG"
      },
      "source": [
        "Nos permiten evaluar condiciones, al igual que los relacionales, su respuesta son `True/False` (booleanos)"
      ]
    },
    {
      "cell_type": "code",
      "execution_count": null,
      "metadata": {
        "id": "Ec829hnNdq6X"
      },
      "outputs": [],
      "source": [
        "# definimos una variable de ejemplo\n",
        "numero = 12"
      ]
    },
    {
      "cell_type": "markdown",
      "metadata": {
        "id": "yd9wicv0dq6X"
      },
      "source": [
        "* <b>AND </b>: Se cumpla la condicion 1 y la 2"
      ]
    },
    {
      "cell_type": "code",
      "execution_count": null,
      "metadata": {
        "id": "Ggu15AQAdq6X"
      },
      "outputs": [],
      "source": [
        "numero < 0 and numero > 0"
      ]
    },
    {
      "cell_type": "markdown",
      "metadata": {
        "id": "xV4nLMgJrOmH"
      },
      "source": [
        "Como el numero 12 no es menor que 0 (primera parte de la expresión), el resultado es `False` y la segunda parte no llega a evaluarse ya que en la primera ya hemos tenido un resultado `False`"
      ]
    },
    {
      "cell_type": "markdown",
      "metadata": {
        "id": "g2o49jZ7dq6X"
      },
      "source": [
        "* <b>OR </b>: Se cumpla la condicion 1 o la 2"
      ]
    },
    {
      "cell_type": "code",
      "execution_count": null,
      "metadata": {
        "id": "SEPuIHI8dq6X"
      },
      "outputs": [],
      "source": [
        "numero < 0 or numero > 0"
      ]
    },
    {
      "cell_type": "markdown",
      "metadata": {
        "id": "j4028sKIrOmH"
      },
      "source": [
        "El numero 12 no es menor que 0 (primera parte de la expresión), pero si que es mayor que 0 (segunda parte de la expresion), por lo que al si cumplirse la segunda parte el resultado es `True`"
      ]
    },
    {
      "cell_type": "markdown",
      "metadata": {
        "id": "x1KyW4Mudq6X"
      },
      "source": [
        "* <b>NOT </b>: No al valor"
      ]
    },
    {
      "cell_type": "code",
      "execution_count": null,
      "metadata": {
        "id": "xunP-vg_dq6X"
      },
      "outputs": [],
      "source": [
        "not numero < 0"
      ]
    },
    {
      "cell_type": "markdown",
      "metadata": {
        "id": "yONvW7JbrOmI"
      },
      "source": [
        "Como estamos negando que el numero sea menor que 0, lo cual es cierto. El `False` que hemos obtenido antes se convierte ahora en `True`"
      ]
    },
    {
      "cell_type": "markdown",
      "metadata": {
        "id": "0WpZREiyrOmI"
      },
      "source": [
        "___"
      ]
    },
    {
      "cell_type": "markdown",
      "metadata": {
        "id": "KAHzrAqAdq6X"
      },
      "source": [
        "<font color='#4863A0'> <b>Ejercicio en Casa:</b> Crear una variable de tipo texto que contenga la información 'Calculando el teorema de Pitágoras', una variable que contenga el primer cateto, una segunda variable que contenga el segundo cateto y por último calcular la hipotenusa y almacenarla en una tercera variable. Finalmente imprimimos el texto y el resultado. <br><br> Una vez tenemos el resultado comprobamos lo siguiente: <br>\n",
        "<ul><font color='#4863A0'>\n",
        "<li>Comprobar si los dos catetos son iguales</li>\n",
        "<li>Comprobar si la hipotenusa es mayor a al menos uno de los dos catetos, hacerlo en la misma línea</li>\n",
        "</ul>\n",
        " </div>\n"
      ]
    },
    {
      "cell_type": "code",
      "source": [],
      "metadata": {
        "id": "ewe_jEeNuW23"
      },
      "execution_count": null,
      "outputs": []
    },
    {
      "cell_type": "markdown",
      "metadata": {
        "id": "Feu7mMy3rOmJ"
      },
      "source": [
        "___"
      ]
    },
    {
      "cell_type": "markdown",
      "metadata": {
        "id": "UoBej720ej04"
      },
      "source": [
        "## 2. Expresiones condicionales (if - else)"
      ]
    },
    {
      "cell_type": "markdown",
      "metadata": {
        "id": "YrYThJMdej05"
      },
      "source": [
        "Las expresiones condicionales permiten la capacidad de realizar diferentes acciones dependiendo de si se cumple cierta condición. Es decir somos capaces de cambiar el comportamiento del programa (control del flujo de ejecución)."
      ]
    },
    {
      "cell_type": "markdown",
      "metadata": {
        "id": "K1F-VjbKej06"
      },
      "source": [
        "* El primer condicional que veremos es <b> if </b>. La expresión que sigue a la sentencia 'if' se conoce como condición. Si un elemento cumple la condición ejecutamos el código que sigue. Como vemos podemos leer el código como si fuese un texto en ingles. <br>\n",
        "Llegados a este punto es necesario introducir el concepto de **'indentación'**, que significa mover un bloque de texto a la derecha. Existen lenguajes no indentados, en este caso Python si es un lenguaje indentado, estos espacios afectan al comportamiento del programa."
      ]
    },
    {
      "cell_type": "code",
      "execution_count": null,
      "metadata": {
        "id": "Z_qil9k0ej07"
      },
      "outputs": [],
      "source": [
        "# numero de ejemplo\n",
        "num = 12"
      ]
    },
    {
      "cell_type": "code",
      "source": [
        "num > 0"
      ],
      "metadata": {
        "id": "yE8-W2qvDExD"
      },
      "execution_count": null,
      "outputs": []
    },
    {
      "cell_type": "code",
      "execution_count": null,
      "metadata": {
        "id": "PYyPxQwRej08"
      },
      "outputs": [],
      "source": [
        "if num > 0:\n",
        "    print('El numero es positivo')"
      ]
    },
    {
      "cell_type": "markdown",
      "metadata": {
        "id": "kGxqrb_zej09"
      },
      "source": [
        "Si la condición no se cumple entonces python no recorre el codigo dentro de la condición!"
      ]
    },
    {
      "cell_type": "code",
      "execution_count": null,
      "metadata": {
        "id": "vdCia08oej08"
      },
      "outputs": [],
      "source": [
        "if num < 0:\n",
        "    print('El numero es negativo')"
      ]
    },
    {
      "cell_type": "markdown",
      "metadata": {
        "id": "Q99obL5vrOmL"
      },
      "source": [
        "<font color='red'>Cuidado!</font> Como hemos comentado antes la indentación es muy importante. En caso contrario tendremos un error del tipo `IndentationError` indicandonos la linea que deberia estar indentada."
      ]
    },
    {
      "cell_type": "code",
      "execution_count": null,
      "metadata": {
        "id": "WxKqOecCrOmK"
      },
      "outputs": [],
      "source": [
        "if num != 0:\n",
        "print('El numero es distinto de cero')"
      ]
    },
    {
      "cell_type": "markdown",
      "metadata": {
        "id": "ED1IeBWPej09"
      },
      "source": [
        "* Condicional `else` o ejecución alternativa. En el caso de que no se cumpla la condición de la sentencia `if` se ejecutara el código correspondiente del `else`"
      ]
    },
    {
      "cell_type": "code",
      "execution_count": null,
      "metadata": {
        "id": "jPj8ITs7ej0-"
      },
      "outputs": [],
      "source": [
        "if num < 0:\n",
        "    print('El numero es negativo')\n",
        "else:\n",
        "    print('El numero es positivo')"
      ]
    },
    {
      "cell_type": "code",
      "execution_count": null,
      "metadata": {
        "id": "iVoXaasUej0-"
      },
      "outputs": [],
      "source": [
        "# dia de ejemplo\n",
        "dia = 'Lunes'"
      ]
    },
    {
      "cell_type": "code",
      "execution_count": null,
      "metadata": {
        "id": "jQJneYS-ej0-"
      },
      "outputs": [],
      "source": [
        "if dia == 'Lunes':\n",
        "    print('Hoy es Lunes')\n",
        "else:\n",
        "    print('Hoy es Martes')"
      ]
    },
    {
      "cell_type": "code",
      "execution_count": null,
      "metadata": {
        "id": "NMYaq7V7ej0_"
      },
      "outputs": [],
      "source": [
        "# otro numero de ejemplo\n",
        "num2 = 32"
      ]
    },
    {
      "cell_type": "code",
      "execution_count": null,
      "metadata": {
        "id": "eT6oIHUBej0_"
      },
      "outputs": [],
      "source": [
        "if num > num2:\n",
        "    print('El numero seleccionado es mayor que 32')\n",
        "else:\n",
        "    print('El numero seleccionado es menor o igual que 32')"
      ]
    },
    {
      "cell_type": "markdown",
      "metadata": {
        "id": "5XBig_e4ej1A"
      },
      "source": [
        "<font color='green'> <b>Ejercicio:</b> Definir un número y comprobar si es par. En caso positivo imprimir un texto indicándolo, de lo contrario indicar que es impar. </div>"
      ]
    },
    {
      "cell_type": "code",
      "execution_count": null,
      "metadata": {
        "id": "g8AKbDSHej1A"
      },
      "outputs": [],
      "source": []
    },
    {
      "cell_type": "markdown",
      "metadata": {
        "id": "XrOApnURej1B"
      },
      "source": [
        "* **Encadenamiento de condicionales:** gracias a la sentencia **elif**, que es una abreviación de 'else if'. No hay límite al número de sentencias elif pero si una una rama cumple la condición no continuara con la siguiente, es decir **el orden es relevante**. Se puede añadir la sentencia 'else' y siempre en la parte final, solo se puede incluir una vez."
      ]
    },
    {
      "cell_type": "code",
      "execution_count": null,
      "metadata": {
        "id": "G4CvqBH2ej1B"
      },
      "outputs": [],
      "source": [
        "num = 0\n",
        "print(num)\n",
        "\n",
        "if num > 0:\n",
        "    print('El numero es positivo')\n",
        "elif num < 0:\n",
        "    print('El numero es negativo')\n",
        "else:\n",
        "    print('El numero es cero')"
      ]
    },
    {
      "cell_type": "code",
      "execution_count": null,
      "metadata": {
        "id": "8eqUOwSCrOmN"
      },
      "outputs": [],
      "source": [
        "print(dia)"
      ]
    },
    {
      "cell_type": "code",
      "execution_count": null,
      "metadata": {
        "id": "pHwBRud8ej1C"
      },
      "outputs": [],
      "source": [
        "if dia == 'Sabado':\n",
        "    print('Dia libre!')\n",
        "elif dia == 'Domingo':\n",
        "    print('Dia de aprender Python')\n",
        "else:\n",
        "    print('Toca trabajar')"
      ]
    },
    {
      "cell_type": "markdown",
      "metadata": {
        "id": "XN0Hecqiej1D"
      },
      "source": [
        "* **Condicionales anidados**. Una condición esta anidada dentro de otra, hay que tener cuidado porque el uso excesivo de las condiciones anidadas puede complicar la lectura y comprensión del código. <br>"
      ]
    },
    {
      "cell_type": "code",
      "execution_count": null,
      "metadata": {
        "id": "Qf9ZCE3pej1D"
      },
      "outputs": [],
      "source": [
        "if num == num2:\n",
        "    print(num, \"y\", num2, \"son iguales\")\n",
        "else:\n",
        "    if num < num2:\n",
        "        print(num, \"es menor que\", num2)\n",
        "    else:\n",
        "        print(num, \"es mayor que\", num2)"
      ]
    },
    {
      "cell_type": "markdown",
      "metadata": {
        "id": "ltNkax7JrOmO"
      },
      "source": [
        "Como la primera condicion no se cumple, ya que los números no son iguales, pasamos a recorrer lo que esta dentro del bloque indentado `else`. Una vez ahi dentro, al evaluar la primera expresion del bloque, al ser el numero 1 menor que el numero 2, por lo tanto `True`, se ejecuta el `print` y la ejecución termina ahi."
      ]
    },
    {
      "cell_type": "markdown",
      "metadata": {
        "id": "pMUT_MObej1E"
      },
      "source": [
        "<font color='#4863A0'>\n",
        "<b>Ejercicio en casa:</b> Crear los condicionales necesarios para saber si un número es 'positivo', 'negativo' o 'igual a cero'. En caso de que el número sea positivo, crear también los condicionales para saber si es par o impar. Tras validar cada condición imprimir la información.</div>"
      ]
    },
    {
      "cell_type": "code",
      "source": [],
      "metadata": {
        "id": "YFz3MFASwirQ"
      },
      "execution_count": null,
      "outputs": []
    }
  ],
  "metadata": {
    "colab": {
      "provenance": []
    },
    "kernelspec": {
      "display_name": "Python 3 (ipykernel)",
      "language": "python",
      "name": "python3"
    },
    "language_info": {
      "codemirror_mode": {
        "name": "ipython",
        "version": 3
      },
      "file_extension": ".py",
      "mimetype": "text/x-python",
      "name": "python",
      "nbconvert_exporter": "python",
      "pygments_lexer": "ipython3",
      "version": "3.8.10"
    }
  },
  "nbformat": 4,
  "nbformat_minor": 0
}