{
  "cells": [
    {
      "cell_type": "markdown",
      "metadata": {
        "id": "XCdwIn-TetK0"
      },
      "source": [
        "# Módulo de nivelación: Python"
      ]
    },
    {
      "cell_type": "markdown",
      "metadata": {
        "id": "bZ6PKRdRetK2"
      },
      "source": [
        "## 4. Bucles"
      ]
    },
    {
      "cell_type": "markdown",
      "metadata": {
        "id": "iKAuDCRhetK3"
      },
      "source": [
        "Los bucles permiten la repetición de acciones de manera finita (for), o mientras se cumpla una condicción (que puede ser de manera infinita)"
      ]
    },
    {
      "cell_type": "markdown",
      "metadata": {
        "id": "_hbaCUgGetK4"
      },
      "source": [
        "### 4.1 For"
      ]
    },
    {
      "cell_type": "markdown",
      "metadata": {
        "id": "8PqzG4F4etK4"
      },
      "source": [
        "El bucle **for** de Python itera sobre los elementos de cualquier secuencia (una lista, tuplas, diccionarios, cadenas de caracteres...), en el orden que aparecen en la secuencia."
      ]
    },
    {
      "cell_type": "markdown",
      "metadata": {
        "id": "9G7enk9GetK4"
      },
      "source": [
        "* ***Operando con listas / tuplas:***"
      ]
    },
    {
      "cell_type": "markdown",
      "metadata": {
        "id": "W9Oy6WeKetK5"
      },
      "source": [
        "Los bucles pueden recorrerse de distintas formas:"
      ]
    },
    {
      "cell_type": "code",
      "execution_count": null,
      "metadata": {
        "id": "MRwwB-PQetK5"
      },
      "outputs": [],
      "source": [
        "# Definimos una lista de ejemplo\n",
        "ciudades = ['Barcelona', 'Valencia', 'Madrid', 'Malaga', 'Cadiz']"
      ]
    },
    {
      "cell_type": "markdown",
      "metadata": {
        "id": "gR5je1SsYu_R"
      },
      "source": [
        "La sintaxis para recorrer un bucle es muy sencilla:\n",
        "\n",
        "```\n",
        "for nombre_variable_iteracion in nuestra_lista:\n",
        "    print(nombre_variable_iteracion)\n",
        "\n",
        "for ciudad in ciudades:\n",
        "    print(ciudad)\n",
        "```\n",
        "\n",
        "En cada iteración del bucle la lista se va recorriendo \"automaticamente\" de manera que no hace falta acceder por el indicie. En su lugar la variable `ciudad` toma directamente el valor de cada elemento de la lista, en el mismo orden que cuando definimos la lista inicialmente."
      ]
    },
    {
      "cell_type": "code",
      "source": [
        "for ciudad in ciudades:\n",
        "  print(ciudad)"
      ],
      "metadata": {
        "colab": {
          "base_uri": "https://localhost:8080/"
        },
        "id": "SbeUZRcyceaL",
        "outputId": "fae90817-fa46-4cca-a6e7-33d60b71c8bb"
      },
      "execution_count": null,
      "outputs": [
        {
          "output_type": "stream",
          "name": "stdout",
          "text": [
            "Barcelona\n",
            "Valencia\n",
            "Madrid\n",
            "Malaga\n",
            "Cadiz\n"
          ]
        }
      ]
    },
    {
      "cell_type": "markdown",
      "metadata": {
        "id": "9PYDFjwAetK9"
      },
      "source": [
        "En otros lenguajes de programación se accede a la lista mediante el índice, si quisiéramos también podríamos hacerlo con Python.\n",
        "Incluso en el caso de que necesitemos los índices, existen funciones predefinidas en Python que te ayudan a asignar índices a cada elemento al recorrer el bucle en caso de ser necesario: `enumerate()`\n"
      ]
    },
    {
      "cell_type": "code",
      "execution_count": null,
      "metadata": {
        "id": "vgm7mLKwetK9"
      },
      "outputs": [],
      "source": [
        "for idx, ciudad in enumerate(ciudades):\n",
        "    print(idx, ciudad)"
      ]
    },
    {
      "cell_type": "markdown",
      "metadata": {
        "id": "1TW97ZepYu_U"
      },
      "source": [
        "En este caso la función `enumerate` devuelve 2 variables (`idx` y `ciudad`) donde `idx` es el índice generado por la función `enumerate` y `ciudad` es el valor en sí que aparece en la lista.\n",
        "<br> Por lo tanto podríamos acceder de la siguiente forma a la lista:"
      ]
    },
    {
      "cell_type": "code",
      "source": [
        "for idx, ciudad in enumerate(ciudades):\n",
        "    print(ciudades[idx])"
      ],
      "metadata": {
        "id": "bbuYKJV3h2KN"
      },
      "execution_count": null,
      "outputs": []
    },
    {
      "cell_type": "markdown",
      "metadata": {
        "id": "iT9xEauketK9"
      },
      "source": [
        "<font color='green'> <b>Ejercicio:</b>\n",
        "<br> Crea una lista con tus 10 países favoritos e imprime por pantalla aquellos que empiecen por las letras a, b, c, e, s o f </div>"
      ]
    },
    {
      "cell_type": "code",
      "execution_count": null,
      "metadata": {
        "id": "8qZd4A7petK9"
      },
      "outputs": [],
      "source": []
    },
    {
      "cell_type": "markdown",
      "metadata": {
        "id": "kLpdhbo9etK-"
      },
      "source": [
        "* ***Operando con diccionarios:***"
      ]
    },
    {
      "cell_type": "markdown",
      "metadata": {
        "id": "JcEM83jhetK-"
      },
      "source": [
        "En el caso de los diccionarios al ser una estructura clave-valor, la manera de recorrerlos en Python es algo distinta que en las listas:"
      ]
    },
    {
      "cell_type": "code",
      "execution_count": null,
      "metadata": {
        "id": "D2XEDA6ketK-"
      },
      "outputs": [],
      "source": [
        "playas_por_ciudad = {'Madrid': 'Playa de Madrid Rio',\n",
        "                     'Valencia': 'Playa de la Malvarrosa',\n",
        "                     'Barcelona': 'Playa de la Barceloneta',\n",
        "                     'Malaga': 'Playa de La Malagueta'}"
      ]
    },
    {
      "cell_type": "markdown",
      "metadata": {
        "id": "FNsheqgKetK-"
      },
      "source": [
        "<font color='red'>Cuidado! </font> Al recorrer el diccionario los elementos a los que se acceden por defecto, son las keys del diccionario y no los valores"
      ]
    },
    {
      "cell_type": "code",
      "execution_count": null,
      "metadata": {
        "id": "vhrv_jcRetK_"
      },
      "outputs": [],
      "source": [
        "for ciudad in playas_por_ciudad:\n",
        "    print(ciudad)"
      ]
    },
    {
      "cell_type": "markdown",
      "metadata": {
        "id": "blbUt4hZetK_"
      },
      "source": [
        "Sería lo mismo que utilizar el método **keys()** sobre la variable diccionario:"
      ]
    },
    {
      "cell_type": "code",
      "execution_count": null,
      "metadata": {
        "id": "9abRvML2etK_"
      },
      "outputs": [],
      "source": [
        "for ciudad in playas_por_ciudad.keys():\n",
        "    print(ciudad)"
      ]
    },
    {
      "cell_type": "markdown",
      "metadata": {
        "id": "YchT8VY9etK_"
      },
      "source": [
        "Tambien tenemos la opción de recorrer unicamente los valores del diccionario con **values()**"
      ]
    },
    {
      "cell_type": "code",
      "execution_count": null,
      "metadata": {
        "id": "MhOYMFe3etK_"
      },
      "outputs": [],
      "source": [
        "for playa in playas_por_ciudad.values():\n",
        "    print(playa)"
      ]
    },
    {
      "cell_type": "markdown",
      "metadata": {
        "id": "jI-BsYLietLA"
      },
      "source": [
        "Por último tambien podemos recorrer tanto las keys como los valores haciendo uso de **items()**"
      ]
    },
    {
      "cell_type": "code",
      "execution_count": null,
      "metadata": {
        "id": "daYw5eNJetLA"
      },
      "outputs": [],
      "source": [
        "for ciudad, playa in playas_por_ciudad.items():\n",
        "    print(f'{playa} es la mejor de {ciudad}')"
      ]
    },
    {
      "cell_type": "markdown",
      "metadata": {
        "id": "7DQ13Bn_Yu_a"
      },
      "source": [
        "En este caso `items` nos devuelve en primer lugar la key (`ciudad`) y en segundo lugar el value (`playa`)"
      ]
    },
    {
      "cell_type": "markdown",
      "metadata": {
        "id": "NRwzFqxKetLA"
      },
      "source": [
        "Existe la posibilidad de dejar de recorrer el bucle utlizando la palabra reservada **break**"
      ]
    },
    {
      "cell_type": "code",
      "execution_count": null,
      "metadata": {
        "id": "QNIMAtYNetLB"
      },
      "outputs": [],
      "source": [
        "for ciudad, playa in playas_por_ciudad.items():\n",
        "    print(f'{playa} es la mejor de {ciudad}')\n",
        "\n",
        "    if ciudad == 'Valencia':\n",
        "        # Cuando la ciudad sea Valencia dejaremos de recorrer el bucle\n",
        "        break"
      ]
    },
    {
      "cell_type": "markdown",
      "metadata": {
        "id": "4fC6t9OhYu_b"
      },
      "source": [
        "Como podemos ver tras imprimir por pantalla `Valencia`, el bucle deja de iterar y la ejecución termina."
      ]
    },
    {
      "cell_type": "markdown",
      "metadata": {
        "id": "L0ZdDtn8etLB"
      },
      "source": [
        "Podemos utilizar la lista de ciudades para acceder al diccionario de playas"
      ]
    },
    {
      "cell_type": "code",
      "execution_count": null,
      "metadata": {
        "id": "YMcdCod-etLB"
      },
      "outputs": [],
      "source": [
        "for ciudad in ciudades:\n",
        "    playa = playas_por_ciudad[ciudad]\n",
        "    print(f'La playa de {ciudad} es {playa}')"
      ]
    },
    {
      "cell_type": "markdown",
      "metadata": {
        "id": "sdt5scJdetLB"
      },
      "source": [
        "Como podemos ver 'Cadiz' no existe en nuestro diccionario de playas, por lo que se produce un error `KeyError`, por ello vamos a introducir el **manejo de excepciones: try & except**"
      ]
    },
    {
      "cell_type": "code",
      "execution_count": null,
      "metadata": {
        "id": "d_w67bjIetLC"
      },
      "outputs": [],
      "source": [
        "for ciudad in ciudades:\n",
        "    try:\n",
        "        playa = playas_por_ciudad[ciudad]\n",
        "        print(f'La playa de {ciudad} es {playa}')\n",
        "    except Exception as e:  # Cualquier tipo de excepcion es capturada y el bucle sigue iterando\n",
        "        print(f'Error!: {e}')\n",
        "        pass"
      ]
    },
    {
      "cell_type": "markdown",
      "metadata": {
        "id": "-FTmNjXmYu_c"
      },
      "source": [
        "Dentro del bloque `try` escribiremos el código que queremos ejecutar y cuyo error querriamos controlar. A continuación en el bloque `except`, tenemos el código que se ejecuta en el caso que el código dentro del `try` falle."
      ]
    },
    {
      "cell_type": "code",
      "execution_count": null,
      "metadata": {
        "id": "pHiJVREuetLC"
      },
      "outputs": [],
      "source": [
        "ciudades"
      ]
    },
    {
      "cell_type": "code",
      "execution_count": null,
      "metadata": {
        "id": "KVSovym3etLC"
      },
      "outputs": [],
      "source": [
        "for ciudad in ciudades:\n",
        "    try:\n",
        "        playa = playas_por_ciudad[ciudad]\n",
        "        print(f'La playa de {ciudad} es {playa}')\n",
        "    except KeyError:  # Solo se capturaran la excepciones de tipo KeyError, cualquier otro tipo parara la ejecucion\n",
        "        pass"
      ]
    },
    {
      "cell_type": "markdown",
      "metadata": {
        "id": "2-G7sj-WetLC"
      },
      "source": [
        "<font color='green'> <b>Ejercicio:</b>\n",
        "<br> Arreglar el bucle anterior para que no sea necesario el uso de try & except (Pista: Utilizar lo que vimos en notebook del dia 2)</div>"
      ]
    },
    {
      "cell_type": "code",
      "source": [],
      "metadata": {
        "id": "RgHNSCGXc0WI"
      },
      "execution_count": null,
      "outputs": []
    },
    {
      "cell_type": "markdown",
      "metadata": {
        "id": "cHhzYDC5etLD"
      },
      "source": [
        "<font color='green'> <b>Ejercicio:</b>\n",
        "<br> Crea un bucle `for` que genere una lista de 10 números pares y se almacene en una variable, y finalmente printear esa lista </div>"
      ]
    },
    {
      "cell_type": "code",
      "execution_count": null,
      "metadata": {
        "id": "oZMni_ZBetLD"
      },
      "outputs": [],
      "source": []
    },
    {
      "cell_type": "markdown",
      "metadata": {
        "id": "_NHdBAE-etLD"
      },
      "source": [
        "<font color='green'> <b>Ejercicio - Generador de nombres \"fake\":</b><br>Utilizando bucles: Crea una lista llamada nombres que contenga 5 nombres diferentes, y otra lista más llamada apellidos que contenga 5 apellidos distintos. El objetivo es almacenar en una nueva lista, todas las combinaciones posibles de nombres y apellidos, y finalmente printear el resultado de esa lista. </div>"
      ]
    },
    {
      "cell_type": "code",
      "execution_count": null,
      "metadata": {
        "id": "YmV2ZOnsetLD"
      },
      "outputs": [],
      "source": []
    },
    {
      "cell_type": "markdown",
      "metadata": {
        "id": "guwTNQ7uetLD"
      },
      "source": [
        "### 4.2 While"
      ]
    },
    {
      "cell_type": "markdown",
      "metadata": {
        "id": "HlkEPuXXetLD"
      },
      "source": [
        "El bucle **while** permite la repetición de acciones siempre que se siga cumpliendo la condición definida al inicio del bucle.\n",
        "\n",
        "```\n",
        "while [expresion booleana]:\n",
        "    acciones\n",
        "```"
      ]
    },
    {
      "cell_type": "code",
      "execution_count": null,
      "metadata": {
        "id": "irtwdfqRetLD",
        "colab": {
          "base_uri": "https://localhost:8080/"
        },
        "outputId": "22c4e10e-14e5-4d74-9caa-c9f7f0a77189"
      },
      "outputs": [
        {
          "output_type": "stream",
          "name": "stdout",
          "text": [
            "Iter: 1\n",
            "Iter: 2\n",
            "Iter: 3\n",
            "Iter: 4\n",
            "Iter: 5\n",
            "Iter: 6\n",
            "Iter: 7\n",
            "Iter: 8\n",
            "Iter: 9\n"
          ]
        }
      ],
      "source": [
        "# Ejemplo de un bucle infinito\n",
        "iteracion = 1\n",
        "while True:\n",
        "    print(f\"Iter: {iteracion}\")\n",
        "    iteracion += 1\n",
        "\n",
        "    # Paramos el bucle\n",
        "    if iteracion == 10:\n",
        "        break"
      ]
    },
    {
      "cell_type": "markdown",
      "metadata": {
        "id": "XALLOVPEetLE"
      },
      "source": [
        "El bucle continuara haciendo iteraciones hasta que deje de cumplirse la condicion inicial. En este caso nuestra condicion era `True` por lo que el bucle hubiera esta funcionando indefinidamente hasta que se lo indicamos con `break`"
      ]
    },
    {
      "cell_type": "code",
      "execution_count": null,
      "metadata": {
        "id": "y2AXPTDeetLE",
        "colab": {
          "base_uri": "https://localhost:8080/"
        },
        "outputId": "0d688997-6c99-4126-892e-03fe5af0e08a"
      },
      "outputs": [
        {
          "output_type": "stream",
          "name": "stdout",
          "text": [
            "Iter: 1\n",
            "Iter: 2\n",
            "Iter: 3\n",
            "Iter: 4\n",
            "Iter: 5\n",
            "Iter: 6\n",
            "Iter: 7\n",
            "Iter: 8\n",
            "Iter: 9\n"
          ]
        }
      ],
      "source": [
        "iteracion = 1\n",
        "while iteracion < 10:\n",
        "    print(f\"Iter: {iteracion}\")\n",
        "    iteracion += 1"
      ]
    },
    {
      "cell_type": "markdown",
      "metadata": {
        "id": "LK4Lm5GlYu_h"
      },
      "source": [
        "Una vez que el numero `iteración` llega a 10, la expresion `iteracion < 10` se convierte en `False` por lo que el bucle deja de funcionar y se para."
      ]
    },
    {
      "cell_type": "code",
      "execution_count": null,
      "metadata": {
        "id": "ZXY8yVBRetLE",
        "colab": {
          "base_uri": "https://localhost:8080/"
        },
        "outputId": "dccb6352-5ee4-4366-cf84-aa571ac17fc8"
      },
      "outputs": [
        {
          "output_type": "stream",
          "name": "stdout",
          "text": [
            "A cenar!\n"
          ]
        }
      ],
      "source": [
        "hambre = True\n",
        "while hambre:\n",
        "    print('A cenar!')\n",
        "    hambre = False"
      ]
    },
    {
      "cell_type": "markdown",
      "metadata": {
        "id": "OGdMr3P4Yu_h"
      },
      "source": [
        "Como en la primera iteración hemos cambiado la variable a `False` la iteración del bucle se para."
      ]
    },
    {
      "cell_type": "markdown",
      "metadata": {
        "id": "QMxCUJJ-etLE"
      },
      "source": [
        "<font color='green'> <b>Ejercicio - Abre la caja fuerte:</b>\n",
        "<br>Existe una caja fuerte cuya clave esta compuesta por 8 números. Serias capaz de desbloquarla mediante \"fuerza bruta\"?</div>"
      ]
    },
    {
      "cell_type": "code",
      "execution_count": null,
      "metadata": {
        "id": "gXTJ6Q83etLF"
      },
      "outputs": [],
      "source": [
        "# Generacion de la clave de la caja fuerte\n",
        "import random\n",
        "clave_caja_fuerte = random.randrange(0, 10**8)"
      ]
    },
    {
      "cell_type": "code",
      "execution_count": null,
      "metadata": {
        "id": "dsxGjEOBetLF"
      },
      "outputs": [],
      "source": [
        "# Comienza tu ejercicio aqui\n"
      ]
    }
  ],
  "metadata": {
    "colab": {
      "provenance": []
    },
    "kernelspec": {
      "display_name": "Python 3 (ipykernel)",
      "language": "python",
      "name": "python3"
    },
    "language_info": {
      "codemirror_mode": {
        "name": "ipython",
        "version": 3
      },
      "file_extension": ".py",
      "mimetype": "text/x-python",
      "name": "python",
      "nbconvert_exporter": "python",
      "pygments_lexer": "ipython3",
      "version": "3.8.10"
    }
  },
  "nbformat": 4,
  "nbformat_minor": 0
}