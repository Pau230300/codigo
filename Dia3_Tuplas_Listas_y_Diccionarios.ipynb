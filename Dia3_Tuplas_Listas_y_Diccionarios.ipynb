{
  "cells": [
    {
      "attachments": {},
      "cell_type": "markdown",
      "metadata": {
        "id": "2jelMgDoenuH"
      },
      "source": [
        "# Módulo de nivelación: Python"
      ]
    },
    {
      "attachments": {},
      "cell_type": "markdown",
      "metadata": {
        "id": "_6qChqYjenuK"
      },
      "source": [
        "## 3. Tuplas, listas y diccionarios"
      ]
    },
    {
      "attachments": {},
      "cell_type": "markdown",
      "metadata": {
        "id": "RUYANc1wenuL"
      },
      "source": [
        "### 3.1 Listas"
      ]
    },
    {
      "attachments": {},
      "cell_type": "markdown",
      "metadata": {
        "id": "eP683kGaenuL"
      },
      "source": [
        "Es una estructura de datos que permite almacenar cualquier información. Para definirla solo necesitamos abrir unos corchetes y separar los elementos por comas."
      ]
    },
    {
      "cell_type": "code",
      "execution_count": null,
      "metadata": {
        "id": "RgZlGal4SBw6"
      },
      "outputs": [],
      "source": [
        "mi_primera_lista = []\n",
        "hola\n",
        "adios"
      ]
    },
    {
      "cell_type": "code",
      "execution_count": null,
      "metadata": {
        "id": "BtTzHs4uenuL"
      },
      "outputs": [],
      "source": [
        "lista_ejemplo = ['Primer elemento', 3, 65, 98, 'ultimo', ['lista interna', True]]"
      ]
    },
    {
      "cell_type": "code",
      "execution_count": null,
      "metadata": {
        "id": "manDrW3rSP9S"
      },
      "outputs": [],
      "source": [
        "lista_ejemplo"
      ]
    },
    {
      "cell_type": "code",
      "execution_count": null,
      "metadata": {
        "id": "hp8cwnsAenuM"
      },
      "outputs": [],
      "source": [
        "print(type(lista_ejemplo))"
      ]
    },
    {
      "attachments": {},
      "cell_type": "markdown",
      "metadata": {
        "id": "edHfxqSLenuN"
      },
      "source": [
        "__Caracteristicas:__\n",
        "* Heterogenea: Puede estar compuesta por un conjunto de tipos de datos variable. Booleanos, Strings, Float, Listas ...\n",
        "* Mutables: Podemos modificar los elementos de la lista"
      ]
    },
    {
      "attachments": {},
      "cell_type": "markdown",
      "metadata": {
        "id": "j2Y72wfWenuO"
      },
      "source": [
        "Para acceder a los elementos de las listas utilizamos los indices (los numeros entre `[]`). Empiezan por 0 y añadimos 1 a casa paso."
      ]
    },
    {
      "cell_type": "code",
      "execution_count": null,
      "metadata": {
        "id": "qU3dFP8TenuP"
      },
      "outputs": [],
      "source": [
        "# Seleccionar un elemento de la lista\n",
        "lista_ejemplo[0]"
      ]
    },
    {
      "cell_type": "code",
      "execution_count": null,
      "metadata": {
        "id": "OVQHGrepenuP"
      },
      "outputs": [],
      "source": [
        "# Modificar un elemento de la lista\n",
        "lista_ejemplo[1] = 75"
      ]
    },
    {
      "cell_type": "code",
      "execution_count": null,
      "metadata": {
        "id": "I049OR8YenuQ"
      },
      "outputs": [],
      "source": [
        "# Imprimir lista\n",
        "print(lista_ejemplo)"
      ]
    },
    {
      "attachments": {},
      "cell_type": "markdown",
      "metadata": {
        "id": "8Z85-n9TTqeC"
      },
      "source": [
        "En este caso, hemos remplazado el elemento que estaba en la posicion 2 de la lista que tenia el numero 3 definido inicialmente, por el número 75."
      ]
    },
    {
      "attachments": {},
      "cell_type": "markdown",
      "metadata": {
        "id": "LQIeAVf7enuQ"
      },
      "source": [
        "<font color='green'> <b>Ejercicio:</b> Crear una lista con 4 ciudades a las que os gustaría viajar, y guardarla en una variable llamada `ciudades` </div>"
      ]
    },
    {
      "cell_type": "code",
      "execution_count": null,
      "metadata": {
        "id": "8xCzgtHHenuQ"
      },
      "outputs": [],
      "source": [
        "# Crear lista\n"
      ]
    },
    {
      "cell_type": "code",
      "execution_count": null,
      "metadata": {
        "id": "BxdexfonenuQ"
      },
      "outputs": [],
      "source": [
        "# Cambiar el primer elemento de la lista por Malaga\n"
      ]
    },
    {
      "cell_type": "code",
      "execution_count": null,
      "metadata": {
        "id": "YCoN793tenuR"
      },
      "outputs": [],
      "source": [
        "# Imprimir la lista de ciudades\n"
      ]
    },
    {
      "attachments": {},
      "cell_type": "markdown",
      "metadata": {
        "id": "i0delEwwenuR"
      },
      "source": [
        "También podemos seleccionar un conjunto de elementos de la lista usando `:`. El primer índice indica el inicio y el segundo índice indica el final.<br>\n",
        "Tiene una sutil diferencia y es que incluimos el primer índice mientras que el segundo se excluye."
      ]
    },
    {
      "cell_type": "code",
      "execution_count": null,
      "metadata": {
        "id": "LvIGkuRienuS"
      },
      "outputs": [],
      "source": [
        "lista_ejemplo2 = [23, 54, 92, 19, 57, 12]\n",
        "START = 0\n",
        "END = 3\n",
        "lista_ejemplo2[START:END]"
      ]
    },
    {
      "attachments": {},
      "cell_type": "markdown",
      "metadata": {
        "id": "DU03UGYvenuS"
      },
      "source": [
        "Tambien se puede acceder en orden inverso utilizando <b>'-'</b>. En este caso el último indice es el `-1`"
      ]
    },
    {
      "cell_type": "code",
      "execution_count": null,
      "metadata": {
        "id": "uizXrMeZenuS"
      },
      "outputs": [],
      "source": [
        "# último indice\n",
        "lista_ejemplo2[-1]"
      ]
    },
    {
      "cell_type": "code",
      "execution_count": null,
      "metadata": {
        "id": "7dASC17FenuS"
      },
      "outputs": [],
      "source": [
        "# Penúltimo indice\n",
        "lista_ejemplo2[-2]"
      ]
    },
    {
      "cell_type": "code",
      "execution_count": null,
      "metadata": {
        "id": "kBHXawp8enuT"
      },
      "outputs": [],
      "source": [
        "# Tres últimos elementos\n",
        "lista_ejemplo2[-3:]"
      ]
    },
    {
      "attachments": {},
      "cell_type": "markdown",
      "metadata": {
        "id": "j1COcs4tdS32"
      },
      "source": [
        "<font color='green'> Ejercicio:"
      ]
    },
    {
      "cell_type": "code",
      "execution_count": null,
      "metadata": {
        "id": "zJiNW53WdShE"
      },
      "outputs": [],
      "source": [
        "# Obtener el último elemento de la lista ciudades\n"
      ]
    },
    {
      "cell_type": "code",
      "execution_count": null,
      "metadata": {
        "id": "AutR7gjvdZWR"
      },
      "outputs": [],
      "source": [
        "# Obtener las tres primeras ciudades\n"
      ]
    },
    {
      "attachments": {},
      "cell_type": "markdown",
      "metadata": {
        "id": "iWMxfPX8enuT"
      },
      "source": [
        "¿Cuantos índices tiene una lista?"
      ]
    },
    {
      "attachments": {},
      "cell_type": "markdown",
      "metadata": {
        "id": "FTTj7LEhTqeH"
      },
      "source": [
        "Para conocer el numero de elementos que tiene una lista podemos utilizar la función `len`"
      ]
    },
    {
      "cell_type": "code",
      "execution_count": null,
      "metadata": {
        "id": "BDWKX2r7enuT"
      },
      "outputs": [],
      "source": [
        "# numero de indices en lista_ejemplo2\n",
        "len(lista_ejemplo2)"
      ]
    },
    {
      "cell_type": "code",
      "execution_count": null,
      "metadata": {
        "id": "Yl76BaGdd1cq"
      },
      "outputs": [],
      "source": [
        "# Obtener el número de elementos de la lista ciudades\n"
      ]
    },
    {
      "attachments": {},
      "cell_type": "markdown",
      "metadata": {
        "id": "CIKJh8xgenuT"
      },
      "source": [
        "**Modificar una lista**"
      ]
    },
    {
      "attachments": {},
      "cell_type": "markdown",
      "metadata": {
        "id": "Ovsk1Tt8enuU"
      },
      "source": [
        "* Añadir elementos:\n",
        "\n",
        "Para ello utlizamos el método `append`. La diferencia entre un método y una funcion en python, es que los metodos se utlizan sobre las variables directamente, son funciones especiales que ya estan definidas segun el tipo de variable con el que estemos trabajando."
      ]
    },
    {
      "cell_type": "code",
      "execution_count": null,
      "metadata": {
        "id": "YHDTjItjYNF_"
      },
      "outputs": [],
      "source": [
        "lista_ejemplo2"
      ]
    },
    {
      "cell_type": "code",
      "execution_count": null,
      "metadata": {
        "id": "d2ucuhLsenuU"
      },
      "outputs": [],
      "source": [
        "lista_ejemplo2.append(17)"
      ]
    },
    {
      "cell_type": "code",
      "execution_count": null,
      "metadata": {
        "id": "kDzHy7FrenuU"
      },
      "outputs": [],
      "source": [
        "lista_ejemplo2"
      ]
    },
    {
      "cell_type": "code",
      "execution_count": null,
      "metadata": {
        "id": "oVZqFz5eeAKw"
      },
      "outputs": [],
      "source": [
        "# Añadir a la lista 'ciudades', Torremolinos\n"
      ]
    },
    {
      "attachments": {},
      "cell_type": "markdown",
      "metadata": {
        "id": "G7AOCF74TqeI"
      },
      "source": [
        "Como podemos ver `append` añade el elemento al final de la lista."
      ]
    },
    {
      "attachments": {},
      "cell_type": "markdown",
      "metadata": {
        "id": "0CC25hIWenuU"
      },
      "source": [
        "* Ordenar la lista\n",
        "\n",
        "Para ordenar una lista podemos utilizar el método `sort`, por defecto ordenara nuestra lista de manera ascendente (de menor a mayor) a no ser que le especifiquemos lo contrario con `sort(reverse=True)`"
      ]
    },
    {
      "cell_type": "code",
      "execution_count": null,
      "metadata": {
        "id": "EG_BBaJhenuU"
      },
      "outputs": [],
      "source": [
        "lista_ejemplo2.sort()\n",
        "print(lista_ejemplo2)"
      ]
    },
    {
      "attachments": {},
      "cell_type": "markdown",
      "metadata": {
        "id": "SaISjNyyenuU"
      },
      "source": [
        "* Revertir el orden de la lista\n",
        "\n",
        "Alternativamente a `sort(reverse=True)` también podemos utilizar el método `reverse` para invertir el order de los elementos de la lista."
      ]
    },
    {
      "cell_type": "code",
      "execution_count": null,
      "metadata": {
        "id": "sPq46mecenuU"
      },
      "outputs": [],
      "source": [
        "lista_ejemplo2.reverse()\n",
        "print(lista_ejemplo2)"
      ]
    },
    {
      "attachments": {},
      "cell_type": "markdown",
      "metadata": {
        "id": "yramzjsBenuV"
      },
      "source": [
        "* Eliminar un elemento de la lista, indicamos el valor de este elemento."
      ]
    },
    {
      "cell_type": "code",
      "execution_count": null,
      "metadata": {
        "id": "10pvlyEqenuV"
      },
      "outputs": [],
      "source": [
        "lista_ejemplo2.remove(23)"
      ]
    },
    {
      "attachments": {},
      "cell_type": "markdown",
      "metadata": {
        "id": "EXU0RF2rTqeJ"
      },
      "source": [
        "Cuidado con `remove` en el caso de que el elemento a indicar no exista dentro de la lista, tendremos un error del tipo `ValueError` indicandonos que el elemento no existia en la lista. En el caso de que el elemento a eliminar exista varias veces dentro de la lista, solo será borrado el que esté en primera posición de la lista."
      ]
    },
    {
      "attachments": {},
      "cell_type": "markdown",
      "metadata": {
        "id": "ISe_bkiPenuV"
      },
      "source": [
        "<font color='green'> Ejercicio:"
      ]
    },
    {
      "cell_type": "code",
      "execution_count": null,
      "metadata": {
        "id": "piEo5c_henuW"
      },
      "outputs": [],
      "source": [
        "# Crear una lista en la que el primer elemento sea el dia de vuestro cumpleaños, el segundo el mes en digitos y el tercero el año, y guardarlo en una variable\n"
      ]
    },
    {
      "cell_type": "code",
      "execution_count": null,
      "metadata": {
        "id": "FAWUADoienuW"
      },
      "outputs": [],
      "source": [
        "# Imprimir el primer elemento\n"
      ]
    },
    {
      "cell_type": "code",
      "execution_count": null,
      "metadata": {
        "id": "ibOPv8ZfenuW"
      },
      "outputs": [],
      "source": [
        "# Añadir vuestro numero favorito\n"
      ]
    },
    {
      "cell_type": "code",
      "execution_count": null,
      "metadata": {
        "id": "HEyz7r_TenuW"
      },
      "outputs": [],
      "source": [
        "# Ordenar la lista en orden ascendente\n"
      ]
    },
    {
      "cell_type": "code",
      "execution_count": null,
      "metadata": {
        "id": "EHWLn5dnenuW"
      },
      "outputs": [],
      "source": [
        "# Eliminar el año\n"
      ]
    },
    {
      "attachments": {},
      "cell_type": "markdown",
      "metadata": {
        "id": "x65YOvCEenuX"
      },
      "source": [
        "### 3.2 Tuplas"
      ]
    },
    {
      "attachments": {},
      "cell_type": "markdown",
      "metadata": {
        "id": "RwejwBxZenuX"
      },
      "source": [
        "Las tuplas y las listas son muy parecidas conceptualmente. La característica principal que las diferencia es que las tuplas no son mutables. Los objetos mutables pueden ser modificados una vez se han creado, por lo tanto, podemos modificar el contenido de las listas mientras que las tuplas no."
      ]
    },
    {
      "cell_type": "code",
      "execution_count": null,
      "metadata": {
        "id": "4W6CjZYOenuX"
      },
      "outputs": [],
      "source": [
        "mi_primera_tupla = (23, 65, True, 'Hola mundo')"
      ]
    },
    {
      "cell_type": "code",
      "execution_count": null,
      "metadata": {
        "id": "5__sHL2genuX"
      },
      "outputs": [],
      "source": [
        "print(type(mi_primera_tupla))"
      ]
    },
    {
      "cell_type": "code",
      "execution_count": null,
      "metadata": {
        "id": "csRUgRbzenuX"
      },
      "outputs": [],
      "source": [
        "mi_primera_tupla[0]"
      ]
    },
    {
      "attachments": {},
      "cell_type": "markdown",
      "metadata": {
        "id": "7aIb_5lWTqeM"
      },
      "source": [
        "Al igual que en las listas podemos acceder a los elementos dentro de la tupla utlizando los índices."
      ]
    },
    {
      "cell_type": "code",
      "execution_count": null,
      "metadata": {
        "id": "UCDkSQ5senuY"
      },
      "outputs": [],
      "source": [
        "mi_primera_tupla[1:]"
      ]
    },
    {
      "attachments": {},
      "cell_type": "markdown",
      "metadata": {
        "id": "Gwxr3ZzsTqeM"
      },
      "source": [
        "También podemos conocer el número de elementos utilizando la funcion `len`"
      ]
    },
    {
      "cell_type": "code",
      "execution_count": null,
      "metadata": {
        "id": "2tZJdlYBenuY"
      },
      "outputs": [],
      "source": [
        "len(mi_primera_tupla)"
      ]
    },
    {
      "attachments": {},
      "cell_type": "markdown",
      "metadata": {
        "id": "IoAb-q2sTqeM"
      },
      "source": [
        "Como podeis ver al ejecutar esta celda tendremos un error de tipo `TypeError` ya que las tuplas al ser *no mutables* no podemos modificar su contenido una vez ya definidas"
      ]
    },
    {
      "cell_type": "code",
      "execution_count": null,
      "metadata": {
        "id": "PBrR5Vy5enuY"
      },
      "outputs": [],
      "source": [
        "mi_primera_tupla[0] = 1"
      ]
    },
    {
      "attachments": {},
      "cell_type": "markdown",
      "metadata": {
        "id": "-vHj0ebWTqeM"
      },
      "source": [
        "De igual manera, al no poder ser modificadas, no podremos añadir nuevos elementos a nuestra tupla utilizando `append`"
      ]
    },
    {
      "cell_type": "code",
      "execution_count": null,
      "metadata": {
        "id": "-_CoKwdaenuY"
      },
      "outputs": [],
      "source": [
        "mi_primera_tupla.append(3)"
      ]
    },
    {
      "attachments": {},
      "cell_type": "markdown",
      "metadata": {
        "id": "VYc4kU4denuY"
      },
      "source": [
        "### 3.3 Diccionarios"
      ]
    },
    {
      "attachments": {},
      "cell_type": "markdown",
      "metadata": {
        "id": "_Bbsuv0BenuY"
      },
      "source": [
        "Como su nombre indica los diccionarios funcionan de igual forma que los diccionarios de lengua, mediante *clave-valor*. Buscamos una palabra en el diccionario  y podremos leer información sobre esta palabra como por ejemplo su definición, sinónimos, origen..."
      ]
    },
    {
      "attachments": {},
      "cell_type": "markdown",
      "metadata": {
        "id": "R1Iv_hrrenuY"
      },
      "source": [
        "Los diccionarios se definen con <b> '{}' </b> y son mutables. Los valores 'key' y 'value' se separan por ':' y cada elemento del diccionario se separa por una coma.\n",
        "\n",
        "```py\n",
        "mi_primer_diccionario = {\n",
        "    'key_1': value_1,\n",
        "    'key_2': value_2...\n",
        "}\n",
        "```"
      ]
    },
    {
      "cell_type": "code",
      "execution_count": null,
      "metadata": {
        "id": "2KylIp79enuZ"
      },
      "outputs": [],
      "source": [
        "mi_primer_diccionario = {\n",
        "    'hola': 'Como salutación familiar',\n",
        "    'mundo': 'Conjunto de todos los seres humanos',\n",
        "    'dato': 'Documento, testimonio, fundamento'\n",
        "}"
      ]
    },
    {
      "cell_type": "code",
      "execution_count": null,
      "metadata": {
        "id": "idvzaqafenuZ"
      },
      "outputs": [],
      "source": [
        "type(mi_primer_diccionario)"
      ]
    },
    {
      "attachments": {},
      "cell_type": "markdown",
      "metadata": {
        "id": "pQvZhEbtenuZ"
      },
      "source": [
        "* Para obtener el valor de un elemento indicamos su key entre `[]`"
      ]
    },
    {
      "cell_type": "code",
      "execution_count": null,
      "metadata": {
        "id": "MgWkmR-1enuZ"
      },
      "outputs": [],
      "source": [
        "mi_primer_diccionario['hola']"
      ]
    },
    {
      "attachments": {},
      "cell_type": "markdown",
      "metadata": {
        "id": "3GNdWjy_enuZ"
      },
      "source": [
        "* Para añadir una nueva palabra indicamos el valor de la 'key' y a continuación 'value"
      ]
    },
    {
      "cell_type": "code",
      "execution_count": null,
      "metadata": {
        "id": "X4oF6G_PenuZ"
      },
      "outputs": [],
      "source": [
        "mi_primer_diccionario['ciudad'] = 'Lo urbano, en oposición a lo rural'"
      ]
    },
    {
      "cell_type": "code",
      "execution_count": null,
      "metadata": {
        "id": "Sajn6gTaenua"
      },
      "outputs": [],
      "source": [
        "# En los notebooks tambien podemos ver una variable sin usar la funcion `print`, ya que el notebook hará el print por nosotros\n",
        "mi_primer_diccionario"
      ]
    },
    {
      "attachments": {},
      "cell_type": "markdown",
      "metadata": {
        "id": "-fySsfJRTqeO"
      },
      "source": [
        "Como podemos ver la key `ciudad` ahora esta presente en nuestro diccionario."
      ]
    },
    {
      "attachments": {},
      "cell_type": "markdown",
      "metadata": {
        "id": "U-HQIHt0enua"
      },
      "source": [
        "* Para borrar un elemento usamos el comando `del`"
      ]
    },
    {
      "cell_type": "code",
      "execution_count": null,
      "metadata": {
        "id": "inHo4Odvenua"
      },
      "outputs": [],
      "source": [
        "del mi_primer_diccionario['dato']"
      ]
    },
    {
      "cell_type": "code",
      "execution_count": null,
      "metadata": {
        "id": "YjAggS-Tenua"
      },
      "outputs": [],
      "source": [
        "mi_primer_diccionario"
      ]
    },
    {
      "attachments": {},
      "cell_type": "markdown",
      "metadata": {
        "id": "Y4D4h0X_TqeP"
      },
      "source": [
        "Como podemos ver la key `dato` ya no está presente en nuestro diccionario."
      ]
    },
    {
      "attachments": {},
      "cell_type": "markdown",
      "metadata": {
        "id": "VTHaEp1Eenua"
      },
      "source": [
        "Por último, las keys se pueden componer por distintos elementos, siendo los más comunes: string, int, float... Los values son más amplios y cubren todo lo anterior más listas, diccionarios, tuplas... pueden ser de cualquier tipo."
      ]
    },
    {
      "cell_type": "code",
      "execution_count": null,
      "metadata": {
        "id": "X0aoPXGsenua"
      },
      "outputs": [],
      "source": [
        "segundo_dict = {\n",
        "    'clave' : [123, 534, 'qwerty'],  # clave string y value una lista\n",
        "    23: 'valor',  # clave int y value un string\n",
        "    'python': 'lenguaje de programacion',  # clave string y value un string\n",
        "}"
      ]
    },
    {
      "attachments": {},
      "cell_type": "markdown",
      "metadata": {
        "id": "76MSkvFTenub"
      },
      "source": [
        "<font color='green'> <b>Ejercicio:</b> Siguiendo el ejercicio anterior de las ciudades seleccionar 3 y crear un nuevo diccionario con la siguiente información:\n",
        "    \n",
        "<ul> <font color='green'>\n",
        "<li>Ciudad 1: Numero de dias que os gustaria pasar (int o float)</li>\n",
        "<li>Ciudad 2: Pais al que pertenece (string)</li>\n",
        "<li>Ciudad 3: Actividades que os gustaria hacer (lista)</li>\n",
        "</ul>\n"
      ]
    },
    {
      "cell_type": "code",
      "execution_count": null,
      "metadata": {
        "id": "iLVThLYKenub"
      },
      "outputs": [],
      "source": [
        "# Crear diccionario\n"
      ]
    },
    {
      "cell_type": "code",
      "execution_count": null,
      "metadata": {
        "id": "_ZKQ9MOienub"
      },
      "outputs": [],
      "source": [
        "# Imprimir la lista de actividades que haríais\n"
      ]
    },
    {
      "cell_type": "code",
      "execution_count": null,
      "metadata": {
        "id": "6zQg3EJmenub"
      },
      "outputs": [],
      "source": [
        "# Añadir una cuarta ciudad y como valor el numero de amigos con los que viajarias\n"
      ]
    },
    {
      "cell_type": "code",
      "execution_count": null,
      "metadata": {
        "id": "Z-38qyjbenub"
      },
      "outputs": [],
      "source": [
        "# Borrar del diccionario la ciudad que menos os guste\n"
      ]
    }
  ],
  "metadata": {
    "colab": {
      "provenance": []
    },
    "kernelspec": {
      "display_name": "Python 3 (ipykernel)",
      "language": "python",
      "name": "python3"
    },
    "language_info": {
      "codemirror_mode": {
        "name": "ipython",
        "version": 3
      },
      "file_extension": ".py",
      "mimetype": "text/x-python",
      "name": "python",
      "nbconvert_exporter": "python",
      "pygments_lexer": "ipython3",
      "version": "3.8.10"
    }
  },
  "nbformat": 4,
  "nbformat_minor": 0
}
