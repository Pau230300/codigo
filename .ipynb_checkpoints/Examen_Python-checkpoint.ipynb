{
 "cells": [
  {
   "cell_type": "markdown",
   "metadata": {
    "id": "kED5-2AITWJI"
   },
   "source": [
    "# Examen - Módulo de Nivelación Python"
   ]
  },
  {
   "cell_type": "markdown",
   "metadata": {
    "id": "TkSXiMwaTWJK"
   },
   "source": [
    "## Ejercicio 1"
   ]
  },
  {
   "cell_type": "markdown",
   "metadata": {
    "id": "DckmUNhPTWJL"
   },
   "source": [
    "<b>Enunciado:</b> Trabajas en un campamento de verano de futbol y necesitas preparar los entrenamientos. Para cada entrenamiento necesitas crear equipos de 5 personas ya que están jugando a futbol sala, adicionalmente necesitas que el número de equipos sea par para que se puedan entrenar entre ellos.<br> Los organizadores y tu estáis buscando alojamiento y habéis hablado con varios hoteles, te han pasado el número de personas que pueden alojarse en cada uno de ellos, este número es el que está guardado en la lista `plazas_hotel`"
   ]
  },
  {
   "cell_type": "code",
   "execution_count": 1,
   "metadata": {
    "id": "NcxLr-o3TWJL"
   },
   "outputs": [],
   "source": [
    "plazas_hotel = [34, 65, 45, 40, 41, 65, 27, 58, 67, 39]"
   ]
  },
  {
   "cell_type": "markdown",
   "metadata": {
    "id": "YntSwM_tTWJL"
   },
   "source": [
    "<b>Ejercicio 1.A:</b> Iterar en la lista plazas_hotel y comprobar si el número es multiplo de 5, en caso de serlo hacer un print que sea 'El número X es multiple de 5' donde X es el número que hemos validado. Añadir este valor en una lista llamada `second_priority`<br> En el resto de los casos  hacer un print de 'El número X no nos interesa'</div>"
   ]
  },
  {
   "cell_type": "code",
   "execution_count": 2,
   "metadata": {
    "id": "V1M90VGiTWJM"
   },
   "outputs": [
    {
     "name": "stdout",
     "output_type": "stream",
     "text": [
      "El número 34 no nos interesa\n",
      "El número 65 es multiplo de 5\n",
      "El número 45 es multiplo de 5\n",
      "El número 40 es multiplo de 5\n",
      "El número 41 no nos interesa\n",
      "El número 65 es multiplo de 5\n",
      "El número 27 no nos interesa\n",
      "El número 58 no nos interesa\n",
      "El número 67 no nos interesa\n",
      "El número 39 no nos interesa\n",
      "\n",
      "Lista de múltiplos de 5: [65, 45, 40, 65]\n"
     ]
    }
   ],
   "source": [
    "second_priority = [ ]\n",
    "\n",
    "for i in plazas_hotel :\n",
    "    if i % 5 == 0 :\n",
    "        print( 'El número {} es multiplo de 5'.format(i) ) \n",
    "        second_priority.append ( i )\n",
    "\n",
    "    else :\n",
    "        print( 'El número {} no nos interesa'.format (i) )\n",
    "\n",
    "print('\\nLista de múltiplos de 5: {}'.format(second_priority))"
   ]
  },
  {
   "cell_type": "markdown",
   "metadata": {
    "id": "QgRmW-7FTWJM"
   },
   "source": [
    "<b>Ejercicio 1.B:</b> Utilizando el mismo código anterior, añadir otra expresión condicional que compruebe que el número es multiplo de 5 y tambien es multiplo de dos. Si se sumplen ambas condiciones hacemos un print de 'El número X cumple todos nuestros requisitos' y almacenamos el número en la lista `top_results`.</div>"
   ]
  },
  {
   "cell_type": "code",
   "execution_count": 3,
   "metadata": {},
   "outputs": [
    {
     "name": "stdout",
     "output_type": "stream",
     "text": [
      "El número 34 no nos interesa\n",
      "El número 65 es multiplo de 5\n",
      "El número 45 es multiplo de 5\n",
      "El número 40 es multiplo de 5\n",
      "El número 40 también es múltiplo de 2, por lo que cumple todos nuestros requisitos\n",
      "El número 41 no nos interesa\n",
      "El número 65 es multiplo de 5\n",
      "El número 27 no nos interesa\n",
      "El número 58 no nos interesa\n",
      "El número 67 no nos interesa\n",
      "El número 39 no nos interesa\n",
      "\n",
      "Lista de múltiplos de 5: [65, 45, 40, 65]\n",
      "\n",
      "Lista de múltiplos de 5 y 2 : [40]\n"
     ]
    }
   ],
   "source": [
    "second_priority = [ ]\n",
    "top_results = [ ]\n",
    "\n",
    "for i in plazas_hotel :\n",
    "    if i % 5 == 0 : \n",
    "        print( 'El número {} es multiplo de 5'.format(i) ) \n",
    "        second_priority.append ( i )\n",
    "        \n",
    "        if i % 2 == 0 :\n",
    "          print ( 'El número {} también es múltiplo de 2, por lo que cumple todos nuestros requisitos'.format(i) )\n",
    "          top_results.append ( i )\n",
    "\n",
    "\n",
    "    else :\n",
    "        print( 'El número {} no nos interesa'.format (i) )\n",
    "\n",
    "print('\\nLista de múltiplos de 5: {}'.format(second_priority))\n",
    "print('\\nLista de múltiplos de 5 y 2 : {}'.format(top_results))"
   ]
  },
  {
   "cell_type": "markdown",
   "metadata": {
    "id": "DfZF2ajkTWJS"
   },
   "source": [
    "## Ejercicio 2"
   ]
  },
  {
   "cell_type": "markdown",
   "metadata": {
    "id": "GHOX4SmuTWJS"
   },
   "source": [
    "<b>Enunciado:</b> Crear una función que pase de grados Fahrenheit a Celsius o de Celsius a Fahrenheit. La función debe contener los siguientes parámetros:\n",
    "    <ul>\n",
    "        <li> int: `valor` - Valor númerico que queremos transformar</li>\n",
    "        <li> bool: `fah_to_cel` - En caso de ser verdadero la función convertira de grados Fahrenheit a Celsius en caso negativo hará la transformación inversa. Este parámetro tendrá un valor por defecto de `True`</li>\n",
    "    </ul>\n",
    "\n",
    "La fórmula es la siguiente:"
   ]
  },
  {
   "cell_type": "markdown",
   "metadata": {
    "id": "ZpJOMr9YTWJS"
   },
   "source": [
    "![image.png](data:image/png;base64,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)"
   ]
  },
  {
   "cell_type": "code",
   "execution_count": 4,
   "metadata": {
    "id": "D81O4k7yTWJS"
   },
   "outputs": [
    {
     "name": "stdout",
     "output_type": "stream",
     "text": [
      "temperatura de 100 fahrenheit:  37.77777777777778 celsius\n",
      "temperatura de 100 fahrenheit:  37.77777777777778 celsius\n",
      "hacemos operación inversa para convertir de nuevo farehnheit a celsius, 37.77777777777778 celsius son : 100.0 farenheit\n"
     ]
    }
   ],
   "source": [
    "def temperature_units (valor:int, fah_to_cel:bool = True ):\n",
    "\n",
    "    if fah_to_cel == True:\n",
    "\n",
    "        result = (valor-32) * 5 / 9\n",
    "\n",
    "    elif fah_to_cel == False:\n",
    "\n",
    "        result = (valor * 9 / 5) +32\n",
    "\n",
    "    return result\n",
    "\n",
    "\n",
    " # Hacemos varias querys a la función para saber si lo hace bien:\n",
    "\n",
    "print('temperatura de 100 fahrenheit: ', temperature_units(100), 'celsius' )            # de forma estándar es de C --> F\n",
    "print('temperatura de 100 fahrenheit: ', temperature_units(100, True ), 'celsius' )      # con parámetro True es de C --> F\n",
    "resultado = temperature_units(100)\n",
    "\n",
    "print('hacemos operación inversa para convertir de nuevo farehnheit a celsius, 37.77777777777778 celsius son :', temperature_units(resultado, False ), 'farenheit' )\n",
    "\n"
   ]
  },
  {
   "cell_type": "markdown",
   "metadata": {
    "id": "MQIgltsjTWJM"
   },
   "source": [
    "## Ejercicio 3"
   ]
  },
  {
   "cell_type": "markdown",
   "metadata": {
    "id": "Oeb3tcBqTWJN"
   },
   "source": [
    "<b>Enunciado:</b> En `mis_acciones` tenemos la información sobre las empresas que hemos invertido, el número de acciones y el precio de compra. A continuación tenemos la respuesta de la API de Bloomberg que nos devuelve la información en tiempo real de los precios.</div>"
   ]
  },
  {
   "cell_type": "code",
   "execution_count": 5,
   "metadata": {
    "id": "LERAgx7mTWJN"
   },
   "outputs": [
    {
     "data": {
      "text/plain": [
       "{'tesla': {'cantidad': 23, 'precio': 746},\n",
       " 'endesa': {'cantidad': 78, 'precio': 20.1},\n",
       " 'santander': {'cantidad': 45, 'precio': 2.94}}"
      ]
     },
     "execution_count": 5,
     "metadata": {},
     "output_type": "execute_result"
    }
   ],
   "source": [
    "mis_acciones = {\n",
    "    'tesla': {\n",
    "        'cantidad': 23,\n",
    "        'precio': 746\n",
    "    },\n",
    "    'endesa':{\n",
    "        'cantidad': 78,\n",
    "        'precio': 20.10\n",
    "    },\n",
    "    'santander': {\n",
    "        'cantidad': 45,\n",
    "        'precio': 2.94\n",
    "    }\n",
    "}\n",
    "\n",
    "mis_acciones"
   ]
  },
  {
   "cell_type": "code",
   "execution_count": 6,
   "metadata": {
    "id": "mSnJ8gYfTWJN"
   },
   "outputs": [
    {
     "data": {
      "text/plain": [
       "{'api_response_status': 'success',\n",
       " 'timestamp': 1636388303,\n",
       " 'results': {'tesla': {'precio_actual': 948},\n",
       "  'telefonica': {'precio_actual': 2.9},\n",
       "  'aena': {'precio_actual': 124.8},\n",
       "  'caixabank': {'precio_actual': 1.63},\n",
       "  'endesa': {'precio_actual': 24.6},\n",
       "  'iag': {'precio_actual': 1.189},\n",
       "  'amazon': {'precio_actual': 3241},\n",
       "  'santander': {'precio_actual': 3.19}}}"
      ]
     },
     "execution_count": 6,
     "metadata": {},
     "output_type": "execute_result"
    }
   ],
   "source": [
    "bloomberg_api = {\n",
    "'api_response_status': 'success',\n",
    "'timestamp': 1636388303,\n",
    "'results':{\n",
    "        'tesla':\n",
    "           {'precio_actual': 948}\n",
    "        ,\n",
    "        'telefonica':\n",
    "           {'precio_actual': 2.9}\n",
    "        ,\n",
    "        'aena':\n",
    "           {'precio_actual': 124.8}\n",
    "        ,\n",
    "        'caixabank':\n",
    "           {'precio_actual': 1.63}\n",
    "        ,\n",
    "        'endesa':\n",
    "           {'precio_actual': 24.6}\n",
    "        ,\n",
    "        'iag':\n",
    "           {'precio_actual' :1.189}\n",
    "        ,\n",
    "        'amazon':\n",
    "           {'precio_actual': 3241}\n",
    "        ,\n",
    "        'santander':\n",
    "           {'precio_actual': 3.19}\n",
    "    }\n",
    "}\n",
    "\n",
    "bloomberg_api\n"
   ]
  },
  {
   "cell_type": "markdown",
   "metadata": {
    "id": "p0eSkXlLTWJO"
   },
   "source": [
    "<b>Ejercicio 3.A:</b> Que tipo de variable es 'bloomberg_api'\n",
    "   <br> - Para esta y las siguientes preguntas utilizar las funciones de Python para identificar el tipo de variables\n",
    "</div>\n"
   ]
  },
  {
   "cell_type": "code",
   "execution_count": 7,
   "metadata": {
    "id": "_UTjibGiTWJO"
   },
   "outputs": [
    {
     "name": "stdout",
     "output_type": "stream",
     "text": [
      "el tipo de variable bloomberg_api es:\n"
     ]
    },
    {
     "data": {
      "text/plain": [
       "dict"
      ]
     },
     "execution_count": 7,
     "metadata": {},
     "output_type": "execute_result"
    }
   ],
   "source": [
    "print('el tipo de variable bloomberg_api es:')\n",
    "type(bloomberg_api) "
   ]
  },
  {
   "cell_type": "markdown",
   "metadata": {
    "id": "TChxonrwTWJO"
   },
   "source": [
    "<b>Ejercicio 3.B:</b> Hacer un print de las keys</div>"
   ]
  },
  {
   "cell_type": "code",
   "execution_count": 8,
   "metadata": {
    "id": "Xaqq51LNTWJP"
   },
   "outputs": [
    {
     "name": "stdout",
     "output_type": "stream",
     "text": [
      "las keys en bloomberg_api son:\n"
     ]
    },
    {
     "data": {
      "text/plain": [
       "['api_response_status', 'timestamp', 'results']"
      ]
     },
     "execution_count": 8,
     "metadata": {},
     "output_type": "execute_result"
    }
   ],
   "source": [
    "print('las keys en bloomberg_api son:')\n",
    "list(bloomberg_api.keys())"
   ]
  },
  {
   "cell_type": "markdown",
   "metadata": {
    "id": "nq-uyksFTWJP"
   },
   "source": [
    "<b>Ejercicio 3.C:</b> Que tipo de 'value' tenemos en la key 'results'</div>"
   ]
  },
  {
   "cell_type": "code",
   "execution_count": 9,
   "metadata": {
    "id": "RrzHGeTDTWJQ"
   },
   "outputs": [
    {
     "name": "stdout",
     "output_type": "stream",
     "text": [
      "el tipo de value en la key results es:\n"
     ]
    },
    {
     "data": {
      "text/plain": [
       "dict"
      ]
     },
     "execution_count": 9,
     "metadata": {},
     "output_type": "execute_result"
    }
   ],
   "source": [
    "print('el tipo de value en la key results es:')\n",
    "type(bloomberg_api['results'])"
   ]
  },
  {
   "cell_type": "markdown",
   "metadata": {
    "id": "sMIzCDXDTWJQ"
   },
   "source": [
    "<b>Ejercicio 3.D:</b> Cuantos elementos tenemos en la key 'results'</div>"
   ]
  },
  {
   "cell_type": "code",
   "execution_count": 10,
   "metadata": {
    "id": "enOArC5MTWJQ"
   },
   "outputs": [
    {
     "name": "stdout",
     "output_type": "stream",
     "text": [
      "número de elementos: 8\n"
     ]
    },
    {
     "data": {
      "text/plain": [
       "{'tesla': {'precio_actual': 948},\n",
       " 'telefonica': {'precio_actual': 2.9},\n",
       " 'aena': {'precio_actual': 124.8},\n",
       " 'caixabank': {'precio_actual': 1.63},\n",
       " 'endesa': {'precio_actual': 24.6},\n",
       " 'iag': {'precio_actual': 1.189},\n",
       " 'amazon': {'precio_actual': 3241},\n",
       " 'santander': {'precio_actual': 3.19}}"
      ]
     },
     "execution_count": 10,
     "metadata": {},
     "output_type": "execute_result"
    }
   ],
   "source": [
    "print('número de elementos:', len( bloomberg_api['results'] ) )\n",
    "bloomberg_api['results']\n"
   ]
  },
  {
   "cell_type": "markdown",
   "metadata": {
    "id": "ihoxMuOrTWJQ"
   },
   "source": [
    "<b>Ejercicio 3.E:</b> Hacer un print de las keys</div>"
   ]
  },
  {
   "cell_type": "code",
   "execution_count": 11,
   "metadata": {
    "id": "yPYFEzmeTWJR"
   },
   "outputs": [
    {
     "name": "stdout",
     "output_type": "stream",
     "text": [
      "las keys en results son:\n"
     ]
    },
    {
     "data": {
      "text/plain": [
       "['tesla',\n",
       " 'telefonica',\n",
       " 'aena',\n",
       " 'caixabank',\n",
       " 'endesa',\n",
       " 'iag',\n",
       " 'amazon',\n",
       " 'santander']"
      ]
     },
     "execution_count": 11,
     "metadata": {},
     "output_type": "execute_result"
    }
   ],
   "source": [
    "# Este apartado es igual que el del ejercicio 3.B. Imagino que esta vez se refiere a sacar las keys de 'results'\n",
    "\n",
    "print('las keys en results son:')\n",
    "list(bloomberg_api['results'].keys())"
   ]
  },
  {
   "cell_type": "markdown",
   "metadata": {
    "id": "B5t4x3zKTWJR"
   },
   "source": [
    "<b>Ejercicio 3.F:</b> Hacer un código que compruebe que si un elemento del diccionario 'mis_acciones' esté en esta respuesta, imprima el nombre y el precio actual de la accion.</div>"
   ]
  },
  {
   "cell_type": "code",
   "execution_count": 12,
   "metadata": {
    "id": "uQjD_7-UTWJR"
   },
   "outputs": [
    {
     "name": "stdout",
     "output_type": "stream",
     "text": [
      "\n",
      " ---> tesla está en mis acciones\n",
      "descripcion de mi acción: {'cantidad': 23, 'precio': 746}\n",
      "precio actual:  948\n",
      "\n",
      " ---> endesa está en mis acciones\n",
      "descripcion de mi acción: {'cantidad': 78, 'precio': 20.1}\n",
      "precio actual:  24.6\n",
      "\n",
      " ---> santander está en mis acciones\n",
      "descripcion de mi acción: {'cantidad': 45, 'precio': 2.94}\n",
      "precio actual:  3.19\n"
     ]
    }
   ],
   "source": [
    "\n",
    "# Función que toma como parámetro el diccionario de tus acciones y te comprueba su valor actual en el mercado\n",
    "\n",
    "def check_mis_acciones (acciones):\n",
    "\n",
    "   for i in bloomberg_api['results']:\n",
    "    \n",
    "       if i in mis_acciones:\n",
    "         \n",
    "          print('\\n --->',i, 'está en mis acciones')\n",
    "          print('descripcion de mi acción:', mis_acciones[i] )\n",
    "          print('precio actual: ', bloomberg_api['results'][i]['precio_actual'])\n",
    "\n",
    "   return\n",
    "\n",
    "\n",
    "# Corremos función indroduciendo el diccionario de nuestras acciones:\n",
    "acciones = mis_acciones\n",
    "check_mis_acciones (acciones)\n",
    "\n"
   ]
  },
  {
   "cell_type": "markdown",
   "metadata": {
    "id": "SEOCDCjXTWJR"
   },
   "source": [
    "<b>Ejercicio 3.G:</b> Hacer un código que imprima por pantalla el beneficio que hemos obtenido de cada empresa y almacena el resultado como un diccionario que contiene:\n",
    "<br> - clave: el nombre de la acción\n",
    "<br> - valor: el beneficio obtenido.\n",
    "<br>Además a este diccionario incluir también una clave llamada 'total' con el beneficio total obtenido.</div>"
   ]
  },
  {
   "cell_type": "code",
   "execution_count": 13,
   "metadata": {
    "id": "N8jCwaVPTWJR"
   },
   "outputs": [
    {
     "name": "stdout",
     "output_type": "stream",
     "text": [
      " beneficio de tesla es: 4646 \n",
      " beneficio de endesa es: 351.0 \n",
      " beneficio de santander es: 11.25 \n"
     ]
    },
    {
     "data": {
      "text/plain": [
       "{'tesla': {'valor': 4646},\n",
       " 'endesa': {'valor': 351.0},\n",
       " 'santander': {'valor': 11.25},\n",
       " 'total': {'valor': 5008.25}}"
      ]
     },
     "execution_count": 13,
     "metadata": {},
     "output_type": "execute_result"
    }
   ],
   "source": [
    "# Introduces como parámetros tus acciones y te saca el beneficio desglosado por cada empresa, y del beneficio total\n",
    "# El beneficio se almacena en la key 'valor'\n",
    "\n",
    "def beneficio(dicc_acciones):\n",
    "\n",
    "    dicc_acciones_tiempo_real = bloomberg_api\n",
    "    dicc_benef = { }\n",
    "    lista_beneficio_total=[]\n",
    "\n",
    "    for i in mis_acciones:\n",
    "\n",
    "        beneficio = ( dicc_acciones_tiempo_real['results'][i]['precio_actual'] - dicc_acciones[i]['precio'] ) * dicc_acciones[i]['cantidad'] # diferencia de precio de la acción x nº de acciones que poseemos\n",
    "        print (' beneficio de {} es: {} ' .format(i,beneficio))\n",
    "        lista_beneficio_total.append(beneficio)\n",
    "        dicc_benef.update ( { i : { 'valor': beneficio }  } )\n",
    "\n",
    "    # Una vez iteramos sobre todas nuestras acciones, sumamos los beneficios individuales\n",
    "    beneficio_total = sum(lista_beneficio_total)\n",
    "    dicc_benef.update ( {'total' : { 'valor': beneficio_total } } )\n",
    "\n",
    "    return dicc_benef\n",
    "\n",
    "# Corremos función introduciendo el diccionario de nuestras acciones\n",
    "dicc_acciones = mis_acciones\n",
    "beneficio(dicc_acciones)\n",
    "    "
   ]
  }
 ],
 "metadata": {
  "colab": {
   "collapsed_sections": [
    "TkSXiMwaTWJK",
    "DfZF2ajkTWJS",
    "MQIgltsjTWJM"
   ],
   "provenance": []
  },
  "kernelspec": {
   "display_name": "Python 3 (ipykernel)",
   "language": "python",
   "name": "python3"
  },
  "language_info": {
   "codemirror_mode": {
    "name": "ipython",
    "version": 3
   },
   "file_extension": ".py",
   "mimetype": "text/x-python",
   "name": "python",
   "nbconvert_exporter": "python",
   "pygments_lexer": "ipython3",
   "version": "3.9.12"
  }
 },
 "nbformat": 4,
 "nbformat_minor": 1
}
