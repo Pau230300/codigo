{
  "cells": [
    {
      "attachments": {},
      "cell_type": "markdown",
      "metadata": {
        "id": "vL5F4s6jex64"
      },
      "source": [
        "# Módulo de nivelación: Python"
      ]
    },
    {
      "cell_type": "code",
      "execution_count": null,
      "metadata": {},
      "outputs": [],
      "source": []
    },
    {
      "attachments": {},
      "cell_type": "markdown",
      "metadata": {
        "id": "hAijrMK8ex66"
      },
      "source": [
        "## 5 - Funciones"
      ]
    },
    {
      "attachments": {},
      "cell_type": "markdown",
      "metadata": {
        "id": "iJyfft7lex66"
      },
      "source": [
        "Sentencia `def` se utiliza para definir una función. La definición no ejecuta la función, para ello tendremos que llamarla."
      ]
    },
    {
      "cell_type": "code",
      "execution_count": 2,
      "metadata": {
        "id": "d5nJgnBoex67"
      },
      "outputs": [
        {
          "name": "stdout",
          "output_type": "stream",
          "text": [
            "Hola 7\n"
          ]
        }
      ],
      "source": [
        "def primera_funcion(palabra):\n",
        "    print('Hola', palabra)\n",
        "\n",
        "primera_funcion(7)"
      ]
    },
    {
      "attachments": {},
      "cell_type": "markdown",
      "metadata": {
        "id": "NfPIY_bkex68"
      },
      "source": [
        "Como podemos ver la sentencia <b>def</b> viene seguida del nombre que le daremos a la función y a continuación los paréntesis que comprenden la lista de parámetros. Finalizaremos con ':', la función continua en la siguiente línea y al igual que los condicionales `if`, `elif`, `else` requiere de identación."
      ]
    },
    {
      "attachments": {},
      "cell_type": "markdown",
      "metadata": {
        "id": "ViCUBNyqex68"
      },
      "source": [
        "<b> Parámetros </b>: Los valores que se definen entre los paréntesis y a continuación procesa la función son los parámetros."
      ]
    },
    {
      "attachments": {},
      "cell_type": "markdown",
      "metadata": {
        "id": "wLptuZlpex69"
      },
      "source": [
        "Para llamar a una función y ejecutarla escribiremos el nombre con el cual la hemos definido y añadiremos el argumento.\n",
        "\n",
        "**Argumento**: Durante la llamada, el valor que se le pasa a los parámetros se denomina argumentos."
      ]
    },
    {
      "cell_type": "code",
      "execution_count": null,
      "metadata": {
        "id": "tgHw4s9xex69"
      },
      "outputs": [],
      "source": [
        "primera_funcion('mundo')"
      ]
    },
    {
      "cell_type": "code",
      "execution_count": null,
      "metadata": {
        "id": "KAD-JWmdex6-"
      },
      "outputs": [],
      "source": [
        "primera_funcion('Madrid')"
      ]
    },
    {
      "attachments": {},
      "cell_type": "markdown",
      "metadata": {
        "id": "wMd1dpsNex6_"
      },
      "source": [
        "Se pueden definir los argumentos por posiciones o por valores"
      ]
    },
    {
      "cell_type": "code",
      "execution_count": 3,
      "metadata": {
        "id": "QIgZcs3lex7A"
      },
      "outputs": [],
      "source": [
        "def resta_pr(var_1, var_2):\n",
        "    print(var_1 - var_2)"
      ]
    },
    {
      "cell_type": "code",
      "execution_count": 4,
      "metadata": {
        "id": "6FK-1OHOex7A"
      },
      "outputs": [
        {
          "name": "stdout",
          "output_type": "stream",
          "text": [
            "-2\n"
          ]
        }
      ],
      "source": [
        "# por posicion\n",
        "resta_pr(8, 10)"
      ]
    },
    {
      "cell_type": "code",
      "execution_count": 5,
      "metadata": {
        "id": "a26FdEcGex7A"
      },
      "outputs": [
        {
          "name": "stdout",
          "output_type": "stream",
          "text": [
            "-2\n"
          ]
        }
      ],
      "source": [
        "# por nombre\n",
        "resta_pr(var_2=10, var_1=8)"
      ]
    },
    {
      "cell_type": "code",
      "execution_count": 6,
      "metadata": {
        "id": "qhFe-gvjex7A"
      },
      "outputs": [
        {
          "ename": "TypeError",
          "evalue": "resta_pr() missing 2 required positional arguments: 'var_1' and 'var_2'",
          "output_type": "error",
          "traceback": [
            "\u001b[0;31m---------------------------------------------------------------------------\u001b[0m",
            "\u001b[0;31mTypeError\u001b[0m                                 Traceback (most recent call last)",
            "Cell \u001b[0;32mIn[6], line 2\u001b[0m\n\u001b[1;32m      1\u001b[0m \u001b[39m# ejecucion sin argumentos\u001b[39;00m\n\u001b[0;32m----> 2\u001b[0m resta_pr()\n",
            "\u001b[0;31mTypeError\u001b[0m: resta_pr() missing 2 required positional arguments: 'var_1' and 'var_2'"
          ]
        }
      ],
      "source": [
        "# ejecucion sin argumentos\n",
        "resta_pr()"
      ]
    },
    {
      "attachments": {},
      "cell_type": "markdown",
      "metadata": {
        "id": "fWhjs5hTex7A"
      },
      "source": [
        "Parámetros por defecto: se utilizan en el caso de que no definamos ningún argumento"
      ]
    },
    {
      "cell_type": "code",
      "execution_count": 7,
      "metadata": {
        "id": "6ak_I-jIex7B"
      },
      "outputs": [],
      "source": [
        "def resta_pr(var_1=5, var_2=0):\n",
        "    print(var_1 - var_2)"
      ]
    },
    {
      "cell_type": "code",
      "execution_count": 8,
      "metadata": {
        "id": "pFVsJbrJex7B"
      },
      "outputs": [
        {
          "name": "stdout",
          "output_type": "stream",
          "text": [
            "5\n"
          ]
        }
      ],
      "source": [
        "resta_pr()"
      ]
    },
    {
      "cell_type": "code",
      "execution_count": 9,
      "metadata": {
        "id": "YtoOKudUex7B"
      },
      "outputs": [
        {
          "name": "stdout",
          "output_type": "stream",
          "text": [
            "1\n"
          ]
        }
      ],
      "source": [
        "a = 8\n",
        "b = 7\n",
        "c = resta_pr(a, b)"
      ]
    },
    {
      "cell_type": "code",
      "execution_count": null,
      "metadata": {
        "id": "2EbK-0tUex7C"
      },
      "outputs": [],
      "source": [
        "print(f\"El resultado de la resta entre {a} y {b} es de {c}\")"
      ]
    },
    {
      "attachments": {},
      "cell_type": "markdown",
      "metadata": {
        "id": "btGTuAWZex7C"
      },
      "source": [
        "`return` : se utiliza para que la función definida devuelva los valores  calculados. <font color='red'>¡Cuidado!</font> no confundir con print (un error común cuando empezamos a trabajar con Python."
      ]
    },
    {
      "cell_type": "code",
      "execution_count": 10,
      "metadata": {
        "id": "7ffP-X2dex7C"
      },
      "outputs": [],
      "source": [
        "def suma(var_1, var_2):\n",
        "    return (var_1 + var_2)"
      ]
    },
    {
      "cell_type": "code",
      "execution_count": null,
      "metadata": {
        "id": "n3LLVQ8nex7C"
      },
      "outputs": [],
      "source": [
        "d = 'Hola'\n",
        "e = 'Mundo'\n",
        "f = suma(d, e)"
      ]
    },
    {
      "cell_type": "code",
      "execution_count": null,
      "metadata": {
        "id": "RAKEtFEjex7C"
      },
      "outputs": [],
      "source": [
        "print(f\"El resultado de la suma entre {d} y {e} es de {f}\")"
      ]
    },
    {
      "attachments": {},
      "cell_type": "markdown",
      "metadata": {
        "id": "QjRXYxHlex7D"
      },
      "source": [
        "<font color='green'> <b>Ejercicio:</b> Tras leer el periódico os enteráis de que la acción que comprasteis ha subido un 10%, crear una función con el parámetro 'valor del activo' y el parámetro 'variación' y devolver el nuevo valor de la acción</div>"
      ]
    },
    {
      "cell_type": "code",
      "execution_count": null,
      "metadata": {
        "id": "-8PuzOBKex7D"
      },
      "outputs": [],
      "source": [
        "valor_activo = 6.79\n",
        "variacion = 0.1"
      ]
    },
    {
      "cell_type": "code",
      "execution_count": null,
      "metadata": {
        "id": "lx9EapSZex7D"
      },
      "outputs": [],
      "source": []
    },
    {
      "attachments": {},
      "cell_type": "markdown",
      "metadata": {
        "id": "AKxQ0OrRex7D"
      },
      "source": [
        "Podemos devolver multiples elementos en la sentencia `return`"
      ]
    },
    {
      "cell_type": "code",
      "execution_count": null,
      "metadata": {
        "id": "C6ZAEMsjex7D"
      },
      "outputs": [],
      "source": [
        "def multiple_arguments(var_1, var_2, var_3):\n",
        "    res_1 = var_1 + var_2\n",
        "    res_2 = var_1 * var_3\n",
        "    res_3 = var_2 - var_3\n",
        "    return res_1, res_2, res_3"
      ]
    },
    {
      "cell_type": "code",
      "execution_count": null,
      "metadata": {
        "id": "TWGw105Dex7D"
      },
      "outputs": [],
      "source": [
        "resultado = multiple_arguments(3, 6, 9)\n",
        "print(resultado)"
      ]
    },
    {
      "attachments": {},
      "cell_type": "markdown",
      "metadata": {
        "id": "zFz8ejqDk2go"
      },
      "source": [
        "Cuando el resultado de una variable no nos interesa y queremos indicarlo al resto de programadores utilizaremos `_`"
      ]
    },
    {
      "cell_type": "code",
      "execution_count": null,
      "metadata": {
        "id": "7SgtodOdex7E"
      },
      "outputs": [],
      "source": [
        "respuesta_1, _, respuesta_3 = multiple_arguments(3, 6, 9)\n",
        "print(respuesta_3)\n",
        "print(_)"
      ]
    },
    {
      "attachments": {},
      "cell_type": "markdown",
      "metadata": {
        "id": "Luw9pIjRex7E"
      },
      "source": [
        "**Variables Globales y Locales:**\n",
        "Las variables que estan creadas fuera de una función (como todas las que hemos visto hasta ahora) son denominadas variables globales. Las variables globales pueden ser usadas dentro y fuera de las funciones"
      ]
    },
    {
      "cell_type": "code",
      "execution_count": null,
      "metadata": {
        "id": "8da3ZVChex7E"
      },
      "outputs": [],
      "source": [
        "palabra_global = 'mundo'\n",
        "\n",
        "def print_global_variables():\n",
        "    print(f\"Hola {palabra_global}\")"
      ]
    },
    {
      "cell_type": "code",
      "execution_count": null,
      "metadata": {
        "id": "Dq9Cm0ccex7E"
      },
      "outputs": [],
      "source": [
        "print_global_variables()"
      ]
    },
    {
      "cell_type": "code",
      "execution_count": null,
      "metadata": {
        "id": "f4GF6Oloex7E"
      },
      "outputs": [],
      "source": [
        "print_global_variables()\n",
        "palabra_global = 'madrid'\n",
        "print_global_variables()"
      ]
    },
    {
      "attachments": {},
      "cell_type": "markdown",
      "metadata": {
        "id": "J__X1xliex7F"
      },
      "source": [
        "Cuando creamos una variable dentro de una función esta variable se denomina local y solamente podrá ser utilizada dentro de la función"
      ]
    },
    {
      "cell_type": "code",
      "execution_count": null,
      "metadata": {
        "id": "y05bMnFIex7F"
      },
      "outputs": [],
      "source": [
        "def calculo_avanzado(var_1, var_2, var_3):\n",
        "    variable_local_1 = var_1 + var_2\n",
        "    variable_local_2 = var_1 * var_3\n",
        "    return variable_local_1, variable_local_2"
      ]
    },
    {
      "cell_type": "code",
      "execution_count": null,
      "metadata": {
        "id": "7T-XNJatex7F"
      },
      "outputs": [],
      "source": [
        "resultado_1, resultado_2 = calculo_avanzado(2, 8, 5)"
      ]
    },
    {
      "cell_type": "code",
      "execution_count": null,
      "metadata": {
        "id": "ojWkmA2ClJDk"
      },
      "outputs": [],
      "source": [
        "print(variable_local_1)"
      ]
    },
    {
      "cell_type": "code",
      "execution_count": null,
      "metadata": {
        "id": "Qpq9EV4Eex7F"
      },
      "outputs": [],
      "source": [
        "print(resultado_1)"
      ]
    },
    {
      "attachments": {},
      "cell_type": "markdown",
      "metadata": {
        "id": "5IP78DkCex7G"
      },
      "source": [
        "<font color='green'> <b>Ejercicio:</b> Recuperar el código que hicisteis para calcular el teorema de Pitágoras y crear una función con dos parámetros para los catetos y que devuelva el valor de la hipotenusa.</div>"
      ]
    },
    {
      "cell_type": "code",
      "execution_count": null,
      "metadata": {
        "id": "v7Hrq9B3ex7G"
      },
      "outputs": [],
      "source": []
    },
    {
      "attachments": {},
      "cell_type": "markdown",
      "metadata": {
        "id": "3AJ0oUyHex7G"
      },
      "source": [
        "<font color='green'> <b>Ejercicio:</b> Como os va tan bien en la bolsa habéis comprado un mayor número de acciones de diferentes empresas, en la lista siguiente encontrareis los valores. De nuevo la bolsa ha subido un 10% en todos los valores por igual. Crear una función que reciba el valor del activo, la variación porcentual y que haga un print en este caso del precio actualizado y la variación del activo.</div>"
      ]
    },
    {
      "cell_type": "code",
      "execution_count": null,
      "metadata": {
        "id": "o6Jp55jJex7G"
      },
      "outputs": [],
      "source": [
        "# lista de valores\n",
        "ibex_valores = [3.45, 8.45, 1.67, 9.45, 4.12]\n",
        "variacion = 0.1"
      ]
    },
    {
      "cell_type": "code",
      "execution_count": null,
      "metadata": {
        "id": "OT80sIe4ex7G"
      },
      "outputs": [],
      "source": []
    },
    {
      "attachments": {},
      "cell_type": "markdown",
      "metadata": {
        "id": "3L4HG9Gvex7G"
      },
      "source": [
        "<font color='#4863A0'> <b>Ejercicio en Casa:</b> En esta jornada los valores del Ibex han sufrido variaciones diferentes como vemos en el siguiente diccionario, además en esta información que tenemos se separa por un lado el precio de compra de la acción y el de unidades. Con la función que hemos creado anteriormente calcular para cada activo el nuevo precio total de cada uno de los valores y sus respectivos incrementos</div>"
      ]
    },
    {
      "cell_type": "code",
      "execution_count": null,
      "metadata": {
        "id": "ypaeeAoMex7H"
      },
      "outputs": [],
      "source": [
        "ibex_valores_acciones = {\n",
        "    'telefonica':{\n",
        "        'precio_compra':2.43,\n",
        "        'incremento':0.034,\n",
        "        'unidades':15\n",
        "    },\n",
        "    'bbva':{\n",
        "        'precio_compra':3.43,\n",
        "        'incremento':0.063,\n",
        "        'unidades':20\n",
        "    },\n",
        "    'tesla':{\n",
        "        'precio_compra':24.23,\n",
        "        'incremento':0.103,\n",
        "        'unidades':5\n",
        "    }\n",
        "}"
      ]
    },
    {
      "cell_type": "code",
      "execution_count": null,
      "metadata": {
        "id": "r-XQLEU6ex7H"
      },
      "outputs": [],
      "source": []
    },
    {
      "attachments": {},
      "cell_type": "markdown",
      "metadata": {
        "id": "YgyrBqb9YwEX"
      },
      "source": [
        "____"
      ]
    },
    {
      "attachments": {},
      "cell_type": "markdown",
      "metadata": {
        "id": "KzGe3BavYwEY"
      },
      "source": [
        "## 6 - Programacion Orientada a Objetos"
      ]
    },
    {
      "attachments": {},
      "cell_type": "markdown",
      "metadata": {
        "id": "rYEwjuzBYwEY"
      },
      "source": [
        "La programación orienta a objetos (POO) es un paradigma de programación que permite estructura el código basándonos en las propiedades y comportamientos de los objetos. ¿Qué es un objeto?"
      ]
    },
    {
      "attachments": {},
      "cell_type": "markdown",
      "metadata": {
        "id": "HrWa0ZZSYwEY"
      },
      "source": [
        "<div>\n",
        "<img src=\"https://www.petdarling.com/wp-content/uploads/2014/10/cachorros-labrador.jpg\" width=\"300\"/>\n",
        "</div>"
      ]
    },
    {
      "attachments": {},
      "cell_type": "markdown",
      "metadata": {
        "id": "LFPUYF-2YwEY"
      },
      "source": [
        "<img class=\"fit-picture\" style=\"width:40%\"\n",
        "     src=\"https://concepto.de/wp-content/uploads/2018/08/persona-e1533759204552.jpg\">"
      ]
    },
    {
      "attachments": {},
      "cell_type": "markdown",
      "metadata": {
        "id": "gD-D85NKYwEY"
      },
      "source": [
        "<img class=\"fit-picture\" style=\"width:40%\"\n",
        "     src=\"https://e00-expansion.uecdn.es/assets/multimedia/imagenes/2017/03/14/14895188789578.jpg\">"
      ]
    },
    {
      "attachments": {},
      "cell_type": "markdown",
      "metadata": {
        "id": "iASBciCJYwEZ"
      },
      "source": [
        "Como vemos todos los objetos tienen en común dos cosas, por un lado todos tienen un conjunto de <b>atributos</b> (nombre, modelo, tamaño ...) y un conjunto de acciones o <b>métodos</b>."
      ]
    },
    {
      "attachments": {},
      "cell_type": "markdown",
      "metadata": {
        "id": "ZpwdMu3JYwEZ"
      },
      "source": [
        "Todos los objetos comparten un conjunto de atributos y métodos aunque cada uno tiene una definición. Por ejemplo todas las personas tienen un nombre aunque cada uno es diferente o todos los coches tienen un modelo. Lo que veremos en esta sesión es como crear estos objetos y utilizarlos en Python."
      ]
    },
    {
      "attachments": {},
      "cell_type": "markdown",
      "metadata": {
        "id": "zd_vKeRvYwEZ"
      },
      "source": [
        "Para <b>definir</b> una clase hacemos uso de la palabra reservada 'class' de la siguiente forma"
      ]
    },
    {
      "cell_type": "raw",
      "metadata": {
        "id": "jOMd9_x_YwEZ"
      },
      "source": [
        "`class Dog:`"
      ]
    },
    {
      "attachments": {},
      "cell_type": "markdown",
      "metadata": {
        "id": "pHpL4Ym0YwEZ"
      },
      "source": [
        "Para definir <b>atributos</b> lo hacemos de la siguiente forma\n",
        "<br> *Veremos que esto aún no son atributos, si no variables de clase*"
      ]
    },
    {
      "cell_type": "code",
      "execution_count": 11,
      "metadata": {
        "id": "KTzbgv8fYwEZ"
      },
      "outputs": [],
      "source": [
        "class Dog:\n",
        "    nombre = 'simba'\n",
        "    edad = 1\n",
        "    raza = 'golden retriever'\n",
        "    energia = 15"
      ]
    },
    {
      "attachments": {},
      "cell_type": "markdown",
      "metadata": {
        "id": "kgkpZotWYwEZ"
      },
      "source": [
        "Aunque hemos creado la clase Dog aún no la hemos instanciado, es decir aun no tenemos el perro en casa. <br> Para <b>instanciar</b> la clase ejecutamos la siguiente linea y guardamos una instancia de la clase en una variable"
      ]
    },
    {
      "cell_type": "code",
      "execution_count": 12,
      "metadata": {
        "id": "jvX2PJb5YwEa"
      },
      "outputs": [],
      "source": [
        "mi_perro = Dog()"
      ]
    },
    {
      "cell_type": "code",
      "execution_count": 13,
      "metadata": {
        "id": "0qQu6_hfYwEa"
      },
      "outputs": [
        {
          "data": {
            "text/plain": [
              "<__main__.Dog at 0x10fb6f490>"
            ]
          },
          "execution_count": 13,
          "metadata": {},
          "output_type": "execute_result"
        }
      ],
      "source": [
        "mi_perro"
      ]
    },
    {
      "attachments": {},
      "cell_type": "markdown",
      "metadata": {
        "id": "FpKDcn7qYwEa"
      },
      "source": [
        "Para acceder al atributo del objeto utilizamos el punto"
      ]
    },
    {
      "cell_type": "code",
      "execution_count": 14,
      "metadata": {
        "id": "noVm0YfPYwEa"
      },
      "outputs": [
        {
          "data": {
            "text/plain": [
              "'simba'"
            ]
          },
          "execution_count": 14,
          "metadata": {},
          "output_type": "execute_result"
        }
      ],
      "source": [
        "mi_perro.nombre"
      ]
    },
    {
      "attachments": {},
      "cell_type": "markdown",
      "metadata": {
        "id": "wMEkOJCKYwEa"
      },
      "source": [
        "Estos atributos se pueden modificar una vez se ha instanciado la clase"
      ]
    },
    {
      "cell_type": "code",
      "execution_count": 15,
      "metadata": {
        "id": "49ias6UtYwEa"
      },
      "outputs": [],
      "source": [
        "mi_perro.edad = 2"
      ]
    },
    {
      "cell_type": "code",
      "execution_count": 16,
      "metadata": {
        "id": "A-xsXy04YwEa"
      },
      "outputs": [
        {
          "data": {
            "text/plain": [
              "2"
            ]
          },
          "execution_count": 16,
          "metadata": {},
          "output_type": "execute_result"
        }
      ],
      "source": [
        "mi_perro.edad"
      ]
    },
    {
      "attachments": {},
      "cell_type": "markdown",
      "metadata": {
        "id": "hlOSVFc0YwEb"
      },
      "source": [
        "<font color='green'> <b>Ejercicio:</b> Definir un objeto coche y añadir los atributos modelo, color y gasolina. Posteriormente acceder a ellos"
      ]
    },
    {
      "cell_type": "code",
      "execution_count": 23,
      "metadata": {
        "id": "04MVvngUYwEb"
      },
      "outputs": [],
      "source": [
        "# definir clase\n",
        "class coche:\n",
        "    nombre = 'bicho'\n",
        "    tamaño = 'infinito'\n",
        "    modelo = 'BMW X4'\n",
        "    color = 'rojo'"
      ]
    },
    {
      "cell_type": "code",
      "execution_count": 25,
      "metadata": {
        "id": "k4nqMvtuYwEb"
      },
      "outputs": [],
      "source": [
        "# instanciar clase\n",
        "mi_coche = coche()"
      ]
    },
    {
      "cell_type": "code",
      "execution_count": 26,
      "metadata": {
        "id": "bgA669uXYwEb"
      },
      "outputs": [
        {
          "data": {
            "text/plain": [
              "'rojo'"
            ]
          },
          "execution_count": 26,
          "metadata": {},
          "output_type": "execute_result"
        }
      ],
      "source": [
        "# acceder al color\n",
        "mi_coche.color"
      ]
    },
    {
      "cell_type": "code",
      "execution_count": 27,
      "metadata": {
        "id": "M61YD4H3YwEb"
      },
      "outputs": [],
      "source": [
        "# cambiar color\n",
        "mi_coche.color = 'azul'"
      ]
    },
    {
      "cell_type": "code",
      "execution_count": 30,
      "metadata": {
        "id": "EQnVlm-7YwEb"
      },
      "outputs": [
        {
          "data": {
            "text/plain": [
              "'azul'"
            ]
          },
          "execution_count": 30,
          "metadata": {},
          "output_type": "execute_result"
        }
      ],
      "source": [
        "# acceder al color\n",
        "mi_coche.color"
      ]
    },
    {
      "attachments": {},
      "cell_type": "markdown",
      "metadata": {
        "id": "-lsLOkt2YwEb"
      },
      "source": [
        "Hemos dicho que los objetos tambien tienen un conjunto de acciones o <b>métodos</b>, el perro por ejemplo puede ladrar."
      ]
    },
    {
      "cell_type": "code",
      "execution_count": 31,
      "metadata": {
        "id": "yV3fN--kYwEc"
      },
      "outputs": [],
      "source": [
        "class Dog:\n",
        "    nombre = 'simba'\n",
        "    edad = 1\n",
        "    raza = 'golden retriever'\n",
        "    energia = 15\n",
        "\n",
        "    def ladrar(self):\n",
        "        print( 'guau guau' )"
      ]
    },
    {
      "cell_type": "code",
      "execution_count": 32,
      "metadata": {
        "id": "X_AVVr0MYwEc"
      },
      "outputs": [],
      "source": [
        "mi_perro = Dog()"
      ]
    },
    {
      "cell_type": "code",
      "execution_count": 33,
      "metadata": {
        "id": "MgYuOdnqYwEc"
      },
      "outputs": [
        {
          "name": "stdout",
          "output_type": "stream",
          "text": [
            "guau guau\n"
          ]
        }
      ],
      "source": [
        "mi_perro.ladrar()"
      ]
    },
    {
      "attachments": {},
      "cell_type": "markdown",
      "metadata": {
        "id": "6PSV_2PlYwEc"
      },
      "source": [
        "Tambien podemos pedirle que se siente, para ello es necesario indicar su nombre"
      ]
    },
    {
      "cell_type": "code",
      "execution_count": 1,
      "metadata": {
        "id": "qSSJi5jrYwEc"
      },
      "outputs": [],
      "source": [
        "class Dog:\n",
        "    nombre = 'simba'\n",
        "    edad = 1\n",
        "    raza = 'golden retriever'\n",
        "    energia = 15\n",
        "\n",
        "    def ladrar(self):\n",
        "        print( 'guau guau' )\n",
        "\n",
        "    def sit(self,name_dog):\n",
        "        if name_dog == nombre:\n",
        "            print('El perro se ha sentado')\n",
        "            energia -= 2\n",
        "        else:\n",
        "            print('El perro no te hace caso')\n",
        "            energia -= 1"
      ]
    },
    {
      "cell_type": "code",
      "execution_count": 2,
      "metadata": {},
      "outputs": [
        {
          "data": {
            "text/plain": [
              "<function __main__.Dog.sit(self, name_dog)>"
            ]
          },
          "execution_count": 2,
          "metadata": {},
          "output_type": "execute_result"
        }
      ],
      "source": [
        "Dog.sit"
      ]
    },
    {
      "cell_type": "code",
      "execution_count": 3,
      "metadata": {
        "id": "cTCKWCf0YwEc"
      },
      "outputs": [],
      "source": [
        "mi_perro = Dog()"
      ]
    },
    {
      "cell_type": "code",
      "execution_count": 4,
      "metadata": {
        "id": "oVRo9_rNYwEc"
      },
      "outputs": [
        {
          "ename": "NameError",
          "evalue": "name 'nombre' is not defined",
          "output_type": "error",
          "traceback": [
            "\u001b[0;31m---------------------------------------------------------------------------\u001b[0m",
            "\u001b[0;31mNameError\u001b[0m                                 Traceback (most recent call last)",
            "Cell \u001b[0;32mIn[4], line 1\u001b[0m\n\u001b[0;32m----> 1\u001b[0m mi_perro\u001b[39m.\u001b[39;49msit(\u001b[39m'\u001b[39;49m\u001b[39msimba\u001b[39;49m\u001b[39m'\u001b[39;49m)\n",
            "Cell \u001b[0;32mIn[1], line 11\u001b[0m, in \u001b[0;36mDog.sit\u001b[0;34m(self, name_dog)\u001b[0m\n\u001b[1;32m     10\u001b[0m \u001b[39mdef\u001b[39;00m \u001b[39msit\u001b[39m(\u001b[39mself\u001b[39m,name_dog):\n\u001b[0;32m---> 11\u001b[0m     \u001b[39mif\u001b[39;00m name_dog \u001b[39m==\u001b[39m nombre:\n\u001b[1;32m     12\u001b[0m         \u001b[39mprint\u001b[39m(\u001b[39m'\u001b[39m\u001b[39mEl perro se ha sentado\u001b[39m\u001b[39m'\u001b[39m)\n\u001b[1;32m     13\u001b[0m         energia \u001b[39m-\u001b[39m\u001b[39m=\u001b[39m \u001b[39m2\u001b[39m\n",
            "\u001b[0;31mNameError\u001b[0m: name 'nombre' is not defined"
          ]
        }
      ],
      "source": [
        "mi_perro.sit('simba')\n",
        "# estamos haciendo referencia a un atributo de la clase pero sin haber indicado que es un atributo de la clase, \n",
        "# de manera que no entiende que 'nombre' se refiera al que hemos definido para la clase nombre = 'simba'"
      ]
    },
    {
      "attachments": {},
      "cell_type": "markdown",
      "metadata": {
        "id": "iasrBZJXYwEd"
      },
      "source": [
        "Siempre que hagamos referencia a un método o un atributo utilizaremos `self`"
      ]
    },
    {
      "cell_type": "code",
      "execution_count": 8,
      "metadata": {
        "id": "mD3B7TAjYwEd"
      },
      "outputs": [],
      "source": [
        "# crear clase\n",
        "class Dog:\n",
        "    nombre = 'simba'\n",
        "    edad = 1\n",
        "    raza = 'golden retriever'\n",
        "    energia = 15\n",
        "\n",
        "    def sit(self, name_dog):\n",
        "        if name_dog == self.nombre:\n",
        "            print('El perro se ha sentado')\n",
        "            self.energia -= 2\n",
        "        else:\n",
        "            print('El perro no te hace caso')\n",
        "            self.energia -= 1"
      ]
    },
    {
      "cell_type": "code",
      "execution_count": 9,
      "metadata": {
        "id": "TyRs7QvDYwEd"
      },
      "outputs": [],
      "source": [
        "# instanciar clase\n",
        "mi_perro = Dog()"
      ]
    },
    {
      "cell_type": "code",
      "execution_count": 7,
      "metadata": {
        "id": "gsH6ITqDYwEd"
      },
      "outputs": [
        {
          "name": "stdout",
          "output_type": "stream",
          "text": [
            "El perro no te hace caso\n"
          ]
        }
      ],
      "source": [
        "# pedir que se siente con nombre diferente al suyo y analizar resultados\n",
        "mi_perro.sit('mufasa')"
      ]
    },
    {
      "cell_type": "code",
      "execution_count": null,
      "metadata": {
        "id": "opvyX50NYwEd"
      },
      "outputs": [],
      "source": [
        "# imprimir energia\n",
        "mi_perro.energia"
      ]
    },
    {
      "cell_type": "code",
      "execution_count": null,
      "metadata": {
        "id": "8OF2uzJ0YwEd"
      },
      "outputs": [],
      "source": [
        "# pedir que se siente con su nombre\n",
        "mi_perro.sit('simba')"
      ]
    },
    {
      "cell_type": "code",
      "execution_count": null,
      "metadata": {
        "id": "QU56BQOAYwEd"
      },
      "outputs": [],
      "source": [
        "# imprimir energia\n",
        "mi_perro.energia"
      ]
    },
    {
      "attachments": {},
      "cell_type": "markdown",
      "metadata": {
        "id": "y3roeDCKYwEe"
      },
      "source": [
        "<font color='green'> <b>Ejercicio:</b> Recuperar la creación de la clase del coche y añadamos un método que sea 'run' y que reciba dos parametros 'origen' y 'destino'. Si el origen y el destino son diferentes hacemos un print de 'Vamos de camino' y bajamos la gasolina en dos unidades</div>"
      ]
    },
    {
      "cell_type": "code",
      "execution_count": 36,
      "metadata": {
        "id": "YgguQAEmYwEe"
      },
      "outputs": [],
      "source": [
        "# crear clase\n",
        "\n",
        "# definir clase\n",
        "class coche:\n",
        "    nombre = 'bicho'\n",
        "    tamaño = 'infinito'\n",
        "    modelo = 'BMW X4'\n",
        "    color = 'rojo'\n",
        "    gasolina = 100\n",
        "\n",
        "    def run(self, origen, destino):\n",
        "\n",
        "        if origen != destino:\n",
        "            print('Vamos de camino')\n",
        "            self.gasolina -= 2\n",
        "\n",
        "        else:\n",
        "            print('Aún no hemos salido')\n",
        "\n",
        "        \n",
        "\n"
      ]
    },
    {
      "cell_type": "code",
      "execution_count": 37,
      "metadata": {
        "id": "LR35JyQVYwEe"
      },
      "outputs": [],
      "source": [
        "# instanciar clase\n",
        "mi_coche = coche()"
      ]
    },
    {
      "cell_type": "code",
      "execution_count": 38,
      "metadata": {
        "id": "50VLI3LVYwEe"
      },
      "outputs": [
        {
          "name": "stdout",
          "output_type": "stream",
          "text": [
            "Aún no hemos salido\n"
          ]
        }
      ],
      "source": [
        "# ejectuar el metodo run con orgien y detinos iguales\n",
        "mi_coche.run('albacete','albacete')\n"
      ]
    },
    {
      "cell_type": "code",
      "execution_count": 39,
      "metadata": {
        "id": "KSbBy34BYwEe"
      },
      "outputs": [
        {
          "data": {
            "text/plain": [
              "100"
            ]
          },
          "execution_count": 39,
          "metadata": {},
          "output_type": "execute_result"
        }
      ],
      "source": [
        "# imprimir atributo gasolina\n",
        "mi_coche.gasolina"
      ]
    },
    {
      "cell_type": "code",
      "execution_count": 40,
      "metadata": {
        "id": "_KbQgBuqYwEe"
      },
      "outputs": [
        {
          "name": "stdout",
          "output_type": "stream",
          "text": [
            "Vamos de camino\n"
          ]
        }
      ],
      "source": [
        "# ejectuar el metodo run con orgien y detinos diferentes\n",
        "mi_coche.run('madrid','albacete')"
      ]
    },
    {
      "cell_type": "code",
      "execution_count": 41,
      "metadata": {
        "id": "scs45dPFYwEf"
      },
      "outputs": [
        {
          "data": {
            "text/plain": [
              "98"
            ]
          },
          "execution_count": 41,
          "metadata": {},
          "output_type": "execute_result"
        }
      ],
      "source": [
        "# imprimir atributo gasolina\n",
        "mi_coche.gasolina"
      ]
    },
    {
      "attachments": {},
      "cell_type": "markdown",
      "metadata": {
        "id": "0EIe30epYwEf"
      },
      "source": [
        "Instanciando la clase anterior todos tendremos el mismo perro con el mismo nombre y la misma raza ... Veamos cómo podemos crear una clase más genérica."
      ]
    },
    {
      "cell_type": "code",
      "execution_count": 42,
      "metadata": {
        "id": "o2cEkcgbYwEf"
      },
      "outputs": [],
      "source": [
        "class DogVecino:\n",
        "    nombre = 'simba'\n",
        "    edad = 1\n",
        "    raza = 'golden retriever'\n",
        "    energia = 15"
      ]
    },
    {
      "cell_type": "code",
      "execution_count": 43,
      "metadata": {
        "id": "TjPr3YnZYwEf"
      },
      "outputs": [],
      "source": [
        "perro_vecino = DogVecino()"
      ]
    },
    {
      "cell_type": "code",
      "execution_count": 44,
      "metadata": {
        "id": "vm253l3qYwEf"
      },
      "outputs": [
        {
          "data": {
            "text/plain": [
              "'simba'"
            ]
          },
          "execution_count": 44,
          "metadata": {},
          "output_type": "execute_result"
        }
      ],
      "source": [
        "perro_vecino.nombre"
      ]
    },
    {
      "cell_type": "code",
      "execution_count": 45,
      "metadata": {
        "id": "w_xdMHciYwEf"
      },
      "outputs": [],
      "source": [
        "perro_primo = DogVecino()"
      ]
    },
    {
      "cell_type": "code",
      "execution_count": 46,
      "metadata": {
        "id": "cdng_YTtYwEf"
      },
      "outputs": [
        {
          "data": {
            "text/plain": [
              "'simba'"
            ]
          },
          "execution_count": 46,
          "metadata": {},
          "output_type": "execute_result"
        }
      ],
      "source": [
        "perro_primo.nombre"
      ]
    },
    {
      "attachments": {},
      "cell_type": "markdown",
      "metadata": {
        "id": "PLtWCn70YwEf"
      },
      "source": [
        "En las clases de Python tenemos métodos especiales. Nos enfocaremos en `__init__`"
      ]
    },
    {
      "cell_type": "code",
      "execution_count": 47,
      "metadata": {
        "id": "LDSZz8S8YwEg"
      },
      "outputs": [],
      "source": [
        "class Dog:\n",
        "    def __init__(self, name, age, energy=15):\n",
        "        self.nombre = name\n",
        "        self.edad = age\n",
        "        self.energia = energy"
      ]
    },
    {
      "cell_type": "code",
      "execution_count": 48,
      "metadata": {
        "id": "BasyuufcYwEg"
      },
      "outputs": [
        {
          "ename": "TypeError",
          "evalue": "Dog.__init__() missing 2 required positional arguments: 'name' and 'age'",
          "output_type": "error",
          "traceback": [
            "\u001b[0;31m---------------------------------------------------------------------------\u001b[0m",
            "\u001b[0;31mTypeError\u001b[0m                                 Traceback (most recent call last)",
            "Cell \u001b[0;32mIn[48], line 1\u001b[0m\n\u001b[0;32m----> 1\u001b[0m mi_perro \u001b[39m=\u001b[39m Dog()\n",
            "\u001b[0;31mTypeError\u001b[0m: Dog.__init__() missing 2 required positional arguments: 'name' and 'age'"
          ]
        }
      ],
      "source": [
        "mi_perro = Dog()"
      ]
    },
    {
      "attachments": {},
      "cell_type": "markdown",
      "metadata": {
        "id": "WWnRwV3NYwEg"
      },
      "source": [
        "Es necesario añadir estos dos argumentos para poder instanciar la clase"
      ]
    },
    {
      "cell_type": "code",
      "execution_count": 49,
      "metadata": {
        "id": "b2IaqBbIYwEg"
      },
      "outputs": [],
      "source": [
        "mi_perro = Dog('simba',2)"
      ]
    },
    {
      "cell_type": "code",
      "execution_count": 50,
      "metadata": {
        "id": "NhV2CkBrYwEg"
      },
      "outputs": [
        {
          "data": {
            "text/plain": [
              "'simba'"
            ]
          },
          "execution_count": 50,
          "metadata": {},
          "output_type": "execute_result"
        }
      ],
      "source": [
        "mi_perro.nombre"
      ]
    },
    {
      "cell_type": "code",
      "execution_count": 51,
      "metadata": {
        "id": "CSZl1lCeYwEg"
      },
      "outputs": [],
      "source": [
        "mi_segundo_perro = Dog('mufasa', 3)"
      ]
    },
    {
      "cell_type": "code",
      "execution_count": 52,
      "metadata": {
        "id": "_MlQUZ9pYwEh"
      },
      "outputs": [
        {
          "data": {
            "text/plain": [
              "'mufasa'"
            ]
          },
          "execution_count": 52,
          "metadata": {},
          "output_type": "execute_result"
        }
      ],
      "source": [
        "mi_segundo_perro.nombre"
      ]
    },
    {
      "cell_type": "code",
      "execution_count": 53,
      "metadata": {
        "id": "R83Mamk5YwEh"
      },
      "outputs": [
        {
          "data": {
            "text/plain": [
              "15"
            ]
          },
          "execution_count": 53,
          "metadata": {},
          "output_type": "execute_result"
        }
      ],
      "source": [
        "mi_segundo_perro.energia"
      ]
    },
    {
      "attachments": {},
      "cell_type": "markdown",
      "metadata": {
        "id": "5lsgmutuYwEh"
      },
      "source": [
        "<font color='green'> <b>Ejercicio:</b> Añadamos __init__ a la clase de coche</div>"
      ]
    },
    {
      "cell_type": "code",
      "execution_count": 55,
      "metadata": {
        "id": "SLdPMuFHYwEh"
      },
      "outputs": [],
      "source": [
        "# crear clase\n",
        "class coche:\n",
        "    def __init__(self, name, model, colour):\n",
        "        self.nombre = name\n",
        "        self.modelo = model\n",
        "        self.color = colour\n",
        "        "
      ]
    },
    {
      "cell_type": "code",
      "execution_count": 56,
      "metadata": {
        "id": "QoXca1zxYwEh"
      },
      "outputs": [],
      "source": [
        "# instanciar clase\n",
        "coche1 = coche('bicho','BMW X4','rojo')"
      ]
    },
    {
      "cell_type": "code",
      "execution_count": 59,
      "metadata": {
        "id": "4yrNuweWYwEh"
      },
      "outputs": [
        {
          "data": {
            "text/plain": [
              "('BMW X4', 'rojo')"
            ]
          },
          "execution_count": 59,
          "metadata": {},
          "output_type": "execute_result"
        }
      ],
      "source": [
        "# imprimir modelo y color\n",
        "\n",
        "coche1.modelo,coche1.color"
      ]
    },
    {
      "cell_type": "code",
      "execution_count": 60,
      "metadata": {
        "id": "QpI38T_pYwEh"
      },
      "outputs": [],
      "source": [
        "# instanciar clase con diferentes valores y almacenarlo en una variable nueva\n",
        "coche2 = coche('audi','Q3','blanco')"
      ]
    },
    {
      "cell_type": "code",
      "execution_count": 61,
      "metadata": {
        "id": "VvQSutHbYwEi"
      },
      "outputs": [
        {
          "data": {
            "text/plain": [
              "('Q3', 'blanco')"
            ]
          },
          "execution_count": 61,
          "metadata": {},
          "output_type": "execute_result"
        }
      ],
      "source": [
        "# imprimir modelo y color de la segunda variable\n",
        "coche2.modelo,coche2.color"
      ]
    },
    {
      "attachments": {},
      "cell_type": "markdown",
      "metadata": {
        "id": "NDWCvGrKYwEi"
      },
      "source": [
        "<b> Herencia </b> de los objetos. Cada clase puede tener una clase de la que hereda sus atributos y sus métodos. Coche al igual que moto son vehículos a motor. Un perro al igual que un caballo son mamíferos. ¿Como se traduce esto a código?"
      ]
    },
    {
      "cell_type": "code",
      "execution_count": 62,
      "metadata": {
        "id": "8_nb9el4YwEi"
      },
      "outputs": [],
      "source": [
        "class Mamifero:\n",
        "    def __init__(self, pais_origen):\n",
        "        self.vida = True\n",
        "        self.procedencia = pais_origen\n",
        "\n",
        "    def respirar(self):\n",
        "        if self.vida == True:\n",
        "            print('El mamifero respira')\n",
        "        else:\n",
        "            print('El mamifero no respira')\n"
      ]
    },
    {
      "cell_type": "code",
      "execution_count": 63,
      "metadata": {
        "id": "2a5EA4PuYwEi"
      },
      "outputs": [],
      "source": [
        "var_mamifero = Mamifero('Madagascar')"
      ]
    },
    {
      "cell_type": "code",
      "execution_count": 64,
      "metadata": {
        "id": "3QJMOyh1YwEi"
      },
      "outputs": [
        {
          "data": {
            "text/plain": [
              "True"
            ]
          },
          "execution_count": 64,
          "metadata": {},
          "output_type": "execute_result"
        }
      ],
      "source": [
        "var_mamifero.vida"
      ]
    },
    {
      "cell_type": "code",
      "execution_count": 65,
      "metadata": {
        "id": "2S1pPuW4YwEi"
      },
      "outputs": [
        {
          "data": {
            "text/plain": [
              "'Madagascar'"
            ]
          },
          "execution_count": 65,
          "metadata": {},
          "output_type": "execute_result"
        }
      ],
      "source": [
        "var_mamifero.procedencia"
      ]
    },
    {
      "cell_type": "code",
      "execution_count": 66,
      "metadata": {
        "id": "GEhbNhZyYwEi"
      },
      "outputs": [
        {
          "name": "stdout",
          "output_type": "stream",
          "text": [
            "El mamifero respira\n"
          ]
        }
      ],
      "source": [
        "var_mamifero.respirar()"
      ]
    },
    {
      "attachments": {},
      "cell_type": "markdown",
      "metadata": {
        "id": "_I28SMNAYwEj"
      },
      "source": [
        "Hacemos que la clase Dog herede de Mamifero"
      ]
    },
    {
      "cell_type": "code",
      "execution_count": 67,
      "metadata": {
        "id": "S1KbkIhVYwEj"
      },
      "outputs": [],
      "source": [
        "class Dog(Mamifero):\n",
        "    def __init__(self, name, age, pais_origen):\n",
        "        Mamifero.__init__(self, pais_origen)\n",
        "        self.nombre = name\n",
        "        self.edad = age\n",
        "        self.energia = 15\n",
        "\n",
        "    def sit(self, name_dog):\n",
        "        if name_dog == self.nombre:\n",
        "            print('El perro se ha sentado')\n",
        "        else:\n",
        "            print('El perro no te hace caso')"
      ]
    },
    {
      "cell_type": "code",
      "execution_count": 68,
      "metadata": {
        "id": "IgNt1tpjYwEj"
      },
      "outputs": [],
      "source": [
        "# Instanciar la nueva clase que habeis creado\n",
        "mi_perro = Dog('simba', 1, 'madagascar')"
      ]
    },
    {
      "cell_type": "code",
      "execution_count": 69,
      "metadata": {
        "id": "9DUByrVZYwEj"
      },
      "outputs": [
        {
          "data": {
            "text/plain": [
              "True"
            ]
          },
          "execution_count": 69,
          "metadata": {},
          "output_type": "execute_result"
        }
      ],
      "source": [
        "mi_perro.vida"
      ]
    },
    {
      "cell_type": "code",
      "execution_count": 70,
      "metadata": {
        "id": "lqYsR2PNYwEj"
      },
      "outputs": [
        {
          "name": "stdout",
          "output_type": "stream",
          "text": [
            "El mamifero respira\n"
          ]
        }
      ],
      "source": [
        "mi_perro.respirar()"
      ]
    },
    {
      "attachments": {},
      "cell_type": "markdown",
      "metadata": {
        "id": "rEPzPjseYwEk"
      },
      "source": [
        "<font color='#4863A0'>  <b>Ejercicio en Casa:</b> Creamos una clase persona con dos atributos que definimos en __init__ estos son:\n",
        "<ul> <font color='#4863A0'>\n",
        "<li>nombre</li>\n",
        "<li>fecha de nacimiento (dd/mm/aaaa)</li>\n",
        "<li>nota examen</li>\n",
        "<li>energía</li>\n",
        "</ul>\n",
        "\n",
        "<font color='#4863A0'> <br>Añadimos un método que sea estudiar y que reciba como parámetro 'horas'. Cada vez que llamemos al método haremos un print para informar que está estudiando y a la energía le restaremos las horas de estudio. Adicionalmente sumamos a la nota del examen un 0,5 de las horas estudiadas. Si la nota es superior a 9 haremos un print indicando que no quiere estudiar más.\n"
      ]
    },
    {
      "cell_type": "code",
      "execution_count": null,
      "metadata": {
        "id": "27jcD35qYwEk"
      },
      "outputs": [],
      "source": []
    }
  ],
  "metadata": {
    "colab": {
      "provenance": []
    },
    "kernelspec": {
      "display_name": "Python 3 (ipykernel)",
      "language": "python",
      "name": "python3"
    },
    "language_info": {
      "codemirror_mode": {
        "name": "ipython",
        "version": 3
      },
      "file_extension": ".py",
      "mimetype": "text/x-python",
      "name": "python",
      "nbconvert_exporter": "python",
      "pygments_lexer": "ipython3",
      "version": "3.10.7"
    }
  },
  "nbformat": 4,
  "nbformat_minor": 0
}
