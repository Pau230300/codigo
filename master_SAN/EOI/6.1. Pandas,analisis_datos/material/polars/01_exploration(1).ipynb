{
 "cells": [
  {
   "cell_type": "markdown",
   "id": "1ed45c32",
   "metadata": {},
   "source": [
    "# Polars\n",
    "\n",
    "Motivación: \n",
    "- https://h2oai.github.io/db-benchmark/\n",
    "- https://arrow.apache.org/ https://maximilianmichels.com/2020/apache-arrow-the-hidden-champion/\n",
    "\n",
    "\n",
    "- **Guía rápida** - https://pola-rs.github.io/polars-book/user-guide/quickstart/quick-exploration-guide.html\n",
    "- **Guía de usuario** https://pola-rs.github.io/polars-book/user-guide/index.html\n",
    "- **Referencia de API** https://pola-rs.github.io/polars/py-polars/html/reference/\n",
    "- **Coming from pandas** - https://pola-rs.github.io/polars-book/user-guide/coming_from_pandas.html"
   ]
  },
  {
   "cell_type": "code",
   "execution_count": 39,
   "id": "262a8ac5",
   "metadata": {
    "ExecuteTime": {
     "end_time": "2023-01-24T20:19:53.928841Z",
     "start_time": "2023-01-24T20:19:53.923861Z"
    }
   },
   "outputs": [],
   "source": [
    "# !pip install -U polars"
   ]
  },
  {
   "cell_type": "code",
   "execution_count": 1,
   "id": "b716bfc2",
   "metadata": {
    "ExecuteTime": {
     "end_time": "2023-12-12T19:38:01.407490Z",
     "start_time": "2023-12-12T19:38:01.219546Z"
    }
   },
   "outputs": [],
   "source": [
    "import polars as pl\n",
    "import numpy as np\n",
    "from datetime import datetime, timedelta"
   ]
  },
  {
   "cell_type": "code",
   "execution_count": 2,
   "id": "977fcce6",
   "metadata": {
    "ExecuteTime": {
     "end_time": "2023-12-12T19:38:02.449648Z",
     "start_time": "2023-12-12T19:38:01.802964Z"
    }
   },
   "outputs": [
    {
     "name": "stdout",
     "output_type": "stream",
     "text": [
      "--------Version info---------\n",
      "Polars:               0.19.19\n",
      "Index type:           UInt32\n",
      "Platform:             Linux-6.1.0-13-amd64-x86_64-with-glibc2.36\n",
      "Python:               3.9.13 (main, Aug 25 2022, 23:26:10) \n",
      "[GCC 11.2.0]\n",
      "\n",
      "----Optional dependencies----\n",
      "adbc_driver_manager:  <not installed>\n",
      "cloudpickle:          2.2.1\n",
      "connectorx:           <not installed>\n",
      "deltalake:            <not installed>\n",
      "fsspec:               2022.7.1\n",
      "gevent:               23.9.1\n",
      "matplotlib:           3.5.2\n",
      "numpy:                1.22.4\n",
      "openpyxl:             3.0.9\n",
      "pandas:               1.5.3\n",
      "pyarrow:              13.0.0\n",
      "pydantic:             1.8.2\n",
      "pyiceberg:            <not installed>\n",
      "pyxlsb:               <not installed>\n",
      "sqlalchemy:           1.4.39\n",
      "xlsx2csv:             <not installed>\n",
      "xlsxwriter:           3.1.9\n"
     ]
    }
   ],
   "source": [
    "pl.show_versions()"
   ]
  },
  {
   "cell_type": "code",
   "execution_count": 3,
   "id": "31b44d5a",
   "metadata": {
    "ExecuteTime": {
     "end_time": "2023-12-12T19:38:41.739679Z",
     "start_time": "2023-12-12T19:38:41.727991Z"
    }
   },
   "outputs": [
    {
     "data": {
      "text/html": [
       "<div><style>\n",
       ".dataframe > thead > tr,\n",
       ".dataframe > tbody > tr {\n",
       "  text-align: right;\n",
       "  white-space: pre-wrap;\n",
       "}\n",
       "</style>\n",
       "<small>shape: (5,)</small><table border=\"1\" class=\"dataframe\"><thead><tr><th>a</th></tr><tr><td>u64</td></tr></thead><tbody><tr><td>1</td></tr><tr><td>2</td></tr><tr><td>3</td></tr><tr><td>4</td></tr><tr><td>5</td></tr></tbody></table></div>"
      ],
      "text/plain": [
       "shape: (5,)\n",
       "Series: 'a' [u64]\n",
       "[\n",
       "\t1\n",
       "\t2\n",
       "\t3\n",
       "\t4\n",
       "\t5\n",
       "]"
      ]
     },
     "execution_count": 3,
     "metadata": {},
     "output_type": "execute_result"
    }
   ],
   "source": [
    "# with a tuple\n",
    "series = pl.Series(\"a\", [1, 2, 3, 4, 5], dtype=pl.UInt64)\n",
    "\n",
    "series"
   ]
  },
  {
   "cell_type": "code",
   "execution_count": 4,
   "id": "3044498d",
   "metadata": {
    "ExecuteTime": {
     "end_time": "2023-12-12T19:43:17.086593Z",
     "start_time": "2023-12-12T19:43:17.060295Z"
    }
   },
   "outputs": [
    {
     "data": {
      "text/html": [
       "<div><style>\n",
       ".dataframe > thead > tr,\n",
       ".dataframe > tbody > tr {\n",
       "  text-align: right;\n",
       "  white-space: pre-wrap;\n",
       "}\n",
       "</style>\n",
       "<small>shape: (3, 3)</small><table border=\"1\" class=\"dataframe\"><thead><tr><th>integer</th><th>date</th><th>float</th></tr><tr><td>i64</td><td>datetime[μs]</td><td>f64</td></tr></thead><tbody><tr><td>1</td><td>2022-01-01 00:00:00</td><td>4.0</td></tr><tr><td>2</td><td>2022-01-02 00:00:00</td><td>5.0</td></tr><tr><td>3</td><td>2022-01-03 00:00:00</td><td>6.0</td></tr></tbody></table></div>"
      ],
      "text/plain": [
       "shape: (3, 3)\n",
       "┌─────────┬─────────────────────┬───────┐\n",
       "│ integer ┆ date                ┆ float │\n",
       "│ ---     ┆ ---                 ┆ ---   │\n",
       "│ i64     ┆ datetime[μs]        ┆ f64   │\n",
       "╞═════════╪═════════════════════╪═══════╡\n",
       "│ 1       ┆ 2022-01-01 00:00:00 ┆ 4.0   │\n",
       "│ 2       ┆ 2022-01-02 00:00:00 ┆ 5.0   │\n",
       "│ 3       ┆ 2022-01-03 00:00:00 ┆ 6.0   │\n",
       "└─────────┴─────────────────────┴───────┘"
      ]
     },
     "execution_count": 4,
     "metadata": {},
     "output_type": "execute_result"
    }
   ],
   "source": [
    "dataframe = pl.DataFrame({\"integer\": [1, 2, 3], \n",
    "                          \"date\": [\n",
    "                              (datetime(2022, 1, 1)), \n",
    "                              (datetime(2022, 1, 2)), \n",
    "                              (datetime(2022, 1, 3))\n",
    "                          ], \n",
    "                          \"float\":[4.0, 5.0, 6.0]})\n",
    "dataframe"
   ]
  },
  {
   "cell_type": "code",
   "execution_count": 6,
   "id": "e10a1ec1",
   "metadata": {
    "ExecuteTime": {
     "end_time": "2023-12-12T19:45:04.628201Z",
     "start_time": "2023-12-12T19:45:04.622693Z"
    }
   },
   "outputs": [
    {
     "data": {
      "text/html": [
       "<div><style>\n",
       ".dataframe > thead > tr,\n",
       ".dataframe > tbody > tr {\n",
       "  text-align: right;\n",
       "  white-space: pre-wrap;\n",
       "}\n",
       "</style>\n",
       "<small>shape: (1, 1)</small><table border=\"1\" class=\"dataframe\"><thead><tr><th>a</th></tr><tr><td>struct[3]</td></tr></thead><tbody><tr><td>{1.0,&quot;hola&quot;,[5, 6, 7]}</td></tr></tbody></table></div>"
      ],
      "text/plain": [
       "shape: (1, 1)\n",
       "┌────────────────────────┐\n",
       "│ a                      │\n",
       "│ ---                    │\n",
       "│ struct[3]              │\n",
       "╞════════════════════════╡\n",
       "│ {1.0,\"hola\",[5, 6, 7]} │\n",
       "└────────────────────────┘"
      ]
     },
     "execution_count": 6,
     "metadata": {},
     "output_type": "execute_result"
    }
   ],
   "source": [
    "df = pl.DataFrame(\n",
    "    {\"a\":  [{\"t\": 1.0, \"u\": \"hola\", \"i\": [5,6,7]}]}\n",
    ")\n",
    "df"
   ]
  },
  {
   "cell_type": "code",
   "execution_count": 7,
   "id": "e33a741d",
   "metadata": {
    "ExecuteTime": {
     "end_time": "2023-12-12T19:45:23.491897Z",
     "start_time": "2023-12-12T19:45:23.484875Z"
    }
   },
   "outputs": [
    {
     "data": {
      "text/plain": [
       "OrderedDict([('a',\n",
       "              Struct([Field('t', Float64), Field('u', Utf8), Field('i', List(Int64))]))])"
      ]
     },
     "execution_count": 7,
     "metadata": {},
     "output_type": "execute_result"
    }
   ],
   "source": [
    "df.schema"
   ]
  },
  {
   "cell_type": "code",
   "execution_count": 8,
   "id": "0d6c8b8c",
   "metadata": {
    "ExecuteTime": {
     "end_time": "2023-12-12T19:46:03.272596Z",
     "start_time": "2023-12-12T19:46:03.265912Z"
    }
   },
   "outputs": [
    {
     "data": {
      "text/html": [
       "<div><style>\n",
       ".dataframe > thead > tr,\n",
       ".dataframe > tbody > tr {\n",
       "  text-align: right;\n",
       "  white-space: pre-wrap;\n",
       "}\n",
       "</style>\n",
       "<small>shape: (1, 3)</small><table border=\"1\" class=\"dataframe\"><thead><tr><th>t</th><th>u</th><th>i</th></tr><tr><td>f64</td><td>str</td><td>list[i64]</td></tr></thead><tbody><tr><td>1.0</td><td>&quot;hola&quot;</td><td>[5, 6, 7]</td></tr></tbody></table></div>"
      ],
      "text/plain": [
       "shape: (1, 3)\n",
       "┌─────┬──────┬───────────┐\n",
       "│ t   ┆ u    ┆ i         │\n",
       "│ --- ┆ ---  ┆ ---       │\n",
       "│ f64 ┆ str  ┆ list[i64] │\n",
       "╞═════╪══════╪═══════════╡\n",
       "│ 1.0 ┆ hola ┆ [5, 6, 7] │\n",
       "└─────┴──────┴───────────┘"
      ]
     },
     "execution_count": 8,
     "metadata": {},
     "output_type": "execute_result"
    }
   ],
   "source": [
    "df.unnest('a')"
   ]
  },
  {
   "cell_type": "code",
   "execution_count": 13,
   "id": "7e675267",
   "metadata": {
    "ExecuteTime": {
     "end_time": "2023-12-12T19:52:33.039205Z",
     "start_time": "2023-12-12T19:52:33.033986Z"
    }
   },
   "outputs": [],
   "source": [
    "dataframe.write_parquet('output.parquet')"
   ]
  },
  {
   "cell_type": "code",
   "execution_count": 15,
   "id": "f07b51e6",
   "metadata": {
    "ExecuteTime": {
     "end_time": "2023-12-12T19:52:49.201657Z",
     "start_time": "2023-12-12T19:52:49.195171Z"
    }
   },
   "outputs": [
    {
     "data": {
      "text/plain": [
       "polars.dataframe.frame.DataFrame"
      ]
     },
     "execution_count": 15,
     "metadata": {},
     "output_type": "execute_result"
    }
   ],
   "source": [
    "loaded_df = pl.read_parquet('output.parquet')\n",
    "type(loaded_df)"
   ]
  },
  {
   "cell_type": "code",
   "execution_count": 16,
   "id": "86b3f1d3",
   "metadata": {
    "ExecuteTime": {
     "end_time": "2023-12-12T19:52:57.990422Z",
     "start_time": "2023-12-12T19:52:57.984069Z"
    }
   },
   "outputs": [
    {
     "data": {
      "text/plain": [
       "polars.lazyframe.frame.LazyFrame"
      ]
     },
     "execution_count": 16,
     "metadata": {},
     "output_type": "execute_result"
    }
   ],
   "source": [
    "lazy_df = pl.scan_parquet('output.parquet')\n",
    "type(lazy_df)"
   ]
  },
  {
   "cell_type": "code",
   "execution_count": 17,
   "id": "a7f9c56b",
   "metadata": {
    "ExecuteTime": {
     "end_time": "2023-12-12T19:53:03.008981Z",
     "start_time": "2023-12-12T19:53:03.002326Z"
    }
   },
   "outputs": [
    {
     "data": {
      "text/html": [
       "<div><style>\n",
       ".dataframe > thead > tr,\n",
       ".dataframe > tbody > tr {\n",
       "  text-align: right;\n",
       "  white-space: pre-wrap;\n",
       "}\n",
       "</style>\n",
       "<small>shape: (3, 3)</small><table border=\"1\" class=\"dataframe\"><thead><tr><th>integer</th><th>date</th><th>float</th></tr><tr><td>i64</td><td>datetime[μs]</td><td>f64</td></tr></thead><tbody><tr><td>1</td><td>2022-01-01 00:00:00</td><td>4.0</td></tr><tr><td>2</td><td>2022-01-02 00:00:00</td><td>5.0</td></tr><tr><td>3</td><td>2022-01-03 00:00:00</td><td>6.0</td></tr></tbody></table></div>"
      ],
      "text/plain": [
       "shape: (3, 3)\n",
       "┌─────────┬─────────────────────┬───────┐\n",
       "│ integer ┆ date                ┆ float │\n",
       "│ ---     ┆ ---                 ┆ ---   │\n",
       "│ i64     ┆ datetime[μs]        ┆ f64   │\n",
       "╞═════════╪═════════════════════╪═══════╡\n",
       "│ 1       ┆ 2022-01-01 00:00:00 ┆ 4.0   │\n",
       "│ 2       ┆ 2022-01-02 00:00:00 ┆ 5.0   │\n",
       "│ 3       ┆ 2022-01-03 00:00:00 ┆ 6.0   │\n",
       "└─────────┴─────────────────────┴───────┘"
      ]
     },
     "execution_count": 17,
     "metadata": {},
     "output_type": "execute_result"
    }
   ],
   "source": [
    "loaded_df"
   ]
  },
  {
   "cell_type": "code",
   "execution_count": 18,
   "id": "547a19b8",
   "metadata": {
    "ExecuteTime": {
     "end_time": "2023-12-12T19:53:09.406715Z",
     "start_time": "2023-12-12T19:53:09.347300Z"
    }
   },
   "outputs": [
    {
     "data": {
      "text/html": [
       "<h4>NAIVE QUERY PLAN</h4><p>run <b>LazyFrame.show_graph()</b> to see the optimized version</p><?xml version=\"1.0\" encoding=\"UTF-8\" standalone=\"no\"?>\n",
       "<!DOCTYPE svg PUBLIC \"-//W3C//DTD SVG 1.1//EN\"\n",
       " \"http://www.w3.org/Graphics/SVG/1.1/DTD/svg11.dtd\">\n",
       "<!-- Generated by graphviz version 2.43.0 (0)\n",
       " -->\n",
       "<!-- Title: polars_query Pages: 1 -->\n",
       "<svg width=\"250pt\" height=\"61pt\"\n",
       " viewBox=\"0.00 0.00 250.00 61.00\" xmlns=\"http://www.w3.org/2000/svg\" xmlns:xlink=\"http://www.w3.org/1999/xlink\">\n",
       "<g id=\"graph0\" class=\"graph\" transform=\"scale(1 1) rotate(0) translate(4 57)\">\n",
       "<title>polars_query</title>\n",
       "<polygon fill=\"white\" stroke=\"transparent\" points=\"-4,4 -4,-57 246,-57 246,4 -4,4\"/>\n",
       "<!-- [Parquet SCAN output.parquet;\n",
       "π */3;\n",
       "σ &#45;] -->\n",
       "<g id=\"node1\" class=\"node\">\n",
       "<title>[Parquet SCAN output.parquet;\n",
       "π */3;\n",
       "σ &#45;]</title>\n",
       "<polygon fill=\"none\" stroke=\"black\" points=\"242,-53 0,-53 0,0 242,0 242,-53\"/>\n",
       "<text text-anchor=\"middle\" x=\"121\" y=\"-37.8\" font-family=\"Times,serif\" font-size=\"14.00\">[Parquet SCAN output.parquet;</text>\n",
       "<text text-anchor=\"middle\" x=\"121\" y=\"-22.8\" font-family=\"Times,serif\" font-size=\"14.00\">π */3;</text>\n",
       "<text text-anchor=\"middle\" x=\"121\" y=\"-7.8\" font-family=\"Times,serif\" font-size=\"14.00\">σ &#45;]</text>\n",
       "</g>\n",
       "</g>\n",
       "</svg>\n"
      ],
      "text/plain": [
       "<LazyFrame [3 cols, {\"integer\": Int64 … \"float\": Float64}] at 0x7F2C954CCC40>"
      ]
     },
     "execution_count": 18,
     "metadata": {},
     "output_type": "execute_result"
    }
   ],
   "source": [
    "lazy_df"
   ]
  },
  {
   "cell_type": "code",
   "execution_count": 19,
   "id": "e103e31a",
   "metadata": {
    "ExecuteTime": {
     "end_time": "2023-12-12T19:53:24.717158Z",
     "start_time": "2023-12-12T19:53:24.658839Z"
    }
   },
   "outputs": [
    {
     "data": {
      "image/svg+xml": [
       "<svg xmlns=\"http://www.w3.org/2000/svg\" xmlns:xlink=\"http://www.w3.org/1999/xlink\" width=\"250pt\" height=\"61pt\" viewBox=\"0.00 0.00 250.00 61.00\">\n",
       "<g id=\"graph0\" class=\"graph\" transform=\"scale(1 1) rotate(0) translate(4 57)\">\n",
       "<title>polars_query</title>\n",
       "<polygon fill=\"white\" stroke=\"transparent\" points=\"-4,4 -4,-57 246,-57 246,4 -4,4\"/>\n",
       "<!-- [Parquet SCAN output.parquet;\n",
       "π */3;\n",
       "σ &#45;] -->\n",
       "<g id=\"node1\" class=\"node\">\n",
       "<title>[Parquet SCAN output.parquet;\n",
       "π */3;\n",
       "σ -]</title>\n",
       "<polygon fill=\"none\" stroke=\"black\" points=\"242,-53 0,-53 0,0 242,0 242,-53\"/>\n",
       "<text text-anchor=\"middle\" x=\"121\" y=\"-37.8\" font-family=\"Times,serif\" font-size=\"14.00\">[Parquet SCAN output.parquet;</text>\n",
       "<text text-anchor=\"middle\" x=\"121\" y=\"-22.8\" font-family=\"Times,serif\" font-size=\"14.00\">π */3;</text>\n",
       "<text text-anchor=\"middle\" x=\"121\" y=\"-7.8\" font-family=\"Times,serif\" font-size=\"14.00\">σ -]</text>\n",
       "</g>\n",
       "</g>\n",
       "</svg>"
      ],
      "text/plain": [
       "<IPython.core.display.SVG object>"
      ]
     },
     "metadata": {},
     "output_type": "display_data"
    }
   ],
   "source": [
    "lazy_df.show_graph()"
   ]
  },
  {
   "cell_type": "code",
   "execution_count": 20,
   "id": "4a24db28",
   "metadata": {
    "ExecuteTime": {
     "end_time": "2023-12-12T19:53:44.374316Z",
     "start_time": "2023-12-12T19:53:44.345799Z"
    }
   },
   "outputs": [
    {
     "data": {
      "text/html": [
       "<div><style>\n",
       ".dataframe > thead > tr,\n",
       ".dataframe > tbody > tr {\n",
       "  text-align: right;\n",
       "  white-space: pre-wrap;\n",
       "}\n",
       "</style>\n",
       "<small>shape: (3, 3)</small><table border=\"1\" class=\"dataframe\"><thead><tr><th>integer</th><th>date</th><th>float</th></tr><tr><td>i64</td><td>datetime[μs]</td><td>f64</td></tr></thead><tbody><tr><td>1</td><td>2022-01-01 00:00:00</td><td>4.0</td></tr><tr><td>2</td><td>2022-01-02 00:00:00</td><td>5.0</td></tr><tr><td>3</td><td>2022-01-03 00:00:00</td><td>6.0</td></tr></tbody></table></div>"
      ],
      "text/plain": [
       "shape: (3, 3)\n",
       "┌─────────┬─────────────────────┬───────┐\n",
       "│ integer ┆ date                ┆ float │\n",
       "│ ---     ┆ ---                 ┆ ---   │\n",
       "│ i64     ┆ datetime[μs]        ┆ f64   │\n",
       "╞═════════╪═════════════════════╪═══════╡\n",
       "│ 1       ┆ 2022-01-01 00:00:00 ┆ 4.0   │\n",
       "│ 2       ┆ 2022-01-02 00:00:00 ┆ 5.0   │\n",
       "│ 3       ┆ 2022-01-03 00:00:00 ┆ 6.0   │\n",
       "└─────────┴─────────────────────┴───────┘"
      ]
     },
     "execution_count": 20,
     "metadata": {},
     "output_type": "execute_result"
    }
   ],
   "source": [
    "lazy_df.collect()"
   ]
  },
  {
   "cell_type": "markdown",
   "id": "bd6c9fd7",
   "metadata": {},
   "source": [
    "**EAGER vs LAZY**"
   ]
  },
  {
   "cell_type": "code",
   "execution_count": 11,
   "id": "853d7992",
   "metadata": {
    "ExecuteTime": {
     "end_time": "2023-12-12T19:47:37.127685Z",
     "start_time": "2023-12-12T19:47:37.117970Z"
    }
   },
   "outputs": [
    {
     "data": {
      "text/plain": [
       "polars.dataframe.frame.DataFrame"
      ]
     },
     "execution_count": 11,
     "metadata": {},
     "output_type": "execute_result"
    }
   ],
   "source": [
    "type(dataframe)"
   ]
  },
  {
   "cell_type": "code",
   "execution_count": 12,
   "id": "9c4399cd",
   "metadata": {
    "ExecuteTime": {
     "end_time": "2023-12-12T19:47:43.696043Z",
     "start_time": "2023-12-12T19:47:43.682651Z"
    }
   },
   "outputs": [
    {
     "data": {
      "text/plain": [
       "polars.lazyframe.frame.LazyFrame"
      ]
     },
     "execution_count": 12,
     "metadata": {},
     "output_type": "execute_result"
    }
   ],
   "source": [
    "type(lazy_df)"
   ]
  },
  {
   "cell_type": "code",
   "execution_count": 30,
   "id": "6f6bf6a7",
   "metadata": {
    "ExecuteTime": {
     "end_time": "2023-12-12T19:57:33.462678Z",
     "start_time": "2023-12-12T19:57:33.458005Z"
    }
   },
   "outputs": [
    {
     "data": {
      "text/plain": [
       "polars.expr.expr.Expr"
      ]
     },
     "execution_count": 30,
     "metadata": {},
     "output_type": "execute_result"
    }
   ],
   "source": [
    "type(pl.col('float') < 6.0)"
   ]
  },
  {
   "cell_type": "code",
   "execution_count": 23,
   "id": "0f0f02f6",
   "metadata": {
    "ExecuteTime": {
     "end_time": "2023-12-12T19:55:14.636355Z",
     "start_time": "2023-12-12T19:55:14.618486Z"
    }
   },
   "outputs": [
    {
     "data": {
      "text/html": [
       "<div><style>\n",
       ".dataframe > thead > tr,\n",
       ".dataframe > tbody > tr {\n",
       "  text-align: right;\n",
       "  white-space: pre-wrap;\n",
       "}\n",
       "</style>\n",
       "<small>shape: (2, 1)</small><table border=\"1\" class=\"dataframe\"><thead><tr><th>date</th></tr><tr><td>datetime[μs]</td></tr></thead><tbody><tr><td>2022-01-01 00:00:00</td></tr><tr><td>2022-01-02 00:00:00</td></tr></tbody></table></div>"
      ],
      "text/plain": [
       "shape: (2, 1)\n",
       "┌─────────────────────┐\n",
       "│ date                │\n",
       "│ ---                 │\n",
       "│ datetime[μs]        │\n",
       "╞═════════════════════╡\n",
       "│ 2022-01-01 00:00:00 │\n",
       "│ 2022-01-02 00:00:00 │\n",
       "└─────────────────────┘"
      ]
     },
     "execution_count": 23,
     "metadata": {},
     "output_type": "execute_result"
    }
   ],
   "source": [
    "lazy_df.filter(pl.col('float') < 6.0).select('date').collect()"
   ]
  },
  {
   "cell_type": "code",
   "execution_count": 26,
   "id": "e343947e",
   "metadata": {
    "ExecuteTime": {
     "end_time": "2023-12-12T19:55:39.653937Z",
     "start_time": "2023-12-12T19:55:39.641613Z"
    }
   },
   "outputs": [
    {
     "data": {
      "text/html": [
       "<div><style>\n",
       ".dataframe > thead > tr,\n",
       ".dataframe > tbody > tr {\n",
       "  text-align: right;\n",
       "  white-space: pre-wrap;\n",
       "}\n",
       "</style>\n",
       "<small>shape: (2, 1)</small><table border=\"1\" class=\"dataframe\"><thead><tr><th>date</th></tr><tr><td>datetime[μs]</td></tr></thead><tbody><tr><td>2022-01-01 00:00:00</td></tr><tr><td>2022-01-02 00:00:00</td></tr></tbody></table></div>"
      ],
      "text/plain": [
       "shape: (2, 1)\n",
       "┌─────────────────────┐\n",
       "│ date                │\n",
       "│ ---                 │\n",
       "│ datetime[μs]        │\n",
       "╞═════════════════════╡\n",
       "│ 2022-01-01 00:00:00 │\n",
       "│ 2022-01-02 00:00:00 │\n",
       "└─────────────────────┘"
      ]
     },
     "execution_count": 26,
     "metadata": {},
     "output_type": "execute_result"
    }
   ],
   "source": [
    "loaded_df.filter(pl.col('float') < 6.0).select('date')"
   ]
  },
  {
   "cell_type": "code",
   "execution_count": 28,
   "id": "8fb59aa8",
   "metadata": {
    "ExecuteTime": {
     "end_time": "2023-12-12T19:56:14.295270Z",
     "start_time": "2023-12-12T19:56:14.185864Z"
    }
   },
   "outputs": [
    {
     "data": {
      "text/html": [
       "<h4>NAIVE QUERY PLAN</h4><p>run <b>LazyFrame.show_graph()</b> to see the optimized version</p><?xml version=\"1.0\" encoding=\"UTF-8\" standalone=\"no\"?>\n",
       "<!DOCTYPE svg PUBLIC \"-//W3C//DTD SVG 1.1//EN\"\n",
       " \"http://www.w3.org/Graphics/SVG/1.1/DTD/svg11.dtd\">\n",
       "<!-- Generated by graphviz version 2.43.0 (0)\n",
       " -->\n",
       "<!-- Title: polars_query Pages: 1 -->\n",
       "<svg width=\"246pt\" height=\"205pt\"\n",
       " viewBox=\"0.00 0.00 246.00 205.00\" xmlns=\"http://www.w3.org/2000/svg\" xmlns:xlink=\"http://www.w3.org/1999/xlink\">\n",
       "<g id=\"graph0\" class=\"graph\" transform=\"scale(1 1) rotate(0) translate(4 201)\">\n",
       "<title>polars_query</title>\n",
       "<polygon fill=\"white\" stroke=\"transparent\" points=\"-4,4 -4,-201 242,-201 242,4 -4,4\"/>\n",
       "<!-- π 1/3 [(0, 0)] -->\n",
       "<g id=\"node1\" class=\"node\">\n",
       "<title>π 1/3 [(0, 0)]</title>\n",
       "<polygon fill=\"none\" stroke=\"black\" points=\"146,-197 92,-197 92,-161 146,-161 146,-197\"/>\n",
       "<text text-anchor=\"middle\" x=\"119\" y=\"-175.3\" font-family=\"Times,serif\" font-size=\"14.00\">π 1/3</text>\n",
       "</g>\n",
       "<!-- FILTER BY (col(&quot;float&quot;)) &lt; (6.0) [(0, 1)] -->\n",
       "<g id=\"node2\" class=\"node\">\n",
       "<title>FILTER BY (col(&quot;float&quot;)) &lt; (6.0) [(0, 1)]</title>\n",
       "<polygon fill=\"none\" stroke=\"black\" points=\"238,-125 0,-125 0,-89 238,-89 238,-125\"/>\n",
       "<text text-anchor=\"middle\" x=\"119\" y=\"-103.3\" font-family=\"Times,serif\" font-size=\"14.00\">FILTER BY (col(&quot;float&quot;)) &lt; (6.0)</text>\n",
       "</g>\n",
       "<!-- π 1/3 [(0, 0)]&#45;&#45;FILTER BY (col(&quot;float&quot;)) &lt; (6.0) [(0, 1)] -->\n",
       "<g id=\"edge1\" class=\"edge\">\n",
       "<title>π 1/3 [(0, 0)]&#45;&#45;FILTER BY (col(&quot;float&quot;)) &lt; (6.0) [(0, 1)]</title>\n",
       "<path fill=\"none\" stroke=\"black\" d=\"M119,-160.7C119,-149.85 119,-135.92 119,-125.1\"/>\n",
       "</g>\n",
       "<!-- Parquet SCAN output.parquet;\n",
       "π */3;\n",
       "σ &#45; [(0, 2)] -->\n",
       "<g id=\"node3\" class=\"node\">\n",
       "<title>Parquet SCAN output.parquet;\n",
       "π */3;\n",
       "σ &#45; [(0, 2)]</title>\n",
       "<polygon fill=\"none\" stroke=\"black\" points=\"237,-53 1,-53 1,0 237,0 237,-53\"/>\n",
       "<text text-anchor=\"middle\" x=\"119\" y=\"-37.8\" font-family=\"Times,serif\" font-size=\"14.00\">Parquet SCAN output.parquet;</text>\n",
       "<text text-anchor=\"middle\" x=\"119\" y=\"-22.8\" font-family=\"Times,serif\" font-size=\"14.00\">π */3;</text>\n",
       "<text text-anchor=\"middle\" x=\"119\" y=\"-7.8\" font-family=\"Times,serif\" font-size=\"14.00\">σ &#45;</text>\n",
       "</g>\n",
       "<!-- FILTER BY (col(&quot;float&quot;)) &lt; (6.0) [(0, 1)]&#45;&#45;Parquet SCAN output.parquet;\n",
       "π */3;\n",
       "σ &#45; [(0, 2)] -->\n",
       "<g id=\"edge2\" class=\"edge\">\n",
       "<title>FILTER BY (col(&quot;float&quot;)) &lt; (6.0) [(0, 1)]&#45;&#45;Parquet SCAN output.parquet;\n",
       "π */3;\n",
       "σ &#45; [(0, 2)]</title>\n",
       "<path fill=\"none\" stroke=\"black\" d=\"M119,-88.97C119,-78.51 119,-64.9 119,-53.16\"/>\n",
       "</g>\n",
       "</g>\n",
       "</svg>\n"
      ],
      "text/plain": [
       "<LazyFrame [1 col, {\"date\": Datetime(time_unit='us', time_zone=None)}] at 0x7F2C95635520>"
      ]
     },
     "execution_count": 28,
     "metadata": {},
     "output_type": "execute_result"
    }
   ],
   "source": [
    "lazy_df.filter(pl.col('float') < 6.0).select('date')"
   ]
  },
  {
   "cell_type": "code",
   "execution_count": 27,
   "id": "c8791658",
   "metadata": {
    "ExecuteTime": {
     "end_time": "2023-12-12T19:55:52.461683Z",
     "start_time": "2023-12-12T19:55:52.408627Z"
    }
   },
   "outputs": [
    {
     "data": {
      "image/svg+xml": [
       "<svg xmlns=\"http://www.w3.org/2000/svg\" xmlns:xlink=\"http://www.w3.org/1999/xlink\" width=\"244pt\" height=\"133pt\" viewBox=\"0.00 0.00 244.00 133.00\">\n",
       "<g id=\"graph0\" class=\"graph\" transform=\"scale(1 1) rotate(0) translate(4 129)\">\n",
       "<title>polars_query</title>\n",
       "<polygon fill=\"white\" stroke=\"transparent\" points=\"-4,4 -4,-129 240,-129 240,4 -4,4\"/>\n",
       "<!-- FAST_PROJECT: [date] [(0, 0)] -->\n",
       "<g id=\"node1\" class=\"node\">\n",
       "<title>FAST_PROJECT: [date] [(0, 0)]</title>\n",
       "<polygon fill=\"none\" stroke=\"black\" points=\"207,-125 29,-125 29,-89 207,-89 207,-125\"/>\n",
       "<text text-anchor=\"middle\" x=\"118\" y=\"-103.3\" font-family=\"Times,serif\" font-size=\"14.00\">FAST_PROJECT: [date]</text>\n",
       "</g>\n",
       "<!-- Parquet SCAN output.parquet;\n",
       "π 2/3;\n",
       "σ (col(&quot;float&quot;)) &lt; (6.0) [(0, 1)] -->\n",
       "<g id=\"node2\" class=\"node\">\n",
       "<title>Parquet SCAN output.parquet;\n",
       "π 2/3;\n",
       "σ (col(&quot;float&quot;)) &lt; (6.0) [(0, 1)]</title>\n",
       "<polygon fill=\"none\" stroke=\"black\" points=\"236,-53 0,-53 0,0 236,0 236,-53\"/>\n",
       "<text text-anchor=\"middle\" x=\"118\" y=\"-37.8\" font-family=\"Times,serif\" font-size=\"14.00\">Parquet SCAN output.parquet;</text>\n",
       "<text text-anchor=\"middle\" x=\"118\" y=\"-22.8\" font-family=\"Times,serif\" font-size=\"14.00\">π 2/3;</text>\n",
       "<text text-anchor=\"middle\" x=\"118\" y=\"-7.8\" font-family=\"Times,serif\" font-size=\"14.00\">σ (col(&quot;float&quot;)) &lt; (6.0)</text>\n",
       "</g>\n",
       "<!-- FAST_PROJECT: [date] [(0, 0)]&#45;&#45;Parquet SCAN output.parquet;\n",
       "π 2/3;\n",
       "σ (col(&quot;float&quot;)) &lt; (6.0) [(0, 1)] -->\n",
       "<g id=\"edge1\" class=\"edge\">\n",
       "<title>FAST_PROJECT: [date] [(0, 0)]--Parquet SCAN output.parquet;\n",
       "π 2/3;\n",
       "σ (col(&quot;float&quot;)) &lt; (6.0) [(0, 1)]</title>\n",
       "<path fill=\"none\" stroke=\"black\" d=\"M118,-88.97C118,-78.51 118,-64.9 118,-53.16\"/>\n",
       "</g>\n",
       "</g>\n",
       "</svg>"
      ],
      "text/plain": [
       "<IPython.core.display.SVG object>"
      ]
     },
     "metadata": {},
     "output_type": "display_data"
    }
   ],
   "source": [
    "lazy_df.filter(pl.col('float') < 6.0).select('date').show_graph()"
   ]
  },
  {
   "cell_type": "code",
   "execution_count": 34,
   "id": "083005c9",
   "metadata": {
    "ExecuteTime": {
     "end_time": "2023-12-12T19:59:21.531365Z",
     "start_time": "2023-12-12T19:59:21.523057Z"
    }
   },
   "outputs": [
    {
     "data": {
      "text/html": [
       "<div><style>\n",
       ".dataframe > thead > tr,\n",
       ".dataframe > tbody > tr {\n",
       "  text-align: right;\n",
       "  white-space: pre-wrap;\n",
       "}\n",
       "</style>\n",
       "<small>shape: (3, 6)</small><table border=\"1\" class=\"dataframe\"><thead><tr><th>integer</th><th>date</th><th>float</th><th>month</th><th>mask</th><th>clipped_integer</th></tr><tr><td>i64</td><td>datetime[μs]</td><td>f64</td><td>u32</td><td>bool</td><td>i64</td></tr></thead><tbody><tr><td>1</td><td>2022-01-01 00:00:00</td><td>4.0</td><td>1</td><td>true</td><td>2</td></tr><tr><td>2</td><td>2022-01-02 00:00:00</td><td>5.0</td><td>1</td><td>true</td><td>2</td></tr><tr><td>3</td><td>2022-01-03 00:00:00</td><td>6.0</td><td>1</td><td>false</td><td>3</td></tr></tbody></table></div>"
      ],
      "text/plain": [
       "shape: (3, 6)\n",
       "┌─────────┬─────────────────────┬───────┬───────┬───────┬─────────────────┐\n",
       "│ integer ┆ date                ┆ float ┆ month ┆ mask  ┆ clipped_integer │\n",
       "│ ---     ┆ ---                 ┆ ---   ┆ ---   ┆ ---   ┆ ---             │\n",
       "│ i64     ┆ datetime[μs]        ┆ f64   ┆ u32   ┆ bool  ┆ i64             │\n",
       "╞═════════╪═════════════════════╪═══════╪═══════╪═══════╪═════════════════╡\n",
       "│ 1       ┆ 2022-01-01 00:00:00 ┆ 4.0   ┆ 1     ┆ true  ┆ 2               │\n",
       "│ 2       ┆ 2022-01-02 00:00:00 ┆ 5.0   ┆ 1     ┆ true  ┆ 2               │\n",
       "│ 3       ┆ 2022-01-03 00:00:00 ┆ 6.0   ┆ 1     ┆ false ┆ 3               │\n",
       "└─────────┴─────────────────────┴───────┴───────┴───────┴─────────────────┘"
      ]
     },
     "execution_count": 34,
     "metadata": {},
     "output_type": "execute_result"
    }
   ],
   "source": [
    "query_df = lazy_df.with_columns(\n",
    "    pl.col('date').dt.month().alias('month'),\n",
    "    (pl.col('float') < 5.5).alias('mask'),\n",
    "    pl.col('integer').clip(lower_bound=2).alias('clipped_integer')\n",
    ").collect()\n",
    "query_df"
   ]
  },
  {
   "cell_type": "code",
   "execution_count": 8,
   "id": "85093107",
   "metadata": {
    "ExecuteTime": {
     "end_time": "2023-01-24T19:09:28.503555Z",
     "start_time": "2023-01-24T19:09:28.498760Z"
    }
   },
   "outputs": [
    {
     "data": {
      "text/html": [
       "<div>\n",
       "<style scoped>\n",
       "    .dataframe tbody tr th:only-of-type {\n",
       "        vertical-align: middle;\n",
       "    }\n",
       "\n",
       "    .dataframe tbody tr th {\n",
       "        vertical-align: top;\n",
       "    }\n",
       "\n",
       "    .dataframe thead th {\n",
       "        text-align: right;\n",
       "    }\n",
       "\n",
       "    .dataframe td {\n",
       "        white-space: pre;\n",
       "    }\n",
       "\n",
       "    .dataframe td {\n",
       "        padding-top: 0;\n",
       "    }\n",
       "\n",
       "    .dataframe td {\n",
       "        padding-bottom: 0;\n",
       "    }\n",
       "\n",
       "    .dataframe td {\n",
       "        line-height: 95%;\n",
       "    }\n",
       "</style>\n",
       "<table border=\"1\" class=\"dataframe\">\n",
       "<small>shape: (3, 4)</small>\n",
       "<thead>\n",
       "<tr>\n",
       "<th>\n",
       "integer\n",
       "</th>\n",
       "<th>\n",
       "date\n",
       "</th>\n",
       "<th>\n",
       "float\n",
       "</th>\n",
       "<th>\n",
       "month\n",
       "</th>\n",
       "</tr>\n",
       "<tr>\n",
       "<td>\n",
       "i64\n",
       "</td>\n",
       "<td>\n",
       "datetime[μs]\n",
       "</td>\n",
       "<td>\n",
       "f64\n",
       "</td>\n",
       "<td>\n",
       "u32\n",
       "</td>\n",
       "</tr>\n",
       "</thead>\n",
       "<tbody>\n",
       "<tr>\n",
       "<td>\n",
       "1\n",
       "</td>\n",
       "<td>\n",
       "2022-01-01 00:00:00\n",
       "</td>\n",
       "<td>\n",
       "4.0\n",
       "</td>\n",
       "<td>\n",
       "1\n",
       "</td>\n",
       "</tr>\n",
       "<tr>\n",
       "<td>\n",
       "2\n",
       "</td>\n",
       "<td>\n",
       "2022-01-02 00:00:00\n",
       "</td>\n",
       "<td>\n",
       "5.0\n",
       "</td>\n",
       "<td>\n",
       "1\n",
       "</td>\n",
       "</tr>\n",
       "<tr>\n",
       "<td>\n",
       "3\n",
       "</td>\n",
       "<td>\n",
       "2022-01-03 00:00:00\n",
       "</td>\n",
       "<td>\n",
       "6.0\n",
       "</td>\n",
       "<td>\n",
       "1\n",
       "</td>\n",
       "</tr>\n",
       "</tbody>\n",
       "</table>\n",
       "</div>"
      ],
      "text/plain": [
       "shape: (3, 4)\n",
       "┌─────────┬─────────────────────┬───────┬───────┐\n",
       "│ integer ┆ date                ┆ float ┆ month │\n",
       "│ ---     ┆ ---                 ┆ ---   ┆ ---   │\n",
       "│ i64     ┆ datetime[μs]        ┆ f64   ┆ u32   │\n",
       "╞═════════╪═════════════════════╪═══════╪═══════╡\n",
       "│ 1       ┆ 2022-01-01 00:00:00 ┆ 4.0   ┆ 1     │\n",
       "│ 2       ┆ 2022-01-02 00:00:00 ┆ 5.0   ┆ 1     │\n",
       "│ 3       ┆ 2022-01-03 00:00:00 ┆ 6.0   ┆ 1     │\n",
       "└─────────┴─────────────────────┴───────┴───────┘"
      ]
     },
     "execution_count": 8,
     "metadata": {},
     "output_type": "execute_result"
    }
   ],
   "source": [
    "query_df.collect()"
   ]
  },
  {
   "cell_type": "code",
   "execution_count": 35,
   "id": "b0985a99",
   "metadata": {
    "ExecuteTime": {
     "end_time": "2023-12-12T20:01:47.552081Z",
     "start_time": "2023-12-12T20:01:47.533947Z"
    }
   },
   "outputs": [
    {
     "data": {
      "text/html": [
       "<div><style>\n",
       ".dataframe > thead > tr,\n",
       ".dataframe > tbody > tr {\n",
       "  text-align: right;\n",
       "  white-space: pre-wrap;\n",
       "}\n",
       "</style>\n",
       "<small>shape: (3, 6)</small><table border=\"1\" class=\"dataframe\"><thead><tr><th>integer</th><th>date</th><th>float</th><th>month</th><th>multiplied</th><th>inline</th></tr><tr><td>i64</td><td>datetime[μs]</td><td>f64</td><td>u32</td><td>i64</td><td>list[i64]</td></tr></thead><tbody><tr><td>1</td><td>2022-01-01 00:00:00</td><td>4.0</td><td>1</td><td>123</td><td>[1, 5, … 7]</td></tr><tr><td>2</td><td>2022-01-02 00:00:00</td><td>5.0</td><td>1</td><td>246</td><td>[2]</td></tr><tr><td>3</td><td>2022-01-03 00:00:00</td><td>6.0</td><td>1</td><td>369</td><td>[]</td></tr></tbody></table></div>"
      ],
      "text/plain": [
       "shape: (3, 6)\n",
       "┌─────────┬─────────────────────┬───────┬───────┬────────────┬─────────────┐\n",
       "│ integer ┆ date                ┆ float ┆ month ┆ multiplied ┆ inline      │\n",
       "│ ---     ┆ ---                 ┆ ---   ┆ ---   ┆ ---        ┆ ---         │\n",
       "│ i64     ┆ datetime[μs]        ┆ f64   ┆ u32   ┆ i64        ┆ list[i64]   │\n",
       "╞═════════╪═════════════════════╪═══════╪═══════╪════════════╪═════════════╡\n",
       "│ 1       ┆ 2022-01-01 00:00:00 ┆ 4.0   ┆ 1     ┆ 123        ┆ [1, 5, … 7] │\n",
       "│ 2       ┆ 2022-01-02 00:00:00 ┆ 5.0   ┆ 1     ┆ 246        ┆ [2]         │\n",
       "│ 3       ┆ 2022-01-03 00:00:00 ┆ 6.0   ┆ 1     ┆ 369        ┆ []          │\n",
       "└─────────┴─────────────────────┴───────┴───────┴────────────┴─────────────┘"
      ]
     },
     "execution_count": 35,
     "metadata": {},
     "output_type": "execute_result"
    }
   ],
   "source": [
    "built_df = lazy_df.with_columns([\n",
    "    pl.col('date').dt.month().alias('month'),\n",
    "    (pl.col('integer') * 123).alias('multiplied'),\n",
    "    (pl.Series([[1, 5, 6, 7], [2], []])).alias('inline')\n",
    "]\n",
    "    ).collect()\n",
    "built_df"
   ]
  },
  {
   "cell_type": "code",
   "execution_count": 37,
   "id": "82b20378",
   "metadata": {
    "ExecuteTime": {
     "end_time": "2023-12-12T20:02:15.006720Z",
     "start_time": "2023-12-12T20:02:14.998881Z"
    }
   },
   "outputs": [
    {
     "data": {
      "text/html": [
       "<div><style>\n",
       ".dataframe > thead > tr,\n",
       ".dataframe > tbody > tr {\n",
       "  text-align: right;\n",
       "  white-space: pre-wrap;\n",
       "}\n",
       "</style>\n",
       "<small>shape: (3, 6)</small><table border=\"1\" class=\"dataframe\"><thead><tr><th>integer</th><th>date</th><th>float</th><th>month</th><th>multiplied</th><th>inline</th></tr><tr><td>i64</td><td>datetime[μs]</td><td>f64</td><td>u32</td><td>i64</td><td>list[str]</td></tr></thead><tbody><tr><td>1</td><td>2022-01-01 00:00:00</td><td>4.0</td><td>1</td><td>123</td><td>[&quot;1&quot;, &quot;5&quot;, … &quot;7&quot;]</td></tr><tr><td>2</td><td>2022-01-02 00:00:00</td><td>5.0</td><td>1</td><td>246</td><td>[&quot;2&quot;]</td></tr><tr><td>3</td><td>2022-01-03 00:00:00</td><td>6.0</td><td>1</td><td>369</td><td>[]</td></tr></tbody></table></div>"
      ],
      "text/plain": [
       "shape: (3, 6)\n",
       "┌─────────┬─────────────────────┬───────┬───────┬────────────┬───────────────────┐\n",
       "│ integer ┆ date                ┆ float ┆ month ┆ multiplied ┆ inline            │\n",
       "│ ---     ┆ ---                 ┆ ---   ┆ ---   ┆ ---        ┆ ---               │\n",
       "│ i64     ┆ datetime[μs]        ┆ f64   ┆ u32   ┆ i64        ┆ list[str]         │\n",
       "╞═════════╪═════════════════════╪═══════╪═══════╪════════════╪═══════════════════╡\n",
       "│ 1       ┆ 2022-01-01 00:00:00 ┆ 4.0   ┆ 1     ┆ 123        ┆ [\"1\", \"5\", … \"7\"] │\n",
       "│ 2       ┆ 2022-01-02 00:00:00 ┆ 5.0   ┆ 1     ┆ 246        ┆ [\"2\"]             │\n",
       "│ 3       ┆ 2022-01-03 00:00:00 ┆ 6.0   ┆ 1     ┆ 369        ┆ []                │\n",
       "└─────────┴─────────────────────┴───────┴───────┴────────────┴───────────────────┘"
      ]
     },
     "execution_count": 37,
     "metadata": {},
     "output_type": "execute_result"
    }
   ],
   "source": [
    "built_df.with_columns(pl.col('inline').cast(pl.List(pl.Utf8)))"
   ]
  },
  {
   "cell_type": "code",
   "execution_count": 39,
   "id": "22d9f50e",
   "metadata": {
    "ExecuteTime": {
     "end_time": "2023-12-12T20:03:30.219885Z",
     "start_time": "2023-12-12T20:03:30.213845Z"
    }
   },
   "outputs": [
    {
     "data": {
      "text/html": [
       "col(\"inline\").list.sum()"
      ],
      "text/plain": [
       "<polars.expr.expr.Expr at 0x7f2ccb334130>"
      ]
     },
     "execution_count": 39,
     "metadata": {},
     "output_type": "execute_result"
    }
   ],
   "source": [
    "pl.col('inline').list.sum()"
   ]
  },
  {
   "cell_type": "code",
   "execution_count": 40,
   "id": "438f4daf",
   "metadata": {
    "ExecuteTime": {
     "end_time": "2023-12-12T20:04:31.958232Z",
     "start_time": "2023-12-12T20:04:31.949837Z"
    }
   },
   "outputs": [
    {
     "data": {
      "text/html": [
       "<div><style>\n",
       ".dataframe > thead > tr,\n",
       ".dataframe > tbody > tr {\n",
       "  text-align: right;\n",
       "  white-space: pre-wrap;\n",
       "}\n",
       "</style>\n",
       "<small>shape: (3, 6)</small><table border=\"1\" class=\"dataframe\"><thead><tr><th>integer</th><th>date</th><th>float</th><th>month</th><th>multiplied</th><th>inline</th></tr><tr><td>i64</td><td>datetime[μs]</td><td>f64</td><td>u32</td><td>i64</td><td>i64</td></tr></thead><tbody><tr><td>1</td><td>2022-01-01 00:00:00</td><td>4.0</td><td>1</td><td>123</td><td>19</td></tr><tr><td>2</td><td>2022-01-02 00:00:00</td><td>5.0</td><td>1</td><td>246</td><td>2</td></tr><tr><td>3</td><td>2022-01-03 00:00:00</td><td>6.0</td><td>1</td><td>369</td><td>0</td></tr></tbody></table></div>"
      ],
      "text/plain": [
       "shape: (3, 6)\n",
       "┌─────────┬─────────────────────┬───────┬───────┬────────────┬────────┐\n",
       "│ integer ┆ date                ┆ float ┆ month ┆ multiplied ┆ inline │\n",
       "│ ---     ┆ ---                 ┆ ---   ┆ ---   ┆ ---        ┆ ---    │\n",
       "│ i64     ┆ datetime[μs]        ┆ f64   ┆ u32   ┆ i64        ┆ i64    │\n",
       "╞═════════╪═════════════════════╪═══════╪═══════╪════════════╪════════╡\n",
       "│ 1       ┆ 2022-01-01 00:00:00 ┆ 4.0   ┆ 1     ┆ 123        ┆ 19     │\n",
       "│ 2       ┆ 2022-01-02 00:00:00 ┆ 5.0   ┆ 1     ┆ 246        ┆ 2      │\n",
       "│ 3       ┆ 2022-01-03 00:00:00 ┆ 6.0   ┆ 1     ┆ 369        ┆ 0      │\n",
       "└─────────┴─────────────────────┴───────┴───────┴────────────┴────────┘"
      ]
     },
     "execution_count": 40,
     "metadata": {},
     "output_type": "execute_result"
    }
   ],
   "source": [
    "built_df.with_columns(\n",
    "    pl.col('inline').list.sum()\n",
    ")"
   ]
  },
  {
   "cell_type": "code",
   "execution_count": 43,
   "id": "8cee72fc",
   "metadata": {
    "ExecuteTime": {
     "end_time": "2023-12-12T20:10:10.970327Z",
     "start_time": "2023-12-12T20:10:10.965043Z"
    }
   },
   "outputs": [
    {
     "data": {
      "text/html": [
       "<div><style>\n",
       ".dataframe > thead > tr,\n",
       ".dataframe > tbody > tr {\n",
       "  text-align: right;\n",
       "  white-space: pre-wrap;\n",
       "}\n",
       "</style>\n",
       "<small>shape: (3, 2)</small><table border=\"1\" class=\"dataframe\"><thead><tr><th>integer</th><th>date</th></tr><tr><td>i64</td><td>datetime[μs]</td></tr></thead><tbody><tr><td>1</td><td>2022-01-01 00:00:00</td></tr><tr><td>2</td><td>2022-01-02 00:00:00</td></tr><tr><td>3</td><td>2022-01-03 00:00:00</td></tr></tbody></table></div>"
      ],
      "text/plain": [
       "shape: (3, 2)\n",
       "┌─────────┬─────────────────────┐\n",
       "│ integer ┆ date                │\n",
       "│ ---     ┆ ---                 │\n",
       "│ i64     ┆ datetime[μs]        │\n",
       "╞═════════╪═════════════════════╡\n",
       "│ 1       ┆ 2022-01-01 00:00:00 │\n",
       "│ 2       ┆ 2022-01-02 00:00:00 │\n",
       "│ 3       ┆ 2022-01-03 00:00:00 │\n",
       "└─────────┴─────────────────────┘"
      ]
     },
     "execution_count": 43,
     "metadata": {},
     "output_type": "execute_result"
    }
   ],
   "source": [
    "built_df.select(\n",
    "    'integer', 'date'\n",
    ")"
   ]
  },
  {
   "cell_type": "code",
   "execution_count": 41,
   "id": "cf9ce59f",
   "metadata": {
    "ExecuteTime": {
     "end_time": "2023-12-12T20:09:33.792807Z",
     "start_time": "2023-12-12T20:09:33.786988Z"
    }
   },
   "outputs": [
    {
     "data": {
      "text/html": [
       "<div><style>\n",
       ".dataframe > thead > tr,\n",
       ".dataframe > tbody > tr {\n",
       "  text-align: right;\n",
       "  white-space: pre-wrap;\n",
       "}\n",
       "</style>\n",
       "<small>shape: (3, 1)</small><table border=\"1\" class=\"dataframe\"><thead><tr><th>float</th></tr><tr><td>f64</td></tr></thead><tbody><tr><td>200.0</td></tr><tr><td>250.0</td></tr><tr><td>300.0</td></tr></tbody></table></div>"
      ],
      "text/plain": [
       "shape: (3, 1)\n",
       "┌───────┐\n",
       "│ float │\n",
       "│ ---   │\n",
       "│ f64   │\n",
       "╞═══════╡\n",
       "│ 200.0 │\n",
       "│ 250.0 │\n",
       "│ 300.0 │\n",
       "└───────┘"
      ]
     },
     "execution_count": 41,
     "metadata": {},
     "output_type": "execute_result"
    }
   ],
   "source": [
    "built_df.select(\n",
    "    pl.col('float') * 50\n",
    ")"
   ]
  },
  {
   "cell_type": "code",
   "execution_count": 13,
   "id": "bd7f4724",
   "metadata": {
    "ExecuteTime": {
     "end_time": "2023-01-24T19:10:54.853541Z",
     "start_time": "2023-01-24T19:10:54.848857Z"
    }
   },
   "outputs": [
    {
     "data": {
      "text/html": [
       "<div>\n",
       "<style scoped>\n",
       "    .dataframe tbody tr th:only-of-type {\n",
       "        vertical-align: middle;\n",
       "    }\n",
       "\n",
       "    .dataframe tbody tr th {\n",
       "        vertical-align: top;\n",
       "    }\n",
       "\n",
       "    .dataframe thead th {\n",
       "        text-align: right;\n",
       "    }\n",
       "\n",
       "    .dataframe td {\n",
       "        white-space: pre;\n",
       "    }\n",
       "\n",
       "    .dataframe td {\n",
       "        padding-top: 0;\n",
       "    }\n",
       "\n",
       "    .dataframe td {\n",
       "        padding-bottom: 0;\n",
       "    }\n",
       "\n",
       "    .dataframe td {\n",
       "        line-height: 95%;\n",
       "    }\n",
       "</style>\n",
       "<table border=\"1\" class=\"dataframe\">\n",
       "<small>shape: (1, 1)</small>\n",
       "<thead>\n",
       "<tr>\n",
       "<th>\n",
       "float\n",
       "</th>\n",
       "</tr>\n",
       "<tr>\n",
       "<td>\n",
       "f64\n",
       "</td>\n",
       "</tr>\n",
       "</thead>\n",
       "<tbody>\n",
       "<tr>\n",
       "<td>\n",
       "15.0\n",
       "</td>\n",
       "</tr>\n",
       "</tbody>\n",
       "</table>\n",
       "</div>"
      ],
      "text/plain": [
       "shape: (1, 1)\n",
       "┌───────┐\n",
       "│ float │\n",
       "│ ---   │\n",
       "│ f64   │\n",
       "╞═══════╡\n",
       "│ 15.0  │\n",
       "└───────┘"
      ]
     },
     "execution_count": 13,
     "metadata": {},
     "output_type": "execute_result"
    }
   ],
   "source": [
    "built_df.select(\n",
    "    pl.col('float').sum()\n",
    ")"
   ]
  },
  {
   "cell_type": "code",
   "execution_count": 46,
   "id": "ca51d052",
   "metadata": {
    "ExecuteTime": {
     "end_time": "2023-12-12T20:10:51.184664Z",
     "start_time": "2023-12-12T20:10:51.177127Z"
    }
   },
   "outputs": [
    {
     "data": {
      "text/html": [
       "<div><style>\n",
       ".dataframe > thead > tr,\n",
       ".dataframe > tbody > tr {\n",
       "  text-align: right;\n",
       "  white-space: pre-wrap;\n",
       "}\n",
       "</style>\n",
       "<small>shape: (3, 7)</small><table border=\"1\" class=\"dataframe\"><thead><tr><th>integer</th><th>date</th><th>float</th><th>month</th><th>multiplied</th><th>inline</th><th>inline_mean</th></tr><tr><td>i64</td><td>datetime[μs]</td><td>f64</td><td>u32</td><td>i64</td><td>list[i64]</td><td>f64</td></tr></thead><tbody><tr><td>1</td><td>2022-01-01 00:00:00</td><td>4.0</td><td>1</td><td>123</td><td>[1, 5, … 7]</td><td>4.75</td></tr><tr><td>2</td><td>2022-01-02 00:00:00</td><td>5.0</td><td>1</td><td>246</td><td>[2]</td><td>2.0</td></tr><tr><td>3</td><td>2022-01-03 00:00:00</td><td>6.0</td><td>1</td><td>369</td><td>[]</td><td>NaN</td></tr></tbody></table></div>"
      ],
      "text/plain": [
       "shape: (3, 7)\n",
       "┌─────────┬─────────────────────┬───────┬───────┬────────────┬─────────────┬─────────────┐\n",
       "│ integer ┆ date                ┆ float ┆ month ┆ multiplied ┆ inline      ┆ inline_mean │\n",
       "│ ---     ┆ ---                 ┆ ---   ┆ ---   ┆ ---        ┆ ---         ┆ ---         │\n",
       "│ i64     ┆ datetime[μs]        ┆ f64   ┆ u32   ┆ i64        ┆ list[i64]   ┆ f64         │\n",
       "╞═════════╪═════════════════════╪═══════╪═══════╪════════════╪═════════════╪═════════════╡\n",
       "│ 1       ┆ 2022-01-01 00:00:00 ┆ 4.0   ┆ 1     ┆ 123        ┆ [1, 5, … 7] ┆ 4.75        │\n",
       "│ 2       ┆ 2022-01-02 00:00:00 ┆ 5.0   ┆ 1     ┆ 246        ┆ [2]         ┆ 2.0         │\n",
       "│ 3       ┆ 2022-01-03 00:00:00 ┆ 6.0   ┆ 1     ┆ 369        ┆ []          ┆ NaN         │\n",
       "└─────────┴─────────────────────┴───────┴───────┴────────────┴─────────────┴─────────────┘"
      ]
     },
     "execution_count": 46,
     "metadata": {},
     "output_type": "execute_result"
    }
   ],
   "source": [
    "built_df = built_df.with_columns(\n",
    "    pl.col('inline').list.mean().alias('inline_mean')\n",
    ")\n",
    "built_df"
   ]
  },
  {
   "cell_type": "code",
   "execution_count": 49,
   "id": "48fc2f28",
   "metadata": {
    "ExecuteTime": {
     "end_time": "2023-12-12T20:13:09.640524Z",
     "start_time": "2023-12-12T20:13:09.634799Z"
    }
   },
   "outputs": [
    {
     "data": {
      "text/plain": [
       "OrderedDict([('integer', Int64),\n",
       "             ('date', Datetime(time_unit='us', time_zone=None)),\n",
       "             ('float', Float64),\n",
       "             ('month', UInt32),\n",
       "             ('multiplied', Int64),\n",
       "             ('inline', List(Int64)),\n",
       "             ('inline_mean', Float64)])"
      ]
     },
     "execution_count": 49,
     "metadata": {},
     "output_type": "execute_result"
    }
   ],
   "source": [
    "built_df.schema"
   ]
  },
  {
   "cell_type": "code",
   "execution_count": 48,
   "id": "002ce958",
   "metadata": {
    "ExecuteTime": {
     "end_time": "2023-12-12T20:12:40.703231Z",
     "start_time": "2023-12-12T20:12:40.692821Z"
    }
   },
   "outputs": [
    {
     "data": {
      "text/plain": [
       "integer                 int64\n",
       "date           datetime64[ns]\n",
       "float                 float64\n",
       "month                  uint32\n",
       "multiplied              int64\n",
       "inline                 object\n",
       "inline_mean           float64\n",
       "dtype: object"
      ]
     },
     "execution_count": 48,
     "metadata": {},
     "output_type": "execute_result"
    }
   ],
   "source": [
    "built_df.to_pandas().dtypes"
   ]
  },
  {
   "cell_type": "code",
   "execution_count": 50,
   "id": "ec56ae3e",
   "metadata": {
    "ExecuteTime": {
     "end_time": "2023-12-12T20:14:27.699378Z",
     "start_time": "2023-12-12T20:14:27.692141Z"
    }
   },
   "outputs": [
    {
     "data": {
      "text/html": [
       "<div><style>\n",
       ".dataframe > thead > tr,\n",
       ".dataframe > tbody > tr {\n",
       "  text-align: right;\n",
       "  white-space: pre-wrap;\n",
       "}\n",
       "</style>\n",
       "<small>shape: (1, 7)</small><table border=\"1\" class=\"dataframe\"><thead><tr><th>integer</th><th>date</th><th>float</th><th>month</th><th>multiplied</th><th>inline</th><th>inline_mean</th></tr><tr><td>u32</td><td>u32</td><td>u32</td><td>u32</td><td>u32</td><td>u32</td><td>u32</td></tr></thead><tbody><tr><td>0</td><td>0</td><td>0</td><td>0</td><td>0</td><td>0</td><td>0</td></tr></tbody></table></div>"
      ],
      "text/plain": [
       "shape: (1, 7)\n",
       "┌─────────┬──────┬───────┬───────┬────────────┬────────┬─────────────┐\n",
       "│ integer ┆ date ┆ float ┆ month ┆ multiplied ┆ inline ┆ inline_mean │\n",
       "│ ---     ┆ ---  ┆ ---   ┆ ---   ┆ ---        ┆ ---    ┆ ---         │\n",
       "│ u32     ┆ u32  ┆ u32   ┆ u32   ┆ u32        ┆ u32    ┆ u32         │\n",
       "╞═════════╪══════╪═══════╪═══════╪════════════╪════════╪═════════════╡\n",
       "│ 0       ┆ 0    ┆ 0     ┆ 0     ┆ 0          ┆ 0      ┆ 0           │\n",
       "└─────────┴──────┴───────┴───────┴────────────┴────────┴─────────────┘"
      ]
     },
     "execution_count": 50,
     "metadata": {},
     "output_type": "execute_result"
    }
   ],
   "source": [
    "built_df.select(\n",
    "    [pl.col(col).is_null().sum() for col in built_df.columns]\n",
    ")"
   ]
  },
  {
   "cell_type": "code",
   "execution_count": 59,
   "id": "2b8e2380",
   "metadata": {
    "ExecuteTime": {
     "end_time": "2023-12-12T20:17:42.441066Z",
     "start_time": "2023-12-12T20:17:42.431799Z"
    }
   },
   "outputs": [
    {
     "data": {
      "text/html": [
       "<div>\n",
       "<style scoped>\n",
       "    .dataframe tbody tr th:only-of-type {\n",
       "        vertical-align: middle;\n",
       "    }\n",
       "\n",
       "    .dataframe tbody tr th {\n",
       "        vertical-align: top;\n",
       "    }\n",
       "\n",
       "    .dataframe thead th {\n",
       "        text-align: right;\n",
       "    }\n",
       "</style>\n",
       "<table border=\"1\" class=\"dataframe\">\n",
       "  <thead>\n",
       "    <tr style=\"text-align: right;\">\n",
       "      <th></th>\n",
       "      <th>a</th>\n",
       "    </tr>\n",
       "  </thead>\n",
       "  <tbody>\n",
       "    <tr>\n",
       "      <th>0</th>\n",
       "      <td>1.0</td>\n",
       "    </tr>\n",
       "    <tr>\n",
       "      <th>1</th>\n",
       "      <td>2.0</td>\n",
       "    </tr>\n",
       "    <tr>\n",
       "      <th>2</th>\n",
       "      <td>NaN</td>\n",
       "    </tr>\n",
       "    <tr>\n",
       "      <th>3</th>\n",
       "      <td>NaN</td>\n",
       "    </tr>\n",
       "  </tbody>\n",
       "</table>\n",
       "</div>"
      ],
      "text/plain": [
       "     a\n",
       "0  1.0\n",
       "1  2.0\n",
       "2  NaN\n",
       "3  NaN"
      ]
     },
     "execution_count": 59,
     "metadata": {},
     "output_type": "execute_result"
    }
   ],
   "source": [
    "import pandas as pd\n",
    "\n",
    "example = pd.DataFrame({\"a\": [1, 2, np.nan, None]})\n",
    "example"
   ]
  },
  {
   "cell_type": "code",
   "execution_count": 60,
   "id": "077e1403",
   "metadata": {
    "ExecuteTime": {
     "end_time": "2023-12-12T20:17:42.843134Z",
     "start_time": "2023-12-12T20:17:42.838412Z"
    }
   },
   "outputs": [
    {
     "data": {
      "text/plain": [
       "a    float64\n",
       "dtype: object"
      ]
     },
     "execution_count": 60,
     "metadata": {},
     "output_type": "execute_result"
    }
   ],
   "source": [
    "example.dtypes"
   ]
  },
  {
   "cell_type": "code",
   "execution_count": 61,
   "id": "d7e910d8",
   "metadata": {
    "ExecuteTime": {
     "end_time": "2023-12-12T20:17:48.100810Z",
     "start_time": "2023-12-12T20:17:48.096120Z"
    }
   },
   "outputs": [
    {
     "data": {
      "text/html": [
       "<div><style>\n",
       ".dataframe > thead > tr,\n",
       ".dataframe > tbody > tr {\n",
       "  text-align: right;\n",
       "  white-space: pre-wrap;\n",
       "}\n",
       "</style>\n",
       "<small>shape: (4, 1)</small><table border=\"1\" class=\"dataframe\"><thead><tr><th>a</th></tr><tr><td>f64</td></tr></thead><tbody><tr><td>1.0</td></tr><tr><td>2.0</td></tr><tr><td>NaN</td></tr><tr><td>null</td></tr></tbody></table></div>"
      ],
      "text/plain": [
       "shape: (4, 1)\n",
       "┌──────┐\n",
       "│ a    │\n",
       "│ ---  │\n",
       "│ f64  │\n",
       "╞══════╡\n",
       "│ 1.0  │\n",
       "│ 2.0  │\n",
       "│ NaN  │\n",
       "│ null │\n",
       "└──────┘"
      ]
     },
     "execution_count": 61,
     "metadata": {},
     "output_type": "execute_result"
    }
   ],
   "source": [
    "example = pl.DataFrame({\"a\": [1, 2, np.nan, None]})\n",
    "example"
   ]
  },
  {
   "cell_type": "code",
   "execution_count": 56,
   "id": "5bfed640",
   "metadata": {
    "ExecuteTime": {
     "end_time": "2023-12-12T20:16:49.115236Z",
     "start_time": "2023-12-12T20:16:49.105231Z"
    }
   },
   "outputs": [
    {
     "data": {
      "text/plain": [
       "OrderedDict([('a', Int64)])"
      ]
     },
     "execution_count": 56,
     "metadata": {},
     "output_type": "execute_result"
    }
   ],
   "source": [
    "example.schema"
   ]
  },
  {
   "cell_type": "code",
   "execution_count": 62,
   "id": "11b7dcb3",
   "metadata": {
    "ExecuteTime": {
     "end_time": "2023-12-12T20:17:59.749526Z",
     "start_time": "2023-12-12T20:17:59.738274Z"
    }
   },
   "outputs": [
    {
     "data": {
      "text/html": [
       "<div><style>\n",
       ".dataframe > thead > tr,\n",
       ".dataframe > tbody > tr {\n",
       "  text-align: right;\n",
       "  white-space: pre-wrap;\n",
       "}\n",
       "</style>\n",
       "<small>shape: (16, 4)</small><table border=\"1\" class=\"dataframe\"><thead><tr><th>a</th><th>b</th><th>c</th><th>d</th></tr><tr><td>i64</td><td>f64</td><td>datetime[μs]</td><td>f64</td></tr></thead><tbody><tr><td>0</td><td>0.879367</td><td>2022-12-01 00:00:00</td><td>1.0</td></tr><tr><td>1</td><td>0.417416</td><td>2022-12-02 00:00:00</td><td>2.0</td></tr><tr><td>2</td><td>0.815772</td><td>2022-12-03 00:00:00</td><td>NaN</td></tr><tr><td>3</td><td>0.235698</td><td>2022-12-04 00:00:00</td><td>NaN</td></tr><tr><td>4</td><td>0.819098</td><td>2022-12-05 00:00:00</td><td>0.0</td></tr><tr><td>5</td><td>0.574275</td><td>2022-12-06 00:00:00</td><td>-5.0</td></tr><tr><td>6</td><td>0.033968</td><td>2022-12-07 00:00:00</td><td>-42.0</td></tr><tr><td>7</td><td>0.364118</td><td>2022-12-08 00:00:00</td><td>null</td></tr><tr><td>0</td><td>0.879367</td><td>2022-12-01 00:00:00</td><td>1.0</td></tr><tr><td>1</td><td>0.417416</td><td>2022-12-02 00:00:00</td><td>2.0</td></tr><tr><td>2</td><td>0.815772</td><td>2022-12-03 00:00:00</td><td>NaN</td></tr><tr><td>3</td><td>0.235698</td><td>2022-12-04 00:00:00</td><td>NaN</td></tr><tr><td>4</td><td>0.819098</td><td>2022-12-05 00:00:00</td><td>0.0</td></tr><tr><td>5</td><td>0.574275</td><td>2022-12-06 00:00:00</td><td>-5.0</td></tr><tr><td>6</td><td>0.033968</td><td>2022-12-07 00:00:00</td><td>-42.0</td></tr><tr><td>7</td><td>0.364118</td><td>2022-12-08 00:00:00</td><td>null</td></tr></tbody></table></div>"
      ],
      "text/plain": [
       "shape: (16, 4)\n",
       "┌─────┬──────────┬─────────────────────┬───────┐\n",
       "│ a   ┆ b        ┆ c                   ┆ d     │\n",
       "│ --- ┆ ---      ┆ ---                 ┆ ---   │\n",
       "│ i64 ┆ f64      ┆ datetime[μs]        ┆ f64   │\n",
       "╞═════╪══════════╪═════════════════════╪═══════╡\n",
       "│ 0   ┆ 0.879367 ┆ 2022-12-01 00:00:00 ┆ 1.0   │\n",
       "│ 1   ┆ 0.417416 ┆ 2022-12-02 00:00:00 ┆ 2.0   │\n",
       "│ 2   ┆ 0.815772 ┆ 2022-12-03 00:00:00 ┆ NaN   │\n",
       "│ 3   ┆ 0.235698 ┆ 2022-12-04 00:00:00 ┆ NaN   │\n",
       "│ …   ┆ …        ┆ …                   ┆ …     │\n",
       "│ 4   ┆ 0.819098 ┆ 2022-12-05 00:00:00 ┆ 0.0   │\n",
       "│ 5   ┆ 0.574275 ┆ 2022-12-06 00:00:00 ┆ -5.0  │\n",
       "│ 6   ┆ 0.033968 ┆ 2022-12-07 00:00:00 ┆ -42.0 │\n",
       "│ 7   ┆ 0.364118 ┆ 2022-12-08 00:00:00 ┆ null  │\n",
       "└─────┴──────────┴─────────────────────┴───────┘"
      ]
     },
     "execution_count": 62,
     "metadata": {},
     "output_type": "execute_result"
    }
   ],
   "source": [
    "df = pl.DataFrame({\"a\": np.arange(0, 8), \n",
    "                   \"b\": np.random.rand(8), \n",
    "                   \"c\": [datetime(2022, 12, 1) + timedelta(days=idx) for idx in range(8)],\n",
    "                   \"d\": [1, 2.0, np.NaN, np.NaN, 0, -5, -42, None]\n",
    "                  })\n",
    "df = pl.concat([df, df])\n",
    "df"
   ]
  },
  {
   "cell_type": "code",
   "execution_count": 64,
   "id": "c7e853b3",
   "metadata": {
    "ExecuteTime": {
     "end_time": "2023-12-12T20:18:46.613222Z",
     "start_time": "2023-12-12T20:18:46.603873Z"
    }
   },
   "outputs": [
    {
     "data": {
      "text/html": [
       "<div><style>\n",
       ".dataframe > thead > tr,\n",
       ".dataframe > tbody > tr {\n",
       "  text-align: right;\n",
       "  white-space: pre-wrap;\n",
       "}\n",
       "</style>\n",
       "<small>shape: (16, 4)</small><table border=\"1\" class=\"dataframe\"><thead><tr><th>a</th><th>b</th><th>c</th><th>d</th></tr><tr><td>i64</td><td>f64</td><td>datetime[μs]</td><td>f64</td></tr></thead><tbody><tr><td>0</td><td>0.879367</td><td>2022-12-01 00:00:00</td><td>1.0</td></tr><tr><td>1</td><td>0.417416</td><td>2022-12-02 00:00:00</td><td>2.0</td></tr><tr><td>2</td><td>0.815772</td><td>2022-12-03 00:00:00</td><td>99.9</td></tr><tr><td>3</td><td>0.235698</td><td>2022-12-04 00:00:00</td><td>99.9</td></tr><tr><td>4</td><td>0.819098</td><td>2022-12-05 00:00:00</td><td>0.0</td></tr><tr><td>5</td><td>0.574275</td><td>2022-12-06 00:00:00</td><td>-5.0</td></tr><tr><td>6</td><td>0.033968</td><td>2022-12-07 00:00:00</td><td>-42.0</td></tr><tr><td>7</td><td>0.364118</td><td>2022-12-08 00:00:00</td><td>99.9</td></tr><tr><td>0</td><td>0.879367</td><td>2022-12-01 00:00:00</td><td>1.0</td></tr><tr><td>1</td><td>0.417416</td><td>2022-12-02 00:00:00</td><td>2.0</td></tr><tr><td>2</td><td>0.815772</td><td>2022-12-03 00:00:00</td><td>99.9</td></tr><tr><td>3</td><td>0.235698</td><td>2022-12-04 00:00:00</td><td>99.9</td></tr><tr><td>4</td><td>0.819098</td><td>2022-12-05 00:00:00</td><td>0.0</td></tr><tr><td>5</td><td>0.574275</td><td>2022-12-06 00:00:00</td><td>-5.0</td></tr><tr><td>6</td><td>0.033968</td><td>2022-12-07 00:00:00</td><td>-42.0</td></tr><tr><td>7</td><td>0.364118</td><td>2022-12-08 00:00:00</td><td>99.9</td></tr></tbody></table></div>"
      ],
      "text/plain": [
       "shape: (16, 4)\n",
       "┌─────┬──────────┬─────────────────────┬───────┐\n",
       "│ a   ┆ b        ┆ c                   ┆ d     │\n",
       "│ --- ┆ ---      ┆ ---                 ┆ ---   │\n",
       "│ i64 ┆ f64      ┆ datetime[μs]        ┆ f64   │\n",
       "╞═════╪══════════╪═════════════════════╪═══════╡\n",
       "│ 0   ┆ 0.879367 ┆ 2022-12-01 00:00:00 ┆ 1.0   │\n",
       "│ 1   ┆ 0.417416 ┆ 2022-12-02 00:00:00 ┆ 2.0   │\n",
       "│ 2   ┆ 0.815772 ┆ 2022-12-03 00:00:00 ┆ 99.9  │\n",
       "│ 3   ┆ 0.235698 ┆ 2022-12-04 00:00:00 ┆ 99.9  │\n",
       "│ …   ┆ …        ┆ …                   ┆ …     │\n",
       "│ 4   ┆ 0.819098 ┆ 2022-12-05 00:00:00 ┆ 0.0   │\n",
       "│ 5   ┆ 0.574275 ┆ 2022-12-06 00:00:00 ┆ -5.0  │\n",
       "│ 6   ┆ 0.033968 ┆ 2022-12-07 00:00:00 ┆ -42.0 │\n",
       "│ 7   ┆ 0.364118 ┆ 2022-12-08 00:00:00 ┆ 99.9  │\n",
       "└─────┴──────────┴─────────────────────┴───────┘"
      ]
     },
     "execution_count": 64,
     "metadata": {},
     "output_type": "execute_result"
    }
   ],
   "source": [
    "df.with_columns(\n",
    "    pl.col('d').fill_nan(None).fill_null(99.9)\n",
    ")"
   ]
  },
  {
   "cell_type": "code",
   "execution_count": 65,
   "id": "3d312cee",
   "metadata": {
    "ExecuteTime": {
     "end_time": "2023-12-12T20:19:04.075169Z",
     "start_time": "2023-12-12T20:19:04.066945Z"
    }
   },
   "outputs": [
    {
     "data": {
      "text/html": [
       "<div><style>\n",
       ".dataframe > thead > tr,\n",
       ".dataframe > tbody > tr {\n",
       "  text-align: right;\n",
       "  white-space: pre-wrap;\n",
       "}\n",
       "</style>\n",
       "<small>shape: (3, 4)</small><table border=\"1\" class=\"dataframe\"><thead><tr><th>a</th><th>b</th><th>c</th><th>d</th></tr><tr><td>i64</td><td>f64</td><td>datetime[μs]</td><td>f64</td></tr></thead><tbody><tr><td>0</td><td>0.879367</td><td>2022-12-01 00:00:00</td><td>1.0</td></tr><tr><td>2</td><td>0.815772</td><td>2022-12-03 00:00:00</td><td>NaN</td></tr><tr><td>5</td><td>0.574275</td><td>2022-12-06 00:00:00</td><td>-5.0</td></tr></tbody></table></div>"
      ],
      "text/plain": [
       "shape: (3, 4)\n",
       "┌─────┬──────────┬─────────────────────┬──────┐\n",
       "│ a   ┆ b        ┆ c                   ┆ d    │\n",
       "│ --- ┆ ---      ┆ ---                 ┆ ---  │\n",
       "│ i64 ┆ f64      ┆ datetime[μs]        ┆ f64  │\n",
       "╞═════╪══════════╪═════════════════════╪══════╡\n",
       "│ 0   ┆ 0.879367 ┆ 2022-12-01 00:00:00 ┆ 1.0  │\n",
       "│ 2   ┆ 0.815772 ┆ 2022-12-03 00:00:00 ┆ NaN  │\n",
       "│ 5   ┆ 0.574275 ┆ 2022-12-06 00:00:00 ┆ -5.0 │\n",
       "└─────┴──────────┴─────────────────────┴──────┘"
      ]
     },
     "execution_count": 65,
     "metadata": {},
     "output_type": "execute_result"
    }
   ],
   "source": [
    "df.sample(n=3, seed=1)"
   ]
  },
  {
   "cell_type": "code",
   "execution_count": 72,
   "id": "4ef1591a",
   "metadata": {
    "ExecuteTime": {
     "end_time": "2023-12-12T20:21:19.394307Z",
     "start_time": "2023-12-12T20:21:19.385825Z"
    }
   },
   "outputs": [
    {
     "data": {
      "text/html": [
       "<div><style>\n",
       ".dataframe > thead > tr,\n",
       ".dataframe > tbody > tr {\n",
       "  text-align: right;\n",
       "  white-space: pre-wrap;\n",
       "}\n",
       "</style>\n",
       "<small>shape: (7, 4)</small><table border=\"1\" class=\"dataframe\"><thead><tr><th>c_weekday</th><th>d_mean</th><th>d_count</th><th>d_median</th></tr><tr><td>u32</td><td>f64</td><td>u32</td><td>f64</td></tr></thead><tbody><tr><td>1</td><td>0.0</td><td>2</td><td>0.0</td></tr><tr><td>2</td><td>-5.0</td><td>2</td><td>-5.0</td></tr><tr><td>3</td><td>-42.0</td><td>2</td><td>-42.0</td></tr><tr><td>4</td><td>1.0</td><td>4</td><td>1.0</td></tr><tr><td>5</td><td>2.0</td><td>2</td><td>2.0</td></tr><tr><td>6</td><td>NaN</td><td>2</td><td>NaN</td></tr><tr><td>7</td><td>NaN</td><td>2</td><td>NaN</td></tr></tbody></table></div>"
      ],
      "text/plain": [
       "shape: (7, 4)\n",
       "┌───────────┬────────┬─────────┬──────────┐\n",
       "│ c_weekday ┆ d_mean ┆ d_count ┆ d_median │\n",
       "│ ---       ┆ ---    ┆ ---     ┆ ---      │\n",
       "│ u32       ┆ f64    ┆ u32     ┆ f64      │\n",
       "╞═══════════╪════════╪═════════╪══════════╡\n",
       "│ 1         ┆ 0.0    ┆ 2       ┆ 0.0      │\n",
       "│ 2         ┆ -5.0   ┆ 2       ┆ -5.0     │\n",
       "│ 3         ┆ -42.0  ┆ 2       ┆ -42.0    │\n",
       "│ 4         ┆ 1.0    ┆ 4       ┆ 1.0      │\n",
       "│ 5         ┆ 2.0    ┆ 2       ┆ 2.0      │\n",
       "│ 6         ┆ NaN    ┆ 2       ┆ NaN      │\n",
       "│ 7         ┆ NaN    ┆ 2       ┆ NaN      │\n",
       "└───────────┴────────┴─────────┴──────────┘"
      ]
     },
     "execution_count": 72,
     "metadata": {},
     "output_type": "execute_result"
    }
   ],
   "source": [
    "(df\n",
    " .group_by(\n",
    "     pl.col('c').dt.weekday().alias('c_weekday')\n",
    " )\n",
    " .agg(\n",
    "     pl.col('d').mean().alias('d_mean'),\n",
    "     pl.col('d').count().alias('d_count'),\n",
    "     pl.col('d').quantile(0.5).alias('d_median'),\n",
    "     pl.col('d').quantile(0.5).alias('d_median')\n",
    " )\n",
    " .sort('c_weekday')\n",
    ")"
   ]
  },
  {
   "cell_type": "code",
   "execution_count": null,
   "id": "390daa77",
   "metadata": {},
   "outputs": [],
   "source": []
  }
 ],
 "metadata": {
  "kernelspec": {
   "display_name": "Python 3 (ipykernel)",
   "language": "python",
   "name": "python3"
  },
  "language_info": {
   "codemirror_mode": {
    "name": "ipython",
    "version": 3
   },
   "file_extension": ".py",
   "mimetype": "text/x-python",
   "name": "python",
   "nbconvert_exporter": "python",
   "pygments_lexer": "ipython3",
   "version": "3.9.13"
  },
  "toc": {
   "base_numbering": 1,
   "nav_menu": {},
   "number_sections": true,
   "sideBar": true,
   "skip_h1_title": false,
   "title_cell": "Table of Contents",
   "title_sidebar": "Contents",
   "toc_cell": false,
   "toc_position": {},
   "toc_section_display": true,
   "toc_window_display": false
  }
 },
 "nbformat": 4,
 "nbformat_minor": 5
}
