{
 "cells": [
  {
   "cell_type": "markdown",
   "id": "742cd484",
   "metadata": {},
   "source": [
    "# Flights dataset\n",
    "\n",
    "https://www.kaggle.com/code/miquar/explore-flights-csv-airports-csv-airlines-csv/data?select=airlines.csv"
   ]
  },
  {
   "cell_type": "code",
   "execution_count": 1,
   "id": "92eaa8ab",
   "metadata": {
    "ExecuteTime": {
     "end_time": "2023-12-17T18:18:08.540286Z",
     "start_time": "2023-12-17T18:18:08.374589Z"
    }
   },
   "outputs": [],
   "source": [
    "import polars as pl\n",
    "import numpy as np\n",
    "from datetime import datetime, timedelta\n",
    "import os"
   ]
  },
  {
   "cell_type": "code",
   "execution_count": 2,
   "id": "c69a38e4",
   "metadata": {
    "ExecuteTime": {
     "end_time": "2023-12-17T18:18:08.550227Z",
     "start_time": "2023-12-17T18:18:08.542740Z"
    }
   },
   "outputs": [
    {
     "data": {
      "text/plain": [
       "['airlines.csv', 'flights.csv', 'airports.csv']"
      ]
     },
     "execution_count": 2,
     "metadata": {},
     "output_type": "execute_result"
    }
   ],
   "source": [
    "os.listdir('data')"
   ]
  },
  {
   "cell_type": "code",
   "execution_count": 3,
   "id": "dc20d68f",
   "metadata": {
    "ExecuteTime": {
     "end_time": "2023-12-17T18:18:08.713449Z",
     "start_time": "2023-12-17T18:18:08.701242Z"
    }
   },
   "outputs": [
    {
     "data": {
      "text/plain": [
       "(14, 2)"
      ]
     },
     "execution_count": 3,
     "metadata": {},
     "output_type": "execute_result"
    }
   ],
   "source": [
    "airlines_lazy_df = pl.scan_csv(os.path.join('data', 'airlines.csv'))\n",
    "airlines_df = airlines_lazy_df.collect()\n",
    "airlines_df.shape"
   ]
  },
  {
   "cell_type": "code",
   "execution_count": 4,
   "id": "c1af602d",
   "metadata": {
    "ExecuteTime": {
     "end_time": "2023-12-17T18:18:08.881228Z",
     "start_time": "2023-12-17T18:18:08.874228Z"
    }
   },
   "outputs": [
    {
     "data": {
      "text/html": [
       "<div><style>\n",
       ".dataframe > thead > tr,\n",
       ".dataframe > tbody > tr {\n",
       "  text-align: right;\n",
       "  white-space: pre-wrap;\n",
       "}\n",
       "</style>\n",
       "<small>shape: (5, 2)</small><table border=\"1\" class=\"dataframe\"><thead><tr><th>IATA_CODE</th><th>AIRLINE</th></tr><tr><td>str</td><td>str</td></tr></thead><tbody><tr><td>&quot;MQ&quot;</td><td>&quot;American Eagle…</td></tr><tr><td>&quot;EV&quot;</td><td>&quot;Atlantic South…</td></tr><tr><td>&quot;B6&quot;</td><td>&quot;JetBlue Airway…</td></tr><tr><td>&quot;DL&quot;</td><td>&quot;Delta Air Line…</td></tr><tr><td>&quot;AS&quot;</td><td>&quot;Alaska Airline…</td></tr></tbody></table></div>"
      ],
      "text/plain": [
       "shape: (5, 2)\n",
       "┌───────────┬──────────────────────────────┐\n",
       "│ IATA_CODE ┆ AIRLINE                      │\n",
       "│ ---       ┆ ---                          │\n",
       "│ str       ┆ str                          │\n",
       "╞═══════════╪══════════════════════════════╡\n",
       "│ MQ        ┆ American Eagle Airlines Inc. │\n",
       "│ EV        ┆ Atlantic Southeast Airlines  │\n",
       "│ B6        ┆ JetBlue Airways              │\n",
       "│ DL        ┆ Delta Air Lines Inc.         │\n",
       "│ AS        ┆ Alaska Airlines Inc.         │\n",
       "└───────────┴──────────────────────────────┘"
      ]
     },
     "execution_count": 4,
     "metadata": {},
     "output_type": "execute_result"
    }
   ],
   "source": [
    "airlines_df.sample(5)"
   ]
  },
  {
   "cell_type": "code",
   "execution_count": 5,
   "id": "2ce76c32",
   "metadata": {
    "ExecuteTime": {
     "end_time": "2023-12-17T18:18:09.086402Z",
     "start_time": "2023-12-17T18:18:09.083243Z"
    }
   },
   "outputs": [
    {
     "data": {
      "text/plain": [
       "['IATA_CODE', 'AIRLINE']"
      ]
     },
     "execution_count": 5,
     "metadata": {},
     "output_type": "execute_result"
    }
   ],
   "source": [
    "airlines_df.columns"
   ]
  },
  {
   "cell_type": "code",
   "execution_count": 6,
   "id": "e0878ce6",
   "metadata": {
    "ExecuteTime": {
     "end_time": "2023-12-17T18:18:10.562111Z",
     "start_time": "2023-12-17T18:18:10.555362Z"
    }
   },
   "outputs": [
    {
     "data": {
      "text/plain": [
       "['United Air Lines Inc.',\n",
       " 'American Airlines Inc.',\n",
       " 'US Airways Inc.',\n",
       " 'Frontier Airlines Inc.',\n",
       " 'JetBlue Airways',\n",
       " 'Skywest Airlines Inc.',\n",
       " 'Alaska Airlines Inc.',\n",
       " 'Spirit Air Lines',\n",
       " 'Southwest Airlines Co.',\n",
       " 'Delta Air Lines Inc.',\n",
       " 'Atlantic Southeast Airlines',\n",
       " 'Hawaiian Airlines Inc.',\n",
       " 'American Eagle Airlines Inc.',\n",
       " 'Virgin America']"
      ]
     },
     "execution_count": 6,
     "metadata": {},
     "output_type": "execute_result"
    }
   ],
   "source": [
    "airlines_df.get_column('AIRLINE').to_list()"
   ]
  },
  {
   "cell_type": "code",
   "execution_count": 7,
   "id": "4cc0baea",
   "metadata": {
    "ExecuteTime": {
     "end_time": "2023-12-17T18:18:10.722349Z",
     "start_time": "2023-12-17T18:18:10.717958Z"
    }
   },
   "outputs": [
    {
     "data": {
      "text/plain": [
       "['United Air Lines Inc.',\n",
       " 'American Airlines Inc.',\n",
       " 'US Airways Inc.',\n",
       " 'Frontier Airlines Inc.',\n",
       " 'JetBlue Airways',\n",
       " 'Skywest Airlines Inc.',\n",
       " 'Alaska Airlines Inc.',\n",
       " 'Spirit Air Lines',\n",
       " 'Southwest Airlines Co.',\n",
       " 'Delta Air Lines Inc.',\n",
       " 'Atlantic Southeast Airlines',\n",
       " 'Hawaiian Airlines Inc.',\n",
       " 'American Eagle Airlines Inc.',\n",
       " 'Virgin America']"
      ]
     },
     "execution_count": 7,
     "metadata": {},
     "output_type": "execute_result"
    }
   ],
   "source": [
    "list(airlines_df.select('AIRLINE')[:, 0])"
   ]
  },
  {
   "cell_type": "code",
   "execution_count": 8,
   "id": "b8b9d027",
   "metadata": {
    "ExecuteTime": {
     "end_time": "2023-12-17T18:18:10.882133Z",
     "start_time": "2023-12-17T18:18:10.875619Z"
    }
   },
   "outputs": [
    {
     "data": {
      "text/plain": [
       "(322, 7)"
      ]
     },
     "execution_count": 8,
     "metadata": {},
     "output_type": "execute_result"
    }
   ],
   "source": [
    "airports_lazy_df = pl.scan_csv(os.path.join('data', 'airports.csv'))\n",
    "airports_df = airports_lazy_df.collect()\n",
    "airports_df.shape"
   ]
  },
  {
   "cell_type": "code",
   "execution_count": 46,
   "id": "cba33411",
   "metadata": {
    "ExecuteTime": {
     "end_time": "2023-12-17T18:40:01.588872Z",
     "start_time": "2023-12-17T18:40:01.583528Z"
    }
   },
   "outputs": [
    {
     "data": {
      "text/html": [
       "<div><style>\n",
       ".dataframe > thead > tr,\n",
       ".dataframe > tbody > tr {\n",
       "  text-align: right;\n",
       "  white-space: pre-wrap;\n",
       "}\n",
       "</style>\n",
       "<small>shape: (5, 7)</small><table border=\"1\" class=\"dataframe\"><thead><tr><th>IATA_CODE</th><th>AIRPORT</th><th>CITY</th><th>STATE</th><th>COUNTRY</th><th>LATITUDE</th><th>LONGITUDE</th></tr><tr><td>str</td><td>str</td><td>str</td><td>str</td><td>str</td><td>f64</td><td>f64</td></tr></thead><tbody><tr><td>&quot;ABE&quot;</td><td>&quot;Lehigh Valley …</td><td>&quot;Allentown&quot;</td><td>&quot;PA&quot;</td><td>&quot;USA&quot;</td><td>40.65236</td><td>-75.4404</td></tr><tr><td>&quot;ABI&quot;</td><td>&quot;Abilene Region…</td><td>&quot;Abilene&quot;</td><td>&quot;TX&quot;</td><td>&quot;USA&quot;</td><td>32.41132</td><td>-99.6819</td></tr><tr><td>&quot;ABQ&quot;</td><td>&quot;Albuquerque In…</td><td>&quot;Albuquerque&quot;</td><td>&quot;NM&quot;</td><td>&quot;USA&quot;</td><td>35.04022</td><td>-106.60919</td></tr><tr><td>&quot;ABR&quot;</td><td>&quot;Aberdeen Regio…</td><td>&quot;Aberdeen&quot;</td><td>&quot;SD&quot;</td><td>&quot;USA&quot;</td><td>45.44906</td><td>-98.42183</td></tr><tr><td>&quot;ABY&quot;</td><td>&quot;Southwest Geor…</td><td>&quot;Albany&quot;</td><td>&quot;GA&quot;</td><td>&quot;USA&quot;</td><td>31.53552</td><td>-84.19447</td></tr></tbody></table></div>"
      ],
      "text/plain": [
       "shape: (5, 7)\n",
       "┌───────────┬──────────────────────────────┬─────────────┬───────┬─────────┬──────────┬────────────┐\n",
       "│ IATA_CODE ┆ AIRPORT                      ┆ CITY        ┆ STATE ┆ COUNTRY ┆ LATITUDE ┆ LONGITUDE  │\n",
       "│ ---       ┆ ---                          ┆ ---         ┆ ---   ┆ ---     ┆ ---      ┆ ---        │\n",
       "│ str       ┆ str                          ┆ str         ┆ str   ┆ str     ┆ f64      ┆ f64        │\n",
       "╞═══════════╪══════════════════════════════╪═════════════╪═══════╪═════════╪══════════╪════════════╡\n",
       "│ ABE       ┆ Lehigh Valley International  ┆ Allentown   ┆ PA    ┆ USA     ┆ 40.65236 ┆ -75.4404   │\n",
       "│           ┆ Airp…                        ┆             ┆       ┆         ┆          ┆            │\n",
       "│ ABI       ┆ Abilene Regional Airport     ┆ Abilene     ┆ TX    ┆ USA     ┆ 32.41132 ┆ -99.6819   │\n",
       "│ ABQ       ┆ Albuquerque International    ┆ Albuquerque ┆ NM    ┆ USA     ┆ 35.04022 ┆ -106.60919 │\n",
       "│           ┆ Sunpor…                      ┆             ┆       ┆         ┆          ┆            │\n",
       "│ ABR       ┆ Aberdeen Regional Airport    ┆ Aberdeen    ┆ SD    ┆ USA     ┆ 45.44906 ┆ -98.42183  │\n",
       "│ ABY       ┆ Southwest Georgia Regional   ┆ Albany      ┆ GA    ┆ USA     ┆ 31.53552 ┆ -84.19447  │\n",
       "│           ┆ Airpo…                       ┆             ┆       ┆         ┆          ┆            │\n",
       "└───────────┴──────────────────────────────┴─────────────┴───────┴─────────┴──────────┴────────────┘"
      ]
     },
     "execution_count": 46,
     "metadata": {},
     "output_type": "execute_result"
    }
   ],
   "source": [
    "airports_df.head()"
   ]
  },
  {
   "cell_type": "code",
   "execution_count": 47,
   "id": "6bb9cbb5",
   "metadata": {
    "ExecuteTime": {
     "end_time": "2023-12-17T18:40:22.076070Z",
     "start_time": "2023-12-17T18:40:22.066633Z"
    }
   },
   "outputs": [
    {
     "data": {
      "text/html": [
       "<div><style>\n",
       ".dataframe > thead > tr,\n",
       ".dataframe > tbody > tr {\n",
       "  text-align: right;\n",
       "  white-space: pre-wrap;\n",
       "}\n",
       "</style>\n",
       "<small>shape: (1, 7)</small><table border=\"1\" class=\"dataframe\"><thead><tr><th>IATA_CODE</th><th>AIRPORT</th><th>CITY</th><th>STATE</th><th>COUNTRY</th><th>LATITUDE</th><th>LONGITUDE</th></tr><tr><td>str</td><td>str</td><td>str</td><td>str</td><td>str</td><td>f64</td><td>f64</td></tr></thead><tbody><tr><td>&quot;GST&quot;</td><td>&quot;Gustavus Airpo…</td><td>&quot;Gustavus&quot;</td><td>&quot;AK&quot;</td><td>&quot;USA&quot;</td><td>58.42438</td><td>-135.70738</td></tr></tbody></table></div>"
      ],
      "text/plain": [
       "shape: (1, 7)\n",
       "┌───────────┬──────────────────┬──────────┬───────┬─────────┬──────────┬────────────┐\n",
       "│ IATA_CODE ┆ AIRPORT          ┆ CITY     ┆ STATE ┆ COUNTRY ┆ LATITUDE ┆ LONGITUDE  │\n",
       "│ ---       ┆ ---              ┆ ---      ┆ ---   ┆ ---     ┆ ---      ┆ ---        │\n",
       "│ str       ┆ str              ┆ str      ┆ str   ┆ str     ┆ f64      ┆ f64        │\n",
       "╞═══════════╪══════════════════╪══════════╪═══════╪═════════╪══════════╪════════════╡\n",
       "│ GST       ┆ Gustavus Airport ┆ Gustavus ┆ AK    ┆ USA     ┆ 58.42438 ┆ -135.70738 │\n",
       "└───────────┴──────────────────┴──────────┴───────┴─────────┴──────────┴────────────┘"
      ]
     },
     "execution_count": 47,
     "metadata": {},
     "output_type": "execute_result"
    }
   ],
   "source": [
    "airports_df.filter(pl.col('IATA_CODE') == \"GST\")"
   ]
  },
  {
   "cell_type": "code",
   "execution_count": 49,
   "id": "499f0c4a",
   "metadata": {
    "ExecuteTime": {
     "end_time": "2023-12-17T18:41:12.111770Z",
     "start_time": "2023-12-17T18:41:12.101801Z"
    }
   },
   "outputs": [
    {
     "data": {
      "text/html": [
       "<div><style>\n",
       ".dataframe > thead > tr,\n",
       ".dataframe > tbody > tr {\n",
       "  text-align: right;\n",
       "  white-space: pre-wrap;\n",
       "}\n",
       "</style>\n",
       "<small>shape: (2, 7)</small><table border=\"1\" class=\"dataframe\"><thead><tr><th>IATA_CODE</th><th>AIRPORT</th><th>CITY</th><th>STATE</th><th>COUNTRY</th><th>LATITUDE</th><th>LONGITUDE</th></tr><tr><td>str</td><td>str</td><td>str</td><td>str</td><td>str</td><td>f64</td><td>f64</td></tr></thead><tbody><tr><td>&quot;ADK&quot;</td><td>&quot;Adak Airport&quot;</td><td>&quot;Adak&quot;</td><td>&quot;AK&quot;</td><td>&quot;USA&quot;</td><td>51.87796</td><td>-176.64603</td></tr><tr><td>&quot;GST&quot;</td><td>&quot;Gustavus Airpo…</td><td>&quot;Gustavus&quot;</td><td>&quot;AK&quot;</td><td>&quot;USA&quot;</td><td>58.42438</td><td>-135.70738</td></tr></tbody></table></div>"
      ],
      "text/plain": [
       "shape: (2, 7)\n",
       "┌───────────┬──────────────────┬──────────┬───────┬─────────┬──────────┬────────────┐\n",
       "│ IATA_CODE ┆ AIRPORT          ┆ CITY     ┆ STATE ┆ COUNTRY ┆ LATITUDE ┆ LONGITUDE  │\n",
       "│ ---       ┆ ---              ┆ ---      ┆ ---   ┆ ---     ┆ ---      ┆ ---        │\n",
       "│ str       ┆ str              ┆ str      ┆ str   ┆ str     ┆ f64      ┆ f64        │\n",
       "╞═══════════╪══════════════════╪══════════╪═══════╪═════════╪══════════╪════════════╡\n",
       "│ ADK       ┆ Adak Airport     ┆ Adak     ┆ AK    ┆ USA     ┆ 51.87796 ┆ -176.64603 │\n",
       "│ GST       ┆ Gustavus Airport ┆ Gustavus ┆ AK    ┆ USA     ┆ 58.42438 ┆ -135.70738 │\n",
       "└───────────┴──────────────────┴──────────┴───────┴─────────┴──────────┴────────────┘"
      ]
     },
     "execution_count": 49,
     "metadata": {},
     "output_type": "execute_result"
    }
   ],
   "source": [
    "airports_df.filter(pl.col('IATA_CODE').is_in([\"GST\", \"ADK\"]))"
   ]
  },
  {
   "cell_type": "code",
   "execution_count": 10,
   "id": "bb04e527",
   "metadata": {
    "ExecuteTime": {
     "end_time": "2023-12-17T18:18:11.641023Z",
     "start_time": "2023-12-17T18:18:11.622569Z"
    }
   },
   "outputs": [
    {
     "data": {
      "text/html": [
       "<div><style>\n",
       ".dataframe > thead > tr,\n",
       ".dataframe > tbody > tr {\n",
       "  text-align: right;\n",
       "  white-space: pre-wrap;\n",
       "}\n",
       "</style>\n",
       "<small>shape: (54, 7)</small><table border=\"1\" class=\"dataframe\"><thead><tr><th>IATA_CODE</th><th>AIRPORT</th><th>CITY</th><th>STATE</th><th>COUNTRY</th><th>LATITUDE</th><th>LONGITUDE</th></tr><tr><td>str</td><td>str</td><td>str</td><td>str</td><td>str</td><td>f64</td><td>f64</td></tr></thead><tbody><tr><td>&quot;GCK&quot;</td><td>&quot;Garden City Re…</td><td>&quot;Garden City&quot;</td><td>&quot;KS&quot;</td><td>&quot;USA&quot;</td><td>37.92752</td><td>-100.72441</td></tr><tr><td>&quot;BMI&quot;</td><td>&quot;Central Illino…</td><td>&quot;Bloomington&quot;</td><td>&quot;IL&quot;</td><td>&quot;USA&quot;</td><td>40.47799</td><td>-88.91595</td></tr><tr><td>&quot;HNL&quot;</td><td>&quot;Honolulu Inter…</td><td>&quot;Honolulu&quot;</td><td>&quot;HI&quot;</td><td>&quot;USA&quot;</td><td>21.31869</td><td>-157.92241</td></tr><tr><td>&quot;EUG&quot;</td><td>&quot;Eugene Airport…</td><td>&quot;Eugene&quot;</td><td>&quot;OR&quot;</td><td>&quot;USA&quot;</td><td>44.12326</td><td>-123.21869</td></tr><tr><td>&quot;BIL&quot;</td><td>&quot;Billings Logan…</td><td>&quot;Billings&quot;</td><td>&quot;MT&quot;</td><td>&quot;USA&quot;</td><td>45.80766</td><td>-108.54286</td></tr><tr><td>&quot;PPG&quot;</td><td>&quot;Pago Pago Inte…</td><td>&quot;Pago Pago&quot;</td><td>&quot;AS&quot;</td><td>&quot;USA&quot;</td><td>14.33102</td><td>-170.71053</td></tr><tr><td>&quot;COD&quot;</td><td>&quot;Yellowstone Re…</td><td>&quot;Cody&quot;</td><td>&quot;WY&quot;</td><td>&quot;USA&quot;</td><td>44.52019</td><td>-109.0238</td></tr><tr><td>&quot;COU&quot;</td><td>&quot;Columbia Regio…</td><td>&quot;Columbia&quot;</td><td>&quot;MO&quot;</td><td>&quot;USA&quot;</td><td>38.81809</td><td>-92.21963</td></tr><tr><td>&quot;BJI&quot;</td><td>&quot;Bemidji Region…</td><td>&quot;Bemidji&quot;</td><td>&quot;MN&quot;</td><td>&quot;USA&quot;</td><td>47.50942</td><td>-94.93372</td></tr><tr><td>&quot;BIS&quot;</td><td>&quot;Bismarck Munic…</td><td>&quot;Bismarck&quot;</td><td>&quot;ND&quot;</td><td>&quot;USA&quot;</td><td>46.77411</td><td>-100.74672</td></tr><tr><td>&quot;CRW&quot;</td><td>&quot;Yeager Airport…</td><td>&quot;Charleston&quot;</td><td>&quot;WV&quot;</td><td>&quot;USA&quot;</td><td>38.37315</td><td>-81.59319</td></tr><tr><td>&quot;ADK&quot;</td><td>&quot;Adak Airport&quot;</td><td>&quot;Adak&quot;</td><td>&quot;AK&quot;</td><td>&quot;USA&quot;</td><td>51.87796</td><td>-176.64603</td></tr><tr><td>&hellip;</td><td>&hellip;</td><td>&hellip;</td><td>&hellip;</td><td>&hellip;</td><td>&hellip;</td><td>&hellip;</td></tr><tr><td>&quot;CAE&quot;</td><td>&quot;Columbia Metro…</td><td>&quot;Columbia&quot;</td><td>&quot;SC&quot;</td><td>&quot;USA&quot;</td><td>33.93884</td><td>-81.11954</td></tr><tr><td>&quot;BQN&quot;</td><td>&quot;Rafael Hernánd…</td><td>&quot;Aguadilla&quot;</td><td>&quot;PR&quot;</td><td>&quot;USA&quot;</td><td>18.49486</td><td>-67.12944</td></tr><tr><td>&quot;ABI&quot;</td><td>&quot;Abilene Region…</td><td>&quot;Abilene&quot;</td><td>&quot;TX&quot;</td><td>&quot;USA&quot;</td><td>32.41132</td><td>-99.6819</td></tr><tr><td>&quot;MHT&quot;</td><td>&quot;Manchester-Bos…</td><td>&quot;Manchester&quot;</td><td>&quot;NH&quot;</td><td>&quot;USA&quot;</td><td>42.93452</td><td>-71.43706</td></tr><tr><td>&quot;STT&quot;</td><td>&quot;Cyril E. King …</td><td>&quot;Charlotte Amal…</td><td>&quot;VI&quot;</td><td>&quot;USA&quot;</td><td>18.33731</td><td>-64.97336</td></tr><tr><td>&quot;BLI&quot;</td><td>&quot;Bellingham Int…</td><td>&quot;Bellingham&quot;</td><td>&quot;WA&quot;</td><td>&quot;USA&quot;</td><td>48.79275</td><td>-122.53753</td></tr><tr><td>&quot;ABR&quot;</td><td>&quot;Aberdeen Regio…</td><td>&quot;Aberdeen&quot;</td><td>&quot;SD&quot;</td><td>&quot;USA&quot;</td><td>45.44906</td><td>-98.42183</td></tr><tr><td>&quot;EVV&quot;</td><td>&quot;Evansville Reg…</td><td>&quot;Evansville&quot;</td><td>&quot;IN&quot;</td><td>&quot;USA&quot;</td><td>38.03799</td><td>-87.53063</td></tr><tr><td>&quot;BNA&quot;</td><td>&quot;Nashville Inte…</td><td>&quot;Nashville&quot;</td><td>&quot;TN&quot;</td><td>&quot;USA&quot;</td><td>36.12448</td><td>-86.67818</td></tr><tr><td>&quot;EKO&quot;</td><td>&quot;Elko Regional …</td><td>&quot;Elko&quot;</td><td>&quot;NV&quot;</td><td>&quot;USA&quot;</td><td>40.82493</td><td>-115.7917</td></tr><tr><td>&quot;ALB&quot;</td><td>&quot;Albany Interna…</td><td>&quot;Albany&quot;</td><td>&quot;NY&quot;</td><td>&quot;USA&quot;</td><td>42.74812</td><td>-73.80298</td></tr><tr><td>&quot;ALO&quot;</td><td>&quot;Waterloo Regio…</td><td>&quot;Waterloo&quot;</td><td>&quot;IA&quot;</td><td>&quot;USA&quot;</td><td>42.55708</td><td>-92.40034</td></tr></tbody></table></div>"
      ],
      "text/plain": [
       "shape: (54, 7)\n",
       "┌───────────┬──────────────────────────────┬─────────────┬───────┬─────────┬──────────┬────────────┐\n",
       "│ IATA_CODE ┆ AIRPORT                      ┆ CITY        ┆ STATE ┆ COUNTRY ┆ LATITUDE ┆ LONGITUDE  │\n",
       "│ ---       ┆ ---                          ┆ ---         ┆ ---   ┆ ---     ┆ ---      ┆ ---        │\n",
       "│ str       ┆ str                          ┆ str         ┆ str   ┆ str     ┆ f64      ┆ f64        │\n",
       "╞═══════════╪══════════════════════════════╪═════════════╪═══════╪═════════╪══════════╪════════════╡\n",
       "│ GCK       ┆ Garden City Regional Airport ┆ Garden City ┆ KS    ┆ USA     ┆ 37.92752 ┆ -100.72441 │\n",
       "│ BMI       ┆ Central Illinois Regional    ┆ Bloomington ┆ IL    ┆ USA     ┆ 40.47799 ┆ -88.91595  │\n",
       "│           ┆ Airpor…                      ┆             ┆       ┆         ┆          ┆            │\n",
       "│ HNL       ┆ Honolulu International       ┆ Honolulu    ┆ HI    ┆ USA     ┆ 21.31869 ┆ -157.92241 │\n",
       "│           ┆ Airport                      ┆             ┆       ┆         ┆          ┆            │\n",
       "│ EUG       ┆ Eugene Airport (Mahlon Sweet ┆ Eugene      ┆ OR    ┆ USA     ┆ 44.12326 ┆ -123.21869 │\n",
       "│           ┆ Fie…                         ┆             ┆       ┆         ┆          ┆            │\n",
       "│ …         ┆ …                            ┆ …           ┆ …     ┆ …       ┆ …        ┆ …          │\n",
       "│ BNA       ┆ Nashville International      ┆ Nashville   ┆ TN    ┆ USA     ┆ 36.12448 ┆ -86.67818  │\n",
       "│           ┆ Airport                      ┆             ┆       ┆         ┆          ┆            │\n",
       "│ EKO       ┆ Elko Regional Airport        ┆ Elko        ┆ NV    ┆ USA     ┆ 40.82493 ┆ -115.7917  │\n",
       "│ ALB       ┆ Albany International Airport ┆ Albany      ┆ NY    ┆ USA     ┆ 42.74812 ┆ -73.80298  │\n",
       "│ ALO       ┆ Waterloo Regional Airport    ┆ Waterloo    ┆ IA    ┆ USA     ┆ 42.55708 ┆ -92.40034  │\n",
       "└───────────┴──────────────────────────────┴─────────────┴───────┴─────────┴──────────┴────────────┘"
      ]
     },
     "execution_count": 10,
     "metadata": {},
     "output_type": "execute_result"
    }
   ],
   "source": [
    "airports_df.unique(subset='STATE')"
   ]
  },
  {
   "cell_type": "code",
   "execution_count": 11,
   "id": "890e1438",
   "metadata": {
    "ExecuteTime": {
     "end_time": "2023-12-17T18:18:14.016481Z",
     "start_time": "2023-12-17T18:18:13.998511Z"
    }
   },
   "outputs": [
    {
     "data": {
      "text/plain": [
       "(5, 31)"
      ]
     },
     "execution_count": 11,
     "metadata": {},
     "output_type": "execute_result"
    }
   ],
   "source": [
    "flights_lazy_df = pl.scan_csv(os.path.join('data', 'flights.csv'))\n",
    "flights_df = flights_lazy_df.head().collect()\n",
    "flights_df.shape"
   ]
  },
  {
   "cell_type": "code",
   "execution_count": 12,
   "id": "1911a545",
   "metadata": {
    "ExecuteTime": {
     "end_time": "2023-12-17T18:18:15.484713Z",
     "start_time": "2023-12-17T18:18:15.476782Z"
    }
   },
   "outputs": [
    {
     "data": {
      "text/plain": [
       "['YEAR',\n",
       " 'MONTH',\n",
       " 'DAY',\n",
       " 'DAY_OF_WEEK',\n",
       " 'AIRLINE',\n",
       " 'FLIGHT_NUMBER',\n",
       " 'TAIL_NUMBER',\n",
       " 'ORIGIN_AIRPORT',\n",
       " 'DESTINATION_AIRPORT',\n",
       " 'SCHEDULED_DEPARTURE',\n",
       " 'DEPARTURE_TIME',\n",
       " 'DEPARTURE_DELAY',\n",
       " 'TAXI_OUT',\n",
       " 'WHEELS_OFF',\n",
       " 'SCHEDULED_TIME',\n",
       " 'ELAPSED_TIME',\n",
       " 'AIR_TIME',\n",
       " 'DISTANCE',\n",
       " 'WHEELS_ON',\n",
       " 'TAXI_IN',\n",
       " 'SCHEDULED_ARRIVAL',\n",
       " 'ARRIVAL_TIME',\n",
       " 'ARRIVAL_DELAY',\n",
       " 'DIVERTED',\n",
       " 'CANCELLED',\n",
       " 'CANCELLATION_REASON',\n",
       " 'AIR_SYSTEM_DELAY',\n",
       " 'SECURITY_DELAY',\n",
       " 'AIRLINE_DELAY',\n",
       " 'LATE_AIRCRAFT_DELAY',\n",
       " 'WEATHER_DELAY']"
      ]
     },
     "execution_count": 12,
     "metadata": {},
     "output_type": "execute_result"
    }
   ],
   "source": [
    "flights_df.columns"
   ]
  },
  {
   "cell_type": "code",
   "execution_count": 13,
   "id": "76661774",
   "metadata": {
    "ExecuteTime": {
     "end_time": "2023-12-17T18:18:15.723650Z",
     "start_time": "2023-12-17T18:18:15.714444Z"
    }
   },
   "outputs": [
    {
     "data": {
      "text/html": [
       "<div><style>\n",
       ".dataframe > thead > tr,\n",
       ".dataframe > tbody > tr {\n",
       "  text-align: right;\n",
       "  white-space: pre-wrap;\n",
       "}\n",
       "</style>\n",
       "<small>shape: (5, 31)</small><table border=\"1\" class=\"dataframe\"><thead><tr><th>YEAR</th><th>MONTH</th><th>DAY</th><th>DAY_OF_WEEK</th><th>AIRLINE</th><th>FLIGHT_NUMBER</th><th>TAIL_NUMBER</th><th>ORIGIN_AIRPORT</th><th>DESTINATION_AIRPORT</th><th>SCHEDULED_DEPARTURE</th><th>DEPARTURE_TIME</th><th>DEPARTURE_DELAY</th><th>TAXI_OUT</th><th>WHEELS_OFF</th><th>SCHEDULED_TIME</th><th>ELAPSED_TIME</th><th>AIR_TIME</th><th>DISTANCE</th><th>WHEELS_ON</th><th>TAXI_IN</th><th>SCHEDULED_ARRIVAL</th><th>ARRIVAL_TIME</th><th>ARRIVAL_DELAY</th><th>DIVERTED</th><th>CANCELLED</th><th>CANCELLATION_REASON</th><th>AIR_SYSTEM_DELAY</th><th>SECURITY_DELAY</th><th>AIRLINE_DELAY</th><th>LATE_AIRCRAFT_DELAY</th><th>WEATHER_DELAY</th></tr><tr><td>i64</td><td>i64</td><td>i64</td><td>i64</td><td>str</td><td>i64</td><td>str</td><td>str</td><td>str</td><td>i64</td><td>i64</td><td>i64</td><td>i64</td><td>i64</td><td>i64</td><td>i64</td><td>i64</td><td>i64</td><td>i64</td><td>i64</td><td>i64</td><td>i64</td><td>i64</td><td>i64</td><td>i64</td><td>str</td><td>i64</td><td>i64</td><td>i64</td><td>i64</td><td>i64</td></tr></thead><tbody><tr><td>2015</td><td>1</td><td>1</td><td>4</td><td>&quot;AS&quot;</td><td>98</td><td>&quot;N407AS&quot;</td><td>&quot;ANC&quot;</td><td>&quot;SEA&quot;</td><td>5</td><td>2354</td><td>-11</td><td>21</td><td>15</td><td>205</td><td>194</td><td>169</td><td>1448</td><td>404</td><td>4</td><td>430</td><td>408</td><td>-22</td><td>0</td><td>0</td><td>null</td><td>null</td><td>null</td><td>null</td><td>null</td><td>null</td></tr><tr><td>2015</td><td>1</td><td>1</td><td>4</td><td>&quot;AA&quot;</td><td>2336</td><td>&quot;N3KUAA&quot;</td><td>&quot;LAX&quot;</td><td>&quot;PBI&quot;</td><td>10</td><td>2</td><td>-8</td><td>12</td><td>14</td><td>280</td><td>279</td><td>263</td><td>2330</td><td>737</td><td>4</td><td>750</td><td>741</td><td>-9</td><td>0</td><td>0</td><td>null</td><td>null</td><td>null</td><td>null</td><td>null</td><td>null</td></tr><tr><td>2015</td><td>1</td><td>1</td><td>4</td><td>&quot;US&quot;</td><td>840</td><td>&quot;N171US&quot;</td><td>&quot;SFO&quot;</td><td>&quot;CLT&quot;</td><td>20</td><td>18</td><td>-2</td><td>16</td><td>34</td><td>286</td><td>293</td><td>266</td><td>2296</td><td>800</td><td>11</td><td>806</td><td>811</td><td>5</td><td>0</td><td>0</td><td>null</td><td>null</td><td>null</td><td>null</td><td>null</td><td>null</td></tr><tr><td>2015</td><td>1</td><td>1</td><td>4</td><td>&quot;AA&quot;</td><td>258</td><td>&quot;N3HYAA&quot;</td><td>&quot;LAX&quot;</td><td>&quot;MIA&quot;</td><td>20</td><td>15</td><td>-5</td><td>15</td><td>30</td><td>285</td><td>281</td><td>258</td><td>2342</td><td>748</td><td>8</td><td>805</td><td>756</td><td>-9</td><td>0</td><td>0</td><td>null</td><td>null</td><td>null</td><td>null</td><td>null</td><td>null</td></tr><tr><td>2015</td><td>1</td><td>1</td><td>4</td><td>&quot;AS&quot;</td><td>135</td><td>&quot;N527AS&quot;</td><td>&quot;SEA&quot;</td><td>&quot;ANC&quot;</td><td>25</td><td>24</td><td>-1</td><td>11</td><td>35</td><td>235</td><td>215</td><td>199</td><td>1448</td><td>254</td><td>5</td><td>320</td><td>259</td><td>-21</td><td>0</td><td>0</td><td>null</td><td>null</td><td>null</td><td>null</td><td>null</td><td>null</td></tr></tbody></table></div>"
      ],
      "text/plain": [
       "shape: (5, 31)\n",
       "┌──────┬───────┬─────┬─────────────┬───┬──────────────┬──────────────┬──────────────┬──────────────┐\n",
       "│ YEAR ┆ MONTH ┆ DAY ┆ DAY_OF_WEEK ┆ … ┆ SECURITY_DEL ┆ AIRLINE_DELA ┆ LATE_AIRCRAF ┆ WEATHER_DELA │\n",
       "│ ---  ┆ ---   ┆ --- ┆ ---         ┆   ┆ AY           ┆ Y            ┆ T_DELAY      ┆ Y            │\n",
       "│ i64  ┆ i64   ┆ i64 ┆ i64         ┆   ┆ ---          ┆ ---          ┆ ---          ┆ ---          │\n",
       "│      ┆       ┆     ┆             ┆   ┆ i64          ┆ i64          ┆ i64          ┆ i64          │\n",
       "╞══════╪═══════╪═════╪═════════════╪═══╪══════════════╪══════════════╪══════════════╪══════════════╡\n",
       "│ 2015 ┆ 1     ┆ 1   ┆ 4           ┆ … ┆ null         ┆ null         ┆ null         ┆ null         │\n",
       "│ 2015 ┆ 1     ┆ 1   ┆ 4           ┆ … ┆ null         ┆ null         ┆ null         ┆ null         │\n",
       "│ 2015 ┆ 1     ┆ 1   ┆ 4           ┆ … ┆ null         ┆ null         ┆ null         ┆ null         │\n",
       "│ 2015 ┆ 1     ┆ 1   ┆ 4           ┆ … ┆ null         ┆ null         ┆ null         ┆ null         │\n",
       "│ 2015 ┆ 1     ┆ 1   ┆ 4           ┆ … ┆ null         ┆ null         ┆ null         ┆ null         │\n",
       "└──────┴───────┴─────┴─────────────┴───┴──────────────┴──────────────┴──────────────┴──────────────┘"
      ]
     },
     "execution_count": 13,
     "metadata": {},
     "output_type": "execute_result"
    }
   ],
   "source": [
    "flights_df.head()"
   ]
  },
  {
   "cell_type": "code",
   "execution_count": 14,
   "id": "1a18f691",
   "metadata": {
    "ExecuteTime": {
     "end_time": "2023-12-17T18:18:16.117872Z",
     "start_time": "2023-12-17T18:18:15.907437Z"
    }
   },
   "outputs": [],
   "source": [
    "import pandas as pd"
   ]
  },
  {
   "cell_type": "code",
   "execution_count": 16,
   "id": "2be7ed32",
   "metadata": {
    "ExecuteTime": {
     "end_time": "2023-12-17T18:11:32.402840Z",
     "start_time": "2023-12-17T18:11:19.754829Z"
    }
   },
   "outputs": [
    {
     "name": "stderr",
     "output_type": "stream",
     "text": [
      "/tmp/ipykernel_6541/3701127378.py:1: DtypeWarning: Columns (7,8) have mixed types. Specify dtype option on import or set low_memory=False.\n",
      "  df = pd.read_csv(os.path.join('data', 'flights.csv'))\n"
     ]
    }
   ],
   "source": [
    "df = pd.read_csv(os.path.join('data', 'flights.csv'))"
   ]
  },
  {
   "cell_type": "code",
   "execution_count": 15,
   "id": "e0001c0c",
   "metadata": {
    "ExecuteTime": {
     "end_time": "2023-12-17T18:18:20.790795Z",
     "start_time": "2023-12-17T18:18:19.309631Z"
    }
   },
   "outputs": [
    {
     "data": {
      "text/plain": [
       "(5819079, 31)"
      ]
     },
     "execution_count": 15,
     "metadata": {},
     "output_type": "execute_result"
    }
   ],
   "source": [
    "flights_lazy_df = pl.scan_csv(os.path.join('data', 'flights.csv'))\n",
    "flights_df = flights_lazy_df.collect()\n",
    "flights_df.shape"
   ]
  },
  {
   "cell_type": "code",
   "execution_count": 16,
   "id": "d7d3b37f",
   "metadata": {
    "ExecuteTime": {
     "end_time": "2023-12-17T18:18:20.915917Z",
     "start_time": "2023-12-17T18:18:20.792672Z"
    }
   },
   "outputs": [
    {
     "name": "stdout",
     "output_type": "stream",
     "text": [
      "YEAR,MONTH,DAY,DAY_OF_WEEK,AIRLINE,FLIGHT_NUMBER,TAIL_NUMBER,ORIGIN_AIRPORT,DESTINATION_AIRPORT,SCHEDULED_DEPARTURE,DEPARTURE_TIME,DEPARTURE_DELAY,TAXI_OUT,WHEELS_OFF,SCHEDULED_TIME,ELAPSED_TIME,AIR_TIME,DISTANCE,WHEELS_ON,TAXI_IN,SCHEDULED_ARRIVAL,ARRIVAL_TIME,ARRIVAL_DELAY,DIVERTED,CANCELLED,CANCELLATION_REASON,AIR_SYSTEM_DELAY,SECURITY_DELAY,AIRLINE_DELAY,LATE_AIRCRAFT_DELAY,WEATHER_DELAY\r\n",
      "2015,1,1,4,AS,98,N407AS,ANC,SEA,0005,2354,-11,21,0015,205,194,169,1448,0404,4,0430,0408,-22,0,0,,,,,,\r\n"
     ]
    }
   ],
   "source": [
    "!head -n 2 data/flights.csv"
   ]
  },
  {
   "cell_type": "code",
   "execution_count": 17,
   "id": "a5b09a5f",
   "metadata": {
    "ExecuteTime": {
     "end_time": "2023-12-17T18:18:22.732899Z",
     "start_time": "2023-12-17T18:18:20.918300Z"
    }
   },
   "outputs": [],
   "source": [
    "flights_df.write_parquet('flights.parquet', compression='zstd')"
   ]
  },
  {
   "cell_type": "code",
   "execution_count": 18,
   "id": "ebcc0ec0",
   "metadata": {
    "ExecuteTime": {
     "end_time": "2023-12-17T18:18:22.779286Z",
     "start_time": "2023-12-17T18:18:22.735119Z"
    }
   },
   "outputs": [
    {
     "data": {
      "text/plain": [
       "(5819079, 1)"
      ]
     },
     "execution_count": 18,
     "metadata": {},
     "output_type": "execute_result"
    }
   ],
   "source": [
    "flights_lazy_df = pl.scan_parquet('flights.parquet')\n",
    "flights_df = flights_lazy_df.select('ARRIVAL_TIME').collect()\n",
    "flights_df.shape"
   ]
  },
  {
   "cell_type": "code",
   "execution_count": 19,
   "id": "06790b61",
   "metadata": {
    "ExecuteTime": {
     "end_time": "2023-12-17T18:18:22.790029Z",
     "start_time": "2023-12-17T18:18:22.780745Z"
    }
   },
   "outputs": [
    {
     "data": {
      "text/plain": [
       "OrderedDict([('YEAR', Int64),\n",
       "             ('MONTH', Int64),\n",
       "             ('DAY', Int64),\n",
       "             ('DAY_OF_WEEK', Int64),\n",
       "             ('AIRLINE', Utf8),\n",
       "             ('FLIGHT_NUMBER', Int64),\n",
       "             ('TAIL_NUMBER', Utf8),\n",
       "             ('ORIGIN_AIRPORT', Utf8),\n",
       "             ('DESTINATION_AIRPORT', Utf8),\n",
       "             ('SCHEDULED_DEPARTURE', Int64),\n",
       "             ('DEPARTURE_TIME', Int64),\n",
       "             ('DEPARTURE_DELAY', Int64),\n",
       "             ('TAXI_OUT', Int64),\n",
       "             ('WHEELS_OFF', Int64),\n",
       "             ('SCHEDULED_TIME', Int64),\n",
       "             ('ELAPSED_TIME', Int64),\n",
       "             ('AIR_TIME', Int64),\n",
       "             ('DISTANCE', Int64),\n",
       "             ('WHEELS_ON', Int64),\n",
       "             ('TAXI_IN', Int64),\n",
       "             ('SCHEDULED_ARRIVAL', Int64),\n",
       "             ('ARRIVAL_TIME', Int64),\n",
       "             ('ARRIVAL_DELAY', Int64),\n",
       "             ('DIVERTED', Int64),\n",
       "             ('CANCELLED', Int64),\n",
       "             ('CANCELLATION_REASON', Utf8),\n",
       "             ('AIR_SYSTEM_DELAY', Int64),\n",
       "             ('SECURITY_DELAY', Int64),\n",
       "             ('AIRLINE_DELAY', Int64),\n",
       "             ('LATE_AIRCRAFT_DELAY', Int64),\n",
       "             ('WEATHER_DELAY', Int64)])"
      ]
     },
     "execution_count": 19,
     "metadata": {},
     "output_type": "execute_result"
    }
   ],
   "source": [
    "pl.scan_parquet('flights.parquet').schema"
   ]
  },
  {
   "cell_type": "code",
   "execution_count": 20,
   "id": "1dbc9e01",
   "metadata": {
    "ExecuteTime": {
     "end_time": "2023-12-17T18:18:23.646564Z",
     "start_time": "2023-12-17T18:18:22.811657Z"
    }
   },
   "outputs": [
    {
     "data": {
      "text/plain": [
       "(5819079, 31)"
      ]
     },
     "execution_count": 20,
     "metadata": {},
     "output_type": "execute_result"
    }
   ],
   "source": [
    "flights_lazy_df = pl.scan_parquet('flights.parquet')\n",
    "flights_df = flights_lazy_df.collect()\n",
    "flights_df.shape"
   ]
  },
  {
   "cell_type": "code",
   "execution_count": 21,
   "id": "ac48d2ba",
   "metadata": {
    "ExecuteTime": {
     "end_time": "2023-12-17T18:18:23.755022Z",
     "start_time": "2023-12-17T18:18:23.648092Z"
    },
    "scrolled": true
   },
   "outputs": [],
   "source": [
    "flights_airports = set(list(flights_df.unique(subset=[\"ORIGIN_AIRPORT\"]).select('ORIGIN_AIRPORT')[:, 0]))"
   ]
  },
  {
   "cell_type": "code",
   "execution_count": 22,
   "id": "e9e5fe35",
   "metadata": {
    "ExecuteTime": {
     "end_time": "2023-12-17T18:18:23.760875Z",
     "start_time": "2023-12-17T18:18:23.756342Z"
    }
   },
   "outputs": [],
   "source": [
    "airports_iata_codes = set(list(airports_df.unique(subset=[\"IATA_CODE\"]).select('IATA_CODE')[:, 0]))"
   ]
  },
  {
   "cell_type": "code",
   "execution_count": 23,
   "id": "b5ad684d",
   "metadata": {
    "ExecuteTime": {
     "end_time": "2023-12-17T18:18:23.767610Z",
     "start_time": "2023-12-17T18:18:23.763457Z"
    }
   },
   "outputs": [
    {
     "data": {
      "text/plain": [
       "False"
      ]
     },
     "execution_count": 23,
     "metadata": {},
     "output_type": "execute_result"
    }
   ],
   "source": [
    "flights_airports == airports_iata_codes"
   ]
  },
  {
   "cell_type": "code",
   "execution_count": 24,
   "id": "c5c69738",
   "metadata": {
    "ExecuteTime": {
     "end_time": "2023-12-17T18:18:23.774084Z",
     "start_time": "2023-12-17T18:18:23.769763Z"
    }
   },
   "outputs": [
    {
     "data": {
      "text/plain": [
       "322"
      ]
     },
     "execution_count": 24,
     "metadata": {},
     "output_type": "execute_result"
    }
   ],
   "source": [
    "len(flights_airports.intersection(airports_iata_codes))"
   ]
  },
  {
   "cell_type": "code",
   "execution_count": 25,
   "id": "08eb0ab8",
   "metadata": {
    "ExecuteTime": {
     "end_time": "2023-12-17T18:18:23.814822Z",
     "start_time": "2023-12-17T18:18:23.806576Z"
    }
   },
   "outputs": [
    {
     "data": {
      "text/plain": [
       "{'10135',\n",
       " '10136',\n",
       " '10140',\n",
       " '10141',\n",
       " '10146',\n",
       " '10154',\n",
       " '10155',\n",
       " '10157',\n",
       " '10158',\n",
       " '10165',\n",
       " '10170',\n",
       " '10185',\n",
       " '10208',\n",
       " '10257',\n",
       " '10268',\n",
       " '10279',\n",
       " '10299',\n",
       " '10333',\n",
       " '10372',\n",
       " '10397',\n",
       " '10408',\n",
       " '10423',\n",
       " '10431',\n",
       " '10434',\n",
       " '10469',\n",
       " '10529',\n",
       " '10551',\n",
       " '10561',\n",
       " '10577',\n",
       " '10581',\n",
       " '10599',\n",
       " '10620',\n",
       " '10627',\n",
       " '10631',\n",
       " '10685',\n",
       " '10693',\n",
       " '10713',\n",
       " '10721',\n",
       " '10728',\n",
       " '10731',\n",
       " '10732',\n",
       " '10739',\n",
       " '10747',\n",
       " '10754',\n",
       " '10779',\n",
       " '10781',\n",
       " '10785',\n",
       " '10792',\n",
       " '10800',\n",
       " '10821',\n",
       " '10849',\n",
       " '10868',\n",
       " '10874',\n",
       " '10918',\n",
       " '10926',\n",
       " '10980',\n",
       " '10990',\n",
       " '10994',\n",
       " '11003',\n",
       " '11013',\n",
       " '11042',\n",
       " '11049',\n",
       " '11057',\n",
       " '11066',\n",
       " '11067',\n",
       " '11076',\n",
       " '11097',\n",
       " '11109',\n",
       " '11111',\n",
       " '11122',\n",
       " '11140',\n",
       " '11146',\n",
       " '11150',\n",
       " '11193',\n",
       " '11203',\n",
       " '11252',\n",
       " '11259',\n",
       " '11267',\n",
       " '11274',\n",
       " '11278',\n",
       " '11292',\n",
       " '11298',\n",
       " '11308',\n",
       " '11315',\n",
       " '11337',\n",
       " '11413',\n",
       " '11423',\n",
       " '11433',\n",
       " '11447',\n",
       " '11471',\n",
       " '11481',\n",
       " '11503',\n",
       " '11525',\n",
       " '11537',\n",
       " '11540',\n",
       " '11577',\n",
       " '11587',\n",
       " '11603',\n",
       " '11612',\n",
       " '11617',\n",
       " '11618',\n",
       " '11624',\n",
       " '11630',\n",
       " '11637',\n",
       " '11638',\n",
       " '11641',\n",
       " '11648',\n",
       " '11695',\n",
       " '11697',\n",
       " '11721',\n",
       " '11775',\n",
       " '11778',\n",
       " '11823',\n",
       " '11865',\n",
       " '11867',\n",
       " '11884',\n",
       " '11898',\n",
       " '11905',\n",
       " '11921',\n",
       " '11953',\n",
       " '11973',\n",
       " '11977',\n",
       " '11980',\n",
       " '11982',\n",
       " '11986',\n",
       " '11995',\n",
       " '11996',\n",
       " '12003',\n",
       " '12007',\n",
       " '12016',\n",
       " '12094',\n",
       " '12129',\n",
       " '12156',\n",
       " '12173',\n",
       " '12177',\n",
       " '12191',\n",
       " '12197',\n",
       " '12206',\n",
       " '12217',\n",
       " '12255',\n",
       " '12264',\n",
       " '12265',\n",
       " '12266',\n",
       " '12278',\n",
       " '12280',\n",
       " '12323',\n",
       " '12335',\n",
       " '12339',\n",
       " '12343',\n",
       " '12389',\n",
       " '12391',\n",
       " '12402',\n",
       " '12441',\n",
       " '12448',\n",
       " '12451',\n",
       " '12478',\n",
       " '12511',\n",
       " '12519',\n",
       " '12523',\n",
       " '12758',\n",
       " '12819',\n",
       " '12884',\n",
       " '12888',\n",
       " '12889',\n",
       " '12891',\n",
       " '12892',\n",
       " '12896',\n",
       " '12898',\n",
       " '12915',\n",
       " '12945',\n",
       " '12951',\n",
       " '12953',\n",
       " '12954',\n",
       " '12982',\n",
       " '12992',\n",
       " '13029',\n",
       " '13061',\n",
       " '13076',\n",
       " '13127',\n",
       " '13158',\n",
       " '13184',\n",
       " '13198',\n",
       " '13204',\n",
       " '13230',\n",
       " '13232',\n",
       " '13241',\n",
       " '13244',\n",
       " '13256',\n",
       " '13264',\n",
       " '13277',\n",
       " '13290',\n",
       " '13296',\n",
       " '13303',\n",
       " '13342',\n",
       " '13344',\n",
       " '13360',\n",
       " '13367',\n",
       " '13377',\n",
       " '13422',\n",
       " '13433',\n",
       " '13459',\n",
       " '13476',\n",
       " '13485',\n",
       " '13486',\n",
       " '13487',\n",
       " '13495',\n",
       " '13502',\n",
       " '13541',\n",
       " '13577',\n",
       " '13795',\n",
       " '13796',\n",
       " '13830',\n",
       " '13851',\n",
       " '13871',\n",
       " '13873',\n",
       " '13891',\n",
       " '13930',\n",
       " '13931',\n",
       " '13933',\n",
       " '13964',\n",
       " '13970',\n",
       " '14006',\n",
       " '14025',\n",
       " '14027',\n",
       " '14057',\n",
       " '14098',\n",
       " '14100',\n",
       " '14107',\n",
       " '14108',\n",
       " '14109',\n",
       " '14113',\n",
       " '14122',\n",
       " '14150',\n",
       " '14193',\n",
       " '14222',\n",
       " '14252',\n",
       " '14254',\n",
       " '14256',\n",
       " '14262',\n",
       " '14307',\n",
       " '14321',\n",
       " '14457',\n",
       " '14487',\n",
       " '14489',\n",
       " '14492',\n",
       " '14520',\n",
       " '14524',\n",
       " '14543',\n",
       " '14570',\n",
       " '14574',\n",
       " '14576',\n",
       " '14588',\n",
       " '14633',\n",
       " '14635',\n",
       " '14674',\n",
       " '14679',\n",
       " '14683',\n",
       " '14685',\n",
       " '14689',\n",
       " '14696',\n",
       " '14698',\n",
       " '14709',\n",
       " '14711',\n",
       " '14730',\n",
       " '14747',\n",
       " '14771',\n",
       " '14783',\n",
       " '14794',\n",
       " '14814',\n",
       " '14828',\n",
       " '14831',\n",
       " '14842',\n",
       " '14843',\n",
       " '14869',\n",
       " '14893',\n",
       " '14905',\n",
       " '14908',\n",
       " '14952',\n",
       " '14960',\n",
       " '14986',\n",
       " '15016',\n",
       " '15024',\n",
       " '15027',\n",
       " '15041',\n",
       " '15048',\n",
       " '15070',\n",
       " '15096',\n",
       " '15249',\n",
       " '15295',\n",
       " '15304',\n",
       " '15323',\n",
       " '15356',\n",
       " '15370',\n",
       " '15376',\n",
       " '15380',\n",
       " '15389',\n",
       " '15401',\n",
       " '15411',\n",
       " '15412',\n",
       " '15497',\n",
       " '15607',\n",
       " '15624',\n",
       " '15841',\n",
       " '15919',\n",
       " '15991',\n",
       " '16218'}"
      ]
     },
     "execution_count": 25,
     "metadata": {},
     "output_type": "execute_result"
    }
   ],
   "source": [
    "flights_airports.difference(airports_iata_codes)"
   ]
  },
  {
   "cell_type": "code",
   "execution_count": 26,
   "id": "9dd26cdb",
   "metadata": {
    "ExecuteTime": {
     "end_time": "2023-12-17T18:18:23.974271Z",
     "start_time": "2023-12-17T18:18:23.965340Z"
    }
   },
   "outputs": [
    {
     "data": {
      "text/html": [
       "<div><style>\n",
       ".dataframe > thead > tr,\n",
       ".dataframe > tbody > tr {\n",
       "  text-align: right;\n",
       "  white-space: pre-wrap;\n",
       "}\n",
       "</style>\n",
       "<small>shape: (5, 31)</small><table border=\"1\" class=\"dataframe\"><thead><tr><th>YEAR</th><th>MONTH</th><th>DAY</th><th>DAY_OF_WEEK</th><th>AIRLINE</th><th>FLIGHT_NUMBER</th><th>TAIL_NUMBER</th><th>ORIGIN_AIRPORT</th><th>DESTINATION_AIRPORT</th><th>SCHEDULED_DEPARTURE</th><th>DEPARTURE_TIME</th><th>DEPARTURE_DELAY</th><th>TAXI_OUT</th><th>WHEELS_OFF</th><th>SCHEDULED_TIME</th><th>ELAPSED_TIME</th><th>AIR_TIME</th><th>DISTANCE</th><th>WHEELS_ON</th><th>TAXI_IN</th><th>SCHEDULED_ARRIVAL</th><th>ARRIVAL_TIME</th><th>ARRIVAL_DELAY</th><th>DIVERTED</th><th>CANCELLED</th><th>CANCELLATION_REASON</th><th>AIR_SYSTEM_DELAY</th><th>SECURITY_DELAY</th><th>AIRLINE_DELAY</th><th>LATE_AIRCRAFT_DELAY</th><th>WEATHER_DELAY</th></tr><tr><td>i64</td><td>i64</td><td>i64</td><td>i64</td><td>str</td><td>i64</td><td>str</td><td>str</td><td>str</td><td>i64</td><td>i64</td><td>i64</td><td>i64</td><td>i64</td><td>i64</td><td>i64</td><td>i64</td><td>i64</td><td>i64</td><td>i64</td><td>i64</td><td>i64</td><td>i64</td><td>i64</td><td>i64</td><td>str</td><td>i64</td><td>i64</td><td>i64</td><td>i64</td><td>i64</td></tr></thead><tbody><tr><td>2015</td><td>1</td><td>1</td><td>4</td><td>&quot;AS&quot;</td><td>98</td><td>&quot;N407AS&quot;</td><td>&quot;ANC&quot;</td><td>&quot;SEA&quot;</td><td>5</td><td>2354</td><td>-11</td><td>21</td><td>15</td><td>205</td><td>194</td><td>169</td><td>1448</td><td>404</td><td>4</td><td>430</td><td>408</td><td>-22</td><td>0</td><td>0</td><td>null</td><td>null</td><td>null</td><td>null</td><td>null</td><td>null</td></tr><tr><td>2015</td><td>1</td><td>1</td><td>4</td><td>&quot;AA&quot;</td><td>2336</td><td>&quot;N3KUAA&quot;</td><td>&quot;LAX&quot;</td><td>&quot;PBI&quot;</td><td>10</td><td>2</td><td>-8</td><td>12</td><td>14</td><td>280</td><td>279</td><td>263</td><td>2330</td><td>737</td><td>4</td><td>750</td><td>741</td><td>-9</td><td>0</td><td>0</td><td>null</td><td>null</td><td>null</td><td>null</td><td>null</td><td>null</td></tr><tr><td>2015</td><td>1</td><td>1</td><td>4</td><td>&quot;US&quot;</td><td>840</td><td>&quot;N171US&quot;</td><td>&quot;SFO&quot;</td><td>&quot;CLT&quot;</td><td>20</td><td>18</td><td>-2</td><td>16</td><td>34</td><td>286</td><td>293</td><td>266</td><td>2296</td><td>800</td><td>11</td><td>806</td><td>811</td><td>5</td><td>0</td><td>0</td><td>null</td><td>null</td><td>null</td><td>null</td><td>null</td><td>null</td></tr><tr><td>2015</td><td>1</td><td>1</td><td>4</td><td>&quot;AA&quot;</td><td>258</td><td>&quot;N3HYAA&quot;</td><td>&quot;LAX&quot;</td><td>&quot;MIA&quot;</td><td>20</td><td>15</td><td>-5</td><td>15</td><td>30</td><td>285</td><td>281</td><td>258</td><td>2342</td><td>748</td><td>8</td><td>805</td><td>756</td><td>-9</td><td>0</td><td>0</td><td>null</td><td>null</td><td>null</td><td>null</td><td>null</td><td>null</td></tr><tr><td>2015</td><td>1</td><td>1</td><td>4</td><td>&quot;AS&quot;</td><td>135</td><td>&quot;N527AS&quot;</td><td>&quot;SEA&quot;</td><td>&quot;ANC&quot;</td><td>25</td><td>24</td><td>-1</td><td>11</td><td>35</td><td>235</td><td>215</td><td>199</td><td>1448</td><td>254</td><td>5</td><td>320</td><td>259</td><td>-21</td><td>0</td><td>0</td><td>null</td><td>null</td><td>null</td><td>null</td><td>null</td><td>null</td></tr></tbody></table></div>"
      ],
      "text/plain": [
       "shape: (5, 31)\n",
       "┌──────┬───────┬─────┬─────────────┬───┬──────────────┬──────────────┬──────────────┬──────────────┐\n",
       "│ YEAR ┆ MONTH ┆ DAY ┆ DAY_OF_WEEK ┆ … ┆ SECURITY_DEL ┆ AIRLINE_DELA ┆ LATE_AIRCRAF ┆ WEATHER_DELA │\n",
       "│ ---  ┆ ---   ┆ --- ┆ ---         ┆   ┆ AY           ┆ Y            ┆ T_DELAY      ┆ Y            │\n",
       "│ i64  ┆ i64   ┆ i64 ┆ i64         ┆   ┆ ---          ┆ ---          ┆ ---          ┆ ---          │\n",
       "│      ┆       ┆     ┆             ┆   ┆ i64          ┆ i64          ┆ i64          ┆ i64          │\n",
       "╞══════╪═══════╪═════╪═════════════╪═══╪══════════════╪══════════════╪══════════════╪══════════════╡\n",
       "│ 2015 ┆ 1     ┆ 1   ┆ 4           ┆ … ┆ null         ┆ null         ┆ null         ┆ null         │\n",
       "│ 2015 ┆ 1     ┆ 1   ┆ 4           ┆ … ┆ null         ┆ null         ┆ null         ┆ null         │\n",
       "│ 2015 ┆ 1     ┆ 1   ┆ 4           ┆ … ┆ null         ┆ null         ┆ null         ┆ null         │\n",
       "│ 2015 ┆ 1     ┆ 1   ┆ 4           ┆ … ┆ null         ┆ null         ┆ null         ┆ null         │\n",
       "│ 2015 ┆ 1     ┆ 1   ┆ 4           ┆ … ┆ null         ┆ null         ┆ null         ┆ null         │\n",
       "└──────┴───────┴─────┴─────────────┴───┴──────────────┴──────────────┴──────────────┴──────────────┘"
      ]
     },
     "execution_count": 26,
     "metadata": {},
     "output_type": "execute_result"
    }
   ],
   "source": [
    "flights_df.head()"
   ]
  },
  {
   "cell_type": "code",
   "execution_count": 27,
   "id": "0d9969a8",
   "metadata": {
    "ExecuteTime": {
     "end_time": "2023-12-17T18:18:24.256523Z",
     "start_time": "2023-12-17T18:18:24.247724Z"
    }
   },
   "outputs": [
    {
     "data": {
      "text/html": [
       "<div><style>\n",
       ".dataframe > thead > tr,\n",
       ".dataframe > tbody > tr {\n",
       "  text-align: right;\n",
       "  white-space: pre-wrap;\n",
       "}\n",
       "</style>\n",
       "<small>shape: (5, 7)</small><table border=\"1\" class=\"dataframe\"><thead><tr><th>IATA_CODE</th><th>AIRPORT</th><th>CITY</th><th>STATE</th><th>COUNTRY</th><th>LATITUDE</th><th>LONGITUDE</th></tr><tr><td>str</td><td>str</td><td>str</td><td>str</td><td>str</td><td>f64</td><td>f64</td></tr></thead><tbody><tr><td>&quot;ABE&quot;</td><td>&quot;Lehigh Valley …</td><td>&quot;Allentown&quot;</td><td>&quot;PA&quot;</td><td>&quot;USA&quot;</td><td>40.65236</td><td>-75.4404</td></tr><tr><td>&quot;ABI&quot;</td><td>&quot;Abilene Region…</td><td>&quot;Abilene&quot;</td><td>&quot;TX&quot;</td><td>&quot;USA&quot;</td><td>32.41132</td><td>-99.6819</td></tr><tr><td>&quot;ABQ&quot;</td><td>&quot;Albuquerque In…</td><td>&quot;Albuquerque&quot;</td><td>&quot;NM&quot;</td><td>&quot;USA&quot;</td><td>35.04022</td><td>-106.60919</td></tr><tr><td>&quot;ABR&quot;</td><td>&quot;Aberdeen Regio…</td><td>&quot;Aberdeen&quot;</td><td>&quot;SD&quot;</td><td>&quot;USA&quot;</td><td>45.44906</td><td>-98.42183</td></tr><tr><td>&quot;ABY&quot;</td><td>&quot;Southwest Geor…</td><td>&quot;Albany&quot;</td><td>&quot;GA&quot;</td><td>&quot;USA&quot;</td><td>31.53552</td><td>-84.19447</td></tr></tbody></table></div>"
      ],
      "text/plain": [
       "shape: (5, 7)\n",
       "┌───────────┬──────────────────────────────┬─────────────┬───────┬─────────┬──────────┬────────────┐\n",
       "│ IATA_CODE ┆ AIRPORT                      ┆ CITY        ┆ STATE ┆ COUNTRY ┆ LATITUDE ┆ LONGITUDE  │\n",
       "│ ---       ┆ ---                          ┆ ---         ┆ ---   ┆ ---     ┆ ---      ┆ ---        │\n",
       "│ str       ┆ str                          ┆ str         ┆ str   ┆ str     ┆ f64      ┆ f64        │\n",
       "╞═══════════╪══════════════════════════════╪═════════════╪═══════╪═════════╪══════════╪════════════╡\n",
       "│ ABE       ┆ Lehigh Valley International  ┆ Allentown   ┆ PA    ┆ USA     ┆ 40.65236 ┆ -75.4404   │\n",
       "│           ┆ Airp…                        ┆             ┆       ┆         ┆          ┆            │\n",
       "│ ABI       ┆ Abilene Regional Airport     ┆ Abilene     ┆ TX    ┆ USA     ┆ 32.41132 ┆ -99.6819   │\n",
       "│ ABQ       ┆ Albuquerque International    ┆ Albuquerque ┆ NM    ┆ USA     ┆ 35.04022 ┆ -106.60919 │\n",
       "│           ┆ Sunpor…                      ┆             ┆       ┆         ┆          ┆            │\n",
       "│ ABR       ┆ Aberdeen Regional Airport    ┆ Aberdeen    ┆ SD    ┆ USA     ┆ 45.44906 ┆ -98.42183  │\n",
       "│ ABY       ┆ Southwest Georgia Regional   ┆ Albany      ┆ GA    ┆ USA     ┆ 31.53552 ┆ -84.19447  │\n",
       "│           ┆ Airpo…                       ┆             ┆       ┆         ┆          ┆            │\n",
       "└───────────┴──────────────────────────────┴─────────────┴───────┴─────────┴──────────┴────────────┘"
      ]
     },
     "execution_count": 27,
     "metadata": {},
     "output_type": "execute_result"
    }
   ],
   "source": [
    "airports_df.head()"
   ]
  },
  {
   "cell_type": "code",
   "execution_count": 51,
   "id": "c6c8aeb0",
   "metadata": {
    "ExecuteTime": {
     "end_time": "2023-12-17T18:43:04.603819Z",
     "start_time": "2023-12-17T18:43:02.843403Z"
    }
   },
   "outputs": [],
   "source": [
    "flight_df = (flights_df.join(\n",
    "    airports_df.select(['IATA_CODE', 'LATITUDE', 'LONGITUDE', 'STATE']).rename({\n",
    "        \"STATE\": \"ORIGIN_STATE\",\n",
    "        \"LATITUDE\":\n",
    "        \"ORIGIN_LATITUDE\",\n",
    "        \"LONGITUDE\":\n",
    "        \"ORIGIN_LONGITUDE\"\n",
    "    }),\n",
    "    left_on='ORIGIN_AIRPORT',\n",
    "    right_on='IATA_CODE')\n",
    "             .join(airports_df.select(\n",
    "        ['IATA_CODE', 'LATITUDE', 'LONGITUDE', 'STATE']).rename({\n",
    "            \"STATE\": \"DESTINATION_STATE\",\n",
    "            \"LATITUDE\":\n",
    "            \"DESTINATION_LATITUDE\",\n",
    "            \"LONGITUDE\":\n",
    "            \"DESTINATION_LONGITUDE\"\n",
    "        }),\n",
    "                               left_on='DESTINATION_AIRPORT',\n",
    "                               right_on='IATA_CODE'))"
   ]
  },
  {
   "cell_type": "code",
   "execution_count": 52,
   "id": "dfcf2897",
   "metadata": {
    "ExecuteTime": {
     "end_time": "2023-12-17T18:43:05.288213Z",
     "start_time": "2023-12-17T18:43:05.271459Z"
    }
   },
   "outputs": [
    {
     "data": {
      "text/plain": [
       "(5332914, 37)"
      ]
     },
     "execution_count": 52,
     "metadata": {},
     "output_type": "execute_result"
    }
   ],
   "source": [
    "flight_df.shape"
   ]
  },
  {
   "cell_type": "code",
   "execution_count": 53,
   "id": "10ef2c59",
   "metadata": {
    "ExecuteTime": {
     "end_time": "2023-12-17T18:43:07.123470Z",
     "start_time": "2023-12-17T18:43:07.083759Z"
    }
   },
   "outputs": [
    {
     "data": {
      "text/html": [
       "<div><style>\n",
       ".dataframe > thead > tr,\n",
       ".dataframe > tbody > tr {\n",
       "  text-align: right;\n",
       "  white-space: pre-wrap;\n",
       "}\n",
       "</style>\n",
       "<small>shape: (5, 37)</small><table border=\"1\" class=\"dataframe\"><thead><tr><th>YEAR</th><th>MONTH</th><th>DAY</th><th>DAY_OF_WEEK</th><th>AIRLINE</th><th>FLIGHT_NUMBER</th><th>TAIL_NUMBER</th><th>ORIGIN_AIRPORT</th><th>DESTINATION_AIRPORT</th><th>SCHEDULED_DEPARTURE</th><th>DEPARTURE_TIME</th><th>DEPARTURE_DELAY</th><th>TAXI_OUT</th><th>WHEELS_OFF</th><th>SCHEDULED_TIME</th><th>ELAPSED_TIME</th><th>AIR_TIME</th><th>DISTANCE</th><th>WHEELS_ON</th><th>TAXI_IN</th><th>SCHEDULED_ARRIVAL</th><th>ARRIVAL_TIME</th><th>ARRIVAL_DELAY</th><th>DIVERTED</th><th>CANCELLED</th><th>CANCELLATION_REASON</th><th>AIR_SYSTEM_DELAY</th><th>SECURITY_DELAY</th><th>AIRLINE_DELAY</th><th>LATE_AIRCRAFT_DELAY</th><th>WEATHER_DELAY</th><th>ORIGIN_LATITUDE</th><th>ORIGIN_LONGITUDE</th><th>ORIGIN_STATE</th><th>DESTINATION_LATITUDE</th><th>DESTINATION_LONGITUDE</th><th>DESTINATION_STATE</th></tr><tr><td>i64</td><td>i64</td><td>i64</td><td>i64</td><td>str</td><td>i64</td><td>str</td><td>str</td><td>str</td><td>i64</td><td>i64</td><td>i64</td><td>i64</td><td>i64</td><td>i64</td><td>i64</td><td>i64</td><td>i64</td><td>i64</td><td>i64</td><td>i64</td><td>i64</td><td>i64</td><td>i64</td><td>i64</td><td>str</td><td>i64</td><td>i64</td><td>i64</td><td>i64</td><td>i64</td><td>f64</td><td>f64</td><td>str</td><td>f64</td><td>f64</td><td>str</td></tr></thead><tbody><tr><td>2015</td><td>1</td><td>1</td><td>4</td><td>&quot;AS&quot;</td><td>98</td><td>&quot;N407AS&quot;</td><td>&quot;ANC&quot;</td><td>&quot;SEA&quot;</td><td>5</td><td>2354</td><td>-11</td><td>21</td><td>15</td><td>205</td><td>194</td><td>169</td><td>1448</td><td>404</td><td>4</td><td>430</td><td>408</td><td>-22</td><td>0</td><td>0</td><td>null</td><td>null</td><td>null</td><td>null</td><td>null</td><td>null</td><td>61.17432</td><td>-149.99619</td><td>&quot;AK&quot;</td><td>47.44898</td><td>-122.30931</td><td>&quot;WA&quot;</td></tr><tr><td>2015</td><td>1</td><td>1</td><td>4</td><td>&quot;AA&quot;</td><td>2336</td><td>&quot;N3KUAA&quot;</td><td>&quot;LAX&quot;</td><td>&quot;PBI&quot;</td><td>10</td><td>2</td><td>-8</td><td>12</td><td>14</td><td>280</td><td>279</td><td>263</td><td>2330</td><td>737</td><td>4</td><td>750</td><td>741</td><td>-9</td><td>0</td><td>0</td><td>null</td><td>null</td><td>null</td><td>null</td><td>null</td><td>null</td><td>33.94254</td><td>-118.40807</td><td>&quot;CA&quot;</td><td>26.68316</td><td>-80.09559</td><td>&quot;FL&quot;</td></tr><tr><td>2015</td><td>1</td><td>1</td><td>4</td><td>&quot;US&quot;</td><td>840</td><td>&quot;N171US&quot;</td><td>&quot;SFO&quot;</td><td>&quot;CLT&quot;</td><td>20</td><td>18</td><td>-2</td><td>16</td><td>34</td><td>286</td><td>293</td><td>266</td><td>2296</td><td>800</td><td>11</td><td>806</td><td>811</td><td>5</td><td>0</td><td>0</td><td>null</td><td>null</td><td>null</td><td>null</td><td>null</td><td>null</td><td>37.619</td><td>-122.37484</td><td>&quot;CA&quot;</td><td>35.21401</td><td>-80.94313</td><td>&quot;NC&quot;</td></tr><tr><td>2015</td><td>1</td><td>1</td><td>4</td><td>&quot;AA&quot;</td><td>258</td><td>&quot;N3HYAA&quot;</td><td>&quot;LAX&quot;</td><td>&quot;MIA&quot;</td><td>20</td><td>15</td><td>-5</td><td>15</td><td>30</td><td>285</td><td>281</td><td>258</td><td>2342</td><td>748</td><td>8</td><td>805</td><td>756</td><td>-9</td><td>0</td><td>0</td><td>null</td><td>null</td><td>null</td><td>null</td><td>null</td><td>null</td><td>33.94254</td><td>-118.40807</td><td>&quot;CA&quot;</td><td>25.79325</td><td>-80.29056</td><td>&quot;FL&quot;</td></tr><tr><td>2015</td><td>1</td><td>1</td><td>4</td><td>&quot;AS&quot;</td><td>135</td><td>&quot;N527AS&quot;</td><td>&quot;SEA&quot;</td><td>&quot;ANC&quot;</td><td>25</td><td>24</td><td>-1</td><td>11</td><td>35</td><td>235</td><td>215</td><td>199</td><td>1448</td><td>254</td><td>5</td><td>320</td><td>259</td><td>-21</td><td>0</td><td>0</td><td>null</td><td>null</td><td>null</td><td>null</td><td>null</td><td>null</td><td>47.44898</td><td>-122.30931</td><td>&quot;WA&quot;</td><td>61.17432</td><td>-149.99619</td><td>&quot;AK&quot;</td></tr></tbody></table></div>"
      ],
      "text/plain": [
       "shape: (5, 37)\n",
       "┌──────┬───────┬─────┬─────────────┬───┬──────────────┬──────────────┬──────────────┬──────────────┐\n",
       "│ YEAR ┆ MONTH ┆ DAY ┆ DAY_OF_WEEK ┆ … ┆ ORIGIN_STATE ┆ DESTINATION_ ┆ DESTINATION_ ┆ DESTINATION_ │\n",
       "│ ---  ┆ ---   ┆ --- ┆ ---         ┆   ┆ ---          ┆ LATITUDE     ┆ LONGITUDE    ┆ STATE        │\n",
       "│ i64  ┆ i64   ┆ i64 ┆ i64         ┆   ┆ str          ┆ ---          ┆ ---          ┆ ---          │\n",
       "│      ┆       ┆     ┆             ┆   ┆              ┆ f64          ┆ f64          ┆ str          │\n",
       "╞══════╪═══════╪═════╪═════════════╪═══╪══════════════╪══════════════╪══════════════╪══════════════╡\n",
       "│ 2015 ┆ 1     ┆ 1   ┆ 4           ┆ … ┆ AK           ┆ 47.44898     ┆ -122.30931   ┆ WA           │\n",
       "│ 2015 ┆ 1     ┆ 1   ┆ 4           ┆ … ┆ CA           ┆ 26.68316     ┆ -80.09559    ┆ FL           │\n",
       "│ 2015 ┆ 1     ┆ 1   ┆ 4           ┆ … ┆ CA           ┆ 35.21401     ┆ -80.94313    ┆ NC           │\n",
       "│ 2015 ┆ 1     ┆ 1   ┆ 4           ┆ … ┆ CA           ┆ 25.79325     ┆ -80.29056    ┆ FL           │\n",
       "│ 2015 ┆ 1     ┆ 1   ┆ 4           ┆ … ┆ WA           ┆ 61.17432     ┆ -149.99619   ┆ AK           │\n",
       "└──────┴───────┴─────┴─────────────┴───┴──────────────┴──────────────┴──────────────┴──────────────┘"
      ]
     },
     "execution_count": 53,
     "metadata": {},
     "output_type": "execute_result"
    }
   ],
   "source": [
    "flight_df.head()"
   ]
  },
  {
   "cell_type": "code",
   "execution_count": 56,
   "id": "69583480",
   "metadata": {
    "ExecuteTime": {
     "end_time": "2023-12-17T18:44:14.715626Z",
     "start_time": "2023-12-17T18:44:14.707853Z"
    }
   },
   "outputs": [
    {
     "data": {
      "text/plain": [
       "(5332914, 37)"
      ]
     },
     "execution_count": 56,
     "metadata": {},
     "output_type": "execute_result"
    }
   ],
   "source": [
    "flight_df.shape"
   ]
  },
  {
   "cell_type": "code",
   "execution_count": 58,
   "id": "7747d535",
   "metadata": {
    "ExecuteTime": {
     "end_time": "2023-12-17T18:45:27.575380Z",
     "start_time": "2023-12-17T18:45:24.810447Z"
    }
   },
   "outputs": [],
   "source": [
    "flight_df.write_parquet('merged_flights.parquet')"
   ]
  },
  {
   "cell_type": "markdown",
   "id": "87d2e28c",
   "metadata": {},
   "source": [
    "# EDA"
   ]
  },
  {
   "cell_type": "code",
   "execution_count": 33,
   "id": "a6322353",
   "metadata": {
    "ExecuteTime": {
     "end_time": "2023-12-17T18:18:34.016440Z",
     "start_time": "2023-12-17T18:18:33.991072Z"
    }
   },
   "outputs": [
    {
     "data": {
      "text/html": [
       "<div><style>\n",
       ".dataframe > thead > tr,\n",
       ".dataframe > tbody > tr {\n",
       "  text-align: right;\n",
       "  white-space: pre-wrap;\n",
       "}\n",
       "</style>\n",
       "<small>shape: (1, 1)</small><table border=\"1\" class=\"dataframe\"><thead><tr><th>ARRIVAL_DELAY</th></tr><tr><td>f64</td></tr></thead><tbody><tr><td>0.371936</td></tr></tbody></table></div>"
      ],
      "text/plain": [
       "shape: (1, 1)\n",
       "┌───────────────┐\n",
       "│ ARRIVAL_DELAY │\n",
       "│ ---           │\n",
       "│ f64           │\n",
       "╞═══════════════╡\n",
       "│ 0.371936      │\n",
       "└───────────────┘"
      ]
     },
     "execution_count": 33,
     "metadata": {},
     "output_type": "execute_result"
    }
   ],
   "source": [
    "flight_df.select(\n",
    "    (pl.col('ARRIVAL_DELAY') > 0).mean()\n",
    ")"
   ]
  },
  {
   "cell_type": "code",
   "execution_count": 34,
   "id": "29f439f0",
   "metadata": {
    "ExecuteTime": {
     "end_time": "2023-12-17T18:18:35.341204Z",
     "start_time": "2023-12-17T18:18:35.134599Z"
    }
   },
   "outputs": [
    {
     "data": {
      "text/html": [
       "<div><style>\n",
       ".dataframe > thead > tr,\n",
       ".dataframe > tbody > tr {\n",
       "  text-align: right;\n",
       "  white-space: pre-wrap;\n",
       "}\n",
       "</style>\n",
       "<small>shape: (9, 2)</small><table border=\"1\" class=\"dataframe\"><thead><tr><th>describe</th><th>ARRIVAL_DELAY</th></tr><tr><td>str</td><td>f64</td></tr></thead><tbody><tr><td>&quot;count&quot;</td><td>5.332914e6</td></tr><tr><td>&quot;null_count&quot;</td><td>101784.0</td></tr><tr><td>&quot;mean&quot;</td><td>4.885903</td></tr><tr><td>&quot;std&quot;</td><td>39.78728</td></tr><tr><td>&quot;min&quot;</td><td>-87.0</td></tr><tr><td>&quot;25%&quot;</td><td>-13.0</td></tr><tr><td>&quot;50%&quot;</td><td>-5.0</td></tr><tr><td>&quot;75%&quot;</td><td>8.0</td></tr><tr><td>&quot;max&quot;</td><td>1971.0</td></tr></tbody></table></div>"
      ],
      "text/plain": [
       "shape: (9, 2)\n",
       "┌────────────┬───────────────┐\n",
       "│ describe   ┆ ARRIVAL_DELAY │\n",
       "│ ---        ┆ ---           │\n",
       "│ str        ┆ f64           │\n",
       "╞════════════╪═══════════════╡\n",
       "│ count      ┆ 5.332914e6    │\n",
       "│ null_count ┆ 101784.0      │\n",
       "│ mean       ┆ 4.885903      │\n",
       "│ std        ┆ 39.78728      │\n",
       "│ min        ┆ -87.0         │\n",
       "│ 25%        ┆ -13.0         │\n",
       "│ 50%        ┆ -5.0          │\n",
       "│ 75%        ┆ 8.0           │\n",
       "│ max        ┆ 1971.0        │\n",
       "└────────────┴───────────────┘"
      ]
     },
     "execution_count": 34,
     "metadata": {},
     "output_type": "execute_result"
    }
   ],
   "source": [
    "flight_df.select(\n",
    "    'ARRIVAL_DELAY'\n",
    ").describe()"
   ]
  },
  {
   "cell_type": "code",
   "execution_count": 38,
   "id": "cea6b46e",
   "metadata": {
    "ExecuteTime": {
     "end_time": "2023-12-17T18:19:05.836038Z",
     "start_time": "2023-12-17T18:19:05.651684Z"
    }
   },
   "outputs": [
    {
     "data": {
      "text/plain": [
       "<AxesSubplot:ylabel='Frequency'>"
      ]
     },
     "execution_count": 38,
     "metadata": {},
     "output_type": "execute_result"
    },
    {
     "data": {
      "image/png": "[encoded data removed]",
      "text/plain": [
       "<Figure size 640x480 with 1 Axes>"
      ]
     },
     "metadata": {},
     "output_type": "display_data"
    }
   ],
   "source": [
    "flight_df.select('ARRIVAL_DELAY').sample(1000).to_pandas().plot.hist(bins=50)"
   ]
  },
  {
   "cell_type": "code",
   "execution_count": 39,
   "id": "2864d634",
   "metadata": {
    "ExecuteTime": {
     "end_time": "2023-12-17T18:23:06.771305Z",
     "start_time": "2023-12-17T18:23:06.510701Z"
    }
   },
   "outputs": [
    {
     "data": {
      "text/html": [
       "<div>\n",
       "<style scoped>\n",
       "    .dataframe tbody tr th:only-of-type {\n",
       "        vertical-align: middle;\n",
       "    }\n",
       "\n",
       "    .dataframe tbody tr th {\n",
       "        vertical-align: top;\n",
       "    }\n",
       "\n",
       "    .dataframe thead th {\n",
       "        text-align: right;\n",
       "    }\n",
       "</style>\n",
       "<table border=\"1\" class=\"dataframe\">\n",
       "  <thead>\n",
       "    <tr style=\"text-align: right;\">\n",
       "      <th></th>\n",
       "      <th>ARRIVAL_DELAY</th>\n",
       "    </tr>\n",
       "  </thead>\n",
       "  <tbody>\n",
       "    <tr>\n",
       "      <th>mean</th>\n",
       "      <td>4.885903</td>\n",
       "    </tr>\n",
       "    <tr>\n",
       "      <th>std</th>\n",
       "      <td>39.787280</td>\n",
       "    </tr>\n",
       "    <tr>\n",
       "      <th>min</th>\n",
       "      <td>-87.000000</td>\n",
       "    </tr>\n",
       "    <tr>\n",
       "      <th>5%</th>\n",
       "      <td>-25.000000</td>\n",
       "    </tr>\n",
       "    <tr>\n",
       "      <th>10%</th>\n",
       "      <td>-20.000000</td>\n",
       "    </tr>\n",
       "    <tr>\n",
       "      <th>15%</th>\n",
       "      <td>-17.000000</td>\n",
       "    </tr>\n",
       "    <tr>\n",
       "      <th>20%</th>\n",
       "      <td>-15.000000</td>\n",
       "    </tr>\n",
       "    <tr>\n",
       "      <th>25%</th>\n",
       "      <td>-13.000000</td>\n",
       "    </tr>\n",
       "    <tr>\n",
       "      <th>30%</th>\n",
       "      <td>-11.000000</td>\n",
       "    </tr>\n",
       "    <tr>\n",
       "      <th>35%</th>\n",
       "      <td>-10.000000</td>\n",
       "    </tr>\n",
       "    <tr>\n",
       "      <th>40%</th>\n",
       "      <td>-8.000000</td>\n",
       "    </tr>\n",
       "    <tr>\n",
       "      <th>45%</th>\n",
       "      <td>-6.000000</td>\n",
       "    </tr>\n",
       "    <tr>\n",
       "      <th>50%</th>\n",
       "      <td>-5.000000</td>\n",
       "    </tr>\n",
       "    <tr>\n",
       "      <th>55%</th>\n",
       "      <td>-3.000000</td>\n",
       "    </tr>\n",
       "    <tr>\n",
       "      <th>60%</th>\n",
       "      <td>-1.000000</td>\n",
       "    </tr>\n",
       "    <tr>\n",
       "      <th>65%</th>\n",
       "      <td>2.000000</td>\n",
       "    </tr>\n",
       "    <tr>\n",
       "      <th>70%</th>\n",
       "      <td>5.000000</td>\n",
       "    </tr>\n",
       "    <tr>\n",
       "      <th>75%</th>\n",
       "      <td>8.000000</td>\n",
       "    </tr>\n",
       "    <tr>\n",
       "      <th>80%</th>\n",
       "      <td>13.000000</td>\n",
       "    </tr>\n",
       "    <tr>\n",
       "      <th>85%</th>\n",
       "      <td>21.000000</td>\n",
       "    </tr>\n",
       "    <tr>\n",
       "      <th>90%</th>\n",
       "      <td>36.000000</td>\n",
       "    </tr>\n",
       "    <tr>\n",
       "      <th>95%</th>\n",
       "      <td>68.000000</td>\n",
       "    </tr>\n",
       "    <tr>\n",
       "      <th>max</th>\n",
       "      <td>1971.000000</td>\n",
       "    </tr>\n",
       "  </tbody>\n",
       "</table>\n",
       "</div>"
      ],
      "text/plain": [
       "      ARRIVAL_DELAY\n",
       "mean       4.885903\n",
       "std       39.787280\n",
       "min      -87.000000\n",
       "5%       -25.000000\n",
       "10%      -20.000000\n",
       "15%      -17.000000\n",
       "20%      -15.000000\n",
       "25%      -13.000000\n",
       "30%      -11.000000\n",
       "35%      -10.000000\n",
       "40%       -8.000000\n",
       "45%       -6.000000\n",
       "50%       -5.000000\n",
       "55%       -3.000000\n",
       "60%       -1.000000\n",
       "65%        2.000000\n",
       "70%        5.000000\n",
       "75%        8.000000\n",
       "80%       13.000000\n",
       "85%       21.000000\n",
       "90%       36.000000\n",
       "95%       68.000000\n",
       "max     1971.000000"
      ]
     },
     "execution_count": 39,
     "metadata": {},
     "output_type": "execute_result"
    }
   ],
   "source": [
    "flight_df.select(\n",
    "    'ARRIVAL_DELAY'\n",
    ").to_pandas().describe(percentiles=np.linspace(0, 1, 21)[1:-1]).iloc[1:]"
   ]
  },
  {
   "cell_type": "code",
   "execution_count": 40,
   "id": "45a590dc",
   "metadata": {
    "ExecuteTime": {
     "end_time": "2023-12-17T18:23:19.835120Z",
     "start_time": "2023-12-17T18:23:19.830776Z"
    }
   },
   "outputs": [],
   "source": [
    "import matplotlib.pyplot as plt"
   ]
  },
  {
   "cell_type": "code",
   "execution_count": 41,
   "id": "8bd75fb3",
   "metadata": {
    "ExecuteTime": {
     "end_time": "2023-12-17T18:23:39.092893Z",
     "start_time": "2023-12-17T18:23:38.865623Z"
    }
   },
   "outputs": [
    {
     "data": {
      "image/png": "[encoded data removed]",
      "text/plain": [
       "<Figure size 640x480 with 1 Axes>"
      ]
     },
     "metadata": {},
     "output_type": "display_data"
    }
   ],
   "source": [
    "flight_df.select(\n",
    "    'ARRIVAL_DELAY'\n",
    ").sample(10000).to_pandas().ARRIVAL_DELAY.plot.kde(xlim=(-25, 68));\n",
    "plt.axvline(0, c='r');"
   ]
  },
  {
   "cell_type": "code",
   "execution_count": 43,
   "id": "0307af9a",
   "metadata": {
    "ExecuteTime": {
     "end_time": "2023-12-17T18:29:05.252528Z",
     "start_time": "2023-12-17T18:29:05.142569Z"
    }
   },
   "outputs": [
    {
     "data": {
      "text/html": [
       "<div><style>\n",
       ".dataframe > thead > tr,\n",
       ".dataframe > tbody > tr {\n",
       "  text-align: right;\n",
       "  white-space: pre-wrap;\n",
       "}\n",
       "</style>\n",
       "<small>shape: (11, 5)</small><table border=\"1\" class=\"dataframe\"><thead><tr><th>MONTH</th><th>n_flights</th><th>ARRIVAL_DELAY_P50</th><th>ARRIVAL_DELAY_MEAN</th><th>ARRIVAL_DELAY_STD</th></tr><tr><td>i64</td><td>u32</td><td>f64</td><td>f64</td><td>f64</td></tr></thead><tbody><tr><td>9</td><td>464946</td><td>-7.0</td><td>-0.772571</td><td>32.33163</td></tr><tr><td>11</td><td>467972</td><td>-6.0</td><td>1.100784</td><td>36.822443</td></tr><tr><td>4</td><td>485151</td><td>-5.0</td><td>3.16319</td><td>36.587458</td></tr><tr><td>5</td><td>496993</td><td>-5.0</td><td>4.485019</td><td>39.855884</td></tr><tr><td>8</td><td>510536</td><td>-5.0</td><td>4.607372</td><td>38.723448</td></tr><tr><td>3</td><td>504312</td><td>-4.0</td><td>4.920673</td><td>39.205565</td></tr><tr><td>1</td><td>469968</td><td>-4.0</td><td>5.813583</td><td>39.413501</td></tr><tr><td>12</td><td>479230</td><td>-5.0</td><td>6.092903</td><td>44.526033</td></tr><tr><td>7</td><td>520718</td><td>-4.0</td><td>6.431775</td><td>39.426458</td></tr><tr><td>2</td><td>429191</td><td>-2.0</td><td>8.3205</td><td>43.166529</td></tr><tr><td>6</td><td>503897</td><td>-3.0</td><td>9.60159</td><td>45.002394</td></tr></tbody></table></div>"
      ],
      "text/plain": [
       "shape: (11, 5)\n",
       "┌───────┬───────────┬───────────────────┬────────────────────┬───────────────────┐\n",
       "│ MONTH ┆ n_flights ┆ ARRIVAL_DELAY_P50 ┆ ARRIVAL_DELAY_MEAN ┆ ARRIVAL_DELAY_STD │\n",
       "│ ---   ┆ ---       ┆ ---               ┆ ---                ┆ ---               │\n",
       "│ i64   ┆ u32       ┆ f64               ┆ f64                ┆ f64               │\n",
       "╞═══════╪═══════════╪═══════════════════╪════════════════════╪═══════════════════╡\n",
       "│ 9     ┆ 464946    ┆ -7.0              ┆ -0.772571          ┆ 32.33163          │\n",
       "│ 11    ┆ 467972    ┆ -6.0              ┆ 1.100784           ┆ 36.822443         │\n",
       "│ 4     ┆ 485151    ┆ -5.0              ┆ 3.16319            ┆ 36.587458         │\n",
       "│ 5     ┆ 496993    ┆ -5.0              ┆ 4.485019           ┆ 39.855884         │\n",
       "│ …     ┆ …         ┆ …                 ┆ …                  ┆ …                 │\n",
       "│ 12    ┆ 479230    ┆ -5.0              ┆ 6.092903           ┆ 44.526033         │\n",
       "│ 7     ┆ 520718    ┆ -4.0              ┆ 6.431775           ┆ 39.426458         │\n",
       "│ 2     ┆ 429191    ┆ -2.0              ┆ 8.3205             ┆ 43.166529         │\n",
       "│ 6     ┆ 503897    ┆ -3.0              ┆ 9.60159            ┆ 45.002394         │\n",
       "└───────┴───────────┴───────────────────┴────────────────────┴───────────────────┘"
      ]
     },
     "execution_count": 43,
     "metadata": {},
     "output_type": "execute_result"
    }
   ],
   "source": [
    "flight_df.group_by('MONTH').agg(  \n",
    "    pl.col('ARRIVAL_DELAY').count().alias('n_flights'),\n",
    "    pl.col('ARRIVAL_DELAY').quantile(0.5).alias('ARRIVAL_DELAY_P50'),\n",
    "    pl.col('ARRIVAL_DELAY').mean().alias('ARRIVAL_DELAY_MEAN'),\n",
    "    pl.col('ARRIVAL_DELAY').std().alias('ARRIVAL_DELAY_STD')\n",
    ").sort('ARRIVAL_DELAY_MEAN')"
   ]
  },
  {
   "cell_type": "code",
   "execution_count": 44,
   "id": "d20563ef",
   "metadata": {
    "ExecuteTime": {
     "end_time": "2023-12-17T18:29:12.438668Z",
     "start_time": "2023-12-17T18:29:12.433623Z"
    }
   },
   "outputs": [
    {
     "data": {
      "text/plain": [
       "(5332914, 37)"
      ]
     },
     "execution_count": 44,
     "metadata": {},
     "output_type": "execute_result"
    }
   ],
   "source": [
    "flight_df.shape"
   ]
  },
  {
   "cell_type": "code",
   "execution_count": 45,
   "id": "22e44fc2",
   "metadata": {
    "ExecuteTime": {
     "end_time": "2023-12-17T18:29:48.190887Z",
     "start_time": "2023-12-17T18:29:48.184827Z"
    }
   },
   "outputs": [
    {
     "data": {
      "text/html": [
       "<div><style>\n",
       ".dataframe > thead > tr,\n",
       ".dataframe > tbody > tr {\n",
       "  text-align: right;\n",
       "  white-space: pre-wrap;\n",
       "}\n",
       "</style>\n",
       "<small>shape: (5, 31)</small><table border=\"1\" class=\"dataframe\"><thead><tr><th>YEAR</th><th>MONTH</th><th>DAY</th><th>DAY_OF_WEEK</th><th>AIRLINE</th><th>FLIGHT_NUMBER</th><th>TAIL_NUMBER</th><th>ORIGIN_AIRPORT</th><th>DESTINATION_AIRPORT</th><th>SCHEDULED_DEPARTURE</th><th>DEPARTURE_TIME</th><th>DEPARTURE_DELAY</th><th>TAXI_OUT</th><th>WHEELS_OFF</th><th>SCHEDULED_TIME</th><th>ELAPSED_TIME</th><th>AIR_TIME</th><th>DISTANCE</th><th>WHEELS_ON</th><th>TAXI_IN</th><th>SCHEDULED_ARRIVAL</th><th>ARRIVAL_TIME</th><th>ARRIVAL_DELAY</th><th>DIVERTED</th><th>CANCELLED</th><th>CANCELLATION_REASON</th><th>AIR_SYSTEM_DELAY</th><th>SECURITY_DELAY</th><th>AIRLINE_DELAY</th><th>LATE_AIRCRAFT_DELAY</th><th>WEATHER_DELAY</th></tr><tr><td>i64</td><td>i64</td><td>i64</td><td>i64</td><td>str</td><td>i64</td><td>str</td><td>str</td><td>str</td><td>i64</td><td>i64</td><td>i64</td><td>i64</td><td>i64</td><td>i64</td><td>i64</td><td>i64</td><td>i64</td><td>i64</td><td>i64</td><td>i64</td><td>i64</td><td>i64</td><td>i64</td><td>i64</td><td>str</td><td>i64</td><td>i64</td><td>i64</td><td>i64</td><td>i64</td></tr></thead><tbody><tr><td>2015</td><td>1</td><td>1</td><td>4</td><td>&quot;AS&quot;</td><td>98</td><td>&quot;N407AS&quot;</td><td>&quot;ANC&quot;</td><td>&quot;SEA&quot;</td><td>5</td><td>2354</td><td>-11</td><td>21</td><td>15</td><td>205</td><td>194</td><td>169</td><td>1448</td><td>404</td><td>4</td><td>430</td><td>408</td><td>-22</td><td>0</td><td>0</td><td>null</td><td>null</td><td>null</td><td>null</td><td>null</td><td>null</td></tr><tr><td>2015</td><td>1</td><td>1</td><td>4</td><td>&quot;AA&quot;</td><td>2336</td><td>&quot;N3KUAA&quot;</td><td>&quot;LAX&quot;</td><td>&quot;PBI&quot;</td><td>10</td><td>2</td><td>-8</td><td>12</td><td>14</td><td>280</td><td>279</td><td>263</td><td>2330</td><td>737</td><td>4</td><td>750</td><td>741</td><td>-9</td><td>0</td><td>0</td><td>null</td><td>null</td><td>null</td><td>null</td><td>null</td><td>null</td></tr><tr><td>2015</td><td>1</td><td>1</td><td>4</td><td>&quot;US&quot;</td><td>840</td><td>&quot;N171US&quot;</td><td>&quot;SFO&quot;</td><td>&quot;CLT&quot;</td><td>20</td><td>18</td><td>-2</td><td>16</td><td>34</td><td>286</td><td>293</td><td>266</td><td>2296</td><td>800</td><td>11</td><td>806</td><td>811</td><td>5</td><td>0</td><td>0</td><td>null</td><td>null</td><td>null</td><td>null</td><td>null</td><td>null</td></tr><tr><td>2015</td><td>1</td><td>1</td><td>4</td><td>&quot;AA&quot;</td><td>258</td><td>&quot;N3HYAA&quot;</td><td>&quot;LAX&quot;</td><td>&quot;MIA&quot;</td><td>20</td><td>15</td><td>-5</td><td>15</td><td>30</td><td>285</td><td>281</td><td>258</td><td>2342</td><td>748</td><td>8</td><td>805</td><td>756</td><td>-9</td><td>0</td><td>0</td><td>null</td><td>null</td><td>null</td><td>null</td><td>null</td><td>null</td></tr><tr><td>2015</td><td>1</td><td>1</td><td>4</td><td>&quot;AS&quot;</td><td>135</td><td>&quot;N527AS&quot;</td><td>&quot;SEA&quot;</td><td>&quot;ANC&quot;</td><td>25</td><td>24</td><td>-1</td><td>11</td><td>35</td><td>235</td><td>215</td><td>199</td><td>1448</td><td>254</td><td>5</td><td>320</td><td>259</td><td>-21</td><td>0</td><td>0</td><td>null</td><td>null</td><td>null</td><td>null</td><td>null</td><td>null</td></tr></tbody></table></div>"
      ],
      "text/plain": [
       "shape: (5, 31)\n",
       "┌──────┬───────┬─────┬─────────────┬───┬──────────────┬──────────────┬──────────────┬──────────────┐\n",
       "│ YEAR ┆ MONTH ┆ DAY ┆ DAY_OF_WEEK ┆ … ┆ SECURITY_DEL ┆ AIRLINE_DELA ┆ LATE_AIRCRAF ┆ WEATHER_DELA │\n",
       "│ ---  ┆ ---   ┆ --- ┆ ---         ┆   ┆ AY           ┆ Y            ┆ T_DELAY      ┆ Y            │\n",
       "│ i64  ┆ i64   ┆ i64 ┆ i64         ┆   ┆ ---          ┆ ---          ┆ ---          ┆ ---          │\n",
       "│      ┆       ┆     ┆             ┆   ┆ i64          ┆ i64          ┆ i64          ┆ i64          │\n",
       "╞══════╪═══════╪═════╪═════════════╪═══╪══════════════╪══════════════╪══════════════╪══════════════╡\n",
       "│ 2015 ┆ 1     ┆ 1   ┆ 4           ┆ … ┆ null         ┆ null         ┆ null         ┆ null         │\n",
       "│ 2015 ┆ 1     ┆ 1   ┆ 4           ┆ … ┆ null         ┆ null         ┆ null         ┆ null         │\n",
       "│ 2015 ┆ 1     ┆ 1   ┆ 4           ┆ … ┆ null         ┆ null         ┆ null         ┆ null         │\n",
       "│ 2015 ┆ 1     ┆ 1   ┆ 4           ┆ … ┆ null         ┆ null         ┆ null         ┆ null         │\n",
       "│ 2015 ┆ 1     ┆ 1   ┆ 4           ┆ … ┆ null         ┆ null         ┆ null         ┆ null         │\n",
       "└──────┴───────┴─────┴─────────────┴───┴──────────────┴──────────────┴──────────────┴──────────────┘"
      ]
     },
     "execution_count": 45,
     "metadata": {},
     "output_type": "execute_result"
    }
   ],
   "source": [
    "flights_df.head()"
   ]
  }
 ],
 "metadata": {
  "kernelspec": {
   "display_name": "Python 3 (ipykernel)",
   "language": "python",
   "name": "python3"
  },
  "language_info": {
   "codemirror_mode": {
    "name": "ipython",
    "version": 3
   },
   "file_extension": ".py",
   "mimetype": "text/x-python",
   "name": "python",
   "nbconvert_exporter": "python",
   "pygments_lexer": "ipython3",
   "version": "3.9.13"
  },
  "toc": {
   "base_numbering": 1,
   "nav_menu": {},
   "number_sections": true,
   "sideBar": true,
   "skip_h1_title": false,
   "title_cell": "Table of Contents",
   "title_sidebar": "Contents",
   "toc_cell": false,
   "toc_position": {},
   "toc_section_display": true,
   "toc_window_display": false
  }
 },
 "nbformat": 4,
 "nbformat_minor": 5
}
