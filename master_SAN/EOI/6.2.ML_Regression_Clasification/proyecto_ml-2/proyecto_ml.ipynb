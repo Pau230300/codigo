{
 "cells": [
  {
   "cell_type": "markdown",
   "id": "667a3e41",
   "metadata": {},
   "source": [
    "# Proyecto de aprendizaje automático\n",
    "\n",
    "Al fin han concedido un proyecto para tu *startup* de analítica con amplios conocimientos de aprendizaje automático y AI!!!! \n",
    "\n",
    "La **compañía de hoteles Disfrutín**, con hoteles ubicados por todo el mundo, está interesada en que construyas un modelo de clasificación de cancelaciones basándote en variables disponibles.\n",
    "\n",
    "Para ello te ha proporcionado tres tablas:\n",
    "- `bookings.csv`: contiene información de reservas\n",
    "- `hotels.csv`:  contiene información sobre características de los hoteles\n",
    "- `people.csv`: contiene información sobre los clientes del hotel\n",
    "\n",
    "**La variable objetivo a estudiar es `is_canceled` y se ubica en la tabla `bookings`**"
   ]
  },
  {
   "cell_type": "markdown",
   "id": "520efd91",
   "metadata": {},
   "source": [
    "## Creación de conjuntos de datos\n",
    "\n",
    "- Construye el conjunto de datos final basándote en las tres tablas proporcionadas, haciendo **merge** basado en las columnas naturales (`hotel` y `name`)\n",
    "- Realiza una EDA con las agrupaciones que consideres y gráficos para intentar ver la influencia de algunas variables sobre la variable objetivo.\n",
    "- Realiza ingeniería de atributos para ampliar los atributos iniciales con un mayor conjunto.\n",
    "- Realiza una EDA para observar el impacto potencial de las variables creadas sobre la variable objetivo.\n",
    "\n",
    "Tras este proceso, puede que tengas alguna idea de qué variables se pueden usar, cuáles son mejores predictores potenciales para estimar si se cancela o no la reserva, así como cuáles son categóricas, y cuáles son dummies.\n",
    "\n",
    "- Genera la tabla final con todas las variables categóricas que correspondan transformadas en dummies."
   ]
  },
  {
   "cell_type": "markdown",
   "id": "ce309f1c",
   "metadata": {},
   "source": [
    "## Modelado\n",
    "\n",
    "- Divide el dataset generado en el paso anterior en entrenamiento y test siguiendo una proporción 0.8 - 0.2\n",
    "- Haz uso del comando GridSearchCV junto con mallas de hiperparámetros (param_grid) y los modelos predictivos de árbol de decisión para clasificación y regresión logística estudiados, para generar un modelo predictivo óptimo que maximice la puntuación **f1-score**\n",
    "- Para la mejor regresión logística obtenida, observa y pinta los coeficientes y realiza algún comentario u observación al respecto.\n",
    "- Para el mejor árbol de decisión obtenido,  observa y pinta la importancia de atributos (feature importances) y realiza algún comentario u observación al respecto.\n",
    "- Para el mejor modelo obtenido por la búsuqeda Gridsearchcv, realiza la predicción en TEST, y aporta las métricas accuracy, precission, recall así como la matriz de confusión, para el umbral estándar (0.5)\n",
    "\n",
    "- Para este mejor modelo, busca el umbral que satisfaga las siguientes condiciones, evaluando en TEST:\n",
    "    - Umbral mínimo que garantiza una precission del 80 %\n",
    "    - Umbral máximo que garantiza un recall del 60 %\n",
    "    - Umbral que maximiza la f1 score\n",
    "- Para el umbral que maximiza la f1, reporta los rendimientos f1 agrupando por hotel, ¿ para qué hoteles obtienes un peor rendimiento? "
   ]
  },
  {
   "cell_type": "markdown",
   "id": "cbc7f61e",
   "metadata": {},
   "source": [
    "# Análisis final\n",
    "\n",
    "Tenemos una entrevista con el departamento de marketing de la empresa para explicar los modelos obtenidos y el análisis en profundidad acometido, que asentará nuestro amplio conocimiento y habilidades analíticas de cara a la cadena hotelera y nos garantizará futuros contratos, nos preguntan elementos esenciales como:\n",
    "\n",
    "- ¿ qué hoteles o países de hoteles tienen una mayor tasa de cancelación? \n",
    "- ¿ qué países de cliente tienen una mayor tasa de cancelación?\n",
    "- ¿ existen rangos de edad para los cuales la tasa de cancelación es mayor o menor que la media?\n",
    "- ¿ afecta la anticipación en la reserva de algún modo a la tasa de cancelación?\n",
    "- ¿ hay algún tipo de habitación que sufra mayor propensión a las cancelaciones?\n",
    "- ¿ afecta la distribución de los huéspedes de algún modo a la tasa de cancelación?\n",
    "- ¿ afectan los servicios disponibles del hotel a la tasa de cancelación?\n",
    "- ¿ qué activaciones de marketing/comerciales podemos realizar sobre la predicción del modelo de cancelaciones para reducir las mismas y mejorar la tasa de reservas que se completan?\n",
    "\n",
    "\n",
    "Dependiendo de la brillantez en la exposición del modelo, su rendimiento y los resultados analíticos, Disfrutín iniciará con nosotros una feliz relación de colaboración en tareas de ciencia de datos, o seremos una consultora más quedará atrás tras meter un pufo en el proyecto como impostores."
   ]
  }
 ],
 "metadata": {
  "kernelspec": {
   "display_name": "Python 3 (ipykernel)",
   "language": "python",
   "name": "python3"
  },
  "language_info": {
   "codemirror_mode": {
    "name": "ipython",
    "version": 3
   },
   "file_extension": ".py",
   "mimetype": "text/x-python",
   "name": "python",
   "nbconvert_exporter": "python",
   "pygments_lexer": "ipython3",
   "version": "3.9.13"
  },
  "toc": {
   "base_numbering": 1,
   "nav_menu": {},
   "number_sections": true,
   "sideBar": true,
   "skip_h1_title": false,
   "title_cell": "Table of Contents",
   "title_sidebar": "Contents",
   "toc_cell": false,
   "toc_position": {},
   "toc_section_display": true,
   "toc_window_display": false
  }
 },
 "nbformat": 4,
 "nbformat_minor": 5
}
