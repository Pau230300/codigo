{
 "cells": [
  {
   "cell_type": "markdown",
   "id": "f534b64f",
   "metadata": {},
   "source": [
    "# Train and check the model predictions"
   ]
  },
  {
   "cell_type": "code",
   "execution_count": 1,
   "id": "2bedc772",
   "metadata": {
    "ExecuteTime": {
     "end_time": "2023-09-26T15:24:50.016760Z",
     "start_time": "2023-09-26T15:24:50.013204Z"
    }
   },
   "outputs": [],
   "source": [
    "area_casa = [30, 220, 100, 110, 90]\n",
    "precio_casa = [200000, 400000, 220000, 250000, 180000]"
   ]
  },
  {
   "cell_type": "code",
   "execution_count": 2,
   "id": "74b1dde3",
   "metadata": {
    "ExecuteTime": {
     "end_time": "2023-09-26T15:24:50.529753Z",
     "start_time": "2023-09-26T15:24:50.171031Z"
    }
   },
   "outputs": [
    {
     "data": {
      "text/html": [
       "<div>\n",
       "<style scoped>\n",
       "    .dataframe tbody tr th:only-of-type {\n",
       "        vertical-align: middle;\n",
       "    }\n",
       "\n",
       "    .dataframe tbody tr th {\n",
       "        vertical-align: top;\n",
       "    }\n",
       "\n",
       "    .dataframe thead th {\n",
       "        text-align: right;\n",
       "    }\n",
       "</style>\n",
       "<table border=\"1\" class=\"dataframe\">\n",
       "  <thead>\n",
       "    <tr style=\"text-align: right;\">\n",
       "      <th></th>\n",
       "      <th>area</th>\n",
       "      <th>precio</th>\n",
       "    </tr>\n",
       "  </thead>\n",
       "  <tbody>\n",
       "    <tr>\n",
       "      <th>0</th>\n",
       "      <td>30</td>\n",
       "      <td>200000</td>\n",
       "    </tr>\n",
       "    <tr>\n",
       "      <th>1</th>\n",
       "      <td>220</td>\n",
       "      <td>400000</td>\n",
       "    </tr>\n",
       "    <tr>\n",
       "      <th>2</th>\n",
       "      <td>100</td>\n",
       "      <td>220000</td>\n",
       "    </tr>\n",
       "    <tr>\n",
       "      <th>3</th>\n",
       "      <td>110</td>\n",
       "      <td>250000</td>\n",
       "    </tr>\n",
       "    <tr>\n",
       "      <th>4</th>\n",
       "      <td>90</td>\n",
       "      <td>180000</td>\n",
       "    </tr>\n",
       "  </tbody>\n",
       "</table>\n",
       "</div>"
      ],
      "text/plain": [
       "   area  precio\n",
       "0    30  200000\n",
       "1   220  400000\n",
       "2   100  220000\n",
       "3   110  250000\n",
       "4    90  180000"
      ]
     },
     "execution_count": 2,
     "metadata": {},
     "output_type": "execute_result"
    }
   ],
   "source": [
    "import pandas as pd\n",
    "\n",
    "df = pd.DataFrame({\"area\": area_casa, \"precio\": precio_casa})\n",
    "df"
   ]
  },
  {
   "cell_type": "code",
   "execution_count": 3,
   "id": "7d81ba43",
   "metadata": {
    "ExecuteTime": {
     "end_time": "2023-09-26T15:24:50.539859Z",
     "start_time": "2023-09-26T15:24:50.532442Z"
    }
   },
   "outputs": [
    {
     "data": {
      "text/html": [
       "<div>\n",
       "<style scoped>\n",
       "    .dataframe tbody tr th:only-of-type {\n",
       "        vertical-align: middle;\n",
       "    }\n",
       "\n",
       "    .dataframe tbody tr th {\n",
       "        vertical-align: top;\n",
       "    }\n",
       "\n",
       "    .dataframe thead th {\n",
       "        text-align: right;\n",
       "    }\n",
       "</style>\n",
       "<table border=\"1\" class=\"dataframe\">\n",
       "  <thead>\n",
       "    <tr style=\"text-align: right;\">\n",
       "      <th></th>\n",
       "      <th>area</th>\n",
       "    </tr>\n",
       "  </thead>\n",
       "  <tbody>\n",
       "    <tr>\n",
       "      <th>0</th>\n",
       "      <td>120</td>\n",
       "    </tr>\n",
       "  </tbody>\n",
       "</table>\n",
       "</div>"
      ],
      "text/plain": [
       "   area\n",
       "0   120"
      ]
     },
     "execution_count": 3,
     "metadata": {},
     "output_type": "execute_result"
    }
   ],
   "source": [
    "new_df = pd.DataFrame({'area': [120]})\n",
    "new_df"
   ]
  },
  {
   "cell_type": "code",
   "execution_count": 4,
   "id": "6b5f7f4f",
   "metadata": {
    "ExecuteTime": {
     "end_time": "2023-09-26T15:24:50.879051Z",
     "start_time": "2023-09-26T15:24:50.541784Z"
    }
   },
   "outputs": [
    {
     "data": {
      "text/plain": [
       "array([261684.21052632])"
      ]
     },
     "execution_count": 4,
     "metadata": {},
     "output_type": "execute_result"
    }
   ],
   "source": [
    "from sklearn.linear_model import LinearRegression\n",
    "\n",
    "model = LinearRegression()\n",
    "\n",
    "model.fit(X=df[['area']], \n",
    "          y=df.precio)\n",
    "\n",
    "model.predict(new_df)"
   ]
  },
  {
   "cell_type": "code",
   "execution_count": 5,
   "id": "d5213d46",
   "metadata": {
    "ExecuteTime": {
     "end_time": "2023-09-26T15:24:50.886864Z",
     "start_time": "2023-09-26T15:24:50.881294Z"
    }
   },
   "outputs": [
    {
     "data": {
      "text/plain": [
       "array([273368.42105263, 413578.94736842, 179894.73684211])"
      ]
     },
     "execution_count": 5,
     "metadata": {},
     "output_type": "execute_result"
    }
   ],
   "source": [
    "model.predict(pd.DataFrame({'area': [130, 250, 50]}))"
   ]
  },
  {
   "cell_type": "markdown",
   "id": "d267a88a",
   "metadata": {},
   "source": [
    "`y = m * x + n`"
   ]
  },
  {
   "cell_type": "code",
   "execution_count": 6,
   "id": "50d8c881",
   "metadata": {
    "ExecuteTime": {
     "end_time": "2023-09-26T15:24:50.913432Z",
     "start_time": "2023-09-26T15:24:50.909421Z"
    }
   },
   "outputs": [
    {
     "data": {
      "text/plain": [
       "121473.68421052633"
      ]
     },
     "execution_count": 6,
     "metadata": {},
     "output_type": "execute_result"
    }
   ],
   "source": [
    "model.intercept_"
   ]
  },
  {
   "cell_type": "code",
   "execution_count": 7,
   "id": "f72337b6",
   "metadata": {
    "ExecuteTime": {
     "end_time": "2023-09-26T15:24:51.028327Z",
     "start_time": "2023-09-26T15:24:51.024994Z"
    }
   },
   "outputs": [
    {
     "data": {
      "text/plain": [
       "array([1168.42105263])"
      ]
     },
     "execution_count": 7,
     "metadata": {},
     "output_type": "execute_result"
    }
   ],
   "source": [
    "model.coef_"
   ]
  },
  {
   "cell_type": "code",
   "execution_count": 8,
   "id": "af01b844",
   "metadata": {
    "ExecuteTime": {
     "end_time": "2023-09-26T15:24:51.192591Z",
     "start_time": "2023-09-26T15:24:51.189156Z"
    }
   },
   "outputs": [
    {
     "data": {
      "text/plain": [
       "273368.4210526316"
      ]
     },
     "execution_count": 8,
     "metadata": {},
     "output_type": "execute_result"
    }
   ],
   "source": [
    "model.intercept_ + model.coef_[0] * 130"
   ]
  },
  {
   "cell_type": "code",
   "execution_count": 13,
   "id": "c1b4553d",
   "metadata": {
    "ExecuteTime": {
     "end_time": "2023-09-26T15:24:55.765218Z",
     "start_time": "2023-09-26T15:24:55.752889Z"
    }
   },
   "outputs": [
    {
     "data": {
      "text/plain": [
       "array([472000.])"
      ]
     },
     "execution_count": 13,
     "metadata": {},
     "output_type": "execute_result"
    }
   ],
   "source": [
    "model.predict(pd.DataFrame({'area': [300]}))"
   ]
  },
  {
   "cell_type": "code",
   "execution_count": 14,
   "id": "cc84f475",
   "metadata": {
    "ExecuteTime": {
     "end_time": "2023-09-26T15:24:55.907205Z",
     "start_time": "2023-09-26T15:24:55.900995Z"
    }
   },
   "outputs": [
    {
     "data": {
      "text/plain": [
       "471999.99999999994"
      ]
     },
     "execution_count": 14,
     "metadata": {},
     "output_type": "execute_result"
    }
   ],
   "source": [
    "model.intercept_ + model.coef_[0] * 300"
   ]
  },
  {
   "cell_type": "code",
   "execution_count": 16,
   "id": "62e1139b",
   "metadata": {
    "ExecuteTime": {
     "end_time": "2023-09-26T15:25:01.444167Z",
     "start_time": "2023-09-26T15:25:01.431035Z"
    }
   },
   "outputs": [
    {
     "data": {
      "text/plain": [
       "array([1168.42105263])"
      ]
     },
     "execution_count": 16,
     "metadata": {},
     "output_type": "execute_result"
    }
   ],
   "source": [
    "model.coef_"
   ]
  },
  {
   "cell_type": "code",
   "execution_count": 17,
   "id": "c23623c0",
   "metadata": {
    "ExecuteTime": {
     "end_time": "2023-09-26T15:25:01.599174Z",
     "start_time": "2023-09-26T15:25:01.593684Z"
    }
   },
   "outputs": [
    {
     "data": {
      "text/plain": [
       "1168.4210526315787"
      ]
     },
     "execution_count": 17,
     "metadata": {},
     "output_type": "execute_result"
    }
   ],
   "source": [
    "model.coef_[0]"
   ]
  },
  {
   "cell_type": "code",
   "execution_count": 18,
   "id": "ed11dbd5",
   "metadata": {
    "ExecuteTime": {
     "end_time": "2023-09-26T15:25:02.036094Z",
     "start_time": "2023-09-26T15:25:02.030985Z"
    }
   },
   "outputs": [],
   "source": [
    "# np.linspace(25, 230, 100)"
   ]
  },
  {
   "cell_type": "code",
   "execution_count": 19,
   "id": "f4333d6b",
   "metadata": {
    "ExecuteTime": {
     "end_time": "2023-09-26T15:25:04.344195Z",
     "start_time": "2023-09-26T15:25:03.606281Z"
    }
   },
   "outputs": [
    {
     "data": {
      "image/png": "[encoded data removed]",
      "text/plain": [
       "<Figure size 640x480 with 1 Axes>"
      ]
     },
     "metadata": {},
     "output_type": "display_data"
    }
   ],
   "source": [
    "import matplotlib.pyplot as plt\n",
    "import numpy as np\n",
    "\n",
    "xticks = np.linspace(25, 230, 100)\n",
    "yticks = model.intercept_ + model.coef_[0] * xticks\n",
    "plt.plot(xticks, yticks, c='r')\n",
    "\n",
    "plt.scatter(df.area, df.precio);\n",
    "plt.xlabel('Area');\n",
    "plt.ylabel('Precio');"
   ]
  },
  {
   "cell_type": "markdown",
   "id": "be4a33b7",
   "metadata": {},
   "source": [
    "# Save and load the model"
   ]
  },
  {
   "cell_type": "code",
   "execution_count": 20,
   "id": "c214681d",
   "metadata": {
    "ExecuteTime": {
     "end_time": "2023-09-26T15:25:07.759358Z",
     "start_time": "2023-09-26T15:25:07.748654Z"
    }
   },
   "outputs": [],
   "source": [
    "import pickle\n",
    "import os\n",
    "\n",
    "with open('my_favourite_dict.bin', mode='wb') as file:\n",
    "    pickle.dump({\"a\": 7, \"w\": 1242343.434}, file)"
   ]
  },
  {
   "cell_type": "code",
   "execution_count": 21,
   "id": "24af6929",
   "metadata": {
    "ExecuteTime": {
     "end_time": "2023-09-26T15:25:07.892265Z",
     "start_time": "2023-09-26T15:25:07.887826Z"
    }
   },
   "outputs": [],
   "source": [
    "with open('model.bin', mode='wb') as file:\n",
    "    pickle.dump(model, file)"
   ]
  },
  {
   "cell_type": "code",
   "execution_count": 23,
   "id": "517a58f5",
   "metadata": {
    "ExecuteTime": {
     "end_time": "2023-09-26T15:25:08.230476Z",
     "start_time": "2023-09-26T15:25:08.219950Z"
    }
   },
   "outputs": [
    {
     "data": {
      "text/plain": [
       "['.ipynb_checkpoints',\n",
       " '01_house_price_estimation_base.ipynb',\n",
       " 'titanic.csv',\n",
       " 'Untitled.ipynb',\n",
       " '00_intro_to_sklearn.ipynb',\n",
       " 'ses_1',\n",
       " 'my_favourite_dict.bin',\n",
       " 'model.bin']"
      ]
     },
     "execution_count": 23,
     "metadata": {},
     "output_type": "execute_result"
    }
   ],
   "source": [
    "os.listdir()"
   ]
  },
  {
   "cell_type": "code",
   "execution_count": 24,
   "id": "e1433ae7",
   "metadata": {
    "ExecuteTime": {
     "end_time": "2023-09-26T15:25:08.377348Z",
     "start_time": "2023-09-26T15:25:08.368081Z"
    }
   },
   "outputs": [
    {
     "data": {
      "text/plain": [
       "{'a': 7, 'w': 1242343.434}"
      ]
     },
     "execution_count": 24,
     "metadata": {},
     "output_type": "execute_result"
    }
   ],
   "source": [
    "with open('my_favourite_dict.bin', mode='rb') as file:\n",
    "    loaded_dict = pickle.load(file)\n",
    "loaded_dict"
   ]
  },
  {
   "cell_type": "code",
   "execution_count": 25,
   "id": "e2546b73",
   "metadata": {
    "ExecuteTime": {
     "end_time": "2023-09-26T15:25:08.587475Z",
     "start_time": "2023-09-26T15:25:08.558242Z"
    }
   },
   "outputs": [
    {
     "data": {
      "text/html": [
       "<style>#sk-container-id-1 {color: black;background-color: white;}#sk-container-id-1 pre{padding: 0;}#sk-container-id-1 div.sk-toggleable {background-color: white;}#sk-container-id-1 label.sk-toggleable__label {cursor: pointer;display: block;width: 100%;margin-bottom: 0;padding: 0.3em;box-sizing: border-box;text-align: center;}#sk-container-id-1 label.sk-toggleable__label-arrow:before {content: \"▸\";float: left;margin-right: 0.25em;color: #696969;}#sk-container-id-1 label.sk-toggleable__label-arrow:hover:before {color: black;}#sk-container-id-1 div.sk-estimator:hover label.sk-toggleable__label-arrow:before {color: black;}#sk-container-id-1 div.sk-toggleable__content {max-height: 0;max-width: 0;overflow: hidden;text-align: left;background-color: #f0f8ff;}#sk-container-id-1 div.sk-toggleable__content pre {margin: 0.2em;color: black;border-radius: 0.25em;background-color: #f0f8ff;}#sk-container-id-1 input.sk-toggleable__control:checked~div.sk-toggleable__content {max-height: 200px;max-width: 100%;overflow: auto;}#sk-container-id-1 input.sk-toggleable__control:checked~label.sk-toggleable__label-arrow:before {content: \"▾\";}#sk-container-id-1 div.sk-estimator input.sk-toggleable__control:checked~label.sk-toggleable__label {background-color: #d4ebff;}#sk-container-id-1 div.sk-label input.sk-toggleable__control:checked~label.sk-toggleable__label {background-color: #d4ebff;}#sk-container-id-1 input.sk-hidden--visually {border: 0;clip: rect(1px 1px 1px 1px);clip: rect(1px, 1px, 1px, 1px);height: 1px;margin: -1px;overflow: hidden;padding: 0;position: absolute;width: 1px;}#sk-container-id-1 div.sk-estimator {font-family: monospace;background-color: #f0f8ff;border: 1px dotted black;border-radius: 0.25em;box-sizing: border-box;margin-bottom: 0.5em;}#sk-container-id-1 div.sk-estimator:hover {background-color: #d4ebff;}#sk-container-id-1 div.sk-parallel-item::after {content: \"\";width: 100%;border-bottom: 1px solid gray;flex-grow: 1;}#sk-container-id-1 div.sk-label:hover label.sk-toggleable__label {background-color: #d4ebff;}#sk-container-id-1 div.sk-serial::before {content: \"\";position: absolute;border-left: 1px solid gray;box-sizing: border-box;top: 0;bottom: 0;left: 50%;z-index: 0;}#sk-container-id-1 div.sk-serial {display: flex;flex-direction: column;align-items: center;background-color: white;padding-right: 0.2em;padding-left: 0.2em;position: relative;}#sk-container-id-1 div.sk-item {position: relative;z-index: 1;}#sk-container-id-1 div.sk-parallel {display: flex;align-items: stretch;justify-content: center;background-color: white;position: relative;}#sk-container-id-1 div.sk-item::before, #sk-container-id-1 div.sk-parallel-item::before {content: \"\";position: absolute;border-left: 1px solid gray;box-sizing: border-box;top: 0;bottom: 0;left: 50%;z-index: -1;}#sk-container-id-1 div.sk-parallel-item {display: flex;flex-direction: column;z-index: 1;position: relative;background-color: white;}#sk-container-id-1 div.sk-parallel-item:first-child::after {align-self: flex-end;width: 50%;}#sk-container-id-1 div.sk-parallel-item:last-child::after {align-self: flex-start;width: 50%;}#sk-container-id-1 div.sk-parallel-item:only-child::after {width: 0;}#sk-container-id-1 div.sk-dashed-wrapped {border: 1px dashed gray;margin: 0 0.4em 0.5em 0.4em;box-sizing: border-box;padding-bottom: 0.4em;background-color: white;}#sk-container-id-1 div.sk-label label {font-family: monospace;font-weight: bold;display: inline-block;line-height: 1.2em;}#sk-container-id-1 div.sk-label-container {text-align: center;}#sk-container-id-1 div.sk-container {/* jupyter's `normalize.less` sets `[hidden] { display: none; }` but bootstrap.min.css set `[hidden] { display: none !important; }` so we also need the `!important` here to be able to override the default hidden behavior on the sphinx rendered scikit-learn.org. See: https://github.com/scikit-learn/scikit-learn/issues/21755 */display: inline-block !important;position: relative;}#sk-container-id-1 div.sk-text-repr-fallback {display: none;}</style><div id=\"sk-container-id-1\" class=\"sk-top-container\"><div class=\"sk-text-repr-fallback\"><pre>LinearRegression()</pre><b>In a Jupyter environment, please rerun this cell to show the HTML representation or trust the notebook. <br />On GitHub, the HTML representation is unable to render, please try loading this page with nbviewer.org.</b></div><div class=\"sk-container\" hidden><div class=\"sk-item\"><div class=\"sk-estimator sk-toggleable\"><input class=\"sk-toggleable__control sk-hidden--visually\" id=\"sk-estimator-id-1\" type=\"checkbox\" checked><label for=\"sk-estimator-id-1\" class=\"sk-toggleable__label sk-toggleable__label-arrow\">LinearRegression</label><div class=\"sk-toggleable__content\"><pre>LinearRegression()</pre></div></div></div></div></div>"
      ],
      "text/plain": [
       "LinearRegression()"
      ]
     },
     "execution_count": 25,
     "metadata": {},
     "output_type": "execute_result"
    }
   ],
   "source": [
    "with open('model.bin', mode='rb') as file:\n",
    "    loaded_model = pickle.load(file)\n",
    "    \n",
    "loaded_model"
   ]
  },
  {
   "cell_type": "code",
   "execution_count": 26,
   "id": "749af20f",
   "metadata": {
    "ExecuteTime": {
     "end_time": "2023-09-26T15:25:11.611320Z",
     "start_time": "2023-09-26T15:25:11.591545Z"
    }
   },
   "outputs": [
    {
     "name": "stderr",
     "output_type": "stream",
     "text": [
      "/home/infinitemonkeys/anaconda3/lib/python3.9/site-packages/sklearn/base.py:450: UserWarning: X does not have valid feature names, but LinearRegression was fitted with feature names\n",
      "  warnings.warn(\n"
     ]
    },
    {
     "data": {
      "text/plain": [
       "array([472000.])"
      ]
     },
     "execution_count": 26,
     "metadata": {},
     "output_type": "execute_result"
    }
   ],
   "source": [
    "loaded_model.predict([[300]])"
   ]
  },
  {
   "cell_type": "code",
   "execution_count": 27,
   "id": "e633edb4",
   "metadata": {
    "ExecuteTime": {
     "end_time": "2023-09-26T15:25:12.183943Z",
     "start_time": "2023-09-26T15:25:12.158493Z"
    }
   },
   "outputs": [
    {
     "data": {
      "text/html": [
       "<style>#sk-container-id-2 {color: black;background-color: white;}#sk-container-id-2 pre{padding: 0;}#sk-container-id-2 div.sk-toggleable {background-color: white;}#sk-container-id-2 label.sk-toggleable__label {cursor: pointer;display: block;width: 100%;margin-bottom: 0;padding: 0.3em;box-sizing: border-box;text-align: center;}#sk-container-id-2 label.sk-toggleable__label-arrow:before {content: \"▸\";float: left;margin-right: 0.25em;color: #696969;}#sk-container-id-2 label.sk-toggleable__label-arrow:hover:before {color: black;}#sk-container-id-2 div.sk-estimator:hover label.sk-toggleable__label-arrow:before {color: black;}#sk-container-id-2 div.sk-toggleable__content {max-height: 0;max-width: 0;overflow: hidden;text-align: left;background-color: #f0f8ff;}#sk-container-id-2 div.sk-toggleable__content pre {margin: 0.2em;color: black;border-radius: 0.25em;background-color: #f0f8ff;}#sk-container-id-2 input.sk-toggleable__control:checked~div.sk-toggleable__content {max-height: 200px;max-width: 100%;overflow: auto;}#sk-container-id-2 input.sk-toggleable__control:checked~label.sk-toggleable__label-arrow:before {content: \"▾\";}#sk-container-id-2 div.sk-estimator input.sk-toggleable__control:checked~label.sk-toggleable__label {background-color: #d4ebff;}#sk-container-id-2 div.sk-label input.sk-toggleable__control:checked~label.sk-toggleable__label {background-color: #d4ebff;}#sk-container-id-2 input.sk-hidden--visually {border: 0;clip: rect(1px 1px 1px 1px);clip: rect(1px, 1px, 1px, 1px);height: 1px;margin: -1px;overflow: hidden;padding: 0;position: absolute;width: 1px;}#sk-container-id-2 div.sk-estimator {font-family: monospace;background-color: #f0f8ff;border: 1px dotted black;border-radius: 0.25em;box-sizing: border-box;margin-bottom: 0.5em;}#sk-container-id-2 div.sk-estimator:hover {background-color: #d4ebff;}#sk-container-id-2 div.sk-parallel-item::after {content: \"\";width: 100%;border-bottom: 1px solid gray;flex-grow: 1;}#sk-container-id-2 div.sk-label:hover label.sk-toggleable__label {background-color: #d4ebff;}#sk-container-id-2 div.sk-serial::before {content: \"\";position: absolute;border-left: 1px solid gray;box-sizing: border-box;top: 0;bottom: 0;left: 50%;z-index: 0;}#sk-container-id-2 div.sk-serial {display: flex;flex-direction: column;align-items: center;background-color: white;padding-right: 0.2em;padding-left: 0.2em;position: relative;}#sk-container-id-2 div.sk-item {position: relative;z-index: 1;}#sk-container-id-2 div.sk-parallel {display: flex;align-items: stretch;justify-content: center;background-color: white;position: relative;}#sk-container-id-2 div.sk-item::before, #sk-container-id-2 div.sk-parallel-item::before {content: \"\";position: absolute;border-left: 1px solid gray;box-sizing: border-box;top: 0;bottom: 0;left: 50%;z-index: -1;}#sk-container-id-2 div.sk-parallel-item {display: flex;flex-direction: column;z-index: 1;position: relative;background-color: white;}#sk-container-id-2 div.sk-parallel-item:first-child::after {align-self: flex-end;width: 50%;}#sk-container-id-2 div.sk-parallel-item:last-child::after {align-self: flex-start;width: 50%;}#sk-container-id-2 div.sk-parallel-item:only-child::after {width: 0;}#sk-container-id-2 div.sk-dashed-wrapped {border: 1px dashed gray;margin: 0 0.4em 0.5em 0.4em;box-sizing: border-box;padding-bottom: 0.4em;background-color: white;}#sk-container-id-2 div.sk-label label {font-family: monospace;font-weight: bold;display: inline-block;line-height: 1.2em;}#sk-container-id-2 div.sk-label-container {text-align: center;}#sk-container-id-2 div.sk-container {/* jupyter's `normalize.less` sets `[hidden] { display: none; }` but bootstrap.min.css set `[hidden] { display: none !important; }` so we also need the `!important` here to be able to override the default hidden behavior on the sphinx rendered scikit-learn.org. See: https://github.com/scikit-learn/scikit-learn/issues/21755 */display: inline-block !important;position: relative;}#sk-container-id-2 div.sk-text-repr-fallback {display: none;}</style><div id=\"sk-container-id-2\" class=\"sk-top-container\"><div class=\"sk-text-repr-fallback\"><pre>LinearRegression()</pre><b>In a Jupyter environment, please rerun this cell to show the HTML representation or trust the notebook. <br />On GitHub, the HTML representation is unable to render, please try loading this page with nbviewer.org.</b></div><div class=\"sk-container\" hidden><div class=\"sk-item\"><div class=\"sk-estimator sk-toggleable\"><input class=\"sk-toggleable__control sk-hidden--visually\" id=\"sk-estimator-id-2\" type=\"checkbox\" checked><label for=\"sk-estimator-id-2\" class=\"sk-toggleable__label sk-toggleable__label-arrow\">LinearRegression</label><div class=\"sk-toggleable__content\"><pre>LinearRegression()</pre></div></div></div></div></div>"
      ],
      "text/plain": [
       "LinearRegression()"
      ]
     },
     "execution_count": 27,
     "metadata": {},
     "output_type": "execute_result"
    }
   ],
   "source": [
    "model"
   ]
  },
  {
   "cell_type": "markdown",
   "id": "f9f5511c",
   "metadata": {},
   "source": [
    "# Estimate model error"
   ]
  },
  {
   "cell_type": "code",
   "execution_count": 28,
   "id": "5aba2485",
   "metadata": {
    "ExecuteTime": {
     "end_time": "2023-09-26T15:25:16.581099Z",
     "start_time": "2023-09-26T15:25:16.567001Z"
    }
   },
   "outputs": [
    {
     "data": {
      "text/html": [
       "<div>\n",
       "<style scoped>\n",
       "    .dataframe tbody tr th:only-of-type {\n",
       "        vertical-align: middle;\n",
       "    }\n",
       "\n",
       "    .dataframe tbody tr th {\n",
       "        vertical-align: top;\n",
       "    }\n",
       "\n",
       "    .dataframe thead th {\n",
       "        text-align: right;\n",
       "    }\n",
       "</style>\n",
       "<table border=\"1\" class=\"dataframe\">\n",
       "  <thead>\n",
       "    <tr style=\"text-align: right;\">\n",
       "      <th></th>\n",
       "      <th>area</th>\n",
       "      <th>precio</th>\n",
       "    </tr>\n",
       "  </thead>\n",
       "  <tbody>\n",
       "    <tr>\n",
       "      <th>0</th>\n",
       "      <td>30</td>\n",
       "      <td>200000</td>\n",
       "    </tr>\n",
       "    <tr>\n",
       "      <th>1</th>\n",
       "      <td>220</td>\n",
       "      <td>400000</td>\n",
       "    </tr>\n",
       "    <tr>\n",
       "      <th>2</th>\n",
       "      <td>100</td>\n",
       "      <td>220000</td>\n",
       "    </tr>\n",
       "    <tr>\n",
       "      <th>3</th>\n",
       "      <td>110</td>\n",
       "      <td>250000</td>\n",
       "    </tr>\n",
       "    <tr>\n",
       "      <th>4</th>\n",
       "      <td>90</td>\n",
       "      <td>180000</td>\n",
       "    </tr>\n",
       "  </tbody>\n",
       "</table>\n",
       "</div>"
      ],
      "text/plain": [
       "   area  precio\n",
       "0    30  200000\n",
       "1   220  400000\n",
       "2   100  220000\n",
       "3   110  250000\n",
       "4    90  180000"
      ]
     },
     "execution_count": 28,
     "metadata": {},
     "output_type": "execute_result"
    }
   ],
   "source": [
    "df"
   ]
  },
  {
   "cell_type": "code",
   "execution_count": 29,
   "id": "e4d66e6f",
   "metadata": {
    "ExecuteTime": {
     "end_time": "2023-09-26T15:25:36.523691Z",
     "start_time": "2023-09-26T15:25:36.516785Z"
    }
   },
   "outputs": [
    {
     "data": {
      "text/plain": [
       "array([156526.31578947, 378526.31578947, 238315.78947368, 250000.        ,\n",
       "       226631.57894737])"
      ]
     },
     "execution_count": 29,
     "metadata": {},
     "output_type": "execute_result"
    }
   ],
   "source": [
    "predictions = model.predict(df[['area']])\n",
    "predictions"
   ]
  },
  {
   "cell_type": "code",
   "execution_count": 39,
   "id": "c0b60c8b",
   "metadata": {
    "ExecuteTime": {
     "end_time": "2023-09-26T15:29:20.104777Z",
     "start_time": "2023-09-26T15:29:20.094976Z"
    }
   },
   "outputs": [
    {
     "data": {
      "text/plain": [
       "array([ 43473.68421053,  21473.68421053, -18315.78947368,      0.        ,\n",
       "       -46631.57894737])"
      ]
     },
     "execution_count": 39,
     "metadata": {},
     "output_type": "execute_result"
    }
   ],
   "source": [
    "errors = df.precio.values - predictions\n",
    "errors"
   ]
  },
  {
   "cell_type": "code",
   "execution_count": 40,
   "id": "c934eb06",
   "metadata": {
    "ExecuteTime": {
     "end_time": "2023-09-26T15:29:30.361309Z",
     "start_time": "2023-09-26T15:29:30.347344Z"
    }
   },
   "outputs": [
    {
     "data": {
      "text/plain": [
       "0.0"
      ]
     },
     "execution_count": 40,
     "metadata": {},
     "output_type": "execute_result"
    }
   ],
   "source": [
    "np.sum(errors)"
   ]
  },
  {
   "cell_type": "code",
   "execution_count": 41,
   "id": "bbe6ee42",
   "metadata": {
    "ExecuteTime": {
     "end_time": "2023-09-26T15:29:30.474445Z",
     "start_time": "2023-09-26T15:29:30.468799Z"
    }
   },
   "outputs": [
    {
     "data": {
      "text/plain": [
       "0.0"
      ]
     },
     "execution_count": 41,
     "metadata": {},
     "output_type": "execute_result"
    }
   ],
   "source": [
    "np.mean(errors)"
   ]
  },
  {
   "cell_type": "markdown",
   "id": "9525b0ae",
   "metadata": {},
   "source": [
    "Error absoluto medio"
   ]
  },
  {
   "cell_type": "code",
   "execution_count": 44,
   "id": "12ccae11",
   "metadata": {
    "ExecuteTime": {
     "end_time": "2023-09-26T15:30:41.523280Z",
     "start_time": "2023-09-26T15:30:41.517412Z"
    }
   },
   "outputs": [
    {
     "data": {
      "text/plain": [
       "25978.947368421057"
      ]
     },
     "execution_count": 44,
     "metadata": {},
     "output_type": "execute_result"
    }
   ],
   "source": [
    "np.mean(np.abs(errors))"
   ]
  },
  {
   "cell_type": "code",
   "execution_count": 47,
   "id": "00f8dd1d",
   "metadata": {
    "ExecuteTime": {
     "end_time": "2023-09-26T15:37:39.789900Z",
     "start_time": "2023-09-26T15:37:39.783850Z"
    }
   },
   "outputs": [
    {
     "name": "stderr",
     "output_type": "stream",
     "text": [
      "/home/infinitemonkeys/anaconda3/lib/python3.9/site-packages/sklearn/base.py:450: UserWarning: X does not have valid feature names, but LinearRegression was fitted with feature names\n",
      "  warnings.warn(\n"
     ]
    },
    {
     "data": {
      "text/plain": [
       "array([472000.])"
      ]
     },
     "execution_count": 47,
     "metadata": {},
     "output_type": "execute_result"
    }
   ],
   "source": [
    "model.predict([[300]])"
   ]
  },
  {
   "cell_type": "markdown",
   "id": "2c21f9df",
   "metadata": {},
   "source": [
    "valor estimado para 300 m2: 472.000 +- 27000 €"
   ]
  },
  {
   "cell_type": "markdown",
   "id": "4671fa26",
   "metadata": {},
   "source": [
    "Error cuadrático medio"
   ]
  },
  {
   "cell_type": "code",
   "execution_count": 46,
   "id": "d933f4af",
   "metadata": {
    "ExecuteTime": {
     "end_time": "2023-09-26T15:31:12.932674Z",
     "start_time": "2023-09-26T15:31:12.925518Z"
    }
   },
   "outputs": [
    {
     "data": {
      "text/plain": [
       "31180.2906708034"
      ]
     },
     "execution_count": 46,
     "metadata": {},
     "output_type": "execute_result"
    }
   ],
   "source": [
    "np.sqrt(np.mean(np.power(errors, 2)))"
   ]
  }
 ],
 "metadata": {
  "kernelspec": {
   "display_name": "Python 3 (ipykernel)",
   "language": "python",
   "name": "python3"
  },
  "language_info": {
   "codemirror_mode": {
    "name": "ipython",
    "version": 3
   },
   "file_extension": ".py",
   "mimetype": "text/x-python",
   "name": "python",
   "nbconvert_exporter": "python",
   "pygments_lexer": "ipython3",
   "version": "3.9.13"
  },
  "toc": {
   "base_numbering": 1,
   "nav_menu": {},
   "number_sections": true,
   "sideBar": true,
   "skip_h1_title": false,
   "title_cell": "Table of Contents",
   "title_sidebar": "Contents",
   "toc_cell": false,
   "toc_position": {
    "height": "calc(100% - 180px)",
    "left": "10px",
    "top": "150px",
    "width": "196.865px"
   },
   "toc_section_display": true,
   "toc_window_display": true
  }
 },
 "nbformat": 4,
 "nbformat_minor": 5
}
