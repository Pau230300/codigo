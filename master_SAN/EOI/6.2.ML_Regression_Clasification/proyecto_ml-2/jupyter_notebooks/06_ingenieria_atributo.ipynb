{
 "cells": [
  {
   "cell_type": "markdown",
   "id": "18ec4908",
   "metadata": {},
   "source": [
    "# Ingeniería de atributos\n",
    "\n",
    "Consiste en construir nuevos predictores basándonos en los existentes, que potencialmente ayuden al modelo a predecir la variable objetivo (tengan buena capacidad predictiva para el problema)"
   ]
  },
  {
   "cell_type": "code",
   "execution_count": 9,
   "id": "36f34bda",
   "metadata": {
    "ExecuteTime": {
     "end_time": "2023-09-29T17:13:04.462000Z",
     "start_time": "2023-09-29T17:13:04.439325Z"
    }
   },
   "outputs": [],
   "source": [
    "import pandas as pd\n",
    "from datetime import datetime\n",
    "\n",
    "df = pd.DataFrame({\"importe_total\": [1200, 1500, 1600, 3000],\n",
    "                   \"noches\": [3, 2, 5, 7],\n",
    "                   \"numero_personas\": [3, 2, 1, 5],\n",
    "                   \"estrellas\": [3, 5, 2, 1]})"
   ]
  },
  {
   "cell_type": "code",
   "execution_count": 10,
   "id": "ae0bc812",
   "metadata": {
    "ExecuteTime": {
     "end_time": "2023-09-29T17:13:04.867907Z",
     "start_time": "2023-09-29T17:13:04.848581Z"
    }
   },
   "outputs": [
    {
     "data": {
      "text/html": [
       "<div>\n",
       "<style scoped>\n",
       "    .dataframe tbody tr th:only-of-type {\n",
       "        vertical-align: middle;\n",
       "    }\n",
       "\n",
       "    .dataframe tbody tr th {\n",
       "        vertical-align: top;\n",
       "    }\n",
       "\n",
       "    .dataframe thead th {\n",
       "        text-align: right;\n",
       "    }\n",
       "</style>\n",
       "<table border=\"1\" class=\"dataframe\">\n",
       "  <thead>\n",
       "    <tr style=\"text-align: right;\">\n",
       "      <th></th>\n",
       "      <th>importe_total</th>\n",
       "      <th>noches</th>\n",
       "      <th>numero_personas</th>\n",
       "      <th>estrellas</th>\n",
       "    </tr>\n",
       "  </thead>\n",
       "  <tbody>\n",
       "    <tr>\n",
       "      <th>0</th>\n",
       "      <td>1200</td>\n",
       "      <td>3</td>\n",
       "      <td>3</td>\n",
       "      <td>3</td>\n",
       "    </tr>\n",
       "    <tr>\n",
       "      <th>1</th>\n",
       "      <td>1500</td>\n",
       "      <td>2</td>\n",
       "      <td>2</td>\n",
       "      <td>5</td>\n",
       "    </tr>\n",
       "    <tr>\n",
       "      <th>2</th>\n",
       "      <td>1600</td>\n",
       "      <td>5</td>\n",
       "      <td>1</td>\n",
       "      <td>2</td>\n",
       "    </tr>\n",
       "    <tr>\n",
       "      <th>3</th>\n",
       "      <td>3000</td>\n",
       "      <td>7</td>\n",
       "      <td>5</td>\n",
       "      <td>1</td>\n",
       "    </tr>\n",
       "  </tbody>\n",
       "</table>\n",
       "</div>"
      ],
      "text/plain": [
       "   importe_total  noches  numero_personas  estrellas\n",
       "0           1200       3                3          3\n",
       "1           1500       2                2          5\n",
       "2           1600       5                1          2\n",
       "3           3000       7                5          1"
      ]
     },
     "execution_count": 10,
     "metadata": {},
     "output_type": "execute_result"
    }
   ],
   "source": [
    "df"
   ]
  },
  {
   "cell_type": "code",
   "execution_count": 11,
   "id": "c765314c",
   "metadata": {
    "ExecuteTime": {
     "end_time": "2023-09-29T17:17:03.295605Z",
     "start_time": "2023-09-29T17:17:03.277467Z"
    }
   },
   "outputs": [],
   "source": [
    "df['importe_por_persona'] = df.importe_total / df.numero_personas\n",
    "df['importe_por_noche'] = df.importe_total / df.noches\n",
    "df['importe_por_persona_por_noche'] = df.importe_total  / df.numero_personas / df.noches\n",
    "df['importe_por_persona_por_noche_por_estrella'] = (df.importe_total  / df.numero_personas \n",
    "                                                    / df.noches / df.estrellas)"
   ]
  },
  {
   "cell_type": "code",
   "execution_count": 12,
   "id": "a05c448e",
   "metadata": {
    "ExecuteTime": {
     "end_time": "2023-09-29T17:17:03.630116Z",
     "start_time": "2023-09-29T17:17:03.606106Z"
    }
   },
   "outputs": [
    {
     "data": {
      "text/html": [
       "<div>\n",
       "<style scoped>\n",
       "    .dataframe tbody tr th:only-of-type {\n",
       "        vertical-align: middle;\n",
       "    }\n",
       "\n",
       "    .dataframe tbody tr th {\n",
       "        vertical-align: top;\n",
       "    }\n",
       "\n",
       "    .dataframe thead th {\n",
       "        text-align: right;\n",
       "    }\n",
       "</style>\n",
       "<table border=\"1\" class=\"dataframe\">\n",
       "  <thead>\n",
       "    <tr style=\"text-align: right;\">\n",
       "      <th></th>\n",
       "      <th>importe_total</th>\n",
       "      <th>noches</th>\n",
       "      <th>numero_personas</th>\n",
       "      <th>estrellas</th>\n",
       "      <th>importe_por_persona</th>\n",
       "      <th>importe_por_noche</th>\n",
       "      <th>importe_por_persona_por_noche</th>\n",
       "      <th>importe_por_persona_por_noche_por_estrella</th>\n",
       "    </tr>\n",
       "  </thead>\n",
       "  <tbody>\n",
       "    <tr>\n",
       "      <th>0</th>\n",
       "      <td>1200</td>\n",
       "      <td>3</td>\n",
       "      <td>3</td>\n",
       "      <td>3</td>\n",
       "      <td>400.0</td>\n",
       "      <td>400.000000</td>\n",
       "      <td>133.333333</td>\n",
       "      <td>44.444444</td>\n",
       "    </tr>\n",
       "    <tr>\n",
       "      <th>1</th>\n",
       "      <td>1500</td>\n",
       "      <td>2</td>\n",
       "      <td>2</td>\n",
       "      <td>5</td>\n",
       "      <td>750.0</td>\n",
       "      <td>750.000000</td>\n",
       "      <td>375.000000</td>\n",
       "      <td>75.000000</td>\n",
       "    </tr>\n",
       "    <tr>\n",
       "      <th>2</th>\n",
       "      <td>1600</td>\n",
       "      <td>5</td>\n",
       "      <td>1</td>\n",
       "      <td>2</td>\n",
       "      <td>1600.0</td>\n",
       "      <td>320.000000</td>\n",
       "      <td>320.000000</td>\n",
       "      <td>160.000000</td>\n",
       "    </tr>\n",
       "    <tr>\n",
       "      <th>3</th>\n",
       "      <td>3000</td>\n",
       "      <td>7</td>\n",
       "      <td>5</td>\n",
       "      <td>1</td>\n",
       "      <td>600.0</td>\n",
       "      <td>428.571429</td>\n",
       "      <td>85.714286</td>\n",
       "      <td>85.714286</td>\n",
       "    </tr>\n",
       "  </tbody>\n",
       "</table>\n",
       "</div>"
      ],
      "text/plain": [
       "   importe_total  noches  numero_personas  estrellas  importe_por_persona  \\\n",
       "0           1200       3                3          3                400.0   \n",
       "1           1500       2                2          5                750.0   \n",
       "2           1600       5                1          2               1600.0   \n",
       "3           3000       7                5          1                600.0   \n",
       "\n",
       "   importe_por_noche  importe_por_persona_por_noche  \\\n",
       "0         400.000000                     133.333333   \n",
       "1         750.000000                     375.000000   \n",
       "2         320.000000                     320.000000   \n",
       "3         428.571429                      85.714286   \n",
       "\n",
       "   importe_por_persona_por_noche_por_estrella  \n",
       "0                                   44.444444  \n",
       "1                                   75.000000  \n",
       "2                                  160.000000  \n",
       "3                                   85.714286  "
      ]
     },
     "execution_count": 12,
     "metadata": {},
     "output_type": "execute_result"
    }
   ],
   "source": [
    "df"
   ]
  }
 ],
 "metadata": {
  "kernelspec": {
   "display_name": "Python 3 (ipykernel)",
   "language": "python",
   "name": "python3"
  },
  "language_info": {
   "codemirror_mode": {
    "name": "ipython",
    "version": 3
   },
   "file_extension": ".py",
   "mimetype": "text/x-python",
   "name": "python",
   "nbconvert_exporter": "python",
   "pygments_lexer": "ipython3",
   "version": "3.9.13"
  },
  "toc": {
   "base_numbering": 1,
   "nav_menu": {},
   "number_sections": true,
   "sideBar": true,
   "skip_h1_title": false,
   "title_cell": "Table of Contents",
   "title_sidebar": "Contents",
   "toc_cell": false,
   "toc_position": {},
   "toc_section_display": true,
   "toc_window_display": false
  }
 },
 "nbformat": 4,
 "nbformat_minor": 5
}
