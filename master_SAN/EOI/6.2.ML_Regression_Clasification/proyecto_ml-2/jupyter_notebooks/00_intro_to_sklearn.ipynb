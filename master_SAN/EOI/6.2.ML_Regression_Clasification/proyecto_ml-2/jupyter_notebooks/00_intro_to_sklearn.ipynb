{
 "cells": [
  {
   "cell_type": "code",
   "execution_count": 1,
   "id": "1520518e",
   "metadata": {
    "ExecuteTime": {
     "end_time": "2023-09-26T15:45:12.677301Z",
     "start_time": "2023-09-26T15:45:12.672084Z"
    }
   },
   "outputs": [],
   "source": [
    "# !pip install scikit-learn"
   ]
  },
  {
   "cell_type": "code",
   "execution_count": 2,
   "id": "f2b5a5d5",
   "metadata": {
    "ExecuteTime": {
     "end_time": "2023-09-26T15:45:13.094915Z",
     "start_time": "2023-09-26T15:45:13.090879Z"
    }
   },
   "outputs": [],
   "source": [
    "# !pip show scikit-learn"
   ]
  },
  {
   "cell_type": "code",
   "execution_count": 2,
   "id": "30e3f9f4",
   "metadata": {
    "ExecuteTime": {
     "end_time": "2023-09-26T16:32:33.031743Z",
     "start_time": "2023-09-26T16:32:33.017398Z"
    }
   },
   "outputs": [
    {
     "data": {
      "text/plain": [
       "['.ipynb_checkpoints',\n",
       " '01_house_price_estimation_base.ipynb',\n",
       " 'titanic.csv',\n",
       " 'Untitled.ipynb',\n",
       " '00_intro_to_sklearn.ipynb',\n",
       " 'ses_1',\n",
       " 'my_favourite_dict.bin',\n",
       " 'model.bin']"
      ]
     },
     "execution_count": 2,
     "metadata": {},
     "output_type": "execute_result"
    }
   ],
   "source": [
    "import os\n",
    "\n",
    "\n",
    "os.listdir()"
   ]
  },
  {
   "cell_type": "code",
   "execution_count": 3,
   "id": "468bf1b4",
   "metadata": {
    "ExecuteTime": {
     "end_time": "2023-09-26T16:32:33.662119Z",
     "start_time": "2023-09-26T16:32:33.191518Z"
    }
   },
   "outputs": [],
   "source": [
    "from sklearn.datasets import load_diabetes"
   ]
  },
  {
   "cell_type": "code",
   "execution_count": 4,
   "id": "dc4e9c40",
   "metadata": {
    "ExecuteTime": {
     "end_time": "2023-09-26T16:32:33.928799Z",
     "start_time": "2023-09-26T16:32:33.663617Z"
    }
   },
   "outputs": [
    {
     "data": {
      "text/plain": [
       "(891, 15)"
      ]
     },
     "execution_count": 4,
     "metadata": {},
     "output_type": "execute_result"
    }
   ],
   "source": [
    "import pandas as pd\n",
    "\n",
    "df = pd.read_csv('titanic.csv')\n",
    "df.shape"
   ]
  },
  {
   "cell_type": "code",
   "execution_count": 5,
   "id": "2fce37ba",
   "metadata": {
    "ExecuteTime": {
     "end_time": "2023-09-26T16:32:33.944870Z",
     "start_time": "2023-09-26T16:32:33.930352Z"
    }
   },
   "outputs": [
    {
     "data": {
      "text/html": [
       "<div>\n",
       "<style scoped>\n",
       "    .dataframe tbody tr th:only-of-type {\n",
       "        vertical-align: middle;\n",
       "    }\n",
       "\n",
       "    .dataframe tbody tr th {\n",
       "        vertical-align: top;\n",
       "    }\n",
       "\n",
       "    .dataframe thead th {\n",
       "        text-align: right;\n",
       "    }\n",
       "</style>\n",
       "<table border=\"1\" class=\"dataframe\">\n",
       "  <thead>\n",
       "    <tr style=\"text-align: right;\">\n",
       "      <th></th>\n",
       "      <th>survived</th>\n",
       "      <th>pclass</th>\n",
       "      <th>sex</th>\n",
       "      <th>age</th>\n",
       "      <th>sibsp</th>\n",
       "      <th>parch</th>\n",
       "      <th>fare</th>\n",
       "      <th>embarked</th>\n",
       "      <th>class</th>\n",
       "      <th>who</th>\n",
       "      <th>adult_male</th>\n",
       "      <th>deck</th>\n",
       "      <th>embark_town</th>\n",
       "      <th>alive</th>\n",
       "      <th>alone</th>\n",
       "    </tr>\n",
       "  </thead>\n",
       "  <tbody>\n",
       "    <tr>\n",
       "      <th>0</th>\n",
       "      <td>0</td>\n",
       "      <td>3</td>\n",
       "      <td>male</td>\n",
       "      <td>22.0</td>\n",
       "      <td>1</td>\n",
       "      <td>0</td>\n",
       "      <td>7.2500</td>\n",
       "      <td>S</td>\n",
       "      <td>Third</td>\n",
       "      <td>man</td>\n",
       "      <td>True</td>\n",
       "      <td>NaN</td>\n",
       "      <td>Southampton</td>\n",
       "      <td>no</td>\n",
       "      <td>False</td>\n",
       "    </tr>\n",
       "    <tr>\n",
       "      <th>1</th>\n",
       "      <td>1</td>\n",
       "      <td>1</td>\n",
       "      <td>female</td>\n",
       "      <td>38.0</td>\n",
       "      <td>1</td>\n",
       "      <td>0</td>\n",
       "      <td>71.2833</td>\n",
       "      <td>C</td>\n",
       "      <td>First</td>\n",
       "      <td>woman</td>\n",
       "      <td>False</td>\n",
       "      <td>C</td>\n",
       "      <td>Cherbourg</td>\n",
       "      <td>yes</td>\n",
       "      <td>False</td>\n",
       "    </tr>\n",
       "    <tr>\n",
       "      <th>2</th>\n",
       "      <td>1</td>\n",
       "      <td>3</td>\n",
       "      <td>female</td>\n",
       "      <td>26.0</td>\n",
       "      <td>0</td>\n",
       "      <td>0</td>\n",
       "      <td>7.9250</td>\n",
       "      <td>S</td>\n",
       "      <td>Third</td>\n",
       "      <td>woman</td>\n",
       "      <td>False</td>\n",
       "      <td>NaN</td>\n",
       "      <td>Southampton</td>\n",
       "      <td>yes</td>\n",
       "      <td>True</td>\n",
       "    </tr>\n",
       "    <tr>\n",
       "      <th>3</th>\n",
       "      <td>1</td>\n",
       "      <td>1</td>\n",
       "      <td>female</td>\n",
       "      <td>35.0</td>\n",
       "      <td>1</td>\n",
       "      <td>0</td>\n",
       "      <td>53.1000</td>\n",
       "      <td>S</td>\n",
       "      <td>First</td>\n",
       "      <td>woman</td>\n",
       "      <td>False</td>\n",
       "      <td>C</td>\n",
       "      <td>Southampton</td>\n",
       "      <td>yes</td>\n",
       "      <td>False</td>\n",
       "    </tr>\n",
       "    <tr>\n",
       "      <th>4</th>\n",
       "      <td>0</td>\n",
       "      <td>3</td>\n",
       "      <td>male</td>\n",
       "      <td>35.0</td>\n",
       "      <td>0</td>\n",
       "      <td>0</td>\n",
       "      <td>8.0500</td>\n",
       "      <td>S</td>\n",
       "      <td>Third</td>\n",
       "      <td>man</td>\n",
       "      <td>True</td>\n",
       "      <td>NaN</td>\n",
       "      <td>Southampton</td>\n",
       "      <td>no</td>\n",
       "      <td>True</td>\n",
       "    </tr>\n",
       "  </tbody>\n",
       "</table>\n",
       "</div>"
      ],
      "text/plain": [
       "   survived  pclass     sex   age  sibsp  parch     fare embarked  class  \\\n",
       "0         0       3    male  22.0      1      0   7.2500        S  Third   \n",
       "1         1       1  female  38.0      1      0  71.2833        C  First   \n",
       "2         1       3  female  26.0      0      0   7.9250        S  Third   \n",
       "3         1       1  female  35.0      1      0  53.1000        S  First   \n",
       "4         0       3    male  35.0      0      0   8.0500        S  Third   \n",
       "\n",
       "     who  adult_male deck  embark_town alive  alone  \n",
       "0    man        True  NaN  Southampton    no  False  \n",
       "1  woman       False    C    Cherbourg   yes  False  \n",
       "2  woman       False  NaN  Southampton   yes   True  \n",
       "3  woman       False    C  Southampton   yes  False  \n",
       "4    man        True  NaN  Southampton    no   True  "
      ]
     },
     "execution_count": 5,
     "metadata": {},
     "output_type": "execute_result"
    }
   ],
   "source": [
    "df.head()"
   ]
  },
  {
   "cell_type": "code",
   "execution_count": 6,
   "id": "c87d7609",
   "metadata": {
    "ExecuteTime": {
     "end_time": "2023-09-26T16:32:33.949546Z",
     "start_time": "2023-09-26T16:32:33.946726Z"
    }
   },
   "outputs": [],
   "source": [
    "df = df[['age', 'class', 'embark_town', 'fare']]"
   ]
  },
  {
   "cell_type": "code",
   "execution_count": 7,
   "id": "f51d3246",
   "metadata": {
    "ExecuteTime": {
     "end_time": "2023-09-26T16:32:33.958451Z",
     "start_time": "2023-09-26T16:32:33.950883Z"
    }
   },
   "outputs": [
    {
     "data": {
      "text/plain": [
       "age            float64\n",
       "class           object\n",
       "embark_town     object\n",
       "fare           float64\n",
       "dtype: object"
      ]
     },
     "execution_count": 7,
     "metadata": {},
     "output_type": "execute_result"
    }
   ],
   "source": [
    "df.dtypes"
   ]
  },
  {
   "cell_type": "code",
   "execution_count": 8,
   "id": "7da1e059",
   "metadata": {
    "ExecuteTime": {
     "end_time": "2023-09-26T16:32:34.010672Z",
     "start_time": "2023-09-26T16:32:34.004111Z"
    }
   },
   "outputs": [
    {
     "data": {
      "text/plain": [
       "age            177\n",
       "class            0\n",
       "embark_town      2\n",
       "fare             0\n",
       "dtype: int64"
      ]
     },
     "execution_count": 8,
     "metadata": {},
     "output_type": "execute_result"
    }
   ],
   "source": [
    "df.isnull().sum()"
   ]
  },
  {
   "cell_type": "code",
   "execution_count": 9,
   "id": "45160faf",
   "metadata": {
    "ExecuteTime": {
     "end_time": "2023-09-26T16:32:34.183942Z",
     "start_time": "2023-09-26T16:32:34.178839Z"
    }
   },
   "outputs": [
    {
     "data": {
      "text/plain": [
       "28.0"
      ]
     },
     "execution_count": 9,
     "metadata": {},
     "output_type": "execute_result"
    }
   ],
   "source": [
    "df.age.quantile(0.5)"
   ]
  },
  {
   "cell_type": "code",
   "execution_count": 10,
   "id": "1196d5db",
   "metadata": {
    "ExecuteTime": {
     "end_time": "2023-09-26T16:32:34.334582Z",
     "start_time": "2023-09-26T16:32:34.329345Z"
    }
   },
   "outputs": [],
   "source": [
    "df.age = df.age.fillna(df.age.quantile(0.5))"
   ]
  },
  {
   "cell_type": "code",
   "execution_count": 11,
   "id": "e3c93925",
   "metadata": {
    "ExecuteTime": {
     "end_time": "2023-09-26T16:32:34.499033Z",
     "start_time": "2023-09-26T16:32:34.491427Z"
    }
   },
   "outputs": [
    {
     "data": {
      "text/plain": [
       "(889, 4)"
      ]
     },
     "execution_count": 11,
     "metadata": {},
     "output_type": "execute_result"
    }
   ],
   "source": [
    "df = df.loc[df.embark_town.notnull()]\n",
    "df.shape"
   ]
  },
  {
   "cell_type": "code",
   "execution_count": 12,
   "id": "37f626a4",
   "metadata": {
    "ExecuteTime": {
     "end_time": "2023-09-26T16:32:34.648626Z",
     "start_time": "2023-09-26T16:32:34.638592Z"
    }
   },
   "outputs": [
    {
     "data": {
      "text/plain": [
       "age            0\n",
       "class          0\n",
       "embark_town    0\n",
       "fare           0\n",
       "dtype: int64"
      ]
     },
     "execution_count": 12,
     "metadata": {},
     "output_type": "execute_result"
    }
   ],
   "source": [
    "df.isnull().sum()"
   ]
  },
  {
   "cell_type": "code",
   "execution_count": 13,
   "id": "a8788c63",
   "metadata": {
    "ExecuteTime": {
     "end_time": "2023-09-26T16:32:34.802469Z",
     "start_time": "2023-09-26T16:32:34.789924Z"
    }
   },
   "outputs": [
    {
     "data": {
      "text/html": [
       "<div>\n",
       "<style scoped>\n",
       "    .dataframe tbody tr th:only-of-type {\n",
       "        vertical-align: middle;\n",
       "    }\n",
       "\n",
       "    .dataframe tbody tr th {\n",
       "        vertical-align: top;\n",
       "    }\n",
       "\n",
       "    .dataframe thead th {\n",
       "        text-align: right;\n",
       "    }\n",
       "</style>\n",
       "<table border=\"1\" class=\"dataframe\">\n",
       "  <thead>\n",
       "    <tr style=\"text-align: right;\">\n",
       "      <th></th>\n",
       "      <th>age</th>\n",
       "      <th>class</th>\n",
       "      <th>embark_town</th>\n",
       "      <th>fare</th>\n",
       "    </tr>\n",
       "  </thead>\n",
       "  <tbody>\n",
       "    <tr>\n",
       "      <th>742</th>\n",
       "      <td>21.0</td>\n",
       "      <td>First</td>\n",
       "      <td>Cherbourg</td>\n",
       "      <td>262.3750</td>\n",
       "    </tr>\n",
       "    <tr>\n",
       "      <th>77</th>\n",
       "      <td>28.0</td>\n",
       "      <td>Third</td>\n",
       "      <td>Southampton</td>\n",
       "      <td>8.0500</td>\n",
       "    </tr>\n",
       "    <tr>\n",
       "      <th>20</th>\n",
       "      <td>35.0</td>\n",
       "      <td>Second</td>\n",
       "      <td>Southampton</td>\n",
       "      <td>26.0000</td>\n",
       "    </tr>\n",
       "    <tr>\n",
       "      <th>248</th>\n",
       "      <td>37.0</td>\n",
       "      <td>First</td>\n",
       "      <td>Southampton</td>\n",
       "      <td>52.5542</td>\n",
       "    </tr>\n",
       "    <tr>\n",
       "      <th>353</th>\n",
       "      <td>25.0</td>\n",
       "      <td>Third</td>\n",
       "      <td>Southampton</td>\n",
       "      <td>17.8000</td>\n",
       "    </tr>\n",
       "  </tbody>\n",
       "</table>\n",
       "</div>"
      ],
      "text/plain": [
       "      age   class  embark_town      fare\n",
       "742  21.0   First    Cherbourg  262.3750\n",
       "77   28.0   Third  Southampton    8.0500\n",
       "20   35.0  Second  Southampton   26.0000\n",
       "248  37.0   First  Southampton   52.5542\n",
       "353  25.0   Third  Southampton   17.8000"
      ]
     },
     "execution_count": 13,
     "metadata": {},
     "output_type": "execute_result"
    }
   ],
   "source": [
    "df.sample(5)"
   ]
  },
  {
   "cell_type": "code",
   "execution_count": 14,
   "id": "8a50c832",
   "metadata": {
    "ExecuteTime": {
     "end_time": "2023-09-26T16:32:34.960703Z",
     "start_time": "2023-09-26T16:32:34.953772Z"
    }
   },
   "outputs": [
    {
     "data": {
      "text/plain": [
       "array([0.05, 0.1 , 0.15, 0.2 , 0.25, 0.3 , 0.35, 0.4 , 0.45, 0.5 , 0.55,\n",
       "       0.6 , 0.65, 0.7 , 0.75, 0.8 , 0.85, 0.9 , 0.95])"
      ]
     },
     "execution_count": 14,
     "metadata": {},
     "output_type": "execute_result"
    }
   ],
   "source": [
    "import numpy as np\n",
    "\n",
    "np.linspace(0, 1, 21)[1:-1]"
   ]
  },
  {
   "cell_type": "code",
   "execution_count": 15,
   "id": "e21eddb3",
   "metadata": {
    "ExecuteTime": {
     "end_time": "2023-09-26T16:32:35.164005Z",
     "start_time": "2023-09-26T16:32:35.149329Z"
    }
   },
   "outputs": [
    {
     "data": {
      "text/plain": [
       "count    889.000000\n",
       "mean      32.096681\n",
       "std       49.697504\n",
       "min        0.000000\n",
       "5%         7.225000\n",
       "10%        7.550000\n",
       "15%        7.750000\n",
       "20%        7.854200\n",
       "25%        7.895800\n",
       "30%        8.050000\n",
       "35%        8.970000\n",
       "40%       10.500000\n",
       "45%       13.000000\n",
       "50%       14.454200\n",
       "55%       16.100000\n",
       "60%       21.075000\n",
       "65%       26.000000\n",
       "70%       26.820000\n",
       "75%       31.000000\n",
       "80%       39.687500\n",
       "85%       56.376640\n",
       "90%       77.287500\n",
       "95%      112.318320\n",
       "max      512.329200\n",
       "Name: fare, dtype: float64"
      ]
     },
     "execution_count": 15,
     "metadata": {},
     "output_type": "execute_result"
    }
   ],
   "source": [
    "df.fare.describe(percentiles=np.linspace(0, 1, 21)[1:-1])"
   ]
  },
  {
   "cell_type": "code",
   "execution_count": 16,
   "id": "16eb21cf",
   "metadata": {
    "ExecuteTime": {
     "end_time": "2023-09-26T16:32:35.272512Z",
     "start_time": "2023-09-26T16:32:35.265626Z"
    }
   },
   "outputs": [
    {
     "data": {
      "text/plain": [
       "(801, 4)"
      ]
     },
     "execution_count": 16,
     "metadata": {},
     "output_type": "execute_result"
    }
   ],
   "source": [
    "df = df.loc[df.fare.ge(df.fare.quantile(0.05)) & df.fare.le(df.fare.quantile(0.95))]\n",
    "df.shape"
   ]
  },
  {
   "cell_type": "code",
   "execution_count": 17,
   "id": "9bb30be2",
   "metadata": {
    "ExecuteTime": {
     "end_time": "2023-09-26T16:32:36.204413Z",
     "start_time": "2023-09-26T16:32:35.440600Z"
    }
   },
   "outputs": [
    {
     "name": "stderr",
     "output_type": "stream",
     "text": [
      "/home/infinitemonkeys/anaconda3/lib/python3.9/site-packages/seaborn/distributions.py:2619: FutureWarning: `distplot` is a deprecated function and will be removed in a future version. Please adapt your code to use either `displot` (a figure-level function with similar flexibility) or `histplot` (an axes-level function for histograms).\n",
      "  warnings.warn(msg, FutureWarning)\n"
     ]
    },
    {
     "data": {
      "image/png": "[encoded data removed]",
      "text/plain": [
       "<Figure size 640x480 with 1 Axes>"
      ]
     },
     "metadata": {},
     "output_type": "display_data"
    }
   ],
   "source": [
    "import seaborn as sns\n",
    "\n",
    "sns.distplot(df.fare);"
   ]
  },
  {
   "cell_type": "code",
   "execution_count": 18,
   "id": "b2942ae4",
   "metadata": {
    "ExecuteTime": {
     "end_time": "2023-09-26T16:32:36.288953Z",
     "start_time": "2023-09-26T16:32:36.206448Z"
    }
   },
   "outputs": [
    {
     "data": {
      "image/png": "[encoded data removed]",
      "text/plain": [
       "<Figure size 640x480 with 1 Axes>"
      ]
     },
     "metadata": {},
     "output_type": "display_data"
    }
   ],
   "source": [
    "df.fare.plot.box();"
   ]
  },
  {
   "cell_type": "code",
   "execution_count": 19,
   "id": "8d65502d",
   "metadata": {
    "ExecuteTime": {
     "end_time": "2023-09-26T16:32:36.296780Z",
     "start_time": "2023-09-26T16:32:36.290279Z"
    }
   },
   "outputs": [
    {
     "data": {
      "text/html": [
       "<div>\n",
       "<style scoped>\n",
       "    .dataframe tbody tr th:only-of-type {\n",
       "        vertical-align: middle;\n",
       "    }\n",
       "\n",
       "    .dataframe tbody tr th {\n",
       "        vertical-align: top;\n",
       "    }\n",
       "\n",
       "    .dataframe thead th {\n",
       "        text-align: right;\n",
       "    }\n",
       "</style>\n",
       "<table border=\"1\" class=\"dataframe\">\n",
       "  <thead>\n",
       "    <tr style=\"text-align: right;\">\n",
       "      <th></th>\n",
       "      <th>age</th>\n",
       "      <th>class</th>\n",
       "      <th>embark_town</th>\n",
       "      <th>fare</th>\n",
       "    </tr>\n",
       "  </thead>\n",
       "  <tbody>\n",
       "    <tr>\n",
       "      <th>339</th>\n",
       "      <td>45.0</td>\n",
       "      <td>First</td>\n",
       "      <td>Southampton</td>\n",
       "      <td>35.500</td>\n",
       "    </tr>\n",
       "    <tr>\n",
       "      <th>139</th>\n",
       "      <td>24.0</td>\n",
       "      <td>First</td>\n",
       "      <td>Cherbourg</td>\n",
       "      <td>79.200</td>\n",
       "    </tr>\n",
       "    <tr>\n",
       "      <th>246</th>\n",
       "      <td>25.0</td>\n",
       "      <td>Third</td>\n",
       "      <td>Southampton</td>\n",
       "      <td>7.775</td>\n",
       "    </tr>\n",
       "  </tbody>\n",
       "</table>\n",
       "</div>"
      ],
      "text/plain": [
       "      age  class  embark_town    fare\n",
       "339  45.0  First  Southampton  35.500\n",
       "139  24.0  First    Cherbourg  79.200\n",
       "246  25.0  Third  Southampton   7.775"
      ]
     },
     "execution_count": 19,
     "metadata": {},
     "output_type": "execute_result"
    }
   ],
   "source": [
    "df.sample(3)"
   ]
  },
  {
   "cell_type": "code",
   "execution_count": 20,
   "id": "c90fee83",
   "metadata": {
    "ExecuteTime": {
     "end_time": "2023-09-26T16:32:36.317509Z",
     "start_time": "2023-09-26T16:32:36.299387Z"
    }
   },
   "outputs": [
    {
     "data": {
      "text/html": [
       "<div>\n",
       "<style scoped>\n",
       "    .dataframe tbody tr th:only-of-type {\n",
       "        vertical-align: middle;\n",
       "    }\n",
       "\n",
       "    .dataframe tbody tr th {\n",
       "        vertical-align: top;\n",
       "    }\n",
       "\n",
       "    .dataframe thead th {\n",
       "        text-align: right;\n",
       "    }\n",
       "</style>\n",
       "<table border=\"1\" class=\"dataframe\">\n",
       "  <thead>\n",
       "    <tr style=\"text-align: right;\">\n",
       "      <th></th>\n",
       "      <th>count</th>\n",
       "      <th>mean</th>\n",
       "      <th>std</th>\n",
       "      <th>min</th>\n",
       "      <th>25%</th>\n",
       "      <th>50%</th>\n",
       "      <th>75%</th>\n",
       "      <th>max</th>\n",
       "    </tr>\n",
       "    <tr>\n",
       "      <th>class</th>\n",
       "      <th></th>\n",
       "      <th></th>\n",
       "      <th></th>\n",
       "      <th></th>\n",
       "      <th></th>\n",
       "      <th></th>\n",
       "      <th></th>\n",
       "      <th></th>\n",
       "    </tr>\n",
       "  </thead>\n",
       "  <tbody>\n",
       "    <tr>\n",
       "      <th>First</th>\n",
       "      <td>163.0</td>\n",
       "      <td>55.054320</td>\n",
       "      <td>25.014425</td>\n",
       "      <td>25.5875</td>\n",
       "      <td>30.2500</td>\n",
       "      <td>52.0000</td>\n",
       "      <td>77.9583</td>\n",
       "      <td>110.8833</td>\n",
       "    </tr>\n",
       "    <tr>\n",
       "      <th>Second</th>\n",
       "      <td>178.0</td>\n",
       "      <td>21.358661</td>\n",
       "      <td>13.083169</td>\n",
       "      <td>10.5000</td>\n",
       "      <td>13.0000</td>\n",
       "      <td>15.0229</td>\n",
       "      <td>26.0000</td>\n",
       "      <td>73.5000</td>\n",
       "    </tr>\n",
       "    <tr>\n",
       "      <th>Third</th>\n",
       "      <td>460.0</td>\n",
       "      <td>14.198178</td>\n",
       "      <td>11.974397</td>\n",
       "      <td>7.2250</td>\n",
       "      <td>7.7958</td>\n",
       "      <td>8.0500</td>\n",
       "      <td>15.8500</td>\n",
       "      <td>69.5500</td>\n",
       "    </tr>\n",
       "  </tbody>\n",
       "</table>\n",
       "</div>"
      ],
      "text/plain": [
       "        count       mean        std      min      25%      50%      75%  \\\n",
       "class                                                                     \n",
       "First   163.0  55.054320  25.014425  25.5875  30.2500  52.0000  77.9583   \n",
       "Second  178.0  21.358661  13.083169  10.5000  13.0000  15.0229  26.0000   \n",
       "Third   460.0  14.198178  11.974397   7.2250   7.7958   8.0500  15.8500   \n",
       "\n",
       "             max  \n",
       "class             \n",
       "First   110.8833  \n",
       "Second   73.5000  \n",
       "Third    69.5500  "
      ]
     },
     "execution_count": 20,
     "metadata": {},
     "output_type": "execute_result"
    }
   ],
   "source": [
    "df.groupby('class').fare.describe()"
   ]
  },
  {
   "cell_type": "code",
   "execution_count": 21,
   "id": "ab0b695a",
   "metadata": {
    "ExecuteTime": {
     "end_time": "2023-09-26T16:32:36.422567Z",
     "start_time": "2023-09-26T16:32:36.319377Z"
    }
   },
   "outputs": [
    {
     "data": {
      "image/png": "[encoded data removed]",
      "text/plain": [
       "<Figure size 640x480 with 1 Axes>"
      ]
     },
     "metadata": {},
     "output_type": "display_data"
    }
   ],
   "source": [
    "sns.boxplot(data=df, x='class', y='fare');"
   ]
  },
  {
   "cell_type": "code",
   "execution_count": 22,
   "id": "eec15f50",
   "metadata": {
    "ExecuteTime": {
     "end_time": "2023-09-26T16:32:36.439100Z",
     "start_time": "2023-09-26T16:32:36.424193Z"
    }
   },
   "outputs": [
    {
     "data": {
      "text/html": [
       "<div>\n",
       "<style scoped>\n",
       "    .dataframe tbody tr th:only-of-type {\n",
       "        vertical-align: middle;\n",
       "    }\n",
       "\n",
       "    .dataframe tbody tr th {\n",
       "        vertical-align: top;\n",
       "    }\n",
       "\n",
       "    .dataframe thead th {\n",
       "        text-align: right;\n",
       "    }\n",
       "</style>\n",
       "<table border=\"1\" class=\"dataframe\">\n",
       "  <thead>\n",
       "    <tr style=\"text-align: right;\">\n",
       "      <th></th>\n",
       "      <th>count</th>\n",
       "      <th>mean</th>\n",
       "      <th>std</th>\n",
       "      <th>min</th>\n",
       "      <th>25%</th>\n",
       "      <th>50%</th>\n",
       "      <th>75%</th>\n",
       "      <th>max</th>\n",
       "    </tr>\n",
       "    <tr>\n",
       "      <th>embark_town</th>\n",
       "      <th></th>\n",
       "      <th></th>\n",
       "      <th></th>\n",
       "      <th></th>\n",
       "      <th></th>\n",
       "      <th></th>\n",
       "      <th></th>\n",
       "      <th></th>\n",
       "    </tr>\n",
       "  </thead>\n",
       "  <tbody>\n",
       "    <tr>\n",
       "      <th>Cherbourg</th>\n",
       "      <td>145.0</td>\n",
       "      <td>35.933337</td>\n",
       "      <td>31.028829</td>\n",
       "      <td>7.2250</td>\n",
       "      <td>11.2417</td>\n",
       "      <td>24.00</td>\n",
       "      <td>57.9792</td>\n",
       "      <td>110.8833</td>\n",
       "    </tr>\n",
       "    <tr>\n",
       "      <th>Queenstown</th>\n",
       "      <td>73.0</td>\n",
       "      <td>13.629397</td>\n",
       "      <td>14.492983</td>\n",
       "      <td>7.6292</td>\n",
       "      <td>7.7500</td>\n",
       "      <td>7.75</td>\n",
       "      <td>15.5000</td>\n",
       "      <td>90.0000</td>\n",
       "    </tr>\n",
       "    <tr>\n",
       "      <th>Southampton</th>\n",
       "      <td>583.0</td>\n",
       "      <td>22.472689</td>\n",
       "      <td>19.286351</td>\n",
       "      <td>7.2500</td>\n",
       "      <td>8.0500</td>\n",
       "      <td>13.00</td>\n",
       "      <td>26.5500</td>\n",
       "      <td>93.5000</td>\n",
       "    </tr>\n",
       "  </tbody>\n",
       "</table>\n",
       "</div>"
      ],
      "text/plain": [
       "             count       mean        std     min      25%    50%      75%  \\\n",
       "embark_town                                                                 \n",
       "Cherbourg    145.0  35.933337  31.028829  7.2250  11.2417  24.00  57.9792   \n",
       "Queenstown    73.0  13.629397  14.492983  7.6292   7.7500   7.75  15.5000   \n",
       "Southampton  583.0  22.472689  19.286351  7.2500   8.0500  13.00  26.5500   \n",
       "\n",
       "                  max  \n",
       "embark_town            \n",
       "Cherbourg    110.8833  \n",
       "Queenstown    90.0000  \n",
       "Southampton   93.5000  "
      ]
     },
     "execution_count": 22,
     "metadata": {},
     "output_type": "execute_result"
    }
   ],
   "source": [
    "df.groupby('embark_town').fare.describe()"
   ]
  },
  {
   "cell_type": "code",
   "execution_count": 23,
   "id": "0d7a48a2",
   "metadata": {
    "ExecuteTime": {
     "end_time": "2023-09-26T16:32:36.553463Z",
     "start_time": "2023-09-26T16:32:36.451997Z"
    }
   },
   "outputs": [
    {
     "data": {
      "image/png": "[encoded data removed]",
      "text/plain": [
       "<Figure size 640x480 with 1 Axes>"
      ]
     },
     "metadata": {},
     "output_type": "display_data"
    }
   ],
   "source": [
    "sns.boxplot(data=df, x='embark_town', y='fare');"
   ]
  },
  {
   "cell_type": "code",
   "execution_count": 24,
   "id": "4bdf3761",
   "metadata": {
    "ExecuteTime": {
     "end_time": "2023-09-26T16:32:36.658520Z",
     "start_time": "2023-09-26T16:32:36.624442Z"
    }
   },
   "outputs": [
    {
     "data": {
      "text/html": [
       "<div>\n",
       "<style scoped>\n",
       "    .dataframe tbody tr th:only-of-type {\n",
       "        vertical-align: middle;\n",
       "    }\n",
       "\n",
       "    .dataframe tbody tr th {\n",
       "        vertical-align: top;\n",
       "    }\n",
       "\n",
       "    .dataframe thead th {\n",
       "        text-align: right;\n",
       "    }\n",
       "</style>\n",
       "<table border=\"1\" class=\"dataframe\">\n",
       "  <thead>\n",
       "    <tr style=\"text-align: right;\">\n",
       "      <th></th>\n",
       "      <th></th>\n",
       "      <th>count</th>\n",
       "      <th>mean</th>\n",
       "      <th>std</th>\n",
       "      <th>min</th>\n",
       "      <th>25%</th>\n",
       "      <th>50%</th>\n",
       "      <th>75%</th>\n",
       "      <th>max</th>\n",
       "    </tr>\n",
       "    <tr>\n",
       "      <th>embark_town</th>\n",
       "      <th>class</th>\n",
       "      <th></th>\n",
       "      <th></th>\n",
       "      <th></th>\n",
       "      <th></th>\n",
       "      <th></th>\n",
       "      <th></th>\n",
       "      <th></th>\n",
       "      <th></th>\n",
       "    </tr>\n",
       "  </thead>\n",
       "  <tbody>\n",
       "    <tr>\n",
       "      <th>Cherbourg</th>\n",
       "      <th>Third</th>\n",
       "      <td>64.0</td>\n",
       "      <td>11.401242</td>\n",
       "      <td>4.823300</td>\n",
       "      <td>7.2250</td>\n",
       "      <td>7.22920</td>\n",
       "      <td>8.20625</td>\n",
       "      <td>14.655175</td>\n",
       "      <td>22.3583</td>\n",
       "    </tr>\n",
       "    <tr>\n",
       "      <th rowspan=\"2\" valign=\"top\">Queenstown</th>\n",
       "      <th>Third</th>\n",
       "      <td>68.0</td>\n",
       "      <td>11.439647</td>\n",
       "      <td>6.832149</td>\n",
       "      <td>7.6292</td>\n",
       "      <td>7.75000</td>\n",
       "      <td>7.75000</td>\n",
       "      <td>15.500000</td>\n",
       "      <td>29.1250</td>\n",
       "    </tr>\n",
       "    <tr>\n",
       "      <th>Second</th>\n",
       "      <td>3.0</td>\n",
       "      <td>12.350000</td>\n",
       "      <td>0.000000</td>\n",
       "      <td>12.3500</td>\n",
       "      <td>12.35000</td>\n",
       "      <td>12.35000</td>\n",
       "      <td>12.350000</td>\n",
       "      <td>12.3500</td>\n",
       "    </tr>\n",
       "    <tr>\n",
       "      <th rowspan=\"2\" valign=\"top\">Southampton</th>\n",
       "      <th>Third</th>\n",
       "      <td>328.0</td>\n",
       "      <td>15.315812</td>\n",
       "      <td>13.522363</td>\n",
       "      <td>7.2500</td>\n",
       "      <td>7.89580</td>\n",
       "      <td>8.22915</td>\n",
       "      <td>16.700000</td>\n",
       "      <td>69.5500</td>\n",
       "    </tr>\n",
       "    <tr>\n",
       "      <th>Second</th>\n",
       "      <td>158.0</td>\n",
       "      <td>21.099367</td>\n",
       "      <td>13.285582</td>\n",
       "      <td>10.5000</td>\n",
       "      <td>13.00000</td>\n",
       "      <td>14.50000</td>\n",
       "      <td>26.000000</td>\n",
       "      <td>73.5000</td>\n",
       "    </tr>\n",
       "    <tr>\n",
       "      <th>Cherbourg</th>\n",
       "      <th>Second</th>\n",
       "      <td>17.0</td>\n",
       "      <td>25.358335</td>\n",
       "      <td>11.345067</td>\n",
       "      <td>12.0000</td>\n",
       "      <td>13.86250</td>\n",
       "      <td>24.00000</td>\n",
       "      <td>37.004200</td>\n",
       "      <td>41.5792</td>\n",
       "    </tr>\n",
       "    <tr>\n",
       "      <th>Southampton</th>\n",
       "      <th>First</th>\n",
       "      <td>97.0</td>\n",
       "      <td>48.910223</td>\n",
       "      <td>21.428615</td>\n",
       "      <td>25.5875</td>\n",
       "      <td>26.55000</td>\n",
       "      <td>51.47920</td>\n",
       "      <td>61.175000</td>\n",
       "      <td>93.5000</td>\n",
       "    </tr>\n",
       "    <tr>\n",
       "      <th>Cherbourg</th>\n",
       "      <th>First</th>\n",
       "      <td>64.0</td>\n",
       "      <td>63.274416</td>\n",
       "      <td>27.271836</td>\n",
       "      <td>26.5500</td>\n",
       "      <td>33.74065</td>\n",
       "      <td>62.66875</td>\n",
       "      <td>82.170800</td>\n",
       "      <td>110.8833</td>\n",
       "    </tr>\n",
       "    <tr>\n",
       "      <th>Queenstown</th>\n",
       "      <th>First</th>\n",
       "      <td>2.0</td>\n",
       "      <td>90.000000</td>\n",
       "      <td>0.000000</td>\n",
       "      <td>90.0000</td>\n",
       "      <td>90.00000</td>\n",
       "      <td>90.00000</td>\n",
       "      <td>90.000000</td>\n",
       "      <td>90.0000</td>\n",
       "    </tr>\n",
       "  </tbody>\n",
       "</table>\n",
       "</div>"
      ],
      "text/plain": [
       "                    count       mean        std      min       25%       50%  \\\n",
       "embark_town class                                                              \n",
       "Cherbourg   Third    64.0  11.401242   4.823300   7.2250   7.22920   8.20625   \n",
       "Queenstown  Third    68.0  11.439647   6.832149   7.6292   7.75000   7.75000   \n",
       "            Second    3.0  12.350000   0.000000  12.3500  12.35000  12.35000   \n",
       "Southampton Third   328.0  15.315812  13.522363   7.2500   7.89580   8.22915   \n",
       "            Second  158.0  21.099367  13.285582  10.5000  13.00000  14.50000   \n",
       "Cherbourg   Second   17.0  25.358335  11.345067  12.0000  13.86250  24.00000   \n",
       "Southampton First    97.0  48.910223  21.428615  25.5875  26.55000  51.47920   \n",
       "Cherbourg   First    64.0  63.274416  27.271836  26.5500  33.74065  62.66875   \n",
       "Queenstown  First     2.0  90.000000   0.000000  90.0000  90.00000  90.00000   \n",
       "\n",
       "                          75%       max  \n",
       "embark_town class                        \n",
       "Cherbourg   Third   14.655175   22.3583  \n",
       "Queenstown  Third   15.500000   29.1250  \n",
       "            Second  12.350000   12.3500  \n",
       "Southampton Third   16.700000   69.5500  \n",
       "            Second  26.000000   73.5000  \n",
       "Cherbourg   Second  37.004200   41.5792  \n",
       "Southampton First   61.175000   93.5000  \n",
       "Cherbourg   First   82.170800  110.8833  \n",
       "Queenstown  First   90.000000   90.0000  "
      ]
     },
     "execution_count": 24,
     "metadata": {},
     "output_type": "execute_result"
    }
   ],
   "source": [
    "df.groupby(['embark_town', 'class']).fare.describe().sort_values('mean')"
   ]
  },
  {
   "cell_type": "code",
   "execution_count": 25,
   "id": "57f617be",
   "metadata": {
    "ExecuteTime": {
     "end_time": "2023-09-26T16:32:36.798910Z",
     "start_time": "2023-09-26T16:32:36.775428Z"
    }
   },
   "outputs": [
    {
     "data": {
      "text/html": [
       "<div>\n",
       "<style scoped>\n",
       "    .dataframe tbody tr th:only-of-type {\n",
       "        vertical-align: middle;\n",
       "    }\n",
       "\n",
       "    .dataframe tbody tr th {\n",
       "        vertical-align: top;\n",
       "    }\n",
       "\n",
       "    .dataframe thead th {\n",
       "        text-align: right;\n",
       "    }\n",
       "</style>\n",
       "<table border=\"1\" class=\"dataframe\">\n",
       "  <thead>\n",
       "    <tr style=\"text-align: right;\">\n",
       "      <th>class</th>\n",
       "      <th>First</th>\n",
       "      <th>Second</th>\n",
       "      <th>Third</th>\n",
       "    </tr>\n",
       "    <tr>\n",
       "      <th>embark_town</th>\n",
       "      <th></th>\n",
       "      <th></th>\n",
       "      <th></th>\n",
       "    </tr>\n",
       "  </thead>\n",
       "  <tbody>\n",
       "    <tr>\n",
       "      <th>Cherbourg</th>\n",
       "      <td>63.274416</td>\n",
       "      <td>25.358335</td>\n",
       "      <td>11.401242</td>\n",
       "    </tr>\n",
       "    <tr>\n",
       "      <th>Queenstown</th>\n",
       "      <td>90.000000</td>\n",
       "      <td>12.350000</td>\n",
       "      <td>11.439647</td>\n",
       "    </tr>\n",
       "    <tr>\n",
       "      <th>Southampton</th>\n",
       "      <td>48.910223</td>\n",
       "      <td>21.099367</td>\n",
       "      <td>15.315812</td>\n",
       "    </tr>\n",
       "  </tbody>\n",
       "</table>\n",
       "</div>"
      ],
      "text/plain": [
       "class            First     Second      Third\n",
       "embark_town                                 \n",
       "Cherbourg    63.274416  25.358335  11.401242\n",
       "Queenstown   90.000000  12.350000  11.439647\n",
       "Southampton  48.910223  21.099367  15.315812"
      ]
     },
     "execution_count": 25,
     "metadata": {},
     "output_type": "execute_result"
    }
   ],
   "source": [
    "table = pd.pivot_table(df, \n",
    "                       values='fare', \n",
    "                       index=['embark_town'],\n",
    "                       columns=['class'],                        \n",
    "                       aggfunc=\"mean\")\n",
    "table"
   ]
  },
  {
   "cell_type": "code",
   "execution_count": 26,
   "id": "6ee0e052",
   "metadata": {
    "ExecuteTime": {
     "end_time": "2023-09-26T16:32:37.139741Z",
     "start_time": "2023-09-26T16:32:36.958286Z"
    }
   },
   "outputs": [
    {
     "data": {
      "image/png": "[encoded data removed]",
      "text/plain": [
       "<Figure size 640x480 with 2 Axes>"
      ]
     },
     "metadata": {},
     "output_type": "display_data"
    }
   ],
   "source": [
    "sns.heatmap(table);"
   ]
  },
  {
   "cell_type": "code",
   "execution_count": 27,
   "id": "2fed964f",
   "metadata": {
    "ExecuteTime": {
     "end_time": "2023-09-26T16:32:37.158700Z",
     "start_time": "2023-09-26T16:32:37.141757Z"
    }
   },
   "outputs": [
    {
     "data": {
      "text/html": [
       "<div>\n",
       "<style scoped>\n",
       "    .dataframe tbody tr th:only-of-type {\n",
       "        vertical-align: middle;\n",
       "    }\n",
       "\n",
       "    .dataframe tbody tr th {\n",
       "        vertical-align: top;\n",
       "    }\n",
       "\n",
       "    .dataframe thead th {\n",
       "        text-align: right;\n",
       "    }\n",
       "</style>\n",
       "<table border=\"1\" class=\"dataframe\">\n",
       "  <thead>\n",
       "    <tr style=\"text-align: right;\">\n",
       "      <th></th>\n",
       "      <th>count</th>\n",
       "      <th>mean</th>\n",
       "      <th>std</th>\n",
       "      <th>min</th>\n",
       "      <th>25%</th>\n",
       "      <th>50%</th>\n",
       "      <th>75%</th>\n",
       "      <th>max</th>\n",
       "    </tr>\n",
       "    <tr>\n",
       "      <th>class</th>\n",
       "      <th></th>\n",
       "      <th></th>\n",
       "      <th></th>\n",
       "      <th></th>\n",
       "      <th></th>\n",
       "      <th></th>\n",
       "      <th></th>\n",
       "      <th></th>\n",
       "    </tr>\n",
       "  </thead>\n",
       "  <tbody>\n",
       "    <tr>\n",
       "      <th>First</th>\n",
       "      <td>163.0</td>\n",
       "      <td>38.156442</td>\n",
       "      <td>14.108543</td>\n",
       "      <td>4.00</td>\n",
       "      <td>28.000</td>\n",
       "      <td>35.0</td>\n",
       "      <td>49.0</td>\n",
       "      <td>80.0</td>\n",
       "    </tr>\n",
       "    <tr>\n",
       "      <th>Second</th>\n",
       "      <td>178.0</td>\n",
       "      <td>29.824888</td>\n",
       "      <td>13.805411</td>\n",
       "      <td>0.67</td>\n",
       "      <td>23.000</td>\n",
       "      <td>29.0</td>\n",
       "      <td>36.0</td>\n",
       "      <td>70.0</td>\n",
       "    </tr>\n",
       "    <tr>\n",
       "      <th>Third</th>\n",
       "      <td>460.0</td>\n",
       "      <td>25.646565</td>\n",
       "      <td>10.614584</td>\n",
       "      <td>0.42</td>\n",
       "      <td>20.375</td>\n",
       "      <td>28.0</td>\n",
       "      <td>28.0</td>\n",
       "      <td>74.0</td>\n",
       "    </tr>\n",
       "  </tbody>\n",
       "</table>\n",
       "</div>"
      ],
      "text/plain": [
       "        count       mean        std   min     25%   50%   75%   max\n",
       "class                                                              \n",
       "First   163.0  38.156442  14.108543  4.00  28.000  35.0  49.0  80.0\n",
       "Second  178.0  29.824888  13.805411  0.67  23.000  29.0  36.0  70.0\n",
       "Third   460.0  25.646565  10.614584  0.42  20.375  28.0  28.0  74.0"
      ]
     },
     "execution_count": 27,
     "metadata": {},
     "output_type": "execute_result"
    }
   ],
   "source": [
    "df.groupby('class').age.describe()"
   ]
  },
  {
   "cell_type": "code",
   "execution_count": 28,
   "id": "2e36bebc",
   "metadata": {
    "ExecuteTime": {
     "end_time": "2023-09-26T16:32:37.324733Z",
     "start_time": "2023-09-26T16:32:37.309176Z"
    }
   },
   "outputs": [
    {
     "name": "stderr",
     "output_type": "stream",
     "text": [
      "/tmp/ipykernel_17904/1436705525.py:1: FutureWarning: The default value of numeric_only in DataFrame.corr is deprecated. In a future version, it will default to False. Select only valid columns or specify the value of numeric_only to silence this warning.\n",
      "  df.corr('spearman')\n"
     ]
    },
    {
     "data": {
      "text/html": [
       "<div>\n",
       "<style scoped>\n",
       "    .dataframe tbody tr th:only-of-type {\n",
       "        vertical-align: middle;\n",
       "    }\n",
       "\n",
       "    .dataframe tbody tr th {\n",
       "        vertical-align: top;\n",
       "    }\n",
       "\n",
       "    .dataframe thead th {\n",
       "        text-align: right;\n",
       "    }\n",
       "</style>\n",
       "<table border=\"1\" class=\"dataframe\">\n",
       "  <thead>\n",
       "    <tr style=\"text-align: right;\">\n",
       "      <th></th>\n",
       "      <th>age</th>\n",
       "      <th>fare</th>\n",
       "    </tr>\n",
       "  </thead>\n",
       "  <tbody>\n",
       "    <tr>\n",
       "      <th>age</th>\n",
       "      <td>1.000000</td>\n",
       "      <td>0.139053</td>\n",
       "    </tr>\n",
       "    <tr>\n",
       "      <th>fare</th>\n",
       "      <td>0.139053</td>\n",
       "      <td>1.000000</td>\n",
       "    </tr>\n",
       "  </tbody>\n",
       "</table>\n",
       "</div>"
      ],
      "text/plain": [
       "           age      fare\n",
       "age   1.000000  0.139053\n",
       "fare  0.139053  1.000000"
      ]
     },
     "execution_count": 28,
     "metadata": {},
     "output_type": "execute_result"
    }
   ],
   "source": [
    "df.corr('spearman')"
   ]
  },
  {
   "cell_type": "code",
   "execution_count": 29,
   "id": "e6c212bd",
   "metadata": {
    "ExecuteTime": {
     "end_time": "2023-09-26T16:32:37.482062Z",
     "start_time": "2023-09-26T16:32:37.459914Z"
    }
   },
   "outputs": [
    {
     "data": {
      "text/html": [
       "<div>\n",
       "<style scoped>\n",
       "    .dataframe tbody tr th:only-of-type {\n",
       "        vertical-align: middle;\n",
       "    }\n",
       "\n",
       "    .dataframe tbody tr th {\n",
       "        vertical-align: top;\n",
       "    }\n",
       "\n",
       "    .dataframe thead th {\n",
       "        text-align: right;\n",
       "    }\n",
       "</style>\n",
       "<table border=\"1\" class=\"dataframe\">\n",
       "  <thead>\n",
       "    <tr style=\"text-align: right;\">\n",
       "      <th></th>\n",
       "      <th>age</th>\n",
       "      <th>class</th>\n",
       "      <th>embark_town</th>\n",
       "      <th>fare</th>\n",
       "    </tr>\n",
       "  </thead>\n",
       "  <tbody>\n",
       "    <tr>\n",
       "      <th>0</th>\n",
       "      <td>22.0</td>\n",
       "      <td>Third</td>\n",
       "      <td>Southampton</td>\n",
       "      <td>7.2500</td>\n",
       "    </tr>\n",
       "    <tr>\n",
       "      <th>1</th>\n",
       "      <td>38.0</td>\n",
       "      <td>First</td>\n",
       "      <td>Cherbourg</td>\n",
       "      <td>71.2833</td>\n",
       "    </tr>\n",
       "    <tr>\n",
       "      <th>2</th>\n",
       "      <td>26.0</td>\n",
       "      <td>Third</td>\n",
       "      <td>Southampton</td>\n",
       "      <td>7.9250</td>\n",
       "    </tr>\n",
       "    <tr>\n",
       "      <th>3</th>\n",
       "      <td>35.0</td>\n",
       "      <td>First</td>\n",
       "      <td>Southampton</td>\n",
       "      <td>53.1000</td>\n",
       "    </tr>\n",
       "    <tr>\n",
       "      <th>4</th>\n",
       "      <td>35.0</td>\n",
       "      <td>Third</td>\n",
       "      <td>Southampton</td>\n",
       "      <td>8.0500</td>\n",
       "    </tr>\n",
       "    <tr>\n",
       "      <th>...</th>\n",
       "      <td>...</td>\n",
       "      <td>...</td>\n",
       "      <td>...</td>\n",
       "      <td>...</td>\n",
       "    </tr>\n",
       "    <tr>\n",
       "      <th>886</th>\n",
       "      <td>27.0</td>\n",
       "      <td>Second</td>\n",
       "      <td>Southampton</td>\n",
       "      <td>13.0000</td>\n",
       "    </tr>\n",
       "    <tr>\n",
       "      <th>887</th>\n",
       "      <td>19.0</td>\n",
       "      <td>First</td>\n",
       "      <td>Southampton</td>\n",
       "      <td>30.0000</td>\n",
       "    </tr>\n",
       "    <tr>\n",
       "      <th>888</th>\n",
       "      <td>28.0</td>\n",
       "      <td>Third</td>\n",
       "      <td>Southampton</td>\n",
       "      <td>23.4500</td>\n",
       "    </tr>\n",
       "    <tr>\n",
       "      <th>889</th>\n",
       "      <td>26.0</td>\n",
       "      <td>First</td>\n",
       "      <td>Cherbourg</td>\n",
       "      <td>30.0000</td>\n",
       "    </tr>\n",
       "    <tr>\n",
       "      <th>890</th>\n",
       "      <td>32.0</td>\n",
       "      <td>Third</td>\n",
       "      <td>Queenstown</td>\n",
       "      <td>7.7500</td>\n",
       "    </tr>\n",
       "  </tbody>\n",
       "</table>\n",
       "<p>801 rows × 4 columns</p>\n",
       "</div>"
      ],
      "text/plain": [
       "      age   class  embark_town     fare\n",
       "0    22.0   Third  Southampton   7.2500\n",
       "1    38.0   First    Cherbourg  71.2833\n",
       "2    26.0   Third  Southampton   7.9250\n",
       "3    35.0   First  Southampton  53.1000\n",
       "4    35.0   Third  Southampton   8.0500\n",
       "..    ...     ...          ...      ...\n",
       "886  27.0  Second  Southampton  13.0000\n",
       "887  19.0   First  Southampton  30.0000\n",
       "888  28.0   Third  Southampton  23.4500\n",
       "889  26.0   First    Cherbourg  30.0000\n",
       "890  32.0   Third   Queenstown   7.7500\n",
       "\n",
       "[801 rows x 4 columns]"
      ]
     },
     "execution_count": 29,
     "metadata": {},
     "output_type": "execute_result"
    }
   ],
   "source": [
    "df"
   ]
  },
  {
   "cell_type": "code",
   "execution_count": 30,
   "id": "2fff33f0",
   "metadata": {
    "ExecuteTime": {
     "end_time": "2023-09-26T16:32:37.688531Z",
     "start_time": "2023-09-26T16:32:37.630932Z"
    }
   },
   "outputs": [
    {
     "data": {
      "text/html": [
       "<div>\n",
       "<style scoped>\n",
       "    .dataframe tbody tr th:only-of-type {\n",
       "        vertical-align: middle;\n",
       "    }\n",
       "\n",
       "    .dataframe tbody tr th {\n",
       "        vertical-align: top;\n",
       "    }\n",
       "\n",
       "    .dataframe thead th {\n",
       "        text-align: right;\n",
       "    }\n",
       "</style>\n",
       "<table border=\"1\" class=\"dataframe\">\n",
       "  <thead>\n",
       "    <tr style=\"text-align: right;\">\n",
       "      <th></th>\n",
       "      <th></th>\n",
       "      <th>count</th>\n",
       "      <th>mean</th>\n",
       "      <th>std</th>\n",
       "      <th>min</th>\n",
       "      <th>25%</th>\n",
       "      <th>50%</th>\n",
       "      <th>75%</th>\n",
       "      <th>max</th>\n",
       "    </tr>\n",
       "    <tr>\n",
       "      <th>class</th>\n",
       "      <th>embark_town</th>\n",
       "      <th></th>\n",
       "      <th></th>\n",
       "      <th></th>\n",
       "      <th></th>\n",
       "      <th></th>\n",
       "      <th></th>\n",
       "      <th></th>\n",
       "      <th></th>\n",
       "    </tr>\n",
       "  </thead>\n",
       "  <tbody>\n",
       "    <tr>\n",
       "      <th rowspan=\"3\" valign=\"top\">First</th>\n",
       "      <th>Cherbourg</th>\n",
       "      <td>64.0</td>\n",
       "      <td>63.274416</td>\n",
       "      <td>27.271836</td>\n",
       "      <td>26.5500</td>\n",
       "      <td>33.74065</td>\n",
       "      <td>62.66875</td>\n",
       "      <td>82.170800</td>\n",
       "      <td>110.8833</td>\n",
       "    </tr>\n",
       "    <tr>\n",
       "      <th>Queenstown</th>\n",
       "      <td>2.0</td>\n",
       "      <td>90.000000</td>\n",
       "      <td>0.000000</td>\n",
       "      <td>90.0000</td>\n",
       "      <td>90.00000</td>\n",
       "      <td>90.00000</td>\n",
       "      <td>90.000000</td>\n",
       "      <td>90.0000</td>\n",
       "    </tr>\n",
       "    <tr>\n",
       "      <th>Southampton</th>\n",
       "      <td>97.0</td>\n",
       "      <td>48.910223</td>\n",
       "      <td>21.428615</td>\n",
       "      <td>25.5875</td>\n",
       "      <td>26.55000</td>\n",
       "      <td>51.47920</td>\n",
       "      <td>61.175000</td>\n",
       "      <td>93.5000</td>\n",
       "    </tr>\n",
       "    <tr>\n",
       "      <th rowspan=\"3\" valign=\"top\">Second</th>\n",
       "      <th>Cherbourg</th>\n",
       "      <td>17.0</td>\n",
       "      <td>25.358335</td>\n",
       "      <td>11.345067</td>\n",
       "      <td>12.0000</td>\n",
       "      <td>13.86250</td>\n",
       "      <td>24.00000</td>\n",
       "      <td>37.004200</td>\n",
       "      <td>41.5792</td>\n",
       "    </tr>\n",
       "    <tr>\n",
       "      <th>Queenstown</th>\n",
       "      <td>3.0</td>\n",
       "      <td>12.350000</td>\n",
       "      <td>0.000000</td>\n",
       "      <td>12.3500</td>\n",
       "      <td>12.35000</td>\n",
       "      <td>12.35000</td>\n",
       "      <td>12.350000</td>\n",
       "      <td>12.3500</td>\n",
       "    </tr>\n",
       "    <tr>\n",
       "      <th>Southampton</th>\n",
       "      <td>158.0</td>\n",
       "      <td>21.099367</td>\n",
       "      <td>13.285582</td>\n",
       "      <td>10.5000</td>\n",
       "      <td>13.00000</td>\n",
       "      <td>14.50000</td>\n",
       "      <td>26.000000</td>\n",
       "      <td>73.5000</td>\n",
       "    </tr>\n",
       "    <tr>\n",
       "      <th rowspan=\"3\" valign=\"top\">Third</th>\n",
       "      <th>Cherbourg</th>\n",
       "      <td>64.0</td>\n",
       "      <td>11.401242</td>\n",
       "      <td>4.823300</td>\n",
       "      <td>7.2250</td>\n",
       "      <td>7.22920</td>\n",
       "      <td>8.20625</td>\n",
       "      <td>14.655175</td>\n",
       "      <td>22.3583</td>\n",
       "    </tr>\n",
       "    <tr>\n",
       "      <th>Queenstown</th>\n",
       "      <td>68.0</td>\n",
       "      <td>11.439647</td>\n",
       "      <td>6.832149</td>\n",
       "      <td>7.6292</td>\n",
       "      <td>7.75000</td>\n",
       "      <td>7.75000</td>\n",
       "      <td>15.500000</td>\n",
       "      <td>29.1250</td>\n",
       "    </tr>\n",
       "    <tr>\n",
       "      <th>Southampton</th>\n",
       "      <td>328.0</td>\n",
       "      <td>15.315812</td>\n",
       "      <td>13.522363</td>\n",
       "      <td>7.2500</td>\n",
       "      <td>7.89580</td>\n",
       "      <td>8.22915</td>\n",
       "      <td>16.700000</td>\n",
       "      <td>69.5500</td>\n",
       "    </tr>\n",
       "  </tbody>\n",
       "</table>\n",
       "</div>"
      ],
      "text/plain": [
       "                    count       mean        std      min       25%       50%  \\\n",
       "class  embark_town                                                             \n",
       "First  Cherbourg     64.0  63.274416  27.271836  26.5500  33.74065  62.66875   \n",
       "       Queenstown     2.0  90.000000   0.000000  90.0000  90.00000  90.00000   \n",
       "       Southampton   97.0  48.910223  21.428615  25.5875  26.55000  51.47920   \n",
       "Second Cherbourg     17.0  25.358335  11.345067  12.0000  13.86250  24.00000   \n",
       "       Queenstown     3.0  12.350000   0.000000  12.3500  12.35000  12.35000   \n",
       "       Southampton  158.0  21.099367  13.285582  10.5000  13.00000  14.50000   \n",
       "Third  Cherbourg     64.0  11.401242   4.823300   7.2250   7.22920   8.20625   \n",
       "       Queenstown    68.0  11.439647   6.832149   7.6292   7.75000   7.75000   \n",
       "       Southampton  328.0  15.315812  13.522363   7.2500   7.89580   8.22915   \n",
       "\n",
       "                          75%       max  \n",
       "class  embark_town                       \n",
       "First  Cherbourg    82.170800  110.8833  \n",
       "       Queenstown   90.000000   90.0000  \n",
       "       Southampton  61.175000   93.5000  \n",
       "Second Cherbourg    37.004200   41.5792  \n",
       "       Queenstown   12.350000   12.3500  \n",
       "       Southampton  26.000000   73.5000  \n",
       "Third  Cherbourg    14.655175   22.3583  \n",
       "       Queenstown   15.500000   29.1250  \n",
       "       Southampton  16.700000   69.5500  "
      ]
     },
     "execution_count": 30,
     "metadata": {},
     "output_type": "execute_result"
    }
   ],
   "source": [
    "df.groupby(['class', 'embark_town']).fare.describe()"
   ]
  },
  {
   "cell_type": "code",
   "execution_count": 31,
   "id": "13840e57",
   "metadata": {
    "ExecuteTime": {
     "end_time": "2023-09-26T16:32:37.946394Z",
     "start_time": "2023-09-26T16:32:37.795985Z"
    }
   },
   "outputs": [
    {
     "data": {
      "image/png": "[encoded data removed]",
      "text/plain": [
       "<Figure size 640x480 with 1 Axes>"
      ]
     },
     "metadata": {},
     "output_type": "display_data"
    }
   ],
   "source": [
    "sns.boxplot(data=df, x='embark_town', y='fare');"
   ]
  },
  {
   "cell_type": "code",
   "execution_count": 32,
   "id": "0994a276",
   "metadata": {
    "ExecuteTime": {
     "end_time": "2023-09-26T16:32:38.059011Z",
     "start_time": "2023-09-26T16:32:37.959382Z"
    }
   },
   "outputs": [
    {
     "data": {
      "image/png": "[encoded data removed]",
      "text/plain": [
       "<Figure size 640x480 with 1 Axes>"
      ]
     },
     "metadata": {},
     "output_type": "display_data"
    }
   ],
   "source": [
    "sns.boxplot(data=df, x='class', y='fare');"
   ]
  },
  {
   "cell_type": "code",
   "execution_count": 33,
   "id": "f2d4fcbd",
   "metadata": {
    "ExecuteTime": {
     "end_time": "2023-09-26T16:32:38.744073Z",
     "start_time": "2023-09-26T16:32:38.161866Z"
    }
   },
   "outputs": [
    {
     "data": {
      "image/png": "[encoded data removed]",
      "text/plain": [
       "<Figure size 500x1500 with 3 Axes>"
      ]
     },
     "metadata": {},
     "output_type": "display_data"
    }
   ],
   "source": [
    "sns.relplot(\n",
    "    data=df, \n",
    "    x=\"age\",\n",
    "    y=\"fare\",\n",
    "    row='class',\n",
    "    kind=\"scatter\"\n",
    ");"
   ]
  },
  {
   "cell_type": "markdown",
   "id": "3968d93e",
   "metadata": {},
   "source": [
    "# model"
   ]
  },
  {
   "cell_type": "code",
   "execution_count": 34,
   "id": "da523ab0",
   "metadata": {
    "ExecuteTime": {
     "end_time": "2023-09-26T16:32:38.754326Z",
     "start_time": "2023-09-26T16:32:38.745941Z"
    }
   },
   "outputs": [
    {
     "data": {
      "text/html": [
       "<div>\n",
       "<style scoped>\n",
       "    .dataframe tbody tr th:only-of-type {\n",
       "        vertical-align: middle;\n",
       "    }\n",
       "\n",
       "    .dataframe tbody tr th {\n",
       "        vertical-align: top;\n",
       "    }\n",
       "\n",
       "    .dataframe thead th {\n",
       "        text-align: right;\n",
       "    }\n",
       "</style>\n",
       "<table border=\"1\" class=\"dataframe\">\n",
       "  <thead>\n",
       "    <tr style=\"text-align: right;\">\n",
       "      <th></th>\n",
       "      <th>age</th>\n",
       "      <th>class</th>\n",
       "      <th>embark_town</th>\n",
       "      <th>fare</th>\n",
       "    </tr>\n",
       "  </thead>\n",
       "  <tbody>\n",
       "    <tr>\n",
       "      <th>295</th>\n",
       "      <td>28.0</td>\n",
       "      <td>First</td>\n",
       "      <td>Cherbourg</td>\n",
       "      <td>27.7208</td>\n",
       "    </tr>\n",
       "    <tr>\n",
       "      <th>28</th>\n",
       "      <td>28.0</td>\n",
       "      <td>Third</td>\n",
       "      <td>Queenstown</td>\n",
       "      <td>7.8792</td>\n",
       "    </tr>\n",
       "    <tr>\n",
       "      <th>114</th>\n",
       "      <td>17.0</td>\n",
       "      <td>Third</td>\n",
       "      <td>Cherbourg</td>\n",
       "      <td>14.4583</td>\n",
       "    </tr>\n",
       "    <tr>\n",
       "      <th>169</th>\n",
       "      <td>28.0</td>\n",
       "      <td>Third</td>\n",
       "      <td>Southampton</td>\n",
       "      <td>56.4958</td>\n",
       "    </tr>\n",
       "    <tr>\n",
       "      <th>888</th>\n",
       "      <td>28.0</td>\n",
       "      <td>Third</td>\n",
       "      <td>Southampton</td>\n",
       "      <td>23.4500</td>\n",
       "    </tr>\n",
       "  </tbody>\n",
       "</table>\n",
       "</div>"
      ],
      "text/plain": [
       "      age  class  embark_town     fare\n",
       "295  28.0  First    Cherbourg  27.7208\n",
       "28   28.0  Third   Queenstown   7.8792\n",
       "114  17.0  Third    Cherbourg  14.4583\n",
       "169  28.0  Third  Southampton  56.4958\n",
       "888  28.0  Third  Southampton  23.4500"
      ]
     },
     "execution_count": 34,
     "metadata": {},
     "output_type": "execute_result"
    }
   ],
   "source": [
    "df.sample(5)"
   ]
  },
  {
   "cell_type": "code",
   "execution_count": 36,
   "id": "4eca5539",
   "metadata": {
    "ExecuteTime": {
     "end_time": "2023-09-26T16:33:21.638634Z",
     "start_time": "2023-09-26T16:33:21.622253Z"
    }
   },
   "outputs": [
    {
     "data": {
      "text/plain": [
       "Third     460\n",
       "Second    178\n",
       "First     163\n",
       "Name: class, dtype: int64"
      ]
     },
     "execution_count": 36,
     "metadata": {},
     "output_type": "execute_result"
    }
   ],
   "source": [
    "df['class'].value_counts()"
   ]
  },
  {
   "cell_type": "code",
   "execution_count": 37,
   "id": "48c11e2c",
   "metadata": {
    "ExecuteTime": {
     "end_time": "2023-09-26T16:33:29.630042Z",
     "start_time": "2023-09-26T16:33:29.622062Z"
    }
   },
   "outputs": [
    {
     "data": {
      "text/plain": [
       "Southampton    583\n",
       "Cherbourg      145\n",
       "Queenstown      73\n",
       "Name: embark_town, dtype: int64"
      ]
     },
     "execution_count": 37,
     "metadata": {},
     "output_type": "execute_result"
    }
   ],
   "source": [
    "df['embark_town'].value_counts()"
   ]
  },
  {
   "cell_type": "code",
   "execution_count": 39,
   "id": "8d60a55e",
   "metadata": {
    "ExecuteTime": {
     "end_time": "2023-09-26T16:34:31.910778Z",
     "start_time": "2023-09-26T16:34:31.892560Z"
    }
   },
   "outputs": [
    {
     "data": {
      "text/html": [
       "<div>\n",
       "<style scoped>\n",
       "    .dataframe tbody tr th:only-of-type {\n",
       "        vertical-align: middle;\n",
       "    }\n",
       "\n",
       "    .dataframe tbody tr th {\n",
       "        vertical-align: top;\n",
       "    }\n",
       "\n",
       "    .dataframe thead th {\n",
       "        text-align: right;\n",
       "    }\n",
       "</style>\n",
       "<table border=\"1\" class=\"dataframe\">\n",
       "  <thead>\n",
       "    <tr style=\"text-align: right;\">\n",
       "      <th></th>\n",
       "      <th>age</th>\n",
       "      <th>class</th>\n",
       "      <th>embark_town</th>\n",
       "      <th>fare</th>\n",
       "    </tr>\n",
       "  </thead>\n",
       "  <tbody>\n",
       "    <tr>\n",
       "      <th>0</th>\n",
       "      <td>22.0</td>\n",
       "      <td>Third</td>\n",
       "      <td>Southampton</td>\n",
       "      <td>7.2500</td>\n",
       "    </tr>\n",
       "    <tr>\n",
       "      <th>1</th>\n",
       "      <td>38.0</td>\n",
       "      <td>First</td>\n",
       "      <td>Cherbourg</td>\n",
       "      <td>71.2833</td>\n",
       "    </tr>\n",
       "    <tr>\n",
       "      <th>2</th>\n",
       "      <td>26.0</td>\n",
       "      <td>Third</td>\n",
       "      <td>Southampton</td>\n",
       "      <td>7.9250</td>\n",
       "    </tr>\n",
       "    <tr>\n",
       "      <th>3</th>\n",
       "      <td>35.0</td>\n",
       "      <td>First</td>\n",
       "      <td>Southampton</td>\n",
       "      <td>53.1000</td>\n",
       "    </tr>\n",
       "    <tr>\n",
       "      <th>4</th>\n",
       "      <td>35.0</td>\n",
       "      <td>Third</td>\n",
       "      <td>Southampton</td>\n",
       "      <td>8.0500</td>\n",
       "    </tr>\n",
       "  </tbody>\n",
       "</table>\n",
       "</div>"
      ],
      "text/plain": [
       "    age  class  embark_town     fare\n",
       "0  22.0  Third  Southampton   7.2500\n",
       "1  38.0  First    Cherbourg  71.2833\n",
       "2  26.0  Third  Southampton   7.9250\n",
       "3  35.0  First  Southampton  53.1000\n",
       "4  35.0  Third  Southampton   8.0500"
      ]
     },
     "execution_count": 39,
     "metadata": {},
     "output_type": "execute_result"
    }
   ],
   "source": [
    "df.head()"
   ]
  },
  {
   "cell_type": "code",
   "execution_count": 42,
   "id": "4f6feb1d",
   "metadata": {
    "ExecuteTime": {
     "end_time": "2023-09-26T16:35:54.939667Z",
     "start_time": "2023-09-26T16:35:54.931606Z"
    }
   },
   "outputs": [
    {
     "data": {
      "text/html": [
       "<div>\n",
       "<style scoped>\n",
       "    .dataframe tbody tr th:only-of-type {\n",
       "        vertical-align: middle;\n",
       "    }\n",
       "\n",
       "    .dataframe tbody tr th {\n",
       "        vertical-align: top;\n",
       "    }\n",
       "\n",
       "    .dataframe thead th {\n",
       "        text-align: right;\n",
       "    }\n",
       "</style>\n",
       "<table border=\"1\" class=\"dataframe\">\n",
       "  <thead>\n",
       "    <tr style=\"text-align: right;\">\n",
       "      <th></th>\n",
       "      <th>a</th>\n",
       "    </tr>\n",
       "  </thead>\n",
       "  <tbody>\n",
       "    <tr>\n",
       "      <th>0</th>\n",
       "      <td>cat_1</td>\n",
       "    </tr>\n",
       "    <tr>\n",
       "      <th>1</th>\n",
       "      <td>cat_2</td>\n",
       "    </tr>\n",
       "    <tr>\n",
       "      <th>2</th>\n",
       "      <td>cat_3</td>\n",
       "    </tr>\n",
       "  </tbody>\n",
       "</table>\n",
       "</div>"
      ],
      "text/plain": [
       "       a\n",
       "0  cat_1\n",
       "1  cat_2\n",
       "2  cat_3"
      ]
     },
     "execution_count": 42,
     "metadata": {},
     "output_type": "execute_result"
    }
   ],
   "source": [
    "pd.DataFrame({\"a\": [\"cat_1\", \"cat_2\", \"cat_3\"]})"
   ]
  },
  {
   "cell_type": "code",
   "execution_count": 41,
   "id": "05392f2a",
   "metadata": {
    "ExecuteTime": {
     "end_time": "2023-09-26T16:35:44.944669Z",
     "start_time": "2023-09-26T16:35:44.934275Z"
    }
   },
   "outputs": [
    {
     "data": {
      "text/html": [
       "<div>\n",
       "<style scoped>\n",
       "    .dataframe tbody tr th:only-of-type {\n",
       "        vertical-align: middle;\n",
       "    }\n",
       "\n",
       "    .dataframe tbody tr th {\n",
       "        vertical-align: top;\n",
       "    }\n",
       "\n",
       "    .dataframe thead th {\n",
       "        text-align: right;\n",
       "    }\n",
       "</style>\n",
       "<table border=\"1\" class=\"dataframe\">\n",
       "  <thead>\n",
       "    <tr style=\"text-align: right;\">\n",
       "      <th></th>\n",
       "      <th>a_cat_1</th>\n",
       "      <th>a_cat_2</th>\n",
       "      <th>a_cat_3</th>\n",
       "    </tr>\n",
       "  </thead>\n",
       "  <tbody>\n",
       "    <tr>\n",
       "      <th>0</th>\n",
       "      <td>1</td>\n",
       "      <td>0</td>\n",
       "      <td>0</td>\n",
       "    </tr>\n",
       "    <tr>\n",
       "      <th>1</th>\n",
       "      <td>0</td>\n",
       "      <td>1</td>\n",
       "      <td>0</td>\n",
       "    </tr>\n",
       "    <tr>\n",
       "      <th>2</th>\n",
       "      <td>0</td>\n",
       "      <td>0</td>\n",
       "      <td>1</td>\n",
       "    </tr>\n",
       "  </tbody>\n",
       "</table>\n",
       "</div>"
      ],
      "text/plain": [
       "   a_cat_1  a_cat_2  a_cat_3\n",
       "0        1        0        0\n",
       "1        0        1        0\n",
       "2        0        0        1"
      ]
     },
     "execution_count": 41,
     "metadata": {},
     "output_type": "execute_result"
    }
   ],
   "source": [
    "pd.get_dummies(pd.DataFrame({\"a\": [\"cat_1\", \"cat_2\", \"cat_3\"]}))"
   ]
  },
  {
   "cell_type": "code",
   "execution_count": 44,
   "id": "418e4914",
   "metadata": {
    "ExecuteTime": {
     "end_time": "2023-09-26T16:38:24.020124Z",
     "start_time": "2023-09-26T16:38:20.782888Z"
    }
   },
   "outputs": [
    {
     "name": "stdout",
     "output_type": "stream",
     "text": [
      "Name: pandas\r\n",
      "Version: 1.5.3\r\n",
      "Summary: Powerful data structures for data analysis, time series, and statistics\r\n",
      "Home-page: https://pandas.pydata.org\r\n",
      "Author: The Pandas Development Team\r\n",
      "Author-email: pandas-dev@python.org\r\n",
      "License: BSD-3-Clause\r\n",
      "Location: /home/infinitemonkeys/anaconda3/lib/python3.9/site-packages\r\n",
      "Requires: numpy, python-dateutil, pytz\r\n",
      "Required-by: business-rules-and-projections, datashader, holoviews, hvplot, mlflow, mongo-queries, sbd-nlp, sbd-speechtotext, seaborn, statsmodels, xarray\r\n"
     ]
    }
   ],
   "source": [
    "!pip show pandas"
   ]
  },
  {
   "cell_type": "code",
   "execution_count": 45,
   "id": "1dbeb7ae",
   "metadata": {
    "ExecuteTime": {
     "end_time": "2023-09-26T16:39:06.175554Z",
     "start_time": "2023-09-26T16:39:06.151382Z"
    }
   },
   "outputs": [
    {
     "data": {
      "text/html": [
       "<div>\n",
       "<style scoped>\n",
       "    .dataframe tbody tr th:only-of-type {\n",
       "        vertical-align: middle;\n",
       "    }\n",
       "\n",
       "    .dataframe tbody tr th {\n",
       "        vertical-align: top;\n",
       "    }\n",
       "\n",
       "    .dataframe thead th {\n",
       "        text-align: right;\n",
       "    }\n",
       "</style>\n",
       "<table border=\"1\" class=\"dataframe\">\n",
       "  <thead>\n",
       "    <tr style=\"text-align: right;\">\n",
       "      <th></th>\n",
       "      <th>age</th>\n",
       "      <th>fare</th>\n",
       "      <th>class_First</th>\n",
       "      <th>class_Second</th>\n",
       "      <th>class_Third</th>\n",
       "      <th>embark_town_Cherbourg</th>\n",
       "      <th>embark_town_Queenstown</th>\n",
       "      <th>embark_town_Southampton</th>\n",
       "    </tr>\n",
       "  </thead>\n",
       "  <tbody>\n",
       "    <tr>\n",
       "      <th>0</th>\n",
       "      <td>22.0</td>\n",
       "      <td>7.2500</td>\n",
       "      <td>0.0</td>\n",
       "      <td>0.0</td>\n",
       "      <td>1.0</td>\n",
       "      <td>0.0</td>\n",
       "      <td>0.0</td>\n",
       "      <td>1.0</td>\n",
       "    </tr>\n",
       "    <tr>\n",
       "      <th>1</th>\n",
       "      <td>38.0</td>\n",
       "      <td>71.2833</td>\n",
       "      <td>1.0</td>\n",
       "      <td>0.0</td>\n",
       "      <td>0.0</td>\n",
       "      <td>1.0</td>\n",
       "      <td>0.0</td>\n",
       "      <td>0.0</td>\n",
       "    </tr>\n",
       "    <tr>\n",
       "      <th>2</th>\n",
       "      <td>26.0</td>\n",
       "      <td>7.9250</td>\n",
       "      <td>0.0</td>\n",
       "      <td>0.0</td>\n",
       "      <td>1.0</td>\n",
       "      <td>0.0</td>\n",
       "      <td>0.0</td>\n",
       "      <td>1.0</td>\n",
       "    </tr>\n",
       "    <tr>\n",
       "      <th>3</th>\n",
       "      <td>35.0</td>\n",
       "      <td>53.1000</td>\n",
       "      <td>1.0</td>\n",
       "      <td>0.0</td>\n",
       "      <td>0.0</td>\n",
       "      <td>0.0</td>\n",
       "      <td>0.0</td>\n",
       "      <td>1.0</td>\n",
       "    </tr>\n",
       "    <tr>\n",
       "      <th>4</th>\n",
       "      <td>35.0</td>\n",
       "      <td>8.0500</td>\n",
       "      <td>0.0</td>\n",
       "      <td>0.0</td>\n",
       "      <td>1.0</td>\n",
       "      <td>0.0</td>\n",
       "      <td>0.0</td>\n",
       "      <td>1.0</td>\n",
       "    </tr>\n",
       "  </tbody>\n",
       "</table>\n",
       "</div>"
      ],
      "text/plain": [
       "    age     fare  class_First  class_Second  class_Third  \\\n",
       "0  22.0   7.2500          0.0           0.0          1.0   \n",
       "1  38.0  71.2833          1.0           0.0          0.0   \n",
       "2  26.0   7.9250          0.0           0.0          1.0   \n",
       "3  35.0  53.1000          1.0           0.0          0.0   \n",
       "4  35.0   8.0500          0.0           0.0          1.0   \n",
       "\n",
       "   embark_town_Cherbourg  embark_town_Queenstown  embark_town_Southampton  \n",
       "0                    0.0                     0.0                      1.0  \n",
       "1                    1.0                     0.0                      0.0  \n",
       "2                    0.0                     0.0                      1.0  \n",
       "3                    0.0                     0.0                      1.0  \n",
       "4                    0.0                     0.0                      1.0  "
      ]
     },
     "execution_count": 45,
     "metadata": {},
     "output_type": "execute_result"
    }
   ],
   "source": [
    "model_df = pd.get_dummies(df, columns=['class', 'embark_town']).astype('float64')\n",
    "model_df.head()"
   ]
  },
  {
   "cell_type": "code",
   "execution_count": 46,
   "id": "cd1d1b00",
   "metadata": {
    "ExecuteTime": {
     "end_time": "2023-09-26T16:39:08.296378Z",
     "start_time": "2023-09-26T16:39:08.291088Z"
    }
   },
   "outputs": [
    {
     "data": {
      "text/plain": [
       "age                        float64\n",
       "fare                       float64\n",
       "class_First                float64\n",
       "class_Second               float64\n",
       "class_Third                float64\n",
       "embark_town_Cherbourg      float64\n",
       "embark_town_Queenstown     float64\n",
       "embark_town_Southampton    float64\n",
       "dtype: object"
      ]
     },
     "execution_count": 46,
     "metadata": {},
     "output_type": "execute_result"
    }
   ],
   "source": [
    "model_df.dtypes"
   ]
  },
  {
   "cell_type": "code",
   "execution_count": 48,
   "id": "336cf91d",
   "metadata": {
    "ExecuteTime": {
     "end_time": "2023-09-26T16:39:50.929692Z",
     "start_time": "2023-09-26T16:39:50.924955Z"
    }
   },
   "outputs": [
    {
     "data": {
      "text/plain": [
       "['age',\n",
       " 'class_First',\n",
       " 'class_Second',\n",
       " 'class_Third',\n",
       " 'embark_town_Cherbourg',\n",
       " 'embark_town_Queenstown',\n",
       " 'embark_town_Southampton']"
      ]
     },
     "execution_count": 48,
     "metadata": {},
     "output_type": "execute_result"
    }
   ],
   "source": [
    "MODEL_FEATURES = model_df.columns.difference(['fare']).tolist()\n",
    "MODEL_FEATURES"
   ]
  },
  {
   "cell_type": "code",
   "execution_count": 50,
   "id": "1824792e",
   "metadata": {
    "ExecuteTime": {
     "end_time": "2023-09-26T16:42:00.952521Z",
     "start_time": "2023-09-26T16:42:00.946955Z"
    }
   },
   "outputs": [
    {
     "data": {
      "text/plain": [
       "((801, 7), (801,))"
      ]
     },
     "execution_count": 50,
     "metadata": {},
     "output_type": "execute_result"
    }
   ],
   "source": [
    "X = model_df[MODEL_FEATURES]\n",
    "y = model_df.fare\n",
    "\n",
    "X.shape, y.shape"
   ]
  },
  {
   "cell_type": "code",
   "execution_count": 51,
   "id": "7c9d2a04",
   "metadata": {
    "ExecuteTime": {
     "end_time": "2023-09-26T16:42:17.227052Z",
     "start_time": "2023-09-26T16:42:17.216450Z"
    }
   },
   "outputs": [],
   "source": [
    "from sklearn.linear_model import LinearRegression\n",
    "\n",
    "model = LinearRegression()\n",
    "\n",
    "model.fit(X=X, \n",
    "          y=y)\n",
    "\n",
    "prediction_on_train = model.predict(model_df[MODEL_FEATURES])"
   ]
  },
  {
   "cell_type": "code",
   "execution_count": 52,
   "id": "5056aa1b",
   "metadata": {
    "ExecuteTime": {
     "end_time": "2023-09-26T16:42:22.664090Z",
     "start_time": "2023-09-26T16:42:22.657509Z"
    }
   },
   "outputs": [
    {
     "data": {
      "text/plain": [
       "37.02401178131085"
      ]
     },
     "execution_count": 52,
     "metadata": {},
     "output_type": "execute_result"
    }
   ],
   "source": [
    "model.intercept_"
   ]
  },
  {
   "cell_type": "code",
   "execution_count": 53,
   "id": "525ef882",
   "metadata": {
    "ExecuteTime": {
     "end_time": "2023-09-26T16:42:39.935196Z",
     "start_time": "2023-09-26T16:42:39.929169Z"
    }
   },
   "outputs": [
    {
     "data": {
      "text/plain": [
       "array([ -0.21706583,  25.72923327,  -8.84436648, -16.88486679,\n",
       "         2.48926551,  -1.86591525,  -0.62335026])"
      ]
     },
     "execution_count": 53,
     "metadata": {},
     "output_type": "execute_result"
    }
   ],
   "source": [
    "model.coef_"
   ]
  },
  {
   "cell_type": "code",
   "execution_count": 55,
   "id": "32e963e7",
   "metadata": {
    "ExecuteTime": {
     "end_time": "2023-09-26T16:44:17.361056Z",
     "start_time": "2023-09-26T16:44:17.354022Z"
    }
   },
   "outputs": [
    {
     "data": {
      "text/plain": [
       "class_Third               -16.884867\n",
       "class_Second               -8.844366\n",
       "embark_town_Queenstown     -1.865915\n",
       "embark_town_Southampton    -0.623350\n",
       "age                        -0.217066\n",
       "embark_town_Cherbourg       2.489266\n",
       "class_First                25.729233\n",
       "dtype: float64"
      ]
     },
     "execution_count": 55,
     "metadata": {},
     "output_type": "execute_result"
    }
   ],
   "source": [
    "coeff_series = pd.Series(model.coef_, \n",
    "                         index=MODEL_FEATURES)\n",
    "coeff_series = coeff_series.sort_values()\n",
    "coeff_series"
   ]
  },
  {
   "cell_type": "code",
   "execution_count": 59,
   "id": "a8687e86",
   "metadata": {
    "ExecuteTime": {
     "end_time": "2023-09-26T16:45:09.917967Z",
     "start_time": "2023-09-26T16:45:09.912299Z"
    }
   },
   "outputs": [
    {
     "data": {
      "text/plain": [
       "37.02401178131085"
      ]
     },
     "execution_count": 59,
     "metadata": {},
     "output_type": "execute_result"
    }
   ],
   "source": [
    "model.intercept_"
   ]
  },
  {
   "cell_type": "code",
   "execution_count": 60,
   "id": "01fc6b3e",
   "metadata": {
    "ExecuteTime": {
     "end_time": "2023-09-26T16:45:58.005566Z",
     "start_time": "2023-09-26T16:45:57.892096Z"
    }
   },
   "outputs": [
    {
     "data": {
      "image/png": "[encoded data removed]",
      "text/plain": [
       "<Figure size 640x480 with 1 Axes>"
      ]
     },
     "metadata": {},
     "output_type": "display_data"
    }
   ],
   "source": [
    "coeff_series.plot.barh();"
   ]
  },
  {
   "cell_type": "code",
   "execution_count": 64,
   "id": "126a994e",
   "metadata": {
    "ExecuteTime": {
     "end_time": "2023-09-26T16:48:03.555771Z",
     "start_time": "2023-09-26T16:48:03.550669Z"
    }
   },
   "outputs": [
    {
     "data": {
      "text/plain": [
       "array([-7.49034647, 14.28929098, -5.94708315, -1.43259074, -3.86849068,\n",
       "       -3.7370865 ,  1.45416003,  1.99333693, -2.52171732,  2.44081081])"
      ]
     },
     "execution_count": 64,
     "metadata": {},
     "output_type": "execute_result"
    }
   ],
   "source": [
    "train_error = y.values - prediction_on_train\n",
    "train_error[:10]"
   ]
  },
  {
   "cell_type": "code",
   "execution_count": 63,
   "id": "972b4632",
   "metadata": {
    "ExecuteTime": {
     "end_time": "2023-09-26T16:47:58.371985Z",
     "start_time": "2023-09-26T16:47:58.365134Z"
    }
   },
   "outputs": [
    {
     "data": {
      "text/plain": [
       "10.776105189103815"
      ]
     },
     "execution_count": 63,
     "metadata": {},
     "output_type": "execute_result"
    }
   ],
   "source": [
    "import numpy as np\n",
    "\n",
    "mean_absolute_error = np.mean(np.abs(train_error))\n",
    "mean_absolute_error"
   ]
  },
  {
   "cell_type": "code",
   "execution_count": 72,
   "id": "269c0e45",
   "metadata": {
    "ExecuteTime": {
     "end_time": "2023-09-26T16:52:33.770660Z",
     "start_time": "2023-09-26T16:52:33.763360Z"
    }
   },
   "outputs": [
    {
     "data": {
      "text/plain": [
       "21.075"
      ]
     },
     "execution_count": 72,
     "metadata": {},
     "output_type": "execute_result"
    }
   ],
   "source": [
    "iqr = model_df.fare.quantile(0.75) - model_df.fare.quantile(0.25)\n",
    "iqr"
   ]
  },
  {
   "cell_type": "code",
   "execution_count": 70,
   "id": "048edbbb",
   "metadata": {
    "ExecuteTime": {
     "end_time": "2023-09-26T16:51:59.980820Z",
     "start_time": "2023-09-26T16:51:59.963285Z"
    }
   },
   "outputs": [
    {
     "data": {
      "text/plain": [
       "70.6458"
      ]
     },
     "execution_count": 70,
     "metadata": {},
     "output_type": "execute_result"
    }
   ],
   "source": [
    "model_df.fare.quantile(0.95) - model_df.fare.quantile(0.05)"
   ]
  },
  {
   "cell_type": "code",
   "execution_count": 67,
   "id": "fe8e6e9d",
   "metadata": {
    "ExecuteTime": {
     "end_time": "2023-09-26T16:51:21.166029Z",
     "start_time": "2023-09-26T16:51:21.155999Z"
    }
   },
   "outputs": [
    {
     "data": {
      "text/plain": [
       "count    801.000000\n",
       "mean      24.103443\n",
       "std       22.363437\n",
       "min        7.225000\n",
       "0%         7.225000\n",
       "5%         7.312500\n",
       "10%        7.750000\n",
       "15%        7.800000\n",
       "20%        7.895800\n",
       "25%        8.050000\n",
       "30%        8.050000\n",
       "35%        9.500000\n",
       "40%       10.516700\n",
       "45%       13.000000\n",
       "50%       14.454200\n",
       "55%       15.900000\n",
       "60%       20.575000\n",
       "65%       25.929200\n",
       "70%       26.287500\n",
       "75%       29.125000\n",
       "80%       33.000000\n",
       "85%       46.900000\n",
       "90%       56.929200\n",
       "95%       77.958300\n",
       "100%     110.883300\n",
       "max      110.883300\n",
       "Name: fare, dtype: float64"
      ]
     },
     "execution_count": 67,
     "metadata": {},
     "output_type": "execute_result"
    }
   ],
   "source": [
    "model_df.fare.describe(percentiles=np.linspace(0, 1, 21))"
   ]
  },
  {
   "cell_type": "markdown",
   "id": "6f27327d",
   "metadata": {},
   "source": [
    "# reducir predictores"
   ]
  },
  {
   "cell_type": "code",
   "execution_count": 86,
   "id": "dbf07c99",
   "metadata": {
    "ExecuteTime": {
     "end_time": "2023-09-26T16:58:08.192215Z",
     "start_time": "2023-09-26T16:58:08.188276Z"
    }
   },
   "outputs": [],
   "source": [
    "MODEL_FEATURES = ['class_First', 'class_Second', 'class_Third']"
   ]
  },
  {
   "cell_type": "code",
   "execution_count": 87,
   "id": "f0c31baa",
   "metadata": {
    "ExecuteTime": {
     "end_time": "2023-09-26T16:58:08.559679Z",
     "start_time": "2023-09-26T16:58:08.554404Z"
    }
   },
   "outputs": [
    {
     "data": {
      "text/plain": [
       "((801, 3), (801,))"
      ]
     },
     "execution_count": 87,
     "metadata": {},
     "output_type": "execute_result"
    }
   ],
   "source": [
    "X = model_df[MODEL_FEATURES]\n",
    "y = model_df.fare\n",
    "\n",
    "X.shape, y.shape"
   ]
  },
  {
   "cell_type": "code",
   "execution_count": 88,
   "id": "6ac38006",
   "metadata": {
    "ExecuteTime": {
     "end_time": "2023-09-26T16:58:09.044567Z",
     "start_time": "2023-09-26T16:58:09.022949Z"
    }
   },
   "outputs": [
    {
     "data": {
      "text/html": [
       "<div>\n",
       "<style scoped>\n",
       "    .dataframe tbody tr th:only-of-type {\n",
       "        vertical-align: middle;\n",
       "    }\n",
       "\n",
       "    .dataframe tbody tr th {\n",
       "        vertical-align: top;\n",
       "    }\n",
       "\n",
       "    .dataframe thead th {\n",
       "        text-align: right;\n",
       "    }\n",
       "</style>\n",
       "<table border=\"1\" class=\"dataframe\">\n",
       "  <thead>\n",
       "    <tr style=\"text-align: right;\">\n",
       "      <th></th>\n",
       "      <th>class_First</th>\n",
       "      <th>class_Second</th>\n",
       "      <th>class_Third</th>\n",
       "    </tr>\n",
       "  </thead>\n",
       "  <tbody>\n",
       "    <tr>\n",
       "      <th>0</th>\n",
       "      <td>0.0</td>\n",
       "      <td>0.0</td>\n",
       "      <td>1.0</td>\n",
       "    </tr>\n",
       "    <tr>\n",
       "      <th>1</th>\n",
       "      <td>1.0</td>\n",
       "      <td>0.0</td>\n",
       "      <td>0.0</td>\n",
       "    </tr>\n",
       "    <tr>\n",
       "      <th>2</th>\n",
       "      <td>0.0</td>\n",
       "      <td>0.0</td>\n",
       "      <td>1.0</td>\n",
       "    </tr>\n",
       "    <tr>\n",
       "      <th>3</th>\n",
       "      <td>1.0</td>\n",
       "      <td>0.0</td>\n",
       "      <td>0.0</td>\n",
       "    </tr>\n",
       "    <tr>\n",
       "      <th>4</th>\n",
       "      <td>0.0</td>\n",
       "      <td>0.0</td>\n",
       "      <td>1.0</td>\n",
       "    </tr>\n",
       "    <tr>\n",
       "      <th>...</th>\n",
       "      <td>...</td>\n",
       "      <td>...</td>\n",
       "      <td>...</td>\n",
       "    </tr>\n",
       "    <tr>\n",
       "      <th>886</th>\n",
       "      <td>0.0</td>\n",
       "      <td>1.0</td>\n",
       "      <td>0.0</td>\n",
       "    </tr>\n",
       "    <tr>\n",
       "      <th>887</th>\n",
       "      <td>1.0</td>\n",
       "      <td>0.0</td>\n",
       "      <td>0.0</td>\n",
       "    </tr>\n",
       "    <tr>\n",
       "      <th>888</th>\n",
       "      <td>0.0</td>\n",
       "      <td>0.0</td>\n",
       "      <td>1.0</td>\n",
       "    </tr>\n",
       "    <tr>\n",
       "      <th>889</th>\n",
       "      <td>1.0</td>\n",
       "      <td>0.0</td>\n",
       "      <td>0.0</td>\n",
       "    </tr>\n",
       "    <tr>\n",
       "      <th>890</th>\n",
       "      <td>0.0</td>\n",
       "      <td>0.0</td>\n",
       "      <td>1.0</td>\n",
       "    </tr>\n",
       "  </tbody>\n",
       "</table>\n",
       "<p>801 rows × 3 columns</p>\n",
       "</div>"
      ],
      "text/plain": [
       "     class_First  class_Second  class_Third\n",
       "0            0.0           0.0          1.0\n",
       "1            1.0           0.0          0.0\n",
       "2            0.0           0.0          1.0\n",
       "3            1.0           0.0          0.0\n",
       "4            0.0           0.0          1.0\n",
       "..           ...           ...          ...\n",
       "886          0.0           1.0          0.0\n",
       "887          1.0           0.0          0.0\n",
       "888          0.0           0.0          1.0\n",
       "889          1.0           0.0          0.0\n",
       "890          0.0           0.0          1.0\n",
       "\n",
       "[801 rows x 3 columns]"
      ]
     },
     "execution_count": 88,
     "metadata": {},
     "output_type": "execute_result"
    }
   ],
   "source": [
    "X"
   ]
  },
  {
   "cell_type": "code",
   "execution_count": 97,
   "id": "e1bcc7dd",
   "metadata": {
    "ExecuteTime": {
     "end_time": "2023-09-26T17:01:08.946732Z",
     "start_time": "2023-09-26T17:01:08.932454Z"
    }
   },
   "outputs": [],
   "source": [
    "df['fare_pred_on_class'] = df.groupby('class').fare.transform(lambda s: s.mean())"
   ]
  },
  {
   "cell_type": "code",
   "execution_count": 96,
   "id": "df3e0faf",
   "metadata": {
    "ExecuteTime": {
     "end_time": "2023-09-26T16:59:44.289048Z",
     "start_time": "2023-09-26T16:59:44.264987Z"
    }
   },
   "outputs": [
    {
     "data": {
      "text/html": [
       "<div>\n",
       "<style scoped>\n",
       "    .dataframe tbody tr th:only-of-type {\n",
       "        vertical-align: middle;\n",
       "    }\n",
       "\n",
       "    .dataframe tbody tr th {\n",
       "        vertical-align: top;\n",
       "    }\n",
       "\n",
       "    .dataframe thead th {\n",
       "        text-align: right;\n",
       "    }\n",
       "</style>\n",
       "<table border=\"1\" class=\"dataframe\">\n",
       "  <thead>\n",
       "    <tr style=\"text-align: right;\">\n",
       "      <th></th>\n",
       "      <th>count</th>\n",
       "      <th>mean</th>\n",
       "      <th>std</th>\n",
       "      <th>min</th>\n",
       "      <th>25%</th>\n",
       "      <th>50%</th>\n",
       "      <th>75%</th>\n",
       "      <th>max</th>\n",
       "    </tr>\n",
       "    <tr>\n",
       "      <th>class</th>\n",
       "      <th></th>\n",
       "      <th></th>\n",
       "      <th></th>\n",
       "      <th></th>\n",
       "      <th></th>\n",
       "      <th></th>\n",
       "      <th></th>\n",
       "      <th></th>\n",
       "    </tr>\n",
       "  </thead>\n",
       "  <tbody>\n",
       "    <tr>\n",
       "      <th>First</th>\n",
       "      <td>163.0</td>\n",
       "      <td>55.054320</td>\n",
       "      <td>25.014425</td>\n",
       "      <td>25.5875</td>\n",
       "      <td>30.2500</td>\n",
       "      <td>52.0000</td>\n",
       "      <td>77.9583</td>\n",
       "      <td>110.8833</td>\n",
       "    </tr>\n",
       "    <tr>\n",
       "      <th>Second</th>\n",
       "      <td>178.0</td>\n",
       "      <td>21.358661</td>\n",
       "      <td>13.083169</td>\n",
       "      <td>10.5000</td>\n",
       "      <td>13.0000</td>\n",
       "      <td>15.0229</td>\n",
       "      <td>26.0000</td>\n",
       "      <td>73.5000</td>\n",
       "    </tr>\n",
       "    <tr>\n",
       "      <th>Third</th>\n",
       "      <td>460.0</td>\n",
       "      <td>14.198178</td>\n",
       "      <td>11.974397</td>\n",
       "      <td>7.2250</td>\n",
       "      <td>7.7958</td>\n",
       "      <td>8.0500</td>\n",
       "      <td>15.8500</td>\n",
       "      <td>69.5500</td>\n",
       "    </tr>\n",
       "  </tbody>\n",
       "</table>\n",
       "</div>"
      ],
      "text/plain": [
       "        count       mean        std      min      25%      50%      75%  \\\n",
       "class                                                                     \n",
       "First   163.0  55.054320  25.014425  25.5875  30.2500  52.0000  77.9583   \n",
       "Second  178.0  21.358661  13.083169  10.5000  13.0000  15.0229  26.0000   \n",
       "Third   460.0  14.198178  11.974397   7.2250   7.7958   8.0500  15.8500   \n",
       "\n",
       "             max  \n",
       "class             \n",
       "First   110.8833  \n",
       "Second   73.5000  \n",
       "Third    69.5500  "
      ]
     },
     "execution_count": 96,
     "metadata": {},
     "output_type": "execute_result"
    }
   ],
   "source": [
    "df.groupby('class').fare.describe()"
   ]
  },
  {
   "cell_type": "code",
   "execution_count": 98,
   "id": "67ac7d92",
   "metadata": {
    "ExecuteTime": {
     "end_time": "2023-09-26T17:01:13.935880Z",
     "start_time": "2023-09-26T17:01:13.928772Z"
    }
   },
   "outputs": [
    {
     "data": {
      "text/plain": [
       "0      14.198178\n",
       "1      55.054320\n",
       "2      14.198178\n",
       "3      55.054320\n",
       "4      14.198178\n",
       "         ...    \n",
       "886    21.358661\n",
       "887    55.054320\n",
       "888    14.198178\n",
       "889    55.054320\n",
       "890    14.198178\n",
       "Name: fare_pred_on_class, Length: 801, dtype: float64"
      ]
     },
     "execution_count": 98,
     "metadata": {},
     "output_type": "execute_result"
    }
   ],
   "source": [
    "df.fare_pred_on_class"
   ]
  },
  {
   "cell_type": "code",
   "execution_count": 100,
   "id": "b69dda21",
   "metadata": {
    "ExecuteTime": {
     "end_time": "2023-09-26T17:03:14.618390Z",
     "start_time": "2023-09-26T17:03:14.609620Z"
    }
   },
   "outputs": [
    {
     "data": {
      "text/plain": [
       "array([-6.94817783, 16.22897975, -6.27317783, -1.95432025, -6.14817783])"
      ]
     },
     "execution_count": 100,
     "metadata": {},
     "output_type": "execute_result"
    }
   ],
   "source": [
    "train_error = y.values - df.fare_pred_on_class.values\n",
    "train_error[:5]"
   ]
  },
  {
   "cell_type": "code",
   "execution_count": 101,
   "id": "44d9590d",
   "metadata": {
    "ExecuteTime": {
     "end_time": "2023-09-26T17:03:26.298999Z",
     "start_time": "2023-09-26T17:03:26.288028Z"
    }
   },
   "outputs": [
    {
     "data": {
      "text/plain": [
       "11.094315304311817"
      ]
     },
     "execution_count": 101,
     "metadata": {},
     "output_type": "execute_result"
    }
   ],
   "source": [
    "import numpy as np\n",
    "\n",
    "mean_absolute_error = np.mean(np.abs(train_error))\n",
    "mean_absolute_error"
   ]
  },
  {
   "cell_type": "markdown",
   "id": "58045394",
   "metadata": {},
   "source": [
    "- [ ] usar 3 predictores con error 10.72 donde 2 de los predictores tienen coeficientes casi nulos\n",
    "- [X] usar 1 predictor con error 11.09"
   ]
  },
  {
   "cell_type": "code",
   "execution_count": 104,
   "id": "86c64f9f",
   "metadata": {
    "ExecuteTime": {
     "end_time": "2023-09-26T17:09:48.870440Z",
     "start_time": "2023-09-26T17:09:48.866792Z"
    }
   },
   "outputs": [],
   "source": [
    "df['fare_pred_based_on_mean'] = df.fare.mean()"
   ]
  },
  {
   "cell_type": "code",
   "execution_count": 105,
   "id": "636a2a2d",
   "metadata": {
    "ExecuteTime": {
     "end_time": "2023-09-26T17:09:58.078370Z",
     "start_time": "2023-09-26T17:09:58.073583Z"
    }
   },
   "outputs": [
    {
     "data": {
      "text/plain": [
       "24.10344282147316"
      ]
     },
     "execution_count": 105,
     "metadata": {},
     "output_type": "execute_result"
    }
   ],
   "source": [
    "df.fare.mean()"
   ]
  },
  {
   "cell_type": "code",
   "execution_count": 106,
   "id": "d56ab83f",
   "metadata": {
    "ExecuteTime": {
     "end_time": "2023-09-26T17:10:17.194990Z",
     "start_time": "2023-09-26T17:10:17.188260Z"
    }
   },
   "outputs": [],
   "source": [
    "df['fare_pred_on_class'] = df.groupby('class').fare.transform(lambda s: s.mean())"
   ]
  },
  {
   "cell_type": "code",
   "execution_count": 110,
   "id": "f13d6918",
   "metadata": {
    "ExecuteTime": {
     "end_time": "2023-09-26T17:30:01.507879Z",
     "start_time": "2023-09-26T17:30:01.499947Z"
    }
   },
   "outputs": [],
   "source": [
    "df['fare_pred_on_class_and_embark_town'] = df.groupby(['class', 'embark_town']\n",
    "                                                     ).fare.transform(lambda s: s.mean())"
   ]
  },
  {
   "cell_type": "code",
   "execution_count": 117,
   "id": "848b6874",
   "metadata": {
    "ExecuteTime": {
     "end_time": "2023-09-26T17:31:00.855266Z",
     "start_time": "2023-09-26T17:31:00.850339Z"
    }
   },
   "outputs": [
    {
     "data": {
      "text/plain": [
       "16.572058346230758"
      ]
     },
     "execution_count": 117,
     "metadata": {},
     "output_type": "execute_result"
    }
   ],
   "source": [
    "from sklearn.metrics import mean_absolute_error\n",
    "\n",
    "mean_absolute_error(df.fare, df.fare_pred_based_on_mean)"
   ]
  },
  {
   "cell_type": "code",
   "execution_count": 118,
   "id": "55cd8ecf",
   "metadata": {
    "ExecuteTime": {
     "end_time": "2023-09-26T17:31:01.091900Z",
     "start_time": "2023-09-26T17:31:01.087967Z"
    }
   },
   "outputs": [
    {
     "data": {
      "text/plain": [
       "11.094315304311817"
      ]
     },
     "execution_count": 118,
     "metadata": {},
     "output_type": "execute_result"
    }
   ],
   "source": [
    "mean_absolute_error(df.fare, df.fare_pred_on_class)"
   ]
  },
  {
   "cell_type": "code",
   "execution_count": 119,
   "id": "3c9e49a4",
   "metadata": {
    "ExecuteTime": {
     "end_time": "2023-09-26T17:31:02.353079Z",
     "start_time": "2023-09-26T17:31:02.341048Z"
    }
   },
   "outputs": [
    {
     "data": {
      "text/plain": [
       "10.806533842745747"
      ]
     },
     "execution_count": 119,
     "metadata": {},
     "output_type": "execute_result"
    }
   ],
   "source": [
    "mean_absolute_error(df.fare, df.fare_pred_on_class_and_embark_town)"
   ]
  },
  {
   "cell_type": "code",
   "execution_count": 93,
   "id": "839190fe",
   "metadata": {
    "ExecuteTime": {
     "end_time": "2023-09-26T16:59:07.060913Z",
     "start_time": "2023-09-26T16:59:07.050221Z"
    }
   },
   "outputs": [],
   "source": [
    "from sklearn.linear_model import LinearRegression\n",
    "\n",
    "model = LinearRegression()\n",
    "\n",
    "model.fit(X=X, \n",
    "          y=y)\n",
    "\n",
    "prediction_on_train = model.predict(model_df[MODEL_FEATURES])"
   ]
  },
  {
   "cell_type": "code",
   "execution_count": 94,
   "id": "79185b1e",
   "metadata": {
    "ExecuteTime": {
     "end_time": "2023-09-26T16:59:07.526966Z",
     "start_time": "2023-09-26T16:59:07.520864Z"
    }
   },
   "outputs": [
    {
     "data": {
      "text/plain": [
       "class_Third     1.816500e+15\n",
       "class_Second    1.816500e+15\n",
       "class_First     1.816500e+15\n",
       "dtype: float64"
      ]
     },
     "execution_count": 94,
     "metadata": {},
     "output_type": "execute_result"
    }
   ],
   "source": [
    "coeff_series = pd.Series(model.coef_, \n",
    "                         index=MODEL_FEATURES)\n",
    "coeff_series = coeff_series.sort_values()\n",
    "coeff_series"
   ]
  },
  {
   "cell_type": "code",
   "execution_count": 91,
   "id": "27f2c0fe",
   "metadata": {
    "ExecuteTime": {
     "end_time": "2023-09-26T16:58:24.545180Z",
     "start_time": "2023-09-26T16:58:24.532255Z"
    }
   },
   "outputs": [
    {
     "data": {
      "text/plain": [
       "(array([1.8164999e+15, 1.8164999e+15, 1.8164999e+15]), -1816499895253194.5)"
      ]
     },
     "execution_count": 91,
     "metadata": {},
     "output_type": "execute_result"
    }
   ],
   "source": [
    "model.coef_, model.intercept_"
   ]
  },
  {
   "cell_type": "code",
   "execution_count": 92,
   "id": "c1c26f99",
   "metadata": {
    "ExecuteTime": {
     "end_time": "2023-09-26T16:58:25.246884Z",
     "start_time": "2023-09-26T16:58:25.090992Z"
    }
   },
   "outputs": [
    {
     "data": {
      "image/png": "[encoded data removed]",
      "text/plain": [
       "<Figure size 640x480 with 1 Axes>"
      ]
     },
     "metadata": {},
     "output_type": "display_data"
    }
   ],
   "source": [
    "coeff_series.plot.barh();"
   ]
  },
  {
   "cell_type": "code",
   "execution_count": null,
   "id": "7c8d5853",
   "metadata": {},
   "outputs": [],
   "source": []
  }
 ],
 "metadata": {
  "kernelspec": {
   "display_name": "Python 3 (ipykernel)",
   "language": "python",
   "name": "python3"
  },
  "language_info": {
   "codemirror_mode": {
    "name": "ipython",
    "version": 3
   },
   "file_extension": ".py",
   "mimetype": "text/x-python",
   "name": "python",
   "nbconvert_exporter": "python",
   "pygments_lexer": "ipython3",
   "version": "3.9.13"
  },
  "toc": {
   "base_numbering": 1,
   "nav_menu": {},
   "number_sections": true,
   "sideBar": true,
   "skip_h1_title": false,
   "title_cell": "Table of Contents",
   "title_sidebar": "Contents",
   "toc_cell": false,
   "toc_position": {},
   "toc_section_display": true,
   "toc_window_display": false
  }
 },
 "nbformat": 4,
 "nbformat_minor": 5
}
