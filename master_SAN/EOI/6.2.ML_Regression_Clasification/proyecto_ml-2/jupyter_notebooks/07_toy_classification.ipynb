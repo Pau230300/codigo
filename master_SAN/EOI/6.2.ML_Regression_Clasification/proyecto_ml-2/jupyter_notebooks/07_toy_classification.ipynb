{
 "cells": [
  {
   "cell_type": "markdown",
   "id": "06c51b6c",
   "metadata": {},
   "source": [
    "# Modelo básico"
   ]
  },
  {
   "cell_type": "code",
   "execution_count": 24,
   "id": "b790f39b",
   "metadata": {
    "ExecuteTime": {
     "end_time": "2023-10-02T15:24:01.834514Z",
     "start_time": "2023-10-02T15:24:01.790255Z"
    }
   },
   "outputs": [
    {
     "data": {
      "text/html": [
       "<div>\n",
       "<style scoped>\n",
       "    .dataframe tbody tr th:only-of-type {\n",
       "        vertical-align: middle;\n",
       "    }\n",
       "\n",
       "    .dataframe tbody tr th {\n",
       "        vertical-align: top;\n",
       "    }\n",
       "\n",
       "    .dataframe thead th {\n",
       "        text-align: right;\n",
       "    }\n",
       "</style>\n",
       "<table border=\"1\" class=\"dataframe\">\n",
       "  <thead>\n",
       "    <tr style=\"text-align: right;\">\n",
       "      <th></th>\n",
       "      <th>primer_parcial</th>\n",
       "      <th>segundo_parcial</th>\n",
       "      <th>aprobado</th>\n",
       "    </tr>\n",
       "  </thead>\n",
       "  <tbody>\n",
       "    <tr>\n",
       "      <th>0</th>\n",
       "      <td>9.818761</td>\n",
       "      <td>2.910138</td>\n",
       "      <td>1</td>\n",
       "    </tr>\n",
       "    <tr>\n",
       "      <th>1</th>\n",
       "      <td>5.603239</td>\n",
       "      <td>8.621473</td>\n",
       "      <td>1</td>\n",
       "    </tr>\n",
       "    <tr>\n",
       "      <th>2</th>\n",
       "      <td>9.150283</td>\n",
       "      <td>1.082613</td>\n",
       "      <td>1</td>\n",
       "    </tr>\n",
       "  </tbody>\n",
       "</table>\n",
       "</div>"
      ],
      "text/plain": [
       "   primer_parcial  segundo_parcial  aprobado\n",
       "0        9.818761         2.910138         1\n",
       "1        5.603239         8.621473         1\n",
       "2        9.150283         1.082613         1"
      ]
     },
     "execution_count": 24,
     "metadata": {},
     "output_type": "execute_result"
    }
   ],
   "source": [
    "import pandas as pd\n",
    "import numpy as np\n",
    "\n",
    "\n",
    "N = 50\n",
    "df = pd.DataFrame(\n",
    "    {\"primer_parcial\": np.random.uniform(0, 10, N),\n",
    "     \"segundo_parcial\": np.random.uniform(0, 10, N)}\n",
    ")\n",
    "df[\"aprobado\"] = ((df.primer_parcial + df.segundo_parcial) >= 10.0).astype('int')\n",
    "\n",
    "df.head(3)"
   ]
  },
  {
   "cell_type": "code",
   "execution_count": 25,
   "id": "3849209d",
   "metadata": {
    "ExecuteTime": {
     "end_time": "2023-10-02T15:24:02.654796Z",
     "start_time": "2023-10-02T15:24:02.435405Z"
    }
   },
   "outputs": [
    {
     "data": {
      "image/png": "[encoded data removed]",
      "text/plain": [
       "<Figure size 640x480 with 1 Axes>"
      ]
     },
     "metadata": {},
     "output_type": "display_data"
    }
   ],
   "source": [
    "import seaborn as sns\n",
    "\n",
    "sns.scatterplot(data=df, x='primer_parcial', y='segundo_parcial', hue=\"aprobado\");"
   ]
  },
  {
   "cell_type": "code",
   "execution_count": 29,
   "id": "b6c9191c",
   "metadata": {
    "ExecuteTime": {
     "end_time": "2023-10-02T15:24:50.238673Z",
     "start_time": "2023-10-02T15:24:50.228369Z"
    }
   },
   "outputs": [],
   "source": [
    "X = df[['primer_parcial', 'segundo_parcial']]\n",
    "y = df.aprobado"
   ]
  },
  {
   "cell_type": "code",
   "execution_count": 30,
   "id": "f2f020e4",
   "metadata": {
    "ExecuteTime": {
     "end_time": "2023-10-02T15:24:57.771747Z",
     "start_time": "2023-10-02T15:24:57.736283Z"
    }
   },
   "outputs": [
    {
     "data": {
      "text/html": [
       "<style>#sk-container-id-1 {color: black;background-color: white;}#sk-container-id-1 pre{padding: 0;}#sk-container-id-1 div.sk-toggleable {background-color: white;}#sk-container-id-1 label.sk-toggleable__label {cursor: pointer;display: block;width: 100%;margin-bottom: 0;padding: 0.3em;box-sizing: border-box;text-align: center;}#sk-container-id-1 label.sk-toggleable__label-arrow:before {content: \"▸\";float: left;margin-right: 0.25em;color: #696969;}#sk-container-id-1 label.sk-toggleable__label-arrow:hover:before {color: black;}#sk-container-id-1 div.sk-estimator:hover label.sk-toggleable__label-arrow:before {color: black;}#sk-container-id-1 div.sk-toggleable__content {max-height: 0;max-width: 0;overflow: hidden;text-align: left;background-color: #f0f8ff;}#sk-container-id-1 div.sk-toggleable__content pre {margin: 0.2em;color: black;border-radius: 0.25em;background-color: #f0f8ff;}#sk-container-id-1 input.sk-toggleable__control:checked~div.sk-toggleable__content {max-height: 200px;max-width: 100%;overflow: auto;}#sk-container-id-1 input.sk-toggleable__control:checked~label.sk-toggleable__label-arrow:before {content: \"▾\";}#sk-container-id-1 div.sk-estimator input.sk-toggleable__control:checked~label.sk-toggleable__label {background-color: #d4ebff;}#sk-container-id-1 div.sk-label input.sk-toggleable__control:checked~label.sk-toggleable__label {background-color: #d4ebff;}#sk-container-id-1 input.sk-hidden--visually {border: 0;clip: rect(1px 1px 1px 1px);clip: rect(1px, 1px, 1px, 1px);height: 1px;margin: -1px;overflow: hidden;padding: 0;position: absolute;width: 1px;}#sk-container-id-1 div.sk-estimator {font-family: monospace;background-color: #f0f8ff;border: 1px dotted black;border-radius: 0.25em;box-sizing: border-box;margin-bottom: 0.5em;}#sk-container-id-1 div.sk-estimator:hover {background-color: #d4ebff;}#sk-container-id-1 div.sk-parallel-item::after {content: \"\";width: 100%;border-bottom: 1px solid gray;flex-grow: 1;}#sk-container-id-1 div.sk-label:hover label.sk-toggleable__label {background-color: #d4ebff;}#sk-container-id-1 div.sk-serial::before {content: \"\";position: absolute;border-left: 1px solid gray;box-sizing: border-box;top: 0;bottom: 0;left: 50%;z-index: 0;}#sk-container-id-1 div.sk-serial {display: flex;flex-direction: column;align-items: center;background-color: white;padding-right: 0.2em;padding-left: 0.2em;position: relative;}#sk-container-id-1 div.sk-item {position: relative;z-index: 1;}#sk-container-id-1 div.sk-parallel {display: flex;align-items: stretch;justify-content: center;background-color: white;position: relative;}#sk-container-id-1 div.sk-item::before, #sk-container-id-1 div.sk-parallel-item::before {content: \"\";position: absolute;border-left: 1px solid gray;box-sizing: border-box;top: 0;bottom: 0;left: 50%;z-index: -1;}#sk-container-id-1 div.sk-parallel-item {display: flex;flex-direction: column;z-index: 1;position: relative;background-color: white;}#sk-container-id-1 div.sk-parallel-item:first-child::after {align-self: flex-end;width: 50%;}#sk-container-id-1 div.sk-parallel-item:last-child::after {align-self: flex-start;width: 50%;}#sk-container-id-1 div.sk-parallel-item:only-child::after {width: 0;}#sk-container-id-1 div.sk-dashed-wrapped {border: 1px dashed gray;margin: 0 0.4em 0.5em 0.4em;box-sizing: border-box;padding-bottom: 0.4em;background-color: white;}#sk-container-id-1 div.sk-label label {font-family: monospace;font-weight: bold;display: inline-block;line-height: 1.2em;}#sk-container-id-1 div.sk-label-container {text-align: center;}#sk-container-id-1 div.sk-container {/* jupyter's `normalize.less` sets `[hidden] { display: none; }` but bootstrap.min.css set `[hidden] { display: none !important; }` so we also need the `!important` here to be able to override the default hidden behavior on the sphinx rendered scikit-learn.org. See: https://github.com/scikit-learn/scikit-learn/issues/21755 */display: inline-block !important;position: relative;}#sk-container-id-1 div.sk-text-repr-fallback {display: none;}</style><div id=\"sk-container-id-1\" class=\"sk-top-container\"><div class=\"sk-text-repr-fallback\"><pre>LogisticRegression()</pre><b>In a Jupyter environment, please rerun this cell to show the HTML representation or trust the notebook. <br />On GitHub, the HTML representation is unable to render, please try loading this page with nbviewer.org.</b></div><div class=\"sk-container\" hidden><div class=\"sk-item\"><div class=\"sk-estimator sk-toggleable\"><input class=\"sk-toggleable__control sk-hidden--visually\" id=\"sk-estimator-id-1\" type=\"checkbox\" checked><label for=\"sk-estimator-id-1\" class=\"sk-toggleable__label sk-toggleable__label-arrow\">LogisticRegression</label><div class=\"sk-toggleable__content\"><pre>LogisticRegression()</pre></div></div></div></div></div>"
      ],
      "text/plain": [
       "LogisticRegression()"
      ]
     },
     "execution_count": 30,
     "metadata": {},
     "output_type": "execute_result"
    }
   ],
   "source": [
    "from sklearn.linear_model import LogisticRegression\n",
    "\n",
    "model = LogisticRegression()\n",
    "model.fit(X, y)"
   ]
  },
  {
   "cell_type": "code",
   "execution_count": 33,
   "id": "64a7220f",
   "metadata": {
    "ExecuteTime": {
     "end_time": "2023-10-02T15:25:30.829553Z",
     "start_time": "2023-10-02T15:25:30.808701Z"
    }
   },
   "outputs": [
    {
     "data": {
      "text/plain": [
       "array([1, 1, 1, 0, 1, 0, 1, 1, 0, 0, 1, 1, 1, 1, 0, 1, 0, 0, 0, 0, 1, 0,\n",
       "       0, 1, 1, 0, 0, 1, 0, 1, 0, 0, 0, 1, 0, 1, 1, 0, 1, 0, 1, 1, 0, 0,\n",
       "       0, 0, 0, 1, 0, 1])"
      ]
     },
     "execution_count": 33,
     "metadata": {},
     "output_type": "execute_result"
    }
   ],
   "source": [
    "pred = model.predict(X)\n",
    "pred"
   ]
  },
  {
   "cell_type": "markdown",
   "id": "f739e427",
   "metadata": {},
   "source": [
    "p = 0.05 * primer_parcial + 0.05 * segundo_parcial "
   ]
  },
  {
   "cell_type": "code",
   "execution_count": 40,
   "id": "1e484723",
   "metadata": {
    "ExecuteTime": {
     "end_time": "2023-10-02T15:31:14.940391Z",
     "start_time": "2023-10-02T15:31:14.928895Z"
    }
   },
   "outputs": [
    {
     "data": {
      "text/plain": [
       "1.0"
      ]
     },
     "execution_count": 40,
     "metadata": {},
     "output_type": "execute_result"
    }
   ],
   "source": [
    "df['prediction'] = pred\n",
    "(df.aprobado == df.prediction).mean()"
   ]
  },
  {
   "cell_type": "code",
   "execution_count": 41,
   "id": "8df8d7b0",
   "metadata": {
    "ExecuteTime": {
     "end_time": "2023-10-02T15:31:15.179361Z",
     "start_time": "2023-10-02T15:31:15.172372Z"
    }
   },
   "outputs": [
    {
     "data": {
      "text/plain": [
       "array([[1.59850967, 1.5640994 ]])"
      ]
     },
     "execution_count": 41,
     "metadata": {},
     "output_type": "execute_result"
    }
   ],
   "source": [
    "model.coef_"
   ]
  },
  {
   "cell_type": "code",
   "execution_count": 42,
   "id": "38e48d0f",
   "metadata": {
    "ExecuteTime": {
     "end_time": "2023-10-02T15:31:15.644144Z",
     "start_time": "2023-10-02T15:31:15.636706Z"
    }
   },
   "outputs": [
    {
     "data": {
      "text/plain": [
       "array([-15.89170895])"
      ]
     },
     "execution_count": 42,
     "metadata": {},
     "output_type": "execute_result"
    }
   ],
   "source": [
    "model.intercept_"
   ]
  },
  {
   "cell_type": "code",
   "execution_count": 47,
   "id": "64ec3fad",
   "metadata": {
    "ExecuteTime": {
     "end_time": "2023-10-02T15:32:43.624657Z",
     "start_time": "2023-10-02T15:32:43.616046Z"
    }
   },
   "outputs": [],
   "source": [
    "pred_proba = model.predict_proba(X)[:, 1]"
   ]
  },
  {
   "cell_type": "code",
   "execution_count": 48,
   "id": "c957f592",
   "metadata": {
    "ExecuteTime": {
     "end_time": "2023-10-02T15:32:45.747824Z",
     "start_time": "2023-10-02T15:32:45.739548Z"
    }
   },
   "outputs": [
    {
     "data": {
      "text/plain": [
       "(50,)"
      ]
     },
     "execution_count": 48,
     "metadata": {},
     "output_type": "execute_result"
    }
   ],
   "source": [
    "pred_proba.shape"
   ]
  },
  {
   "cell_type": "code",
   "execution_count": 53,
   "id": "9eecef7f",
   "metadata": {
    "ExecuteTime": {
     "end_time": "2023-10-02T15:33:22.357082Z",
     "start_time": "2023-10-02T15:33:22.345103Z"
    }
   },
   "outputs": [
    {
     "data": {
      "text/plain": [
       "array([0.98732566, 0.99857188, 0.60549646, 0.08446814, 0.92486932])"
      ]
     },
     "execution_count": 53,
     "metadata": {},
     "output_type": "execute_result"
    }
   ],
   "source": [
    "pred_proba[:5]"
   ]
  },
  {
   "cell_type": "code",
   "execution_count": 52,
   "id": "ef9946ab",
   "metadata": {
    "ExecuteTime": {
     "end_time": "2023-10-02T15:33:12.243318Z",
     "start_time": "2023-10-02T15:33:12.234506Z"
    }
   },
   "outputs": [
    {
     "data": {
      "text/plain": [
       "array([ True,  True,  True,  True,  True,  True,  True,  True,  True,\n",
       "        True,  True,  True,  True,  True,  True,  True,  True,  True,\n",
       "        True,  True,  True,  True,  True,  True,  True,  True,  True,\n",
       "        True,  True,  True,  True,  True,  True,  True,  True,  True,\n",
       "        True,  True,  True,  True,  True,  True,  True,  True,  True,\n",
       "        True,  True,  True,  True,  True])"
      ]
     },
     "execution_count": 52,
     "metadata": {},
     "output_type": "execute_result"
    }
   ],
   "source": [
    "pred == (pred_proba > 0.5)"
   ]
  },
  {
   "cell_type": "code",
   "execution_count": 56,
   "id": "187a8d56",
   "metadata": {
    "ExecuteTime": {
     "end_time": "2023-10-02T15:34:51.679136Z",
     "start_time": "2023-10-02T15:34:51.669827Z"
    }
   },
   "outputs": [
    {
     "data": {
      "text/plain": [
       "0.46"
      ]
     },
     "execution_count": 56,
     "metadata": {},
     "output_type": "execute_result"
    }
   ],
   "source": [
    "threshold = 0.6\n",
    "custom_prediction = pred_proba > threshold\n",
    "\n",
    "custom_prediction.mean()"
   ]
  },
  {
   "cell_type": "code",
   "execution_count": 57,
   "id": "9bf9c08c",
   "metadata": {
    "ExecuteTime": {
     "end_time": "2023-10-02T15:35:34.563373Z",
     "start_time": "2023-10-02T15:35:34.555069Z"
    }
   },
   "outputs": [
    {
     "data": {
      "text/plain": [
       "0.38"
      ]
     },
     "execution_count": 57,
     "metadata": {},
     "output_type": "execute_result"
    }
   ],
   "source": [
    "threshold = 0.9\n",
    "custom_prediction = pred_proba > threshold\n",
    "\n",
    "custom_prediction.mean()"
   ]
  },
  {
   "cell_type": "code",
   "execution_count": 58,
   "id": "5baa6765",
   "metadata": {
    "ExecuteTime": {
     "end_time": "2023-10-02T15:35:43.170798Z",
     "start_time": "2023-10-02T15:35:43.162428Z"
    }
   },
   "outputs": [
    {
     "data": {
      "text/plain": [
       "0.2"
      ]
     },
     "execution_count": 58,
     "metadata": {},
     "output_type": "execute_result"
    }
   ],
   "source": [
    "threshold = 0.99\n",
    "custom_prediction = pred_proba > threshold\n",
    "\n",
    "custom_prediction.mean()"
   ]
  },
  {
   "cell_type": "code",
   "execution_count": 59,
   "id": "ff9e97d2",
   "metadata": {
    "ExecuteTime": {
     "end_time": "2023-10-02T15:36:00.932254Z",
     "start_time": "2023-10-02T15:36:00.917205Z"
    }
   },
   "outputs": [
    {
     "data": {
      "text/plain": [
       "0.6"
      ]
     },
     "execution_count": 59,
     "metadata": {},
     "output_type": "execute_result"
    }
   ],
   "source": [
    "threshold = 0.1\n",
    "custom_prediction = pred_proba > threshold\n",
    "\n",
    "custom_prediction.mean()"
   ]
  },
  {
   "cell_type": "code",
   "execution_count": 60,
   "id": "80e0c8ca",
   "metadata": {
    "ExecuteTime": {
     "end_time": "2023-10-02T15:36:07.068515Z",
     "start_time": "2023-10-02T15:36:07.054326Z"
    }
   },
   "outputs": [
    {
     "data": {
      "text/plain": [
       "0.9"
      ]
     },
     "execution_count": 60,
     "metadata": {},
     "output_type": "execute_result"
    }
   ],
   "source": [
    "threshold = 0.001\n",
    "custom_prediction = pred_proba > threshold\n",
    "\n",
    "custom_prediction.mean()"
   ]
  },
  {
   "cell_type": "markdown",
   "id": "38246158",
   "metadata": {},
   "source": [
    "# Métricas de error"
   ]
  },
  {
   "cell_type": "code",
   "execution_count": 76,
   "id": "f02f3b2a",
   "metadata": {
    "ExecuteTime": {
     "end_time": "2023-10-02T16:37:38.757324Z",
     "start_time": "2023-10-02T16:37:38.751355Z"
    }
   },
   "outputs": [],
   "source": [
    "fake_neg_prediction = np.random.uniform(0, 0.7, 50)\n",
    "fake_pos_prediction = np.random.uniform(0.4, 1, 50)\n",
    "y_true = np.array([0] * 50 + [1] * 50)\n",
    "prediction = np.concatenate([fake_neg_prediction, fake_pos_prediction])"
   ]
  },
  {
   "cell_type": "code",
   "execution_count": 99,
   "id": "d21d1467",
   "metadata": {
    "ExecuteTime": {
     "end_time": "2023-10-02T17:10:35.080566Z",
     "start_time": "2023-10-02T17:10:35.070328Z"
    }
   },
   "outputs": [],
   "source": [
    "import matplotlib.pyplot as plt\n",
    "from sklearn.datasets import make_classification\n",
    "from sklearn.metrics import confusion_matrix, ConfusionMatrixDisplay\n",
    "from sklearn.model_selection import train_test_split\n",
    "from sklearn.svm import SVC\n",
    "from sklearn.metrics import precision_score, recall_score, f1_score"
   ]
  },
  {
   "cell_type": "code",
   "execution_count": 105,
   "id": "6b038b3d",
   "metadata": {
    "ExecuteTime": {
     "end_time": "2023-10-02T17:21:08.346963Z",
     "start_time": "2023-10-02T17:21:08.131699Z"
    }
   },
   "outputs": [
    {
     "name": "stdout",
     "output_type": "stream",
     "text": [
      "Precission: 0.7735849056603774\n",
      "Recall: 0.82\n",
      "F1-score: 0.796116504854369\n"
     ]
    },
    {
     "data": {
      "image/png": "[encoded data removed]",
      "text/plain": [
       "<Figure size 640x480 with 2 Axes>"
      ]
     },
     "metadata": {},
     "output_type": "display_data"
    }
   ],
   "source": [
    "threshold = 0.5\n",
    "labels = [0, 1]\n",
    "\n",
    "custom_prediction = prediction > threshold\n",
    "cm = confusion_matrix(y_true, \n",
    "                      custom_prediction, \n",
    "                      labels=labels)\n",
    "\n",
    "disp = ConfusionMatrixDisplay(confusion_matrix=cm,\n",
    "                              display_labels=labels)\n",
    "print(\"Precission:\", precision_score(y_true=y_true, y_pred=custom_prediction))\n",
    "print(\"Recall:\", recall_score(y_true=y_true, y_pred=custom_prediction))\n",
    "print(\"F1-score:\", f1_score(y_true=y_true, y_pred=custom_prediction))\n",
    "disp.plot()\n",
    "plt.show()"
   ]
  },
  {
   "cell_type": "markdown",
   "id": "02989d35",
   "metadata": {},
   "source": [
    "Un umbral muy alto conduce a:\n",
    "- Aumenta los FN falsos negativos -> mejora precission\n",
    "- Minimiza los FP falsos positivos -> empeora recall\n",
    "\n",
    "Un umbral de 1.0 implica una precission del 100 %"
   ]
  },
  {
   "cell_type": "code",
   "execution_count": 106,
   "id": "4ff7955c",
   "metadata": {
    "ExecuteTime": {
     "end_time": "2023-10-02T17:21:27.797985Z",
     "start_time": "2023-10-02T17:21:27.652303Z"
    }
   },
   "outputs": [
    {
     "name": "stdout",
     "output_type": "stream",
     "text": [
      "Precission: 0.8333333333333334\n",
      "Recall: 0.7\n",
      "F1-score: 0.7608695652173915\n"
     ]
    },
    {
     "data": {
      "image/png": "[encoded data removed]",
      "text/plain": [
       "<Figure size 640x480 with 2 Axes>"
      ]
     },
     "metadata": {},
     "output_type": "display_data"
    }
   ],
   "source": [
    "threshold = 0.6\n",
    "labels = [0, 1]\n",
    "\n",
    "custom_prediction = prediction > threshold\n",
    "cm = confusion_matrix(y_true, \n",
    "                      custom_prediction, \n",
    "                      labels=labels)\n",
    "\n",
    "disp = ConfusionMatrixDisplay(confusion_matrix=cm,\n",
    "                              display_labels=labels)\n",
    "print(\"Precission:\", precision_score(y_true=y_true, y_pred=custom_prediction))\n",
    "print(\"Recall:\", recall_score(y_true=y_true, y_pred=custom_prediction))\n",
    "print(\"F1-score:\", f1_score(y_true=y_true, y_pred=custom_prediction))\n",
    "disp.plot()\n",
    "plt.show()"
   ]
  },
  {
   "cell_type": "code",
   "execution_count": 107,
   "id": "49ef2c56",
   "metadata": {
    "ExecuteTime": {
     "end_time": "2023-10-02T17:21:34.056261Z",
     "start_time": "2023-10-02T17:21:33.889653Z"
    }
   },
   "outputs": [
    {
     "name": "stdout",
     "output_type": "stream",
     "text": [
      "Precission: 1.0\n",
      "Recall: 0.42\n",
      "F1-score: 0.5915492957746479\n"
     ]
    },
    {
     "data": {
      "image/png": "[encoded data removed]",
      "text/plain": [
       "<Figure size 640x480 with 2 Axes>"
      ]
     },
     "metadata": {},
     "output_type": "display_data"
    }
   ],
   "source": [
    "threshold = 0.7\n",
    "labels = [0, 1]\n",
    "\n",
    "custom_prediction = prediction > threshold\n",
    "cm = confusion_matrix(y_true, \n",
    "                      custom_prediction, \n",
    "                      labels=labels)\n",
    "\n",
    "disp = ConfusionMatrixDisplay(confusion_matrix=cm,\n",
    "                              display_labels=labels)\n",
    "print(\"Precission:\", precision_score(y_true=y_true, y_pred=custom_prediction))\n",
    "print(\"Recall:\", recall_score(y_true=y_true, y_pred=custom_prediction))\n",
    "print(\"F1-score:\", f1_score(y_true=y_true, y_pred=custom_prediction))\n",
    "disp.plot()\n",
    "plt.show()"
   ]
  },
  {
   "cell_type": "markdown",
   "id": "884dd0b4",
   "metadata": {
    "ExecuteTime": {
     "end_time": "2023-10-02T16:41:37.495631Z",
     "start_time": "2023-10-02T16:41:37.487629Z"
    }
   },
   "source": [
    "Un umbral muy bajo conduce a:\n",
    "- Aumenta los FP falsos positivos -> aumenta el recall\n",
    "- Minimiza los falsos negativos -> disminuye la precission\n",
    "\n",
    "Un umbral de 0.0 implica un recall del 100 %"
   ]
  },
  {
   "cell_type": "code",
   "execution_count": 108,
   "id": "7c7730a4",
   "metadata": {
    "ExecuteTime": {
     "end_time": "2023-10-02T17:21:39.526767Z",
     "start_time": "2023-10-02T17:21:39.335688Z"
    }
   },
   "outputs": [
    {
     "name": "stdout",
     "output_type": "stream",
     "text": [
      "Precission: 0.734375\n",
      "Recall: 0.94\n",
      "F1-score: 0.8245614035087719\n"
     ]
    },
    {
     "data": {
      "image/png": "[encoded data removed]",
      "text/plain": [
       "<Figure size 640x480 with 2 Axes>"
      ]
     },
     "metadata": {},
     "output_type": "display_data"
    }
   ],
   "source": [
    "threshold = 0.45\n",
    "labels = [0, 1]\n",
    "\n",
    "custom_prediction = prediction > threshold\n",
    "cm = confusion_matrix(y_true, \n",
    "                      custom_prediction, \n",
    "                      labels=labels)\n",
    "\n",
    "disp = ConfusionMatrixDisplay(confusion_matrix=cm,\n",
    "                              display_labels=labels)\n",
    "print(\"Precission:\", precision_score(y_true=y_true, y_pred=custom_prediction))\n",
    "print(\"Recall:\", recall_score(y_true=y_true, y_pred=custom_prediction))\n",
    "print(\"F1-score:\", f1_score(y_true=y_true, y_pred=custom_prediction))\n",
    "disp.plot()\n",
    "plt.show()"
   ]
  },
  {
   "cell_type": "code",
   "execution_count": 109,
   "id": "1264ce12",
   "metadata": {
    "ExecuteTime": {
     "end_time": "2023-10-02T17:21:43.760288Z",
     "start_time": "2023-10-02T17:21:43.534250Z"
    }
   },
   "outputs": [
    {
     "name": "stdout",
     "output_type": "stream",
     "text": [
      "Precission: 0.7142857142857143\n",
      "Recall: 1.0\n",
      "F1-score: 0.8333333333333333\n"
     ]
    },
    {
     "data": {
      "image/png": "[encoded data removed]",
      "text/plain": [
       "<Figure size 640x480 with 2 Axes>"
      ]
     },
     "metadata": {},
     "output_type": "display_data"
    }
   ],
   "source": [
    "threshold = 0.4\n",
    "labels = [0, 1]\n",
    "\n",
    "custom_prediction = prediction > threshold\n",
    "cm = confusion_matrix(y_true, \n",
    "                      custom_prediction, \n",
    "                      labels=labels)\n",
    "\n",
    "disp = ConfusionMatrixDisplay(confusion_matrix=cm,\n",
    "                              display_labels=labels)\n",
    "print(\"Precission:\", precision_score(y_true=y_true, y_pred=custom_prediction))\n",
    "print(\"Recall:\", recall_score(y_true=y_true, y_pred=custom_prediction))\n",
    "print(\"F1-score:\", f1_score(y_true=y_true, y_pred=custom_prediction))\n",
    "disp.plot()\n",
    "plt.show()"
   ]
  },
  {
   "cell_type": "code",
   "execution_count": 89,
   "id": "997f346f",
   "metadata": {
    "ExecuteTime": {
     "end_time": "2023-10-02T16:44:42.370735Z",
     "start_time": "2023-10-02T16:44:42.359400Z"
    }
   },
   "outputs": [
    {
     "data": {
      "text/plain": [
       "0.0"
      ]
     },
     "execution_count": 89,
     "metadata": {},
     "output_type": "execute_result"
    }
   ],
   "source": [
    "from sklearn.metrics import accuracy_score\n",
    "\n",
    "accuracy_score([0, 1,], \n",
    "               [1, 0])"
   ]
  },
  {
   "cell_type": "code",
   "execution_count": 90,
   "id": "f1973130",
   "metadata": {
    "ExecuteTime": {
     "end_time": "2023-10-02T16:44:50.242269Z",
     "start_time": "2023-10-02T16:44:50.228038Z"
    }
   },
   "outputs": [
    {
     "data": {
      "text/plain": [
       "1.0"
      ]
     },
     "execution_count": 90,
     "metadata": {},
     "output_type": "execute_result"
    }
   ],
   "source": [
    "accuracy_score([0, 1,], [0, 1])"
   ]
  },
  {
   "cell_type": "code",
   "execution_count": 91,
   "id": "6c986d32",
   "metadata": {
    "ExecuteTime": {
     "end_time": "2023-10-02T16:45:00.236189Z",
     "start_time": "2023-10-02T16:45:00.225796Z"
    }
   },
   "outputs": [
    {
     "data": {
      "text/plain": [
       "0.6666666666666666"
      ]
     },
     "execution_count": 91,
     "metadata": {},
     "output_type": "execute_result"
    }
   ],
   "source": [
    "accuracy_score([0, 1, 1], [0, 1, 0])"
   ]
  },
  {
   "cell_type": "markdown",
   "id": "0f90d8a6",
   "metadata": {},
   "source": [
    "Accuracy es una métrica muy limitada porque absorbe la distribución de las etiquetas.\n",
    "\n",
    "En un escenario donde hay un 99 % de casos legales, predecir que todos los casos son legales, tiene el 99 % de accuracy -> lidera al engaño o confusión"
   ]
  },
  {
   "cell_type": "code",
   "execution_count": 92,
   "id": "f3b1befb",
   "metadata": {
    "ExecuteTime": {
     "end_time": "2023-10-02T16:48:20.593448Z",
     "start_time": "2023-10-02T16:48:20.576367Z"
    }
   },
   "outputs": [
    {
     "data": {
      "text/plain": [
       "0.78"
      ]
     },
     "execution_count": 92,
     "metadata": {},
     "output_type": "execute_result"
    }
   ],
   "source": [
    "accuracy_score(y_true=y_true, y_pred=(prediction > 0.6))"
   ]
  },
  {
   "cell_type": "code",
   "execution_count": 96,
   "id": "62a497e1",
   "metadata": {
    "ExecuteTime": {
     "end_time": "2023-10-02T16:51:19.439115Z",
     "start_time": "2023-10-02T16:51:19.417113Z"
    }
   },
   "outputs": [
    {
     "data": {
      "text/plain": [
       "0.5"
      ]
     },
     "execution_count": 96,
     "metadata": {},
     "output_type": "execute_result"
    }
   ],
   "source": [
    "from sklearn.metrics import precision_score, recall_score, f1_score\n",
    "\n",
    "precision_score(y_true=[0, 1, 1, 0, 0, 0, 1, 0, 1], y_pred=[1, 1, 0, 0, 0, 0, 0, 0 ,0])"
   ]
  },
  {
   "cell_type": "code",
   "execution_count": 97,
   "id": "babbbeba",
   "metadata": {
    "ExecuteTime": {
     "end_time": "2023-10-02T16:51:54.307989Z",
     "start_time": "2023-10-02T16:51:54.293251Z"
    }
   },
   "outputs": [
    {
     "data": {
      "text/plain": [
       "0.8333333333333334"
      ]
     },
     "execution_count": 97,
     "metadata": {},
     "output_type": "execute_result"
    }
   ],
   "source": [
    "precision_score(y_true=y_true, y_pred=(prediction > 0.6))"
   ]
  },
  {
   "cell_type": "code",
   "execution_count": 98,
   "id": "63282ed9",
   "metadata": {
    "ExecuteTime": {
     "end_time": "2023-10-02T16:54:09.549316Z",
     "start_time": "2023-10-02T16:54:09.528538Z"
    }
   },
   "outputs": [
    {
     "data": {
      "text/plain": [
       "0.5"
      ]
     },
     "execution_count": 98,
     "metadata": {},
     "output_type": "execute_result"
    }
   ],
   "source": [
    "recall_score(y_pred=[0, 1, 1, 0, 0, 0, 1, 0, 1], y_true=[1, 1, 0, 0, 0, 0, 0, 0 ,0])"
   ]
  },
  {
   "cell_type": "code",
   "execution_count": 63,
   "id": "09c33c4e",
   "metadata": {
    "ExecuteTime": {
     "end_time": "2023-10-02T15:38:47.832829Z",
     "start_time": "2023-10-02T15:38:47.809838Z"
    }
   },
   "outputs": [
    {
     "name": "stdout",
     "output_type": "stream",
     "text": [
      "              precision    recall  f1-score   support\n",
      "\n",
      "           0       1.00      1.00      1.00        26\n",
      "           1       1.00      1.00      1.00        24\n",
      "\n",
      "    accuracy                           1.00        50\n",
      "   macro avg       1.00      1.00      1.00        50\n",
      "weighted avg       1.00      1.00      1.00        50\n",
      "\n"
     ]
    }
   ],
   "source": [
    "from sklearn.metrics import classification_report\n",
    "\n",
    "print(classification_report(y_true=y, y_pred=pred))"
   ]
  },
  {
   "cell_type": "markdown",
   "id": "e6429560",
   "metadata": {},
   "source": [
    "Requisitos de operativa:\n",
    "\n",
    "- **Tener al menos el 80 % de precission y al menos un 40 % de recall**\n",
    "- **MAXIMIZAR F1-score**\n",
    "- En un mantenimiento predictivo, es necesario que el 70 % de las ocasiones que se predice fallo de una pieza, realmente lo sea\n",
    "- En un mantenimiento predictivo, es necesario que el 80 % de las ocasiones en las que va a fallar, se detecte\n",
    "- En la detección del fraude, necesitamos tener una precission del 90 %\n",
    "- Necesitamos que este sistema de diagnóstico del edema macular, tenga un recall de al menos el 99 %"
   ]
  }
 ],
 "metadata": {
  "kernelspec": {
   "display_name": "Python 3 (ipykernel)",
   "language": "python",
   "name": "python3"
  },
  "language_info": {
   "codemirror_mode": {
    "name": "ipython",
    "version": 3
   },
   "file_extension": ".py",
   "mimetype": "text/x-python",
   "name": "python",
   "nbconvert_exporter": "python",
   "pygments_lexer": "ipython3",
   "version": "3.9.13"
  },
  "toc": {
   "base_numbering": 1,
   "nav_menu": {},
   "number_sections": true,
   "sideBar": true,
   "skip_h1_title": false,
   "title_cell": "Table of Contents",
   "title_sidebar": "Contents",
   "toc_cell": false,
   "toc_position": {},
   "toc_section_display": true,
   "toc_window_display": false
  }
 },
 "nbformat": 4,
 "nbformat_minor": 5
}
