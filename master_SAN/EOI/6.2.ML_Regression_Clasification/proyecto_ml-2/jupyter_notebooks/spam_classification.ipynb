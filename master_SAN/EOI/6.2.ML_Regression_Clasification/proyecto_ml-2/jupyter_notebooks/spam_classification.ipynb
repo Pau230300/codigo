{
 "cells": [
  {
   "cell_type": "code",
   "execution_count": 1,
   "id": "5f8873f8",
   "metadata": {
    "ExecuteTime": {
     "end_time": "2023-09-25T14:00:08.963972Z",
     "start_time": "2023-09-25T14:00:07.821811Z"
    }
   },
   "outputs": [],
   "source": [
    "import seaborn as sns"
   ]
  },
  {
   "cell_type": "code",
   "execution_count": 3,
   "id": "6268b955",
   "metadata": {
    "ExecuteTime": {
     "end_time": "2023-09-25T14:00:14.221920Z",
     "start_time": "2023-09-25T14:00:14.199006Z"
    }
   },
   "outputs": [],
   "source": [
    "df  = sns.load_dataset('titanic')"
   ]
  },
  {
   "cell_type": "code",
   "execution_count": 5,
   "id": "c7e040e4",
   "metadata": {
    "ExecuteTime": {
     "end_time": "2023-09-25T14:00:22.481959Z",
     "start_time": "2023-09-25T14:00:22.456670Z"
    }
   },
   "outputs": [],
   "source": [
    "df.to_csv('titanic.csv', index=False)"
   ]
  },
  {
   "cell_type": "code",
   "execution_count": 15,
   "id": "111cf3c3",
   "metadata": {
    "ExecuteTime": {
     "end_time": "2023-09-25T15:26:26.113740Z",
     "start_time": "2023-09-25T15:26:26.097448Z"
    }
   },
   "outputs": [],
   "source": [
    "def classify_spam(text):\n",
    "    \n",
    "    if \"comprar\" in text:\n",
    "        if \"abuelo\" in text or \"madre\" in text:\n",
    "            return False\n",
    "        else:\n",
    "            return True\n",
    "    \n",
    "    if \"tio\" in text or \"abuelo\" in text:\n",
    "        return False\n",
    "    \n",
    "    if \"2x1\" in text:\n",
    "        return True\n",
    "    \n",
    "    return False    "
   ]
  },
  {
   "cell_type": "code",
   "execution_count": 16,
   "id": "82b7c8a7",
   "metadata": {
    "ExecuteTime": {
     "end_time": "2023-09-25T15:26:27.091431Z",
     "start_time": "2023-09-25T15:26:27.083717Z"
    }
   },
   "outputs": [
    {
     "data": {
      "text/plain": [
       "True"
      ]
     },
     "execution_count": 16,
     "metadata": {},
     "output_type": "execute_result"
    }
   ],
   "source": [
    "classify_spam(\"comprar oro o vender\")"
   ]
  },
  {
   "cell_type": "code",
   "execution_count": 17,
   "id": "40ab68e8",
   "metadata": {
    "ExecuteTime": {
     "end_time": "2023-09-25T15:26:27.867724Z",
     "start_time": "2023-09-25T15:26:27.856010Z"
    }
   },
   "outputs": [
    {
     "data": {
      "text/plain": [
       "False"
      ]
     },
     "execution_count": 17,
     "metadata": {},
     "output_type": "execute_result"
    }
   ],
   "source": [
    "classify_spam(\"soy tu abuelo Manolo\")"
   ]
  },
  {
   "cell_type": "code",
   "execution_count": 18,
   "id": "fe6a2c1e",
   "metadata": {
    "ExecuteTime": {
     "end_time": "2023-09-25T15:26:28.692456Z",
     "start_time": "2023-09-25T15:26:28.680626Z"
    }
   },
   "outputs": [
    {
     "data": {
      "text/plain": [
       "True"
      ]
     },
     "execution_count": 18,
     "metadata": {},
     "output_type": "execute_result"
    }
   ],
   "source": [
    "classify_spam(\"este fin de semana 2x1 en bonito del norte\")"
   ]
  },
  {
   "cell_type": "code",
   "execution_count": 19,
   "id": "423773d0",
   "metadata": {
    "ExecuteTime": {
     "end_time": "2023-09-25T15:26:29.257177Z",
     "start_time": "2023-09-25T15:26:29.240654Z"
    }
   },
   "outputs": [
    {
     "data": {
      "text/plain": [
       "False"
      ]
     },
     "execution_count": 19,
     "metadata": {},
     "output_type": "execute_result"
    }
   ],
   "source": [
    "classify_spam(\"soy tu abuelo vamos a ir a comprar hoy?\")"
   ]
  },
  {
   "cell_type": "code",
   "execution_count": 20,
   "id": "b309d9de",
   "metadata": {
    "ExecuteTime": {
     "end_time": "2023-09-25T15:27:22.508754Z",
     "start_time": "2023-09-25T15:27:22.501113Z"
    }
   },
   "outputs": [
    {
     "data": {
      "text/plain": [
       "True"
      ]
     },
     "execution_count": 20,
     "metadata": {},
     "output_type": "execute_result"
    }
   ],
   "source": [
    "classify_spam(\"soy tu primo vamos a ir a comprar hoy?\")"
   ]
  }
 ],
 "metadata": {
  "kernelspec": {
   "display_name": "Python 3 (ipykernel)",
   "language": "python",
   "name": "python3"
  },
  "language_info": {
   "codemirror_mode": {
    "name": "ipython",
    "version": 3
   },
   "file_extension": ".py",
   "mimetype": "text/x-python",
   "name": "python",
   "nbconvert_exporter": "python",
   "pygments_lexer": "ipython3",
   "version": "3.9.13"
  },
  "toc": {
   "base_numbering": 1,
   "nav_menu": {},
   "number_sections": true,
   "sideBar": true,
   "skip_h1_title": false,
   "title_cell": "Table of Contents",
   "title_sidebar": "Contents",
   "toc_cell": false,
   "toc_position": {},
   "toc_section_display": true,
   "toc_window_display": false
  }
 },
 "nbformat": 4,
 "nbformat_minor": 5
}
