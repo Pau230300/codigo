{
 "cells": [
  {
   "cell_type": "markdown",
   "id": "685a15f5",
   "metadata": {},
   "source": [
    "https://scikit-learn.org/stable/modules/outlier_detection.html#novelty-and-outlier-detection"
   ]
  },
  {
   "cell_type": "code",
   "execution_count": 15,
   "id": "36751328",
   "metadata": {
    "ExecuteTime": {
     "end_time": "2023-10-04T17:28:34.471437Z",
     "start_time": "2023-10-04T17:28:34.199916Z"
    }
   },
   "outputs": [],
   "source": [
    "import pandas as pd\n",
    "\n",
    "\n",
    "df = pd.read_csv('creditcard_reduced.csv')\n",
    "df = df.drop('Time', axis=1)"
   ]
  },
  {
   "cell_type": "code",
   "execution_count": 16,
   "id": "3c4bcc3d",
   "metadata": {
    "ExecuteTime": {
     "end_time": "2023-10-04T17:28:34.746996Z",
     "start_time": "2023-10-04T17:28:34.717140Z"
    }
   },
   "outputs": [
    {
     "data": {
      "text/html": [
       "<div>\n",
       "<style scoped>\n",
       "    .dataframe tbody tr th:only-of-type {\n",
       "        vertical-align: middle;\n",
       "    }\n",
       "\n",
       "    .dataframe tbody tr th {\n",
       "        vertical-align: top;\n",
       "    }\n",
       "\n",
       "    .dataframe thead th {\n",
       "        text-align: right;\n",
       "    }\n",
       "</style>\n",
       "<table border=\"1\" class=\"dataframe\">\n",
       "  <thead>\n",
       "    <tr style=\"text-align: right;\">\n",
       "      <th></th>\n",
       "      <th>V1</th>\n",
       "      <th>V2</th>\n",
       "      <th>V3</th>\n",
       "      <th>V4</th>\n",
       "      <th>V5</th>\n",
       "      <th>V6</th>\n",
       "      <th>V7</th>\n",
       "      <th>V8</th>\n",
       "      <th>V9</th>\n",
       "      <th>V10</th>\n",
       "      <th>...</th>\n",
       "      <th>V21</th>\n",
       "      <th>V22</th>\n",
       "      <th>V23</th>\n",
       "      <th>V24</th>\n",
       "      <th>V25</th>\n",
       "      <th>V26</th>\n",
       "      <th>V27</th>\n",
       "      <th>V28</th>\n",
       "      <th>Amount</th>\n",
       "      <th>Class</th>\n",
       "    </tr>\n",
       "  </thead>\n",
       "  <tbody>\n",
       "    <tr>\n",
       "      <th>24625</th>\n",
       "      <td>1.143483</td>\n",
       "      <td>-0.329553</td>\n",
       "      <td>1.043684</td>\n",
       "      <td>-0.684585</td>\n",
       "      <td>-0.850591</td>\n",
       "      <td>0.035692</td>\n",
       "      <td>-0.794091</td>\n",
       "      <td>0.137745</td>\n",
       "      <td>2.757769</td>\n",
       "      <td>-1.347032</td>\n",
       "      <td>...</td>\n",
       "      <td>-0.070740</td>\n",
       "      <td>0.294173</td>\n",
       "      <td>-0.023392</td>\n",
       "      <td>-0.003364</td>\n",
       "      <td>0.389308</td>\n",
       "      <td>-0.715786</td>\n",
       "      <td>0.081157</td>\n",
       "      <td>0.018347</td>\n",
       "      <td>11.85</td>\n",
       "      <td>0</td>\n",
       "    </tr>\n",
       "    <tr>\n",
       "      <th>6260</th>\n",
       "      <td>-0.368147</td>\n",
       "      <td>1.351672</td>\n",
       "      <td>-0.467387</td>\n",
       "      <td>-0.358998</td>\n",
       "      <td>0.354035</td>\n",
       "      <td>-1.290938</td>\n",
       "      <td>0.797592</td>\n",
       "      <td>0.001668</td>\n",
       "      <td>-0.334338</td>\n",
       "      <td>-0.434057</td>\n",
       "      <td>...</td>\n",
       "      <td>0.444008</td>\n",
       "      <td>1.454443</td>\n",
       "      <td>-0.058136</td>\n",
       "      <td>0.123844</td>\n",
       "      <td>-0.722501</td>\n",
       "      <td>-0.236673</td>\n",
       "      <td>0.262340</td>\n",
       "      <td>0.257413</td>\n",
       "      <td>0.75</td>\n",
       "      <td>0</td>\n",
       "    </tr>\n",
       "    <tr>\n",
       "      <th>12945</th>\n",
       "      <td>-1.220946</td>\n",
       "      <td>0.700466</td>\n",
       "      <td>1.758205</td>\n",
       "      <td>2.450490</td>\n",
       "      <td>1.727523</td>\n",
       "      <td>-0.232670</td>\n",
       "      <td>0.402678</td>\n",
       "      <td>0.069399</td>\n",
       "      <td>-0.852065</td>\n",
       "      <td>0.164364</td>\n",
       "      <td>...</td>\n",
       "      <td>0.051878</td>\n",
       "      <td>0.089313</td>\n",
       "      <td>-0.181744</td>\n",
       "      <td>-0.032759</td>\n",
       "      <td>0.480834</td>\n",
       "      <td>0.174415</td>\n",
       "      <td>-0.027145</td>\n",
       "      <td>0.063038</td>\n",
       "      <td>13.69</td>\n",
       "      <td>0</td>\n",
       "    </tr>\n",
       "    <tr>\n",
       "      <th>2071</th>\n",
       "      <td>2.161610</td>\n",
       "      <td>0.198279</td>\n",
       "      <td>-2.536953</td>\n",
       "      <td>0.413367</td>\n",
       "      <td>0.903409</td>\n",
       "      <td>-1.406622</td>\n",
       "      <td>0.921913</td>\n",
       "      <td>-0.542788</td>\n",
       "      <td>-0.048359</td>\n",
       "      <td>0.290875</td>\n",
       "      <td>...</td>\n",
       "      <td>0.247206</td>\n",
       "      <td>0.842037</td>\n",
       "      <td>-0.140362</td>\n",
       "      <td>0.813159</td>\n",
       "      <td>0.682784</td>\n",
       "      <td>0.692679</td>\n",
       "      <td>-0.133198</td>\n",
       "      <td>-0.088610</td>\n",
       "      <td>0.00</td>\n",
       "      <td>0</td>\n",
       "    </tr>\n",
       "    <tr>\n",
       "      <th>860</th>\n",
       "      <td>0.906154</td>\n",
       "      <td>-0.827662</td>\n",
       "      <td>0.961717</td>\n",
       "      <td>0.137440</td>\n",
       "      <td>-0.979868</td>\n",
       "      <td>0.747312</td>\n",
       "      <td>-0.907911</td>\n",
       "      <td>0.499396</td>\n",
       "      <td>0.843295</td>\n",
       "      <td>-0.184927</td>\n",
       "      <td>...</td>\n",
       "      <td>0.221442</td>\n",
       "      <td>0.542408</td>\n",
       "      <td>-0.048204</td>\n",
       "      <td>-0.228647</td>\n",
       "      <td>-0.048173</td>\n",
       "      <td>1.145123</td>\n",
       "      <td>-0.033547</td>\n",
       "      <td>0.011987</td>\n",
       "      <td>103.75</td>\n",
       "      <td>0</td>\n",
       "    </tr>\n",
       "  </tbody>\n",
       "</table>\n",
       "<p>5 rows × 30 columns</p>\n",
       "</div>"
      ],
      "text/plain": [
       "             V1        V2        V3        V4        V5        V6        V7  \\\n",
       "24625  1.143483 -0.329553  1.043684 -0.684585 -0.850591  0.035692 -0.794091   \n",
       "6260  -0.368147  1.351672 -0.467387 -0.358998  0.354035 -1.290938  0.797592   \n",
       "12945 -1.220946  0.700466  1.758205  2.450490  1.727523 -0.232670  0.402678   \n",
       "2071   2.161610  0.198279 -2.536953  0.413367  0.903409 -1.406622  0.921913   \n",
       "860    0.906154 -0.827662  0.961717  0.137440 -0.979868  0.747312 -0.907911   \n",
       "\n",
       "             V8        V9       V10  ...       V21       V22       V23  \\\n",
       "24625  0.137745  2.757769 -1.347032  ... -0.070740  0.294173 -0.023392   \n",
       "6260   0.001668 -0.334338 -0.434057  ...  0.444008  1.454443 -0.058136   \n",
       "12945  0.069399 -0.852065  0.164364  ...  0.051878  0.089313 -0.181744   \n",
       "2071  -0.542788 -0.048359  0.290875  ...  0.247206  0.842037 -0.140362   \n",
       "860    0.499396  0.843295 -0.184927  ...  0.221442  0.542408 -0.048204   \n",
       "\n",
       "            V24       V25       V26       V27       V28  Amount  Class  \n",
       "24625 -0.003364  0.389308 -0.715786  0.081157  0.018347   11.85      0  \n",
       "6260   0.123844 -0.722501 -0.236673  0.262340  0.257413    0.75      0  \n",
       "12945 -0.032759  0.480834  0.174415 -0.027145  0.063038   13.69      0  \n",
       "2071   0.813159  0.682784  0.692679 -0.133198 -0.088610    0.00      0  \n",
       "860   -0.228647 -0.048173  1.145123 -0.033547  0.011987  103.75      0  \n",
       "\n",
       "[5 rows x 30 columns]"
      ]
     },
     "execution_count": 16,
     "metadata": {},
     "output_type": "execute_result"
    }
   ],
   "source": [
    "df.sample(5)"
   ]
  },
  {
   "cell_type": "code",
   "execution_count": 17,
   "id": "8bbb1f3e",
   "metadata": {
    "ExecuteTime": {
     "end_time": "2023-10-04T17:28:35.899247Z",
     "start_time": "2023-10-04T17:28:35.885599Z"
    }
   },
   "outputs": [
    {
     "data": {
      "text/plain": [
       "(30200, 30)"
      ]
     },
     "execution_count": 17,
     "metadata": {},
     "output_type": "execute_result"
    }
   ],
   "source": [
    "df.shape"
   ]
  },
  {
   "cell_type": "code",
   "execution_count": 18,
   "id": "72f6aa84",
   "metadata": {
    "ExecuteTime": {
     "end_time": "2023-10-04T17:28:36.202259Z",
     "start_time": "2023-10-04T17:28:36.184790Z"
    }
   },
   "outputs": [
    {
     "data": {
      "text/plain": [
       "200"
      ]
     },
     "execution_count": 18,
     "metadata": {},
     "output_type": "execute_result"
    }
   ],
   "source": [
    "df.Class.sum()"
   ]
  },
  {
   "cell_type": "code",
   "execution_count": 19,
   "id": "bd78b7e3",
   "metadata": {
    "ExecuteTime": {
     "end_time": "2023-10-04T17:28:36.345887Z",
     "start_time": "2023-10-04T17:28:36.339389Z"
    }
   },
   "outputs": [
    {
     "name": "stdout",
     "output_type": "stream",
     "text": [
      "Fraud con proporcion : 6.62 por mil\n"
     ]
    }
   ],
   "source": [
    "print(f\"Fraud con proporcion : {(df.Class.mean() * 1000).round(2)} por mil\")"
   ]
  },
  {
   "cell_type": "code",
   "execution_count": 20,
   "id": "5b621fc6",
   "metadata": {
    "ExecuteTime": {
     "end_time": "2023-10-04T17:28:36.814253Z",
     "start_time": "2023-10-04T17:28:36.803159Z"
    }
   },
   "outputs": [
    {
     "data": {
      "text/plain": [
       "['V1',\n",
       " 'V2',\n",
       " 'V3',\n",
       " 'V4',\n",
       " 'V5',\n",
       " 'V6',\n",
       " 'V7',\n",
       " 'V8',\n",
       " 'V9',\n",
       " 'V10',\n",
       " 'V11',\n",
       " 'V12',\n",
       " 'V13',\n",
       " 'V14',\n",
       " 'V15',\n",
       " 'V16',\n",
       " 'V17',\n",
       " 'V18',\n",
       " 'V19',\n",
       " 'V20',\n",
       " 'V21',\n",
       " 'V22',\n",
       " 'V23',\n",
       " 'V24',\n",
       " 'V25',\n",
       " 'V26',\n",
       " 'V27',\n",
       " 'V28',\n",
       " 'Amount']"
      ]
     },
     "execution_count": 20,
     "metadata": {},
     "output_type": "execute_result"
    }
   ],
   "source": [
    "features = [ val for val in df.columns if val.startswith('V')] + ['Amount']\n",
    "features"
   ]
  },
  {
   "cell_type": "markdown",
   "id": "555f560f",
   "metadata": {},
   "source": [
    "- **SUPERVISADO** -> `.fit(X, y)`\n",
    "- **NO SUPERVISADO** -> `.fit(X)`"
   ]
  },
  {
   "cell_type": "code",
   "execution_count": 52,
   "id": "13e15ae4",
   "metadata": {
    "ExecuteTime": {
     "end_time": "2023-10-04T17:41:44.354755Z",
     "start_time": "2023-10-04T17:41:43.783344Z"
    }
   },
   "outputs": [
    {
     "data": {
      "text/html": [
       "<style>#sk-container-id-5 {color: black;background-color: white;}#sk-container-id-5 pre{padding: 0;}#sk-container-id-5 div.sk-toggleable {background-color: white;}#sk-container-id-5 label.sk-toggleable__label {cursor: pointer;display: block;width: 100%;margin-bottom: 0;padding: 0.3em;box-sizing: border-box;text-align: center;}#sk-container-id-5 label.sk-toggleable__label-arrow:before {content: \"▸\";float: left;margin-right: 0.25em;color: #696969;}#sk-container-id-5 label.sk-toggleable__label-arrow:hover:before {color: black;}#sk-container-id-5 div.sk-estimator:hover label.sk-toggleable__label-arrow:before {color: black;}#sk-container-id-5 div.sk-toggleable__content {max-height: 0;max-width: 0;overflow: hidden;text-align: left;background-color: #f0f8ff;}#sk-container-id-5 div.sk-toggleable__content pre {margin: 0.2em;color: black;border-radius: 0.25em;background-color: #f0f8ff;}#sk-container-id-5 input.sk-toggleable__control:checked~div.sk-toggleable__content {max-height: 200px;max-width: 100%;overflow: auto;}#sk-container-id-5 input.sk-toggleable__control:checked~label.sk-toggleable__label-arrow:before {content: \"▾\";}#sk-container-id-5 div.sk-estimator input.sk-toggleable__control:checked~label.sk-toggleable__label {background-color: #d4ebff;}#sk-container-id-5 div.sk-label input.sk-toggleable__control:checked~label.sk-toggleable__label {background-color: #d4ebff;}#sk-container-id-5 input.sk-hidden--visually {border: 0;clip: rect(1px 1px 1px 1px);clip: rect(1px, 1px, 1px, 1px);height: 1px;margin: -1px;overflow: hidden;padding: 0;position: absolute;width: 1px;}#sk-container-id-5 div.sk-estimator {font-family: monospace;background-color: #f0f8ff;border: 1px dotted black;border-radius: 0.25em;box-sizing: border-box;margin-bottom: 0.5em;}#sk-container-id-5 div.sk-estimator:hover {background-color: #d4ebff;}#sk-container-id-5 div.sk-parallel-item::after {content: \"\";width: 100%;border-bottom: 1px solid gray;flex-grow: 1;}#sk-container-id-5 div.sk-label:hover label.sk-toggleable__label {background-color: #d4ebff;}#sk-container-id-5 div.sk-serial::before {content: \"\";position: absolute;border-left: 1px solid gray;box-sizing: border-box;top: 0;bottom: 0;left: 50%;z-index: 0;}#sk-container-id-5 div.sk-serial {display: flex;flex-direction: column;align-items: center;background-color: white;padding-right: 0.2em;padding-left: 0.2em;position: relative;}#sk-container-id-5 div.sk-item {position: relative;z-index: 1;}#sk-container-id-5 div.sk-parallel {display: flex;align-items: stretch;justify-content: center;background-color: white;position: relative;}#sk-container-id-5 div.sk-item::before, #sk-container-id-5 div.sk-parallel-item::before {content: \"\";position: absolute;border-left: 1px solid gray;box-sizing: border-box;top: 0;bottom: 0;left: 50%;z-index: -1;}#sk-container-id-5 div.sk-parallel-item {display: flex;flex-direction: column;z-index: 1;position: relative;background-color: white;}#sk-container-id-5 div.sk-parallel-item:first-child::after {align-self: flex-end;width: 50%;}#sk-container-id-5 div.sk-parallel-item:last-child::after {align-self: flex-start;width: 50%;}#sk-container-id-5 div.sk-parallel-item:only-child::after {width: 0;}#sk-container-id-5 div.sk-dashed-wrapped {border: 1px dashed gray;margin: 0 0.4em 0.5em 0.4em;box-sizing: border-box;padding-bottom: 0.4em;background-color: white;}#sk-container-id-5 div.sk-label label {font-family: monospace;font-weight: bold;display: inline-block;line-height: 1.2em;}#sk-container-id-5 div.sk-label-container {text-align: center;}#sk-container-id-5 div.sk-container {/* jupyter's `normalize.less` sets `[hidden] { display: none; }` but bootstrap.min.css set `[hidden] { display: none !important; }` so we also need the `!important` here to be able to override the default hidden behavior on the sphinx rendered scikit-learn.org. See: https://github.com/scikit-learn/scikit-learn/issues/21755 */display: inline-block !important;position: relative;}#sk-container-id-5 div.sk-text-repr-fallback {display: none;}</style><div id=\"sk-container-id-5\" class=\"sk-top-container\"><div class=\"sk-text-repr-fallback\"><pre>IsolationForest(n_jobs=4, random_state=0)</pre><b>In a Jupyter environment, please rerun this cell to show the HTML representation or trust the notebook. <br />On GitHub, the HTML representation is unable to render, please try loading this page with nbviewer.org.</b></div><div class=\"sk-container\" hidden><div class=\"sk-item\"><div class=\"sk-estimator sk-toggleable\"><input class=\"sk-toggleable__control sk-hidden--visually\" id=\"sk-estimator-id-5\" type=\"checkbox\" checked><label for=\"sk-estimator-id-5\" class=\"sk-toggleable__label sk-toggleable__label-arrow\">IsolationForest</label><div class=\"sk-toggleable__content\"><pre>IsolationForest(n_jobs=4, random_state=0)</pre></div></div></div></div></div>"
      ],
      "text/plain": [
       "IsolationForest(n_jobs=4, random_state=0)"
      ]
     },
     "execution_count": 52,
     "metadata": {},
     "output_type": "execute_result"
    }
   ],
   "source": [
    "from sklearn.ensemble import IsolationForest\n",
    "\n",
    "model = IsolationForest(n_jobs=4, random_state=0)\n",
    "model.fit(df[features])"
   ]
  },
  {
   "cell_type": "code",
   "execution_count": 42,
   "id": "60aefe91",
   "metadata": {
    "ExecuteTime": {
     "end_time": "2023-10-04T17:40:53.099563Z",
     "start_time": "2023-10-04T17:40:52.224419Z"
    }
   },
   "outputs": [],
   "source": [
    "anomaly_score = model.decision_function(df[features])"
   ]
  },
  {
   "cell_type": "markdown",
   "id": "84762ef9",
   "metadata": {},
   "source": [
    "For each observation, tells whether or not (+1 or -1) it should be considered as an inlier according to the fitted model."
   ]
  },
  {
   "cell_type": "code",
   "execution_count": 43,
   "id": "13265db7",
   "metadata": {
    "ExecuteTime": {
     "end_time": "2023-10-04T17:40:53.937390Z",
     "start_time": "2023-10-04T17:40:53.101315Z"
    }
   },
   "outputs": [],
   "source": [
    "anomaly_decision = model.predict(df[features])"
   ]
  },
  {
   "cell_type": "code",
   "execution_count": 44,
   "id": "4b4662f5",
   "metadata": {
    "ExecuteTime": {
     "end_time": "2023-10-04T17:40:53.943249Z",
     "start_time": "2023-10-04T17:40:53.938861Z"
    }
   },
   "outputs": [
    {
     "data": {
      "text/plain": [
       "array([ 0.13667704,  0.15205647,  0.08577238, ..., -0.11126125,\n",
       "        0.09997113, -0.16330609])"
      ]
     },
     "execution_count": 44,
     "metadata": {},
     "output_type": "execute_result"
    }
   ],
   "source": [
    "anomaly_score"
   ]
  },
  {
   "cell_type": "code",
   "execution_count": 45,
   "id": "b719e4fd",
   "metadata": {
    "ExecuteTime": {
     "end_time": "2023-10-04T17:40:53.950178Z",
     "start_time": "2023-10-04T17:40:53.945528Z"
    }
   },
   "outputs": [
    {
     "data": {
      "text/plain": [
       "array([ 1,  1,  1, ..., -1,  1, -1])"
      ]
     },
     "execution_count": 45,
     "metadata": {},
     "output_type": "execute_result"
    }
   ],
   "source": [
    "anomaly_decision"
   ]
  },
  {
   "cell_type": "code",
   "execution_count": 46,
   "id": "28f6587f",
   "metadata": {
    "ExecuteTime": {
     "end_time": "2023-10-04T17:40:54.517473Z",
     "start_time": "2023-10-04T17:40:54.505930Z"
    }
   },
   "outputs": [],
   "source": [
    "df['anomaly_score'] = anomaly_score\n",
    "df['anomaly_decision'] = anomaly_decision"
   ]
  },
  {
   "cell_type": "code",
   "execution_count": 47,
   "id": "028dfb3f",
   "metadata": {
    "ExecuteTime": {
     "end_time": "2023-10-04T17:40:55.261823Z",
     "start_time": "2023-10-04T17:40:55.192224Z"
    }
   },
   "outputs": [
    {
     "data": {
      "text/html": [
       "<div>\n",
       "<style scoped>\n",
       "    .dataframe tbody tr th:only-of-type {\n",
       "        vertical-align: middle;\n",
       "    }\n",
       "\n",
       "    .dataframe tbody tr th {\n",
       "        vertical-align: top;\n",
       "    }\n",
       "\n",
       "    .dataframe thead th {\n",
       "        text-align: right;\n",
       "    }\n",
       "</style>\n",
       "<table border=\"1\" class=\"dataframe\">\n",
       "  <thead>\n",
       "    <tr style=\"text-align: right;\">\n",
       "      <th></th>\n",
       "      <th>V1</th>\n",
       "      <th>V2</th>\n",
       "      <th>V3</th>\n",
       "      <th>V4</th>\n",
       "      <th>V5</th>\n",
       "      <th>V6</th>\n",
       "      <th>V7</th>\n",
       "      <th>V8</th>\n",
       "      <th>V9</th>\n",
       "      <th>V10</th>\n",
       "      <th>...</th>\n",
       "      <th>V23</th>\n",
       "      <th>V24</th>\n",
       "      <th>V25</th>\n",
       "      <th>V26</th>\n",
       "      <th>V27</th>\n",
       "      <th>V28</th>\n",
       "      <th>Amount</th>\n",
       "      <th>Class</th>\n",
       "      <th>anomaly_score</th>\n",
       "      <th>anomaly_decision</th>\n",
       "    </tr>\n",
       "  </thead>\n",
       "  <tbody>\n",
       "    <tr>\n",
       "      <th>26672</th>\n",
       "      <td>1.922704</td>\n",
       "      <td>-0.189449</td>\n",
       "      <td>-0.853484</td>\n",
       "      <td>0.631061</td>\n",
       "      <td>-0.655126</td>\n",
       "      <td>-1.769673</td>\n",
       "      <td>0.204265</td>\n",
       "      <td>-0.298528</td>\n",
       "      <td>0.842122</td>\n",
       "      <td>-0.032188</td>\n",
       "      <td>...</td>\n",
       "      <td>0.418435</td>\n",
       "      <td>0.782394</td>\n",
       "      <td>-0.352520</td>\n",
       "      <td>-0.653211</td>\n",
       "      <td>-0.028091</td>\n",
       "      <td>-0.039004</td>\n",
       "      <td>34.15</td>\n",
       "      <td>0</td>\n",
       "      <td>0.138526</td>\n",
       "      <td>1</td>\n",
       "    </tr>\n",
       "    <tr>\n",
       "      <th>24299</th>\n",
       "      <td>-1.252910</td>\n",
       "      <td>1.438792</td>\n",
       "      <td>1.176722</td>\n",
       "      <td>2.986154</td>\n",
       "      <td>0.064634</td>\n",
       "      <td>0.384194</td>\n",
       "      <td>2.364079</td>\n",
       "      <td>-0.613115</td>\n",
       "      <td>-2.181216</td>\n",
       "      <td>1.487265</td>\n",
       "      <td>...</td>\n",
       "      <td>-0.135462</td>\n",
       "      <td>0.541304</td>\n",
       "      <td>-0.000075</td>\n",
       "      <td>-0.096486</td>\n",
       "      <td>-0.476921</td>\n",
       "      <td>-0.065900</td>\n",
       "      <td>226.75</td>\n",
       "      <td>0</td>\n",
       "      <td>0.088423</td>\n",
       "      <td>1</td>\n",
       "    </tr>\n",
       "    <tr>\n",
       "      <th>19006</th>\n",
       "      <td>-3.488118</td>\n",
       "      <td>-4.592867</td>\n",
       "      <td>-2.684845</td>\n",
       "      <td>-1.419319</td>\n",
       "      <td>3.195679</td>\n",
       "      <td>-3.474672</td>\n",
       "      <td>-0.406575</td>\n",
       "      <td>-0.340190</td>\n",
       "      <td>-1.098680</td>\n",
       "      <td>0.638975</td>\n",
       "      <td>...</td>\n",
       "      <td>-1.291204</td>\n",
       "      <td>-0.157456</td>\n",
       "      <td>-1.743794</td>\n",
       "      <td>1.038736</td>\n",
       "      <td>0.494541</td>\n",
       "      <td>-1.086781</td>\n",
       "      <td>137.31</td>\n",
       "      <td>0</td>\n",
       "      <td>-0.019791</td>\n",
       "      <td>-1</td>\n",
       "    </tr>\n",
       "    <tr>\n",
       "      <th>28737</th>\n",
       "      <td>-0.403178</td>\n",
       "      <td>1.086467</td>\n",
       "      <td>1.395406</td>\n",
       "      <td>-0.005039</td>\n",
       "      <td>-0.022363</td>\n",
       "      <td>-0.760986</td>\n",
       "      <td>0.643318</td>\n",
       "      <td>0.051909</td>\n",
       "      <td>-0.689086</td>\n",
       "      <td>-0.351603</td>\n",
       "      <td>...</td>\n",
       "      <td>0.007664</td>\n",
       "      <td>0.486945</td>\n",
       "      <td>-0.211999</td>\n",
       "      <td>0.041238</td>\n",
       "      <td>0.241247</td>\n",
       "      <td>0.090702</td>\n",
       "      <td>8.43</td>\n",
       "      <td>0</td>\n",
       "      <td>0.147339</td>\n",
       "      <td>1</td>\n",
       "    </tr>\n",
       "    <tr>\n",
       "      <th>26255</th>\n",
       "      <td>-0.995384</td>\n",
       "      <td>1.821862</td>\n",
       "      <td>1.136446</td>\n",
       "      <td>0.089549</td>\n",
       "      <td>0.001805</td>\n",
       "      <td>-0.966488</td>\n",
       "      <td>0.633903</td>\n",
       "      <td>-0.153002</td>\n",
       "      <td>1.375098</td>\n",
       "      <td>0.023533</td>\n",
       "      <td>...</td>\n",
       "      <td>0.022653</td>\n",
       "      <td>0.276134</td>\n",
       "      <td>-0.011349</td>\n",
       "      <td>0.044943</td>\n",
       "      <td>0.537790</td>\n",
       "      <td>0.275462</td>\n",
       "      <td>3.57</td>\n",
       "      <td>0</td>\n",
       "      <td>0.106595</td>\n",
       "      <td>1</td>\n",
       "    </tr>\n",
       "  </tbody>\n",
       "</table>\n",
       "<p>5 rows × 32 columns</p>\n",
       "</div>"
      ],
      "text/plain": [
       "             V1        V2        V3        V4        V5        V6        V7  \\\n",
       "26672  1.922704 -0.189449 -0.853484  0.631061 -0.655126 -1.769673  0.204265   \n",
       "24299 -1.252910  1.438792  1.176722  2.986154  0.064634  0.384194  2.364079   \n",
       "19006 -3.488118 -4.592867 -2.684845 -1.419319  3.195679 -3.474672 -0.406575   \n",
       "28737 -0.403178  1.086467  1.395406 -0.005039 -0.022363 -0.760986  0.643318   \n",
       "26255 -0.995384  1.821862  1.136446  0.089549  0.001805 -0.966488  0.633903   \n",
       "\n",
       "             V8        V9       V10  ...       V23       V24       V25  \\\n",
       "26672 -0.298528  0.842122 -0.032188  ...  0.418435  0.782394 -0.352520   \n",
       "24299 -0.613115 -2.181216  1.487265  ... -0.135462  0.541304 -0.000075   \n",
       "19006 -0.340190 -1.098680  0.638975  ... -1.291204 -0.157456 -1.743794   \n",
       "28737  0.051909 -0.689086 -0.351603  ...  0.007664  0.486945 -0.211999   \n",
       "26255 -0.153002  1.375098  0.023533  ...  0.022653  0.276134 -0.011349   \n",
       "\n",
       "            V26       V27       V28  Amount  Class  anomaly_score  \\\n",
       "26672 -0.653211 -0.028091 -0.039004   34.15      0       0.138526   \n",
       "24299 -0.096486 -0.476921 -0.065900  226.75      0       0.088423   \n",
       "19006  1.038736  0.494541 -1.086781  137.31      0      -0.019791   \n",
       "28737  0.041238  0.241247  0.090702    8.43      0       0.147339   \n",
       "26255  0.044943  0.537790  0.275462    3.57      0       0.106595   \n",
       "\n",
       "       anomaly_decision  \n",
       "26672                 1  \n",
       "24299                 1  \n",
       "19006                -1  \n",
       "28737                 1  \n",
       "26255                 1  \n",
       "\n",
       "[5 rows x 32 columns]"
      ]
     },
     "execution_count": 47,
     "metadata": {},
     "output_type": "execute_result"
    }
   ],
   "source": [
    "df.sample(5)"
   ]
  },
  {
   "cell_type": "code",
   "execution_count": 48,
   "id": "fb57a219",
   "metadata": {
    "ExecuteTime": {
     "end_time": "2023-10-04T17:40:55.861071Z",
     "start_time": "2023-10-04T17:40:55.841797Z"
    }
   },
   "outputs": [
    {
     "data": {
      "text/plain": [
       " 1    29235\n",
       "-1      965\n",
       "Name: anomaly_decision, dtype: int64"
      ]
     },
     "execution_count": 48,
     "metadata": {},
     "output_type": "execute_result"
    }
   ],
   "source": [
    "df.anomaly_decision.value_counts()"
   ]
  },
  {
   "cell_type": "code",
   "execution_count": 49,
   "id": "9e4cc13a",
   "metadata": {
    "ExecuteTime": {
     "end_time": "2023-10-04T17:40:57.081008Z",
     "start_time": "2023-10-04T17:40:57.064077Z"
    }
   },
   "outputs": [
    {
     "data": {
      "text/plain": [
       "Class  anomaly_decision\n",
       "0      -1                    808\n",
       "        1                  29192\n",
       "1      -1                    157\n",
       "        1                     43\n",
       "Name: anomaly_decision, dtype: int64"
      ]
     },
     "execution_count": 49,
     "metadata": {},
     "output_type": "execute_result"
    }
   ],
   "source": [
    "df.groupby(['Class', 'anomaly_decision']).anomaly_decision.count()"
   ]
  },
  {
   "cell_type": "markdown",
   "id": "56356c46",
   "metadata": {
    "ExecuteTime": {
     "end_time": "2023-10-04T17:33:31.306445Z",
     "start_time": "2023-10-04T17:33:31.300974Z"
    }
   },
   "source": [
    "- 1 -> INLIER\n",
    "- -1 -> OUTLIER"
   ]
  },
  {
   "cell_type": "markdown",
   "id": "20df9f5b",
   "metadata": {},
   "source": [
    "- https://encrypted-tbn0.gstatic.com/images?q=tbn:ANd9GcSEt6826gASSDQeGe6Cigne1tb-dG2dhtexNEGGHvIgCRFOrCfyhLnlckmFUaQyHGEQc7s&usqp=CAU\n",
    "- https://encrypted-tbn0.gstatic.com/images?q=tbn:ANd9GcS9gjmzagy-xDWVok6HmlOFJBM4xZ3NxvqIKPR3njG-m2x11i3RzC2XAeok-jbrcimWXB8&usqp=CAU"
   ]
  },
  {
   "cell_type": "markdown",
   "id": "e9c737e0",
   "metadata": {},
   "source": [
    "https://miro.medium.com/v2/resize:fit:720/format:webp/1*03a4ae510dhKV6pVnqyXzA.png"
   ]
  }
 ],
 "metadata": {
  "kernelspec": {
   "display_name": "Python 3 (ipykernel)",
   "language": "python",
   "name": "python3"
  },
  "language_info": {
   "codemirror_mode": {
    "name": "ipython",
    "version": 3
   },
   "file_extension": ".py",
   "mimetype": "text/x-python",
   "name": "python",
   "nbconvert_exporter": "python",
   "pygments_lexer": "ipython3",
   "version": "3.9.13"
  },
  "toc": {
   "base_numbering": 1,
   "nav_menu": {},
   "number_sections": true,
   "sideBar": true,
   "skip_h1_title": false,
   "title_cell": "Table of Contents",
   "title_sidebar": "Contents",
   "toc_cell": false,
   "toc_position": {},
   "toc_section_display": true,
   "toc_window_display": false
  }
 },
 "nbformat": 4,
 "nbformat_minor": 5
}
