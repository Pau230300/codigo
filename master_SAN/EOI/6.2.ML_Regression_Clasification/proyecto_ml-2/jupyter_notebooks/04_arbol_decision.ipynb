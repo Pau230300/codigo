{
 "cells": [
  {
   "cell_type": "code",
   "execution_count": 6,
   "id": "96b118b2",
   "metadata": {
    "ExecuteTime": {
     "end_time": "2023-09-28T16:05:37.017648Z",
     "start_time": "2023-09-28T16:05:37.010000Z"
    }
   },
   "outputs": [],
   "source": [
    "v1 = 10\n",
    "v5 = 3\n",
    "v2 = 100\n",
    "v4 = 200\n",
    "v3 = 500\n",
    "\n",
    "\n",
    "def compute_prediction(x1, x2):\n",
    "    journey = [\"A\"]\n",
    "    if x1 < v1:\n",
    "        journey.append(\"F\")\n",
    "        if x2 < v2:\n",
    "            return journey + [True]\n",
    "        else:\n",
    "            journey.append(\"D\")\n",
    "            if x2 < v4:\n",
    "                return journey + [False]\n",
    "            else:\n",
    "                journey.append(\"H\")\n",
    "                if x1 < v5:\n",
    "                    return journey + [True]\n",
    "                else:\n",
    "                    return journey + [False]\n",
    "    else:\n",
    "        journey.append(\"C\")\n",
    "        if x2 < v3:\n",
    "            return journey + [True]\n",
    "        else:\n",
    "            return journey + [False]"
   ]
  },
  {
   "cell_type": "code",
   "execution_count": 7,
   "id": "3dbf3cb7",
   "metadata": {
    "ExecuteTime": {
     "end_time": "2023-09-28T16:05:37.705528Z",
     "start_time": "2023-09-28T16:05:37.701071Z"
    }
   },
   "outputs": [
    {
     "data": {
      "text/plain": [
       "['A', 'C', True]"
      ]
     },
     "execution_count": 7,
     "metadata": {},
     "output_type": "execute_result"
    }
   ],
   "source": [
    "compute_prediction(x1=20, x2=150)"
   ]
  },
  {
   "cell_type": "code",
   "execution_count": 8,
   "id": "a4f08ea4",
   "metadata": {
    "ExecuteTime": {
     "end_time": "2023-09-28T16:05:37.856175Z",
     "start_time": "2023-09-28T16:05:37.850872Z"
    }
   },
   "outputs": [
    {
     "data": {
      "text/plain": [
       "['A', 'F', 'D', False]"
      ]
     },
     "execution_count": 8,
     "metadata": {},
     "output_type": "execute_result"
    }
   ],
   "source": [
    "compute_prediction(x1=-100, x2=170)"
   ]
  },
  {
   "cell_type": "code",
   "execution_count": 9,
   "id": "54c61817",
   "metadata": {
    "ExecuteTime": {
     "end_time": "2023-09-28T16:05:38.072581Z",
     "start_time": "2023-09-28T16:05:38.067866Z"
    }
   },
   "outputs": [
    {
     "data": {
      "text/plain": [
       "32"
      ]
     },
     "execution_count": 9,
     "metadata": {},
     "output_type": "execute_result"
    }
   ],
   "source": [
    "2 ** 5\n"
   ]
  },
  {
   "cell_type": "code",
   "execution_count": 10,
   "id": "41a15718",
   "metadata": {
    "ExecuteTime": {
     "end_time": "2023-09-28T16:05:39.190234Z",
     "start_time": "2023-09-28T16:05:39.185679Z"
    }
   },
   "outputs": [
    {
     "data": {
      "text/plain": [
       "1024"
      ]
     },
     "execution_count": 10,
     "metadata": {},
     "output_type": "execute_result"
    }
   ],
   "source": [
    "2 ** 10"
   ]
  },
  {
   "cell_type": "code",
   "execution_count": 11,
   "id": "e1276850",
   "metadata": {
    "ExecuteTime": {
     "end_time": "2023-09-28T16:41:35.039627Z",
     "start_time": "2023-09-28T16:41:35.035966Z"
    }
   },
   "outputs": [
    {
     "data": {
      "text/plain": [
       "490.0"
      ]
     },
     "execution_count": 11,
     "metadata": {},
     "output_type": "execute_result"
    }
   ],
   "source": [
    "500 * 0.98"
   ]
  },
  {
   "cell_type": "code",
   "execution_count": 12,
   "id": "40357d56",
   "metadata": {
    "ExecuteTime": {
     "end_time": "2023-09-28T16:42:20.643641Z",
     "start_time": "2023-09-28T16:42:20.637959Z"
    }
   },
   "outputs": [
    {
     "data": {
      "text/plain": [
       "490"
      ]
     },
     "execution_count": 12,
     "metadata": {},
     "output_type": "execute_result"
    }
   ],
   "source": [
    "490"
   ]
  },
  {
   "cell_type": "code",
   "execution_count": 13,
   "id": "89999dc1",
   "metadata": {
    "ExecuteTime": {
     "end_time": "2023-09-28T16:42:22.735458Z",
     "start_time": "2023-09-28T16:42:22.731258Z"
    }
   },
   "outputs": [
    {
     "data": {
      "text/plain": [
       "10"
      ]
     },
     "execution_count": 13,
     "metadata": {},
     "output_type": "execute_result"
    }
   ],
   "source": [
    "10"
   ]
  }
 ],
 "metadata": {
  "kernelspec": {
   "display_name": "Python 3 (ipykernel)",
   "language": "python",
   "name": "python3"
  },
  "language_info": {
   "codemirror_mode": {
    "name": "ipython",
    "version": 3
   },
   "file_extension": ".py",
   "mimetype": "text/x-python",
   "name": "python",
   "nbconvert_exporter": "python",
   "pygments_lexer": "ipython3",
   "version": "3.9.13"
  },
  "toc": {
   "base_numbering": 1,
   "nav_menu": {},
   "number_sections": true,
   "sideBar": true,
   "skip_h1_title": false,
   "title_cell": "Table of Contents",
   "title_sidebar": "Contents",
   "toc_cell": false,
   "toc_position": {},
   "toc_section_display": true,
   "toc_window_display": false
  }
 },
 "nbformat": 4,
 "nbformat_minor": 5
}
