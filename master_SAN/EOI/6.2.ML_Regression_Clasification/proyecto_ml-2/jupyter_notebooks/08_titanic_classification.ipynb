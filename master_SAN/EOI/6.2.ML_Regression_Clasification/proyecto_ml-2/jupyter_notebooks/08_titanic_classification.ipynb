{
 "cells": [
  {
   "cell_type": "code",
   "execution_count": 32,
   "id": "b3e3ce7f",
   "metadata": {
    "ExecuteTime": {
     "end_time": "2023-10-03T14:19:06.049449Z",
     "start_time": "2023-10-03T14:19:06.029538Z"
    }
   },
   "outputs": [
    {
     "data": {
      "text/plain": [
       "(891, 15)"
      ]
     },
     "execution_count": 32,
     "metadata": {},
     "output_type": "execute_result"
    }
   ],
   "source": [
    "import pandas as pd\n",
    "import matplotlib.pyplot as plt\n",
    "import numpy as np\n",
    "\n",
    "\n",
    "df = pd.read_csv('titanic.csv')\n",
    "df.shape"
   ]
  },
  {
   "cell_type": "code",
   "execution_count": 33,
   "id": "a93f279b",
   "metadata": {
    "ExecuteTime": {
     "end_time": "2023-10-03T14:19:06.477416Z",
     "start_time": "2023-10-03T14:19:06.440846Z"
    }
   },
   "outputs": [
    {
     "data": {
      "text/html": [
       "<div>\n",
       "<style scoped>\n",
       "    .dataframe tbody tr th:only-of-type {\n",
       "        vertical-align: middle;\n",
       "    }\n",
       "\n",
       "    .dataframe tbody tr th {\n",
       "        vertical-align: top;\n",
       "    }\n",
       "\n",
       "    .dataframe thead th {\n",
       "        text-align: right;\n",
       "    }\n",
       "</style>\n",
       "<table border=\"1\" class=\"dataframe\">\n",
       "  <thead>\n",
       "    <tr style=\"text-align: right;\">\n",
       "      <th></th>\n",
       "      <th>survived</th>\n",
       "      <th>pclass</th>\n",
       "      <th>sex</th>\n",
       "      <th>age</th>\n",
       "      <th>sibsp</th>\n",
       "      <th>parch</th>\n",
       "      <th>fare</th>\n",
       "      <th>embarked</th>\n",
       "      <th>class</th>\n",
       "      <th>who</th>\n",
       "      <th>adult_male</th>\n",
       "      <th>deck</th>\n",
       "      <th>embark_town</th>\n",
       "      <th>alive</th>\n",
       "      <th>alone</th>\n",
       "    </tr>\n",
       "  </thead>\n",
       "  <tbody>\n",
       "    <tr>\n",
       "      <th>112</th>\n",
       "      <td>0</td>\n",
       "      <td>3</td>\n",
       "      <td>male</td>\n",
       "      <td>22.0</td>\n",
       "      <td>0</td>\n",
       "      <td>0</td>\n",
       "      <td>8.050</td>\n",
       "      <td>S</td>\n",
       "      <td>Third</td>\n",
       "      <td>man</td>\n",
       "      <td>True</td>\n",
       "      <td>NaN</td>\n",
       "      <td>Southampton</td>\n",
       "      <td>no</td>\n",
       "      <td>True</td>\n",
       "    </tr>\n",
       "    <tr>\n",
       "      <th>297</th>\n",
       "      <td>0</td>\n",
       "      <td>1</td>\n",
       "      <td>female</td>\n",
       "      <td>2.0</td>\n",
       "      <td>1</td>\n",
       "      <td>2</td>\n",
       "      <td>151.550</td>\n",
       "      <td>S</td>\n",
       "      <td>First</td>\n",
       "      <td>child</td>\n",
       "      <td>False</td>\n",
       "      <td>C</td>\n",
       "      <td>Southampton</td>\n",
       "      <td>no</td>\n",
       "      <td>False</td>\n",
       "    </tr>\n",
       "    <tr>\n",
       "      <th>427</th>\n",
       "      <td>1</td>\n",
       "      <td>2</td>\n",
       "      <td>female</td>\n",
       "      <td>19.0</td>\n",
       "      <td>0</td>\n",
       "      <td>0</td>\n",
       "      <td>26.000</td>\n",
       "      <td>S</td>\n",
       "      <td>Second</td>\n",
       "      <td>woman</td>\n",
       "      <td>False</td>\n",
       "      <td>NaN</td>\n",
       "      <td>Southampton</td>\n",
       "      <td>yes</td>\n",
       "      <td>True</td>\n",
       "    </tr>\n",
       "    <tr>\n",
       "      <th>392</th>\n",
       "      <td>0</td>\n",
       "      <td>3</td>\n",
       "      <td>male</td>\n",
       "      <td>28.0</td>\n",
       "      <td>2</td>\n",
       "      <td>0</td>\n",
       "      <td>7.925</td>\n",
       "      <td>S</td>\n",
       "      <td>Third</td>\n",
       "      <td>man</td>\n",
       "      <td>True</td>\n",
       "      <td>NaN</td>\n",
       "      <td>Southampton</td>\n",
       "      <td>no</td>\n",
       "      <td>False</td>\n",
       "    </tr>\n",
       "    <tr>\n",
       "      <th>565</th>\n",
       "      <td>0</td>\n",
       "      <td>3</td>\n",
       "      <td>male</td>\n",
       "      <td>24.0</td>\n",
       "      <td>2</td>\n",
       "      <td>0</td>\n",
       "      <td>24.150</td>\n",
       "      <td>S</td>\n",
       "      <td>Third</td>\n",
       "      <td>man</td>\n",
       "      <td>True</td>\n",
       "      <td>NaN</td>\n",
       "      <td>Southampton</td>\n",
       "      <td>no</td>\n",
       "      <td>False</td>\n",
       "    </tr>\n",
       "  </tbody>\n",
       "</table>\n",
       "</div>"
      ],
      "text/plain": [
       "     survived  pclass     sex   age  sibsp  parch     fare embarked   class  \\\n",
       "112         0       3    male  22.0      0      0    8.050        S   Third   \n",
       "297         0       1  female   2.0      1      2  151.550        S   First   \n",
       "427         1       2  female  19.0      0      0   26.000        S  Second   \n",
       "392         0       3    male  28.0      2      0    7.925        S   Third   \n",
       "565         0       3    male  24.0      2      0   24.150        S   Third   \n",
       "\n",
       "       who  adult_male deck  embark_town alive  alone  \n",
       "112    man        True  NaN  Southampton    no   True  \n",
       "297  child       False    C  Southampton    no  False  \n",
       "427  woman       False  NaN  Southampton   yes   True  \n",
       "392    man        True  NaN  Southampton    no  False  \n",
       "565    man        True  NaN  Southampton    no  False  "
      ]
     },
     "execution_count": 33,
     "metadata": {},
     "output_type": "execute_result"
    }
   ],
   "source": [
    "df.sample(5)"
   ]
  },
  {
   "cell_type": "markdown",
   "id": "ac56d52d",
   "metadata": {},
   "source": [
    "# EDA"
   ]
  },
  {
   "cell_type": "code",
   "execution_count": 46,
   "id": "9f8888ec",
   "metadata": {
    "ExecuteTime": {
     "end_time": "2023-10-03T14:27:42.239508Z",
     "start_time": "2023-10-03T14:27:42.220208Z"
    }
   },
   "outputs": [
    {
     "data": {
      "text/plain": [
       "survived         0\n",
       "pclass           0\n",
       "sex              0\n",
       "age            177\n",
       "sibsp            0\n",
       "parch            0\n",
       "fare             0\n",
       "embarked         2\n",
       "class            0\n",
       "who              0\n",
       "adult_male       0\n",
       "deck           688\n",
       "embark_town      2\n",
       "alive            0\n",
       "alone            0\n",
       "dtype: int64"
      ]
     },
     "execution_count": 46,
     "metadata": {},
     "output_type": "execute_result"
    }
   ],
   "source": [
    "df.isnull().sum()"
   ]
  },
  {
   "cell_type": "code",
   "execution_count": 34,
   "id": "fb880745",
   "metadata": {
    "ExecuteTime": {
     "end_time": "2023-10-03T14:19:07.524562Z",
     "start_time": "2023-10-03T14:19:07.508612Z"
    }
   },
   "outputs": [
    {
     "data": {
      "text/plain": [
       "0.3838383838383838"
      ]
     },
     "execution_count": 34,
     "metadata": {},
     "output_type": "execute_result"
    }
   ],
   "source": [
    "survived_mean = df.survived.mean()\n",
    "survived_mean"
   ]
  },
  {
   "cell_type": "code",
   "execution_count": 35,
   "id": "bd5e5096",
   "metadata": {
    "ExecuteTime": {
     "end_time": "2023-10-03T14:19:08.123756Z",
     "start_time": "2023-10-03T14:19:07.913710Z"
    }
   },
   "outputs": [
    {
     "data": {
      "image/png": "[encoded data removed]",
      "text/plain": [
       "<Figure size 640x480 with 1 Axes>"
      ]
     },
     "metadata": {},
     "output_type": "display_data"
    }
   ],
   "source": [
    "df.groupby('sex').survived.mean().sort_values().plot.bar(ylim=(0, 1));\n",
    "plt.axhline(survived_mean, c='r');\n",
    "plt.yticks(np.linspace(0, 1, 11))\n",
    "plt.grid()"
   ]
  },
  {
   "cell_type": "code",
   "execution_count": 37,
   "id": "0370c94a",
   "metadata": {
    "ExecuteTime": {
     "end_time": "2023-10-03T14:19:53.062647Z",
     "start_time": "2023-10-03T14:19:52.892874Z"
    }
   },
   "outputs": [
    {
     "data": {
      "image/png": "[encoded data removed]",
      "text/plain": [
       "<Figure size 640x480 with 1 Axes>"
      ]
     },
     "metadata": {},
     "output_type": "display_data"
    }
   ],
   "source": [
    "df.groupby(['who', 'sex']).survived.mean().sort_values().plot.bar(ylim=(0, 1));\n",
    "plt.axhline(survived_mean, c='r');\n",
    "plt.yticks(np.linspace(0, 1, 11))\n",
    "plt.grid()"
   ]
  },
  {
   "cell_type": "code",
   "execution_count": 38,
   "id": "940eda9f",
   "metadata": {
    "ExecuteTime": {
     "end_time": "2023-10-03T14:21:39.522235Z",
     "start_time": "2023-10-03T14:21:39.380017Z"
    }
   },
   "outputs": [
    {
     "data": {
      "image/png": "[encoded data removed]",
      "text/plain": [
       "<Figure size 640x480 with 1 Axes>"
      ]
     },
     "metadata": {},
     "output_type": "display_data"
    }
   ],
   "source": [
    "df.groupby('class').survived.mean().sort_values().plot.bar(ylim=(0, 1));\n",
    "plt.axhline(survived_mean, c='r');\n",
    "plt.yticks(np.linspace(0, 1, 11))\n",
    "plt.grid()"
   ]
  },
  {
   "cell_type": "code",
   "execution_count": 42,
   "id": "3f54853e",
   "metadata": {
    "ExecuteTime": {
     "end_time": "2023-10-03T14:24:40.072910Z",
     "start_time": "2023-10-03T14:24:39.916675Z"
    }
   },
   "outputs": [
    {
     "data": {
      "image/png": "[encoded data removed]",
      "text/plain": [
       "<Figure size 640x480 with 1 Axes>"
      ]
     },
     "metadata": {},
     "output_type": "display_data"
    }
   ],
   "source": [
    "df.groupby('embark_town').survived.mean().sort_values().plot.bar(ylim=(0, 1));\n",
    "plt.axhline(survived_mean, c='r');\n",
    "plt.yticks(np.linspace(0, 1, 11))\n",
    "plt.grid()"
   ]
  },
  {
   "cell_type": "code",
   "execution_count": 40,
   "id": "19a45656",
   "metadata": {
    "ExecuteTime": {
     "end_time": "2023-10-03T14:23:30.157408Z",
     "start_time": "2023-10-03T14:23:30.129104Z"
    }
   },
   "outputs": [
    {
     "data": {
      "text/plain": [
       "0       (19.0, 25.0]\n",
       "1       (31.8, 41.0]\n",
       "2       (25.0, 31.8]\n",
       "3       (31.8, 41.0]\n",
       "4       (31.8, 41.0]\n",
       "           ...      \n",
       "886     (25.0, 31.8]\n",
       "887    (0.419, 19.0]\n",
       "888              NaN\n",
       "889     (25.0, 31.8]\n",
       "890     (31.8, 41.0]\n",
       "Name: age, Length: 891, dtype: category\n",
       "Categories (5, interval[float64, right]): [(0.419, 19.0] < (19.0, 25.0] < (25.0, 31.8] < (31.8, 41.0] < (41.0, 80.0]]"
      ]
     },
     "execution_count": 40,
     "metadata": {},
     "output_type": "execute_result"
    }
   ],
   "source": [
    "pd.qcut(df.age, 5)"
   ]
  },
  {
   "cell_type": "code",
   "execution_count": 45,
   "id": "23cc309a",
   "metadata": {
    "ExecuteTime": {
     "end_time": "2023-10-03T14:26:13.063907Z",
     "start_time": "2023-10-03T14:26:12.890845Z"
    }
   },
   "outputs": [
    {
     "data": {
      "image/png": "[encoded data removed]",
      "text/plain": [
       "<Figure size 640x480 with 1 Axes>"
      ]
     },
     "metadata": {},
     "output_type": "display_data"
    }
   ],
   "source": [
    "df.loc[df.age.notnull()].groupby(pd.qcut(df.age, 5)).survived.mean().sort_index().plot.bar(ylim=(0, 1));\n",
    "plt.axhline(survived_mean, c='r');\n",
    "plt.yticks(np.linspace(0, 1, 11))\n",
    "plt.grid()"
   ]
  },
  {
   "cell_type": "code",
   "execution_count": 60,
   "id": "4eee2b5d",
   "metadata": {
    "ExecuteTime": {
     "end_time": "2023-10-03T14:38:40.584865Z",
     "start_time": "2023-10-03T14:38:40.558072Z"
    }
   },
   "outputs": [
    {
     "data": {
      "text/html": [
       "<div>\n",
       "<style scoped>\n",
       "    .dataframe tbody tr th:only-of-type {\n",
       "        vertical-align: middle;\n",
       "    }\n",
       "\n",
       "    .dataframe tbody tr th {\n",
       "        vertical-align: top;\n",
       "    }\n",
       "\n",
       "    .dataframe thead th {\n",
       "        text-align: right;\n",
       "    }\n",
       "</style>\n",
       "<table border=\"1\" class=\"dataframe\">\n",
       "  <thead>\n",
       "    <tr style=\"text-align: right;\">\n",
       "      <th></th>\n",
       "      <th>count</th>\n",
       "      <th>mean</th>\n",
       "    </tr>\n",
       "    <tr>\n",
       "      <th>deck</th>\n",
       "      <th></th>\n",
       "      <th></th>\n",
       "    </tr>\n",
       "  </thead>\n",
       "  <tbody>\n",
       "    <tr>\n",
       "      <th>False</th>\n",
       "      <td>688</td>\n",
       "      <td>0.299419</td>\n",
       "    </tr>\n",
       "    <tr>\n",
       "      <th>True</th>\n",
       "      <td>203</td>\n",
       "      <td>0.669951</td>\n",
       "    </tr>\n",
       "  </tbody>\n",
       "</table>\n",
       "</div>"
      ],
      "text/plain": [
       "       count      mean\n",
       "deck                  \n",
       "False    688  0.299419\n",
       "True     203  0.669951"
      ]
     },
     "execution_count": 60,
     "metadata": {},
     "output_type": "execute_result"
    }
   ],
   "source": [
    "df.groupby(df.deck.notnull()).survived.agg(['count', 'mean'])"
   ]
  },
  {
   "cell_type": "code",
   "execution_count": 61,
   "id": "58074289",
   "metadata": {
    "ExecuteTime": {
     "end_time": "2023-10-03T14:38:42.141801Z",
     "start_time": "2023-10-03T14:38:42.100282Z"
    }
   },
   "outputs": [
    {
     "data": {
      "text/html": [
       "<div>\n",
       "<style scoped>\n",
       "    .dataframe tbody tr th:only-of-type {\n",
       "        vertical-align: middle;\n",
       "    }\n",
       "\n",
       "    .dataframe tbody tr th {\n",
       "        vertical-align: top;\n",
       "    }\n",
       "\n",
       "    .dataframe thead th {\n",
       "        text-align: right;\n",
       "    }\n",
       "</style>\n",
       "<table border=\"1\" class=\"dataframe\">\n",
       "  <thead>\n",
       "    <tr style=\"text-align: right;\">\n",
       "      <th></th>\n",
       "      <th>count</th>\n",
       "      <th>mean</th>\n",
       "    </tr>\n",
       "    <tr>\n",
       "      <th>deck</th>\n",
       "      <th></th>\n",
       "      <th></th>\n",
       "    </tr>\n",
       "  </thead>\n",
       "  <tbody>\n",
       "    <tr>\n",
       "      <th>A</th>\n",
       "      <td>15</td>\n",
       "      <td>0.466667</td>\n",
       "    </tr>\n",
       "    <tr>\n",
       "      <th>B</th>\n",
       "      <td>47</td>\n",
       "      <td>0.744681</td>\n",
       "    </tr>\n",
       "    <tr>\n",
       "      <th>C</th>\n",
       "      <td>59</td>\n",
       "      <td>0.593220</td>\n",
       "    </tr>\n",
       "    <tr>\n",
       "      <th>D</th>\n",
       "      <td>33</td>\n",
       "      <td>0.757576</td>\n",
       "    </tr>\n",
       "    <tr>\n",
       "      <th>E</th>\n",
       "      <td>32</td>\n",
       "      <td>0.750000</td>\n",
       "    </tr>\n",
       "    <tr>\n",
       "      <th>F</th>\n",
       "      <td>13</td>\n",
       "      <td>0.615385</td>\n",
       "    </tr>\n",
       "    <tr>\n",
       "      <th>G</th>\n",
       "      <td>4</td>\n",
       "      <td>0.500000</td>\n",
       "    </tr>\n",
       "  </tbody>\n",
       "</table>\n",
       "</div>"
      ],
      "text/plain": [
       "      count      mean\n",
       "deck                 \n",
       "A        15  0.466667\n",
       "B        47  0.744681\n",
       "C        59  0.593220\n",
       "D        33  0.757576\n",
       "E        32  0.750000\n",
       "F        13  0.615385\n",
       "G         4  0.500000"
      ]
     },
     "execution_count": 61,
     "metadata": {},
     "output_type": "execute_result"
    }
   ],
   "source": [
    "df.groupby('deck').survived.agg(['count', 'mean']).sort_index()"
   ]
  },
  {
   "cell_type": "code",
   "execution_count": 62,
   "id": "dfc15521",
   "metadata": {
    "ExecuteTime": {
     "end_time": "2023-10-03T14:38:44.682431Z",
     "start_time": "2023-10-03T14:38:44.501212Z"
    }
   },
   "outputs": [
    {
     "data": {
      "image/png": "[encoded data removed]",
      "text/plain": [
       "<Figure size 640x480 with 1 Axes>"
      ]
     },
     "metadata": {},
     "output_type": "display_data"
    }
   ],
   "source": [
    "df.groupby('deck').survived.mean().sort_index().plot.bar();"
   ]
  },
  {
   "cell_type": "code",
   "execution_count": 63,
   "id": "ab1b7781",
   "metadata": {
    "ExecuteTime": {
     "end_time": "2023-10-03T14:38:48.779244Z",
     "start_time": "2023-10-03T14:38:48.591076Z"
    }
   },
   "outputs": [
    {
     "data": {
      "image/png": "[encoded data removed]",
      "text/plain": [
       "<Figure size 640x480 with 1 Axes>"
      ]
     },
     "metadata": {},
     "output_type": "display_data"
    }
   ],
   "source": [
    "df.loc[df.deck.notnull()].groupby('deck').survived.mean().sort_index().plot.bar(ylim=(0, 1));\n",
    "plt.axhline(survived_mean, c='r');\n",
    "plt.yticks(np.linspace(0, 1, 11))\n",
    "plt.grid()"
   ]
  },
  {
   "cell_type": "code",
   "execution_count": 69,
   "id": "95bf6e78",
   "metadata": {
    "ExecuteTime": {
     "end_time": "2023-10-03T14:40:48.728930Z",
     "start_time": "2023-10-03T14:40:48.716591Z"
    },
    "scrolled": true
   },
   "outputs": [
    {
     "data": {
      "text/plain": [
       "0     537\n",
       "1     161\n",
       "2     102\n",
       "3      29\n",
       "5      22\n",
       "4      15\n",
       "6      12\n",
       "10      7\n",
       "7       6\n",
       "dtype: int64"
      ]
     },
     "execution_count": 69,
     "metadata": {},
     "output_type": "execute_result"
    }
   ],
   "source": [
    "n_relatives = df.sibsp + df.parch\n",
    "n_relatives.value_counts()"
   ]
  },
  {
   "cell_type": "code",
   "execution_count": 70,
   "id": "bd66b5f4",
   "metadata": {
    "ExecuteTime": {
     "end_time": "2023-10-03T14:41:41.260129Z",
     "start_time": "2023-10-03T14:41:41.230598Z"
    }
   },
   "outputs": [
    {
     "data": {
      "text/html": [
       "<div>\n",
       "<style scoped>\n",
       "    .dataframe tbody tr th:only-of-type {\n",
       "        vertical-align: middle;\n",
       "    }\n",
       "\n",
       "    .dataframe tbody tr th {\n",
       "        vertical-align: top;\n",
       "    }\n",
       "\n",
       "    .dataframe thead th {\n",
       "        text-align: right;\n",
       "    }\n",
       "</style>\n",
       "<table border=\"1\" class=\"dataframe\">\n",
       "  <thead>\n",
       "    <tr style=\"text-align: right;\">\n",
       "      <th></th>\n",
       "      <th>count</th>\n",
       "      <th>mean</th>\n",
       "    </tr>\n",
       "  </thead>\n",
       "  <tbody>\n",
       "    <tr>\n",
       "      <th>0</th>\n",
       "      <td>537</td>\n",
       "      <td>0.303538</td>\n",
       "    </tr>\n",
       "    <tr>\n",
       "      <th>1</th>\n",
       "      <td>161</td>\n",
       "      <td>0.552795</td>\n",
       "    </tr>\n",
       "    <tr>\n",
       "      <th>2</th>\n",
       "      <td>102</td>\n",
       "      <td>0.578431</td>\n",
       "    </tr>\n",
       "    <tr>\n",
       "      <th>3</th>\n",
       "      <td>29</td>\n",
       "      <td>0.724138</td>\n",
       "    </tr>\n",
       "    <tr>\n",
       "      <th>4</th>\n",
       "      <td>15</td>\n",
       "      <td>0.200000</td>\n",
       "    </tr>\n",
       "    <tr>\n",
       "      <th>5</th>\n",
       "      <td>22</td>\n",
       "      <td>0.136364</td>\n",
       "    </tr>\n",
       "    <tr>\n",
       "      <th>6</th>\n",
       "      <td>12</td>\n",
       "      <td>0.333333</td>\n",
       "    </tr>\n",
       "    <tr>\n",
       "      <th>7</th>\n",
       "      <td>6</td>\n",
       "      <td>0.000000</td>\n",
       "    </tr>\n",
       "    <tr>\n",
       "      <th>10</th>\n",
       "      <td>7</td>\n",
       "      <td>0.000000</td>\n",
       "    </tr>\n",
       "  </tbody>\n",
       "</table>\n",
       "</div>"
      ],
      "text/plain": [
       "    count      mean\n",
       "0     537  0.303538\n",
       "1     161  0.552795\n",
       "2     102  0.578431\n",
       "3      29  0.724138\n",
       "4      15  0.200000\n",
       "5      22  0.136364\n",
       "6      12  0.333333\n",
       "7       6  0.000000\n",
       "10      7  0.000000"
      ]
     },
     "execution_count": 70,
     "metadata": {},
     "output_type": "execute_result"
    }
   ],
   "source": [
    "df.groupby(n_relatives).survived.agg(['count', 'mean']).sort_index()"
   ]
  },
  {
   "cell_type": "code",
   "execution_count": 73,
   "id": "26fa038e",
   "metadata": {
    "ExecuteTime": {
     "end_time": "2023-10-03T14:43:42.901896Z",
     "start_time": "2023-10-03T14:43:42.880137Z"
    }
   },
   "outputs": [
    {
     "data": {
      "text/plain": [
       "class     \n",
       "First   0     109\n",
       "        1      70\n",
       "        2      24\n",
       "        3       7\n",
       "        4       2\n",
       "        5       4\n",
       "Second  0     104\n",
       "        1      34\n",
       "        2      31\n",
       "        3      13\n",
       "        4       1\n",
       "        5       1\n",
       "Third   0     324\n",
       "        1      57\n",
       "        2      47\n",
       "        3       9\n",
       "        4      12\n",
       "        5      17\n",
       "        6      12\n",
       "        7       6\n",
       "        10      7\n",
       "Name: survived, dtype: int64"
      ]
     },
     "execution_count": 73,
     "metadata": {},
     "output_type": "execute_result"
    }
   ],
   "source": [
    "df.groupby(['class', n_relatives]).survived.count()"
   ]
  },
  {
   "cell_type": "code",
   "execution_count": 71,
   "id": "a8fdb46b",
   "metadata": {
    "ExecuteTime": {
     "end_time": "2023-10-03T14:42:21.570632Z",
     "start_time": "2023-10-03T14:42:21.332818Z"
    },
    "scrolled": false
   },
   "outputs": [
    {
     "data": {
      "image/png": "[encoded data removed]",
      "text/plain": [
       "<Figure size 640x480 with 1 Axes>"
      ]
     },
     "metadata": {},
     "output_type": "display_data"
    }
   ],
   "source": [
    "df.groupby(n_relatives).survived.mean().sort_index().plot.bar(ylim=(0, 1));\n",
    "plt.axhline(survived_mean, c='r');\n",
    "plt.yticks(np.linspace(0, 1, 11))\n",
    "plt.grid()"
   ]
  },
  {
   "cell_type": "code",
   "execution_count": 74,
   "id": "58455b31",
   "metadata": {
    "ExecuteTime": {
     "end_time": "2023-10-03T14:44:47.390312Z",
     "start_time": "2023-10-03T14:44:47.254930Z"
    }
   },
   "outputs": [
    {
     "data": {
      "image/png": "[encoded data removed]",
      "text/plain": [
       "<Figure size 640x480 with 1 Axes>"
      ]
     },
     "metadata": {},
     "output_type": "display_data"
    }
   ],
   "source": [
    "df.groupby('alone').survived.mean().sort_index().plot.bar(ylim=(0, 1));\n",
    "plt.axhline(survived_mean, c='r');\n",
    "plt.yticks(np.linspace(0, 1, 11))\n",
    "plt.grid()"
   ]
  },
  {
   "cell_type": "code",
   "execution_count": 89,
   "id": "3ccffa3f",
   "metadata": {
    "ExecuteTime": {
     "end_time": "2023-10-03T14:46:34.983825Z",
     "start_time": "2023-10-03T14:46:34.825519Z"
    }
   },
   "outputs": [
    {
     "data": {
      "image/png": "[encoded data removed]",
      "text/plain": [
       "<Figure size 640x480 with 1 Axes>"
      ]
     },
     "metadata": {},
     "output_type": "display_data"
    }
   ],
   "source": [
    "df.groupby('adult_male').survived.mean().sort_index().plot.bar(ylim=(0, 1));\n",
    "plt.axhline(survived_mean, c='r');\n",
    "plt.yticks(np.linspace(0, 1, 11))\n",
    "plt.grid()"
   ]
  },
  {
   "cell_type": "markdown",
   "id": "51bbadb2",
   "metadata": {},
   "source": [
    "# Model"
   ]
  },
  {
   "cell_type": "code",
   "execution_count": 75,
   "id": "74d4490e",
   "metadata": {
    "ExecuteTime": {
     "end_time": "2023-10-03T14:45:57.476004Z",
     "start_time": "2023-10-03T14:45:57.471348Z"
    }
   },
   "outputs": [],
   "source": [
    "features = ['class', 'age', 'sibsp', 'parch', 'adult_male', 'alone']\n",
    "features = ['class', 'adult_male']"
   ]
  },
  {
   "cell_type": "code",
   "execution_count": 76,
   "id": "27e6cc69",
   "metadata": {
    "ExecuteTime": {
     "end_time": "2023-10-03T14:45:57.957487Z",
     "start_time": "2023-10-03T14:45:57.926359Z"
    }
   },
   "outputs": [
    {
     "data": {
      "text/plain": [
       "class         0\n",
       "adult_male    0\n",
       "dtype: int64"
      ]
     },
     "execution_count": 76,
     "metadata": {},
     "output_type": "execute_result"
    }
   ],
   "source": [
    "df[features].isnull().sum()"
   ]
  },
  {
   "cell_type": "code",
   "execution_count": 77,
   "id": "a3182f17",
   "metadata": {
    "ExecuteTime": {
     "end_time": "2023-10-03T14:45:58.131172Z",
     "start_time": "2023-10-03T14:45:58.101280Z"
    }
   },
   "outputs": [
    {
     "data": {
      "text/plain": [
       "man      537\n",
       "woman    271\n",
       "child     83\n",
       "Name: who, dtype: int64"
      ]
     },
     "execution_count": 77,
     "metadata": {},
     "output_type": "execute_result"
    }
   ],
   "source": [
    "df.who.value_counts()"
   ]
  },
  {
   "cell_type": "code",
   "execution_count": 78,
   "id": "7b1f2920",
   "metadata": {
    "ExecuteTime": {
     "end_time": "2023-10-03T14:45:58.276942Z",
     "start_time": "2023-10-03T14:45:58.266872Z"
    }
   },
   "outputs": [
    {
     "data": {
      "text/plain": [
       "who    class \n",
       "child  First      0\n",
       "       Second     0\n",
       "       Third      0\n",
       "man    First     21\n",
       "       Second     9\n",
       "       Third     94\n",
       "woman  First      9\n",
       "       Second     2\n",
       "       Third     42\n",
       "Name: age, dtype: int64"
      ]
     },
     "execution_count": 78,
     "metadata": {},
     "output_type": "execute_result"
    }
   ],
   "source": [
    "df.groupby(['who', 'class']).age.agg(lambda s: s.isnull().sum())"
   ]
  },
  {
   "cell_type": "code",
   "execution_count": 79,
   "id": "8b9a52e6",
   "metadata": {
    "ExecuteTime": {
     "end_time": "2023-10-03T14:45:58.525043Z",
     "start_time": "2023-10-03T14:45:58.482024Z"
    },
    "scrolled": false
   },
   "outputs": [
    {
     "data": {
      "text/html": [
       "<div>\n",
       "<style scoped>\n",
       "    .dataframe tbody tr th:only-of-type {\n",
       "        vertical-align: middle;\n",
       "    }\n",
       "\n",
       "    .dataframe tbody tr th {\n",
       "        vertical-align: top;\n",
       "    }\n",
       "\n",
       "    .dataframe thead th {\n",
       "        text-align: right;\n",
       "    }\n",
       "</style>\n",
       "<table border=\"1\" class=\"dataframe\">\n",
       "  <thead>\n",
       "    <tr style=\"text-align: right;\">\n",
       "      <th></th>\n",
       "      <th></th>\n",
       "      <th>count</th>\n",
       "      <th>mean</th>\n",
       "      <th>std</th>\n",
       "      <th>min</th>\n",
       "      <th>25%</th>\n",
       "      <th>50%</th>\n",
       "      <th>75%</th>\n",
       "      <th>max</th>\n",
       "    </tr>\n",
       "    <tr>\n",
       "      <th>sex</th>\n",
       "      <th>class</th>\n",
       "      <th></th>\n",
       "      <th></th>\n",
       "      <th></th>\n",
       "      <th></th>\n",
       "      <th></th>\n",
       "      <th></th>\n",
       "      <th></th>\n",
       "      <th></th>\n",
       "    </tr>\n",
       "  </thead>\n",
       "  <tbody>\n",
       "    <tr>\n",
       "      <th rowspan=\"3\" valign=\"top\">female</th>\n",
       "      <th>First</th>\n",
       "      <td>85.0</td>\n",
       "      <td>34.611765</td>\n",
       "      <td>13.612052</td>\n",
       "      <td>2.00</td>\n",
       "      <td>23.000</td>\n",
       "      <td>35.0</td>\n",
       "      <td>44.00</td>\n",
       "      <td>63.0</td>\n",
       "    </tr>\n",
       "    <tr>\n",
       "      <th>Second</th>\n",
       "      <td>74.0</td>\n",
       "      <td>28.722973</td>\n",
       "      <td>12.872702</td>\n",
       "      <td>2.00</td>\n",
       "      <td>22.250</td>\n",
       "      <td>28.0</td>\n",
       "      <td>36.00</td>\n",
       "      <td>57.0</td>\n",
       "    </tr>\n",
       "    <tr>\n",
       "      <th>Third</th>\n",
       "      <td>102.0</td>\n",
       "      <td>21.750000</td>\n",
       "      <td>12.729964</td>\n",
       "      <td>0.75</td>\n",
       "      <td>14.125</td>\n",
       "      <td>21.5</td>\n",
       "      <td>29.75</td>\n",
       "      <td>63.0</td>\n",
       "    </tr>\n",
       "    <tr>\n",
       "      <th rowspan=\"3\" valign=\"top\">male</th>\n",
       "      <th>First</th>\n",
       "      <td>101.0</td>\n",
       "      <td>41.281386</td>\n",
       "      <td>15.139570</td>\n",
       "      <td>0.92</td>\n",
       "      <td>30.000</td>\n",
       "      <td>40.0</td>\n",
       "      <td>51.00</td>\n",
       "      <td>80.0</td>\n",
       "    </tr>\n",
       "    <tr>\n",
       "      <th>Second</th>\n",
       "      <td>99.0</td>\n",
       "      <td>30.740707</td>\n",
       "      <td>14.793894</td>\n",
       "      <td>0.67</td>\n",
       "      <td>23.000</td>\n",
       "      <td>30.0</td>\n",
       "      <td>36.75</td>\n",
       "      <td>70.0</td>\n",
       "    </tr>\n",
       "    <tr>\n",
       "      <th>Third</th>\n",
       "      <td>253.0</td>\n",
       "      <td>26.507589</td>\n",
       "      <td>12.159514</td>\n",
       "      <td>0.42</td>\n",
       "      <td>20.000</td>\n",
       "      <td>25.0</td>\n",
       "      <td>33.00</td>\n",
       "      <td>74.0</td>\n",
       "    </tr>\n",
       "  </tbody>\n",
       "</table>\n",
       "</div>"
      ],
      "text/plain": [
       "               count       mean        std   min     25%   50%    75%   max\n",
       "sex    class                                                               \n",
       "female First    85.0  34.611765  13.612052  2.00  23.000  35.0  44.00  63.0\n",
       "       Second   74.0  28.722973  12.872702  2.00  22.250  28.0  36.00  57.0\n",
       "       Third   102.0  21.750000  12.729964  0.75  14.125  21.5  29.75  63.0\n",
       "male   First   101.0  41.281386  15.139570  0.92  30.000  40.0  51.00  80.0\n",
       "       Second   99.0  30.740707  14.793894  0.67  23.000  30.0  36.75  70.0\n",
       "       Third   253.0  26.507589  12.159514  0.42  20.000  25.0  33.00  74.0"
      ]
     },
     "execution_count": 79,
     "metadata": {},
     "output_type": "execute_result"
    }
   ],
   "source": [
    "df.groupby(['sex', 'class']).age.describe()"
   ]
  },
  {
   "cell_type": "code",
   "execution_count": 80,
   "id": "2540505e",
   "metadata": {
    "ExecuteTime": {
     "end_time": "2023-10-03T14:45:58.612570Z",
     "start_time": "2023-10-03T14:45:58.606782Z"
    }
   },
   "outputs": [],
   "source": [
    "df.age = df.groupby(['sex', 'class']).age.transform(lambda s: s.mean())"
   ]
  },
  {
   "cell_type": "code",
   "execution_count": 82,
   "id": "a2b56ad6",
   "metadata": {
    "ExecuteTime": {
     "end_time": "2023-10-03T14:46:01.774714Z",
     "start_time": "2023-10-03T14:46:01.754521Z"
    }
   },
   "outputs": [],
   "source": [
    "X_aux = df[features].copy()\n",
    "y = df.survived"
   ]
  },
  {
   "cell_type": "code",
   "execution_count": 83,
   "id": "1397f93e",
   "metadata": {
    "ExecuteTime": {
     "end_time": "2023-10-03T14:46:02.207922Z",
     "start_time": "2023-10-03T14:46:02.190265Z"
    }
   },
   "outputs": [
    {
     "data": {
      "text/plain": [
       "((891, 2), (891,))"
      ]
     },
     "execution_count": 83,
     "metadata": {},
     "output_type": "execute_result"
    }
   ],
   "source": [
    "X_aux.shape, y.shape"
   ]
  },
  {
   "cell_type": "code",
   "execution_count": 84,
   "id": "a9c45ec0",
   "metadata": {
    "ExecuteTime": {
     "end_time": "2023-10-03T14:46:02.622021Z",
     "start_time": "2023-10-03T14:46:02.580220Z"
    }
   },
   "outputs": [
    {
     "data": {
      "text/html": [
       "<div>\n",
       "<style scoped>\n",
       "    .dataframe tbody tr th:only-of-type {\n",
       "        vertical-align: middle;\n",
       "    }\n",
       "\n",
       "    .dataframe tbody tr th {\n",
       "        vertical-align: top;\n",
       "    }\n",
       "\n",
       "    .dataframe thead th {\n",
       "        text-align: right;\n",
       "    }\n",
       "</style>\n",
       "<table border=\"1\" class=\"dataframe\">\n",
       "  <thead>\n",
       "    <tr style=\"text-align: right;\">\n",
       "      <th></th>\n",
       "      <th>adult_male</th>\n",
       "      <th>class_First</th>\n",
       "      <th>class_Second</th>\n",
       "      <th>class_Third</th>\n",
       "    </tr>\n",
       "  </thead>\n",
       "  <tbody>\n",
       "    <tr>\n",
       "      <th>0</th>\n",
       "      <td>True</td>\n",
       "      <td>0</td>\n",
       "      <td>0</td>\n",
       "      <td>1</td>\n",
       "    </tr>\n",
       "    <tr>\n",
       "      <th>1</th>\n",
       "      <td>False</td>\n",
       "      <td>1</td>\n",
       "      <td>0</td>\n",
       "      <td>0</td>\n",
       "    </tr>\n",
       "    <tr>\n",
       "      <th>2</th>\n",
       "      <td>False</td>\n",
       "      <td>0</td>\n",
       "      <td>0</td>\n",
       "      <td>1</td>\n",
       "    </tr>\n",
       "  </tbody>\n",
       "</table>\n",
       "</div>"
      ],
      "text/plain": [
       "   adult_male  class_First  class_Second  class_Third\n",
       "0        True            0             0            1\n",
       "1       False            1             0            0\n",
       "2       False            0             0            1"
      ]
     },
     "execution_count": 84,
     "metadata": {},
     "output_type": "execute_result"
    }
   ],
   "source": [
    "X = pd.get_dummies(X_aux, columns=['class'])\n",
    "# X['is_female'] = X.sex.eq('female')\n",
    "# X = X.drop('sex', axis=1)\n",
    "X.head(3)"
   ]
  },
  {
   "cell_type": "code",
   "execution_count": 91,
   "id": "91e56343",
   "metadata": {
    "ExecuteTime": {
     "end_time": "2023-10-03T14:50:34.969731Z",
     "start_time": "2023-10-03T14:50:34.949799Z"
    }
   },
   "outputs": [
    {
     "data": {
      "text/plain": [
       "((712, 4), (712,), (179, 4), (179,))"
      ]
     },
     "execution_count": 91,
     "metadata": {},
     "output_type": "execute_result"
    }
   ],
   "source": [
    "from sklearn.model_selection import train_test_split\n",
    "\n",
    "X_train, X_test, y_train, y_test = train_test_split(X, \n",
    "                                                    y, \n",
    "                                                    test_size=0.2, \n",
    "                                                    random_state=0)\n",
    "X_train.shape, y_train.shape, X_test.shape, y_test.shape"
   ]
  },
  {
   "cell_type": "code",
   "execution_count": 92,
   "id": "d074e3e0",
   "metadata": {
    "ExecuteTime": {
     "end_time": "2023-10-03T14:50:35.448103Z",
     "start_time": "2023-10-03T14:50:35.417717Z"
    }
   },
   "outputs": [
    {
     "data": {
      "text/html": [
       "<style>#sk-container-id-2 {color: black;background-color: white;}#sk-container-id-2 pre{padding: 0;}#sk-container-id-2 div.sk-toggleable {background-color: white;}#sk-container-id-2 label.sk-toggleable__label {cursor: pointer;display: block;width: 100%;margin-bottom: 0;padding: 0.3em;box-sizing: border-box;text-align: center;}#sk-container-id-2 label.sk-toggleable__label-arrow:before {content: \"▸\";float: left;margin-right: 0.25em;color: #696969;}#sk-container-id-2 label.sk-toggleable__label-arrow:hover:before {color: black;}#sk-container-id-2 div.sk-estimator:hover label.sk-toggleable__label-arrow:before {color: black;}#sk-container-id-2 div.sk-toggleable__content {max-height: 0;max-width: 0;overflow: hidden;text-align: left;background-color: #f0f8ff;}#sk-container-id-2 div.sk-toggleable__content pre {margin: 0.2em;color: black;border-radius: 0.25em;background-color: #f0f8ff;}#sk-container-id-2 input.sk-toggleable__control:checked~div.sk-toggleable__content {max-height: 200px;max-width: 100%;overflow: auto;}#sk-container-id-2 input.sk-toggleable__control:checked~label.sk-toggleable__label-arrow:before {content: \"▾\";}#sk-container-id-2 div.sk-estimator input.sk-toggleable__control:checked~label.sk-toggleable__label {background-color: #d4ebff;}#sk-container-id-2 div.sk-label input.sk-toggleable__control:checked~label.sk-toggleable__label {background-color: #d4ebff;}#sk-container-id-2 input.sk-hidden--visually {border: 0;clip: rect(1px 1px 1px 1px);clip: rect(1px, 1px, 1px, 1px);height: 1px;margin: -1px;overflow: hidden;padding: 0;position: absolute;width: 1px;}#sk-container-id-2 div.sk-estimator {font-family: monospace;background-color: #f0f8ff;border: 1px dotted black;border-radius: 0.25em;box-sizing: border-box;margin-bottom: 0.5em;}#sk-container-id-2 div.sk-estimator:hover {background-color: #d4ebff;}#sk-container-id-2 div.sk-parallel-item::after {content: \"\";width: 100%;border-bottom: 1px solid gray;flex-grow: 1;}#sk-container-id-2 div.sk-label:hover label.sk-toggleable__label {background-color: #d4ebff;}#sk-container-id-2 div.sk-serial::before {content: \"\";position: absolute;border-left: 1px solid gray;box-sizing: border-box;top: 0;bottom: 0;left: 50%;z-index: 0;}#sk-container-id-2 div.sk-serial {display: flex;flex-direction: column;align-items: center;background-color: white;padding-right: 0.2em;padding-left: 0.2em;position: relative;}#sk-container-id-2 div.sk-item {position: relative;z-index: 1;}#sk-container-id-2 div.sk-parallel {display: flex;align-items: stretch;justify-content: center;background-color: white;position: relative;}#sk-container-id-2 div.sk-item::before, #sk-container-id-2 div.sk-parallel-item::before {content: \"\";position: absolute;border-left: 1px solid gray;box-sizing: border-box;top: 0;bottom: 0;left: 50%;z-index: -1;}#sk-container-id-2 div.sk-parallel-item {display: flex;flex-direction: column;z-index: 1;position: relative;background-color: white;}#sk-container-id-2 div.sk-parallel-item:first-child::after {align-self: flex-end;width: 50%;}#sk-container-id-2 div.sk-parallel-item:last-child::after {align-self: flex-start;width: 50%;}#sk-container-id-2 div.sk-parallel-item:only-child::after {width: 0;}#sk-container-id-2 div.sk-dashed-wrapped {border: 1px dashed gray;margin: 0 0.4em 0.5em 0.4em;box-sizing: border-box;padding-bottom: 0.4em;background-color: white;}#sk-container-id-2 div.sk-label label {font-family: monospace;font-weight: bold;display: inline-block;line-height: 1.2em;}#sk-container-id-2 div.sk-label-container {text-align: center;}#sk-container-id-2 div.sk-container {/* jupyter's `normalize.less` sets `[hidden] { display: none; }` but bootstrap.min.css set `[hidden] { display: none !important; }` so we also need the `!important` here to be able to override the default hidden behavior on the sphinx rendered scikit-learn.org. See: https://github.com/scikit-learn/scikit-learn/issues/21755 */display: inline-block !important;position: relative;}#sk-container-id-2 div.sk-text-repr-fallback {display: none;}</style><div id=\"sk-container-id-2\" class=\"sk-top-container\"><div class=\"sk-text-repr-fallback\"><pre>LogisticRegression(max_iter=1000)</pre><b>In a Jupyter environment, please rerun this cell to show the HTML representation or trust the notebook. <br />On GitHub, the HTML representation is unable to render, please try loading this page with nbviewer.org.</b></div><div class=\"sk-container\" hidden><div class=\"sk-item\"><div class=\"sk-estimator sk-toggleable\"><input class=\"sk-toggleable__control sk-hidden--visually\" id=\"sk-estimator-id-2\" type=\"checkbox\" checked><label for=\"sk-estimator-id-2\" class=\"sk-toggleable__label sk-toggleable__label-arrow\">LogisticRegression</label><div class=\"sk-toggleable__content\"><pre>LogisticRegression(max_iter=1000)</pre></div></div></div></div></div>"
      ],
      "text/plain": [
       "LogisticRegression(max_iter=1000)"
      ]
     },
     "execution_count": 92,
     "metadata": {},
     "output_type": "execute_result"
    }
   ],
   "source": [
    "from sklearn.linear_model import LogisticRegression\n",
    "\n",
    "model = LogisticRegression(max_iter=1000)\n",
    "model.fit(X_train, y_train)"
   ]
  },
  {
   "cell_type": "code",
   "execution_count": 93,
   "id": "e37a4252",
   "metadata": {
    "ExecuteTime": {
     "end_time": "2023-10-03T14:50:35.620536Z",
     "start_time": "2023-10-03T14:50:35.604422Z"
    }
   },
   "outputs": [
    {
     "data": {
      "text/plain": [
       "adult_male     -2.669354\n",
       "class_Third    -0.946326\n",
       "class_Second    0.054442\n",
       "class_First     0.891966\n",
       "dtype: float64"
      ]
     },
     "execution_count": 93,
     "metadata": {},
     "output_type": "execute_result"
    }
   ],
   "source": [
    "coeff_series = pd.Series(model.coef_[0], index=X_train.columns).sort_values()\n",
    "coeff_series"
   ]
  },
  {
   "cell_type": "code",
   "execution_count": 94,
   "id": "eb78bee8",
   "metadata": {
    "ExecuteTime": {
     "end_time": "2023-10-03T14:50:36.062089Z",
     "start_time": "2023-10-03T14:50:35.770693Z"
    }
   },
   "outputs": [
    {
     "data": {
      "image/png": "[encoded data removed]",
      "text/plain": [
       "<Figure size 640x480 with 1 Axes>"
      ]
     },
     "metadata": {},
     "output_type": "display_data"
    }
   ],
   "source": [
    "coeff_series.plot.barh();"
   ]
  },
  {
   "cell_type": "code",
   "execution_count": 95,
   "id": "500ad624",
   "metadata": {
    "ExecuteTime": {
     "end_time": "2023-10-03T14:50:38.673437Z",
     "start_time": "2023-10-03T14:50:38.643814Z"
    }
   },
   "outputs": [
    {
     "name": "stdout",
     "output_type": "stream",
     "text": [
      "              precision    recall  f1-score   support\n",
      "\n",
      "           0       0.84      0.79      0.81       110\n",
      "           1       0.69      0.75      0.72        69\n",
      "\n",
      "    accuracy                           0.78       179\n",
      "   macro avg       0.76      0.77      0.77       179\n",
      "weighted avg       0.78      0.78      0.78       179\n",
      "\n",
      "Precission: 0.6933333333333334\n",
      "Recall: 0.7536231884057971\n",
      "F1-score: 0.7222222222222223\n"
     ]
    }
   ],
   "source": [
    "y_test_pred = model.predict(X_test)\n",
    "\n",
    "from sklearn.metrics import classification_report, f1_score\n",
    "from sklearn.metrics import precision_score, recall_score, f1_score\n",
    "\n",
    "print(classification_report(y_test, y_test_pred))\n",
    "print(\"Precission:\", precision_score(y_true=y_test, y_pred=y_test_pred))\n",
    "print(\"Recall:\", recall_score(y_true=y_test, y_pred=y_test_pred))\n",
    "print(\"F1-score:\", f1_score(y_true=y_test, y_pred=y_test_pred))"
   ]
  },
  {
   "cell_type": "markdown",
   "id": "10b53db5",
   "metadata": {},
   "source": [
    "## Seleccionar usando gridsearchcv"
   ]
  },
  {
   "cell_type": "code",
   "execution_count": 124,
   "id": "f079bebf",
   "metadata": {
    "ExecuteTime": {
     "end_time": "2023-10-03T15:02:51.310514Z",
     "start_time": "2023-10-03T15:02:51.300031Z"
    }
   },
   "outputs": [
    {
     "data": {
      "text/plain": [
       "survived         0\n",
       "pclass           0\n",
       "sex              0\n",
       "age              0\n",
       "sibsp            0\n",
       "parch            0\n",
       "fare             0\n",
       "embarked         2\n",
       "class            0\n",
       "who              0\n",
       "adult_male       0\n",
       "deck           688\n",
       "embark_town      2\n",
       "alive            0\n",
       "alone            0\n",
       "n_relatives      0\n",
       "dtype: int64"
      ]
     },
     "execution_count": 124,
     "metadata": {},
     "output_type": "execute_result"
    }
   ],
   "source": [
    "df.isnull().sum()"
   ]
  },
  {
   "cell_type": "code",
   "execution_count": 147,
   "id": "3a285ad2",
   "metadata": {
    "ExecuteTime": {
     "end_time": "2023-10-03T15:08:27.743752Z",
     "start_time": "2023-10-03T15:08:27.702926Z"
    }
   },
   "outputs": [
    {
     "data": {
      "text/html": [
       "<div>\n",
       "<style scoped>\n",
       "    .dataframe tbody tr th:only-of-type {\n",
       "        vertical-align: middle;\n",
       "    }\n",
       "\n",
       "    .dataframe tbody tr th {\n",
       "        vertical-align: top;\n",
       "    }\n",
       "\n",
       "    .dataframe thead th {\n",
       "        text-align: right;\n",
       "    }\n",
       "</style>\n",
       "<table border=\"1\" class=\"dataframe\">\n",
       "  <thead>\n",
       "    <tr style=\"text-align: right;\">\n",
       "      <th></th>\n",
       "      <th>age</th>\n",
       "      <th>n_relatives</th>\n",
       "      <th>adult_male</th>\n",
       "      <th>class_First</th>\n",
       "      <th>class_Second</th>\n",
       "      <th>class_Third</th>\n",
       "    </tr>\n",
       "  </thead>\n",
       "  <tbody>\n",
       "    <tr>\n",
       "      <th>0</th>\n",
       "      <td>26.507589</td>\n",
       "      <td>1</td>\n",
       "      <td>True</td>\n",
       "      <td>0</td>\n",
       "      <td>0</td>\n",
       "      <td>1</td>\n",
       "    </tr>\n",
       "    <tr>\n",
       "      <th>1</th>\n",
       "      <td>34.611765</td>\n",
       "      <td>1</td>\n",
       "      <td>False</td>\n",
       "      <td>1</td>\n",
       "      <td>0</td>\n",
       "      <td>0</td>\n",
       "    </tr>\n",
       "    <tr>\n",
       "      <th>2</th>\n",
       "      <td>21.750000</td>\n",
       "      <td>0</td>\n",
       "      <td>False</td>\n",
       "      <td>0</td>\n",
       "      <td>0</td>\n",
       "      <td>1</td>\n",
       "    </tr>\n",
       "  </tbody>\n",
       "</table>\n",
       "</div>"
      ],
      "text/plain": [
       "         age  n_relatives  adult_male  class_First  class_Second  class_Third\n",
       "0  26.507589            1        True            0             0            1\n",
       "1  34.611765            1       False            1             0            0\n",
       "2  21.750000            0       False            0             0            1"
      ]
     },
     "execution_count": 147,
     "metadata": {},
     "output_type": "execute_result"
    }
   ],
   "source": [
    "df['n_relatives'] = df.sibsp + df.parch\n",
    "\n",
    "features = ['class', 'age',  'n_relatives', 'adult_male']\n",
    "\n",
    "X_aux = df[features].copy()\n",
    "y = df.survived\n",
    "\n",
    "X = pd.get_dummies(X_aux, columns=['class'])\n",
    "X.head(3)"
   ]
  },
  {
   "cell_type": "code",
   "execution_count": 148,
   "id": "5f8730c9",
   "metadata": {
    "ExecuteTime": {
     "end_time": "2023-10-03T15:08:52.001854Z",
     "start_time": "2023-10-03T15:08:51.972500Z"
    }
   },
   "outputs": [
    {
     "data": {
      "text/plain": [
       "((712, 6), (712,), (179, 6), (179,))"
      ]
     },
     "execution_count": 148,
     "metadata": {},
     "output_type": "execute_result"
    }
   ],
   "source": [
    "from sklearn.model_selection import train_test_split\n",
    "\n",
    "X_train, X_test, y_train, y_test = train_test_split(X, \n",
    "                                                    y, \n",
    "                                                    test_size=0.2, \n",
    "                                                    random_state=0)\n",
    "X_train.shape, y_train.shape, X_test.shape, y_test.shape"
   ]
  },
  {
   "cell_type": "code",
   "execution_count": 158,
   "id": "6be9c424",
   "metadata": {
    "ExecuteTime": {
     "end_time": "2023-10-03T15:10:12.548935Z",
     "start_time": "2023-10-03T15:10:12.340053Z"
    }
   },
   "outputs": [
    {
     "data": {
      "text/html": [
       "<style>#sk-container-id-17 {color: black;background-color: white;}#sk-container-id-17 pre{padding: 0;}#sk-container-id-17 div.sk-toggleable {background-color: white;}#sk-container-id-17 label.sk-toggleable__label {cursor: pointer;display: block;width: 100%;margin-bottom: 0;padding: 0.3em;box-sizing: border-box;text-align: center;}#sk-container-id-17 label.sk-toggleable__label-arrow:before {content: \"▸\";float: left;margin-right: 0.25em;color: #696969;}#sk-container-id-17 label.sk-toggleable__label-arrow:hover:before {color: black;}#sk-container-id-17 div.sk-estimator:hover label.sk-toggleable__label-arrow:before {color: black;}#sk-container-id-17 div.sk-toggleable__content {max-height: 0;max-width: 0;overflow: hidden;text-align: left;background-color: #f0f8ff;}#sk-container-id-17 div.sk-toggleable__content pre {margin: 0.2em;color: black;border-radius: 0.25em;background-color: #f0f8ff;}#sk-container-id-17 input.sk-toggleable__control:checked~div.sk-toggleable__content {max-height: 200px;max-width: 100%;overflow: auto;}#sk-container-id-17 input.sk-toggleable__control:checked~label.sk-toggleable__label-arrow:before {content: \"▾\";}#sk-container-id-17 div.sk-estimator input.sk-toggleable__control:checked~label.sk-toggleable__label {background-color: #d4ebff;}#sk-container-id-17 div.sk-label input.sk-toggleable__control:checked~label.sk-toggleable__label {background-color: #d4ebff;}#sk-container-id-17 input.sk-hidden--visually {border: 0;clip: rect(1px 1px 1px 1px);clip: rect(1px, 1px, 1px, 1px);height: 1px;margin: -1px;overflow: hidden;padding: 0;position: absolute;width: 1px;}#sk-container-id-17 div.sk-estimator {font-family: monospace;background-color: #f0f8ff;border: 1px dotted black;border-radius: 0.25em;box-sizing: border-box;margin-bottom: 0.5em;}#sk-container-id-17 div.sk-estimator:hover {background-color: #d4ebff;}#sk-container-id-17 div.sk-parallel-item::after {content: \"\";width: 100%;border-bottom: 1px solid gray;flex-grow: 1;}#sk-container-id-17 div.sk-label:hover label.sk-toggleable__label {background-color: #d4ebff;}#sk-container-id-17 div.sk-serial::before {content: \"\";position: absolute;border-left: 1px solid gray;box-sizing: border-box;top: 0;bottom: 0;left: 50%;z-index: 0;}#sk-container-id-17 div.sk-serial {display: flex;flex-direction: column;align-items: center;background-color: white;padding-right: 0.2em;padding-left: 0.2em;position: relative;}#sk-container-id-17 div.sk-item {position: relative;z-index: 1;}#sk-container-id-17 div.sk-parallel {display: flex;align-items: stretch;justify-content: center;background-color: white;position: relative;}#sk-container-id-17 div.sk-item::before, #sk-container-id-17 div.sk-parallel-item::before {content: \"\";position: absolute;border-left: 1px solid gray;box-sizing: border-box;top: 0;bottom: 0;left: 50%;z-index: -1;}#sk-container-id-17 div.sk-parallel-item {display: flex;flex-direction: column;z-index: 1;position: relative;background-color: white;}#sk-container-id-17 div.sk-parallel-item:first-child::after {align-self: flex-end;width: 50%;}#sk-container-id-17 div.sk-parallel-item:last-child::after {align-self: flex-start;width: 50%;}#sk-container-id-17 div.sk-parallel-item:only-child::after {width: 0;}#sk-container-id-17 div.sk-dashed-wrapped {border: 1px dashed gray;margin: 0 0.4em 0.5em 0.4em;box-sizing: border-box;padding-bottom: 0.4em;background-color: white;}#sk-container-id-17 div.sk-label label {font-family: monospace;font-weight: bold;display: inline-block;line-height: 1.2em;}#sk-container-id-17 div.sk-label-container {text-align: center;}#sk-container-id-17 div.sk-container {/* jupyter's `normalize.less` sets `[hidden] { display: none; }` but bootstrap.min.css set `[hidden] { display: none !important; }` so we also need the `!important` here to be able to override the default hidden behavior on the sphinx rendered scikit-learn.org. See: https://github.com/scikit-learn/scikit-learn/issues/21755 */display: inline-block !important;position: relative;}#sk-container-id-17 div.sk-text-repr-fallback {display: none;}</style><div id=\"sk-container-id-17\" class=\"sk-top-container\"><div class=\"sk-text-repr-fallback\"><pre>GridSearchCV(estimator=LogisticRegression(max_iter=1000), n_jobs=6,\n",
       "             param_grid={&#x27;C&#x27;: [0.001, 0.05, 0.01, 0.05, 1, 2, 5, 10]},\n",
       "             scoring=&#x27;f1&#x27;)</pre><b>In a Jupyter environment, please rerun this cell to show the HTML representation or trust the notebook. <br />On GitHub, the HTML representation is unable to render, please try loading this page with nbviewer.org.</b></div><div class=\"sk-container\" hidden><div class=\"sk-item sk-dashed-wrapped\"><div class=\"sk-label-container\"><div class=\"sk-label sk-toggleable\"><input class=\"sk-toggleable__control sk-hidden--visually\" id=\"sk-estimator-id-35\" type=\"checkbox\" ><label for=\"sk-estimator-id-35\" class=\"sk-toggleable__label sk-toggleable__label-arrow\">GridSearchCV</label><div class=\"sk-toggleable__content\"><pre>GridSearchCV(estimator=LogisticRegression(max_iter=1000), n_jobs=6,\n",
       "             param_grid={&#x27;C&#x27;: [0.001, 0.05, 0.01, 0.05, 1, 2, 5, 10]},\n",
       "             scoring=&#x27;f1&#x27;)</pre></div></div></div><div class=\"sk-parallel\"><div class=\"sk-parallel-item\"><div class=\"sk-item\"><div class=\"sk-label-container\"><div class=\"sk-label sk-toggleable\"><input class=\"sk-toggleable__control sk-hidden--visually\" id=\"sk-estimator-id-36\" type=\"checkbox\" ><label for=\"sk-estimator-id-36\" class=\"sk-toggleable__label sk-toggleable__label-arrow\">estimator: LogisticRegression</label><div class=\"sk-toggleable__content\"><pre>LogisticRegression(max_iter=1000)</pre></div></div></div><div class=\"sk-serial\"><div class=\"sk-item\"><div class=\"sk-estimator sk-toggleable\"><input class=\"sk-toggleable__control sk-hidden--visually\" id=\"sk-estimator-id-37\" type=\"checkbox\" ><label for=\"sk-estimator-id-37\" class=\"sk-toggleable__label sk-toggleable__label-arrow\">LogisticRegression</label><div class=\"sk-toggleable__content\"><pre>LogisticRegression(max_iter=1000)</pre></div></div></div></div></div></div></div></div></div></div>"
      ],
      "text/plain": [
       "GridSearchCV(estimator=LogisticRegression(max_iter=1000), n_jobs=6,\n",
       "             param_grid={'C': [0.001, 0.05, 0.01, 0.05, 1, 2, 5, 10]},\n",
       "             scoring='f1')"
      ]
     },
     "execution_count": 158,
     "metadata": {},
     "output_type": "execute_result"
    }
   ],
   "source": [
    "from sklearn.model_selection import GridSearchCV\n",
    "\n",
    "C_vec = [0.001, 0.05, 0.01, 0.05, 1, 2, 5, 10]\n",
    "param_grid = {\"C\": C_vec}\n",
    "\n",
    "grid_search = GridSearchCV(estimator=LogisticRegression(max_iter=1000),\n",
    "                           param_grid=param_grid,\n",
    "                           scoring='f1',\n",
    "                           n_jobs=6,\n",
    "                           refit=True)\n",
    "grid_search.fit(X_train, y_train)"
   ]
  },
  {
   "cell_type": "code",
   "execution_count": 160,
   "id": "7c69477b",
   "metadata": {
    "ExecuteTime": {
     "end_time": "2023-10-03T15:10:20.630490Z",
     "start_time": "2023-10-03T15:10:20.613991Z"
    }
   },
   "outputs": [
    {
     "data": {
      "text/plain": [
       "{'C': 1}"
      ]
     },
     "execution_count": 160,
     "metadata": {},
     "output_type": "execute_result"
    }
   ],
   "source": [
    "grid_search.best_params_"
   ]
  },
  {
   "cell_type": "code",
   "execution_count": 161,
   "id": "8d6b5eda",
   "metadata": {
    "ExecuteTime": {
     "end_time": "2023-10-03T15:10:23.536416Z",
     "start_time": "2023-10-03T15:10:23.524764Z"
    }
   },
   "outputs": [
    {
     "data": {
      "text/plain": [
       "0.7611425469619979"
      ]
     },
     "execution_count": 161,
     "metadata": {},
     "output_type": "execute_result"
    }
   ],
   "source": [
    "grid_search.best_score_"
   ]
  },
  {
   "cell_type": "code",
   "execution_count": 162,
   "id": "5f715cd8",
   "metadata": {
    "ExecuteTime": {
     "end_time": "2023-10-03T15:10:26.773146Z",
     "start_time": "2023-10-03T15:10:26.761863Z"
    }
   },
   "outputs": [
    {
     "data": {
      "text/html": [
       "<style>#sk-container-id-18 {color: black;background-color: white;}#sk-container-id-18 pre{padding: 0;}#sk-container-id-18 div.sk-toggleable {background-color: white;}#sk-container-id-18 label.sk-toggleable__label {cursor: pointer;display: block;width: 100%;margin-bottom: 0;padding: 0.3em;box-sizing: border-box;text-align: center;}#sk-container-id-18 label.sk-toggleable__label-arrow:before {content: \"▸\";float: left;margin-right: 0.25em;color: #696969;}#sk-container-id-18 label.sk-toggleable__label-arrow:hover:before {color: black;}#sk-container-id-18 div.sk-estimator:hover label.sk-toggleable__label-arrow:before {color: black;}#sk-container-id-18 div.sk-toggleable__content {max-height: 0;max-width: 0;overflow: hidden;text-align: left;background-color: #f0f8ff;}#sk-container-id-18 div.sk-toggleable__content pre {margin: 0.2em;color: black;border-radius: 0.25em;background-color: #f0f8ff;}#sk-container-id-18 input.sk-toggleable__control:checked~div.sk-toggleable__content {max-height: 200px;max-width: 100%;overflow: auto;}#sk-container-id-18 input.sk-toggleable__control:checked~label.sk-toggleable__label-arrow:before {content: \"▾\";}#sk-container-id-18 div.sk-estimator input.sk-toggleable__control:checked~label.sk-toggleable__label {background-color: #d4ebff;}#sk-container-id-18 div.sk-label input.sk-toggleable__control:checked~label.sk-toggleable__label {background-color: #d4ebff;}#sk-container-id-18 input.sk-hidden--visually {border: 0;clip: rect(1px 1px 1px 1px);clip: rect(1px, 1px, 1px, 1px);height: 1px;margin: -1px;overflow: hidden;padding: 0;position: absolute;width: 1px;}#sk-container-id-18 div.sk-estimator {font-family: monospace;background-color: #f0f8ff;border: 1px dotted black;border-radius: 0.25em;box-sizing: border-box;margin-bottom: 0.5em;}#sk-container-id-18 div.sk-estimator:hover {background-color: #d4ebff;}#sk-container-id-18 div.sk-parallel-item::after {content: \"\";width: 100%;border-bottom: 1px solid gray;flex-grow: 1;}#sk-container-id-18 div.sk-label:hover label.sk-toggleable__label {background-color: #d4ebff;}#sk-container-id-18 div.sk-serial::before {content: \"\";position: absolute;border-left: 1px solid gray;box-sizing: border-box;top: 0;bottom: 0;left: 50%;z-index: 0;}#sk-container-id-18 div.sk-serial {display: flex;flex-direction: column;align-items: center;background-color: white;padding-right: 0.2em;padding-left: 0.2em;position: relative;}#sk-container-id-18 div.sk-item {position: relative;z-index: 1;}#sk-container-id-18 div.sk-parallel {display: flex;align-items: stretch;justify-content: center;background-color: white;position: relative;}#sk-container-id-18 div.sk-item::before, #sk-container-id-18 div.sk-parallel-item::before {content: \"\";position: absolute;border-left: 1px solid gray;box-sizing: border-box;top: 0;bottom: 0;left: 50%;z-index: -1;}#sk-container-id-18 div.sk-parallel-item {display: flex;flex-direction: column;z-index: 1;position: relative;background-color: white;}#sk-container-id-18 div.sk-parallel-item:first-child::after {align-self: flex-end;width: 50%;}#sk-container-id-18 div.sk-parallel-item:last-child::after {align-self: flex-start;width: 50%;}#sk-container-id-18 div.sk-parallel-item:only-child::after {width: 0;}#sk-container-id-18 div.sk-dashed-wrapped {border: 1px dashed gray;margin: 0 0.4em 0.5em 0.4em;box-sizing: border-box;padding-bottom: 0.4em;background-color: white;}#sk-container-id-18 div.sk-label label {font-family: monospace;font-weight: bold;display: inline-block;line-height: 1.2em;}#sk-container-id-18 div.sk-label-container {text-align: center;}#sk-container-id-18 div.sk-container {/* jupyter's `normalize.less` sets `[hidden] { display: none; }` but bootstrap.min.css set `[hidden] { display: none !important; }` so we also need the `!important` here to be able to override the default hidden behavior on the sphinx rendered scikit-learn.org. See: https://github.com/scikit-learn/scikit-learn/issues/21755 */display: inline-block !important;position: relative;}#sk-container-id-18 div.sk-text-repr-fallback {display: none;}</style><div id=\"sk-container-id-18\" class=\"sk-top-container\"><div class=\"sk-text-repr-fallback\"><pre>LogisticRegression(C=1, max_iter=1000)</pre><b>In a Jupyter environment, please rerun this cell to show the HTML representation or trust the notebook. <br />On GitHub, the HTML representation is unable to render, please try loading this page with nbviewer.org.</b></div><div class=\"sk-container\" hidden><div class=\"sk-item\"><div class=\"sk-estimator sk-toggleable\"><input class=\"sk-toggleable__control sk-hidden--visually\" id=\"sk-estimator-id-38\" type=\"checkbox\" checked><label for=\"sk-estimator-id-38\" class=\"sk-toggleable__label sk-toggleable__label-arrow\">LogisticRegression</label><div class=\"sk-toggleable__content\"><pre>LogisticRegression(C=1, max_iter=1000)</pre></div></div></div></div></div>"
      ],
      "text/plain": [
       "LogisticRegression(C=1, max_iter=1000)"
      ]
     },
     "execution_count": 162,
     "metadata": {},
     "output_type": "execute_result"
    }
   ],
   "source": [
    "grid_search.best_estimator_"
   ]
  },
  {
   "cell_type": "code",
   "execution_count": 163,
   "id": "35c1fe61",
   "metadata": {
    "ExecuteTime": {
     "end_time": "2023-10-03T15:10:31.695953Z",
     "start_time": "2023-10-03T15:10:31.667560Z"
    }
   },
   "outputs": [
    {
     "name": "stdout",
     "output_type": "stream",
     "text": [
      "              precision    recall  f1-score   support\n",
      "\n",
      "           0       0.83      0.87      0.85       110\n",
      "           1       0.78      0.72      0.75        69\n",
      "\n",
      "    accuracy                           0.82       179\n",
      "   macro avg       0.81      0.80      0.80       179\n",
      "weighted avg       0.81      0.82      0.81       179\n",
      "\n",
      "Precission: 0.78125\n",
      "Recall: 0.7246376811594203\n",
      "F1-score: 0.7518796992481203\n"
     ]
    }
   ],
   "source": [
    "y_test_pred = grid_search.best_estimator_.predict(X_test)\n",
    "\n",
    "from sklearn.metrics import classification_report, f1_score\n",
    "from sklearn.metrics import precision_score, recall_score, f1_score\n",
    "\n",
    "print(classification_report(y_test, y_test_pred))\n",
    "print(\"Precission:\", precision_score(y_true=y_test, y_pred=y_test_pred))\n",
    "print(\"Recall:\", recall_score(y_true=y_test, y_pred=y_test_pred))\n",
    "print(\"F1-score:\", f1_score(y_true=y_test, y_pred=y_test_pred))"
   ]
  },
  {
   "cell_type": "code",
   "execution_count": 164,
   "id": "36c863f9",
   "metadata": {
    "ExecuteTime": {
     "end_time": "2023-10-03T15:11:06.231288Z",
     "start_time": "2023-10-03T15:11:06.219755Z"
    }
   },
   "outputs": [
    {
     "data": {
      "text/plain": [
       "adult_male     -3.359521\n",
       "class_Third    -0.521137\n",
       "n_relatives    -0.348817\n",
       "age             0.055349\n",
       "class_Second    0.067567\n",
       "class_First     0.470129\n",
       "dtype: float64"
      ]
     },
     "execution_count": 164,
     "metadata": {},
     "output_type": "execute_result"
    }
   ],
   "source": [
    "coeff_series = pd.Series(grid_search.best_estimator_.coef_[0], index=X_train.columns).sort_values()\n",
    "coeff_series"
   ]
  },
  {
   "cell_type": "code",
   "execution_count": 166,
   "id": "11b6174b",
   "metadata": {
    "ExecuteTime": {
     "end_time": "2023-10-03T15:12:21.045666Z",
     "start_time": "2023-10-03T15:12:20.868759Z"
    }
   },
   "outputs": [
    {
     "data": {
      "image/png": "[encoded data removed]",
      "text/plain": [
       "<Figure size 640x480 with 1 Axes>"
      ]
     },
     "metadata": {},
     "output_type": "display_data"
    }
   ],
   "source": [
    "coeff_series.plot.barh();"
   ]
  },
  {
   "cell_type": "code",
   "execution_count": 169,
   "id": "df204dd7",
   "metadata": {
    "ExecuteTime": {
     "end_time": "2023-10-03T15:13:52.684718Z",
     "start_time": "2023-10-03T15:13:52.673639Z"
    }
   },
   "outputs": [],
   "source": [
    "import pickle\n",
    "\n",
    "with open('my_production_model', mode='wb') as file:\n",
    "    pickle.dump(grid_search.best_estimator_, file)\n",
    "    \n",
    "with open('my_production_model', mode='rb') as file:\n",
    "    loaded_model = pickle.load(file)"
   ]
  },
  {
   "cell_type": "code",
   "execution_count": 171,
   "id": "4d6dcdb2",
   "metadata": {
    "ExecuteTime": {
     "end_time": "2023-10-03T15:16:34.575684Z",
     "start_time": "2023-10-03T15:16:34.543083Z"
    }
   },
   "outputs": [
    {
     "data": {
      "text/html": [
       "<style>#sk-container-id-21 {color: black;background-color: white;}#sk-container-id-21 pre{padding: 0;}#sk-container-id-21 div.sk-toggleable {background-color: white;}#sk-container-id-21 label.sk-toggleable__label {cursor: pointer;display: block;width: 100%;margin-bottom: 0;padding: 0.3em;box-sizing: border-box;text-align: center;}#sk-container-id-21 label.sk-toggleable__label-arrow:before {content: \"▸\";float: left;margin-right: 0.25em;color: #696969;}#sk-container-id-21 label.sk-toggleable__label-arrow:hover:before {color: black;}#sk-container-id-21 div.sk-estimator:hover label.sk-toggleable__label-arrow:before {color: black;}#sk-container-id-21 div.sk-toggleable__content {max-height: 0;max-width: 0;overflow: hidden;text-align: left;background-color: #f0f8ff;}#sk-container-id-21 div.sk-toggleable__content pre {margin: 0.2em;color: black;border-radius: 0.25em;background-color: #f0f8ff;}#sk-container-id-21 input.sk-toggleable__control:checked~div.sk-toggleable__content {max-height: 200px;max-width: 100%;overflow: auto;}#sk-container-id-21 input.sk-toggleable__control:checked~label.sk-toggleable__label-arrow:before {content: \"▾\";}#sk-container-id-21 div.sk-estimator input.sk-toggleable__control:checked~label.sk-toggleable__label {background-color: #d4ebff;}#sk-container-id-21 div.sk-label input.sk-toggleable__control:checked~label.sk-toggleable__label {background-color: #d4ebff;}#sk-container-id-21 input.sk-hidden--visually {border: 0;clip: rect(1px 1px 1px 1px);clip: rect(1px, 1px, 1px, 1px);height: 1px;margin: -1px;overflow: hidden;padding: 0;position: absolute;width: 1px;}#sk-container-id-21 div.sk-estimator {font-family: monospace;background-color: #f0f8ff;border: 1px dotted black;border-radius: 0.25em;box-sizing: border-box;margin-bottom: 0.5em;}#sk-container-id-21 div.sk-estimator:hover {background-color: #d4ebff;}#sk-container-id-21 div.sk-parallel-item::after {content: \"\";width: 100%;border-bottom: 1px solid gray;flex-grow: 1;}#sk-container-id-21 div.sk-label:hover label.sk-toggleable__label {background-color: #d4ebff;}#sk-container-id-21 div.sk-serial::before {content: \"\";position: absolute;border-left: 1px solid gray;box-sizing: border-box;top: 0;bottom: 0;left: 50%;z-index: 0;}#sk-container-id-21 div.sk-serial {display: flex;flex-direction: column;align-items: center;background-color: white;padding-right: 0.2em;padding-left: 0.2em;position: relative;}#sk-container-id-21 div.sk-item {position: relative;z-index: 1;}#sk-container-id-21 div.sk-parallel {display: flex;align-items: stretch;justify-content: center;background-color: white;position: relative;}#sk-container-id-21 div.sk-item::before, #sk-container-id-21 div.sk-parallel-item::before {content: \"\";position: absolute;border-left: 1px solid gray;box-sizing: border-box;top: 0;bottom: 0;left: 50%;z-index: -1;}#sk-container-id-21 div.sk-parallel-item {display: flex;flex-direction: column;z-index: 1;position: relative;background-color: white;}#sk-container-id-21 div.sk-parallel-item:first-child::after {align-self: flex-end;width: 50%;}#sk-container-id-21 div.sk-parallel-item:last-child::after {align-self: flex-start;width: 50%;}#sk-container-id-21 div.sk-parallel-item:only-child::after {width: 0;}#sk-container-id-21 div.sk-dashed-wrapped {border: 1px dashed gray;margin: 0 0.4em 0.5em 0.4em;box-sizing: border-box;padding-bottom: 0.4em;background-color: white;}#sk-container-id-21 div.sk-label label {font-family: monospace;font-weight: bold;display: inline-block;line-height: 1.2em;}#sk-container-id-21 div.sk-label-container {text-align: center;}#sk-container-id-21 div.sk-container {/* jupyter's `normalize.less` sets `[hidden] { display: none; }` but bootstrap.min.css set `[hidden] { display: none !important; }` so we also need the `!important` here to be able to override the default hidden behavior on the sphinx rendered scikit-learn.org. See: https://github.com/scikit-learn/scikit-learn/issues/21755 */display: inline-block !important;position: relative;}#sk-container-id-21 div.sk-text-repr-fallback {display: none;}</style><div id=\"sk-container-id-21\" class=\"sk-top-container\"><div class=\"sk-text-repr-fallback\"><pre>LogisticRegression(C=1, max_iter=1000)</pre><b>In a Jupyter environment, please rerun this cell to show the HTML representation or trust the notebook. <br />On GitHub, the HTML representation is unable to render, please try loading this page with nbviewer.org.</b></div><div class=\"sk-container\" hidden><div class=\"sk-item\"><div class=\"sk-estimator sk-toggleable\"><input class=\"sk-toggleable__control sk-hidden--visually\" id=\"sk-estimator-id-41\" type=\"checkbox\" checked><label for=\"sk-estimator-id-41\" class=\"sk-toggleable__label sk-toggleable__label-arrow\">LogisticRegression</label><div class=\"sk-toggleable__content\"><pre>LogisticRegression(C=1, max_iter=1000)</pre></div></div></div></div></div>"
      ],
      "text/plain": [
       "LogisticRegression(C=1, max_iter=1000)"
      ]
     },
     "execution_count": 171,
     "metadata": {},
     "output_type": "execute_result"
    }
   ],
   "source": [
    "loaded_model"
   ]
  },
  {
   "cell_type": "markdown",
   "id": "3f26ac15",
   "metadata": {},
   "source": [
    "## Árbol de decisión"
   ]
  },
  {
   "cell_type": "code",
   "execution_count": 172,
   "id": "b17e40e9",
   "metadata": {
    "ExecuteTime": {
     "end_time": "2023-10-03T15:17:14.398781Z",
     "start_time": "2023-10-03T15:17:14.391307Z"
    }
   },
   "outputs": [],
   "source": []
  },
  {
   "cell_type": "code",
   "execution_count": 174,
   "id": "53f7af02",
   "metadata": {
    "ExecuteTime": {
     "end_time": "2023-10-03T15:19:09.616822Z",
     "start_time": "2023-10-03T15:19:09.611231Z"
    }
   },
   "outputs": [
    {
     "data": {
      "text/plain": [
       "(712, 6)"
      ]
     },
     "execution_count": 174,
     "metadata": {},
     "output_type": "execute_result"
    }
   ],
   "source": [
    "X_train.shape"
   ]
  },
  {
   "cell_type": "code",
   "execution_count": 173,
   "id": "64273a2b",
   "metadata": {
    "ExecuteTime": {
     "end_time": "2023-10-03T15:19:06.146652Z",
     "start_time": "2023-10-03T15:19:06.137181Z"
    }
   },
   "outputs": [
    {
     "data": {
      "text/plain": [
       "256"
      ]
     },
     "execution_count": 173,
     "metadata": {},
     "output_type": "execute_result"
    }
   ],
   "source": [
    "2 ** 8"
   ]
  },
  {
   "cell_type": "code",
   "execution_count": 175,
   "id": "f011975c",
   "metadata": {
    "ExecuteTime": {
     "end_time": "2023-10-03T15:20:21.498862Z",
     "start_time": "2023-10-03T15:20:19.794410Z"
    }
   },
   "outputs": [
    {
     "data": {
      "text/html": [
       "<style>#sk-container-id-22 {color: black;background-color: white;}#sk-container-id-22 pre{padding: 0;}#sk-container-id-22 div.sk-toggleable {background-color: white;}#sk-container-id-22 label.sk-toggleable__label {cursor: pointer;display: block;width: 100%;margin-bottom: 0;padding: 0.3em;box-sizing: border-box;text-align: center;}#sk-container-id-22 label.sk-toggleable__label-arrow:before {content: \"▸\";float: left;margin-right: 0.25em;color: #696969;}#sk-container-id-22 label.sk-toggleable__label-arrow:hover:before {color: black;}#sk-container-id-22 div.sk-estimator:hover label.sk-toggleable__label-arrow:before {color: black;}#sk-container-id-22 div.sk-toggleable__content {max-height: 0;max-width: 0;overflow: hidden;text-align: left;background-color: #f0f8ff;}#sk-container-id-22 div.sk-toggleable__content pre {margin: 0.2em;color: black;border-radius: 0.25em;background-color: #f0f8ff;}#sk-container-id-22 input.sk-toggleable__control:checked~div.sk-toggleable__content {max-height: 200px;max-width: 100%;overflow: auto;}#sk-container-id-22 input.sk-toggleable__control:checked~label.sk-toggleable__label-arrow:before {content: \"▾\";}#sk-container-id-22 div.sk-estimator input.sk-toggleable__control:checked~label.sk-toggleable__label {background-color: #d4ebff;}#sk-container-id-22 div.sk-label input.sk-toggleable__control:checked~label.sk-toggleable__label {background-color: #d4ebff;}#sk-container-id-22 input.sk-hidden--visually {border: 0;clip: rect(1px 1px 1px 1px);clip: rect(1px, 1px, 1px, 1px);height: 1px;margin: -1px;overflow: hidden;padding: 0;position: absolute;width: 1px;}#sk-container-id-22 div.sk-estimator {font-family: monospace;background-color: #f0f8ff;border: 1px dotted black;border-radius: 0.25em;box-sizing: border-box;margin-bottom: 0.5em;}#sk-container-id-22 div.sk-estimator:hover {background-color: #d4ebff;}#sk-container-id-22 div.sk-parallel-item::after {content: \"\";width: 100%;border-bottom: 1px solid gray;flex-grow: 1;}#sk-container-id-22 div.sk-label:hover label.sk-toggleable__label {background-color: #d4ebff;}#sk-container-id-22 div.sk-serial::before {content: \"\";position: absolute;border-left: 1px solid gray;box-sizing: border-box;top: 0;bottom: 0;left: 50%;z-index: 0;}#sk-container-id-22 div.sk-serial {display: flex;flex-direction: column;align-items: center;background-color: white;padding-right: 0.2em;padding-left: 0.2em;position: relative;}#sk-container-id-22 div.sk-item {position: relative;z-index: 1;}#sk-container-id-22 div.sk-parallel {display: flex;align-items: stretch;justify-content: center;background-color: white;position: relative;}#sk-container-id-22 div.sk-item::before, #sk-container-id-22 div.sk-parallel-item::before {content: \"\";position: absolute;border-left: 1px solid gray;box-sizing: border-box;top: 0;bottom: 0;left: 50%;z-index: -1;}#sk-container-id-22 div.sk-parallel-item {display: flex;flex-direction: column;z-index: 1;position: relative;background-color: white;}#sk-container-id-22 div.sk-parallel-item:first-child::after {align-self: flex-end;width: 50%;}#sk-container-id-22 div.sk-parallel-item:last-child::after {align-self: flex-start;width: 50%;}#sk-container-id-22 div.sk-parallel-item:only-child::after {width: 0;}#sk-container-id-22 div.sk-dashed-wrapped {border: 1px dashed gray;margin: 0 0.4em 0.5em 0.4em;box-sizing: border-box;padding-bottom: 0.4em;background-color: white;}#sk-container-id-22 div.sk-label label {font-family: monospace;font-weight: bold;display: inline-block;line-height: 1.2em;}#sk-container-id-22 div.sk-label-container {text-align: center;}#sk-container-id-22 div.sk-container {/* jupyter's `normalize.less` sets `[hidden] { display: none; }` but bootstrap.min.css set `[hidden] { display: none !important; }` so we also need the `!important` here to be able to override the default hidden behavior on the sphinx rendered scikit-learn.org. See: https://github.com/scikit-learn/scikit-learn/issues/21755 */display: inline-block !important;position: relative;}#sk-container-id-22 div.sk-text-repr-fallback {display: none;}</style><div id=\"sk-container-id-22\" class=\"sk-top-container\"><div class=\"sk-text-repr-fallback\"><pre>GridSearchCV(estimator=DecisionTreeClassifier(), n_jobs=6,\n",
       "             param_grid={&#x27;max_leaf_nodes&#x27;: [16, 64, 256],\n",
       "                         &#x27;min_samples_leaf&#x27;: [10, 20, 30]},\n",
       "             scoring=&#x27;f1&#x27;)</pre><b>In a Jupyter environment, please rerun this cell to show the HTML representation or trust the notebook. <br />On GitHub, the HTML representation is unable to render, please try loading this page with nbviewer.org.</b></div><div class=\"sk-container\" hidden><div class=\"sk-item sk-dashed-wrapped\"><div class=\"sk-label-container\"><div class=\"sk-label sk-toggleable\"><input class=\"sk-toggleable__control sk-hidden--visually\" id=\"sk-estimator-id-42\" type=\"checkbox\" ><label for=\"sk-estimator-id-42\" class=\"sk-toggleable__label sk-toggleable__label-arrow\">GridSearchCV</label><div class=\"sk-toggleable__content\"><pre>GridSearchCV(estimator=DecisionTreeClassifier(), n_jobs=6,\n",
       "             param_grid={&#x27;max_leaf_nodes&#x27;: [16, 64, 256],\n",
       "                         &#x27;min_samples_leaf&#x27;: [10, 20, 30]},\n",
       "             scoring=&#x27;f1&#x27;)</pre></div></div></div><div class=\"sk-parallel\"><div class=\"sk-parallel-item\"><div class=\"sk-item\"><div class=\"sk-label-container\"><div class=\"sk-label sk-toggleable\"><input class=\"sk-toggleable__control sk-hidden--visually\" id=\"sk-estimator-id-43\" type=\"checkbox\" ><label for=\"sk-estimator-id-43\" class=\"sk-toggleable__label sk-toggleable__label-arrow\">estimator: DecisionTreeClassifier</label><div class=\"sk-toggleable__content\"><pre>DecisionTreeClassifier()</pre></div></div></div><div class=\"sk-serial\"><div class=\"sk-item\"><div class=\"sk-estimator sk-toggleable\"><input class=\"sk-toggleable__control sk-hidden--visually\" id=\"sk-estimator-id-44\" type=\"checkbox\" ><label for=\"sk-estimator-id-44\" class=\"sk-toggleable__label sk-toggleable__label-arrow\">DecisionTreeClassifier</label><div class=\"sk-toggleable__content\"><pre>DecisionTreeClassifier()</pre></div></div></div></div></div></div></div></div></div></div>"
      ],
      "text/plain": [
       "GridSearchCV(estimator=DecisionTreeClassifier(), n_jobs=6,\n",
       "             param_grid={'max_leaf_nodes': [16, 64, 256],\n",
       "                         'min_samples_leaf': [10, 20, 30]},\n",
       "             scoring='f1')"
      ]
     },
     "execution_count": 175,
     "metadata": {},
     "output_type": "execute_result"
    }
   ],
   "source": [
    "from sklearn.tree import DecisionTreeClassifier\n",
    "\n",
    "param_grid = {\n",
    "    \"max_leaf_nodes\": [2 ** 4, 2 ** 6, 2 ** 8],\n",
    "    \"min_samples_leaf\": [10, 20, 30]\n",
    "}\n",
    "\n",
    "grid_search = GridSearchCV(estimator=DecisionTreeClassifier(),\n",
    "                           param_grid=param_grid,\n",
    "                           scoring='f1',\n",
    "                           n_jobs=6,\n",
    "                           refit=True)\n",
    "grid_search.fit(X_train, y_train)"
   ]
  },
  {
   "cell_type": "code",
   "execution_count": 176,
   "id": "eefae04a",
   "metadata": {
    "ExecuteTime": {
     "end_time": "2023-10-03T15:20:54.374274Z",
     "start_time": "2023-10-03T15:20:54.364003Z"
    }
   },
   "outputs": [
    {
     "data": {
      "text/plain": [
       "{'max_leaf_nodes': 16, 'min_samples_leaf': 10}"
      ]
     },
     "execution_count": 176,
     "metadata": {},
     "output_type": "execute_result"
    }
   ],
   "source": [
    "grid_search.best_params_"
   ]
  },
  {
   "cell_type": "code",
   "execution_count": 177,
   "id": "a30c2000",
   "metadata": {
    "ExecuteTime": {
     "end_time": "2023-10-03T15:21:07.901321Z",
     "start_time": "2023-10-03T15:21:07.889023Z"
    }
   },
   "outputs": [
    {
     "data": {
      "text/plain": [
       "0.7645535997256886"
      ]
     },
     "execution_count": 177,
     "metadata": {},
     "output_type": "execute_result"
    }
   ],
   "source": [
    "grid_search.best_score_"
   ]
  },
  {
   "cell_type": "code",
   "execution_count": 178,
   "id": "8b369480",
   "metadata": {
    "ExecuteTime": {
     "end_time": "2023-10-03T15:21:34.657212Z",
     "start_time": "2023-10-03T15:21:34.592438Z"
    }
   },
   "outputs": [
    {
     "name": "stdout",
     "output_type": "stream",
     "text": [
      "              precision    recall  f1-score   support\n",
      "\n",
      "           0       0.85      0.87      0.86       110\n",
      "           1       0.79      0.75      0.77        69\n",
      "\n",
      "    accuracy                           0.83       179\n",
      "   macro avg       0.82      0.81      0.82       179\n",
      "weighted avg       0.83      0.83      0.83       179\n",
      "\n",
      "Precission: 0.7878787878787878\n",
      "Recall: 0.7536231884057971\n",
      "F1-score: 0.7703703703703704\n"
     ]
    }
   ],
   "source": [
    "y_test_pred = grid_search.best_estimator_.predict(X_test)\n",
    "\n",
    "from sklearn.metrics import classification_report, f1_score\n",
    "from sklearn.metrics import precision_score, recall_score, f1_score\n",
    "\n",
    "print(classification_report(y_test, y_test_pred))\n",
    "print(\"Precission:\", precision_score(y_true=y_test, y_pred=y_test_pred))\n",
    "print(\"Recall:\", recall_score(y_true=y_test, y_pred=y_test_pred))\n",
    "print(\"F1-score:\", f1_score(y_true=y_test, y_pred=y_test_pred))"
   ]
  },
  {
   "cell_type": "code",
   "execution_count": 179,
   "id": "c1cd9a90",
   "metadata": {
    "ExecuteTime": {
     "end_time": "2023-10-03T15:22:21.467988Z",
     "start_time": "2023-10-03T15:22:21.458651Z"
    }
   },
   "outputs": [],
   "source": [
    "y_test_pred_proba = grid_search.best_estimator_.predict_proba(X_test)[:, 1]"
   ]
  },
  {
   "cell_type": "code",
   "execution_count": 180,
   "id": "b5f77a89",
   "metadata": {
    "ExecuteTime": {
     "end_time": "2023-10-03T15:23:09.095912Z",
     "start_time": "2023-10-03T15:23:09.070504Z"
    }
   },
   "outputs": [
    {
     "name": "stdout",
     "output_type": "stream",
     "text": [
      "Precission: 0.7878787878787878\n",
      "Recall: 0.7536231884057971\n",
      "F1-score: 0.7703703703703704\n"
     ]
    }
   ],
   "source": [
    "THRESHOLD = 0.5\n",
    "\n",
    "pred = (y_test_pred_proba > THRESHOLD).astype('int')\n",
    "print(\"Precission:\", precision_score(y_true=y_test, y_pred=pred))\n",
    "print(\"Recall:\", recall_score(y_true=y_test, y_pred=pred))\n",
    "print(\"F1-score:\", f1_score(y_true=y_test, y_pred=pred))"
   ]
  },
  {
   "cell_type": "code",
   "execution_count": 181,
   "id": "2015624a",
   "metadata": {
    "ExecuteTime": {
     "end_time": "2023-10-03T15:23:17.796728Z",
     "start_time": "2023-10-03T15:23:17.753284Z"
    }
   },
   "outputs": [
    {
     "name": "stdout",
     "output_type": "stream",
     "text": [
      "Precission: 0.9743589743589743\n",
      "Recall: 0.5507246376811594\n",
      "F1-score: 0.7037037037037037\n"
     ]
    }
   ],
   "source": [
    "THRESHOLD = 0.7\n",
    "\n",
    "pred = (y_test_pred_proba > THRESHOLD).astype('int')\n",
    "print(\"Precission:\", precision_score(y_true=y_test, y_pred=pred))\n",
    "print(\"Recall:\", recall_score(y_true=y_test, y_pred=pred))\n",
    "print(\"F1-score:\", f1_score(y_true=y_test, y_pred=pred))"
   ]
  },
  {
   "cell_type": "code",
   "execution_count": 182,
   "id": "3794303f",
   "metadata": {
    "ExecuteTime": {
     "end_time": "2023-10-03T15:23:34.516068Z",
     "start_time": "2023-10-03T15:23:34.495375Z"
    },
    "scrolled": true
   },
   "outputs": [
    {
     "name": "stdout",
     "output_type": "stream",
     "text": [
      "Precission: 0.6923076923076923\n",
      "Recall: 0.9130434782608695\n",
      "F1-score: 0.7875\n"
     ]
    }
   ],
   "source": [
    "THRESHOLD = 0.3\n",
    "\n",
    "pred = (y_test_pred_proba > THRESHOLD).astype('int')\n",
    "print(\"Precission:\", precision_score(y_true=y_test, y_pred=pred))\n",
    "print(\"Recall:\", recall_score(y_true=y_test, y_pred=pred))\n",
    "print(\"F1-score:\", f1_score(y_true=y_test, y_pred=pred))"
   ]
  },
  {
   "cell_type": "code",
   "execution_count": 207,
   "id": "c4fa9377",
   "metadata": {
    "ExecuteTime": {
     "end_time": "2023-10-03T15:40:17.539377Z",
     "start_time": "2023-10-03T15:40:17.515650Z"
    }
   },
   "outputs": [
    {
     "name": "stdout",
     "output_type": "stream",
     "text": [
      "Precission: 0.40350877192982454\n",
      "Recall: 1.0\n",
      "F1-score: 0.575\n"
     ]
    }
   ],
   "source": [
    "THRESHOLD = 0.0\n",
    "\n",
    "pred = (y_test_pred_proba > THRESHOLD).astype('int')\n",
    "print(\"Precission:\", precision_score(y_true=y_test, y_pred=pred))\n",
    "print(\"Recall:\", recall_score(y_true=y_test, y_pred=pred))\n",
    "print(\"F1-score:\", f1_score(y_true=y_test, y_pred=pred))"
   ]
  },
  {
   "cell_type": "code",
   "execution_count": 208,
   "id": "d0de95a2",
   "metadata": {
    "ExecuteTime": {
     "end_time": "2023-10-03T15:40:47.428487Z",
     "start_time": "2023-10-03T15:40:47.409186Z"
    }
   },
   "outputs": [
    {
     "name": "stdout",
     "output_type": "stream",
     "text": [
      "Precission: 0.0\n",
      "Recall: 0.0\n",
      "F1-score: 0.0\n"
     ]
    },
    {
     "name": "stderr",
     "output_type": "stream",
     "text": [
      "/home/infinitemonkeys/anaconda3/lib/python3.9/site-packages/sklearn/metrics/_classification.py:1334: UndefinedMetricWarning: Precision is ill-defined and being set to 0.0 due to no predicted samples. Use `zero_division` parameter to control this behavior.\n",
      "  _warn_prf(average, modifier, msg_start, len(result))\n"
     ]
    }
   ],
   "source": [
    "THRESHOLD = 1.0\n",
    "\n",
    "pred = (y_test_pred_proba > THRESHOLD).astype('int')\n",
    "print(\"Precission:\", precision_score(y_true=y_test, y_pred=pred))\n",
    "print(\"Recall:\", recall_score(y_true=y_test, y_pred=pred))\n",
    "print(\"F1-score:\", f1_score(y_true=y_test, y_pred=pred))"
   ]
  },
  {
   "cell_type": "markdown",
   "id": "a9bfa91b",
   "metadata": {},
   "source": [
    "Seleccionamos el umbral que optimiza f1"
   ]
  },
  {
   "cell_type": "code",
   "execution_count": 190,
   "id": "abad2f40",
   "metadata": {
    "ExecuteTime": {
     "end_time": "2023-10-03T15:26:35.115204Z",
     "start_time": "2023-10-03T15:26:35.041263Z"
    }
   },
   "outputs": [],
   "source": [
    "threshold_list = np.linspace(0, 1, 21)[1:-1]\n",
    "test_f1_score_list = []\n",
    "\n",
    "for threshold in threshold_list:\n",
    "    pred = (y_test_pred_proba > threshold).astype('int')\n",
    "    metric = f1_score(y_true=y_test, y_pred=pred)\n",
    "    test_f1_score_list.append(metric)"
   ]
  },
  {
   "cell_type": "code",
   "execution_count": 195,
   "id": "5f49d70f",
   "metadata": {
    "ExecuteTime": {
     "end_time": "2023-10-03T15:28:07.483507Z",
     "start_time": "2023-10-03T15:28:07.475311Z"
    }
   },
   "outputs": [
    {
     "data": {
      "text/plain": [
       "array([0.05, 0.1 , 0.15, 0.2 , 0.25, 0.3 , 0.35, 0.4 , 0.45, 0.5 , 0.55,\n",
       "       0.6 , 0.65, 0.7 , 0.75, 0.8 , 0.85, 0.9 , 0.95])"
      ]
     },
     "execution_count": 195,
     "metadata": {},
     "output_type": "execute_result"
    }
   ],
   "source": [
    "threshold_list"
   ]
  },
  {
   "cell_type": "code",
   "execution_count": 191,
   "id": "a0124e24",
   "metadata": {
    "ExecuteTime": {
     "end_time": "2023-10-03T15:26:37.071338Z",
     "start_time": "2023-10-03T15:26:37.061140Z"
    }
   },
   "outputs": [
    {
     "data": {
      "text/plain": [
       "[0.5787234042553191,\n",
       " 0.5938864628820961,\n",
       " 0.7804878048780488,\n",
       " 0.7777777777777777,\n",
       " 0.7875,\n",
       " 0.7875,\n",
       " 0.786206896551724,\n",
       " 0.7703703703703704,\n",
       " 0.7703703703703704,\n",
       " 0.7703703703703704,\n",
       " 0.7703703703703704,\n",
       " 0.7107438016528926,\n",
       " 0.7107438016528926,\n",
       " 0.7037037037037037,\n",
       " 0.7037037037037037,\n",
       " 0.6915887850467289,\n",
       " 0.6915887850467289,\n",
       " 0.5567010309278351,\n",
       " 0.5567010309278351]"
      ]
     },
     "execution_count": 191,
     "metadata": {},
     "output_type": "execute_result"
    }
   ],
   "source": [
    "test_f1_score_list"
   ]
  },
  {
   "cell_type": "code",
   "execution_count": 200,
   "id": "ec142c52",
   "metadata": {
    "ExecuteTime": {
     "end_time": "2023-10-03T15:30:24.204524Z",
     "start_time": "2023-10-03T15:30:24.200870Z"
    }
   },
   "outputs": [],
   "source": [
    "def moving_average(x, w):\n",
    "    return np.convolve(x, np.ones(w), 'same') / w\n",
    "\n",
    "smoothed_test_f1_score_arr = moving_average(test_f1_score_list, 3)\n",
    "smoothed_test_f1_score_arr"
   ]
  },
  {
   "cell_type": "code",
   "execution_count": 202,
   "id": "2398bf02",
   "metadata": {
    "ExecuteTime": {
     "end_time": "2023-10-03T15:30:27.055408Z",
     "start_time": "2023-10-03T15:30:27.046747Z"
    }
   },
   "outputs": [
    {
     "data": {
      "text/plain": [
       "4"
      ]
     },
     "execution_count": 202,
     "metadata": {},
     "output_type": "execute_result"
    }
   ],
   "source": [
    "np.argmax(test_f1_score_list)"
   ]
  },
  {
   "cell_type": "code",
   "execution_count": 203,
   "id": "8e2a1501",
   "metadata": {
    "ExecuteTime": {
     "end_time": "2023-10-03T15:30:27.285877Z",
     "start_time": "2023-10-03T15:30:27.279521Z"
    }
   },
   "outputs": [
    {
     "data": {
      "text/plain": [
       "0.25"
      ]
     },
     "execution_count": 203,
     "metadata": {},
     "output_type": "execute_result"
    }
   ],
   "source": [
    "threshold_list[np.argmax(test_f1_score_list)]"
   ]
  },
  {
   "cell_type": "code",
   "execution_count": 206,
   "id": "80681258",
   "metadata": {
    "ExecuteTime": {
     "end_time": "2023-10-03T15:32:14.481243Z",
     "start_time": "2023-10-03T15:32:14.469542Z"
    }
   },
   "outputs": [
    {
     "data": {
      "text/plain": [
       "0.30000000000000004"
      ]
     },
     "execution_count": 206,
     "metadata": {},
     "output_type": "execute_result"
    }
   ],
   "source": [
    "optimal_threshold = threshold_list[np.argmax(smoothed_test_f1_score_arr)]\n",
    "optimal_threshold"
   ]
  },
  {
   "cell_type": "code",
   "execution_count": 204,
   "id": "db5efaf6",
   "metadata": {
    "ExecuteTime": {
     "end_time": "2023-10-03T15:30:27.841413Z",
     "start_time": "2023-10-03T15:30:27.741127Z"
    }
   },
   "outputs": [
    {
     "data": {
      "image/png": "[encoded data removed]",
      "text/plain": [
       "<Figure size 640x480 with 1 Axes>"
      ]
     },
     "metadata": {},
     "output_type": "display_data"
    }
   ],
   "source": [
    "plt.plot(threshold_list, test_f1_score_list, 'x-');\n",
    "plt.plot(threshold_list, smoothed_test_f1_score_arr, 'x-');"
   ]
  },
  {
   "cell_type": "markdown",
   "id": "2a8af9d9",
   "metadata": {},
   "source": [
    "**Buscar qué umbral mínimo tiene una precission de más del 80 %**"
   ]
  },
  {
   "cell_type": "code",
   "execution_count": 209,
   "id": "fb4e8e82",
   "metadata": {
    "ExecuteTime": {
     "end_time": "2023-10-03T15:44:01.195137Z",
     "start_time": "2023-10-03T15:44:01.150243Z"
    }
   },
   "outputs": [
    {
     "data": {
      "text/plain": [
       "(0.6000000000000001, 0.8269230769230769)"
      ]
     },
     "execution_count": 209,
     "metadata": {},
     "output_type": "execute_result"
    }
   ],
   "source": [
    "threshold_list = np.linspace(0, 1, 21)[1:-1]\n",
    "test_precission_score_list = []\n",
    "\n",
    "NEEDED_METRIC = 0.8\n",
    "\n",
    "for threshold in threshold_list:\n",
    "    pred = (y_test_pred_proba > threshold).astype('int')\n",
    "    metric = precision_score(y_true=y_test, y_pred=pred)\n",
    "    test_precission_score_list.append(metric)\n",
    "    if metric >= NEEDED_METRIC:\n",
    "        break\n",
    "threshold, metric"
   ]
  },
  {
   "cell_type": "markdown",
   "id": "d9cccd9b",
   "metadata": {},
   "source": [
    "**Buscar qué umbral máximo tiene un recall de más del 60 %**"
   ]
  },
  {
   "cell_type": "code",
   "execution_count": 212,
   "id": "74e387ca",
   "metadata": {
    "ExecuteTime": {
     "end_time": "2023-10-03T15:45:15.989223Z",
     "start_time": "2023-10-03T15:45:15.943804Z"
    }
   },
   "outputs": [
    {
     "data": {
      "text/plain": [
       "(0.65, 0.6231884057971014)"
      ]
     },
     "execution_count": 212,
     "metadata": {},
     "output_type": "execute_result"
    }
   ],
   "source": [
    "threshold_list = np.linspace(0, 1, 21)[1:-1][::-1]\n",
    "test_precission_score_list = []\n",
    "\n",
    "NEEDED_METRIC = 0.6\n",
    "\n",
    "for threshold in threshold_list:\n",
    "    pred = (y_test_pred_proba > threshold).astype('int')\n",
    "    metric = recall_score(y_true=y_test, y_pred=pred)\n",
    "    test_precission_score_list.append(metric)\n",
    "    if metric >= NEEDED_METRIC:\n",
    "        break\n",
    "threshold, metric"
   ]
  },
  {
   "cell_type": "markdown",
   "id": "22871865",
   "metadata": {},
   "source": [
    "# Resumen proceso de aprendizaje automático supervisado\n",
    "\n",
    "1. EDA\n",
    "2. Ingeniería de atributos\n",
    "3. EDA\n",
    "4. Selección atributos para el modelo que tengan sentido\n",
    "5. GridSearchCV con varios modelos (regresión logística y árbol de decisión)\n",
    "6. Elegir el que tiene mejor best_core_ en el proceso anterior.\n",
    "7. Calcular la métrica de error en test\n",
    "8. Seleccionar un umbral operativo para mi toma de decisión usando el modelo, basándonos en:\n",
    "    - Maximización de F1\n",
    "    - Búsqueda del umbral mínimo que permite una precission mínima requerida\n",
    "    - Búsqueda del umbral máximo que permite un recall mínimo requerido\n",
    "9. Guardar el modelo\n",
    "10. Buscar activaciones útiles basadas en una aplicación que integrase el modelo\n",
    "\n",
    "\n",
    "NOTAS:\n",
    "- El paso 4 y 5 se puede realizar múltiples ocasiones\n",
    "- El paso 10, ya tenías una noción antes de comenzar todo el proceso, si no, ¿ para qué estás haciendo el modelo?"
   ]
  },
  {
   "cell_type": "markdown",
   "id": "0c72ccd7",
   "metadata": {},
   "source": [
    "Modelos vistos:\n",
    "\n",
    "- Regresión:\n",
    "    - Ridge\n",
    "    - DecisionTreeRegressor\n",
    "- Clasificación:\n",
    "    - LogisticRegression\n",
    "    - DecisionTreeClassifier"
   ]
  },
  {
   "cell_type": "code",
   "execution_count": null,
   "id": "31d8fc9a",
   "metadata": {},
   "outputs": [],
   "source": []
  }
 ],
 "metadata": {
  "kernelspec": {
   "display_name": "Python 3 (ipykernel)",
   "language": "python",
   "name": "python3"
  },
  "language_info": {
   "codemirror_mode": {
    "name": "ipython",
    "version": 3
   },
   "file_extension": ".py",
   "mimetype": "text/x-python",
   "name": "python",
   "nbconvert_exporter": "python",
   "pygments_lexer": "ipython3",
   "version": "3.9.13"
  },
  "toc": {
   "base_numbering": 1,
   "nav_menu": {},
   "number_sections": true,
   "sideBar": true,
   "skip_h1_title": false,
   "title_cell": "Table of Contents",
   "title_sidebar": "Contents",
   "toc_cell": false,
   "toc_position": {
    "height": "calc(100% - 180px)",
    "left": "10px",
    "top": "150px",
    "width": "247.198px"
   },
   "toc_section_display": true,
   "toc_window_display": true
  }
 },
 "nbformat": 4,
 "nbformat_minor": 5
}
