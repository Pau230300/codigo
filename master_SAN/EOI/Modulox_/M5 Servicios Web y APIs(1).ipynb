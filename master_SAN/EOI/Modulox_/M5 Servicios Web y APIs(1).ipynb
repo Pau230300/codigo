{
 "cells": [
  {
   "cell_type": "markdown",
   "metadata": {},
   "source": [
    "# Servicios Web y APIs "
   ]
  },
  {
   "cell_type": "markdown",
   "metadata": {},
   "source": [
    "## Índice\n",
    "1. [API Air Quality](#air)\n",
    "2. [API de OpenWeather](#wea)"
   ]
  },
  {
   "cell_type": "markdown",
   "metadata": {},
   "source": [
    "En este Notebook vamos a llamar a diversas APIs. Antes de comenzar, es importante destacar dos conceptos:  \n",
    "\n",
    "1) **Codificación de URLs**: Toda cadena de cadena de caracteres que se introduzca en una URL tiene que codificarse adecuadamente. En Python, podemos utilizar la función `quote()` del paquete `urllib.parse`"
   ]
  },
  {
   "cell_type": "code",
   "execution_count": 3,
   "metadata": {},
   "outputs": [
    {
     "data": {
      "text/plain": [
       "'La%20Coru%C3%B1a%20%20%20%20%20%20Paula'"
      ]
     },
     "execution_count": 3,
     "metadata": {},
     "output_type": "execute_result"
    }
   ],
   "source": [
    "import urllib.parse\n",
    "urllib.parse.quote('La Coruña      Paula')"
   ]
  },
  {
   "cell_type": "markdown",
   "metadata": {},
   "source": [
    "2) **Peticiones HTTP**: la librería `requests` es la más utilizada para realizar peticiones HTTP en Python, permitiendo utilizar los métodos más comunes de este protocolo (GET, POST, PUT, etc.). Para más información entra en este [enlace](https://realpython.com/python-requests/)\n",
    "\n",
    "También podemos utilizar la librería `urllib.request`"
   ]
  },
  {
   "cell_type": "markdown",
   "metadata": {},
   "source": [
    "<a id=\"air\"></a>\n",
    "## API Air Quality"
   ]
  },
  {
   "cell_type": "markdown",
   "metadata": {},
   "source": [
    "Esta API abierta proporciona información acerca de la calidad del aire en diversas ciudades. La documentación se encuentra en https://docs.openaq.org  \n",
    "\n",
    "En primer lugar vamos a llamar a la API **cities**, la cual nos informa de las ciudades disponibles"
   ]
  },
  {
   "cell_type": "code",
   "execution_count": 43,
   "metadata": {
    "scrolled": true
   },
   "outputs": [
    {
     "name": "stdout",
     "output_type": "stream",
     "text": [
      "A Coruña\n",
      "Agullana\n",
      "Alcanar\n",
      "Alicante/Alacant\n",
      "Almería\n",
      "Amposta\n",
      "Araba/Álava\n"
     ]
    }
   ],
   "source": [
    "import urllib.request\n",
    "import json\n",
    "\n",
    "url1 = 'https://api.openaq.org/v2/cities'\n",
    "#pais = input('Introduzca las siglas del pais')\n",
    "url2 = url1 + '?country=' + pais\n",
    "\n",
    "datos = urllib.request.urlopen(url1).read().decode()\n",
    "\n",
    "js = json.loads(datos)\n",
    "\n",
    "\n",
    "for item in js['results'] :\n",
    "      if item['country']=='ES':\n",
    "            city = item['city']\n",
    "            print(city)"
   ]
  },
  {
   "cell_type": "markdown",
   "metadata": {},
   "source": [
    "Esto mismo podemos realizarlo con la librería `requests`"
   ]
  },
  {
   "cell_type": "markdown",
   "metadata": {},
   "source": [
    "A continuación, llamamos a la API **latest**, que devuelve los últimos registros de una ciudad o país en concreto"
   ]
  },
  {
   "cell_type": "code",
   "execution_count": 47,
   "metadata": {},
   "outputs": [
    {
     "name": "stdout",
     "output_type": "stream",
     "text": [
      "{\"meta\":{\"name\":\"openaq-api\",\"license\":\"\",\"website\":\"/\",\"page\":1,\"limit\":1,\"found\":46141},\"results\":[{\"location\":\"LA BOCA\",\"city\":\"Buenos Aires\",\"country\":\"AR\",\"coordinates\":{\"latitude\":-34.62527,\"longitude\":-58.365550000000006},\"measurements\":[{\"parameter\":\"pm10\",\"value\":18.0,\"lastUpdated\":\"2023-09-11T03:00:00+00:00\",\"unit\":\"µg/m³\"},{\"parameter\":\"co\",\"value\":0.0,\"lastUpdated\":\"2023-09-11T03:00:00+00:00\",\"unit\":\"ppm\"},{\"parameter\":\"no2\",\"value\":0.046,\"lastUpdated\":\"2023-09-11T03:00:00+00:00\",\"unit\":\"ppm\"}]}]}\n"
     ]
    }
   ],
   "source": [
    "#ciudad = input('ciudad')\n",
    "ciudad = 'Madrid'\n",
    "url = 'https://api.openaq.org/v2/latest'\n",
    "url2 = url + '?limit=1&city' + ciudad\n",
    "\n",
    "datos = urllib.request.urlopen(url2).read().decode()\n",
    "print(datos)"
   ]
  },
  {
   "cell_type": "markdown",
   "metadata": {},
   "source": [
    "Parseamos el JSON de respuesta para obtener todos los niveles disponibles y la fecha de las mediciones"
   ]
  },
  {
   "cell_type": "code",
   "execution_count": 51,
   "metadata": {},
   "outputs": [
    {
     "name": "stdout",
     "output_type": "stream",
     "text": [
      "El valor de pm10 en Madrid  es de 18.0 µg/m³ Registrado el 2023-09-11T03:00:00+00:00\n",
      "El valor de co en Madrid  es de 0.0 ppm Registrado el 2023-09-11T03:00:00+00:00\n",
      "El valor de no2 en Madrid  es de 0.046 ppm Registrado el 2023-09-11T03:00:00+00:00\n"
     ]
    }
   ],
   "source": [
    "js = json.loads(datos)\n",
    "\n",
    "for item in js['results'][0]['measurements']:\n",
    "    parametro = item['parameter']\n",
    "    valor = item['value']\n",
    "    unidades = item['unit']\n",
    "    fecha = item['lastUpdated']\n",
    "\n",
    "    print('El valor de', parametro,'en',ciudad,' es de', valor,unidades, 'Registrado el', fecha)"
   ]
  },
  {
   "cell_type": "markdown",
   "metadata": {},
   "source": [
    "<a id=\"wea\"></a>\n",
    "## API de OpenWeather"
   ]
  },
  {
   "cell_type": "markdown",
   "metadata": {},
   "source": [
    "Esta API permite obtener información climática. Puedes encontrar la documentación en https://openweathermap.org/api.   \n",
    "Para obtener la API key hay que registrar un email válido, al cual será enviada la clave.  \n",
    "\n",
    "Vamos a obtener la predicción de velocidad del viento para una ciudad a través de [esta API](https://openweathermap.org/forecast5)"
   ]
  },
  {
   "cell_type": "code",
   "execution_count": 57,
   "metadata": {
    "scrolled": true
   },
   "outputs": [
    {
     "data": {
      "text/plain": [
       "'https://api.openweathermap.org/data/2.5/forecast?lat=47.6&lon=45.3&appid=3886d5996f84c5b9a5c953b027fc2306'"
      ]
     },
     "execution_count": 57,
     "metadata": {},
     "output_type": "execute_result"
    }
   ],
   "source": [
    "\n",
    "import urllib.request\n",
    "import json\n",
    "\n",
    "api_key = '3886d5996f84c5b9a5c953b027fc2306'\n",
    "latitud = str(47.6)\n",
    "longitud=  str(45.3)\n",
    "\n",
    "url = 'https://api.openweathermap.org/data/2.5/forecast?lat=' + latitud + '&lon=' +longitud+'&appid='+api_key\n",
    "url"
   ]
  },
  {
   "cell_type": "code",
   "execution_count": 71,
   "metadata": {},
   "outputs": [
    {
     "data": {
      "text/plain": [
       "40"
      ]
     },
     "execution_count": 71,
     "metadata": {},
     "output_type": "execute_result"
    }
   ],
   "source": [
    "data = urllib.request.urlopen(url).read().decode()\n",
    "data\n",
    "\n",
    "js = json.loads(data)\n",
    "lista_fechas = []\n",
    "lista_vientos = []\n",
    "\n",
    "for item in js['list']:\n",
    "    lista_vientos.append(item['wind']['speed'])\n",
    "    lista_fechas.append(item['dt_txt'])"
   ]
  },
  {
   "cell_type": "code",
   "execution_count": 99,
   "metadata": {},
   "outputs": [
    {
     "data": {
      "text/plain": [
       "['2023-09-10 15:00:00', '2023-09-10 18:00:00']"
      ]
     },
     "execution_count": 99,
     "metadata": {},
     "output_type": "execute_result"
    }
   ],
   "source": [
    "lista_fechas[:2]"
   ]
  },
  {
   "cell_type": "code",
   "execution_count": 108,
   "metadata": {},
   "outputs": [
    {
     "data": {
      "text/plain": [
       "(['2023-09-10 15:00:00',\n",
       "  '2023-09-10 21:00:00',\n",
       "  '2023-09-11 03:00:00',\n",
       "  '2023-09-11 09:00:00',\n",
       "  '2023-09-11 15:00:00',\n",
       "  '2023-09-11 21:00:00',\n",
       "  '2023-09-12 03:00:00',\n",
       "  '2023-09-12 09:00:00',\n",
       "  '2023-09-12 15:00:00',\n",
       "  '2023-09-12 21:00:00',\n",
       "  '2023-09-13 03:00:00',\n",
       "  '2023-09-13 09:00:00',\n",
       "  '2023-09-13 15:00:00',\n",
       "  '2023-09-13 21:00:00',\n",
       "  '2023-09-14 03:00:00',\n",
       "  '2023-09-14 09:00:00',\n",
       "  '2023-09-14 15:00:00',\n",
       "  '2023-09-14 21:00:00',\n",
       "  '2023-09-15 03:00:00',\n",
       "  '2023-09-15 09:00:00'],\n",
       " [0, 2, 4, 6, 8, 10, 12, 14, 16, 18, 20, 22, 24, 26, 28, 30, 32, 34, 36, 38])"
      ]
     },
     "execution_count": 108,
     "metadata": {},
     "output_type": "execute_result"
    }
   ],
   "source": [
    "list_fechas_red = []\n",
    "lista_num_pares = []\n",
    "for n in range(20):\n",
    "    lista_num_pares.append(2*n)\n",
    "\n",
    "for i in lista_num_pares:\n",
    "    list_fechas_red.append(lista_fechas[i])\n",
    "list_fechas_red,lista_num_pares"
   ]
  },
  {
   "cell_type": "code",
   "execution_count": 2,
   "metadata": {},
   "outputs": [
    {
     "ename": "ModuleNotFoundError",
     "evalue": "No module named 'matplotlib'",
     "output_type": "error",
     "traceback": [
      "\u001b[0;31m---------------------------------------------------------------------------\u001b[0m",
      "\u001b[0;31mModuleNotFoundError\u001b[0m                       Traceback (most recent call last)",
      "Cell \u001b[0;32mIn[2], line 1\u001b[0m\n\u001b[0;32m----> 1\u001b[0m \u001b[39mimport\u001b[39;00m \u001b[39mmatplotlib\u001b[39;00m \u001b[39mas\u001b[39;00m \u001b[39mplt\u001b[39;00m\n",
      "\u001b[0;31mModuleNotFoundError\u001b[0m: No module named 'matplotlib'"
     ]
    }
   ],
   "source": [
    "import matplotlib as plt"
   ]
  },
  {
   "cell_type": "code",
   "execution_count": null,
   "metadata": {},
   "outputs": [
    {
     "data": {
      "image/png": "[encoded data removed]",
      "text/plain": [
       "<Figure size 864x576 with 1 Axes>"
      ]
     },
     "metadata": {
      "needs_background": "light"
     },
     "output_type": "display_data"
    }
   ],
   "source": [
    "import matplotlib.pyplot as plt\n",
    "\n",
    "plt.figure(figsize=(12,8))   \n",
    "plt.plot(lista_fechas,lista_vientos, '*r-')\n",
    "plt.xticks(rotation=70, ticks = list_fechas_red , labels = list_fechas_red )\n",
    "\n",
    "plt.show()"
   ]
  }
 ],
 "metadata": {
  "kernelspec": {
   "display_name": "Python 3 (ipykernel)",
   "language": "python",
   "name": "python3"
  },
  "language_info": {
   "codemirror_mode": {
    "name": "ipython",
    "version": 3
   },
   "file_extension": ".py",
   "mimetype": "text/x-python",
   "name": "python",
   "nbconvert_exporter": "python",
   "pygments_lexer": "ipython3",
   "version": "3.9.6"
  }
 },
 "nbformat": 4,
 "nbformat_minor": 2
}
